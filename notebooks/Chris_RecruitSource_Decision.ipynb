{
 "cells": [
  {
   "cell_type": "markdown",
   "id": "974936ae-7ea5-439e-bcae-699515890e43",
   "metadata": {},
   "source": [
    "## SIADS Milestone I: CFB Analysis\n",
    "\n",
    "#### The goal of this notebook is to understand where the most talented recruits come from, and where they choose to go to school.\n",
    "\n",
    "--\n",
    "##### Notebook Outline:\n",
    "\n",
    "1) Read in the teams dataset from the API (including the coordinates of the school).\n",
    "2) Read in Recruit Dataset (where 1 row is one recruit)\n",
    "3) Join on the School column\n",
    "4) Create two datasets:\n",
    "* One that shows where the recruit is from\n",
    "* One that shows where the recruit went to school.\n",
    "5) Create two maps showing distribution of talent: hometown vs school they committed to\n",
    "\n",
    "\n",
    "\n"
   ]
  },
  {
   "cell_type": "code",
   "execution_count": 1,
   "id": "1ce67680-7445-48f3-b1a3-6271e86d54c2",
   "metadata": {},
   "outputs": [],
   "source": [
    "# Uncomment and run line below if cfbd library isn't already installed\n",
    "#! pip install cfbd\n",
    "\n",
    "import cfbd\n",
    "import numpy as np\n",
    "import pandas as pd\n",
    "import altair as alt\n",
    "import cfbd\n",
    "\n",
    "pd.set_option('display.max_columns', None)"
   ]
  },
  {
   "cell_type": "markdown",
   "id": "69a87bf6-04ea-41c4-b3fe-bf9807837d9a",
   "metadata": {},
   "source": [
    "#### Read in Teams dataset from API"
   ]
  },
  {
   "cell_type": "code",
   "execution_count": 2,
   "id": "ca874725-f41b-45ac-8d8d-38591b6acc81",
   "metadata": {},
   "outputs": [],
   "source": [
    "# Get the teams dataset straight form the api\n",
    "# The CSV version of the url was corrupted\n",
    "\n",
    "import config\n",
    "api_key = config.api_key\n",
    "\n",
    "def api_setup(api_key):\n",
    "\n",
    "    \"\"\"\n",
    "    Configure the api. \n",
    "    Only input is the apikey which can be created from the link above.\n",
    "    \"\"\"\n",
    "    import cfbd\n",
    "    \n",
    "    configuration = cfbd.Configuration()\n",
    "    configuration.api_key['Authorization'] = api_key\n",
    "    configuration.api_key_prefix['Authorization'] = 'Bearer'\n",
    "\n",
    "    return cfbd.ApiClient(configuration)\n",
    "    \n",
    "api_config = api_setup(api_key)\n",
    "\n",
    "def team_dataset():\n",
    "\n",
    "    teams_api = cfbd.TeamsApi(api_config)\n",
    "    teams = teams_api.get_fbs_teams()\n",
    "\n",
    "    df_teams = pd.DataFrame.from_records([t.to_dict() for t in teams])\n",
    "    \n",
    "    # Extract coordinates from dict columns\n",
    "    df_teams['latitude_school'] = df_teams['location'].apply(lambda x: x.get('latitude'))\n",
    "    df_teams['longitude_school'] = df_teams['location'].apply(lambda x: x.get('longitude'))\n",
    "    \n",
    "    df_teams = df_teams[['id', 'school', 'conference', 'division', 'color', 'logos', 'latitude_school', 'longitude_school']]\n",
    "    \n",
    "    return df_teams\n",
    "\n",
    "df_teams = team_dataset()\n",
    "\n",
    "# Remove brackets around image url\n",
    "df_teams['logos'] = df_teams['logos'].str.get(0)"
   ]
  },
  {
   "cell_type": "markdown",
   "id": "a68874f9-3d25-40f7-8ccd-1b5d70de1f4e",
   "metadata": {},
   "source": [
    "#### Read in recruit dataset"
   ]
  },
  {
   "cell_type": "code",
   "execution_count": 3,
   "id": "cfd69fd2-1fa5-4099-ae4b-8db13545b3c8",
   "metadata": {},
   "outputs": [],
   "source": [
    "df_recruits = pd.read_csv('../data/recruits.csv')"
   ]
  },
  {
   "cell_type": "markdown",
   "id": "e968ca14-8ac9-496b-aeb2-85dc24afb173",
   "metadata": {},
   "source": [
    "#### Merge two datasets together based on the school the recruit went to"
   ]
  },
  {
   "cell_type": "code",
   "execution_count": 4,
   "id": "d4a928b8-e5a7-4bf8-969c-f2b6d42801cb",
   "metadata": {},
   "outputs": [
    {
     "data": {
      "text/html": [
       "<div>\n",
       "<style scoped>\n",
       "    .dataframe tbody tr th:only-of-type {\n",
       "        vertical-align: middle;\n",
       "    }\n",
       "\n",
       "    .dataframe tbody tr th {\n",
       "        vertical-align: top;\n",
       "    }\n",
       "\n",
       "    .dataframe thead th {\n",
       "        text-align: right;\n",
       "    }\n",
       "</style>\n",
       "<table border=\"1\" class=\"dataframe\">\n",
       "  <thead>\n",
       "    <tr style=\"text-align: right;\">\n",
       "      <th></th>\n",
       "      <th>year</th>\n",
       "      <th>ranking</th>\n",
       "      <th>name</th>\n",
       "      <th>committed_to</th>\n",
       "      <th>position</th>\n",
       "      <th>height</th>\n",
       "      <th>weight</th>\n",
       "      <th>stars</th>\n",
       "      <th>rating</th>\n",
       "      <th>latitude</th>\n",
       "      <th>longitude</th>\n",
       "      <th>state_province</th>\n",
       "      <th>school_y</th>\n",
       "      <th>conference</th>\n",
       "      <th>color</th>\n",
       "      <th>logos</th>\n",
       "      <th>latitude_school</th>\n",
       "      <th>longitude_school</th>\n",
       "      <th>four_star_or_better</th>\n",
       "    </tr>\n",
       "  </thead>\n",
       "  <tbody>\n",
       "    <tr>\n",
       "      <th>0</th>\n",
       "      <td>2013</td>\n",
       "      <td>1.0</td>\n",
       "      <td>Robert Nkemdiche</td>\n",
       "      <td>Ole Miss</td>\n",
       "      <td>SDE</td>\n",
       "      <td>76.0</td>\n",
       "      <td>285.0</td>\n",
       "      <td>5</td>\n",
       "      <td>1.0000</td>\n",
       "      <td>33.838998</td>\n",
       "      <td>-83.900738</td>\n",
       "      <td>GA</td>\n",
       "      <td>Ole Miss</td>\n",
       "      <td>SEC</td>\n",
       "      <td>#001148</td>\n",
       "      <td>http://a.espncdn.com/i/teamlogos/ncaa/500/145.png</td>\n",
       "      <td>34.361984</td>\n",
       "      <td>-89.534208</td>\n",
       "      <td>1</td>\n",
       "    </tr>\n",
       "    <tr>\n",
       "      <th>1</th>\n",
       "      <td>2013</td>\n",
       "      <td>4.0</td>\n",
       "      <td>Laremy Tunsil</td>\n",
       "      <td>Ole Miss</td>\n",
       "      <td>OT</td>\n",
       "      <td>78.0</td>\n",
       "      <td>295.0</td>\n",
       "      <td>5</td>\n",
       "      <td>0.9975</td>\n",
       "      <td>30.189676</td>\n",
       "      <td>-82.639290</td>\n",
       "      <td>FL</td>\n",
       "      <td>Ole Miss</td>\n",
       "      <td>SEC</td>\n",
       "      <td>#001148</td>\n",
       "      <td>http://a.espncdn.com/i/teamlogos/ncaa/500/145.png</td>\n",
       "      <td>34.361984</td>\n",
       "      <td>-89.534208</td>\n",
       "      <td>1</td>\n",
       "    </tr>\n",
       "    <tr>\n",
       "      <th>2</th>\n",
       "      <td>2013</td>\n",
       "      <td>14.0</td>\n",
       "      <td>Laquon Treadwell</td>\n",
       "      <td>Ole Miss</td>\n",
       "      <td>WR</td>\n",
       "      <td>75.0</td>\n",
       "      <td>195.0</td>\n",
       "      <td>5</td>\n",
       "      <td>0.9922</td>\n",
       "      <td>41.444533</td>\n",
       "      <td>-87.631383</td>\n",
       "      <td>IL</td>\n",
       "      <td>Ole Miss</td>\n",
       "      <td>SEC</td>\n",
       "      <td>#001148</td>\n",
       "      <td>http://a.espncdn.com/i/teamlogos/ncaa/500/145.png</td>\n",
       "      <td>34.361984</td>\n",
       "      <td>-89.534208</td>\n",
       "      <td>1</td>\n",
       "    </tr>\n",
       "    <tr>\n",
       "      <th>3</th>\n",
       "      <td>2013</td>\n",
       "      <td>33.0</td>\n",
       "      <td>Tony Conner</td>\n",
       "      <td>Ole Miss</td>\n",
       "      <td>S</td>\n",
       "      <td>73.5</td>\n",
       "      <td>203.0</td>\n",
       "      <td>5</td>\n",
       "      <td>0.9841</td>\n",
       "      <td>34.311498</td>\n",
       "      <td>-89.944257</td>\n",
       "      <td>MS</td>\n",
       "      <td>Ole Miss</td>\n",
       "      <td>SEC</td>\n",
       "      <td>#001148</td>\n",
       "      <td>http://a.espncdn.com/i/teamlogos/ncaa/500/145.png</td>\n",
       "      <td>34.361984</td>\n",
       "      <td>-89.534208</td>\n",
       "      <td>1</td>\n",
       "    </tr>\n",
       "    <tr>\n",
       "      <th>4</th>\n",
       "      <td>2013</td>\n",
       "      <td>94.0</td>\n",
       "      <td>Austin Golson</td>\n",
       "      <td>Ole Miss</td>\n",
       "      <td>OT</td>\n",
       "      <td>78.0</td>\n",
       "      <td>285.0</td>\n",
       "      <td>4</td>\n",
       "      <td>0.9553</td>\n",
       "      <td>32.464025</td>\n",
       "      <td>-86.459697</td>\n",
       "      <td>AL</td>\n",
       "      <td>Ole Miss</td>\n",
       "      <td>SEC</td>\n",
       "      <td>#001148</td>\n",
       "      <td>http://a.espncdn.com/i/teamlogos/ncaa/500/145.png</td>\n",
       "      <td>34.361984</td>\n",
       "      <td>-89.534208</td>\n",
       "      <td>1</td>\n",
       "    </tr>\n",
       "  </tbody>\n",
       "</table>\n",
       "</div>"
      ],
      "text/plain": [
       "   year  ranking              name committed_to position  height  weight   \n",
       "0  2013      1.0  Robert Nkemdiche     Ole Miss      SDE    76.0   285.0  \\\n",
       "1  2013      4.0     Laremy Tunsil     Ole Miss       OT    78.0   295.0   \n",
       "2  2013     14.0  Laquon Treadwell     Ole Miss       WR    75.0   195.0   \n",
       "3  2013     33.0       Tony Conner     Ole Miss        S    73.5   203.0   \n",
       "4  2013     94.0     Austin Golson     Ole Miss       OT    78.0   285.0   \n",
       "\n",
       "   stars  rating   latitude  longitude state_province  school_y conference   \n",
       "0      5  1.0000  33.838998 -83.900738             GA  Ole Miss        SEC  \\\n",
       "1      5  0.9975  30.189676 -82.639290             FL  Ole Miss        SEC   \n",
       "2      5  0.9922  41.444533 -87.631383             IL  Ole Miss        SEC   \n",
       "3      5  0.9841  34.311498 -89.944257             MS  Ole Miss        SEC   \n",
       "4      4  0.9553  32.464025 -86.459697             AL  Ole Miss        SEC   \n",
       "\n",
       "     color                                              logos   \n",
       "0  #001148  http://a.espncdn.com/i/teamlogos/ncaa/500/145.png  \\\n",
       "1  #001148  http://a.espncdn.com/i/teamlogos/ncaa/500/145.png   \n",
       "2  #001148  http://a.espncdn.com/i/teamlogos/ncaa/500/145.png   \n",
       "3  #001148  http://a.espncdn.com/i/teamlogos/ncaa/500/145.png   \n",
       "4  #001148  http://a.espncdn.com/i/teamlogos/ncaa/500/145.png   \n",
       "\n",
       "   latitude_school  longitude_school  four_star_or_better  \n",
       "0        34.361984        -89.534208                    1  \n",
       "1        34.361984        -89.534208                    1  \n",
       "2        34.361984        -89.534208                    1  \n",
       "3        34.361984        -89.534208                    1  \n",
       "4        34.361984        -89.534208                    1  "
      ]
     },
     "execution_count": 4,
     "metadata": {},
     "output_type": "execute_result"
    }
   ],
   "source": [
    "df_merged = pd.merge(left = df_recruits, right = df_teams, left_on = 'committed_to', right_on = 'school', how = 'inner')\n",
    "\n",
    "col = ['year', 'ranking', 'name', 'committed_to', 'position', 'height', \\\n",
    "       'weight', 'stars', 'rating', 'latitude', 'longitude', 'state_province',\\\n",
    "       'school_y', 'conference', 'color', 'logos', 'latitude_school', 'longitude_school']\n",
    "\n",
    "df_merged = df_merged[col]\n",
    "df_merged['four_star_or_better'] = np.where(df_merged['stars'] >= 4, 1, 0) # Flag saying whether recruit is a 4 star\n",
    "\n",
    "df_merged.head()"
   ]
  },
  {
   "cell_type": "markdown",
   "id": "6f9a31c7-21ef-48d2-840e-f42522356214",
   "metadata": {},
   "source": [
    "##### Create the two datasets showing recruits by where the went to school vs where they came from"
   ]
  },
  {
   "cell_type": "code",
   "execution_count": 5,
   "id": "0f7b9741-29ba-452c-bb03-31fdbd3e60a5",
   "metadata": {},
   "outputs": [
    {
     "data": {
      "text/html": [
       "<div>\n",
       "<style scoped>\n",
       "    .dataframe tbody tr th:only-of-type {\n",
       "        vertical-align: middle;\n",
       "    }\n",
       "\n",
       "    .dataframe tbody tr th {\n",
       "        vertical-align: top;\n",
       "    }\n",
       "\n",
       "    .dataframe thead th {\n",
       "        text-align: right;\n",
       "    }\n",
       "</style>\n",
       "<table border=\"1\" class=\"dataframe\">\n",
       "  <thead>\n",
       "    <tr style=\"text-align: right;\">\n",
       "      <th></th>\n",
       "      <th>longitude</th>\n",
       "      <th>latitude</th>\n",
       "      <th>recruits</th>\n",
       "      <th>4+ Star Recruits</th>\n",
       "      <th>stars</th>\n",
       "    </tr>\n",
       "  </thead>\n",
       "  <tbody>\n",
       "    <tr>\n",
       "      <th>0</th>\n",
       "      <td>-170.704830</td>\n",
       "      <td>-14.275479</td>\n",
       "      <td>26</td>\n",
       "      <td>0</td>\n",
       "      <td>67</td>\n",
       "    </tr>\n",
       "    <tr>\n",
       "      <th>1</th>\n",
       "      <td>-162.356948</td>\n",
       "      <td>65.188685</td>\n",
       "      <td>1</td>\n",
       "      <td>0</td>\n",
       "      <td>3</td>\n",
       "    </tr>\n",
       "    <tr>\n",
       "      <th>2</th>\n",
       "      <td>-159.346352</td>\n",
       "      <td>22.083340</td>\n",
       "      <td>4</td>\n",
       "      <td>0</td>\n",
       "      <td>12</td>\n",
       "    </tr>\n",
       "    <tr>\n",
       "      <th>3</th>\n",
       "      <td>-158.185272</td>\n",
       "      <td>21.446678</td>\n",
       "      <td>4</td>\n",
       "      <td>1</td>\n",
       "      <td>12</td>\n",
       "    </tr>\n",
       "    <tr>\n",
       "      <th>4</th>\n",
       "      <td>-158.077849</td>\n",
       "      <td>21.334008</td>\n",
       "      <td>14</td>\n",
       "      <td>1</td>\n",
       "      <td>41</td>\n",
       "    </tr>\n",
       "  </tbody>\n",
       "</table>\n",
       "</div>"
      ],
      "text/plain": [
       "    longitude   latitude  recruits  4+ Star Recruits  stars\n",
       "0 -170.704830 -14.275479        26                 0     67\n",
       "1 -162.356948  65.188685         1                 0      3\n",
       "2 -159.346352  22.083340         4                 0     12\n",
       "3 -158.185272  21.446678         4                 1     12\n",
       "4 -158.077849  21.334008        14                 1     41"
      ]
     },
     "execution_count": 5,
     "metadata": {},
     "output_type": "execute_result"
    }
   ],
   "source": [
    "# Aggregate by recruit home town coordinates\n",
    "geo_df = df_merged.groupby(by = ['longitude', 'latitude']).agg({'name': 'count', 'four_star_or_better': 'sum', 'stars': 'sum'})\\\n",
    "                  .reset_index()\\\n",
    "                  .rename({'name': 'recruits',  'four_star_or_better': '4+ Star Recruits'}, axis = 1)\n",
    "geo_df.head()"
   ]
  },
  {
   "cell_type": "code",
   "execution_count": 6,
   "id": "f53b5248-3f78-4fd1-8209-91aa31836cf4",
   "metadata": {},
   "outputs": [
    {
     "data": {
      "text/html": [
       "<div>\n",
       "<style scoped>\n",
       "    .dataframe tbody tr th:only-of-type {\n",
       "        vertical-align: middle;\n",
       "    }\n",
       "\n",
       "    .dataframe tbody tr th {\n",
       "        vertical-align: top;\n",
       "    }\n",
       "\n",
       "    .dataframe thead th {\n",
       "        text-align: right;\n",
       "    }\n",
       "</style>\n",
       "<table border=\"1\" class=\"dataframe\">\n",
       "  <thead>\n",
       "    <tr style=\"text-align: right;\">\n",
       "      <th></th>\n",
       "      <th>longitude_school</th>\n",
       "      <th>latitude_school</th>\n",
       "      <th>recruits</th>\n",
       "      <th>4+ Star Recruits</th>\n",
       "      <th>stars</th>\n",
       "    </tr>\n",
       "  </thead>\n",
       "  <tbody>\n",
       "    <tr>\n",
       "      <th>0</th>\n",
       "      <td>-157.819338</td>\n",
       "      <td>21.294294</td>\n",
       "      <td>153</td>\n",
       "      <td>0</td>\n",
       "      <td>388</td>\n",
       "    </tr>\n",
       "    <tr>\n",
       "      <th>1</th>\n",
       "      <td>-123.281434</td>\n",
       "      <td>44.559456</td>\n",
       "      <td>205</td>\n",
       "      <td>5</td>\n",
       "      <td>607</td>\n",
       "    </tr>\n",
       "    <tr>\n",
       "      <th>2</th>\n",
       "      <td>-123.068488</td>\n",
       "      <td>44.058271</td>\n",
       "      <td>244</td>\n",
       "      <td>116</td>\n",
       "      <td>847</td>\n",
       "    </tr>\n",
       "    <tr>\n",
       "      <th>3</th>\n",
       "      <td>-122.301575</td>\n",
       "      <td>47.650323</td>\n",
       "      <td>230</td>\n",
       "      <td>85</td>\n",
       "      <td>765</td>\n",
       "    </tr>\n",
       "    <tr>\n",
       "      <th>4</th>\n",
       "      <td>-122.250773</td>\n",
       "      <td>37.871043</td>\n",
       "      <td>207</td>\n",
       "      <td>20</td>\n",
       "      <td>634</td>\n",
       "    </tr>\n",
       "  </tbody>\n",
       "</table>\n",
       "</div>"
      ],
      "text/plain": [
       "   longitude_school  latitude_school  recruits  4+ Star Recruits  stars\n",
       "0       -157.819338        21.294294       153                 0    388\n",
       "1       -123.281434        44.559456       205                 5    607\n",
       "2       -123.068488        44.058271       244               116    847\n",
       "3       -122.301575        47.650323       230                85    765\n",
       "4       -122.250773        37.871043       207                20    634"
      ]
     },
     "execution_count": 6,
     "metadata": {},
     "output_type": "execute_result"
    }
   ],
   "source": [
    "# Aggregate by the location of where the recruit went to school\n",
    "\n",
    "geo_df_school = df_merged.groupby(by = ['longitude_school', 'latitude_school']).agg({'name': 'count', 'four_star_or_better': 'sum', 'stars':'sum'})\\\n",
    "    .reset_index()\\\n",
    "    .rename({'name': 'recruits', 'four_star_or_better': '4+ Star Recruits'}, axis = 1)\n",
    "geo_df_school.head()"
   ]
  },
  {
   "cell_type": "markdown",
   "id": "5c13bcb2-14ad-4e28-8df7-52ff7be91fbc",
   "metadata": {},
   "source": [
    "#### Create Heatmaps from the two datasets above"
   ]
  },
  {
   "cell_type": "code",
   "execution_count": 7,
   "id": "30580031-94fe-4516-a52d-98970c74a677",
   "metadata": {},
   "outputs": [],
   "source": [
    "# ! pip install plotly\n",
    "import pandas as pd\n",
    "import plotly.express as px\n",
    "\n",
    "# Heatmatp of recruits by home town\n",
    "fig = px.density_mapbox(geo_df, lat = 'latitude', lon = 'longitude', z = '4+ Star Recruits',\n",
    "                        radius = 40,\n",
    "                        center = dict(lat = 39, lon = -98),\n",
    "                        zoom = 3.5,\n",
    "                        mapbox_style = 'open-street-map',\n",
    "                        color_continuous_scale = 'rainbow',\n",
    "                        range_color = [0, 100])\n",
    "fig.write_html('recruit_home.html', auto_open=True)\n",
    "\n",
    "\n",
    "# Heatmap of recruits by school of choice\n",
    "fig = px.density_mapbox(geo_df_school, lat = 'latitude_school', lon = 'longitude_school', z = '4+ Star Recruits',\n",
    "                        radius = 40,\n",
    "                        center = dict(lat = 39, lon = -98),\n",
    "                        zoom = 3.5,\n",
    "                        mapbox_style = 'open-street-map',\n",
    "                        color_continuous_scale = 'rainbow',\n",
    "                        range_color = [0, 100])\n",
    "fig.write_html('recruit_school.html', auto_open=True)"
   ]
  },
  {
   "cell_type": "markdown",
   "id": "e9282bb2-5c3b-4155-a25d-d8635d1820cc",
   "metadata": {},
   "source": [
    "#### Exploring paths...\n",
    "\n",
    "\n",
    "#### Source: \n",
    "##### https://plotly.com/python/lines-on-maps/"
   ]
  },
  {
   "cell_type": "code",
   "execution_count": 8,
   "id": "2832ec7a-32bd-4a7b-9f4c-b032df985a38",
   "metadata": {},
   "outputs": [
    {
     "data": {
      "text/plain": [
       "(28259, 19)"
      ]
     },
     "execution_count": 8,
     "metadata": {},
     "output_type": "execute_result"
    }
   ],
   "source": [
    "df_merged.shape"
   ]
  },
  {
   "cell_type": "code",
   "execution_count": 9,
   "id": "8685a790-bfd5-44db-b0e8-83f009ebf79e",
   "metadata": {},
   "outputs": [
    {
     "data": {
      "text/html": [
       "<div>\n",
       "<style scoped>\n",
       "    .dataframe tbody tr th:only-of-type {\n",
       "        vertical-align: middle;\n",
       "    }\n",
       "\n",
       "    .dataframe tbody tr th {\n",
       "        vertical-align: top;\n",
       "    }\n",
       "\n",
       "    .dataframe thead th {\n",
       "        text-align: right;\n",
       "    }\n",
       "</style>\n",
       "<table border=\"1\" class=\"dataframe\">\n",
       "  <thead>\n",
       "    <tr style=\"text-align: right;\">\n",
       "      <th></th>\n",
       "      <th>year</th>\n",
       "      <th>ranking</th>\n",
       "      <th>name</th>\n",
       "      <th>committed_to</th>\n",
       "      <th>position</th>\n",
       "      <th>height</th>\n",
       "      <th>weight</th>\n",
       "      <th>stars</th>\n",
       "      <th>rating</th>\n",
       "      <th>latitude</th>\n",
       "      <th>longitude</th>\n",
       "      <th>state_province</th>\n",
       "      <th>school_y</th>\n",
       "      <th>conference</th>\n",
       "      <th>color</th>\n",
       "      <th>logos</th>\n",
       "      <th>latitude_school</th>\n",
       "      <th>longitude_school</th>\n",
       "      <th>four_star_or_better</th>\n",
       "    </tr>\n",
       "  </thead>\n",
       "  <tbody>\n",
       "    <tr>\n",
       "      <th>0</th>\n",
       "      <td>2013</td>\n",
       "      <td>1.0</td>\n",
       "      <td>Robert Nkemdiche</td>\n",
       "      <td>Ole Miss</td>\n",
       "      <td>SDE</td>\n",
       "      <td>76.0</td>\n",
       "      <td>285.0</td>\n",
       "      <td>5</td>\n",
       "      <td>1.0000</td>\n",
       "      <td>33.838998</td>\n",
       "      <td>-83.900738</td>\n",
       "      <td>GA</td>\n",
       "      <td>Ole Miss</td>\n",
       "      <td>SEC</td>\n",
       "      <td>#001148</td>\n",
       "      <td>http://a.espncdn.com/i/teamlogos/ncaa/500/145.png</td>\n",
       "      <td>34.361984</td>\n",
       "      <td>-89.534208</td>\n",
       "      <td>1</td>\n",
       "    </tr>\n",
       "    <tr>\n",
       "      <th>1</th>\n",
       "      <td>2013</td>\n",
       "      <td>4.0</td>\n",
       "      <td>Laremy Tunsil</td>\n",
       "      <td>Ole Miss</td>\n",
       "      <td>OT</td>\n",
       "      <td>78.0</td>\n",
       "      <td>295.0</td>\n",
       "      <td>5</td>\n",
       "      <td>0.9975</td>\n",
       "      <td>30.189676</td>\n",
       "      <td>-82.639290</td>\n",
       "      <td>FL</td>\n",
       "      <td>Ole Miss</td>\n",
       "      <td>SEC</td>\n",
       "      <td>#001148</td>\n",
       "      <td>http://a.espncdn.com/i/teamlogos/ncaa/500/145.png</td>\n",
       "      <td>34.361984</td>\n",
       "      <td>-89.534208</td>\n",
       "      <td>1</td>\n",
       "    </tr>\n",
       "    <tr>\n",
       "      <th>2</th>\n",
       "      <td>2013</td>\n",
       "      <td>14.0</td>\n",
       "      <td>Laquon Treadwell</td>\n",
       "      <td>Ole Miss</td>\n",
       "      <td>WR</td>\n",
       "      <td>75.0</td>\n",
       "      <td>195.0</td>\n",
       "      <td>5</td>\n",
       "      <td>0.9922</td>\n",
       "      <td>41.444533</td>\n",
       "      <td>-87.631383</td>\n",
       "      <td>IL</td>\n",
       "      <td>Ole Miss</td>\n",
       "      <td>SEC</td>\n",
       "      <td>#001148</td>\n",
       "      <td>http://a.espncdn.com/i/teamlogos/ncaa/500/145.png</td>\n",
       "      <td>34.361984</td>\n",
       "      <td>-89.534208</td>\n",
       "      <td>1</td>\n",
       "    </tr>\n",
       "    <tr>\n",
       "      <th>3</th>\n",
       "      <td>2013</td>\n",
       "      <td>33.0</td>\n",
       "      <td>Tony Conner</td>\n",
       "      <td>Ole Miss</td>\n",
       "      <td>S</td>\n",
       "      <td>73.5</td>\n",
       "      <td>203.0</td>\n",
       "      <td>5</td>\n",
       "      <td>0.9841</td>\n",
       "      <td>34.311498</td>\n",
       "      <td>-89.944257</td>\n",
       "      <td>MS</td>\n",
       "      <td>Ole Miss</td>\n",
       "      <td>SEC</td>\n",
       "      <td>#001148</td>\n",
       "      <td>http://a.espncdn.com/i/teamlogos/ncaa/500/145.png</td>\n",
       "      <td>34.361984</td>\n",
       "      <td>-89.534208</td>\n",
       "      <td>1</td>\n",
       "    </tr>\n",
       "    <tr>\n",
       "      <th>4</th>\n",
       "      <td>2013</td>\n",
       "      <td>94.0</td>\n",
       "      <td>Austin Golson</td>\n",
       "      <td>Ole Miss</td>\n",
       "      <td>OT</td>\n",
       "      <td>78.0</td>\n",
       "      <td>285.0</td>\n",
       "      <td>4</td>\n",
       "      <td>0.9553</td>\n",
       "      <td>32.464025</td>\n",
       "      <td>-86.459697</td>\n",
       "      <td>AL</td>\n",
       "      <td>Ole Miss</td>\n",
       "      <td>SEC</td>\n",
       "      <td>#001148</td>\n",
       "      <td>http://a.espncdn.com/i/teamlogos/ncaa/500/145.png</td>\n",
       "      <td>34.361984</td>\n",
       "      <td>-89.534208</td>\n",
       "      <td>1</td>\n",
       "    </tr>\n",
       "  </tbody>\n",
       "</table>\n",
       "</div>"
      ],
      "text/plain": [
       "   year  ranking              name committed_to position  height  weight   \n",
       "0  2013      1.0  Robert Nkemdiche     Ole Miss      SDE    76.0   285.0  \\\n",
       "1  2013      4.0     Laremy Tunsil     Ole Miss       OT    78.0   295.0   \n",
       "2  2013     14.0  Laquon Treadwell     Ole Miss       WR    75.0   195.0   \n",
       "3  2013     33.0       Tony Conner     Ole Miss        S    73.5   203.0   \n",
       "4  2013     94.0     Austin Golson     Ole Miss       OT    78.0   285.0   \n",
       "\n",
       "   stars  rating   latitude  longitude state_province  school_y conference   \n",
       "0      5  1.0000  33.838998 -83.900738             GA  Ole Miss        SEC  \\\n",
       "1      5  0.9975  30.189676 -82.639290             FL  Ole Miss        SEC   \n",
       "2      5  0.9922  41.444533 -87.631383             IL  Ole Miss        SEC   \n",
       "3      5  0.9841  34.311498 -89.944257             MS  Ole Miss        SEC   \n",
       "4      4  0.9553  32.464025 -86.459697             AL  Ole Miss        SEC   \n",
       "\n",
       "     color                                              logos   \n",
       "0  #001148  http://a.espncdn.com/i/teamlogos/ncaa/500/145.png  \\\n",
       "1  #001148  http://a.espncdn.com/i/teamlogos/ncaa/500/145.png   \n",
       "2  #001148  http://a.espncdn.com/i/teamlogos/ncaa/500/145.png   \n",
       "3  #001148  http://a.espncdn.com/i/teamlogos/ncaa/500/145.png   \n",
       "4  #001148  http://a.espncdn.com/i/teamlogos/ncaa/500/145.png   \n",
       "\n",
       "   latitude_school  longitude_school  four_star_or_better  \n",
       "0        34.361984        -89.534208                    1  \n",
       "1        34.361984        -89.534208                    1  \n",
       "2        34.361984        -89.534208                    1  \n",
       "3        34.361984        -89.534208                    1  \n",
       "4        34.361984        -89.534208                    1  "
      ]
     },
     "execution_count": 9,
     "metadata": {},
     "output_type": "execute_result"
    }
   ],
   "source": [
    "df_merged.head()"
   ]
  },
  {
   "cell_type": "code",
   "execution_count": 10,
   "id": "f6987169-eae0-48c3-bc14-fa722a08d3f6",
   "metadata": {},
   "outputs": [],
   "source": [
    "# Experiment by aggregating locations\n",
    "\n"
   ]
  },
  {
   "cell_type": "code",
   "execution_count": 11,
   "id": "4442f5cf-cad8-4613-baad-30c822dc8912",
   "metadata": {},
   "outputs": [
    {
     "data": {
      "text/plain": [
       "array(['Mountain West', 'Mid-American', 'SEC', 'Sun Belt', 'Pac-12',\n",
       "       'FBS Independents', 'Big 12', 'ACC', 'American Athletic',\n",
       "       'Conference USA', 'Big Ten'], dtype=object)"
      ]
     },
     "execution_count": 11,
     "metadata": {},
     "output_type": "execute_result"
    }
   ],
   "source": [
    "df_teams['conference'].unique()"
   ]
  },
  {
   "cell_type": "code",
   "execution_count": 12,
   "id": "aa0947e3-c0fe-4bfc-83b0-0a6c590e7d49",
   "metadata": {},
   "outputs": [],
   "source": [
    "import plotly.graph_objects as go\n",
    "\n",
    "def plot_recr_trail(year = 2019, team = 'Michigan'):\n",
    "    fig = go.Figure()\n",
    "    \n",
    "    # df_path = df_merged.head(500).round(4)\n",
    "\n",
    "    # year = 2022\n",
    "    # team = 'Michigan'\n",
    "    \n",
    "    df_path = df_merged.round(1)\n",
    "    df_path = df_path.groupby(by = ['latitude', 'longitude', 'latitude_school', 'longitude_school', 'committed_to', 'year', 'conference'])\\\n",
    "                     .agg({'rating': 'mean', 'name':'count'})\\\n",
    "                     .reset_index()\n",
    "\n",
    "    df_path = df_path[df_path['year'] == year]\n",
    "    # df_path = df_path[df_path['committed_to'] == team]\n",
    "    df_path = df_path[df_path['conference'].isin(['SEC', 'Big Ten', 'ACC', 'Pac-12', 'Big 12'])]\n",
    "    \n",
    "    df_path = df_path.reset_index()\n",
    "    \n",
    "    flight_paths = []\n",
    "    for i in range(len(df_path)):\n",
    "\n",
    "    ###\n",
    "        if df_path['conference'][i] == 'SEC':\n",
    "            color_conf_code = 'red'\n",
    "            \n",
    "        elif df_path['conference'][i] == 'Big Ten':\n",
    "            color_conf_code = 'blue'\n",
    "            \n",
    "        elif df_path['conference'][i] == 'ACC':\n",
    "            color_conf_code = 'lightblue'\n",
    "    \n",
    "        elif df_path['conference'][i] == 'Pac-12':\n",
    "            color_conf_code = 'green'\n",
    "    \n",
    "        elif df_path['conference'][i] == 'Big 12':\n",
    "            color_conf_code = 'purple'\n",
    "        \n",
    "        else:\n",
    "            color_conf_code = 'gray'\n",
    "    ###\n",
    "\n",
    "        \n",
    "        fig.add_trace(\n",
    "            go.Scattergeo(\n",
    "                locationmode = 'USA-states',\n",
    "                lon = [df_path['longitude'][i], df_path['longitude_school'][i]],\n",
    "                lat = [df_path['latitude'][i], df_path['latitude_school'][i]],\n",
    "                mode = 'lines',\n",
    "                line = dict(width = 1, color = color_conf_code),\n",
    "                #fillcolor = 'color',\n",
    "                #color = 'conference',\n",
    "                opacity = float(df_path['name'][i]) / float(df_path['name'].max()),\n",
    "            )\n",
    "        )\n",
    "    \n",
    "    fig.update_layout(\n",
    "        title_text = 'Football Recruits Movement from Hometown to University',\n",
    "        showlegend = False,\n",
    "        # autosize = True,\n",
    "        width = 1000,\n",
    "        height = 600,\n",
    "        margin_autoexpand = True,\n",
    "        margin=dict(l=20, r=20, t=70, b=20),\n",
    "        geo = dict(\n",
    "            scope = 'north america',\n",
    "            projection_type = 'azimuthal equal area',\n",
    "            showland = True,\n",
    "            landcolor = 'rgb(243, 243, 243)',\n",
    "            countrycolor = 'rgb(204, 204, 204)',\n",
    "        ),\n",
    "        \n",
    "    )\n",
    "\n",
    "    # margin=dict(l=20, r=20, t=20, b=20)\n",
    "    \n",
    "    fig.show()\n",
    "    # fig.write_html('recruit_lines.html', auto_open=True)"
   ]
  },
  {
   "cell_type": "code",
   "execution_count": 15,
   "id": "594b900b-6ead-4d25-b6a9-50411faf2950",
   "metadata": {},
   "outputs": [
    {
     "data": {
      "application/vnd.plotly.v1+json": {
       "config": {
        "plotlyServerURL": "https://plot.ly"
       },
       "data": [
        {
         "lat": [
          -14.3,
          46.7
         ],
         "line": {
          "color": "green",
          "width": 1
         },
         "locationmode": "USA-states",
         "lon": [
          -170.7,
          -117.2
         ],
         "mode": "lines",
         "opacity": 0.1111111111111111,
         "type": "scattergeo"
        },
        {
         "lat": [
          21.3,
          46.7
         ],
         "line": {
          "color": "green",
          "width": 1
         },
         "locationmode": "USA-states",
         "lon": [
          -158.1,
          -117.2
         ],
         "mode": "lines",
         "opacity": 0.1111111111111111,
         "type": "scattergeo"
        },
        {
         "lat": [
          21.3,
          28.6
         ],
         "line": {
          "color": "purple",
          "width": 1
         },
         "locationmode": "USA-states",
         "lon": [
          -158,
          -81.2
         ],
         "mode": "lines",
         "opacity": 0.1111111111111111,
         "type": "scattergeo"
        },
        {
         "lat": [
          21.3,
          40.8
         ],
         "line": {
          "color": "green",
          "width": 1
         },
         "locationmode": "USA-states",
         "lon": [
          -157.9,
          -111.8
         ],
         "mode": "lines",
         "opacity": 0.1111111111111111,
         "type": "scattergeo"
        },
        {
         "lat": [
          21.3,
          43
         ],
         "line": {
          "color": "lightblue",
          "width": 1
         },
         "locationmode": "USA-states",
         "lon": [
          -157.9,
          -76.1
         ],
         "mode": "lines",
         "opacity": 0.2222222222222222,
         "type": "scattergeo"
        },
        {
         "lat": [
          21.3,
          47.7
         ],
         "line": {
          "color": "green",
          "width": 1
         },
         "locationmode": "USA-states",
         "lon": [
          -157.9,
          -122.3
         ],
         "mode": "lines",
         "opacity": 0.1111111111111111,
         "type": "scattergeo"
        },
        {
         "lat": [
          21.5,
          37.9
         ],
         "line": {
          "color": "green",
          "width": 1
         },
         "locationmode": "USA-states",
         "lon": [
          -158,
          -122.3
         ],
         "mode": "lines",
         "opacity": 0.1111111111111111,
         "type": "scattergeo"
        },
        {
         "lat": [
          21.5,
          40.8
         ],
         "line": {
          "color": "blue",
          "width": 1
         },
         "locationmode": "USA-states",
         "lon": [
          -158,
          -96.7
         ],
         "mode": "lines",
         "opacity": 0.1111111111111111,
         "type": "scattergeo"
        },
        {
         "lat": [
          25.8,
          26
         ],
         "line": {
          "color": "lightblue",
          "width": 1
         },
         "locationmode": "USA-states",
         "lon": [
          -80.2,
          -80.2
         ],
         "mode": "lines",
         "opacity": 1,
         "type": "scattergeo"
        },
        {
         "lat": [
          25.8,
          29.6
         ],
         "line": {
          "color": "red",
          "width": 1
         },
         "locationmode": "USA-states",
         "lon": [
          -80.2,
          -82.3
         ],
         "mode": "lines",
         "opacity": 0.2222222222222222,
         "type": "scattergeo"
        },
        {
         "lat": [
          25.8,
          30.4
         ],
         "line": {
          "color": "lightblue",
          "width": 1
         },
         "locationmode": "USA-states",
         "lon": [
          -80.2,
          -84.3
         ],
         "mode": "lines",
         "opacity": 0.1111111111111111,
         "type": "scattergeo"
        },
        {
         "lat": [
          25.8,
          30.6
         ],
         "line": {
          "color": "red",
          "width": 1
         },
         "locationmode": "USA-states",
         "lon": [
          -80.2,
          -96.3
         ],
         "mode": "lines",
         "opacity": 0.2222222222222222,
         "type": "scattergeo"
        },
        {
         "lat": [
          25.8,
          38.2
         ],
         "line": {
          "color": "lightblue",
          "width": 1
         },
         "locationmode": "USA-states",
         "lon": [
          -80.2,
          -85.8
         ],
         "mode": "lines",
         "opacity": 0.1111111111111111,
         "type": "scattergeo"
        },
        {
         "lat": [
          25.8,
          39.1
         ],
         "line": {
          "color": "purple",
          "width": 1
         },
         "locationmode": "USA-states",
         "lon": [
          -80.2,
          -84.5
         ],
         "mode": "lines",
         "opacity": 0.1111111111111111,
         "type": "scattergeo"
        },
        {
         "lat": [
          25.8,
          39.7
         ],
         "line": {
          "color": "purple",
          "width": 1
         },
         "locationmode": "USA-states",
         "lon": [
          -80.2,
          -80
         ],
         "mode": "lines",
         "opacity": 0.1111111111111111,
         "type": "scattergeo"
        },
        {
         "lat": [
          25.8,
          46.7
         ],
         "line": {
          "color": "green",
          "width": 1
         },
         "locationmode": "USA-states",
         "lon": [
          -80.2,
          -117.2
         ],
         "mode": "lines",
         "opacity": 0.1111111111111111,
         "type": "scattergeo"
        },
        {
         "lat": [
          25.9,
          26
         ],
         "line": {
          "color": "lightblue",
          "width": 1
         },
         "locationmode": "USA-states",
         "lon": [
          -80.3,
          -80.2
         ],
         "mode": "lines",
         "opacity": 0.3333333333333333,
         "type": "scattergeo"
        },
        {
         "lat": [
          25.9,
          33.8
         ],
         "line": {
          "color": "lightblue",
          "width": 1
         },
         "locationmode": "USA-states",
         "lon": [
          -80.3,
          -84.4
         ],
         "mode": "lines",
         "opacity": 0.1111111111111111,
         "type": "scattergeo"
        },
        {
         "lat": [
          25.9,
          39
         ],
         "line": {
          "color": "blue",
          "width": 1
         },
         "locationmode": "USA-states",
         "lon": [
          -80.3,
          -76.9
         ],
         "mode": "lines",
         "opacity": 0.1111111111111111,
         "type": "scattergeo"
        },
        {
         "lat": [
          25.9,
          34.7
         ],
         "line": {
          "color": "lightblue",
          "width": 1
         },
         "locationmode": "USA-states",
         "lon": [
          -80.2,
          -82.8
         ],
         "mode": "lines",
         "opacity": 0.1111111111111111,
         "type": "scattergeo"
        },
        {
         "lat": [
          25.9,
          43.1
         ],
         "line": {
          "color": "blue",
          "width": 1
         },
         "locationmode": "USA-states",
         "lon": [
          -80.2,
          -89.4
         ],
         "mode": "lines",
         "opacity": 0.1111111111111111,
         "type": "scattergeo"
        },
        {
         "lat": [
          26,
          26
         ],
         "line": {
          "color": "lightblue",
          "width": 1
         },
         "locationmode": "USA-states",
         "lon": [
          -80.1,
          -80.2
         ],
         "mode": "lines",
         "opacity": 0.2222222222222222,
         "type": "scattergeo"
        },
        {
         "lat": [
          26,
          30.4
         ],
         "line": {
          "color": "lightblue",
          "width": 1
         },
         "locationmode": "USA-states",
         "lon": [
          -80.1,
          -84.3
         ],
         "mode": "lines",
         "opacity": 0.2222222222222222,
         "type": "scattergeo"
        },
        {
         "lat": [
          26.1,
          29.6
         ],
         "line": {
          "color": "red",
          "width": 1
         },
         "locationmode": "USA-states",
         "lon": [
          -81.8,
          -82.3
         ],
         "mode": "lines",
         "opacity": 0.1111111111111111,
         "type": "scattergeo"
        },
        {
         "lat": [
          26.1,
          40.1
         ],
         "line": {
          "color": "blue",
          "width": 1
         },
         "locationmode": "USA-states",
         "lon": [
          -81.8,
          -88.2
         ],
         "mode": "lines",
         "opacity": 0.1111111111111111,
         "type": "scattergeo"
        },
        {
         "lat": [
          26.1,
          40.8
         ],
         "line": {
          "color": "blue",
          "width": 1
         },
         "locationmode": "USA-states",
         "lon": [
          -81.8,
          -96.7
         ],
         "mode": "lines",
         "opacity": 0.1111111111111111,
         "type": "scattergeo"
        },
        {
         "lat": [
          26.1,
          26
         ],
         "line": {
          "color": "lightblue",
          "width": 1
         },
         "locationmode": "USA-states",
         "lon": [
          -80.1,
          -80.2
         ],
         "mode": "lines",
         "opacity": 0.1111111111111111,
         "type": "scattergeo"
        },
        {
         "lat": [
          26.1,
          29.6
         ],
         "line": {
          "color": "red",
          "width": 1
         },
         "locationmode": "USA-states",
         "lon": [
          -80.1,
          -82.3
         ],
         "mode": "lines",
         "opacity": 0.1111111111111111,
         "type": "scattergeo"
        },
        {
         "lat": [
          26.1,
          32.2
         ],
         "line": {
          "color": "green",
          "width": 1
         },
         "locationmode": "USA-states",
         "lon": [
          -80.1,
          -110.9
         ],
         "mode": "lines",
         "opacity": 0.1111111111111111,
         "type": "scattergeo"
        },
        {
         "lat": [
          26.1,
          33.2
         ],
         "line": {
          "color": "red",
          "width": 1
         },
         "locationmode": "USA-states",
         "lon": [
          -80.1,
          -87.6
         ],
         "mode": "lines",
         "opacity": 0.1111111111111111,
         "type": "scattergeo"
        },
        {
         "lat": [
          26.1,
          34.4
         ],
         "line": {
          "color": "red",
          "width": 1
         },
         "locationmode": "USA-states",
         "lon": [
          -80.1,
          -89.5
         ],
         "mode": "lines",
         "opacity": 0.1111111111111111,
         "type": "scattergeo"
        },
        {
         "lat": [
          26.1,
          34.7
         ],
         "line": {
          "color": "lightblue",
          "width": 1
         },
         "locationmode": "USA-states",
         "lon": [
          -80.1,
          -82.8
         ],
         "mode": "lines",
         "opacity": 0.1111111111111111,
         "type": "scattergeo"
        },
        {
         "lat": [
          26.1,
          36.1
         ],
         "line": {
          "color": "red",
          "width": 1
         },
         "locationmode": "USA-states",
         "lon": [
          -80.1,
          -86.8
         ],
         "mode": "lines",
         "opacity": 0.3333333333333333,
         "type": "scattergeo"
        },
        {
         "lat": [
          26.1,
          38.2
         ],
         "line": {
          "color": "lightblue",
          "width": 1
         },
         "locationmode": "USA-states",
         "lon": [
          -80.1,
          -85.8
         ],
         "mode": "lines",
         "opacity": 0.1111111111111111,
         "type": "scattergeo"
        },
        {
         "lat": [
          26.1,
          39.1
         ],
         "line": {
          "color": "purple",
          "width": 1
         },
         "locationmode": "USA-states",
         "lon": [
          -80.1,
          -84.5
         ],
         "mode": "lines",
         "opacity": 0.1111111111111111,
         "type": "scattergeo"
        },
        {
         "lat": [
          26.1,
          40
         ],
         "line": {
          "color": "green",
          "width": 1
         },
         "locationmode": "USA-states",
         "lon": [
          -80.1,
          -105.3
         ],
         "mode": "lines",
         "opacity": 0.1111111111111111,
         "type": "scattergeo"
        },
        {
         "lat": [
          26.1,
          40.4
         ],
         "line": {
          "color": "lightblue",
          "width": 1
         },
         "locationmode": "USA-states",
         "lon": [
          -80.1,
          -80
         ],
         "mode": "lines",
         "opacity": 0.1111111111111111,
         "type": "scattergeo"
        },
        {
         "lat": [
          26.1,
          42.3
         ],
         "line": {
          "color": "blue",
          "width": 1
         },
         "locationmode": "USA-states",
         "lon": [
          -80.1,
          -83.7
         ],
         "mode": "lines",
         "opacity": 0.2222222222222222,
         "type": "scattergeo"
        },
        {
         "lat": [
          26.1,
          43
         ],
         "line": {
          "color": "lightblue",
          "width": 1
         },
         "locationmode": "USA-states",
         "lon": [
          -80.1,
          -76.1
         ],
         "mode": "lines",
         "opacity": 0.1111111111111111,
         "type": "scattergeo"
        },
        {
         "lat": [
          26.2,
          26
         ],
         "line": {
          "color": "lightblue",
          "width": 1
         },
         "locationmode": "USA-states",
         "lon": [
          -80.1,
          -80.2
         ],
         "mode": "lines",
         "opacity": 0.1111111111111111,
         "type": "scattergeo"
        },
        {
         "lat": [
          26.2,
          30.3
         ],
         "line": {
          "color": "purple",
          "width": 1
         },
         "locationmode": "USA-states",
         "lon": [
          -80.1,
          -97.7
         ],
         "mode": "lines",
         "opacity": 0.1111111111111111,
         "type": "scattergeo"
        },
        {
         "lat": [
          26.3,
          40.4
         ],
         "line": {
          "color": "lightblue",
          "width": 1
         },
         "locationmode": "USA-states",
         "lon": [
          -80.1,
          -80
         ],
         "mode": "lines",
         "opacity": 0.1111111111111111,
         "type": "scattergeo"
        },
        {
         "lat": [
          26.4,
          38.2
         ],
         "line": {
          "color": "lightblue",
          "width": 1
         },
         "locationmode": "USA-states",
         "lon": [
          -80.1,
          -85.8
         ],
         "mode": "lines",
         "opacity": 0.1111111111111111,
         "type": "scattergeo"
        },
        {
         "lat": [
          26.5,
          28.6
         ],
         "line": {
          "color": "purple",
          "width": 1
         },
         "locationmode": "USA-states",
         "lon": [
          -80.1,
          -81.2
         ],
         "mode": "lines",
         "opacity": 0.1111111111111111,
         "type": "scattergeo"
        },
        {
         "lat": [
          26.6,
          26
         ],
         "line": {
          "color": "lightblue",
          "width": 1
         },
         "locationmode": "USA-states",
         "lon": [
          -81.9,
          -80.2
         ],
         "mode": "lines",
         "opacity": 0.1111111111111111,
         "type": "scattergeo"
        },
        {
         "lat": [
          26.6,
          29.6
         ],
         "line": {
          "color": "red",
          "width": 1
         },
         "locationmode": "USA-states",
         "lon": [
          -81.9,
          -82.3
         ],
         "mode": "lines",
         "opacity": 0.1111111111111111,
         "type": "scattergeo"
        },
        {
         "lat": [
          26.6,
          40.1
         ],
         "line": {
          "color": "blue",
          "width": 1
         },
         "locationmode": "USA-states",
         "lon": [
          -81.9,
          -88.2
         ],
         "mode": "lines",
         "opacity": 0.1111111111111111,
         "type": "scattergeo"
        },
        {
         "lat": [
          26.6,
          30.4
         ],
         "line": {
          "color": "lightblue",
          "width": 1
         },
         "locationmode": "USA-states",
         "lon": [
          -81.7,
          -84.3
         ],
         "mode": "lines",
         "opacity": 0.1111111111111111,
         "type": "scattergeo"
        },
        {
         "lat": [
          26.6,
          32.6
         ],
         "line": {
          "color": "red",
          "width": 1
         },
         "locationmode": "USA-states",
         "lon": [
          -81.7,
          -85.5
         ],
         "mode": "lines",
         "opacity": 0.1111111111111111,
         "type": "scattergeo"
        },
        {
         "lat": [
          26.6,
          43.1
         ],
         "line": {
          "color": "blue",
          "width": 1
         },
         "locationmode": "USA-states",
         "lon": [
          -81.7,
          -89.4
         ],
         "mode": "lines",
         "opacity": 0.1111111111111111,
         "type": "scattergeo"
        },
        {
         "lat": [
          26.7,
          28.6
         ],
         "line": {
          "color": "purple",
          "width": 1
         },
         "locationmode": "USA-states",
         "lon": [
          -80.1,
          -81.2
         ],
         "mode": "lines",
         "opacity": 0.1111111111111111,
         "type": "scattergeo"
        },
        {
         "lat": [
          27.1,
          28.6
         ],
         "line": {
          "color": "purple",
          "width": 1
         },
         "locationmode": "USA-states",
         "lon": [
          -82.5,
          -81.2
         ],
         "mode": "lines",
         "opacity": 0.1111111111111111,
         "type": "scattergeo"
        },
        {
         "lat": [
          27.1,
          39
         ],
         "line": {
          "color": "blue",
          "width": 1
         },
         "locationmode": "USA-states",
         "lon": [
          -82.5,
          -76.9
         ],
         "mode": "lines",
         "opacity": 0.1111111111111111,
         "type": "scattergeo"
        },
        {
         "lat": [
          27.1,
          42.7
         ],
         "line": {
          "color": "blue",
          "width": 1
         },
         "locationmode": "USA-states",
         "lon": [
          -82.5,
          -84.5
         ],
         "mode": "lines",
         "opacity": 0.2222222222222222,
         "type": "scattergeo"
        },
        {
         "lat": [
          27.5,
          28.6
         ],
         "line": {
          "color": "purple",
          "width": 1
         },
         "locationmode": "USA-states",
         "lon": [
          -82.6,
          -81.2
         ],
         "mode": "lines",
         "opacity": 0.1111111111111111,
         "type": "scattergeo"
        },
        {
         "lat": [
          27.5,
          30.4
         ],
         "line": {
          "color": "lightblue",
          "width": 1
         },
         "locationmode": "USA-states",
         "lon": [
          -82.6,
          -84.3
         ],
         "mode": "lines",
         "opacity": 0.1111111111111111,
         "type": "scattergeo"
        },
        {
         "lat": [
          27.5,
          33.2
         ],
         "line": {
          "color": "red",
          "width": 1
         },
         "locationmode": "USA-states",
         "lon": [
          -82.6,
          -87.6
         ],
         "mode": "lines",
         "opacity": 0.2222222222222222,
         "type": "scattergeo"
        },
        {
         "lat": [
          27.5,
          33.9
         ],
         "line": {
          "color": "red",
          "width": 1
         },
         "locationmode": "USA-states",
         "lon": [
          -82.6,
          -83.4
         ],
         "mode": "lines",
         "opacity": 0.2222222222222222,
         "type": "scattergeo"
        },
        {
         "lat": [
          27.5,
          34
         ],
         "line": {
          "color": "red",
          "width": 1
         },
         "locationmode": "USA-states",
         "lon": [
          -82.6,
          -81
         ],
         "mode": "lines",
         "opacity": 0.1111111111111111,
         "type": "scattergeo"
        },
        {
         "lat": [
          27.5,
          34.4
         ],
         "line": {
          "color": "red",
          "width": 1
         },
         "locationmode": "USA-states",
         "lon": [
          -82.6,
          -89.5
         ],
         "mode": "lines",
         "opacity": 0.1111111111111111,
         "type": "scattergeo"
        },
        {
         "lat": [
          27.5,
          37.2
         ],
         "line": {
          "color": "lightblue",
          "width": 1
         },
         "locationmode": "USA-states",
         "lon": [
          -82.6,
          -80.4
         ],
         "mode": "lines",
         "opacity": 0.1111111111111111,
         "type": "scattergeo"
        },
        {
         "lat": [
          27.5,
          40.4
         ],
         "line": {
          "color": "lightblue",
          "width": 1
         },
         "locationmode": "USA-states",
         "lon": [
          -82.6,
          -80
         ],
         "mode": "lines",
         "opacity": 0.1111111111111111,
         "type": "scattergeo"
        },
        {
         "lat": [
          27.5,
          42.3
         ],
         "line": {
          "color": "blue",
          "width": 1
         },
         "locationmode": "USA-states",
         "lon": [
          -82.6,
          -83.7
         ],
         "mode": "lines",
         "opacity": 0.1111111111111111,
         "type": "scattergeo"
        },
        {
         "lat": [
          27.5,
          42.3
         ],
         "line": {
          "color": "lightblue",
          "width": 1
         },
         "locationmode": "USA-states",
         "lon": [
          -82.6,
          -71.2
         ],
         "mode": "lines",
         "opacity": 0.1111111111111111,
         "type": "scattergeo"
        },
        {
         "lat": [
          27.6,
          33.2
         ],
         "line": {
          "color": "red",
          "width": 1
         },
         "locationmode": "USA-states",
         "lon": [
          -80.4,
          -87.6
         ],
         "mode": "lines",
         "opacity": 0.1111111111111111,
         "type": "scattergeo"
        },
        {
         "lat": [
          27.7,
          34
         ],
         "line": {
          "color": "green",
          "width": 1
         },
         "locationmode": "USA-states",
         "lon": [
          -97.4,
          -118.3
         ],
         "mode": "lines",
         "opacity": 0.1111111111111111,
         "type": "scattergeo"
        },
        {
         "lat": [
          27.8,
          33.5
         ],
         "line": {
          "color": "red",
          "width": 1
         },
         "locationmode": "USA-states",
         "lon": [
          -81.8,
          -88.8
         ],
         "mode": "lines",
         "opacity": 0.1111111111111111,
         "type": "scattergeo"
        },
        {
         "lat": [
          27.9,
          29.6
         ],
         "line": {
          "color": "red",
          "width": 1
         },
         "locationmode": "USA-states",
         "lon": [
          -82.5,
          -82.3
         ],
         "mode": "lines",
         "opacity": 0.2222222222222222,
         "type": "scattergeo"
        },
        {
         "lat": [
          27.9,
          34
         ],
         "line": {
          "color": "green",
          "width": 1
         },
         "locationmode": "USA-states",
         "lon": [
          -82.5,
          -118.3
         ],
         "mode": "lines",
         "opacity": 0.1111111111111111,
         "type": "scattergeo"
        },
        {
         "lat": [
          27.9,
          37.2
         ],
         "line": {
          "color": "lightblue",
          "width": 1
         },
         "locationmode": "USA-states",
         "lon": [
          -82.5,
          -80.4
         ],
         "mode": "lines",
         "opacity": 0.1111111111111111,
         "type": "scattergeo"
        },
        {
         "lat": [
          27.9,
          39.2
         ],
         "line": {
          "color": "purple",
          "width": 1
         },
         "locationmode": "USA-states",
         "lon": [
          -82.5,
          -96.6
         ],
         "mode": "lines",
         "opacity": 0.1111111111111111,
         "type": "scattergeo"
        },
        {
         "lat": [
          27.9,
          40.1
         ],
         "line": {
          "color": "blue",
          "width": 1
         },
         "locationmode": "USA-states",
         "lon": [
          -82.5,
          -88.2
         ],
         "mode": "lines",
         "opacity": 0.1111111111111111,
         "type": "scattergeo"
        },
        {
         "lat": [
          27.9,
          40.5
         ],
         "line": {
          "color": "blue",
          "width": 1
         },
         "locationmode": "USA-states",
         "lon": [
          -82.5,
          -74.5
         ],
         "mode": "lines",
         "opacity": 0.2222222222222222,
         "type": "scattergeo"
        },
        {
         "lat": [
          27.9,
          40.8
         ],
         "line": {
          "color": "green",
          "width": 1
         },
         "locationmode": "USA-states",
         "lon": [
          -82.5,
          -111.8
         ],
         "mode": "lines",
         "opacity": 0.1111111111111111,
         "type": "scattergeo"
        },
        {
         "lat": [
          27.9,
          33.2
         ],
         "line": {
          "color": "red",
          "width": 1
         },
         "locationmode": "USA-states",
         "lon": [
          -82.2,
          -87.6
         ],
         "mode": "lines",
         "opacity": 0.1111111111111111,
         "type": "scattergeo"
        },
        {
         "lat": [
          28,
          33.5
         ],
         "line": {
          "color": "red",
          "width": 1
         },
         "locationmode": "USA-states",
         "lon": [
          -82.8,
          -88.8
         ],
         "mode": "lines",
         "opacity": 0.1111111111111111,
         "type": "scattergeo"
        },
        {
         "lat": [
          28,
          37.4
         ],
         "line": {
          "color": "green",
          "width": 1
         },
         "locationmode": "USA-states",
         "lon": [
          -82.8,
          -122.2
         ],
         "mode": "lines",
         "opacity": 0.1111111111111111,
         "type": "scattergeo"
        },
        {
         "lat": [
          28,
          29.6
         ],
         "line": {
          "color": "red",
          "width": 1
         },
         "locationmode": "USA-states",
         "lon": [
          -82.3,
          -82.3
         ],
         "mode": "lines",
         "opacity": 0.1111111111111111,
         "type": "scattergeo"
        },
        {
         "lat": [
          28,
          40.4
         ],
         "line": {
          "color": "lightblue",
          "width": 1
         },
         "locationmode": "USA-states",
         "lon": [
          -82.3,
          -80
         ],
         "mode": "lines",
         "opacity": 0.1111111111111111,
         "type": "scattergeo"
        },
        {
         "lat": [
          28,
          35.2
         ],
         "line": {
          "color": "purple",
          "width": 1
         },
         "locationmode": "USA-states",
         "lon": [
          -82.1,
          -97.4
         ],
         "mode": "lines",
         "opacity": 0.1111111111111111,
         "type": "scattergeo"
        },
        {
         "lat": [
          28,
          34.7
         ],
         "line": {
          "color": "lightblue",
          "width": 1
         },
         "locationmode": "USA-states",
         "lon": [
          -81.9,
          -82.8
         ],
         "mode": "lines",
         "opacity": 0.1111111111111111,
         "type": "scattergeo"
        },
        {
         "lat": [
          28,
          46.7
         ],
         "line": {
          "color": "green",
          "width": 1
         },
         "locationmode": "USA-states",
         "lon": [
          -81.9,
          -117.2
         ],
         "mode": "lines",
         "opacity": 0.1111111111111111,
         "type": "scattergeo"
        },
        {
         "lat": [
          28.1,
          40.1
         ],
         "line": {
          "color": "blue",
          "width": 1
         },
         "locationmode": "USA-states",
         "lon": [
          -82.7,
          -88.2
         ],
         "mode": "lines",
         "opacity": 0.1111111111111111,
         "type": "scattergeo"
        },
        {
         "lat": [
          28.1,
          39.7
         ],
         "line": {
          "color": "purple",
          "width": 1
         },
         "locationmode": "USA-states",
         "lon": [
          -81.8,
          -80
         ],
         "mode": "lines",
         "opacity": 0.1111111111111111,
         "type": "scattergeo"
        },
        {
         "lat": [
          28.1,
          26
         ],
         "line": {
          "color": "lightblue",
          "width": 1
         },
         "locationmode": "USA-states",
         "lon": [
          -80.6,
          -80.2
         ],
         "mode": "lines",
         "opacity": 0.1111111111111111,
         "type": "scattergeo"
        },
        {
         "lat": [
          28.1,
          34.4
         ],
         "line": {
          "color": "red",
          "width": 1
         },
         "locationmode": "USA-states",
         "lon": [
          -80.6,
          -89.5
         ],
         "mode": "lines",
         "opacity": 0.1111111111111111,
         "type": "scattergeo"
        },
        {
         "lat": [
          28.1,
          38.9
         ],
         "line": {
          "color": "red",
          "width": 1
         },
         "locationmode": "USA-states",
         "lon": [
          -80.6,
          -92.3
         ],
         "mode": "lines",
         "opacity": 0.1111111111111111,
         "type": "scattergeo"
        },
        {
         "lat": [
          28.1,
          40.5
         ],
         "line": {
          "color": "blue",
          "width": 1
         },
         "locationmode": "USA-states",
         "lon": [
          -80.6,
          -74.5
         ],
         "mode": "lines",
         "opacity": 0.1111111111111111,
         "type": "scattergeo"
        },
        {
         "lat": [
          28.2,
          42
         ],
         "line": {
          "color": "purple",
          "width": 1
         },
         "locationmode": "USA-states",
         "lon": [
          -82.5,
          -93.6
         ],
         "mode": "lines",
         "opacity": 0.1111111111111111,
         "type": "scattergeo"
        },
        {
         "lat": [
          28.3,
          36.1
         ],
         "line": {
          "color": "red",
          "width": 1
         },
         "locationmode": "USA-states",
         "lon": [
          -81.4,
          -86.8
         ],
         "mode": "lines",
         "opacity": 0.1111111111111111,
         "type": "scattergeo"
        },
        {
         "lat": [
          28.3,
          36.1
         ],
         "line": {
          "color": "red",
          "width": 1
         },
         "locationmode": "USA-states",
         "lon": [
          -80.7,
          -94.2
         ],
         "mode": "lines",
         "opacity": 0.1111111111111111,
         "type": "scattergeo"
        },
        {
         "lat": [
          28.3,
          38.9
         ],
         "line": {
          "color": "red",
          "width": 1
         },
         "locationmode": "USA-states",
         "lon": [
          -80.7,
          -92.3
         ],
         "mode": "lines",
         "opacity": 0.1111111111111111,
         "type": "scattergeo"
        },
        {
         "lat": [
          28.4,
          33.8
         ],
         "line": {
          "color": "lightblue",
          "width": 1
         },
         "locationmode": "USA-states",
         "lon": [
          -80.7,
          -84.4
         ],
         "mode": "lines",
         "opacity": 0.1111111111111111,
         "type": "scattergeo"
        },
        {
         "lat": [
          28.4,
          38.2
         ],
         "line": {
          "color": "lightblue",
          "width": 1
         },
         "locationmode": "USA-states",
         "lon": [
          -80.7,
          -85.8
         ],
         "mode": "lines",
         "opacity": 0.1111111111111111,
         "type": "scattergeo"
        },
        {
         "lat": [
          28.4,
          38.9
         ],
         "line": {
          "color": "red",
          "width": 1
         },
         "locationmode": "USA-states",
         "lon": [
          -80.7,
          -92.3
         ],
         "mode": "lines",
         "opacity": 0.1111111111111111,
         "type": "scattergeo"
        },
        {
         "lat": [
          28.4,
          39.7
         ],
         "line": {
          "color": "purple",
          "width": 1
         },
         "locationmode": "USA-states",
         "lon": [
          -80.7,
          -80
         ],
         "mode": "lines",
         "opacity": 0.1111111111111111,
         "type": "scattergeo"
        },
        {
         "lat": [
          28.4,
          40.1
         ],
         "line": {
          "color": "blue",
          "width": 1
         },
         "locationmode": "USA-states",
         "lon": [
          -80.7,
          -88.2
         ],
         "mode": "lines",
         "opacity": 0.1111111111111111,
         "type": "scattergeo"
        },
        {
         "lat": [
          28.5,
          30.4
         ],
         "line": {
          "color": "lightblue",
          "width": 1
         },
         "locationmode": "USA-states",
         "lon": [
          -81.4,
          -84.3
         ],
         "mode": "lines",
         "opacity": 0.1111111111111111,
         "type": "scattergeo"
        },
        {
         "lat": [
          28.5,
          33.2
         ],
         "line": {
          "color": "red",
          "width": 1
         },
         "locationmode": "USA-states",
         "lon": [
          -81.4,
          -87.6
         ],
         "mode": "lines",
         "opacity": 0.1111111111111111,
         "type": "scattergeo"
        },
        {
         "lat": [
          28.5,
          33.4
         ],
         "line": {
          "color": "green",
          "width": 1
         },
         "locationmode": "USA-states",
         "lon": [
          -81.4,
          -111.9
         ],
         "mode": "lines",
         "opacity": 0.1111111111111111,
         "type": "scattergeo"
        },
        {
         "lat": [
          28.5,
          40.4
         ],
         "line": {
          "color": "blue",
          "width": 1
         },
         "locationmode": "USA-states",
         "lon": [
          -81.4,
          -86.9
         ],
         "mode": "lines",
         "opacity": 0.1111111111111111,
         "type": "scattergeo"
        },
        {
         "lat": [
          28.6,
          35.2
         ],
         "line": {
          "color": "purple",
          "width": 1
         },
         "locationmode": "USA-states",
         "lon": [
          -81.6,
          -97.4
         ],
         "mode": "lines",
         "opacity": 0.1111111111111111,
         "type": "scattergeo"
        },
        {
         "lat": [
          28.7,
          28.6
         ],
         "line": {
          "color": "purple",
          "width": 1
         },
         "locationmode": "USA-states",
         "lon": [
          -81.4,
          -81.2
         ],
         "mode": "lines",
         "opacity": 0.1111111111111111,
         "type": "scattergeo"
        },
        {
         "lat": [
          28.8,
          29.6
         ],
         "line": {
          "color": "red",
          "width": 1
         },
         "locationmode": "USA-states",
         "lon": [
          -81.3,
          -82.3
         ],
         "mode": "lines",
         "opacity": 0.1111111111111111,
         "type": "scattergeo"
        },
        {
         "lat": [
          29,
          39
         ],
         "line": {
          "color": "purple",
          "width": 1
         },
         "locationmode": "USA-states",
         "lon": [
          -96.5,
          -95.2
         ],
         "mode": "lines",
         "opacity": 0.1111111111111111,
         "type": "scattergeo"
        },
        {
         "lat": [
          29,
          33.5
         ],
         "line": {
          "color": "red",
          "width": 1
         },
         "locationmode": "USA-states",
         "lon": [
          -81.3,
          -88.8
         ],
         "mode": "lines",
         "opacity": 0.1111111111111111,
         "type": "scattergeo"
        },
        {
         "lat": [
          29.2,
          29.6
         ],
         "line": {
          "color": "red",
          "width": 1
         },
         "locationmode": "USA-states",
         "lon": [
          -82.1,
          -82.3
         ],
         "mode": "lines",
         "opacity": 0.1111111111111111,
         "type": "scattergeo"
        },
        {
         "lat": [
          29.2,
          30.4
         ],
         "line": {
          "color": "red",
          "width": 1
         },
         "locationmode": "USA-states",
         "lon": [
          -82.1,
          -91.2
         ],
         "mode": "lines",
         "opacity": 0.1111111111111111,
         "type": "scattergeo"
        },
        {
         "lat": [
          29.2,
          32.6
         ],
         "line": {
          "color": "red",
          "width": 1
         },
         "locationmode": "USA-states",
         "lon": [
          -82.1,
          -85.5
         ],
         "mode": "lines",
         "opacity": 0.1111111111111111,
         "type": "scattergeo"
        },
        {
         "lat": [
          29.4,
          36.1
         ],
         "line": {
          "color": "red",
          "width": 1
         },
         "locationmode": "USA-states",
         "lon": [
          -98.5,
          -94.2
         ],
         "mode": "lines",
         "opacity": 0.1111111111111111,
         "type": "scattergeo"
        },
        {
         "lat": [
          29.4,
          30.3
         ],
         "line": {
          "color": "purple",
          "width": 1
         },
         "locationmode": "USA-states",
         "lon": [
          -96.9,
          -97.7
         ],
         "mode": "lines",
         "opacity": 0.1111111111111111,
         "type": "scattergeo"
        },
        {
         "lat": [
          29.5,
          33.5
         ],
         "line": {
          "color": "red",
          "width": 1
         },
         "locationmode": "USA-states",
         "lon": [
          -95.1,
          -88.8
         ],
         "mode": "lines",
         "opacity": 0.1111111111111111,
         "type": "scattergeo"
        },
        {
         "lat": [
          29.6,
          30.6
         ],
         "line": {
          "color": "red",
          "width": 1
         },
         "locationmode": "USA-states",
         "lon": [
          -95.8,
          -96.3
         ],
         "mode": "lines",
         "opacity": 0.1111111111111111,
         "type": "scattergeo"
        },
        {
         "lat": [
          29.6,
          31.6
         ],
         "line": {
          "color": "purple",
          "width": 1
         },
         "locationmode": "USA-states",
         "lon": [
          -95.8,
          -97.1
         ],
         "mode": "lines",
         "opacity": 0.1111111111111111,
         "type": "scattergeo"
        },
        {
         "lat": [
          29.6,
          35.2
         ],
         "line": {
          "color": "purple",
          "width": 1
         },
         "locationmode": "USA-states",
         "lon": [
          -95.8,
          -97.4
         ],
         "mode": "lines",
         "opacity": 0.1111111111111111,
         "type": "scattergeo"
        },
        {
         "lat": [
          29.6,
          42
         ],
         "line": {
          "color": "purple",
          "width": 1
         },
         "locationmode": "USA-states",
         "lon": [
          -95.8,
          -93.6
         ],
         "mode": "lines",
         "opacity": 0.1111111111111111,
         "type": "scattergeo"
        },
        {
         "lat": [
          29.6,
          30.6
         ],
         "line": {
          "color": "red",
          "width": 1
         },
         "locationmode": "USA-states",
         "lon": [
          -95.6,
          -96.3
         ],
         "mode": "lines",
         "opacity": 0.1111111111111111,
         "type": "scattergeo"
        },
        {
         "lat": [
          29.6,
          36.1
         ],
         "line": {
          "color": "purple",
          "width": 1
         },
         "locationmode": "USA-states",
         "lon": [
          -95.5,
          -97.1
         ],
         "mode": "lines",
         "opacity": 0.1111111111111111,
         "type": "scattergeo"
        },
        {
         "lat": [
          29.6,
          40.8
         ],
         "line": {
          "color": "blue",
          "width": 1
         },
         "locationmode": "USA-states",
         "lon": [
          -95.5,
          -96.7
         ],
         "mode": "lines",
         "opacity": 0.1111111111111111,
         "type": "scattergeo"
        },
        {
         "lat": [
          29.6,
          29.7
         ],
         "line": {
          "color": "purple",
          "width": 1
         },
         "locationmode": "USA-states",
         "lon": [
          -95.3,
          -95.3
         ],
         "mode": "lines",
         "opacity": 0.2222222222222222,
         "type": "scattergeo"
        },
        {
         "lat": [
          29.6,
          30.3
         ],
         "line": {
          "color": "purple",
          "width": 1
         },
         "locationmode": "USA-states",
         "lon": [
          -95.3,
          -97.7
         ],
         "mode": "lines",
         "opacity": 0.1111111111111111,
         "type": "scattergeo"
        },
        {
         "lat": [
          29.6,
          31.6
         ],
         "line": {
          "color": "purple",
          "width": 1
         },
         "locationmode": "USA-states",
         "lon": [
          -95.3,
          -97.1
         ],
         "mode": "lines",
         "opacity": 0.1111111111111111,
         "type": "scattergeo"
        },
        {
         "lat": [
          29.6,
          40
         ],
         "line": {
          "color": "green",
          "width": 1
         },
         "locationmode": "USA-states",
         "lon": [
          -95.3,
          -105.3
         ],
         "mode": "lines",
         "opacity": 0.1111111111111111,
         "type": "scattergeo"
        },
        {
         "lat": [
          29.6,
          30.4
         ],
         "line": {
          "color": "red",
          "width": 1
         },
         "locationmode": "USA-states",
         "lon": [
          -90.7,
          -91.2
         ],
         "mode": "lines",
         "opacity": 0.1111111111111111,
         "type": "scattergeo"
        },
        {
         "lat": [
          29.7,
          35.2
         ],
         "line": {
          "color": "purple",
          "width": 1
         },
         "locationmode": "USA-states",
         "lon": [
          -95.5,
          -97.4
         ],
         "mode": "lines",
         "opacity": 0.1111111111111111,
         "type": "scattergeo"
        },
        {
         "lat": [
          29.7,
          40
         ],
         "line": {
          "color": "blue",
          "width": 1
         },
         "locationmode": "USA-states",
         "lon": [
          -95.5,
          -83
         ],
         "mode": "lines",
         "opacity": 0.1111111111111111,
         "type": "scattergeo"
        },
        {
         "lat": [
          29.7,
          30.6
         ],
         "line": {
          "color": "red",
          "width": 1
         },
         "locationmode": "USA-states",
         "lon": [
          -95,
          -96.3
         ],
         "mode": "lines",
         "opacity": 0.1111111111111111,
         "type": "scattergeo"
        },
        {
         "lat": [
          29.7,
          30.4
         ],
         "line": {
          "color": "lightblue",
          "width": 1
         },
         "locationmode": "USA-states",
         "lon": [
          -85,
          -84.3
         ],
         "mode": "lines",
         "opacity": 0.1111111111111111,
         "type": "scattergeo"
        },
        {
         "lat": [
          29.8,
          30.3
         ],
         "line": {
          "color": "purple",
          "width": 1
         },
         "locationmode": "USA-states",
         "lon": [
          -95.8,
          -97.7
         ],
         "mode": "lines",
         "opacity": 0.1111111111111111,
         "type": "scattergeo"
        },
        {
         "lat": [
          29.8,
          30.4
         ],
         "line": {
          "color": "lightblue",
          "width": 1
         },
         "locationmode": "USA-states",
         "lon": [
          -95.8,
          -84.3
         ],
         "mode": "lines",
         "opacity": 0.1111111111111111,
         "type": "scattergeo"
        },
        {
         "lat": [
          29.8,
          30.6
         ],
         "line": {
          "color": "red",
          "width": 1
         },
         "locationmode": "USA-states",
         "lon": [
          -95.8,
          -96.3
         ],
         "mode": "lines",
         "opacity": 0.3333333333333333,
         "type": "scattergeo"
        },
        {
         "lat": [
          29.8,
          32.2
         ],
         "line": {
          "color": "green",
          "width": 1
         },
         "locationmode": "USA-states",
         "lon": [
          -95.8,
          -110.9
         ],
         "mode": "lines",
         "opacity": 0.1111111111111111,
         "type": "scattergeo"
        },
        {
         "lat": [
          29.8,
          33.2
         ],
         "line": {
          "color": "red",
          "width": 1
         },
         "locationmode": "USA-states",
         "lon": [
          -95.8,
          -87.6
         ],
         "mode": "lines",
         "opacity": 0.1111111111111111,
         "type": "scattergeo"
        },
        {
         "lat": [
          29.8,
          34
         ],
         "line": {
          "color": "green",
          "width": 1
         },
         "locationmode": "USA-states",
         "lon": [
          -95.8,
          -118.3
         ],
         "mode": "lines",
         "opacity": 0.1111111111111111,
         "type": "scattergeo"
        },
        {
         "lat": [
          29.8,
          40
         ],
         "line": {
          "color": "green",
          "width": 1
         },
         "locationmode": "USA-states",
         "lon": [
          -95.8,
          -105.3
         ],
         "mode": "lines",
         "opacity": 0.1111111111111111,
         "type": "scattergeo"
        },
        {
         "lat": [
          29.8,
          29.7
         ],
         "line": {
          "color": "purple",
          "width": 1
         },
         "locationmode": "USA-states",
         "lon": [
          -95.4,
          -95.3
         ],
         "mode": "lines",
         "opacity": 0.2222222222222222,
         "type": "scattergeo"
        },
        {
         "lat": [
          29.8,
          30.3
         ],
         "line": {
          "color": "purple",
          "width": 1
         },
         "locationmode": "USA-states",
         "lon": [
          -95.4,
          -97.7
         ],
         "mode": "lines",
         "opacity": 0.1111111111111111,
         "type": "scattergeo"
        },
        {
         "lat": [
          29.8,
          30.6
         ],
         "line": {
          "color": "red",
          "width": 1
         },
         "locationmode": "USA-states",
         "lon": [
          -95.4,
          -96.3
         ],
         "mode": "lines",
         "opacity": 0.1111111111111111,
         "type": "scattergeo"
        },
        {
         "lat": [
          29.8,
          31.6
         ],
         "line": {
          "color": "purple",
          "width": 1
         },
         "locationmode": "USA-states",
         "lon": [
          -95.4,
          -97.1
         ],
         "mode": "lines",
         "opacity": 0.1111111111111111,
         "type": "scattergeo"
        },
        {
         "lat": [
          29.8,
          32.2
         ],
         "line": {
          "color": "green",
          "width": 1
         },
         "locationmode": "USA-states",
         "lon": [
          -95.4,
          -110.9
         ],
         "mode": "lines",
         "opacity": 0.1111111111111111,
         "type": "scattergeo"
        },
        {
         "lat": [
          29.8,
          32.6
         ],
         "line": {
          "color": "red",
          "width": 1
         },
         "locationmode": "USA-states",
         "lon": [
          -95.4,
          -85.5
         ],
         "mode": "lines",
         "opacity": 0.1111111111111111,
         "type": "scattergeo"
        },
        {
         "lat": [
          29.8,
          32.7
         ],
         "line": {
          "color": "purple",
          "width": 1
         },
         "locationmode": "USA-states",
         "lon": [
          -95.4,
          -97.4
         ],
         "mode": "lines",
         "opacity": 0.2222222222222222,
         "type": "scattergeo"
        },
        {
         "lat": [
          29.8,
          33.2
         ],
         "line": {
          "color": "red",
          "width": 1
         },
         "locationmode": "USA-states",
         "lon": [
          -95.4,
          -87.6
         ],
         "mode": "lines",
         "opacity": 0.1111111111111111,
         "type": "scattergeo"
        },
        {
         "lat": [
          29.8,
          33.4
         ],
         "line": {
          "color": "green",
          "width": 1
         },
         "locationmode": "USA-states",
         "lon": [
          -91.5,
          -111.9
         ],
         "mode": "lines",
         "opacity": 0.1111111111111111,
         "type": "scattergeo"
        },
        {
         "lat": [
          29.9,
          30.3
         ],
         "line": {
          "color": "purple",
          "width": 1
         },
         "locationmode": "USA-states",
         "lon": [
          -93.9,
          -97.7
         ],
         "mode": "lines",
         "opacity": 0.2222222222222222,
         "type": "scattergeo"
        },
        {
         "lat": [
          29.9,
          30.3
         ],
         "line": {
          "color": "purple",
          "width": 1
         },
         "locationmode": "USA-states",
         "lon": [
          -90.1,
          -97.7
         ],
         "mode": "lines",
         "opacity": 0.2222222222222222,
         "type": "scattergeo"
        },
        {
         "lat": [
          29.9,
          30.4
         ],
         "line": {
          "color": "lightblue",
          "width": 1
         },
         "locationmode": "USA-states",
         "lon": [
          -90.1,
          -84.3
         ],
         "mode": "lines",
         "opacity": 0.2222222222222222,
         "type": "scattergeo"
        },
        {
         "lat": [
          29.9,
          32.2
         ],
         "line": {
          "color": "green",
          "width": 1
         },
         "locationmode": "USA-states",
         "lon": [
          -90.1,
          -110.9
         ],
         "mode": "lines",
         "opacity": 0.1111111111111111,
         "type": "scattergeo"
        },
        {
         "lat": [
          29.9,
          33.2
         ],
         "line": {
          "color": "red",
          "width": 1
         },
         "locationmode": "USA-states",
         "lon": [
          -90.1,
          -87.6
         ],
         "mode": "lines",
         "opacity": 0.1111111111111111,
         "type": "scattergeo"
        },
        {
         "lat": [
          29.9,
          34.4
         ],
         "line": {
          "color": "red",
          "width": 1
         },
         "locationmode": "USA-states",
         "lon": [
          -90.1,
          -89.5
         ],
         "mode": "lines",
         "opacity": 0.1111111111111111,
         "type": "scattergeo"
        },
        {
         "lat": [
          29.9,
          35.9
         ],
         "line": {
          "color": "lightblue",
          "width": 1
         },
         "locationmode": "USA-states",
         "lon": [
          -82.1,
          -79
         ],
         "mode": "lines",
         "opacity": 0.1111111111111111,
         "type": "scattergeo"
        },
        {
         "lat": [
          29.9,
          45
         ],
         "line": {
          "color": "blue",
          "width": 1
         },
         "locationmode": "USA-states",
         "lon": [
          -81.3,
          -93.2
         ],
         "mode": "lines",
         "opacity": 0.1111111111111111,
         "type": "scattergeo"
        },
        {
         "lat": [
          30,
          30.6
         ],
         "line": {
          "color": "red",
          "width": 1
         },
         "locationmode": "USA-states",
         "lon": [
          -95.7,
          -96.3
         ],
         "mode": "lines",
         "opacity": 0.1111111111111111,
         "type": "scattergeo"
        },
        {
         "lat": [
          30,
          31.6
         ],
         "line": {
          "color": "purple",
          "width": 1
         },
         "locationmode": "USA-states",
         "lon": [
          -95.7,
          -97.1
         ],
         "mode": "lines",
         "opacity": 0.1111111111111111,
         "type": "scattergeo"
        },
        {
         "lat": [
          30,
          33.8
         ],
         "line": {
          "color": "lightblue",
          "width": 1
         },
         "locationmode": "USA-states",
         "lon": [
          -95.7,
          -84.4
         ],
         "mode": "lines",
         "opacity": 0.1111111111111111,
         "type": "scattergeo"
        },
        {
         "lat": [
          30,
          38
         ],
         "line": {
          "color": "lightblue",
          "width": 1
         },
         "locationmode": "USA-states",
         "lon": [
          -95.7,
          -78.5
         ],
         "mode": "lines",
         "opacity": 0.1111111111111111,
         "type": "scattergeo"
        },
        {
         "lat": [
          30,
          31.6
         ],
         "line": {
          "color": "purple",
          "width": 1
         },
         "locationmode": "USA-states",
         "lon": [
          -95.3,
          -97.1
         ],
         "mode": "lines",
         "opacity": 0.1111111111111111,
         "type": "scattergeo"
        },
        {
         "lat": [
          30,
          32.6
         ],
         "line": {
          "color": "red",
          "width": 1
         },
         "locationmode": "USA-states",
         "lon": [
          -95.3,
          -85.5
         ],
         "mode": "lines",
         "opacity": 0.1111111111111111,
         "type": "scattergeo"
        },
        {
         "lat": [
          30,
          30.4
         ],
         "line": {
          "color": "red",
          "width": 1
         },
         "locationmode": "USA-states",
         "lon": [
          -90.8,
          -91.2
         ],
         "mode": "lines",
         "opacity": 0.1111111111111111,
         "type": "scattergeo"
        },
        {
         "lat": [
          30,
          34
         ],
         "line": {
          "color": "red",
          "width": 1
         },
         "locationmode": "USA-states",
         "lon": [
          -90.2,
          -81
         ],
         "mode": "lines",
         "opacity": 0.1111111111111111,
         "type": "scattergeo"
        },
        {
         "lat": [
          30.1,
          34
         ],
         "line": {
          "color": "green",
          "width": 1
         },
         "locationmode": "USA-states",
         "lon": [
          -95.6,
          -118.3
         ],
         "mode": "lines",
         "opacity": 0.1111111111111111,
         "type": "scattergeo"
        },
        {
         "lat": [
          30.1,
          32.2
         ],
         "line": {
          "color": "green",
          "width": 1
         },
         "locationmode": "USA-states",
         "lon": [
          -95.4,
          -110.9
         ],
         "mode": "lines",
         "opacity": 0.1111111111111111,
         "type": "scattergeo"
        },
        {
         "lat": [
          30.1,
          33.6
         ],
         "line": {
          "color": "purple",
          "width": 1
         },
         "locationmode": "USA-states",
         "lon": [
          -95.4,
          -101.9
         ],
         "mode": "lines",
         "opacity": 0.1111111111111111,
         "type": "scattergeo"
        },
        {
         "lat": [
          30.1,
          31.6
         ],
         "line": {
          "color": "purple",
          "width": 1
         },
         "locationmode": "USA-states",
         "lon": [
          -93.7,
          -97.1
         ],
         "mode": "lines",
         "opacity": 0.1111111111111111,
         "type": "scattergeo"
        },
        {
         "lat": [
          30.1,
          30.4
         ],
         "line": {
          "color": "red",
          "width": 1
         },
         "locationmode": "USA-states",
         "lon": [
          -92,
          -91.2
         ],
         "mode": "lines",
         "opacity": 0.1111111111111111,
         "type": "scattergeo"
        },
        {
         "lat": [
          30.1,
          31.6
         ],
         "line": {
          "color": "purple",
          "width": 1
         },
         "locationmode": "USA-states",
         "lon": [
          -90.6,
          -97.1
         ],
         "mode": "lines",
         "opacity": 0.1111111111111111,
         "type": "scattergeo"
        },
        {
         "lat": [
          30.2,
          39
         ],
         "line": {
          "color": "purple",
          "width": 1
         },
         "locationmode": "USA-states",
         "lon": [
          -97.6,
          -95.2
         ],
         "mode": "lines",
         "opacity": 0.1111111111111111,
         "type": "scattergeo"
        },
        {
         "lat": [
          30.2,
          42.3
         ],
         "line": {
          "color": "blue",
          "width": 1
         },
         "locationmode": "USA-states",
         "lon": [
          -97.6,
          -83.7
         ],
         "mode": "lines",
         "opacity": 0.1111111111111111,
         "type": "scattergeo"
        },
        {
         "lat": [
          30.2,
          30.6
         ],
         "line": {
          "color": "red",
          "width": 1
         },
         "locationmode": "USA-states",
         "lon": [
          -95.8,
          -96.3
         ],
         "mode": "lines",
         "opacity": 0.1111111111111111,
         "type": "scattergeo"
        },
        {
         "lat": [
          30.2,
          33.5
         ],
         "line": {
          "color": "red",
          "width": 1
         },
         "locationmode": "USA-states",
         "lon": [
          -95.5,
          -88.8
         ],
         "mode": "lines",
         "opacity": 0.1111111111111111,
         "type": "scattergeo"
        },
        {
         "lat": [
          30.2,
          36.1
         ],
         "line": {
          "color": "lightblue",
          "width": 1
         },
         "locationmode": "USA-states",
         "lon": [
          -95.5,
          -80.3
         ],
         "mode": "lines",
         "opacity": 0.1111111111111111,
         "type": "scattergeo"
        },
        {
         "lat": [
          30.2,
          30.3
         ],
         "line": {
          "color": "purple",
          "width": 1
         },
         "locationmode": "USA-states",
         "lon": [
          -95.2,
          -97.7
         ],
         "mode": "lines",
         "opacity": 0.1111111111111111,
         "type": "scattergeo"
        },
        {
         "lat": [
          30.2,
          30.4
         ],
         "line": {
          "color": "red",
          "width": 1
         },
         "locationmode": "USA-states",
         "lon": [
          -92,
          -91.2
         ],
         "mode": "lines",
         "opacity": 0.2222222222222222,
         "type": "scattergeo"
        },
        {
         "lat": [
          30.2,
          30.4
         ],
         "line": {
          "color": "lightblue",
          "width": 1
         },
         "locationmode": "USA-states",
         "lon": [
          -82.6,
          -84.3
         ],
         "mode": "lines",
         "opacity": 0.1111111111111111,
         "type": "scattergeo"
        },
        {
         "lat": [
          30.2,
          35.8
         ],
         "line": {
          "color": "lightblue",
          "width": 1
         },
         "locationmode": "USA-states",
         "lon": [
          -81.4,
          -78.7
         ],
         "mode": "lines",
         "opacity": 0.1111111111111111,
         "type": "scattergeo"
        },
        {
         "lat": [
          30.3,
          30.3
         ],
         "line": {
          "color": "purple",
          "width": 1
         },
         "locationmode": "USA-states",
         "lon": [
          -97.7,
          -97.7
         ],
         "mode": "lines",
         "opacity": 0.1111111111111111,
         "type": "scattergeo"
        },
        {
         "lat": [
          30.3,
          34
         ],
         "line": {
          "color": "green",
          "width": 1
         },
         "locationmode": "USA-states",
         "lon": [
          -97.7,
          -118.3
         ],
         "mode": "lines",
         "opacity": 0.1111111111111111,
         "type": "scattergeo"
        },
        {
         "lat": [
          30.3,
          34.7
         ],
         "line": {
          "color": "lightblue",
          "width": 1
         },
         "locationmode": "USA-states",
         "lon": [
          -97.7,
          -82.8
         ],
         "mode": "lines",
         "opacity": 0.1111111111111111,
         "type": "scattergeo"
        },
        {
         "lat": [
          30.3,
          35.2
         ],
         "line": {
          "color": "purple",
          "width": 1
         },
         "locationmode": "USA-states",
         "lon": [
          -97.7,
          -97.4
         ],
         "mode": "lines",
         "opacity": 0.1111111111111111,
         "type": "scattergeo"
        },
        {
         "lat": [
          30.3,
          36
         ],
         "line": {
          "color": "lightblue",
          "width": 1
         },
         "locationmode": "USA-states",
         "lon": [
          -97.7,
          -78.9
         ],
         "mode": "lines",
         "opacity": 0.1111111111111111,
         "type": "scattergeo"
        },
        {
         "lat": [
          30.3,
          40.4
         ],
         "line": {
          "color": "lightblue",
          "width": 1
         },
         "locationmode": "USA-states",
         "lon": [
          -97.7,
          -80
         ],
         "mode": "lines",
         "opacity": 0.1111111111111111,
         "type": "scattergeo"
        },
        {
         "lat": [
          30.3,
          31.6
         ],
         "line": {
          "color": "purple",
          "width": 1
         },
         "locationmode": "USA-states",
         "lon": [
          -97.6,
          -97.1
         ],
         "mode": "lines",
         "opacity": 0.1111111111111111,
         "type": "scattergeo"
        },
        {
         "lat": [
          30.3,
          29.7
         ],
         "line": {
          "color": "purple",
          "width": 1
         },
         "locationmode": "USA-states",
         "lon": [
          -95.5,
          -95.3
         ],
         "mode": "lines",
         "opacity": 0.1111111111111111,
         "type": "scattergeo"
        },
        {
         "lat": [
          30.3,
          36
         ],
         "line": {
          "color": "lightblue",
          "width": 1
         },
         "locationmode": "USA-states",
         "lon": [
          -83,
          -78.9
         ],
         "mode": "lines",
         "opacity": 0.1111111111111111,
         "type": "scattergeo"
        },
        {
         "lat": [
          30.3,
          29.6
         ],
         "line": {
          "color": "red",
          "width": 1
         },
         "locationmode": "USA-states",
         "lon": [
          -81.7,
          -82.3
         ],
         "mode": "lines",
         "opacity": 0.3333333333333333,
         "type": "scattergeo"
        },
        {
         "lat": [
          30.3,
          33.5
         ],
         "line": {
          "color": "red",
          "width": 1
         },
         "locationmode": "USA-states",
         "lon": [
          -81.7,
          -88.8
         ],
         "mode": "lines",
         "opacity": 0.1111111111111111,
         "type": "scattergeo"
        },
        {
         "lat": [
          30.3,
          36.1
         ],
         "line": {
          "color": "lightblue",
          "width": 1
         },
         "locationmode": "USA-states",
         "lon": [
          -81.7,
          -80.3
         ],
         "mode": "lines",
         "opacity": 0.1111111111111111,
         "type": "scattergeo"
        },
        {
         "lat": [
          30.3,
          39
         ],
         "line": {
          "color": "blue",
          "width": 1
         },
         "locationmode": "USA-states",
         "lon": [
          -81.7,
          -76.9
         ],
         "mode": "lines",
         "opacity": 0.2222222222222222,
         "type": "scattergeo"
        },
        {
         "lat": [
          30.3,
          39.2
         ],
         "line": {
          "color": "blue",
          "width": 1
         },
         "locationmode": "USA-states",
         "lon": [
          -81.7,
          -86.5
         ],
         "mode": "lines",
         "opacity": 0.1111111111111111,
         "type": "scattergeo"
        },
        {
         "lat": [
          30.3,
          40.1
         ],
         "line": {
          "color": "blue",
          "width": 1
         },
         "locationmode": "USA-states",
         "lon": [
          -81.7,
          -88.2
         ],
         "mode": "lines",
         "opacity": 0.1111111111111111,
         "type": "scattergeo"
        },
        {
         "lat": [
          30.3,
          41.7
         ],
         "line": {
          "color": "blue",
          "width": 1
         },
         "locationmode": "USA-states",
         "lon": [
          -81.7,
          -91.6
         ],
         "mode": "lines",
         "opacity": 0.1111111111111111,
         "type": "scattergeo"
        },
        {
         "lat": [
          30.3,
          39.1
         ],
         "line": {
          "color": "purple",
          "width": 1
         },
         "locationmode": "USA-states",
         "lon": [
          -81.4,
          -84.5
         ],
         "mode": "lines",
         "opacity": 0.1111111111111111,
         "type": "scattergeo"
        },
        {
         "lat": [
          30.4,
          36.1
         ],
         "line": {
          "color": "red",
          "width": 1
         },
         "locationmode": "USA-states",
         "lon": [
          -91.9,
          -94.2
         ],
         "mode": "lines",
         "opacity": 0.1111111111111111,
         "type": "scattergeo"
        },
        {
         "lat": [
          30.4,
          30.6
         ],
         "line": {
          "color": "red",
          "width": 1
         },
         "locationmode": "USA-states",
         "lon": [
          -91.2,
          -96.3
         ],
         "mode": "lines",
         "opacity": 0.1111111111111111,
         "type": "scattergeo"
        },
        {
         "lat": [
          30.4,
          32.7
         ],
         "line": {
          "color": "purple",
          "width": 1
         },
         "locationmode": "USA-states",
         "lon": [
          -91.2,
          -97.4
         ],
         "mode": "lines",
         "opacity": 0.1111111111111111,
         "type": "scattergeo"
        },
        {
         "lat": [
          30.4,
          40.4
         ],
         "line": {
          "color": "blue",
          "width": 1
         },
         "locationmode": "USA-states",
         "lon": [
          -91.2,
          -86.9
         ],
         "mode": "lines",
         "opacity": 0.1111111111111111,
         "type": "scattergeo"
        },
        {
         "lat": [
          30.4,
          34.4
         ],
         "line": {
          "color": "red",
          "width": 1
         },
         "locationmode": "USA-states",
         "lon": [
          -90.1,
          -89.5
         ],
         "mode": "lines",
         "opacity": 0.1111111111111111,
         "type": "scattergeo"
        },
        {
         "lat": [
          30.4,
          33.5
         ],
         "line": {
          "color": "red",
          "width": 1
         },
         "locationmode": "USA-states",
         "lon": [
          -89.1,
          -88.8
         ],
         "mode": "lines",
         "opacity": 0.1111111111111111,
         "type": "scattergeo"
        },
        {
         "lat": [
          30.4,
          34.4
         ],
         "line": {
          "color": "red",
          "width": 1
         },
         "locationmode": "USA-states",
         "lon": [
          -88.8,
          -89.5
         ],
         "mode": "lines",
         "opacity": 0.1111111111111111,
         "type": "scattergeo"
        },
        {
         "lat": [
          30.4,
          45
         ],
         "line": {
          "color": "blue",
          "width": 1
         },
         "locationmode": "USA-states",
         "lon": [
          -88.8,
          -93.2
         ],
         "mode": "lines",
         "opacity": 0.1111111111111111,
         "type": "scattergeo"
        },
        {
         "lat": [
          30.4,
          30.4
         ],
         "line": {
          "color": "red",
          "width": 1
         },
         "locationmode": "USA-states",
         "lon": [
          -87.2,
          -91.2
         ],
         "mode": "lines",
         "opacity": 0.1111111111111111,
         "type": "scattergeo"
        },
        {
         "lat": [
          30.4,
          33.5
         ],
         "line": {
          "color": "red",
          "width": 1
         },
         "locationmode": "USA-states",
         "lon": [
          -87.2,
          -88.8
         ],
         "mode": "lines",
         "opacity": 0.1111111111111111,
         "type": "scattergeo"
        },
        {
         "lat": [
          30.4,
          32.6
         ],
         "line": {
          "color": "red",
          "width": 1
         },
         "locationmode": "USA-states",
         "lon": [
          -84.3,
          -85.5
         ],
         "mode": "lines",
         "opacity": 0.1111111111111111,
         "type": "scattergeo"
        },
        {
         "lat": [
          30.4,
          33.2
         ],
         "line": {
          "color": "red",
          "width": 1
         },
         "locationmode": "USA-states",
         "lon": [
          -84.3,
          -87.6
         ],
         "mode": "lines",
         "opacity": 0.1111111111111111,
         "type": "scattergeo"
        },
        {
         "lat": [
          30.4,
          36
         ],
         "line": {
          "color": "red",
          "width": 1
         },
         "locationmode": "USA-states",
         "lon": [
          -84.3,
          -83.9
         ],
         "mode": "lines",
         "opacity": 0.1111111111111111,
         "type": "scattergeo"
        },
        {
         "lat": [
          30.5,
          32.7
         ],
         "line": {
          "color": "purple",
          "width": 1
         },
         "locationmode": "USA-states",
         "lon": [
          -97.5,
          -97.4
         ],
         "mode": "lines",
         "opacity": 0.1111111111111111,
         "type": "scattergeo"
        },
        {
         "lat": [
          30.5,
          42.7
         ],
         "line": {
          "color": "blue",
          "width": 1
         },
         "locationmode": "USA-states",
         "lon": [
          -92.1,
          -84.5
         ],
         "mode": "lines",
         "opacity": 0.1111111111111111,
         "type": "scattergeo"
        },
        {
         "lat": [
          30.5,
          30.4
         ],
         "line": {
          "color": "red",
          "width": 1
         },
         "locationmode": "USA-states",
         "lon": [
          -90.9,
          -91.2
         ],
         "mode": "lines",
         "opacity": 0.1111111111111111,
         "type": "scattergeo"
        },
        {
         "lat": [
          30.5,
          36
         ],
         "line": {
          "color": "lightblue",
          "width": 1
         },
         "locationmode": "USA-states",
         "lon": [
          -87.9,
          -78.9
         ],
         "mode": "lines",
         "opacity": 0.1111111111111111,
         "type": "scattergeo"
        },
        {
         "lat": [
          30.5,
          30.4
         ],
         "line": {
          "color": "red",
          "width": 1
         },
         "locationmode": "USA-states",
         "lon": [
          -86.5,
          -91.2
         ],
         "mode": "lines",
         "opacity": 0.1111111111111111,
         "type": "scattergeo"
        },
        {
         "lat": [
          30.6,
          30.4
         ],
         "line": {
          "color": "red",
          "width": 1
         },
         "locationmode": "USA-states",
         "lon": [
          -91.2,
          -91.2
         ],
         "mode": "lines",
         "opacity": 0.1111111111111111,
         "type": "scattergeo"
        },
        {
         "lat": [
          30.6,
          32.7
         ],
         "line": {
          "color": "purple",
          "width": 1
         },
         "locationmode": "USA-states",
         "lon": [
          -87.9,
          -97.4
         ],
         "mode": "lines",
         "opacity": 0.1111111111111111,
         "type": "scattergeo"
        },
        {
         "lat": [
          30.6,
          32.6
         ],
         "line": {
          "color": "red",
          "width": 1
         },
         "locationmode": "USA-states",
         "lon": [
          -87,
          -85.5
         ],
         "mode": "lines",
         "opacity": 0.1111111111111111,
         "type": "scattergeo"
        },
        {
         "lat": [
          30.6,
          40.1
         ],
         "line": {
          "color": "blue",
          "width": 1
         },
         "locationmode": "USA-states",
         "lon": [
          -87,
          -88.2
         ],
         "mode": "lines",
         "opacity": 0.1111111111111111,
         "type": "scattergeo"
        },
        {
         "lat": [
          30.6,
          39
         ],
         "line": {
          "color": "purple",
          "width": 1
         },
         "locationmode": "USA-states",
         "lon": [
          -84.6,
          -95.2
         ],
         "mode": "lines",
         "opacity": 0.1111111111111111,
         "type": "scattergeo"
        },
        {
         "lat": [
          30.6,
          39
         ],
         "line": {
          "color": "blue",
          "width": 1
         },
         "locationmode": "USA-states",
         "lon": [
          -84.4,
          -76.9
         ],
         "mode": "lines",
         "opacity": 0.1111111111111111,
         "type": "scattergeo"
        },
        {
         "lat": [
          30.7,
          31.6
         ],
         "line": {
          "color": "purple",
          "width": 1
         },
         "locationmode": "USA-states",
         "lon": [
          -97.7,
          -97.1
         ],
         "mode": "lines",
         "opacity": 0.1111111111111111,
         "type": "scattergeo"
        },
        {
         "lat": [
          30.7,
          33.6
         ],
         "line": {
          "color": "purple",
          "width": 1
         },
         "locationmode": "USA-states",
         "lon": [
          -97,
          -101.9
         ],
         "mode": "lines",
         "opacity": 0.1111111111111111,
         "type": "scattergeo"
        },
        {
         "lat": [
          30.7,
          30.3
         ],
         "line": {
          "color": "purple",
          "width": 1
         },
         "locationmode": "USA-states",
         "lon": [
          -96.4,
          -97.7
         ],
         "mode": "lines",
         "opacity": 0.1111111111111111,
         "type": "scattergeo"
        },
        {
         "lat": [
          30.7,
          30.4
         ],
         "line": {
          "color": "red",
          "width": 1
         },
         "locationmode": "USA-states",
         "lon": [
          -91.4,
          -91.2
         ],
         "mode": "lines",
         "opacity": 0.1111111111111111,
         "type": "scattergeo"
        },
        {
         "lat": [
          30.7,
          33.2
         ],
         "line": {
          "color": "red",
          "width": 1
         },
         "locationmode": "USA-states",
         "lon": [
          -88,
          -87.6
         ],
         "mode": "lines",
         "opacity": 0.1111111111111111,
         "type": "scattergeo"
        },
        {
         "lat": [
          30.7,
          34
         ],
         "line": {
          "color": "red",
          "width": 1
         },
         "locationmode": "USA-states",
         "lon": [
          -88,
          -81
         ],
         "mode": "lines",
         "opacity": 0.1111111111111111,
         "type": "scattergeo"
        },
        {
         "lat": [
          30.7,
          39
         ],
         "line": {
          "color": "purple",
          "width": 1
         },
         "locationmode": "USA-states",
         "lon": [
          -88,
          -95.2
         ],
         "mode": "lines",
         "opacity": 0.2222222222222222,
         "type": "scattergeo"
        },
        {
         "lat": [
          30.7,
          42.1
         ],
         "line": {
          "color": "blue",
          "width": 1
         },
         "locationmode": "USA-states",
         "lon": [
          -88,
          -87.7
         ],
         "mode": "lines",
         "opacity": 0.1111111111111111,
         "type": "scattergeo"
        },
        {
         "lat": [
          30.7,
          34.2
         ],
         "line": {
          "color": "green",
          "width": 1
         },
         "locationmode": "USA-states",
         "lon": [
          -87.9,
          -118.2
         ],
         "mode": "lines",
         "opacity": 0.1111111111111111,
         "type": "scattergeo"
        },
        {
         "lat": [
          30.7,
          38
         ],
         "line": {
          "color": "lightblue",
          "width": 1
         },
         "locationmode": "USA-states",
         "lon": [
          -87.9,
          -78.5
         ],
         "mode": "lines",
         "opacity": 0.1111111111111111,
         "type": "scattergeo"
        },
        {
         "lat": [
          30.8,
          32.6
         ],
         "line": {
          "color": "red",
          "width": 1
         },
         "locationmode": "USA-states",
         "lon": [
          -88.1,
          -85.5
         ],
         "mode": "lines",
         "opacity": 0.2222222222222222,
         "type": "scattergeo"
        },
        {
         "lat": [
          30.8,
          26
         ],
         "line": {
          "color": "lightblue",
          "width": 1
         },
         "locationmode": "USA-states",
         "lon": [
          -83.3,
          -80.2
         ],
         "mode": "lines",
         "opacity": 0.1111111111111111,
         "type": "scattergeo"
        },
        {
         "lat": [
          30.8,
          36.1
         ],
         "line": {
          "color": "red",
          "width": 1
         },
         "locationmode": "USA-states",
         "lon": [
          -83.3,
          -86.8
         ],
         "mode": "lines",
         "opacity": 0.1111111111111111,
         "type": "scattergeo"
        },
        {
         "lat": [
          30.8,
          38.2
         ],
         "line": {
          "color": "lightblue",
          "width": 1
         },
         "locationmode": "USA-states",
         "lon": [
          -83.3,
          -85.8
         ],
         "mode": "lines",
         "opacity": 0.2222222222222222,
         "type": "scattergeo"
        },
        {
         "lat": [
          30.8,
          33.9
         ],
         "line": {
          "color": "red",
          "width": 1
         },
         "locationmode": "USA-states",
         "lon": [
          -81.7,
          -83.4
         ],
         "mode": "lines",
         "opacity": 0.1111111111111111,
         "type": "scattergeo"
        },
        {
         "lat": [
          30.8,
          40.8
         ],
         "line": {
          "color": "blue",
          "width": 1
         },
         "locationmode": "USA-states",
         "lon": [
          -81.7,
          -96.7
         ],
         "mode": "lines",
         "opacity": 0.1111111111111111,
         "type": "scattergeo"
        },
        {
         "lat": [
          30.9,
          34.4
         ],
         "line": {
          "color": "red",
          "width": 1
         },
         "locationmode": "USA-states",
         "lon": [
          -88.6,
          -89.5
         ],
         "mode": "lines",
         "opacity": 0.1111111111111111,
         "type": "scattergeo"
        },
        {
         "lat": [
          31.1,
          31.6
         ],
         "line": {
          "color": "purple",
          "width": 1
         },
         "locationmode": "USA-states",
         "lon": [
          -97.7,
          -97.1
         ],
         "mode": "lines",
         "opacity": 0.1111111111111111,
         "type": "scattergeo"
        },
        {
         "lat": [
          31.1,
          38.2
         ],
         "line": {
          "color": "lightblue",
          "width": 1
         },
         "locationmode": "USA-states",
         "lon": [
          -81.5,
          -85.8
         ],
         "mode": "lines",
         "opacity": 0.1111111111111111,
         "type": "scattergeo"
        },
        {
         "lat": [
          31.2,
          39.2
         ],
         "line": {
          "color": "purple",
          "width": 1
         },
         "locationmode": "USA-states",
         "lon": [
          -83.8,
          -96.6
         ],
         "mode": "lines",
         "opacity": 0.1111111111111111,
         "type": "scattergeo"
        },
        {
         "lat": [
          31.2,
          45
         ],
         "line": {
          "color": "blue",
          "width": 1
         },
         "locationmode": "USA-states",
         "lon": [
          -83.8,
          -93.2
         ],
         "mode": "lines",
         "opacity": 0.1111111111111111,
         "type": "scattergeo"
        },
        {
         "lat": [
          31.2,
          36.1
         ],
         "line": {
          "color": "red",
          "width": 1
         },
         "locationmode": "USA-states",
         "lon": [
          -82.4,
          -86.8
         ],
         "mode": "lines",
         "opacity": 0.1111111111111111,
         "type": "scattergeo"
        },
        {
         "lat": [
          31.3,
          47.7
         ],
         "line": {
          "color": "green",
          "width": 1
         },
         "locationmode": "USA-states",
         "lon": [
          -94.7,
          -122.3
         ],
         "mode": "lines",
         "opacity": 0.1111111111111111,
         "type": "scattergeo"
        },
        {
         "lat": [
          31.3,
          37.4
         ],
         "line": {
          "color": "green",
          "width": 1
         },
         "locationmode": "USA-states",
         "lon": [
          -92.4,
          -122.2
         ],
         "mode": "lines",
         "opacity": 0.1111111111111111,
         "type": "scattergeo"
        },
        {
         "lat": [
          31.3,
          40.1
         ],
         "line": {
          "color": "blue",
          "width": 1
         },
         "locationmode": "USA-states",
         "lon": [
          -85.9,
          -88.2
         ],
         "mode": "lines",
         "opacity": 0.1111111111111111,
         "type": "scattergeo"
        },
        {
         "lat": [
          31.4,
          31.6
         ],
         "line": {
          "color": "purple",
          "width": 1
         },
         "locationmode": "USA-states",
         "lon": [
          -100.3,
          -97.1
         ],
         "mode": "lines",
         "opacity": 0.1111111111111111,
         "type": "scattergeo"
        },
        {
         "lat": [
          31.6,
          36
         ],
         "line": {
          "color": "lightblue",
          "width": 1
         },
         "locationmode": "USA-states",
         "lon": [
          -84.2,
          -78.9
         ],
         "mode": "lines",
         "opacity": 0.1111111111111111,
         "type": "scattergeo"
        },
        {
         "lat": [
          31.6,
          33.8
         ],
         "line": {
          "color": "lightblue",
          "width": 1
         },
         "locationmode": "USA-states",
         "lon": [
          -81.9,
          -84.4
         ],
         "mode": "lines",
         "opacity": 0.1111111111111111,
         "type": "scattergeo"
        },
        {
         "lat": [
          31.6,
          38
         ],
         "line": {
          "color": "red",
          "width": 1
         },
         "locationmode": "USA-states",
         "lon": [
          -81.9,
          -84.5
         ],
         "mode": "lines",
         "opacity": 0.1111111111111111,
         "type": "scattergeo"
        },
        {
         "lat": [
          31.7,
          39
         ],
         "line": {
          "color": "purple",
          "width": 1
         },
         "locationmode": "USA-states",
         "lon": [
          -97.3,
          -95.2
         ],
         "mode": "lines",
         "opacity": 0.1111111111111111,
         "type": "scattergeo"
        },
        {
         "lat": [
          31.7,
          34
         ],
         "line": {
          "color": "red",
          "width": 1
         },
         "locationmode": "USA-states",
         "lon": [
          -84.2,
          -81
         ],
         "mode": "lines",
         "opacity": 0.1111111111111111,
         "type": "scattergeo"
        },
        {
         "lat": [
          31.7,
          38
         ],
         "line": {
          "color": "red",
          "width": 1
         },
         "locationmode": "USA-states",
         "lon": [
          -84.2,
          -84.5
         ],
         "mode": "lines",
         "opacity": 0.1111111111111111,
         "type": "scattergeo"
        },
        {
         "lat": [
          31.9,
          32.6
         ],
         "line": {
          "color": "red",
          "width": 1
         },
         "locationmode": "USA-states",
         "lon": [
          -89.7,
          -85.5
         ],
         "mode": "lines",
         "opacity": 0.1111111111111111,
         "type": "scattergeo"
        },
        {
         "lat": [
          31.9,
          33.5
         ],
         "line": {
          "color": "red",
          "width": 1
         },
         "locationmode": "USA-states",
         "lon": [
          -85.2,
          -88.8
         ],
         "mode": "lines",
         "opacity": 0.1111111111111111,
         "type": "scattergeo"
        },
        {
         "lat": [
          32,
          33.8
         ],
         "line": {
          "color": "lightblue",
          "width": 1
         },
         "locationmode": "USA-states",
         "lon": [
          -83.8,
          -84.4
         ],
         "mode": "lines",
         "opacity": 0.1111111111111111,
         "type": "scattergeo"
        },
        {
         "lat": [
          32,
          36.1
         ],
         "line": {
          "color": "red",
          "width": 1
         },
         "locationmode": "USA-states",
         "lon": [
          -83.8,
          -94.2
         ],
         "mode": "lines",
         "opacity": 0.1111111111111111,
         "type": "scattergeo"
        },
        {
         "lat": [
          32,
          40.4
         ],
         "line": {
          "color": "lightblue",
          "width": 1
         },
         "locationmode": "USA-states",
         "lon": [
          -83.8,
          -80
         ],
         "mode": "lines",
         "opacity": 0.1111111111111111,
         "type": "scattergeo"
        },
        {
         "lat": [
          32,
          38
         ],
         "line": {
          "color": "red",
          "width": 1
         },
         "locationmode": "USA-states",
         "lon": [
          -83.5,
          -84.5
         ],
         "mode": "lines",
         "opacity": 0.1111111111111111,
         "type": "scattergeo"
        },
        {
         "lat": [
          32.1,
          36
         ],
         "line": {
          "color": "lightblue",
          "width": 1
         },
         "locationmode": "USA-states",
         "lon": [
          -81.1,
          -78.9
         ],
         "mode": "lines",
         "opacity": 0.1111111111111111,
         "type": "scattergeo"
        },
        {
         "lat": [
          32.1,
          39
         ],
         "line": {
          "color": "purple",
          "width": 1
         },
         "locationmode": "USA-states",
         "lon": [
          -81.1,
          -95.2
         ],
         "mode": "lines",
         "opacity": 0.1111111111111111,
         "type": "scattergeo"
        },
        {
         "lat": [
          32.2,
          32.2
         ],
         "line": {
          "color": "green",
          "width": 1
         },
         "locationmode": "USA-states",
         "lon": [
          -111,
          -110.9
         ],
         "mode": "lines",
         "opacity": 0.1111111111111111,
         "type": "scattergeo"
        },
        {
         "lat": [
          32.2,
          44.1
         ],
         "line": {
          "color": "green",
          "width": 1
         },
         "locationmode": "USA-states",
         "lon": [
          -111,
          -123.1
         ],
         "mode": "lines",
         "opacity": 0.1111111111111111,
         "type": "scattergeo"
        },
        {
         "lat": [
          32.3,
          30.6
         ],
         "line": {
          "color": "red",
          "width": 1
         },
         "locationmode": "USA-states",
         "lon": [
          -97.2,
          -96.3
         ],
         "mode": "lines",
         "opacity": 0.1111111111111111,
         "type": "scattergeo"
        },
        {
         "lat": [
          32.3,
          30.4
         ],
         "line": {
          "color": "red",
          "width": 1
         },
         "locationmode": "USA-states",
         "lon": [
          -90.2,
          -91.2
         ],
         "mode": "lines",
         "opacity": 0.1111111111111111,
         "type": "scattergeo"
        },
        {
         "lat": [
          32.3,
          34.4
         ],
         "line": {
          "color": "red",
          "width": 1
         },
         "locationmode": "USA-states",
         "lon": [
          -90.1,
          -89.5
         ],
         "mode": "lines",
         "opacity": 0.1111111111111111,
         "type": "scattergeo"
        },
        {
         "lat": [
          32.3,
          40.8
         ],
         "line": {
          "color": "blue",
          "width": 1
         },
         "locationmode": "USA-states",
         "lon": [
          -86.2,
          -77.9
         ],
         "mode": "lines",
         "opacity": 0.1111111111111111,
         "type": "scattergeo"
        },
        {
         "lat": [
          32.4,
          33.6
         ],
         "line": {
          "color": "purple",
          "width": 1
         },
         "locationmode": "USA-states",
         "lon": [
          -98.8,
          -101.9
         ],
         "mode": "lines",
         "opacity": 0.1111111111111111,
         "type": "scattergeo"
        },
        {
         "lat": [
          32.4,
          29.7
         ],
         "line": {
          "color": "purple",
          "width": 1
         },
         "locationmode": "USA-states",
         "lon": [
          -95.3,
          -95.3
         ],
         "mode": "lines",
         "opacity": 0.1111111111111111,
         "type": "scattergeo"
        },
        {
         "lat": [
          32.4,
          32.2
         ],
         "line": {
          "color": "green",
          "width": 1
         },
         "locationmode": "USA-states",
         "lon": [
          -95.3,
          -110.9
         ],
         "mode": "lines",
         "opacity": 0.1111111111111111,
         "type": "scattergeo"
        },
        {
         "lat": [
          32.4,
          32.6
         ],
         "line": {
          "color": "red",
          "width": 1
         },
         "locationmode": "USA-states",
         "lon": [
          -86.3,
          -85.5
         ],
         "mode": "lines",
         "opacity": 0.1111111111111111,
         "type": "scattergeo"
        },
        {
         "lat": [
          32.4,
          33.2
         ],
         "line": {
          "color": "red",
          "width": 1
         },
         "locationmode": "USA-states",
         "lon": [
          -86.3,
          -87.6
         ],
         "mode": "lines",
         "opacity": 0.1111111111111111,
         "type": "scattergeo"
        },
        {
         "lat": [
          32.4,
          36.1
         ],
         "line": {
          "color": "lightblue",
          "width": 1
         },
         "locationmode": "USA-states",
         "lon": [
          -86.3,
          -80.3
         ],
         "mode": "lines",
         "opacity": 0.1111111111111111,
         "type": "scattergeo"
        },
        {
         "lat": [
          32.4,
          33.9
         ],
         "line": {
          "color": "red",
          "width": 1
         },
         "locationmode": "USA-states",
         "lon": [
          -83.4,
          -83.4
         ],
         "mode": "lines",
         "opacity": 0.1111111111111111,
         "type": "scattergeo"
        },
        {
         "lat": [
          32.5,
          29.6
         ],
         "line": {
          "color": "red",
          "width": 1
         },
         "locationmode": "USA-states",
         "lon": [
          -97.3,
          -82.3
         ],
         "mode": "lines",
         "opacity": 0.1111111111111111,
         "type": "scattergeo"
        },
        {
         "lat": [
          32.5,
          29.7
         ],
         "line": {
          "color": "purple",
          "width": 1
         },
         "locationmode": "USA-states",
         "lon": [
          -97,
          -95.3
         ],
         "mode": "lines",
         "opacity": 0.1111111111111111,
         "type": "scattergeo"
        },
        {
         "lat": [
          32.5,
          32.2
         ],
         "line": {
          "color": "green",
          "width": 1
         },
         "locationmode": "USA-states",
         "lon": [
          -96.8,
          -110.9
         ],
         "mode": "lines",
         "opacity": 0.1111111111111111,
         "type": "scattergeo"
        },
        {
         "lat": [
          32.5,
          36.1
         ],
         "line": {
          "color": "purple",
          "width": 1
         },
         "locationmode": "USA-states",
         "lon": [
          -96.8,
          -97.1
         ],
         "mode": "lines",
         "opacity": 0.1111111111111111,
         "type": "scattergeo"
        },
        {
         "lat": [
          32.5,
          38.9
         ],
         "line": {
          "color": "red",
          "width": 1
         },
         "locationmode": "USA-states",
         "lon": [
          -96.8,
          -92.3
         ],
         "mode": "lines",
         "opacity": 0.1111111111111111,
         "type": "scattergeo"
        },
        {
         "lat": [
          32.5,
          31.6
         ],
         "line": {
          "color": "purple",
          "width": 1
         },
         "locationmode": "USA-states",
         "lon": [
          -95.4,
          -97.1
         ],
         "mode": "lines",
         "opacity": 0.1111111111111111,
         "type": "scattergeo"
        },
        {
         "lat": [
          32.5,
          36.1
         ],
         "line": {
          "color": "purple",
          "width": 1
         },
         "locationmode": "USA-states",
         "lon": [
          -94.4,
          -97.1
         ],
         "mode": "lines",
         "opacity": 0.1111111111111111,
         "type": "scattergeo"
        },
        {
         "lat": [
          32.5,
          36.1
         ],
         "line": {
          "color": "purple",
          "width": 1
         },
         "locationmode": "USA-states",
         "lon": [
          -93.8,
          -97.1
         ],
         "mode": "lines",
         "opacity": 0.1111111111111111,
         "type": "scattergeo"
        },
        {
         "lat": [
          32.5,
          33.5
         ],
         "line": {
          "color": "red",
          "width": 1
         },
         "locationmode": "USA-states",
         "lon": [
          -92.6,
          -88.8
         ],
         "mode": "lines",
         "opacity": 0.1111111111111111,
         "type": "scattergeo"
        },
        {
         "lat": [
          32.5,
          30.4
         ],
         "line": {
          "color": "red",
          "width": 1
         },
         "locationmode": "USA-states",
         "lon": [
          -92.1,
          -91.2
         ],
         "mode": "lines",
         "opacity": 0.1111111111111111,
         "type": "scattergeo"
        },
        {
         "lat": [
          32.5,
          33.5
         ],
         "line": {
          "color": "red",
          "width": 1
         },
         "locationmode": "USA-states",
         "lon": [
          -90.1,
          -88.8
         ],
         "mode": "lines",
         "opacity": 0.1111111111111111,
         "type": "scattergeo"
        },
        {
         "lat": [
          32.5,
          33.2
         ],
         "line": {
          "color": "red",
          "width": 1
         },
         "locationmode": "USA-states",
         "lon": [
          -86.5,
          -87.6
         ],
         "mode": "lines",
         "opacity": 0.1111111111111111,
         "type": "scattergeo"
        },
        {
         "lat": [
          32.5,
          32.6
         ],
         "line": {
          "color": "red",
          "width": 1
         },
         "locationmode": "USA-states",
         "lon": [
          -85,
          -85.5
         ],
         "mode": "lines",
         "opacity": 0.1111111111111111,
         "type": "scattergeo"
        },
        {
         "lat": [
          32.5,
          33.9
         ],
         "line": {
          "color": "red",
          "width": 1
         },
         "locationmode": "USA-states",
         "lon": [
          -85,
          -83.4
         ],
         "mode": "lines",
         "opacity": 0.1111111111111111,
         "type": "scattergeo"
        },
        {
         "lat": [
          32.6,
          44.1
         ],
         "line": {
          "color": "green",
          "width": 1
         },
         "locationmode": "USA-states",
         "lon": [
          -117.1,
          -123.1
         ],
         "mode": "lines",
         "opacity": 0.1111111111111111,
         "type": "scattergeo"
        },
        {
         "lat": [
          32.6,
          46.7
         ],
         "line": {
          "color": "green",
          "width": 1
         },
         "locationmode": "USA-states",
         "lon": [
          -117.1,
          -117.2
         ],
         "mode": "lines",
         "opacity": 0.1111111111111111,
         "type": "scattergeo"
        },
        {
         "lat": [
          32.6,
          30.3
         ],
         "line": {
          "color": "purple",
          "width": 1
         },
         "locationmode": "USA-states",
         "lon": [
          -97.2,
          -97.7
         ],
         "mode": "lines",
         "opacity": 0.1111111111111111,
         "type": "scattergeo"
        },
        {
         "lat": [
          32.6,
          30.3
         ],
         "line": {
          "color": "purple",
          "width": 1
         },
         "locationmode": "USA-states",
         "lon": [
          -97.1,
          -97.7
         ],
         "mode": "lines",
         "opacity": 0.1111111111111111,
         "type": "scattergeo"
        },
        {
         "lat": [
          32.6,
          32.7
         ],
         "line": {
          "color": "purple",
          "width": 1
         },
         "locationmode": "USA-states",
         "lon": [
          -97.1,
          -97.4
         ],
         "mode": "lines",
         "opacity": 0.1111111111111111,
         "type": "scattergeo"
        },
        {
         "lat": [
          32.6,
          42.1
         ],
         "line": {
          "color": "blue",
          "width": 1
         },
         "locationmode": "USA-states",
         "lon": [
          -97.1,
          -87.7
         ],
         "mode": "lines",
         "opacity": 0.1111111111111111,
         "type": "scattergeo"
        },
        {
         "lat": [
          32.6,
          33.6
         ],
         "line": {
          "color": "purple",
          "width": 1
         },
         "locationmode": "USA-states",
         "lon": [
          -97,
          -101.9
         ],
         "mode": "lines",
         "opacity": 0.1111111111111111,
         "type": "scattergeo"
        },
        {
         "lat": [
          32.6,
          36
         ],
         "line": {
          "color": "red",
          "width": 1
         },
         "locationmode": "USA-states",
         "lon": [
          -97,
          -83.9
         ],
         "mode": "lines",
         "opacity": 0.1111111111111111,
         "type": "scattergeo"
        },
        {
         "lat": [
          32.6,
          39.2
         ],
         "line": {
          "color": "purple",
          "width": 1
         },
         "locationmode": "USA-states",
         "lon": [
          -97,
          -96.6
         ],
         "mode": "lines",
         "opacity": 0.1111111111111111,
         "type": "scattergeo"
        },
        {
         "lat": [
          32.6,
          39.2
         ],
         "line": {
          "color": "blue",
          "width": 1
         },
         "locationmode": "USA-states",
         "lon": [
          -97,
          -86.5
         ],
         "mode": "lines",
         "opacity": 0.1111111111111111,
         "type": "scattergeo"
        },
        {
         "lat": [
          32.6,
          30.3
         ],
         "line": {
          "color": "purple",
          "width": 1
         },
         "locationmode": "USA-states",
         "lon": [
          -96.9,
          -97.7
         ],
         "mode": "lines",
         "opacity": 0.1111111111111111,
         "type": "scattergeo"
        },
        {
         "lat": [
          32.6,
          30.6
         ],
         "line": {
          "color": "red",
          "width": 1
         },
         "locationmode": "USA-states",
         "lon": [
          -96.9,
          -96.3
         ],
         "mode": "lines",
         "opacity": 0.2222222222222222,
         "type": "scattergeo"
        },
        {
         "lat": [
          32.6,
          33.6
         ],
         "line": {
          "color": "purple",
          "width": 1
         },
         "locationmode": "USA-states",
         "lon": [
          -96.9,
          -101.9
         ],
         "mode": "lines",
         "opacity": 0.1111111111111111,
         "type": "scattergeo"
        },
        {
         "lat": [
          32.6,
          36.1
         ],
         "line": {
          "color": "red",
          "width": 1
         },
         "locationmode": "USA-states",
         "lon": [
          -96.9,
          -94.2
         ],
         "mode": "lines",
         "opacity": 0.1111111111111111,
         "type": "scattergeo"
        },
        {
         "lat": [
          32.6,
          40.1
         ],
         "line": {
          "color": "blue",
          "width": 1
         },
         "locationmode": "USA-states",
         "lon": [
          -96.9,
          -88.2
         ],
         "mode": "lines",
         "opacity": 0.1111111111111111,
         "type": "scattergeo"
        },
        {
         "lat": [
          32.6,
          39
         ],
         "line": {
          "color": "purple",
          "width": 1
         },
         "locationmode": "USA-states",
         "lon": [
          -96.8,
          -95.2
         ],
         "mode": "lines",
         "opacity": 0.1111111111111111,
         "type": "scattergeo"
        },
        {
         "lat": [
          32.6,
          33.2
         ],
         "line": {
          "color": "red",
          "width": 1
         },
         "locationmode": "USA-states",
         "lon": [
          -83.9,
          -87.6
         ],
         "mode": "lines",
         "opacity": 0.1111111111111111,
         "type": "scattergeo"
        },
        {
         "lat": [
          32.6,
          35.8
         ],
         "line": {
          "color": "lightblue",
          "width": 1
         },
         "locationmode": "USA-states",
         "lon": [
          -82.3,
          -78.7
         ],
         "mode": "lines",
         "opacity": 0.2222222222222222,
         "type": "scattergeo"
        },
        {
         "lat": [
          32.7,
          36
         ],
         "line": {
          "color": "lightblue",
          "width": 1
         },
         "locationmode": "USA-states",
         "lon": [
          -117.2,
          -78.9
         ],
         "mode": "lines",
         "opacity": 0.1111111111111111,
         "type": "scattergeo"
        },
        {
         "lat": [
          32.7,
          44.1
         ],
         "line": {
          "color": "green",
          "width": 1
         },
         "locationmode": "USA-states",
         "lon": [
          -117.2,
          -123.1
         ],
         "mode": "lines",
         "opacity": 0.1111111111111111,
         "type": "scattergeo"
        },
        {
         "lat": [
          32.7,
          33.2
         ],
         "line": {
          "color": "red",
          "width": 1
         },
         "locationmode": "USA-states",
         "lon": [
          -97.6,
          -87.6
         ],
         "mode": "lines",
         "opacity": 0.1111111111111111,
         "type": "scattergeo"
        },
        {
         "lat": [
          32.7,
          29.7
         ],
         "line": {
          "color": "purple",
          "width": 1
         },
         "locationmode": "USA-states",
         "lon": [
          -97.1,
          -95.3
         ],
         "mode": "lines",
         "opacity": 0.1111111111111111,
         "type": "scattergeo"
        },
        {
         "lat": [
          32.7,
          30.3
         ],
         "line": {
          "color": "purple",
          "width": 1
         },
         "locationmode": "USA-states",
         "lon": [
          -97.1,
          -97.7
         ],
         "mode": "lines",
         "opacity": 0.1111111111111111,
         "type": "scattergeo"
        },
        {
         "lat": [
          32.7,
          32.2
         ],
         "line": {
          "color": "green",
          "width": 1
         },
         "locationmode": "USA-states",
         "lon": [
          -97.1,
          -110.9
         ],
         "mode": "lines",
         "opacity": 0.1111111111111111,
         "type": "scattergeo"
        },
        {
         "lat": [
          32.7,
          32.6
         ],
         "line": {
          "color": "red",
          "width": 1
         },
         "locationmode": "USA-states",
         "lon": [
          -97.1,
          -85.5
         ],
         "mode": "lines",
         "opacity": 0.1111111111111111,
         "type": "scattergeo"
        },
        {
         "lat": [
          32.7,
          33.6
         ],
         "line": {
          "color": "purple",
          "width": 1
         },
         "locationmode": "USA-states",
         "lon": [
          -97.1,
          -101.9
         ],
         "mode": "lines",
         "opacity": 0.1111111111111111,
         "type": "scattergeo"
        },
        {
         "lat": [
          32.7,
          36
         ],
         "line": {
          "color": "lightblue",
          "width": 1
         },
         "locationmode": "USA-states",
         "lon": [
          -97.1,
          -78.9
         ],
         "mode": "lines",
         "opacity": 0.1111111111111111,
         "type": "scattergeo"
        },
        {
         "lat": [
          32.7,
          44.1
         ],
         "line": {
          "color": "green",
          "width": 1
         },
         "locationmode": "USA-states",
         "lon": [
          -97.1,
          -123.1
         ],
         "mode": "lines",
         "opacity": 0.1111111111111111,
         "type": "scattergeo"
        },
        {
         "lat": [
          32.7,
          44.6
         ],
         "line": {
          "color": "green",
          "width": 1
         },
         "locationmode": "USA-states",
         "lon": [
          -97.1,
          -123.3
         ],
         "mode": "lines",
         "opacity": 0.1111111111111111,
         "type": "scattergeo"
        },
        {
         "lat": [
          32.7,
          46.7
         ],
         "line": {
          "color": "green",
          "width": 1
         },
         "locationmode": "USA-states",
         "lon": [
          -97.1,
          -117.2
         ],
         "mode": "lines",
         "opacity": 0.1111111111111111,
         "type": "scattergeo"
        },
        {
         "lat": [
          32.7,
          39
         ],
         "line": {
          "color": "purple",
          "width": 1
         },
         "locationmode": "USA-states",
         "lon": [
          -97,
          -95.2
         ],
         "mode": "lines",
         "opacity": 0.1111111111111111,
         "type": "scattergeo"
        },
        {
         "lat": [
          32.7,
          42.3
         ],
         "line": {
          "color": "lightblue",
          "width": 1
         },
         "locationmode": "USA-states",
         "lon": [
          -97,
          -71.2
         ],
         "mode": "lines",
         "opacity": 0.1111111111111111,
         "type": "scattergeo"
        },
        {
         "lat": [
          32.7,
          33.2
         ],
         "line": {
          "color": "red",
          "width": 1
         },
         "locationmode": "USA-states",
         "lon": [
          -96.9,
          -87.6
         ],
         "mode": "lines",
         "opacity": 0.1111111111111111,
         "type": "scattergeo"
        },
        {
         "lat": [
          32.7,
          35.2
         ],
         "line": {
          "color": "purple",
          "width": 1
         },
         "locationmode": "USA-states",
         "lon": [
          -96.9,
          -97.4
         ],
         "mode": "lines",
         "opacity": 0.2222222222222222,
         "type": "scattergeo"
        },
        {
         "lat": [
          32.7,
          42.7
         ],
         "line": {
          "color": "blue",
          "width": 1
         },
         "locationmode": "USA-states",
         "lon": [
          -96.5,
          -84.5
         ],
         "mode": "lines",
         "opacity": 0.1111111111111111,
         "type": "scattergeo"
        },
        {
         "lat": [
          32.7,
          40
         ],
         "line": {
          "color": "green",
          "width": 1
         },
         "locationmode": "USA-states",
         "lon": [
          -95.5,
          -105.3
         ],
         "mode": "lines",
         "opacity": 0.1111111111111111,
         "type": "scattergeo"
        },
        {
         "lat": [
          32.7,
          32.6
         ],
         "line": {
          "color": "red",
          "width": 1
         },
         "locationmode": "USA-states",
         "lon": [
          -85.5,
          -85.5
         ],
         "mode": "lines",
         "opacity": 0.1111111111111111,
         "type": "scattergeo"
        },
        {
         "lat": [
          32.8,
          31.6
         ],
         "line": {
          "color": "purple",
          "width": 1
         },
         "locationmode": "USA-states",
         "lon": [
          -97.8,
          -97.1
         ],
         "mode": "lines",
         "opacity": 0.1111111111111111,
         "type": "scattergeo"
        },
        {
         "lat": [
          32.8,
          30.3
         ],
         "line": {
          "color": "purple",
          "width": 1
         },
         "locationmode": "USA-states",
         "lon": [
          -97.3,
          -97.7
         ],
         "mode": "lines",
         "opacity": 0.1111111111111111,
         "type": "scattergeo"
        },
        {
         "lat": [
          32.8,
          33.2
         ],
         "line": {
          "color": "red",
          "width": 1
         },
         "locationmode": "USA-states",
         "lon": [
          -97.3,
          -87.6
         ],
         "mode": "lines",
         "opacity": 0.2222222222222222,
         "type": "scattergeo"
        },
        {
         "lat": [
          32.8,
          37.2
         ],
         "line": {
          "color": "lightblue",
          "width": 1
         },
         "locationmode": "USA-states",
         "lon": [
          -97.3,
          -80.4
         ],
         "mode": "lines",
         "opacity": 0.1111111111111111,
         "type": "scattergeo"
        },
        {
         "lat": [
          32.8,
          42.7
         ],
         "line": {
          "color": "blue",
          "width": 1
         },
         "locationmode": "USA-states",
         "lon": [
          -97.3,
          -84.5
         ],
         "mode": "lines",
         "opacity": 0.1111111111111111,
         "type": "scattergeo"
        },
        {
         "lat": [
          32.8,
          30.3
         ],
         "line": {
          "color": "purple",
          "width": 1
         },
         "locationmode": "USA-states",
         "lon": [
          -96.8,
          -97.7
         ],
         "mode": "lines",
         "opacity": 0.1111111111111111,
         "type": "scattergeo"
        },
        {
         "lat": [
          32.8,
          31.6
         ],
         "line": {
          "color": "purple",
          "width": 1
         },
         "locationmode": "USA-states",
         "lon": [
          -96.8,
          -97.1
         ],
         "mode": "lines",
         "opacity": 0.1111111111111111,
         "type": "scattergeo"
        },
        {
         "lat": [
          32.8,
          33.4
         ],
         "line": {
          "color": "green",
          "width": 1
         },
         "locationmode": "USA-states",
         "lon": [
          -96.8,
          -111.9
         ],
         "mode": "lines",
         "opacity": 0.1111111111111111,
         "type": "scattergeo"
        },
        {
         "lat": [
          32.8,
          37.4
         ],
         "line": {
          "color": "green",
          "width": 1
         },
         "locationmode": "USA-states",
         "lon": [
          -96.8,
          -122.2
         ],
         "mode": "lines",
         "opacity": 0.3333333333333333,
         "type": "scattergeo"
        },
        {
         "lat": [
          32.8,
          39
         ],
         "line": {
          "color": "purple",
          "width": 1
         },
         "locationmode": "USA-states",
         "lon": [
          -96.8,
          -95.2
         ],
         "mode": "lines",
         "opacity": 0.1111111111111111,
         "type": "scattergeo"
        },
        {
         "lat": [
          32.8,
          45
         ],
         "line": {
          "color": "blue",
          "width": 1
         },
         "locationmode": "USA-states",
         "lon": [
          -96.6,
          -93.2
         ],
         "mode": "lines",
         "opacity": 0.1111111111111111,
         "type": "scattergeo"
        },
        {
         "lat": [
          32.8,
          32.6
         ],
         "line": {
          "color": "red",
          "width": 1
         },
         "locationmode": "USA-states",
         "lon": [
          -89.1,
          -85.5
         ],
         "mode": "lines",
         "opacity": 0.1111111111111111,
         "type": "scattergeo"
        },
        {
         "lat": [
          32.8,
          33.2
         ],
         "line": {
          "color": "red",
          "width": 1
         },
         "locationmode": "USA-states",
         "lon": [
          -89.1,
          -87.6
         ],
         "mode": "lines",
         "opacity": 0.1111111111111111,
         "type": "scattergeo"
        },
        {
         "lat": [
          32.9,
          39.2
         ],
         "line": {
          "color": "purple",
          "width": 1
         },
         "locationmode": "USA-states",
         "lon": [
          -97.2,
          -96.6
         ],
         "mode": "lines",
         "opacity": 0.1111111111111111,
         "type": "scattergeo"
        },
        {
         "lat": [
          32.9,
          45
         ],
         "line": {
          "color": "blue",
          "width": 1
         },
         "locationmode": "USA-states",
         "lon": [
          -97.1,
          -93.2
         ],
         "mode": "lines",
         "opacity": 0.1111111111111111,
         "type": "scattergeo"
        },
        {
         "lat": [
          32.9,
          33.2
         ],
         "line": {
          "color": "red",
          "width": 1
         },
         "locationmode": "USA-states",
         "lon": [
          -96.6,
          -87.6
         ],
         "mode": "lines",
         "opacity": 0.1111111111111111,
         "type": "scattergeo"
        },
        {
         "lat": [
          32.9,
          33.4
         ],
         "line": {
          "color": "green",
          "width": 1
         },
         "locationmode": "USA-states",
         "lon": [
          -96.6,
          -111.9
         ],
         "mode": "lines",
         "opacity": 0.1111111111111111,
         "type": "scattergeo"
        },
        {
         "lat": [
          32.9,
          39
         ],
         "line": {
          "color": "purple",
          "width": 1
         },
         "locationmode": "USA-states",
         "lon": [
          -96.6,
          -95.2
         ],
         "mode": "lines",
         "opacity": 0.1111111111111111,
         "type": "scattergeo"
        },
        {
         "lat": [
          32.9,
          42.3
         ],
         "line": {
          "color": "blue",
          "width": 1
         },
         "locationmode": "USA-states",
         "lon": [
          -96.6,
          -83.7
         ],
         "mode": "lines",
         "opacity": 0.1111111111111111,
         "type": "scattergeo"
        },
        {
         "lat": [
          32.9,
          34.2
         ],
         "line": {
          "color": "green",
          "width": 1
         },
         "locationmode": "USA-states",
         "lon": [
          -87.1,
          -118.2
         ],
         "mode": "lines",
         "opacity": 0.1111111111111111,
         "type": "scattergeo"
        },
        {
         "lat": [
          33,
          42
         ],
         "line": {
          "color": "purple",
          "width": 1
         },
         "locationmode": "USA-states",
         "lon": [
          -97.3,
          -93.6
         ],
         "mode": "lines",
         "opacity": 0.1111111111111111,
         "type": "scattergeo"
        },
        {
         "lat": [
          33,
          30.4
         ],
         "line": {
          "color": "red",
          "width": 1
         },
         "locationmode": "USA-states",
         "lon": [
          -97.1,
          -91.2
         ],
         "mode": "lines",
         "opacity": 0.1111111111111111,
         "type": "scattergeo"
        },
        {
         "lat": [
          33,
          37.9
         ],
         "line": {
          "color": "green",
          "width": 1
         },
         "locationmode": "USA-states",
         "lon": [
          -97.1,
          -122.3
         ],
         "mode": "lines",
         "opacity": 0.1111111111111111,
         "type": "scattergeo"
        },
        {
         "lat": [
          33,
          36.1
         ],
         "line": {
          "color": "red",
          "width": 1
         },
         "locationmode": "USA-states",
         "lon": [
          -96.3,
          -94.2
         ],
         "mode": "lines",
         "opacity": 0.1111111111111111,
         "type": "scattergeo"
        },
        {
         "lat": [
          33.1,
          40.8
         ],
         "line": {
          "color": "green",
          "width": 1
         },
         "locationmode": "USA-states",
         "lon": [
          -117.2,
          -111.8
         ],
         "mode": "lines",
         "opacity": 0.1111111111111111,
         "type": "scattergeo"
        },
        {
         "lat": [
          33.1,
          32.7
         ],
         "line": {
          "color": "purple",
          "width": 1
         },
         "locationmode": "USA-states",
         "lon": [
          -97.2,
          -97.4
         ],
         "mode": "lines",
         "opacity": 0.1111111111111111,
         "type": "scattergeo"
        },
        {
         "lat": [
          33.1,
          33.5
         ],
         "line": {
          "color": "red",
          "width": 1
         },
         "locationmode": "USA-states",
         "lon": [
          -97.2,
          -88.8
         ],
         "mode": "lines",
         "opacity": 0.1111111111111111,
         "type": "scattergeo"
        },
        {
         "lat": [
          33.1,
          33.6
         ],
         "line": {
          "color": "purple",
          "width": 1
         },
         "locationmode": "USA-states",
         "lon": [
          -97.2,
          -101.9
         ],
         "mode": "lines",
         "opacity": 0.2222222222222222,
         "type": "scattergeo"
        },
        {
         "lat": [
          33.1,
          36.1
         ],
         "line": {
          "color": "purple",
          "width": 1
         },
         "locationmode": "USA-states",
         "lon": [
          -96.7,
          -97.1
         ],
         "mode": "lines",
         "opacity": 0.2222222222222222,
         "type": "scattergeo"
        },
        {
         "lat": [
          33.1,
          33.5
         ],
         "line": {
          "color": "red",
          "width": 1
         },
         "locationmode": "USA-states",
         "lon": [
          -90.1,
          -88.8
         ],
         "mode": "lines",
         "opacity": 0.1111111111111111,
         "type": "scattergeo"
        },
        {
         "lat": [
          33.1,
          33.5
         ],
         "line": {
          "color": "red",
          "width": 1
         },
         "locationmode": "USA-states",
         "lon": [
          -89.6,
          -88.8
         ],
         "mode": "lines",
         "opacity": 0.1111111111111111,
         "type": "scattergeo"
        },
        {
         "lat": [
          33.1,
          33.5
         ],
         "line": {
          "color": "red",
          "width": 1
         },
         "locationmode": "USA-states",
         "lon": [
          -89.1,
          -88.8
         ],
         "mode": "lines",
         "opacity": 0.1111111111111111,
         "type": "scattergeo"
        },
        {
         "lat": [
          33.1,
          33.9
         ],
         "line": {
          "color": "red",
          "width": 1
         },
         "locationmode": "USA-states",
         "lon": [
          -83.2,
          -83.4
         ],
         "mode": "lines",
         "opacity": 0.1111111111111111,
         "type": "scattergeo"
        },
        {
         "lat": [
          33.1,
          38
         ],
         "line": {
          "color": "lightblue",
          "width": 1
         },
         "locationmode": "USA-states",
         "lon": [
          -83.2,
          -78.5
         ],
         "mode": "lines",
         "opacity": 0.1111111111111111,
         "type": "scattergeo"
        },
        {
         "lat": [
          33.2,
          32.2
         ],
         "line": {
          "color": "green",
          "width": 1
         },
         "locationmode": "USA-states",
         "lon": [
          -111.6,
          -110.9
         ],
         "mode": "lines",
         "opacity": 0.1111111111111111,
         "type": "scattergeo"
        },
        {
         "lat": [
          33.2,
          33.4
         ],
         "line": {
          "color": "green",
          "width": 1
         },
         "locationmode": "USA-states",
         "lon": [
          -111.6,
          -111.9
         ],
         "mode": "lines",
         "opacity": 0.1111111111111111,
         "type": "scattergeo"
        },
        {
         "lat": [
          33.2,
          34.2
         ],
         "line": {
          "color": "green",
          "width": 1
         },
         "locationmode": "USA-states",
         "lon": [
          -111.6,
          -118.2
         ],
         "mode": "lines",
         "opacity": 0.1111111111111111,
         "type": "scattergeo"
        },
        {
         "lat": [
          33.2,
          37.9
         ],
         "line": {
          "color": "green",
          "width": 1
         },
         "locationmode": "USA-states",
         "lon": [
          -111.6,
          -122.3
         ],
         "mode": "lines",
         "opacity": 0.1111111111111111,
         "type": "scattergeo"
        },
        {
         "lat": [
          33.2,
          39.2
         ],
         "line": {
          "color": "purple",
          "width": 1
         },
         "locationmode": "USA-states",
         "lon": [
          -111.6,
          -96.6
         ],
         "mode": "lines",
         "opacity": 0.1111111111111111,
         "type": "scattergeo"
        },
        {
         "lat": [
          33.2,
          40.8
         ],
         "line": {
          "color": "green",
          "width": 1
         },
         "locationmode": "USA-states",
         "lon": [
          -111.6,
          -111.8
         ],
         "mode": "lines",
         "opacity": 0.1111111111111111,
         "type": "scattergeo"
        },
        {
         "lat": [
          33.2,
          46.7
         ],
         "line": {
          "color": "green",
          "width": 1
         },
         "locationmode": "USA-states",
         "lon": [
          -111.6,
          -117.2
         ],
         "mode": "lines",
         "opacity": 0.1111111111111111,
         "type": "scattergeo"
        },
        {
         "lat": [
          33.2,
          30.3
         ],
         "line": {
          "color": "purple",
          "width": 1
         },
         "locationmode": "USA-states",
         "lon": [
          -97.1,
          -97.7
         ],
         "mode": "lines",
         "opacity": 0.1111111111111111,
         "type": "scattergeo"
        },
        {
         "lat": [
          33.2,
          30.4
         ],
         "line": {
          "color": "lightblue",
          "width": 1
         },
         "locationmode": "USA-states",
         "lon": [
          -97.1,
          -84.3
         ],
         "mode": "lines",
         "opacity": 0.1111111111111111,
         "type": "scattergeo"
        },
        {
         "lat": [
          33.2,
          30.6
         ],
         "line": {
          "color": "red",
          "width": 1
         },
         "locationmode": "USA-states",
         "lon": [
          -97.1,
          -96.3
         ],
         "mode": "lines",
         "opacity": 0.2222222222222222,
         "type": "scattergeo"
        },
        {
         "lat": [
          33.2,
          31.6
         ],
         "line": {
          "color": "purple",
          "width": 1
         },
         "locationmode": "USA-states",
         "lon": [
          -97.1,
          -97.1
         ],
         "mode": "lines",
         "opacity": 0.1111111111111111,
         "type": "scattergeo"
        },
        {
         "lat": [
          33.2,
          34.4
         ],
         "line": {
          "color": "red",
          "width": 1
         },
         "locationmode": "USA-states",
         "lon": [
          -97.1,
          -89.5
         ],
         "mode": "lines",
         "opacity": 0.1111111111111111,
         "type": "scattergeo"
        },
        {
         "lat": [
          33.2,
          35.2
         ],
         "line": {
          "color": "purple",
          "width": 1
         },
         "locationmode": "USA-states",
         "lon": [
          -97.1,
          -97.4
         ],
         "mode": "lines",
         "opacity": 0.1111111111111111,
         "type": "scattergeo"
        },
        {
         "lat": [
          33.2,
          36.1
         ],
         "line": {
          "color": "purple",
          "width": 1
         },
         "locationmode": "USA-states",
         "lon": [
          -97.1,
          -97.1
         ],
         "mode": "lines",
         "opacity": 0.1111111111111111,
         "type": "scattergeo"
        },
        {
         "lat": [
          33.2,
          26
         ],
         "line": {
          "color": "lightblue",
          "width": 1
         },
         "locationmode": "USA-states",
         "lon": [
          -96.8,
          -80.2
         ],
         "mode": "lines",
         "opacity": 0.1111111111111111,
         "type": "scattergeo"
        },
        {
         "lat": [
          33.2,
          36.1
         ],
         "line": {
          "color": "purple",
          "width": 1
         },
         "locationmode": "USA-states",
         "lon": [
          -96.8,
          -97.1
         ],
         "mode": "lines",
         "opacity": 0.1111111111111111,
         "type": "scattergeo"
        },
        {
         "lat": [
          33.2,
          36.1
         ],
         "line": {
          "color": "red",
          "width": 1
         },
         "locationmode": "USA-states",
         "lon": [
          -96.8,
          -94.2
         ],
         "mode": "lines",
         "opacity": 0.1111111111111111,
         "type": "scattergeo"
        },
        {
         "lat": [
          33.2,
          37.4
         ],
         "line": {
          "color": "green",
          "width": 1
         },
         "locationmode": "USA-states",
         "lon": [
          -96.8,
          -122.2
         ],
         "mode": "lines",
         "opacity": 0.1111111111111111,
         "type": "scattergeo"
        },
        {
         "lat": [
          33.2,
          39.1
         ],
         "line": {
          "color": "purple",
          "width": 1
         },
         "locationmode": "USA-states",
         "lon": [
          -96.8,
          -84.5
         ],
         "mode": "lines",
         "opacity": 0.1111111111111111,
         "type": "scattergeo"
        },
        {
         "lat": [
          33.2,
          34.4
         ],
         "line": {
          "color": "red",
          "width": 1
         },
         "locationmode": "USA-states",
         "lon": [
          -96.6,
          -89.5
         ],
         "mode": "lines",
         "opacity": 0.1111111111111111,
         "type": "scattergeo"
        },
        {
         "lat": [
          33.2,
          38.9
         ],
         "line": {
          "color": "red",
          "width": 1
         },
         "locationmode": "USA-states",
         "lon": [
          -96.6,
          -92.3
         ],
         "mode": "lines",
         "opacity": 0.1111111111111111,
         "type": "scattergeo"
        },
        {
         "lat": [
          33.2,
          46.7
         ],
         "line": {
          "color": "green",
          "width": 1
         },
         "locationmode": "USA-states",
         "lon": [
          -96.6,
          -117.2
         ],
         "mode": "lines",
         "opacity": 0.1111111111111111,
         "type": "scattergeo"
        },
        {
         "lat": [
          33.2,
          33.9
         ],
         "line": {
          "color": "red",
          "width": 1
         },
         "locationmode": "USA-states",
         "lon": [
          -87.6,
          -83.4
         ],
         "mode": "lines",
         "opacity": 0.1111111111111111,
         "type": "scattergeo"
        },
        {
         "lat": [
          33.2,
          34
         ],
         "line": {
          "color": "red",
          "width": 1
         },
         "locationmode": "USA-states",
         "lon": [
          -86.8,
          -81
         ],
         "mode": "lines",
         "opacity": 0.1111111111111111,
         "type": "scattergeo"
        },
        {
         "lat": [
          33.2,
          32.6
         ],
         "line": {
          "color": "red",
          "width": 1
         },
         "locationmode": "USA-states",
         "lon": [
          -85.4,
          -85.5
         ],
         "mode": "lines",
         "opacity": 0.1111111111111111,
         "type": "scattergeo"
        },
        {
         "lat": [
          33.2,
          40.1
         ],
         "line": {
          "color": "blue",
          "width": 1
         },
         "locationmode": "USA-states",
         "lon": [
          -84.3,
          -88.2
         ],
         "mode": "lines",
         "opacity": 0.1111111111111111,
         "type": "scattergeo"
        },
        {
         "lat": [
          33.2,
          40.4
         ],
         "line": {
          "color": "blue",
          "width": 1
         },
         "locationmode": "USA-states",
         "lon": [
          -84.3,
          -86.9
         ],
         "mode": "lines",
         "opacity": 0.1111111111111111,
         "type": "scattergeo"
        },
        {
         "lat": [
          33.3,
          28.6
         ],
         "line": {
          "color": "purple",
          "width": 1
         },
         "locationmode": "USA-states",
         "lon": [
          -111.8,
          -81.2
         ],
         "mode": "lines",
         "opacity": 0.1111111111111111,
         "type": "scattergeo"
        },
        {
         "lat": [
          33.3,
          40
         ],
         "line": {
          "color": "green",
          "width": 1
         },
         "locationmode": "USA-states",
         "lon": [
          -111.8,
          -105.3
         ],
         "mode": "lines",
         "opacity": 0.1111111111111111,
         "type": "scattergeo"
        },
        {
         "lat": [
          33.3,
          40.3
         ],
         "line": {
          "color": "purple",
          "width": 1
         },
         "locationmode": "USA-states",
         "lon": [
          -111.8,
          -111.7
         ],
         "mode": "lines",
         "opacity": 0.1111111111111111,
         "type": "scattergeo"
        },
        {
         "lat": [
          33.3,
          42
         ],
         "line": {
          "color": "purple",
          "width": 1
         },
         "locationmode": "USA-states",
         "lon": [
          -111.8,
          -93.6
         ],
         "mode": "lines",
         "opacity": 0.1111111111111111,
         "type": "scattergeo"
        },
        {
         "lat": [
          33.3,
          42.7
         ],
         "line": {
          "color": "blue",
          "width": 1
         },
         "locationmode": "USA-states",
         "lon": [
          -111.8,
          -84.5
         ],
         "mode": "lines",
         "opacity": 0.1111111111111111,
         "type": "scattergeo"
        },
        {
         "lat": [
          33.3,
          44.1
         ],
         "line": {
          "color": "green",
          "width": 1
         },
         "locationmode": "USA-states",
         "lon": [
          -111.8,
          -123.1
         ],
         "mode": "lines",
         "opacity": 0.1111111111111111,
         "type": "scattergeo"
        },
        {
         "lat": [
          33.3,
          42.1
         ],
         "line": {
          "color": "blue",
          "width": 1
         },
         "locationmode": "USA-states",
         "lon": [
          -89.4,
          -87.7
         ],
         "mode": "lines",
         "opacity": 0.1111111111111111,
         "type": "scattergeo"
        },
        {
         "lat": [
          33.3,
          36.1
         ],
         "line": {
          "color": "red",
          "width": 1
         },
         "locationmode": "USA-states",
         "lon": [
          -84.6,
          -86.8
         ],
         "mode": "lines",
         "opacity": 0.1111111111111111,
         "type": "scattergeo"
        },
        {
         "lat": [
          33.4,
          32.2
         ],
         "line": {
          "color": "green",
          "width": 1
         },
         "locationmode": "USA-states",
         "lon": [
          -117.6,
          -110.9
         ],
         "mode": "lines",
         "opacity": 0.1111111111111111,
         "type": "scattergeo"
        },
        {
         "lat": [
          33.4,
          40.3
         ],
         "line": {
          "color": "purple",
          "width": 1
         },
         "locationmode": "USA-states",
         "lon": [
          -117.6,
          -111.7
         ],
         "mode": "lines",
         "opacity": 0.1111111111111111,
         "type": "scattergeo"
        },
        {
         "lat": [
          33.4,
          42.3
         ],
         "line": {
          "color": "lightblue",
          "width": 1
         },
         "locationmode": "USA-states",
         "lon": [
          -117.6,
          -71.2
         ],
         "mode": "lines",
         "opacity": 0.1111111111111111,
         "type": "scattergeo"
        },
        {
         "lat": [
          33.4,
          45
         ],
         "line": {
          "color": "blue",
          "width": 1
         },
         "locationmode": "USA-states",
         "lon": [
          -112.4,
          -93.2
         ],
         "mode": "lines",
         "opacity": 0.1111111111111111,
         "type": "scattergeo"
        },
        {
         "lat": [
          33.4,
          36
         ],
         "line": {
          "color": "lightblue",
          "width": 1
         },
         "locationmode": "USA-states",
         "lon": [
          -112.1,
          -78.9
         ],
         "mode": "lines",
         "opacity": 0.1111111111111111,
         "type": "scattergeo"
        },
        {
         "lat": [
          33.4,
          37.4
         ],
         "line": {
          "color": "green",
          "width": 1
         },
         "locationmode": "USA-states",
         "lon": [
          -112.1,
          -122.2
         ],
         "mode": "lines",
         "opacity": 0.1111111111111111,
         "type": "scattergeo"
        },
        {
         "lat": [
          33.4,
          40.8
         ],
         "line": {
          "color": "green",
          "width": 1
         },
         "locationmode": "USA-states",
         "lon": [
          -112.1,
          -111.8
         ],
         "mode": "lines",
         "opacity": 0.1111111111111111,
         "type": "scattergeo"
        },
        {
         "lat": [
          33.4,
          32.2
         ],
         "line": {
          "color": "green",
          "width": 1
         },
         "locationmode": "USA-states",
         "lon": [
          -111.8,
          -110.9
         ],
         "mode": "lines",
         "opacity": 0.1111111111111111,
         "type": "scattergeo"
        },
        {
         "lat": [
          33.4,
          37.9
         ],
         "line": {
          "color": "green",
          "width": 1
         },
         "locationmode": "USA-states",
         "lon": [
          -111.8,
          -122.3
         ],
         "mode": "lines",
         "opacity": 0.1111111111111111,
         "type": "scattergeo"
        },
        {
         "lat": [
          33.4,
          44.1
         ],
         "line": {
          "color": "green",
          "width": 1
         },
         "locationmode": "USA-states",
         "lon": [
          -111.8,
          -123.1
         ],
         "mode": "lines",
         "opacity": 0.1111111111111111,
         "type": "scattergeo"
        },
        {
         "lat": [
          33.4,
          45
         ],
         "line": {
          "color": "blue",
          "width": 1
         },
         "locationmode": "USA-states",
         "lon": [
          -111.8,
          -93.2
         ],
         "mode": "lines",
         "opacity": 0.1111111111111111,
         "type": "scattergeo"
        },
        {
         "lat": [
          33.4,
          30.4
         ],
         "line": {
          "color": "red",
          "width": 1
         },
         "locationmode": "USA-states",
         "lon": [
          -94.1,
          -91.2
         ],
         "mode": "lines",
         "opacity": 0.1111111111111111,
         "type": "scattergeo"
        },
        {
         "lat": [
          33.4,
          30.6
         ],
         "line": {
          "color": "red",
          "width": 1
         },
         "locationmode": "USA-states",
         "lon": [
          -94.1,
          -96.3
         ],
         "mode": "lines",
         "opacity": 0.1111111111111111,
         "type": "scattergeo"
        },
        {
         "lat": [
          33.4,
          35.2
         ],
         "line": {
          "color": "purple",
          "width": 1
         },
         "locationmode": "USA-states",
         "lon": [
          -94.1,
          -97.4
         ],
         "mode": "lines",
         "opacity": 0.1111111111111111,
         "type": "scattergeo"
        },
        {
         "lat": [
          33.4,
          36.1
         ],
         "line": {
          "color": "purple",
          "width": 1
         },
         "locationmode": "USA-states",
         "lon": [
          -94.1,
          -97.1
         ],
         "mode": "lines",
         "opacity": 0.1111111111111111,
         "type": "scattergeo"
        },
        {
         "lat": [
          33.4,
          42.3
         ],
         "line": {
          "color": "lightblue",
          "width": 1
         },
         "locationmode": "USA-states",
         "lon": [
          -86.9,
          -71.2
         ],
         "mode": "lines",
         "opacity": 0.1111111111111111,
         "type": "scattergeo"
        },
        {
         "lat": [
          33.4,
          36.1
         ],
         "line": {
          "color": "red",
          "width": 1
         },
         "locationmode": "USA-states",
         "lon": [
          -86.8,
          -86.8
         ],
         "mode": "lines",
         "opacity": 0.1111111111111111,
         "type": "scattergeo"
        },
        {
         "lat": [
          33.4,
          40.8
         ],
         "line": {
          "color": "green",
          "width": 1
         },
         "locationmode": "USA-states",
         "lon": [
          -84.5,
          -111.8
         ],
         "mode": "lines",
         "opacity": 0.1111111111111111,
         "type": "scattergeo"
        },
        {
         "lat": [
          33.4,
          30.4
         ],
         "line": {
          "color": "lightblue",
          "width": 1
         },
         "locationmode": "USA-states",
         "lon": [
          -84.1,
          -84.3
         ],
         "mode": "lines",
         "opacity": 0.1111111111111111,
         "type": "scattergeo"
        },
        {
         "lat": [
          33.4,
          36.1
         ],
         "line": {
          "color": "red",
          "width": 1
         },
         "locationmode": "USA-states",
         "lon": [
          -84.1,
          -86.8
         ],
         "mode": "lines",
         "opacity": 0.1111111111111111,
         "type": "scattergeo"
        },
        {
         "lat": [
          33.4,
          42.3
         ],
         "line": {
          "color": "lightblue",
          "width": 1
         },
         "locationmode": "USA-states",
         "lon": [
          -84.1,
          -71.2
         ],
         "mode": "lines",
         "opacity": 0.1111111111111111,
         "type": "scattergeo"
        },
        {
         "lat": [
          33.5,
          34
         ],
         "line": {
          "color": "green",
          "width": 1
         },
         "locationmode": "USA-states",
         "lon": [
          -117.7,
          -118.3
         ],
         "mode": "lines",
         "opacity": 0.1111111111111111,
         "type": "scattergeo"
        },
        {
         "lat": [
          33.5,
          40.3
         ],
         "line": {
          "color": "purple",
          "width": 1
         },
         "locationmode": "USA-states",
         "lon": [
          -117.1,
          -111.7
         ],
         "mode": "lines",
         "opacity": 0.2222222222222222,
         "type": "scattergeo"
        },
        {
         "lat": [
          33.5,
          34.2
         ],
         "line": {
          "color": "green",
          "width": 1
         },
         "locationmode": "USA-states",
         "lon": [
          -111.9,
          -118.2
         ],
         "mode": "lines",
         "opacity": 0.1111111111111111,
         "type": "scattergeo"
        },
        {
         "lat": [
          33.5,
          40
         ],
         "line": {
          "color": "blue",
          "width": 1
         },
         "locationmode": "USA-states",
         "lon": [
          -111.9,
          -83
         ],
         "mode": "lines",
         "opacity": 0.1111111111111111,
         "type": "scattergeo"
        },
        {
         "lat": [
          33.5,
          44.1
         ],
         "line": {
          "color": "green",
          "width": 1
         },
         "locationmode": "USA-states",
         "lon": [
          -111.9,
          -123.1
         ],
         "mode": "lines",
         "opacity": 0.1111111111111111,
         "type": "scattergeo"
        },
        {
         "lat": [
          33.5,
          36.1
         ],
         "line": {
          "color": "red",
          "width": 1
         },
         "locationmode": "USA-states",
         "lon": [
          -95.2,
          -94.2
         ],
         "mode": "lines",
         "opacity": 0.1111111111111111,
         "type": "scattergeo"
        },
        {
         "lat": [
          33.5,
          34.4
         ],
         "line": {
          "color": "red",
          "width": 1
         },
         "locationmode": "USA-states",
         "lon": [
          -88.8,
          -89.5
         ],
         "mode": "lines",
         "opacity": 0.1111111111111111,
         "type": "scattergeo"
        },
        {
         "lat": [
          33.5,
          38
         ],
         "line": {
          "color": "red",
          "width": 1
         },
         "locationmode": "USA-states",
         "lon": [
          -87,
          -84.5
         ],
         "mode": "lines",
         "opacity": 0.1111111111111111,
         "type": "scattergeo"
        },
        {
         "lat": [
          33.5,
          39.2
         ],
         "line": {
          "color": "blue",
          "width": 1
         },
         "locationmode": "USA-states",
         "lon": [
          -86.9,
          -86.5
         ],
         "mode": "lines",
         "opacity": 0.1111111111111111,
         "type": "scattergeo"
        },
        {
         "lat": [
          33.5,
          29.6
         ],
         "line": {
          "color": "red",
          "width": 1
         },
         "locationmode": "USA-states",
         "lon": [
          -86.8,
          -82.3
         ],
         "mode": "lines",
         "opacity": 0.1111111111111111,
         "type": "scattergeo"
        },
        {
         "lat": [
          33.5,
          33.2
         ],
         "line": {
          "color": "red",
          "width": 1
         },
         "locationmode": "USA-states",
         "lon": [
          -86.8,
          -87.6
         ],
         "mode": "lines",
         "opacity": 0.1111111111111111,
         "type": "scattergeo"
        },
        {
         "lat": [
          33.5,
          34
         ],
         "line": {
          "color": "red",
          "width": 1
         },
         "locationmode": "USA-states",
         "lon": [
          -86.8,
          -81
         ],
         "mode": "lines",
         "opacity": 0.1111111111111111,
         "type": "scattergeo"
        },
        {
         "lat": [
          33.5,
          34.4
         ],
         "line": {
          "color": "red",
          "width": 1
         },
         "locationmode": "USA-states",
         "lon": [
          -86.8,
          -89.5
         ],
         "mode": "lines",
         "opacity": 0.1111111111111111,
         "type": "scattergeo"
        },
        {
         "lat": [
          33.5,
          36.1
         ],
         "line": {
          "color": "red",
          "width": 1
         },
         "locationmode": "USA-states",
         "lon": [
          -86.8,
          -86.8
         ],
         "mode": "lines",
         "opacity": 0.1111111111111111,
         "type": "scattergeo"
        },
        {
         "lat": [
          33.5,
          33.8
         ],
         "line": {
          "color": "lightblue",
          "width": 1
         },
         "locationmode": "USA-states",
         "lon": [
          -84.4,
          -84.4
         ],
         "mode": "lines",
         "opacity": 0.1111111111111111,
         "type": "scattergeo"
        },
        {
         "lat": [
          33.5,
          33.5
         ],
         "line": {
          "color": "red",
          "width": 1
         },
         "locationmode": "USA-states",
         "lon": [
          -84.2,
          -88.8
         ],
         "mode": "lines",
         "opacity": 0.1111111111111111,
         "type": "scattergeo"
        },
        {
         "lat": [
          33.6,
          32.2
         ],
         "line": {
          "color": "green",
          "width": 1
         },
         "locationmode": "USA-states",
         "lon": [
          -117.7,
          -110.9
         ],
         "mode": "lines",
         "opacity": 0.1111111111111111,
         "type": "scattergeo"
        },
        {
         "lat": [
          33.6,
          37.4
         ],
         "line": {
          "color": "green",
          "width": 1
         },
         "locationmode": "USA-states",
         "lon": [
          -117.7,
          -122.2
         ],
         "mode": "lines",
         "opacity": 0.1111111111111111,
         "type": "scattergeo"
        },
        {
         "lat": [
          33.6,
          37.9
         ],
         "line": {
          "color": "green",
          "width": 1
         },
         "locationmode": "USA-states",
         "lon": [
          -117.7,
          -122.3
         ],
         "mode": "lines",
         "opacity": 0.1111111111111111,
         "type": "scattergeo"
        },
        {
         "lat": [
          33.6,
          40.8
         ],
         "line": {
          "color": "green",
          "width": 1
         },
         "locationmode": "USA-states",
         "lon": [
          -117.7,
          -111.8
         ],
         "mode": "lines",
         "opacity": 0.1111111111111111,
         "type": "scattergeo"
        },
        {
         "lat": [
          33.6,
          44.6
         ],
         "line": {
          "color": "green",
          "width": 1
         },
         "locationmode": "USA-states",
         "lon": [
          -117.7,
          -123.3
         ],
         "mode": "lines",
         "opacity": 0.1111111111111111,
         "type": "scattergeo"
        },
        {
         "lat": [
          33.6,
          37.9
         ],
         "line": {
          "color": "green",
          "width": 1
         },
         "locationmode": "USA-states",
         "lon": [
          -117.6,
          -122.3
         ],
         "mode": "lines",
         "opacity": 0.1111111111111111,
         "type": "scattergeo"
        },
        {
         "lat": [
          33.6,
          32.7
         ],
         "line": {
          "color": "purple",
          "width": 1
         },
         "locationmode": "USA-states",
         "lon": [
          -101.9,
          -97.4
         ],
         "mode": "lines",
         "opacity": 0.1111111111111111,
         "type": "scattergeo"
        },
        {
         "lat": [
          33.6,
          33.5
         ],
         "line": {
          "color": "red",
          "width": 1
         },
         "locationmode": "USA-states",
         "lon": [
          -101.9,
          -88.8
         ],
         "mode": "lines",
         "opacity": 0.1111111111111111,
         "type": "scattergeo"
        },
        {
         "lat": [
          33.6,
          33.6
         ],
         "line": {
          "color": "purple",
          "width": 1
         },
         "locationmode": "USA-states",
         "lon": [
          -101.9,
          -101.9
         ],
         "mode": "lines",
         "opacity": 0.1111111111111111,
         "type": "scattergeo"
        },
        {
         "lat": [
          33.6,
          29.7
         ],
         "line": {
          "color": "purple",
          "width": 1
         },
         "locationmode": "USA-states",
         "lon": [
          -87,
          -95.3
         ],
         "mode": "lines",
         "opacity": 0.1111111111111111,
         "type": "scattergeo"
        },
        {
         "lat": [
          33.6,
          30.4
         ],
         "line": {
          "color": "red",
          "width": 1
         },
         "locationmode": "USA-states",
         "lon": [
          -86.6,
          -91.2
         ],
         "mode": "lines",
         "opacity": 0.1111111111111111,
         "type": "scattergeo"
        },
        {
         "lat": [
          33.6,
          34.4
         ],
         "line": {
          "color": "red",
          "width": 1
         },
         "locationmode": "USA-states",
         "lon": [
          -86.6,
          -89.5
         ],
         "mode": "lines",
         "opacity": 0.1111111111111111,
         "type": "scattergeo"
        },
        {
         "lat": [
          33.6,
          29.6
         ],
         "line": {
          "color": "red",
          "width": 1
         },
         "locationmode": "USA-states",
         "lon": [
          -85.1,
          -82.3
         ],
         "mode": "lines",
         "opacity": 0.1111111111111111,
         "type": "scattergeo"
        },
        {
         "lat": [
          33.6,
          33.9
         ],
         "line": {
          "color": "red",
          "width": 1
         },
         "locationmode": "USA-states",
         "lon": [
          -85.1,
          -83.4
         ],
         "mode": "lines",
         "opacity": 0.1111111111111111,
         "type": "scattergeo"
        },
        {
         "lat": [
          33.6,
          35.8
         ],
         "line": {
          "color": "lightblue",
          "width": 1
         },
         "locationmode": "USA-states",
         "lon": [
          -85.1,
          -78.7
         ],
         "mode": "lines",
         "opacity": 0.1111111111111111,
         "type": "scattergeo"
        },
        {
         "lat": [
          33.6,
          34
         ],
         "line": {
          "color": "red",
          "width": 1
         },
         "locationmode": "USA-states",
         "lon": [
          -84.6,
          -81
         ],
         "mode": "lines",
         "opacity": 0.1111111111111111,
         "type": "scattergeo"
        },
        {
         "lat": [
          33.6,
          39.2
         ],
         "line": {
          "color": "blue",
          "width": 1
         },
         "locationmode": "USA-states",
         "lon": [
          -84.3,
          -86.5
         ],
         "mode": "lines",
         "opacity": 0.1111111111111111,
         "type": "scattergeo"
        },
        {
         "lat": [
          33.6,
          33.9
         ],
         "line": {
          "color": "red",
          "width": 1
         },
         "locationmode": "USA-states",
         "lon": [
          -83.9,
          -83.4
         ],
         "mode": "lines",
         "opacity": 0.1111111111111111,
         "type": "scattergeo"
        },
        {
         "lat": [
          33.6,
          45
         ],
         "line": {
          "color": "blue",
          "width": 1
         },
         "locationmode": "USA-states",
         "lon": [
          -83.9,
          -93.2
         ],
         "mode": "lines",
         "opacity": 0.1111111111111111,
         "type": "scattergeo"
        },
        {
         "lat": [
          33.7,
          34
         ],
         "line": {
          "color": "green",
          "width": 1
         },
         "locationmode": "USA-states",
         "lon": [
          -117.9,
          -118.3
         ],
         "mode": "lines",
         "opacity": 0.2222222222222222,
         "type": "scattergeo"
        },
        {
         "lat": [
          33.7,
          42.3
         ],
         "line": {
          "color": "blue",
          "width": 1
         },
         "locationmode": "USA-states",
         "lon": [
          -117.9,
          -83.7
         ],
         "mode": "lines",
         "opacity": 0.1111111111111111,
         "type": "scattergeo"
        },
        {
         "lat": [
          33.7,
          44.1
         ],
         "line": {
          "color": "green",
          "width": 1
         },
         "locationmode": "USA-states",
         "lon": [
          -117.9,
          -123.1
         ],
         "mode": "lines",
         "opacity": 0.1111111111111111,
         "type": "scattergeo"
        },
        {
         "lat": [
          33.7,
          39.7
         ],
         "line": {
          "color": "purple",
          "width": 1
         },
         "locationmode": "USA-states",
         "lon": [
          -86.8,
          -80
         ],
         "mode": "lines",
         "opacity": 0.1111111111111111,
         "type": "scattergeo"
        },
        {
         "lat": [
          33.7,
          33.2
         ],
         "line": {
          "color": "red",
          "width": 1
         },
         "locationmode": "USA-states",
         "lon": [
          -86.7,
          -87.6
         ],
         "mode": "lines",
         "opacity": 0.1111111111111111,
         "type": "scattergeo"
        },
        {
         "lat": [
          33.7,
          37.2
         ],
         "line": {
          "color": "lightblue",
          "width": 1
         },
         "locationmode": "USA-states",
         "lon": [
          -86.7,
          -80.4
         ],
         "mode": "lines",
         "opacity": 0.1111111111111111,
         "type": "scattergeo"
        },
        {
         "lat": [
          33.7,
          30.4
         ],
         "line": {
          "color": "red",
          "width": 1
         },
         "locationmode": "USA-states",
         "lon": [
          -84.4,
          -91.2
         ],
         "mode": "lines",
         "opacity": 0.1111111111111111,
         "type": "scattergeo"
        },
        {
         "lat": [
          33.7,
          33.8
         ],
         "line": {
          "color": "lightblue",
          "width": 1
         },
         "locationmode": "USA-states",
         "lon": [
          -84.4,
          -84.4
         ],
         "mode": "lines",
         "opacity": 0.2222222222222222,
         "type": "scattergeo"
        },
        {
         "lat": [
          33.7,
          34.2
         ],
         "line": {
          "color": "green",
          "width": 1
         },
         "locationmode": "USA-states",
         "lon": [
          -84.4,
          -118.2
         ],
         "mode": "lines",
         "opacity": 0.1111111111111111,
         "type": "scattergeo"
        },
        {
         "lat": [
          33.7,
          34.4
         ],
         "line": {
          "color": "red",
          "width": 1
         },
         "locationmode": "USA-states",
         "lon": [
          -84.4,
          -89.5
         ],
         "mode": "lines",
         "opacity": 0.1111111111111111,
         "type": "scattergeo"
        },
        {
         "lat": [
          33.7,
          34.7
         ],
         "line": {
          "color": "lightblue",
          "width": 1
         },
         "locationmode": "USA-states",
         "lon": [
          -84.4,
          -82.8
         ],
         "mode": "lines",
         "opacity": 0.3333333333333333,
         "type": "scattergeo"
        },
        {
         "lat": [
          33.7,
          36.1
         ],
         "line": {
          "color": "red",
          "width": 1
         },
         "locationmode": "USA-states",
         "lon": [
          -84.4,
          -94.2
         ],
         "mode": "lines",
         "opacity": 0.1111111111111111,
         "type": "scattergeo"
        },
        {
         "lat": [
          33.7,
          36.1
         ],
         "line": {
          "color": "red",
          "width": 1
         },
         "locationmode": "USA-states",
         "lon": [
          -84.4,
          -86.8
         ],
         "mode": "lines",
         "opacity": 0.2222222222222222,
         "type": "scattergeo"
        },
        {
         "lat": [
          33.7,
          37.4
         ],
         "line": {
          "color": "green",
          "width": 1
         },
         "locationmode": "USA-states",
         "lon": [
          -84.4,
          -122.2
         ],
         "mode": "lines",
         "opacity": 0.1111111111111111,
         "type": "scattergeo"
        },
        {
         "lat": [
          33.7,
          39.2
         ],
         "line": {
          "color": "purple",
          "width": 1
         },
         "locationmode": "USA-states",
         "lon": [
          -84.4,
          -96.6
         ],
         "mode": "lines",
         "opacity": 0.1111111111111111,
         "type": "scattergeo"
        },
        {
         "lat": [
          33.7,
          39.2
         ],
         "line": {
          "color": "blue",
          "width": 1
         },
         "locationmode": "USA-states",
         "lon": [
          -84.4,
          -86.5
         ],
         "mode": "lines",
         "opacity": 0.1111111111111111,
         "type": "scattergeo"
        },
        {
         "lat": [
          33.7,
          40.1
         ],
         "line": {
          "color": "blue",
          "width": 1
         },
         "locationmode": "USA-states",
         "lon": [
          -84.4,
          -88.2
         ],
         "mode": "lines",
         "opacity": 0.1111111111111111,
         "type": "scattergeo"
        },
        {
         "lat": [
          33.7,
          40.4
         ],
         "line": {
          "color": "lightblue",
          "width": 1
         },
         "locationmode": "USA-states",
         "lon": [
          -84.4,
          -80
         ],
         "mode": "lines",
         "opacity": 0.1111111111111111,
         "type": "scattergeo"
        },
        {
         "lat": [
          33.7,
          43
         ],
         "line": {
          "color": "lightblue",
          "width": 1
         },
         "locationmode": "USA-states",
         "lon": [
          -84.4,
          -76.1
         ],
         "mode": "lines",
         "opacity": 0.1111111111111111,
         "type": "scattergeo"
        },
        {
         "lat": [
          33.7,
          28.6
         ],
         "line": {
          "color": "purple",
          "width": 1
         },
         "locationmode": "USA-states",
         "lon": [
          -84.1,
          -81.2
         ],
         "mode": "lines",
         "opacity": 0.1111111111111111,
         "type": "scattergeo"
        },
        {
         "lat": [
          33.7,
          35.9
         ],
         "line": {
          "color": "lightblue",
          "width": 1
         },
         "locationmode": "USA-states",
         "lon": [
          -78.9,
          -79
         ],
         "mode": "lines",
         "opacity": 0.1111111111111111,
         "type": "scattergeo"
        },
        {
         "lat": [
          33.8,
          34
         ],
         "line": {
          "color": "green",
          "width": 1
         },
         "locationmode": "USA-states",
         "lon": [
          -118.3,
          -118.3
         ],
         "mode": "lines",
         "opacity": 0.1111111111111111,
         "type": "scattergeo"
        },
        {
         "lat": [
          33.8,
          34.2
         ],
         "line": {
          "color": "green",
          "width": 1
         },
         "locationmode": "USA-states",
         "lon": [
          -118.2,
          -118.2
         ],
         "mode": "lines",
         "opacity": 0.1111111111111111,
         "type": "scattergeo"
        },
        {
         "lat": [
          33.8,
          33.4
         ],
         "line": {
          "color": "green",
          "width": 1
         },
         "locationmode": "USA-states",
         "lon": [
          -117.9,
          -111.9
         ],
         "mode": "lines",
         "opacity": 0.1111111111111111,
         "type": "scattergeo"
        },
        {
         "lat": [
          33.8,
          40
         ],
         "line": {
          "color": "green",
          "width": 1
         },
         "locationmode": "USA-states",
         "lon": [
          -117.9,
          -105.3
         ],
         "mode": "lines",
         "opacity": 0.1111111111111111,
         "type": "scattergeo"
        },
        {
         "lat": [
          33.8,
          44.6
         ],
         "line": {
          "color": "green",
          "width": 1
         },
         "locationmode": "USA-states",
         "lon": [
          -117.9,
          -123.3
         ],
         "mode": "lines",
         "opacity": 0.1111111111111111,
         "type": "scattergeo"
        },
        {
         "lat": [
          33.8,
          34.2
         ],
         "line": {
          "color": "green",
          "width": 1
         },
         "locationmode": "USA-states",
         "lon": [
          -117,
          -118.2
         ],
         "mode": "lines",
         "opacity": 0.1111111111111111,
         "type": "scattergeo"
        },
        {
         "lat": [
          33.8,
          36.1
         ],
         "line": {
          "color": "purple",
          "width": 1
         },
         "locationmode": "USA-states",
         "lon": [
          -96.7,
          -97.1
         ],
         "mode": "lines",
         "opacity": 0.1111111111111111,
         "type": "scattergeo"
        },
        {
         "lat": [
          33.8,
          40.4
         ],
         "line": {
          "color": "blue",
          "width": 1
         },
         "locationmode": "USA-states",
         "lon": [
          -92.4,
          -86.9
         ],
         "mode": "lines",
         "opacity": 0.1111111111111111,
         "type": "scattergeo"
        },
        {
         "lat": [
          33.8,
          33.8
         ],
         "line": {
          "color": "lightblue",
          "width": 1
         },
         "locationmode": "USA-states",
         "lon": [
          -84.7,
          -84.4
         ],
         "mode": "lines",
         "opacity": 0.1111111111111111,
         "type": "scattergeo"
        },
        {
         "lat": [
          33.8,
          33.9
         ],
         "line": {
          "color": "red",
          "width": 1
         },
         "locationmode": "USA-states",
         "lon": [
          -84.7,
          -83.4
         ],
         "mode": "lines",
         "opacity": 0.1111111111111111,
         "type": "scattergeo"
        },
        {
         "lat": [
          33.8,
          36
         ],
         "line": {
          "color": "red",
          "width": 1
         },
         "locationmode": "USA-states",
         "lon": [
          -84.7,
          -83.9
         ],
         "mode": "lines",
         "opacity": 0.1111111111111111,
         "type": "scattergeo"
        },
        {
         "lat": [
          33.8,
          36.1
         ],
         "line": {
          "color": "lightblue",
          "width": 1
         },
         "locationmode": "USA-states",
         "lon": [
          -84.7,
          -80.3
         ],
         "mode": "lines",
         "opacity": 0.1111111111111111,
         "type": "scattergeo"
        },
        {
         "lat": [
          33.8,
          38.2
         ],
         "line": {
          "color": "lightblue",
          "width": 1
         },
         "locationmode": "USA-states",
         "lon": [
          -84.7,
          -85.8
         ],
         "mode": "lines",
         "opacity": 0.1111111111111111,
         "type": "scattergeo"
        },
        {
         "lat": [
          33.8,
          26
         ],
         "line": {
          "color": "lightblue",
          "width": 1
         },
         "locationmode": "USA-states",
         "lon": [
          -83.9,
          -80.2
         ],
         "mode": "lines",
         "opacity": 0.1111111111111111,
         "type": "scattergeo"
        },
        {
         "lat": [
          33.8,
          29.6
         ],
         "line": {
          "color": "red",
          "width": 1
         },
         "locationmode": "USA-states",
         "lon": [
          -83.9,
          -82.3
         ],
         "mode": "lines",
         "opacity": 0.1111111111111111,
         "type": "scattergeo"
        },
        {
         "lat": [
          33.8,
          33.8
         ],
         "line": {
          "color": "lightblue",
          "width": 1
         },
         "locationmode": "USA-states",
         "lon": [
          -83.9,
          -84.4
         ],
         "mode": "lines",
         "opacity": 0.2222222222222222,
         "type": "scattergeo"
        },
        {
         "lat": [
          33.8,
          34.7
         ],
         "line": {
          "color": "lightblue",
          "width": 1
         },
         "locationmode": "USA-states",
         "lon": [
          -83.9,
          -82.8
         ],
         "mode": "lines",
         "opacity": 0.1111111111111111,
         "type": "scattergeo"
        },
        {
         "lat": [
          33.8,
          38.2
         ],
         "line": {
          "color": "lightblue",
          "width": 1
         },
         "locationmode": "USA-states",
         "lon": [
          -83.9,
          -85.8
         ],
         "mode": "lines",
         "opacity": 0.1111111111111111,
         "type": "scattergeo"
        },
        {
         "lat": [
          33.8,
          42.3
         ],
         "line": {
          "color": "lightblue",
          "width": 1
         },
         "locationmode": "USA-states",
         "lon": [
          -83.9,
          -71.2
         ],
         "mode": "lines",
         "opacity": 0.1111111111111111,
         "type": "scattergeo"
        },
        {
         "lat": [
          33.8,
          36.1
         ],
         "line": {
          "color": "lightblue",
          "width": 1
         },
         "locationmode": "USA-states",
         "lon": [
          -81.8,
          -80.3
         ],
         "mode": "lines",
         "opacity": 0.1111111111111111,
         "type": "scattergeo"
        },
        {
         "lat": [
          33.9,
          34.2
         ],
         "line": {
          "color": "green",
          "width": 1
         },
         "locationmode": "USA-states",
         "lon": [
          -118.3,
          -118.2
         ],
         "mode": "lines",
         "opacity": 0.1111111111111111,
         "type": "scattergeo"
        },
        {
         "lat": [
          33.9,
          34
         ],
         "line": {
          "color": "green",
          "width": 1
         },
         "locationmode": "USA-states",
         "lon": [
          -118.1,
          -118.3
         ],
         "mode": "lines",
         "opacity": 0.2222222222222222,
         "type": "scattergeo"
        },
        {
         "lat": [
          33.9,
          34.7
         ],
         "line": {
          "color": "lightblue",
          "width": 1
         },
         "locationmode": "USA-states",
         "lon": [
          -118.1,
          -82.8
         ],
         "mode": "lines",
         "opacity": 0.1111111111111111,
         "type": "scattergeo"
        },
        {
         "lat": [
          33.9,
          37.9
         ],
         "line": {
          "color": "green",
          "width": 1
         },
         "locationmode": "USA-states",
         "lon": [
          -118.1,
          -122.3
         ],
         "mode": "lines",
         "opacity": 0.1111111111111111,
         "type": "scattergeo"
        },
        {
         "lat": [
          33.9,
          39
         ],
         "line": {
          "color": "purple",
          "width": 1
         },
         "locationmode": "USA-states",
         "lon": [
          -118.1,
          -95.2
         ],
         "mode": "lines",
         "opacity": 0.1111111111111111,
         "type": "scattergeo"
        },
        {
         "lat": [
          33.9,
          40
         ],
         "line": {
          "color": "green",
          "width": 1
         },
         "locationmode": "USA-states",
         "lon": [
          -117.9,
          -105.3
         ],
         "mode": "lines",
         "opacity": 0.1111111111111111,
         "type": "scattergeo"
        },
        {
         "lat": [
          33.9,
          34
         ],
         "line": {
          "color": "green",
          "width": 1
         },
         "locationmode": "USA-states",
         "lon": [
          -117.6,
          -118.3
         ],
         "mode": "lines",
         "opacity": 0.1111111111111111,
         "type": "scattergeo"
        },
        {
         "lat": [
          33.9,
          46.7
         ],
         "line": {
          "color": "green",
          "width": 1
         },
         "locationmode": "USA-states",
         "lon": [
          -117.6,
          -117.2
         ],
         "mode": "lines",
         "opacity": 0.1111111111111111,
         "type": "scattergeo"
        },
        {
         "lat": [
          33.9,
          32.7
         ],
         "line": {
          "color": "purple",
          "width": 1
         },
         "locationmode": "USA-states",
         "lon": [
          -98.5,
          -97.4
         ],
         "mode": "lines",
         "opacity": 0.1111111111111111,
         "type": "scattergeo"
        },
        {
         "lat": [
          33.9,
          33.6
         ],
         "line": {
          "color": "purple",
          "width": 1
         },
         "locationmode": "USA-states",
         "lon": [
          -98.5,
          -101.9
         ],
         "mode": "lines",
         "opacity": 0.2222222222222222,
         "type": "scattergeo"
        },
        {
         "lat": [
          33.9,
          38
         ],
         "line": {
          "color": "lightblue",
          "width": 1
         },
         "locationmode": "USA-states",
         "lon": [
          -98.5,
          -78.5
         ],
         "mode": "lines",
         "opacity": 0.1111111111111111,
         "type": "scattergeo"
        },
        {
         "lat": [
          33.9,
          33.9
         ],
         "line": {
          "color": "red",
          "width": 1
         },
         "locationmode": "USA-states",
         "lon": [
          -84.8,
          -83.4
         ],
         "mode": "lines",
         "opacity": 0.1111111111111111,
         "type": "scattergeo"
        },
        {
         "lat": [
          33.9,
          33.4
         ],
         "line": {
          "color": "green",
          "width": 1
         },
         "locationmode": "USA-states",
         "lon": [
          -84.7,
          -111.9
         ],
         "mode": "lines",
         "opacity": 0.1111111111111111,
         "type": "scattergeo"
        },
        {
         "lat": [
          33.9,
          37.4
         ],
         "line": {
          "color": "green",
          "width": 1
         },
         "locationmode": "USA-states",
         "lon": [
          -84.7,
          -122.2
         ],
         "mode": "lines",
         "opacity": 0.1111111111111111,
         "type": "scattergeo"
        },
        {
         "lat": [
          33.9,
          29.7
         ],
         "line": {
          "color": "purple",
          "width": 1
         },
         "locationmode": "USA-states",
         "lon": [
          -84.2,
          -95.3
         ],
         "mode": "lines",
         "opacity": 0.1111111111111111,
         "type": "scattergeo"
        },
        {
         "lat": [
          33.9,
          26
         ],
         "line": {
          "color": "lightblue",
          "width": 1
         },
         "locationmode": "USA-states",
         "lon": [
          -84.1,
          -80.2
         ],
         "mode": "lines",
         "opacity": 0.1111111111111111,
         "type": "scattergeo"
        },
        {
         "lat": [
          33.9,
          28.6
         ],
         "line": {
          "color": "purple",
          "width": 1
         },
         "locationmode": "USA-states",
         "lon": [
          -84.1,
          -81.2
         ],
         "mode": "lines",
         "opacity": 0.1111111111111111,
         "type": "scattergeo"
        },
        {
         "lat": [
          33.9,
          36.1
         ],
         "line": {
          "color": "lightblue",
          "width": 1
         },
         "locationmode": "USA-states",
         "lon": [
          -84.1,
          -80.3
         ],
         "mode": "lines",
         "opacity": 0.1111111111111111,
         "type": "scattergeo"
        },
        {
         "lat": [
          33.9,
          39
         ],
         "line": {
          "color": "purple",
          "width": 1
         },
         "locationmode": "USA-states",
         "lon": [
          -84,
          -95.2
         ],
         "mode": "lines",
         "opacity": 0.1111111111111111,
         "type": "scattergeo"
        },
        {
         "lat": [
          33.9,
          40.1
         ],
         "line": {
          "color": "blue",
          "width": 1
         },
         "locationmode": "USA-states",
         "lon": [
          -84,
          -88.2
         ],
         "mode": "lines",
         "opacity": 0.1111111111111111,
         "type": "scattergeo"
        },
        {
         "lat": [
          33.9,
          33.9
         ],
         "line": {
          "color": "red",
          "width": 1
         },
         "locationmode": "USA-states",
         "lon": [
          -83.5,
          -83.4
         ],
         "mode": "lines",
         "opacity": 0.1111111111111111,
         "type": "scattergeo"
        },
        {
         "lat": [
          33.9,
          34.7
         ],
         "line": {
          "color": "lightblue",
          "width": 1
         },
         "locationmode": "USA-states",
         "lon": [
          -83.5,
          -82.8
         ],
         "mode": "lines",
         "opacity": 0.1111111111111111,
         "type": "scattergeo"
        },
        {
         "lat": [
          33.9,
          38
         ],
         "line": {
          "color": "lightblue",
          "width": 1
         },
         "locationmode": "USA-states",
         "lon": [
          -83.4,
          -78.5
         ],
         "mode": "lines",
         "opacity": 0.1111111111111111,
         "type": "scattergeo"
        },
        {
         "lat": [
          33.9,
          29.6
         ],
         "line": {
          "color": "red",
          "width": 1
         },
         "locationmode": "USA-states",
         "lon": [
          -80.3,
          -82.3
         ],
         "mode": "lines",
         "opacity": 0.1111111111111111,
         "type": "scattergeo"
        },
        {
         "lat": [
          33.9,
          36.1
         ],
         "line": {
          "color": "red",
          "width": 1
         },
         "locationmode": "USA-states",
         "lon": [
          -80.3,
          -86.8
         ],
         "mode": "lines",
         "opacity": 0.1111111111111111,
         "type": "scattergeo"
        },
        {
         "lat": [
          33.9,
          39
         ],
         "line": {
          "color": "purple",
          "width": 1
         },
         "locationmode": "USA-states",
         "lon": [
          -80.3,
          -95.2
         ],
         "mode": "lines",
         "opacity": 0.1111111111111111,
         "type": "scattergeo"
        },
        {
         "lat": [
          33.9,
          43
         ],
         "line": {
          "color": "lightblue",
          "width": 1
         },
         "locationmode": "USA-states",
         "lon": [
          -78.6,
          -76.1
         ],
         "mode": "lines",
         "opacity": 0.1111111111111111,
         "type": "scattergeo"
        },
        {
         "lat": [
          34,
          33.4
         ],
         "line": {
          "color": "green",
          "width": 1
         },
         "locationmode": "USA-states",
         "lon": [
          -118.4,
          -111.9
         ],
         "mode": "lines",
         "opacity": 0.1111111111111111,
         "type": "scattergeo"
        },
        {
         "lat": [
          34,
          40.8
         ],
         "line": {
          "color": "green",
          "width": 1
         },
         "locationmode": "USA-states",
         "lon": [
          -118.4,
          -111.8
         ],
         "mode": "lines",
         "opacity": 0.1111111111111111,
         "type": "scattergeo"
        },
        {
         "lat": [
          34,
          46.7
         ],
         "line": {
          "color": "green",
          "width": 1
         },
         "locationmode": "USA-states",
         "lon": [
          -118.4,
          -117.2
         ],
         "mode": "lines",
         "opacity": 0.1111111111111111,
         "type": "scattergeo"
        },
        {
         "lat": [
          34,
          47.7
         ],
         "line": {
          "color": "green",
          "width": 1
         },
         "locationmode": "USA-states",
         "lon": [
          -118,
          -122.3
         ],
         "mode": "lines",
         "opacity": 0.1111111111111111,
         "type": "scattergeo"
        },
        {
         "lat": [
          34,
          33.4
         ],
         "line": {
          "color": "green",
          "width": 1
         },
         "locationmode": "USA-states",
         "lon": [
          -117.4,
          -111.9
         ],
         "mode": "lines",
         "opacity": 0.1111111111111111,
         "type": "scattergeo"
        },
        {
         "lat": [
          34,
          33.5
         ],
         "line": {
          "color": "red",
          "width": 1
         },
         "locationmode": "USA-states",
         "lon": [
          -88.5,
          -88.8
         ],
         "mode": "lines",
         "opacity": 0.1111111111111111,
         "type": "scattergeo"
        },
        {
         "lat": [
          34,
          36
         ],
         "line": {
          "color": "lightblue",
          "width": 1
         },
         "locationmode": "USA-states",
         "lon": [
          -86.1,
          -78.9
         ],
         "mode": "lines",
         "opacity": 0.1111111111111111,
         "type": "scattergeo"
        },
        {
         "lat": [
          34,
          30.4
         ],
         "line": {
          "color": "lightblue",
          "width": 1
         },
         "locationmode": "USA-states",
         "lon": [
          -86,
          -84.3
         ],
         "mode": "lines",
         "opacity": 0.1111111111111111,
         "type": "scattergeo"
        },
        {
         "lat": [
          34,
          36.1
         ],
         "line": {
          "color": "red",
          "width": 1
         },
         "locationmode": "USA-states",
         "lon": [
          -85.3,
          -94.2
         ],
         "mode": "lines",
         "opacity": 0.1111111111111111,
         "type": "scattergeo"
        },
        {
         "lat": [
          34,
          36.1
         ],
         "line": {
          "color": "red",
          "width": 1
         },
         "locationmode": "USA-states",
         "lon": [
          -84.6,
          -86.8
         ],
         "mode": "lines",
         "opacity": 0.1111111111111111,
         "type": "scattergeo"
        },
        {
         "lat": [
          34,
          37.2
         ],
         "line": {
          "color": "lightblue",
          "width": 1
         },
         "locationmode": "USA-states",
         "lon": [
          -84.6,
          -80.4
         ],
         "mode": "lines",
         "opacity": 0.1111111111111111,
         "type": "scattergeo"
        },
        {
         "lat": [
          34,
          36
         ],
         "line": {
          "color": "red",
          "width": 1
         },
         "locationmode": "USA-states",
         "lon": [
          -84.4,
          -83.9
         ],
         "mode": "lines",
         "opacity": 0.1111111111111111,
         "type": "scattergeo"
        },
        {
         "lat": [
          34,
          38
         ],
         "line": {
          "color": "lightblue",
          "width": 1
         },
         "locationmode": "USA-states",
         "lon": [
          -84.4,
          -78.5
         ],
         "mode": "lines",
         "opacity": 0.2222222222222222,
         "type": "scattergeo"
        },
        {
         "lat": [
          34,
          38.2
         ],
         "line": {
          "color": "lightblue",
          "width": 1
         },
         "locationmode": "USA-states",
         "lon": [
          -84.4,
          -85.8
         ],
         "mode": "lines",
         "opacity": 0.1111111111111111,
         "type": "scattergeo"
        },
        {
         "lat": [
          34,
          39
         ],
         "line": {
          "color": "purple",
          "width": 1
         },
         "locationmode": "USA-states",
         "lon": [
          -84.4,
          -95.2
         ],
         "mode": "lines",
         "opacity": 0.1111111111111111,
         "type": "scattergeo"
        },
        {
         "lat": [
          34,
          34.4
         ],
         "line": {
          "color": "red",
          "width": 1
         },
         "locationmode": "USA-states",
         "lon": [
          -84,
          -89.5
         ],
         "mode": "lines",
         "opacity": 0.1111111111111111,
         "type": "scattergeo"
        },
        {
         "lat": [
          34,
          33.8
         ],
         "line": {
          "color": "lightblue",
          "width": 1
         },
         "locationmode": "USA-states",
         "lon": [
          -83.9,
          -84.4
         ],
         "mode": "lines",
         "opacity": 0.1111111111111111,
         "type": "scattergeo"
        },
        {
         "lat": [
          34,
          34
         ],
         "line": {
          "color": "red",
          "width": 1
         },
         "locationmode": "USA-states",
         "lon": [
          -83.9,
          -81
         ],
         "mode": "lines",
         "opacity": 0.1111111111111111,
         "type": "scattergeo"
        },
        {
         "lat": [
          34,
          38
         ],
         "line": {
          "color": "lightblue",
          "width": 1
         },
         "locationmode": "USA-states",
         "lon": [
          -83.4,
          -78.5
         ],
         "mode": "lines",
         "opacity": 0.1111111111111111,
         "type": "scattergeo"
        },
        {
         "lat": [
          34,
          43
         ],
         "line": {
          "color": "lightblue",
          "width": 1
         },
         "locationmode": "USA-states",
         "lon": [
          -81.2,
          -76.1
         ],
         "mode": "lines",
         "opacity": 0.1111111111111111,
         "type": "scattergeo"
        },
        {
         "lat": [
          34,
          34.7
         ],
         "line": {
          "color": "lightblue",
          "width": 1
         },
         "locationmode": "USA-states",
         "lon": [
          -81,
          -82.8
         ],
         "mode": "lines",
         "opacity": 0.1111111111111111,
         "type": "scattergeo"
        },
        {
         "lat": [
          34.1,
          39
         ],
         "line": {
          "color": "blue",
          "width": 1
         },
         "locationmode": "USA-states",
         "lon": [
          -118.8,
          -76.9
         ],
         "mode": "lines",
         "opacity": 0.1111111111111111,
         "type": "scattergeo"
        },
        {
         "lat": [
          34.1,
          40
         ],
         "line": {
          "color": "green",
          "width": 1
         },
         "locationmode": "USA-states",
         "lon": [
          -118.8,
          -105.3
         ],
         "mode": "lines",
         "opacity": 0.1111111111111111,
         "type": "scattergeo"
        },
        {
         "lat": [
          34.1,
          40.8
         ],
         "line": {
          "color": "green",
          "width": 1
         },
         "locationmode": "USA-states",
         "lon": [
          -118.8,
          -111.8
         ],
         "mode": "lines",
         "opacity": 0.1111111111111111,
         "type": "scattergeo"
        },
        {
         "lat": [
          34.1,
          34
         ],
         "line": {
          "color": "green",
          "width": 1
         },
         "locationmode": "USA-states",
         "lon": [
          -118.2,
          -118.3
         ],
         "mode": "lines",
         "opacity": 0.1111111111111111,
         "type": "scattergeo"
        },
        {
         "lat": [
          34.1,
          44.6
         ],
         "line": {
          "color": "green",
          "width": 1
         },
         "locationmode": "USA-states",
         "lon": [
          -118.2,
          -123.3
         ],
         "mode": "lines",
         "opacity": 0.1111111111111111,
         "type": "scattergeo"
        },
        {
         "lat": [
          34.1,
          47.7
         ],
         "line": {
          "color": "green",
          "width": 1
         },
         "locationmode": "USA-states",
         "lon": [
          -118.2,
          -122.3
         ],
         "mode": "lines",
         "opacity": 0.1111111111111111,
         "type": "scattergeo"
        },
        {
         "lat": [
          34.1,
          30.3
         ],
         "line": {
          "color": "purple",
          "width": 1
         },
         "locationmode": "USA-states",
         "lon": [
          -118.1,
          -97.7
         ],
         "mode": "lines",
         "opacity": 0.1111111111111111,
         "type": "scattergeo"
        },
        {
         "lat": [
          34.1,
          34
         ],
         "line": {
          "color": "green",
          "width": 1
         },
         "locationmode": "USA-states",
         "lon": [
          -118.1,
          -118.3
         ],
         "mode": "lines",
         "opacity": 0.1111111111111111,
         "type": "scattergeo"
        },
        {
         "lat": [
          34.1,
          44.1
         ],
         "line": {
          "color": "green",
          "width": 1
         },
         "locationmode": "USA-states",
         "lon": [
          -117.6,
          -123.1
         ],
         "mode": "lines",
         "opacity": 0.1111111111111111,
         "type": "scattergeo"
        },
        {
         "lat": [
          34.1,
          46.7
         ],
         "line": {
          "color": "green",
          "width": 1
         },
         "locationmode": "USA-states",
         "lon": [
          -117.3,
          -117.2
         ],
         "mode": "lines",
         "opacity": 0.1111111111111111,
         "type": "scattergeo"
        },
        {
         "lat": [
          34.1,
          33.9
         ],
         "line": {
          "color": "red",
          "width": 1
         },
         "locationmode": "USA-states",
         "lon": [
          -84.5,
          -83.4
         ],
         "mode": "lines",
         "opacity": 0.1111111111111111,
         "type": "scattergeo"
        },
        {
         "lat": [
          34.1,
          35.8
         ],
         "line": {
          "color": "lightblue",
          "width": 1
         },
         "locationmode": "USA-states",
         "lon": [
          -84.3,
          -78.7
         ],
         "mode": "lines",
         "opacity": 0.1111111111111111,
         "type": "scattergeo"
        },
        {
         "lat": [
          34.1,
          36
         ],
         "line": {
          "color": "lightblue",
          "width": 1
         },
         "locationmode": "USA-states",
         "lon": [
          -84.3,
          -78.9
         ],
         "mode": "lines",
         "opacity": 0.1111111111111111,
         "type": "scattergeo"
        },
        {
         "lat": [
          34.1,
          37.2
         ],
         "line": {
          "color": "lightblue",
          "width": 1
         },
         "locationmode": "USA-states",
         "lon": [
          -84.3,
          -80.4
         ],
         "mode": "lines",
         "opacity": 0.1111111111111111,
         "type": "scattergeo"
        },
        {
         "lat": [
          34.1,
          37.4
         ],
         "line": {
          "color": "green",
          "width": 1
         },
         "locationmode": "USA-states",
         "lon": [
          -84.3,
          -122.2
         ],
         "mode": "lines",
         "opacity": 0.1111111111111111,
         "type": "scattergeo"
        },
        {
         "lat": [
          34.1,
          34.7
         ],
         "line": {
          "color": "lightblue",
          "width": 1
         },
         "locationmode": "USA-states",
         "lon": [
          -84.1,
          -82.8
         ],
         "mode": "lines",
         "opacity": 0.1111111111111111,
         "type": "scattergeo"
        },
        {
         "lat": [
          34.1,
          36
         ],
         "line": {
          "color": "red",
          "width": 1
         },
         "locationmode": "USA-states",
         "lon": [
          -84.1,
          -83.9
         ],
         "mode": "lines",
         "opacity": 0.1111111111111111,
         "type": "scattergeo"
        },
        {
         "lat": [
          34.1,
          39
         ],
         "line": {
          "color": "purple",
          "width": 1
         },
         "locationmode": "USA-states",
         "lon": [
          -84.1,
          -95.2
         ],
         "mode": "lines",
         "opacity": 0.1111111111111111,
         "type": "scattergeo"
        },
        {
         "lat": [
          34.1,
          40
         ],
         "line": {
          "color": "blue",
          "width": 1
         },
         "locationmode": "USA-states",
         "lon": [
          -84.1,
          -83
         ],
         "mode": "lines",
         "opacity": 0.1111111111111111,
         "type": "scattergeo"
        },
        {
         "lat": [
          34.1,
          28.6
         ],
         "line": {
          "color": "purple",
          "width": 1
         },
         "locationmode": "USA-states",
         "lon": [
          -84,
          -81.2
         ],
         "mode": "lines",
         "opacity": 0.1111111111111111,
         "type": "scattergeo"
        },
        {
         "lat": [
          34.1,
          40.8
         ],
         "line": {
          "color": "blue",
          "width": 1
         },
         "locationmode": "USA-states",
         "lon": [
          -84,
          -96.7
         ],
         "mode": "lines",
         "opacity": 0.2222222222222222,
         "type": "scattergeo"
        },
        {
         "lat": [
          34.1,
          39.7
         ],
         "line": {
          "color": "purple",
          "width": 1
         },
         "locationmode": "USA-states",
         "lon": [
          -83.8,
          -80
         ],
         "mode": "lines",
         "opacity": 0.1111111111111111,
         "type": "scattergeo"
        },
        {
         "lat": [
          34.1,
          33.9
         ],
         "line": {
          "color": "red",
          "width": 1
         },
         "locationmode": "USA-states",
         "lon": [
          -82.9,
          -83.4
         ],
         "mode": "lines",
         "opacity": 0.1111111111111111,
         "type": "scattergeo"
        },
        {
         "lat": [
          34.2,
          40.8
         ],
         "line": {
          "color": "green",
          "width": 1
         },
         "locationmode": "USA-states",
         "lon": [
          -118.2,
          -111.8
         ],
         "mode": "lines",
         "opacity": 0.1111111111111111,
         "type": "scattergeo"
        },
        {
         "lat": [
          34.2,
          29.6
         ],
         "line": {
          "color": "red",
          "width": 1
         },
         "locationmode": "USA-states",
         "lon": [
          -84.8,
          -82.3
         ],
         "mode": "lines",
         "opacity": 0.1111111111111111,
         "type": "scattergeo"
        },
        {
         "lat": [
          34.2,
          36.1
         ],
         "line": {
          "color": "lightblue",
          "width": 1
         },
         "locationmode": "USA-states",
         "lon": [
          -84.8,
          -80.3
         ],
         "mode": "lines",
         "opacity": 0.1111111111111111,
         "type": "scattergeo"
        },
        {
         "lat": [
          34.2,
          38
         ],
         "line": {
          "color": "red",
          "width": 1
         },
         "locationmode": "USA-states",
         "lon": [
          -84.8,
          -84.5
         ],
         "mode": "lines",
         "opacity": 0.1111111111111111,
         "type": "scattergeo"
        },
        {
         "lat": [
          34.2,
          33.9
         ],
         "line": {
          "color": "red",
          "width": 1
         },
         "locationmode": "USA-states",
         "lon": [
          -84.1,
          -83.4
         ],
         "mode": "lines",
         "opacity": 0.1111111111111111,
         "type": "scattergeo"
        },
        {
         "lat": [
          34.2,
          35.8
         ],
         "line": {
          "color": "lightblue",
          "width": 1
         },
         "locationmode": "USA-states",
         "lon": [
          -81.3,
          -78.7
         ],
         "mode": "lines",
         "opacity": 0.1111111111111111,
         "type": "scattergeo"
        },
        {
         "lat": [
          34.2,
          30.4
         ],
         "line": {
          "color": "lightblue",
          "width": 1
         },
         "locationmode": "USA-states",
         "lon": [
          -81,
          -84.3
         ],
         "mode": "lines",
         "opacity": 0.1111111111111111,
         "type": "scattergeo"
        },
        {
         "lat": [
          34.2,
          37.2
         ],
         "line": {
          "color": "lightblue",
          "width": 1
         },
         "locationmode": "USA-states",
         "lon": [
          -79.8,
          -80.4
         ],
         "mode": "lines",
         "opacity": 0.1111111111111111,
         "type": "scattergeo"
        },
        {
         "lat": [
          34.3,
          34
         ],
         "line": {
          "color": "green",
          "width": 1
         },
         "locationmode": "USA-states",
         "lon": [
          -118.8,
          -118.3
         ],
         "mode": "lines",
         "opacity": 0.1111111111111111,
         "type": "scattergeo"
        },
        {
         "lat": [
          34.3,
          33.8
         ],
         "line": {
          "color": "lightblue",
          "width": 1
         },
         "locationmode": "USA-states",
         "lon": [
          -118.6,
          -84.4
         ],
         "mode": "lines",
         "opacity": 0.1111111111111111,
         "type": "scattergeo"
        },
        {
         "lat": [
          34.3,
          37.2
         ],
         "line": {
          "color": "lightblue",
          "width": 1
         },
         "locationmode": "USA-states",
         "lon": [
          -118.6,
          -80.4
         ],
         "mode": "lines",
         "opacity": 0.1111111111111111,
         "type": "scattergeo"
        },
        {
         "lat": [
          34.3,
          36
         ],
         "line": {
          "color": "red",
          "width": 1
         },
         "locationmode": "USA-states",
         "lon": [
          -86.2,
          -83.9
         ],
         "mode": "lines",
         "opacity": 0.1111111111111111,
         "type": "scattergeo"
        },
        {
         "lat": [
          34.3,
          34.4
         ],
         "line": {
          "color": "red",
          "width": 1
         },
         "locationmode": "USA-states",
         "lon": [
          -83.8,
          -89.5
         ],
         "mode": "lines",
         "opacity": 0.1111111111111111,
         "type": "scattergeo"
        },
        {
         "lat": [
          34.3,
          36
         ],
         "line": {
          "color": "red",
          "width": 1
         },
         "locationmode": "USA-states",
         "lon": [
          -83.8,
          -83.9
         ],
         "mode": "lines",
         "opacity": 0.1111111111111111,
         "type": "scattergeo"
        },
        {
         "lat": [
          34.3,
          39
         ],
         "line": {
          "color": "purple",
          "width": 1
         },
         "locationmode": "USA-states",
         "lon": [
          -83.8,
          -95.2
         ],
         "mode": "lines",
         "opacity": 0.1111111111111111,
         "type": "scattergeo"
        },
        {
         "lat": [
          34.4,
          43.1
         ],
         "line": {
          "color": "blue",
          "width": 1
         },
         "locationmode": "USA-states",
         "lon": [
          -119.7,
          -89.4
         ],
         "mode": "lines",
         "opacity": 0.1111111111111111,
         "type": "scattergeo"
        },
        {
         "lat": [
          34.4,
          34.2
         ],
         "line": {
          "color": "green",
          "width": 1
         },
         "locationmode": "USA-states",
         "lon": [
          -117.6,
          -118.2
         ],
         "mode": "lines",
         "opacity": 0.1111111111111111,
         "type": "scattergeo"
        },
        {
         "lat": [
          34.4,
          37.2
         ],
         "line": {
          "color": "lightblue",
          "width": 1
         },
         "locationmode": "USA-states",
         "lon": [
          -82.9,
          -80.4
         ],
         "mode": "lines",
         "opacity": 0.1111111111111111,
         "type": "scattergeo"
        },
        {
         "lat": [
          34.4,
          38.2
         ],
         "line": {
          "color": "lightblue",
          "width": 1
         },
         "locationmode": "USA-states",
         "lon": [
          -79.4,
          -85.8
         ],
         "mode": "lines",
         "opacity": 0.1111111111111111,
         "type": "scattergeo"
        },
        {
         "lat": [
          34.4,
          36.1
         ],
         "line": {
          "color": "lightblue",
          "width": 1
         },
         "locationmode": "USA-states",
         "lon": [
          -77.7,
          -80.3
         ],
         "mode": "lines",
         "opacity": 0.1111111111111111,
         "type": "scattergeo"
        },
        {
         "lat": [
          34.5,
          40
         ],
         "line": {
          "color": "green",
          "width": 1
         },
         "locationmode": "USA-states",
         "lon": [
          -87.7,
          -105.3
         ],
         "mode": "lines",
         "opacity": 0.1111111111111111,
         "type": "scattergeo"
        },
        {
         "lat": [
          34.5,
          36
         ],
         "line": {
          "color": "lightblue",
          "width": 1
         },
         "locationmode": "USA-states",
         "lon": [
          -83.5,
          -78.9
         ],
         "mode": "lines",
         "opacity": 0.1111111111111111,
         "type": "scattergeo"
        },
        {
         "lat": [
          34.5,
          43
         ],
         "line": {
          "color": "lightblue",
          "width": 1
         },
         "locationmode": "USA-states",
         "lon": [
          -82.7,
          -76.1
         ],
         "mode": "lines",
         "opacity": 0.1111111111111111,
         "type": "scattergeo"
        },
        {
         "lat": [
          34.5,
          28.6
         ],
         "line": {
          "color": "purple",
          "width": 1
         },
         "locationmode": "USA-states",
         "lon": [
          -79.1,
          -81.2
         ],
         "mode": "lines",
         "opacity": 0.1111111111111111,
         "type": "scattergeo"
        },
        {
         "lat": [
          34.6,
          39
         ],
         "line": {
          "color": "purple",
          "width": 1
         },
         "locationmode": "USA-states",
         "lon": [
          -94.2,
          -95.2
         ],
         "mode": "lines",
         "opacity": 0.1111111111111111,
         "type": "scattergeo"
        },
        {
         "lat": [
          34.6,
          36.1
         ],
         "line": {
          "color": "red",
          "width": 1
         },
         "locationmode": "USA-states",
         "lon": [
          -83.3,
          -86.8
         ],
         "mode": "lines",
         "opacity": 0.1111111111111111,
         "type": "scattergeo"
        },
        {
         "lat": [
          34.7,
          33.4
         ],
         "line": {
          "color": "green",
          "width": 1
         },
         "locationmode": "USA-states",
         "lon": [
          -120.4,
          -111.9
         ],
         "mode": "lines",
         "opacity": 0.1111111111111111,
         "type": "scattergeo"
        },
        {
         "lat": [
          34.7,
          34
         ],
         "line": {
          "color": "green",
          "width": 1
         },
         "locationmode": "USA-states",
         "lon": [
          -120.4,
          -118.3
         ],
         "mode": "lines",
         "opacity": 0.2222222222222222,
         "type": "scattergeo"
        },
        {
         "lat": [
          34.7,
          34.2
         ],
         "line": {
          "color": "green",
          "width": 1
         },
         "locationmode": "USA-states",
         "lon": [
          -120.4,
          -118.2
         ],
         "mode": "lines",
         "opacity": 0.1111111111111111,
         "type": "scattergeo"
        },
        {
         "lat": [
          34.7,
          37.9
         ],
         "line": {
          "color": "green",
          "width": 1
         },
         "locationmode": "USA-states",
         "lon": [
          -120.4,
          -122.3
         ],
         "mode": "lines",
         "opacity": 0.1111111111111111,
         "type": "scattergeo"
        },
        {
         "lat": [
          34.7,
          36.1
         ],
         "line": {
          "color": "red",
          "width": 1
         },
         "locationmode": "USA-states",
         "lon": [
          -92.3,
          -94.2
         ],
         "mode": "lines",
         "opacity": 0.2222222222222222,
         "type": "scattergeo"
        },
        {
         "lat": [
          34.7,
          39
         ],
         "line": {
          "color": "purple",
          "width": 1
         },
         "locationmode": "USA-states",
         "lon": [
          -92.3,
          -95.2
         ],
         "mode": "lines",
         "opacity": 0.1111111111111111,
         "type": "scattergeo"
        },
        {
         "lat": [
          34.7,
          30.4
         ],
         "line": {
          "color": "lightblue",
          "width": 1
         },
         "locationmode": "USA-states",
         "lon": [
          -86.6,
          -84.3
         ],
         "mode": "lines",
         "opacity": 0.1111111111111111,
         "type": "scattergeo"
        },
        {
         "lat": [
          34.7,
          36.1
         ],
         "line": {
          "color": "red",
          "width": 1
         },
         "locationmode": "USA-states",
         "lon": [
          -86.6,
          -86.8
         ],
         "mode": "lines",
         "opacity": 0.1111111111111111,
         "type": "scattergeo"
        },
        {
         "lat": [
          34.7,
          38
         ],
         "line": {
          "color": "red",
          "width": 1
         },
         "locationmode": "USA-states",
         "lon": [
          -86.6,
          -84.5
         ],
         "mode": "lines",
         "opacity": 0.1111111111111111,
         "type": "scattergeo"
        },
        {
         "lat": [
          34.7,
          35.9
         ],
         "line": {
          "color": "lightblue",
          "width": 1
         },
         "locationmode": "USA-states",
         "lon": [
          -77.4,
          -79
         ],
         "mode": "lines",
         "opacity": 0.1111111111111111,
         "type": "scattergeo"
        },
        {
         "lat": [
          34.8,
          34.2
         ],
         "line": {
          "color": "green",
          "width": 1
         },
         "locationmode": "USA-states",
         "lon": [
          -106.8,
          -118.2
         ],
         "mode": "lines",
         "opacity": 0.1111111111111111,
         "type": "scattergeo"
        },
        {
         "lat": [
          34.8,
          42.7
         ],
         "line": {
          "color": "blue",
          "width": 1
         },
         "locationmode": "USA-states",
         "lon": [
          -87.7,
          -84.5
         ],
         "mode": "lines",
         "opacity": 0.1111111111111111,
         "type": "scattergeo"
        },
        {
         "lat": [
          34.9,
          40
         ],
         "line": {
          "color": "green",
          "width": 1
         },
         "locationmode": "USA-states",
         "lon": [
          -92.1,
          -105.3
         ],
         "mode": "lines",
         "opacity": 0.1111111111111111,
         "type": "scattergeo"
        },
        {
         "lat": [
          34.9,
          33.5
         ],
         "line": {
          "color": "red",
          "width": 1
         },
         "locationmode": "USA-states",
         "lon": [
          -90.2,
          -88.8
         ],
         "mode": "lines",
         "opacity": 0.1111111111111111,
         "type": "scattergeo"
        },
        {
         "lat": [
          34.9,
          34.4
         ],
         "line": {
          "color": "red",
          "width": 1
         },
         "locationmode": "USA-states",
         "lon": [
          -86.7,
          -89.5
         ],
         "mode": "lines",
         "opacity": 0.1111111111111111,
         "type": "scattergeo"
        },
        {
         "lat": [
          34.9,
          42.3
         ],
         "line": {
          "color": "lightblue",
          "width": 1
         },
         "locationmode": "USA-states",
         "lon": [
          -86.7,
          -71.2
         ],
         "mode": "lines",
         "opacity": 0.1111111111111111,
         "type": "scattergeo"
        },
        {
         "lat": [
          34.9,
          36.1
         ],
         "line": {
          "color": "lightblue",
          "width": 1
         },
         "locationmode": "USA-states",
         "lon": [
          -82.2,
          -80.3
         ],
         "mode": "lines",
         "opacity": 0.1111111111111111,
         "type": "scattergeo"
        },
        {
         "lat": [
          34.9,
          37.2
         ],
         "line": {
          "color": "lightblue",
          "width": 1
         },
         "locationmode": "USA-states",
         "lon": [
          -82,
          -80.4
         ],
         "mode": "lines",
         "opacity": 0.1111111111111111,
         "type": "scattergeo"
        },
        {
         "lat": [
          34.9,
          33.2
         ],
         "line": {
          "color": "red",
          "width": 1
         },
         "locationmode": "USA-states",
         "lon": [
          -81,
          -87.6
         ],
         "mode": "lines",
         "opacity": 0.1111111111111111,
         "type": "scattergeo"
        },
        {
         "lat": [
          34.9,
          34
         ],
         "line": {
          "color": "red",
          "width": 1
         },
         "locationmode": "USA-states",
         "lon": [
          -81,
          -81
         ],
         "mode": "lines",
         "opacity": 0.1111111111111111,
         "type": "scattergeo"
        },
        {
         "lat": [
          34.9,
          35.8
         ],
         "line": {
          "color": "lightblue",
          "width": 1
         },
         "locationmode": "USA-states",
         "lon": [
          -79.8,
          -78.7
         ],
         "mode": "lines",
         "opacity": 0.2222222222222222,
         "type": "scattergeo"
        },
        {
         "lat": [
          34.9,
          35.9
         ],
         "line": {
          "color": "lightblue",
          "width": 1
         },
         "locationmode": "USA-states",
         "lon": [
          -79.8,
          -79
         ],
         "mode": "lines",
         "opacity": 0.1111111111111111,
         "type": "scattergeo"
        },
        {
         "lat": [
          34.9,
          35.9
         ],
         "line": {
          "color": "lightblue",
          "width": 1
         },
         "locationmode": "USA-states",
         "lon": [
          -76.9,
          -79
         ],
         "mode": "lines",
         "opacity": 0.1111111111111111,
         "type": "scattergeo"
        },
        {
         "lat": [
          35,
          36.1
         ],
         "line": {
          "color": "red",
          "width": 1
         },
         "locationmode": "USA-states",
         "lon": [
          -90.8,
          -94.2
         ],
         "mode": "lines",
         "opacity": 0.1111111111111111,
         "type": "scattergeo"
        },
        {
         "lat": [
          35,
          44.1
         ],
         "line": {
          "color": "green",
          "width": 1
         },
         "locationmode": "USA-states",
         "lon": [
          -90,
          -123.1
         ],
         "mode": "lines",
         "opacity": 0.1111111111111111,
         "type": "scattergeo"
        },
        {
         "lat": [
          35,
          30.4
         ],
         "line": {
          "color": "red",
          "width": 1
         },
         "locationmode": "USA-states",
         "lon": [
          -89.8,
          -91.2
         ],
         "mode": "lines",
         "opacity": 0.1111111111111111,
         "type": "scattergeo"
        },
        {
         "lat": [
          35,
          37.2
         ],
         "line": {
          "color": "lightblue",
          "width": 1
         },
         "locationmode": "USA-states",
         "lon": [
          -85.3,
          -80.4
         ],
         "mode": "lines",
         "opacity": 0.1111111111111111,
         "type": "scattergeo"
        },
        {
         "lat": [
          35,
          38.9
         ],
         "line": {
          "color": "red",
          "width": 1
         },
         "locationmode": "USA-states",
         "lon": [
          -85.3,
          -92.3
         ],
         "mode": "lines",
         "opacity": 0.1111111111111111,
         "type": "scattergeo"
        },
        {
         "lat": [
          35,
          35.9
         ],
         "line": {
          "color": "lightblue",
          "width": 1
         },
         "locationmode": "USA-states",
         "lon": [
          -80.5,
          -79
         ],
         "mode": "lines",
         "opacity": 0.1111111111111111,
         "type": "scattergeo"
        },
        {
         "lat": [
          35,
          38.2
         ],
         "line": {
          "color": "lightblue",
          "width": 1
         },
         "locationmode": "USA-states",
         "lon": [
          -80.5,
          -85.8
         ],
         "mode": "lines",
         "opacity": 0.1111111111111111,
         "type": "scattergeo"
        },
        {
         "lat": [
          35.1,
          46.7
         ],
         "line": {
          "color": "green",
          "width": 1
         },
         "locationmode": "USA-states",
         "lon": [
          -106.7,
          -117.2
         ],
         "mode": "lines",
         "opacity": 0.1111111111111111,
         "type": "scattergeo"
        },
        {
         "lat": [
          35.1,
          34.4
         ],
         "line": {
          "color": "red",
          "width": 1
         },
         "locationmode": "USA-states",
         "lon": [
          -92.4,
          -89.5
         ],
         "mode": "lines",
         "opacity": 0.1111111111111111,
         "type": "scattergeo"
        },
        {
         "lat": [
          35.1,
          38.9
         ],
         "line": {
          "color": "red",
          "width": 1
         },
         "locationmode": "USA-states",
         "lon": [
          -90.1,
          -92.3
         ],
         "mode": "lines",
         "opacity": 0.1111111111111111,
         "type": "scattergeo"
        },
        {
         "lat": [
          35.1,
          29.6
         ],
         "line": {
          "color": "red",
          "width": 1
         },
         "locationmode": "USA-states",
         "lon": [
          -84,
          -82.3
         ],
         "mode": "lines",
         "opacity": 0.1111111111111111,
         "type": "scattergeo"
        },
        {
         "lat": [
          35.1,
          33.9
         ],
         "line": {
          "color": "red",
          "width": 1
         },
         "locationmode": "USA-states",
         "lon": [
          -81.6,
          -83.4
         ],
         "mode": "lines",
         "opacity": 0.1111111111111111,
         "type": "scattergeo"
        },
        {
         "lat": [
          35.1,
          35.9
         ],
         "line": {
          "color": "lightblue",
          "width": 1
         },
         "locationmode": "USA-states",
         "lon": [
          -81.6,
          -79
         ],
         "mode": "lines",
         "opacity": 0.1111111111111111,
         "type": "scattergeo"
        },
        {
         "lat": [
          35.1,
          34.7
         ],
         "line": {
          "color": "lightblue",
          "width": 1
         },
         "locationmode": "USA-states",
         "lon": [
          -80.7,
          -82.8
         ],
         "mode": "lines",
         "opacity": 0.1111111111111111,
         "type": "scattergeo"
        },
        {
         "lat": [
          35.2,
          36.1
         ],
         "line": {
          "color": "purple",
          "width": 1
         },
         "locationmode": "USA-states",
         "lon": [
          -97.4,
          -97.1
         ],
         "mode": "lines",
         "opacity": 0.1111111111111111,
         "type": "scattergeo"
        },
        {
         "lat": [
          35.2,
          36.1
         ],
         "line": {
          "color": "red",
          "width": 1
         },
         "locationmode": "USA-states",
         "lon": [
          -90.8,
          -94.2
         ],
         "mode": "lines",
         "opacity": 0.1111111111111111,
         "type": "scattergeo"
        },
        {
         "lat": [
          35.2,
          34.7
         ],
         "line": {
          "color": "lightblue",
          "width": 1
         },
         "locationmode": "USA-states",
         "lon": [
          -89.8,
          -82.8
         ],
         "mode": "lines",
         "opacity": 0.1111111111111111,
         "type": "scattergeo"
        },
        {
         "lat": [
          35.2,
          34.4
         ],
         "line": {
          "color": "red",
          "width": 1
         },
         "locationmode": "USA-states",
         "lon": [
          -88.2,
          -89.5
         ],
         "mode": "lines",
         "opacity": 0.1111111111111111,
         "type": "scattergeo"
        },
        {
         "lat": [
          35.2,
          38
         ],
         "line": {
          "color": "lightblue",
          "width": 1
         },
         "locationmode": "USA-states",
         "lon": [
          -84.9,
          -78.5
         ],
         "mode": "lines",
         "opacity": 0.1111111111111111,
         "type": "scattergeo"
        },
        {
         "lat": [
          35.2,
          38.9
         ],
         "line": {
          "color": "red",
          "width": 1
         },
         "locationmode": "USA-states",
         "lon": [
          -81.3,
          -92.3
         ],
         "mode": "lines",
         "opacity": 0.1111111111111111,
         "type": "scattergeo"
        },
        {
         "lat": [
          35.2,
          33.4
         ],
         "line": {
          "color": "green",
          "width": 1
         },
         "locationmode": "USA-states",
         "lon": [
          -80.8,
          -111.9
         ],
         "mode": "lines",
         "opacity": 0.1111111111111111,
         "type": "scattergeo"
        },
        {
         "lat": [
          35.2,
          35.9
         ],
         "line": {
          "color": "lightblue",
          "width": 1
         },
         "locationmode": "USA-states",
         "lon": [
          -80.8,
          -79
         ],
         "mode": "lines",
         "opacity": 0.3333333333333333,
         "type": "scattergeo"
        },
        {
         "lat": [
          35.2,
          36.1
         ],
         "line": {
          "color": "lightblue",
          "width": 1
         },
         "locationmode": "USA-states",
         "lon": [
          -80.8,
          -80.3
         ],
         "mode": "lines",
         "opacity": 0.1111111111111111,
         "type": "scattergeo"
        },
        {
         "lat": [
          35.2,
          35.8
         ],
         "line": {
          "color": "lightblue",
          "width": 1
         },
         "locationmode": "USA-states",
         "lon": [
          -80.3,
          -78.7
         ],
         "mode": "lines",
         "opacity": 0.2222222222222222,
         "type": "scattergeo"
        },
        {
         "lat": [
          35.3,
          34.2
         ],
         "line": {
          "color": "green",
          "width": 1
         },
         "locationmode": "USA-states",
         "lon": [
          -120.7,
          -118.2
         ],
         "mode": "lines",
         "opacity": 0.1111111111111111,
         "type": "scattergeo"
        },
        {
         "lat": [
          35.3,
          36.1
         ],
         "line": {
          "color": "red",
          "width": 1
         },
         "locationmode": "USA-states",
         "lon": [
          -97.5,
          -94.2
         ],
         "mode": "lines",
         "opacity": 0.1111111111111111,
         "type": "scattergeo"
        },
        {
         "lat": [
          35.3,
          37.2
         ],
         "line": {
          "color": "lightblue",
          "width": 1
         },
         "locationmode": "USA-states",
         "lon": [
          -81.5,
          -80.4
         ],
         "mode": "lines",
         "opacity": 0.1111111111111111,
         "type": "scattergeo"
        },
        {
         "lat": [
          35.3,
          35.9
         ],
         "line": {
          "color": "lightblue",
          "width": 1
         },
         "locationmode": "USA-states",
         "lon": [
          -81.2,
          -79
         ],
         "mode": "lines",
         "opacity": 0.1111111111111111,
         "type": "scattergeo"
        },
        {
         "lat": [
          35.3,
          36.1
         ],
         "line": {
          "color": "lightblue",
          "width": 1
         },
         "locationmode": "USA-states",
         "lon": [
          -81.2,
          -80.3
         ],
         "mode": "lines",
         "opacity": 0.1111111111111111,
         "type": "scattergeo"
        },
        {
         "lat": [
          35.3,
          35.9
         ],
         "line": {
          "color": "lightblue",
          "width": 1
         },
         "locationmode": "USA-states",
         "lon": [
          -81,
          -79
         ],
         "mode": "lines",
         "opacity": 0.1111111111111111,
         "type": "scattergeo"
        },
        {
         "lat": [
          35.4,
          47.7
         ],
         "line": {
          "color": "green",
          "width": 1
         },
         "locationmode": "USA-states",
         "lon": [
          -120.6,
          -122.3
         ],
         "mode": "lines",
         "opacity": 0.1111111111111111,
         "type": "scattergeo"
        },
        {
         "lat": [
          35.4,
          37.4
         ],
         "line": {
          "color": "green",
          "width": 1
         },
         "locationmode": "USA-states",
         "lon": [
          -119,
          -122.2
         ],
         "mode": "lines",
         "opacity": 0.1111111111111111,
         "type": "scattergeo"
        },
        {
         "lat": [
          35.4,
          30.6
         ],
         "line": {
          "color": "red",
          "width": 1
         },
         "locationmode": "USA-states",
         "lon": [
          -94.4,
          -96.3
         ],
         "mode": "lines",
         "opacity": 0.1111111111111111,
         "type": "scattergeo"
        },
        {
         "lat": [
          35.4,
          37.2
         ],
         "line": {
          "color": "lightblue",
          "width": 1
         },
         "locationmode": "USA-states",
         "lon": [
          -84.6,
          -80.4
         ],
         "mode": "lines",
         "opacity": 0.1111111111111111,
         "type": "scattergeo"
        },
        {
         "lat": [
          35.4,
          35.8
         ],
         "line": {
          "color": "lightblue",
          "width": 1
         },
         "locationmode": "USA-states",
         "lon": [
          -80.8,
          -78.7
         ],
         "mode": "lines",
         "opacity": 0.1111111111111111,
         "type": "scattergeo"
        },
        {
         "lat": [
          35.4,
          35.9
         ],
         "line": {
          "color": "lightblue",
          "width": 1
         },
         "locationmode": "USA-states",
         "lon": [
          -80.6,
          -79
         ],
         "mode": "lines",
         "opacity": 0.1111111111111111,
         "type": "scattergeo"
        },
        {
         "lat": [
          35.4,
          34
         ],
         "line": {
          "color": "red",
          "width": 1
         },
         "locationmode": "USA-states",
         "lon": [
          -78,
          -81
         ],
         "mode": "lines",
         "opacity": 0.1111111111111111,
         "type": "scattergeo"
        },
        {
         "lat": [
          35.5,
          35.2
         ],
         "line": {
          "color": "purple",
          "width": 1
         },
         "locationmode": "USA-states",
         "lon": [
          -98.7,
          -97.4
         ],
         "mode": "lines",
         "opacity": 0.1111111111111111,
         "type": "scattergeo"
        },
        {
         "lat": [
          35.5,
          36.1
         ],
         "line": {
          "color": "purple",
          "width": 1
         },
         "locationmode": "USA-states",
         "lon": [
          -97.5,
          -97.1
         ],
         "mode": "lines",
         "opacity": 0.2222222222222222,
         "type": "scattergeo"
        },
        {
         "lat": [
          35.5,
          36.1
         ],
         "line": {
          "color": "red",
          "width": 1
         },
         "locationmode": "USA-states",
         "lon": [
          -97.5,
          -94.2
         ],
         "mode": "lines",
         "opacity": 0.2222222222222222,
         "type": "scattergeo"
        },
        {
         "lat": [
          35.5,
          32.7
         ],
         "line": {
          "color": "purple",
          "width": 1
         },
         "locationmode": "USA-states",
         "lon": [
          -97.3,
          -97.4
         ],
         "mode": "lines",
         "opacity": 0.1111111111111111,
         "type": "scattergeo"
        },
        {
         "lat": [
          35.5,
          35.2
         ],
         "line": {
          "color": "purple",
          "width": 1
         },
         "locationmode": "USA-states",
         "lon": [
          -97.3,
          -97.4
         ],
         "mode": "lines",
         "opacity": 0.1111111111111111,
         "type": "scattergeo"
        },
        {
         "lat": [
          35.5,
          36.1
         ],
         "line": {
          "color": "red",
          "width": 1
         },
         "locationmode": "USA-states",
         "lon": [
          -95,
          -94.2
         ],
         "mode": "lines",
         "opacity": 0.1111111111111111,
         "type": "scattergeo"
        },
        {
         "lat": [
          35.5,
          28.6
         ],
         "line": {
          "color": "purple",
          "width": 1
         },
         "locationmode": "USA-states",
         "lon": [
          -82.5,
          -81.2
         ],
         "mode": "lines",
         "opacity": 0.1111111111111111,
         "type": "scattergeo"
        },
        {
         "lat": [
          35.5,
          38
         ],
         "line": {
          "color": "lightblue",
          "width": 1
         },
         "locationmode": "USA-states",
         "lon": [
          -82.5,
          -78.5
         ],
         "mode": "lines",
         "opacity": 0.1111111111111111,
         "type": "scattergeo"
        },
        {
         "lat": [
          35.5,
          35.8
         ],
         "line": {
          "color": "lightblue",
          "width": 1
         },
         "locationmode": "USA-states",
         "lon": [
          -81.3,
          -78.7
         ],
         "mode": "lines",
         "opacity": 0.2222222222222222,
         "type": "scattergeo"
        },
        {
         "lat": [
          35.5,
          35.8
         ],
         "line": {
          "color": "lightblue",
          "width": 1
         },
         "locationmode": "USA-states",
         "lon": [
          -80.9,
          -78.7
         ],
         "mode": "lines",
         "opacity": 0.2222222222222222,
         "type": "scattergeo"
        },
        {
         "lat": [
          35.5,
          38
         ],
         "line": {
          "color": "lightblue",
          "width": 1
         },
         "locationmode": "USA-states",
         "lon": [
          -80.9,
          -78.5
         ],
         "mode": "lines",
         "opacity": 0.1111111111111111,
         "type": "scattergeo"
        },
        {
         "lat": [
          35.5,
          38.2
         ],
         "line": {
          "color": "lightblue",
          "width": 1
         },
         "locationmode": "USA-states",
         "lon": [
          -80.9,
          -85.8
         ],
         "mode": "lines",
         "opacity": 0.1111111111111111,
         "type": "scattergeo"
        },
        {
         "lat": [
          35.5,
          40
         ],
         "line": {
          "color": "green",
          "width": 1
         },
         "locationmode": "USA-states",
         "lon": [
          -80.9,
          -105.3
         ],
         "mode": "lines",
         "opacity": 0.1111111111111111,
         "type": "scattergeo"
        },
        {
         "lat": [
          35.5,
          40
         ],
         "line": {
          "color": "blue",
          "width": 1
         },
         "locationmode": "USA-states",
         "lon": [
          -80.9,
          -83
         ],
         "mode": "lines",
         "opacity": 0.1111111111111111,
         "type": "scattergeo"
        },
        {
         "lat": [
          35.7,
          36.1
         ],
         "line": {
          "color": "purple",
          "width": 1
         },
         "locationmode": "USA-states",
         "lon": [
          -98.7,
          -97.1
         ],
         "mode": "lines",
         "opacity": 0.1111111111111111,
         "type": "scattergeo"
        },
        {
         "lat": [
          35.7,
          36.1
         ],
         "line": {
          "color": "purple",
          "width": 1
         },
         "locationmode": "USA-states",
         "lon": [
          -97.5,
          -97.1
         ],
         "mode": "lines",
         "opacity": 0.1111111111111111,
         "type": "scattergeo"
        },
        {
         "lat": [
          35.7,
          36.1
         ],
         "line": {
          "color": "purple",
          "width": 1
         },
         "locationmode": "USA-states",
         "lon": [
          -96.1,
          -97.1
         ],
         "mode": "lines",
         "opacity": 0.1111111111111111,
         "type": "scattergeo"
        },
        {
         "lat": [
          35.7,
          36.1
         ],
         "line": {
          "color": "purple",
          "width": 1
         },
         "locationmode": "USA-states",
         "lon": [
          -95.4,
          -97.1
         ],
         "mode": "lines",
         "opacity": 0.1111111111111111,
         "type": "scattergeo"
        },
        {
         "lat": [
          35.7,
          36.1
         ],
         "line": {
          "color": "red",
          "width": 1
         },
         "locationmode": "USA-states",
         "lon": [
          -85.8,
          -86.8
         ],
         "mode": "lines",
         "opacity": 0.1111111111111111,
         "type": "scattergeo"
        },
        {
         "lat": [
          35.7,
          36
         ],
         "line": {
          "color": "lightblue",
          "width": 1
         },
         "locationmode": "USA-states",
         "lon": [
          -81.2,
          -78.9
         ],
         "mode": "lines",
         "opacity": 0.1111111111111111,
         "type": "scattergeo"
        },
        {
         "lat": [
          35.7,
          33.8
         ],
         "line": {
          "color": "lightblue",
          "width": 1
         },
         "locationmode": "USA-states",
         "lon": [
          -80.7,
          -84.4
         ],
         "mode": "lines",
         "opacity": 0.1111111111111111,
         "type": "scattergeo"
        },
        {
         "lat": [
          35.7,
          36
         ],
         "line": {
          "color": "red",
          "width": 1
         },
         "locationmode": "USA-states",
         "lon": [
          -79.7,
          -83.9
         ],
         "mode": "lines",
         "opacity": 0.1111111111111111,
         "type": "scattergeo"
        },
        {
         "lat": [
          35.8,
          33.8
         ],
         "line": {
          "color": "lightblue",
          "width": 1
         },
         "locationmode": "USA-states",
         "lon": [
          -84,
          -84.4
         ],
         "mode": "lines",
         "opacity": 0.1111111111111111,
         "type": "scattergeo"
        },
        {
         "lat": [
          35.8,
          39.1
         ],
         "line": {
          "color": "purple",
          "width": 1
         },
         "locationmode": "USA-states",
         "lon": [
          -84,
          -84.5
         ],
         "mode": "lines",
         "opacity": 0.1111111111111111,
         "type": "scattergeo"
        },
        {
         "lat": [
          35.8,
          35.8
         ],
         "line": {
          "color": "lightblue",
          "width": 1
         },
         "locationmode": "USA-states",
         "lon": [
          -78.8,
          -78.7
         ],
         "mode": "lines",
         "opacity": 0.1111111111111111,
         "type": "scattergeo"
        },
        {
         "lat": [
          35.8,
          35.9
         ],
         "line": {
          "color": "lightblue",
          "width": 1
         },
         "locationmode": "USA-states",
         "lon": [
          -78.6,
          -79
         ],
         "mode": "lines",
         "opacity": 0.1111111111111111,
         "type": "scattergeo"
        },
        {
         "lat": [
          35.8,
          36.1
         ],
         "line": {
          "color": "lightblue",
          "width": 1
         },
         "locationmode": "USA-states",
         "lon": [
          -78.6,
          -80.3
         ],
         "mode": "lines",
         "opacity": 0.1111111111111111,
         "type": "scattergeo"
        },
        {
         "lat": [
          35.8,
          42.1
         ],
         "line": {
          "color": "blue",
          "width": 1
         },
         "locationmode": "USA-states",
         "lon": [
          -78.6,
          -87.7
         ],
         "mode": "lines",
         "opacity": 0.1111111111111111,
         "type": "scattergeo"
        },
        {
         "lat": [
          35.8,
          42.3
         ],
         "line": {
          "color": "lightblue",
          "width": 1
         },
         "locationmode": "USA-states",
         "lon": [
          -78.6,
          -71.2
         ],
         "mode": "lines",
         "opacity": 0.1111111111111111,
         "type": "scattergeo"
        },
        {
         "lat": [
          35.8,
          44.1
         ],
         "line": {
          "color": "green",
          "width": 1
         },
         "locationmode": "USA-states",
         "lon": [
          -78.6,
          -123.1
         ],
         "mode": "lines",
         "opacity": 0.1111111111111111,
         "type": "scattergeo"
        },
        {
         "lat": [
          35.8,
          38.2
         ],
         "line": {
          "color": "lightblue",
          "width": 1
         },
         "locationmode": "USA-states",
         "lon": [
          -78.5,
          -85.8
         ],
         "mode": "lines",
         "opacity": 0.1111111111111111,
         "type": "scattergeo"
        },
        {
         "lat": [
          35.9,
          37.4
         ],
         "line": {
          "color": "green",
          "width": 1
         },
         "locationmode": "USA-states",
         "lon": [
          -86.9,
          -122.2
         ],
         "mode": "lines",
         "opacity": 0.1111111111111111,
         "type": "scattergeo"
        },
        {
         "lat": [
          35.9,
          38.2
         ],
         "line": {
          "color": "lightblue",
          "width": 1
         },
         "locationmode": "USA-states",
         "lon": [
          -81.2,
          -85.8
         ],
         "mode": "lines",
         "opacity": 0.1111111111111111,
         "type": "scattergeo"
        },
        {
         "lat": [
          35.9,
          35.9
         ],
         "line": {
          "color": "lightblue",
          "width": 1
         },
         "locationmode": "USA-states",
         "lon": [
          -77.8,
          -79
         ],
         "mode": "lines",
         "opacity": 0.1111111111111111,
         "type": "scattergeo"
        },
        {
         "lat": [
          36,
          34.2
         ],
         "line": {
          "color": "green",
          "width": 1
         },
         "locationmode": "USA-states",
         "lon": [
          -115,
          -118.2
         ],
         "mode": "lines",
         "opacity": 0.1111111111111111,
         "type": "scattergeo"
        },
        {
         "lat": [
          36,
          40
         ],
         "line": {
          "color": "green",
          "width": 1
         },
         "locationmode": "USA-states",
         "lon": [
          -115,
          -105.3
         ],
         "mode": "lines",
         "opacity": 0.1111111111111111,
         "type": "scattergeo"
        },
        {
         "lat": [
          36,
          44.1
         ],
         "line": {
          "color": "green",
          "width": 1
         },
         "locationmode": "USA-states",
         "lon": [
          -115,
          -123.1
         ],
         "mode": "lines",
         "opacity": 0.1111111111111111,
         "type": "scattergeo"
        },
        {
         "lat": [
          36,
          36.1
         ],
         "line": {
          "color": "purple",
          "width": 1
         },
         "locationmode": "USA-states",
         "lon": [
          -96,
          -97.1
         ],
         "mode": "lines",
         "opacity": 0.1111111111111111,
         "type": "scattergeo"
        },
        {
         "lat": [
          36,
          33.6
         ],
         "line": {
          "color": "purple",
          "width": 1
         },
         "locationmode": "USA-states",
         "lon": [
          -95.4,
          -101.9
         ],
         "mode": "lines",
         "opacity": 0.1111111111111111,
         "type": "scattergeo"
        },
        {
         "lat": [
          36,
          34.7
         ],
         "line": {
          "color": "lightblue",
          "width": 1
         },
         "locationmode": "USA-states",
         "lon": [
          -86.8,
          -82.8
         ],
         "mode": "lines",
         "opacity": 0.1111111111111111,
         "type": "scattergeo"
        },
        {
         "lat": [
          36,
          35.9
         ],
         "line": {
          "color": "lightblue",
          "width": 1
         },
         "locationmode": "USA-states",
         "lon": [
          -86.8,
          -79
         ],
         "mode": "lines",
         "opacity": 0.1111111111111111,
         "type": "scattergeo"
        },
        {
         "lat": [
          36,
          36
         ],
         "line": {
          "color": "red",
          "width": 1
         },
         "locationmode": "USA-states",
         "lon": [
          -86.8,
          -83.9
         ],
         "mode": "lines",
         "opacity": 0.1111111111111111,
         "type": "scattergeo"
        },
        {
         "lat": [
          36,
          36.1
         ],
         "line": {
          "color": "red",
          "width": 1
         },
         "locationmode": "USA-states",
         "lon": [
          -86.8,
          -86.8
         ],
         "mode": "lines",
         "opacity": 0.1111111111111111,
         "type": "scattergeo"
        },
        {
         "lat": [
          36,
          38
         ],
         "line": {
          "color": "lightblue",
          "width": 1
         },
         "locationmode": "USA-states",
         "lon": [
          -86.8,
          -78.5
         ],
         "mode": "lines",
         "opacity": 0.1111111111111111,
         "type": "scattergeo"
        },
        {
         "lat": [
          36,
          42.3
         ],
         "line": {
          "color": "blue",
          "width": 1
         },
         "locationmode": "USA-states",
         "lon": [
          -86.8,
          -83.7
         ],
         "mode": "lines",
         "opacity": 0.1111111111111111,
         "type": "scattergeo"
        },
        {
         "lat": [
          36,
          33.9
         ],
         "line": {
          "color": "red",
          "width": 1
         },
         "locationmode": "USA-states",
         "lon": [
          -80.4,
          -83.4
         ],
         "mode": "lines",
         "opacity": 0.1111111111111111,
         "type": "scattergeo"
        },
        {
         "lat": [
          36,
          36
         ],
         "line": {
          "color": "red",
          "width": 1
         },
         "locationmode": "USA-states",
         "lon": [
          -78.9,
          -83.9
         ],
         "mode": "lines",
         "opacity": 0.1111111111111111,
         "type": "scattergeo"
        },
        {
         "lat": [
          36,
          36
         ],
         "line": {
          "color": "lightblue",
          "width": 1
         },
         "locationmode": "USA-states",
         "lon": [
          -78.9,
          -78.9
         ],
         "mode": "lines",
         "opacity": 0.2222222222222222,
         "type": "scattergeo"
        },
        {
         "lat": [
          36.1,
          31.6
         ],
         "line": {
          "color": "purple",
          "width": 1
         },
         "locationmode": "USA-states",
         "lon": [
          -97.1,
          -97.1
         ],
         "mode": "lines",
         "opacity": 0.1111111111111111,
         "type": "scattergeo"
        },
        {
         "lat": [
          36.1,
          33.9
         ],
         "line": {
          "color": "red",
          "width": 1
         },
         "locationmode": "USA-states",
         "lon": [
          -83.8,
          -83.4
         ],
         "mode": "lines",
         "opacity": 0.1111111111111111,
         "type": "scattergeo"
        },
        {
         "lat": [
          36.1,
          38
         ],
         "line": {
          "color": "lightblue",
          "width": 1
         },
         "locationmode": "USA-states",
         "lon": [
          -83.8,
          -78.5
         ],
         "mode": "lines",
         "opacity": 0.1111111111111111,
         "type": "scattergeo"
        },
        {
         "lat": [
          36.1,
          34.7
         ],
         "line": {
          "color": "lightblue",
          "width": 1
         },
         "locationmode": "USA-states",
         "lon": [
          -80.2,
          -82.8
         ],
         "mode": "lines",
         "opacity": 0.1111111111111111,
         "type": "scattergeo"
        },
        {
         "lat": [
          36.1,
          37.2
         ],
         "line": {
          "color": "lightblue",
          "width": 1
         },
         "locationmode": "USA-states",
         "lon": [
          -80.2,
          -80.4
         ],
         "mode": "lines",
         "opacity": 0.1111111111111111,
         "type": "scattergeo"
        },
        {
         "lat": [
          36.1,
          35.8
         ],
         "line": {
          "color": "lightblue",
          "width": 1
         },
         "locationmode": "USA-states",
         "lon": [
          -80.1,
          -78.7
         ],
         "mode": "lines",
         "opacity": 0.2222222222222222,
         "type": "scattergeo"
        },
        {
         "lat": [
          36.1,
          35.9
         ],
         "line": {
          "color": "lightblue",
          "width": 1
         },
         "locationmode": "USA-states",
         "lon": [
          -80.1,
          -79
         ],
         "mode": "lines",
         "opacity": 0.2222222222222222,
         "type": "scattergeo"
        },
        {
         "lat": [
          36.1,
          34.7
         ],
         "line": {
          "color": "lightblue",
          "width": 1
         },
         "locationmode": "USA-states",
         "lon": [
          -79.8,
          -82.8
         ],
         "mode": "lines",
         "opacity": 0.1111111111111111,
         "type": "scattergeo"
        },
        {
         "lat": [
          36.1,
          42.1
         ],
         "line": {
          "color": "blue",
          "width": 1
         },
         "locationmode": "USA-states",
         "lon": [
          -79.8,
          -87.7
         ],
         "mode": "lines",
         "opacity": 0.1111111111111111,
         "type": "scattergeo"
        },
        {
         "lat": [
          36.2,
          34
         ],
         "line": {
          "color": "green",
          "width": 1
         },
         "locationmode": "USA-states",
         "lon": [
          -115.1,
          -118.3
         ],
         "mode": "lines",
         "opacity": 0.1111111111111111,
         "type": "scattergeo"
        },
        {
         "lat": [
          36.2,
          34.2
         ],
         "line": {
          "color": "green",
          "width": 1
         },
         "locationmode": "USA-states",
         "lon": [
          -115.1,
          -118.2
         ],
         "mode": "lines",
         "opacity": 0.1111111111111111,
         "type": "scattergeo"
        },
        {
         "lat": [
          36.2,
          40.3
         ],
         "line": {
          "color": "purple",
          "width": 1
         },
         "locationmode": "USA-states",
         "lon": [
          -115.1,
          -111.7
         ],
         "mode": "lines",
         "opacity": 0.1111111111111111,
         "type": "scattergeo"
        },
        {
         "lat": [
          36.2,
          40.8
         ],
         "line": {
          "color": "green",
          "width": 1
         },
         "locationmode": "USA-states",
         "lon": [
          -115.1,
          -111.8
         ],
         "mode": "lines",
         "opacity": 0.1111111111111111,
         "type": "scattergeo"
        },
        {
         "lat": [
          36.2,
          42.7
         ],
         "line": {
          "color": "blue",
          "width": 1
         },
         "locationmode": "USA-states",
         "lon": [
          -115.1,
          -84.5
         ],
         "mode": "lines",
         "opacity": 0.1111111111111111,
         "type": "scattergeo"
        },
        {
         "lat": [
          36.2,
          46.7
         ],
         "line": {
          "color": "green",
          "width": 1
         },
         "locationmode": "USA-states",
         "lon": [
          -115.1,
          -117.2
         ],
         "mode": "lines",
         "opacity": 0.1111111111111111,
         "type": "scattergeo"
        },
        {
         "lat": [
          36.2,
          36.1
         ],
         "line": {
          "color": "red",
          "width": 1
         },
         "locationmode": "USA-states",
         "lon": [
          -96,
          -94.2
         ],
         "mode": "lines",
         "opacity": 0.2222222222222222,
         "type": "scattergeo"
        },
        {
         "lat": [
          36.2,
          34.4
         ],
         "line": {
          "color": "red",
          "width": 1
         },
         "locationmode": "USA-states",
         "lon": [
          -86.8,
          -89.5
         ],
         "mode": "lines",
         "opacity": 0.1111111111111111,
         "type": "scattergeo"
        },
        {
         "lat": [
          36.2,
          36
         ],
         "line": {
          "color": "red",
          "width": 1
         },
         "locationmode": "USA-states",
         "lon": [
          -86.8,
          -83.9
         ],
         "mode": "lines",
         "opacity": 0.1111111111111111,
         "type": "scattergeo"
        },
        {
         "lat": [
          36.2,
          38
         ],
         "line": {
          "color": "red",
          "width": 1
         },
         "locationmode": "USA-states",
         "lon": [
          -86.8,
          -84.5
         ],
         "mode": "lines",
         "opacity": 0.1111111111111111,
         "type": "scattergeo"
        },
        {
         "lat": [
          36.2,
          40
         ],
         "line": {
          "color": "blue",
          "width": 1
         },
         "locationmode": "USA-states",
         "lon": [
          -86.8,
          -83
         ],
         "mode": "lines",
         "opacity": 0.1111111111111111,
         "type": "scattergeo"
        },
        {
         "lat": [
          36.2,
          42.7
         ],
         "line": {
          "color": "blue",
          "width": 1
         },
         "locationmode": "USA-states",
         "lon": [
          -86.8,
          -84.5
         ],
         "mode": "lines",
         "opacity": 0.1111111111111111,
         "type": "scattergeo"
        },
        {
         "lat": [
          36.2,
          36
         ],
         "line": {
          "color": "lightblue",
          "width": 1
         },
         "locationmode": "USA-states",
         "lon": [
          -80.4,
          -78.9
         ],
         "mode": "lines",
         "opacity": 0.1111111111111111,
         "type": "scattergeo"
        },
        {
         "lat": [
          36.3,
          43.1
         ],
         "line": {
          "color": "blue",
          "width": 1
         },
         "locationmode": "USA-states",
         "lon": [
          -86.6,
          -89.4
         ],
         "mode": "lines",
         "opacity": 0.1111111111111111,
         "type": "scattergeo"
        },
        {
         "lat": [
          36.4,
          28.6
         ],
         "line": {
          "color": "purple",
          "width": 1
         },
         "locationmode": "USA-states",
         "lon": [
          -94.2,
          -81.2
         ],
         "mode": "lines",
         "opacity": 0.1111111111111111,
         "type": "scattergeo"
        },
        {
         "lat": [
          36.4,
          38.9
         ],
         "line": {
          "color": "red",
          "width": 1
         },
         "locationmode": "USA-states",
         "lon": [
          -86.4,
          -92.3
         ],
         "mode": "lines",
         "opacity": 0.1111111111111111,
         "type": "scattergeo"
        },
        {
         "lat": [
          36.4,
          36
         ],
         "line": {
          "color": "red",
          "width": 1
         },
         "locationmode": "USA-states",
         "lon": [
          -80.5,
          -83.9
         ],
         "mode": "lines",
         "opacity": 0.1111111111111111,
         "type": "scattergeo"
        },
        {
         "lat": [
          36.4,
          32.6
         ],
         "line": {
          "color": "red",
          "width": 1
         },
         "locationmode": "USA-states",
         "lon": [
          -79.7,
          -85.5
         ],
         "mode": "lines",
         "opacity": 0.1111111111111111,
         "type": "scattergeo"
        },
        {
         "lat": [
          36.6,
          37.2
         ],
         "line": {
          "color": "lightblue",
          "width": 1
         },
         "locationmode": "USA-states",
         "lon": [
          -82.2,
          -80.4
         ],
         "mode": "lines",
         "opacity": 0.1111111111111111,
         "type": "scattergeo"
        },
        {
         "lat": [
          36.7,
          34.2
         ],
         "line": {
          "color": "green",
          "width": 1
         },
         "locationmode": "USA-states",
         "lon": [
          -121.7,
          -118.2
         ],
         "mode": "lines",
         "opacity": 0.1111111111111111,
         "type": "scattergeo"
        },
        {
         "lat": [
          36.7,
          40.8
         ],
         "line": {
          "color": "green",
          "width": 1
         },
         "locationmode": "USA-states",
         "lon": [
          -119.7,
          -111.8
         ],
         "mode": "lines",
         "opacity": 0.1111111111111111,
         "type": "scattergeo"
        },
        {
         "lat": [
          36.7,
          42.3
         ],
         "line": {
          "color": "blue",
          "width": 1
         },
         "locationmode": "USA-states",
         "lon": [
          -119.7,
          -83.7
         ],
         "mode": "lines",
         "opacity": 0.1111111111111111,
         "type": "scattergeo"
        },
        {
         "lat": [
          36.7,
          40
         ],
         "line": {
          "color": "blue",
          "width": 1
         },
         "locationmode": "USA-states",
         "lon": [
          -79.5,
          -83
         ],
         "mode": "lines",
         "opacity": 0.1111111111111111,
         "type": "scattergeo"
        },
        {
         "lat": [
          36.7,
          28.6
         ],
         "line": {
          "color": "purple",
          "width": 1
         },
         "locationmode": "USA-states",
         "lon": [
          -76.2,
          -81.2
         ],
         "mode": "lines",
         "opacity": 0.1111111111111111,
         "type": "scattergeo"
        },
        {
         "lat": [
          36.7,
          39.2
         ],
         "line": {
          "color": "blue",
          "width": 1
         },
         "locationmode": "USA-states",
         "lon": [
          -76.2,
          -86.5
         ],
         "mode": "lines",
         "opacity": 0.1111111111111111,
         "type": "scattergeo"
        },
        {
         "lat": [
          36.8,
          44.1
         ],
         "line": {
          "color": "green",
          "width": 1
         },
         "locationmode": "USA-states",
         "lon": [
          -119.7,
          -123.1
         ],
         "mode": "lines",
         "opacity": 0.1111111111111111,
         "type": "scattergeo"
        },
        {
         "lat": [
          36.8,
          40.4
         ],
         "line": {
          "color": "lightblue",
          "width": 1
         },
         "locationmode": "USA-states",
         "lon": [
          -76.3,
          -80
         ],
         "mode": "lines",
         "opacity": 0.2222222222222222,
         "type": "scattergeo"
        },
        {
         "lat": [
          36.9,
          30.4
         ],
         "line": {
          "color": "lightblue",
          "width": 1
         },
         "locationmode": "USA-states",
         "lon": [
          -76,
          -84.3
         ],
         "mode": "lines",
         "opacity": 0.1111111111111111,
         "type": "scattergeo"
        },
        {
         "lat": [
          36.9,
          35.8
         ],
         "line": {
          "color": "lightblue",
          "width": 1
         },
         "locationmode": "USA-states",
         "lon": [
          -76,
          -78.7
         ],
         "mode": "lines",
         "opacity": 0.1111111111111111,
         "type": "scattergeo"
        },
        {
         "lat": [
          36.9,
          37.2
         ],
         "line": {
          "color": "lightblue",
          "width": 1
         },
         "locationmode": "USA-states",
         "lon": [
          -76,
          -80.4
         ],
         "mode": "lines",
         "opacity": 0.1111111111111111,
         "type": "scattergeo"
        },
        {
         "lat": [
          36.9,
          40.4
         ],
         "line": {
          "color": "lightblue",
          "width": 1
         },
         "locationmode": "USA-states",
         "lon": [
          -76,
          -80
         ],
         "mode": "lines",
         "opacity": 0.2222222222222222,
         "type": "scattergeo"
        },
        {
         "lat": [
          37,
          47.7
         ],
         "line": {
          "color": "green",
          "width": 1
         },
         "locationmode": "USA-states",
         "lon": [
          -122,
          -122.3
         ],
         "mode": "lines",
         "opacity": 0.1111111111111111,
         "type": "scattergeo"
        },
        {
         "lat": [
          37,
          39.2
         ],
         "line": {
          "color": "purple",
          "width": 1
         },
         "locationmode": "USA-states",
         "lon": [
          -95.6,
          -96.6
         ],
         "mode": "lines",
         "opacity": 0.1111111111111111,
         "type": "scattergeo"
        },
        {
         "lat": [
          37,
          38
         ],
         "line": {
          "color": "red",
          "width": 1
         },
         "locationmode": "USA-states",
         "lon": [
          -86.4,
          -84.5
         ],
         "mode": "lines",
         "opacity": 0.1111111111111111,
         "type": "scattergeo"
        },
        {
         "lat": [
          37,
          40
         ],
         "line": {
          "color": "blue",
          "width": 1
         },
         "locationmode": "USA-states",
         "lon": [
          -86.4,
          -83
         ],
         "mode": "lines",
         "opacity": 0.1111111111111111,
         "type": "scattergeo"
        },
        {
         "lat": [
          37.1,
          39.2
         ],
         "line": {
          "color": "purple",
          "width": 1
         },
         "locationmode": "USA-states",
         "lon": [
          -94.5,
          -96.6
         ],
         "mode": "lines",
         "opacity": 0.1111111111111111,
         "type": "scattergeo"
        },
        {
         "lat": [
          37.1,
          38
         ],
         "line": {
          "color": "red",
          "width": 1
         },
         "locationmode": "USA-states",
         "lon": [
          -84.6,
          -84.5
         ],
         "mode": "lines",
         "opacity": 0.1111111111111111,
         "type": "scattergeo"
        },
        {
         "lat": [
          37.1,
          40.4
         ],
         "line": {
          "color": "blue",
          "width": 1
         },
         "locationmode": "USA-states",
         "lon": [
          -84.6,
          -86.9
         ],
         "mode": "lines",
         "opacity": 0.1111111111111111,
         "type": "scattergeo"
        },
        {
         "lat": [
          37.1,
          42.3
         ],
         "line": {
          "color": "lightblue",
          "width": 1
         },
         "locationmode": "USA-states",
         "lon": [
          -80.6,
          -71.2
         ],
         "mode": "lines",
         "opacity": 0.1111111111111111,
         "type": "scattergeo"
        },
        {
         "lat": [
          37.1,
          35.9
         ],
         "line": {
          "color": "lightblue",
          "width": 1
         },
         "locationmode": "USA-states",
         "lon": [
          -76.3,
          -79
         ],
         "mode": "lines",
         "opacity": 0.1111111111111111,
         "type": "scattergeo"
        },
        {
         "lat": [
          37.3,
          37.2
         ],
         "line": {
          "color": "lightblue",
          "width": 1
         },
         "locationmode": "USA-states",
         "lon": [
          -80.1,
          -80.4
         ],
         "mode": "lines",
         "opacity": 0.2222222222222222,
         "type": "scattergeo"
        },
        {
         "lat": [
          37.3,
          38
         ],
         "line": {
          "color": "lightblue",
          "width": 1
         },
         "locationmode": "USA-states",
         "lon": [
          -79.9,
          -78.5
         ],
         "mode": "lines",
         "opacity": 0.1111111111111111,
         "type": "scattergeo"
        },
        {
         "lat": [
          37.3,
          36
         ],
         "line": {
          "color": "red",
          "width": 1
         },
         "locationmode": "USA-states",
         "lon": [
          -77.4,
          -83.9
         ],
         "mode": "lines",
         "opacity": 0.2222222222222222,
         "type": "scattergeo"
        },
        {
         "lat": [
          37.3,
          38
         ],
         "line": {
          "color": "lightblue",
          "width": 1
         },
         "locationmode": "USA-states",
         "lon": [
          -76.7,
          -78.5
         ],
         "mode": "lines",
         "opacity": 0.1111111111111111,
         "type": "scattergeo"
        },
        {
         "lat": [
          37.4,
          38.9
         ],
         "line": {
          "color": "red",
          "width": 1
         },
         "locationmode": "USA-states",
         "lon": [
          -89.7,
          -92.3
         ],
         "mode": "lines",
         "opacity": 0.1111111111111111,
         "type": "scattergeo"
        },
        {
         "lat": [
          37.4,
          38
         ],
         "line": {
          "color": "lightblue",
          "width": 1
         },
         "locationmode": "USA-states",
         "lon": [
          -77.4,
          -78.5
         ],
         "mode": "lines",
         "opacity": 0.1111111111111111,
         "type": "scattergeo"
        },
        {
         "lat": [
          37.5,
          38.2
         ],
         "line": {
          "color": "lightblue",
          "width": 1
         },
         "locationmode": "USA-states",
         "lon": [
          -122.3,
          -85.8
         ],
         "mode": "lines",
         "opacity": 0.1111111111111111,
         "type": "scattergeo"
        },
        {
         "lat": [
          37.5,
          44.1
         ],
         "line": {
          "color": "green",
          "width": 1
         },
         "locationmode": "USA-states",
         "lon": [
          -122.2,
          -123.1
         ],
         "mode": "lines",
         "opacity": 0.1111111111111111,
         "type": "scattergeo"
        },
        {
         "lat": [
          37.5,
          37.2
         ],
         "line": {
          "color": "lightblue",
          "width": 1
         },
         "locationmode": "USA-states",
         "lon": [
          -77.4,
          -80.4
         ],
         "mode": "lines",
         "opacity": 0.2222222222222222,
         "type": "scattergeo"
        },
        {
         "lat": [
          37.5,
          38
         ],
         "line": {
          "color": "lightblue",
          "width": 1
         },
         "locationmode": "USA-states",
         "lon": [
          -77.4,
          -78.5
         ],
         "mode": "lines",
         "opacity": 0.1111111111111111,
         "type": "scattergeo"
        },
        {
         "lat": [
          37.5,
          35.2
         ],
         "line": {
          "color": "purple",
          "width": 1
         },
         "locationmode": "USA-states",
         "lon": [
          -77.3,
          -97.4
         ],
         "mode": "lines",
         "opacity": 0.2222222222222222,
         "type": "scattergeo"
        },
        {
         "lat": [
          37.5,
          42.3
         ],
         "line": {
          "color": "lightblue",
          "width": 1
         },
         "locationmode": "USA-states",
         "lon": [
          -77.3,
          -71.2
         ],
         "mode": "lines",
         "opacity": 0.1111111111111111,
         "type": "scattergeo"
        },
        {
         "lat": [
          37.6,
          32.7
         ],
         "line": {
          "color": "purple",
          "width": 1
         },
         "locationmode": "USA-states",
         "lon": [
          -97.1,
          -97.4
         ],
         "mode": "lines",
         "opacity": 0.1111111111111111,
         "type": "scattergeo"
        },
        {
         "lat": [
          37.7,
          37.9
         ],
         "line": {
          "color": "green",
          "width": 1
         },
         "locationmode": "USA-states",
         "lon": [
          -122.1,
          -122.3
         ],
         "mode": "lines",
         "opacity": 0.1111111111111111,
         "type": "scattergeo"
        },
        {
         "lat": [
          37.7,
          40
         ],
         "line": {
          "color": "green",
          "width": 1
         },
         "locationmode": "USA-states",
         "lon": [
          -122.1,
          -105.3
         ],
         "mode": "lines",
         "opacity": 0.1111111111111111,
         "type": "scattergeo"
        },
        {
         "lat": [
          37.8,
          32.2
         ],
         "line": {
          "color": "green",
          "width": 1
         },
         "locationmode": "USA-states",
         "lon": [
          -122.4,
          -110.9
         ],
         "mode": "lines",
         "opacity": 0.1111111111111111,
         "type": "scattergeo"
        },
        {
         "lat": [
          37.8,
          38
         ],
         "line": {
          "color": "red",
          "width": 1
         },
         "locationmode": "USA-states",
         "lon": [
          -85.9,
          -84.5
         ],
         "mode": "lines",
         "opacity": 0.2222222222222222,
         "type": "scattergeo"
        },
        {
         "lat": [
          37.9,
          37.9
         ],
         "line": {
          "color": "green",
          "width": 1
         },
         "locationmode": "USA-states",
         "lon": [
          -122.3,
          -122.3
         ],
         "mode": "lines",
         "opacity": 0.1111111111111111,
         "type": "scattergeo"
        },
        {
         "lat": [
          37.9,
          37.9
         ],
         "line": {
          "color": "green",
          "width": 1
         },
         "locationmode": "USA-states",
         "lon": [
          -121.7,
          -122.3
         ],
         "mode": "lines",
         "opacity": 0.1111111111111111,
         "type": "scattergeo"
        },
        {
         "lat": [
          38,
          37.9
         ],
         "line": {
          "color": "green",
          "width": 1
         },
         "locationmode": "USA-states",
         "lon": [
          -122,
          -122.3
         ],
         "mode": "lines",
         "opacity": 0.1111111111111111,
         "type": "scattergeo"
        },
        {
         "lat": [
          38,
          37.9
         ],
         "line": {
          "color": "green",
          "width": 1
         },
         "locationmode": "USA-states",
         "lon": [
          -121.9,
          -122.3
         ],
         "mode": "lines",
         "opacity": 0.1111111111111111,
         "type": "scattergeo"
        },
        {
         "lat": [
          38,
          40.8
         ],
         "line": {
          "color": "blue",
          "width": 1
         },
         "locationmode": "USA-states",
         "lon": [
          -121.8,
          -96.7
         ],
         "mode": "lines",
         "opacity": 0.1111111111111111,
         "type": "scattergeo"
        },
        {
         "lat": [
          38,
          47.7
         ],
         "line": {
          "color": "green",
          "width": 1
         },
         "locationmode": "USA-states",
         "lon": [
          -121.7,
          -122.3
         ],
         "mode": "lines",
         "opacity": 0.1111111111111111,
         "type": "scattergeo"
        },
        {
         "lat": [
          38,
          38
         ],
         "line": {
          "color": "red",
          "width": 1
         },
         "locationmode": "USA-states",
         "lon": [
          -84.5,
          -84.5
         ],
         "mode": "lines",
         "opacity": 0.2222222222222222,
         "type": "scattergeo"
        },
        {
         "lat": [
          38,
          38
         ],
         "line": {
          "color": "lightblue",
          "width": 1
         },
         "locationmode": "USA-states",
         "lon": [
          -78.5,
          -78.5
         ],
         "mode": "lines",
         "opacity": 0.2222222222222222,
         "type": "scattergeo"
        },
        {
         "lat": [
          38.3,
          33.9
         ],
         "line": {
          "color": "red",
          "width": 1
         },
         "locationmode": "USA-states",
         "lon": [
          -122.3,
          -83.4
         ],
         "mode": "lines",
         "opacity": 0.1111111111111111,
         "type": "scattergeo"
        },
        {
         "lat": [
          38.3,
          40
         ],
         "line": {
          "color": "blue",
          "width": 1
         },
         "locationmode": "USA-states",
         "lon": [
          -85.9,
          -83
         ],
         "mode": "lines",
         "opacity": 0.1111111111111111,
         "type": "scattergeo"
        },
        {
         "lat": [
          38.3,
          28.6
         ],
         "line": {
          "color": "purple",
          "width": 1
         },
         "locationmode": "USA-states",
         "lon": [
          -85.8,
          -81.2
         ],
         "mode": "lines",
         "opacity": 0.1111111111111111,
         "type": "scattergeo"
        },
        {
         "lat": [
          38.3,
          39.1
         ],
         "line": {
          "color": "purple",
          "width": 1
         },
         "locationmode": "USA-states",
         "lon": [
          -85.8,
          -84.5
         ],
         "mode": "lines",
         "opacity": 0.1111111111111111,
         "type": "scattergeo"
        },
        {
         "lat": [
          38.3,
          38
         ],
         "line": {
          "color": "lightblue",
          "width": 1
         },
         "locationmode": "USA-states",
         "lon": [
          -77.5,
          -78.5
         ],
         "mode": "lines",
         "opacity": 0.1111111111111111,
         "type": "scattergeo"
        },
        {
         "lat": [
          38.3,
          36.1
         ],
         "line": {
          "color": "lightblue",
          "width": 1
         },
         "locationmode": "USA-states",
         "lon": [
          -76.6,
          -80.3
         ],
         "mode": "lines",
         "opacity": 0.1111111111111111,
         "type": "scattergeo"
        },
        {
         "lat": [
          38.3,
          37.2
         ],
         "line": {
          "color": "lightblue",
          "width": 1
         },
         "locationmode": "USA-states",
         "lon": [
          -76.6,
          -80.4
         ],
         "mode": "lines",
         "opacity": 0.1111111111111111,
         "type": "scattergeo"
        },
        {
         "lat": [
          38.4,
          32.2
         ],
         "line": {
          "color": "green",
          "width": 1
         },
         "locationmode": "USA-states",
         "lon": [
          -122.7,
          -110.9
         ],
         "mode": "lines",
         "opacity": 0.1111111111111111,
         "type": "scattergeo"
        },
        {
         "lat": [
          38.4,
          46.7
         ],
         "line": {
          "color": "green",
          "width": 1
         },
         "locationmode": "USA-states",
         "lon": [
          -122.7,
          -117.2
         ],
         "mode": "lines",
         "opacity": 0.1111111111111111,
         "type": "scattergeo"
        },
        {
         "lat": [
          38.4,
          34
         ],
         "line": {
          "color": "green",
          "width": 1
         },
         "locationmode": "USA-states",
         "lon": [
          -121.4,
          -118.3
         ],
         "mode": "lines",
         "opacity": 0.1111111111111111,
         "type": "scattergeo"
        },
        {
         "lat": [
          38.4,
          37.9
         ],
         "line": {
          "color": "green",
          "width": 1
         },
         "locationmode": "USA-states",
         "lon": [
          -121.4,
          -122.3
         ],
         "mode": "lines",
         "opacity": 0.2222222222222222,
         "type": "scattergeo"
        },
        {
         "lat": [
          38.4,
          39.7
         ],
         "line": {
          "color": "purple",
          "width": 1
         },
         "locationmode": "USA-states",
         "lon": [
          -82.4,
          -80
         ],
         "mode": "lines",
         "opacity": 0.1111111111111111,
         "type": "scattergeo"
        },
        {
         "lat": [
          38.4,
          39.1
         ],
         "line": {
          "color": "purple",
          "width": 1
         },
         "locationmode": "USA-states",
         "lon": [
          -81.6,
          -84.5
         ],
         "mode": "lines",
         "opacity": 0.1111111111111111,
         "type": "scattergeo"
        },
        {
         "lat": [
          38.4,
          42.3
         ],
         "line": {
          "color": "lightblue",
          "width": 1
         },
         "locationmode": "USA-states",
         "lon": [
          -77.4,
          -71.2
         ],
         "mode": "lines",
         "opacity": 0.1111111111111111,
         "type": "scattergeo"
        },
        {
         "lat": [
          38.5,
          38.9
         ],
         "line": {
          "color": "red",
          "width": 1
         },
         "locationmode": "USA-states",
         "lon": [
          -90,
          -92.3
         ],
         "mode": "lines",
         "opacity": 0.1111111111111111,
         "type": "scattergeo"
        },
        {
         "lat": [
          38.5,
          40
         ],
         "line": {
          "color": "blue",
          "width": 1
         },
         "locationmode": "USA-states",
         "lon": [
          -82.7,
          -83
         ],
         "mode": "lines",
         "opacity": 0.1111111111111111,
         "type": "scattergeo"
        },
        {
         "lat": [
          38.6,
          37.9
         ],
         "line": {
          "color": "green",
          "width": 1
         },
         "locationmode": "USA-states",
         "lon": [
          -121.3,
          -122.3
         ],
         "mode": "lines",
         "opacity": 0.1111111111111111,
         "type": "scattergeo"
        },
        {
         "lat": [
          38.6,
          38.9
         ],
         "line": {
          "color": "red",
          "width": 1
         },
         "locationmode": "USA-states",
         "lon": [
          -91,
          -92.3
         ],
         "mode": "lines",
         "opacity": 0.1111111111111111,
         "type": "scattergeo"
        },
        {
         "lat": [
          38.6,
          31.6
         ],
         "line": {
          "color": "purple",
          "width": 1
         },
         "locationmode": "USA-states",
         "lon": [
          -90.2,
          -97.1
         ],
         "mode": "lines",
         "opacity": 0.1111111111111111,
         "type": "scattergeo"
        },
        {
         "lat": [
          38.6,
          34.2
         ],
         "line": {
          "color": "green",
          "width": 1
         },
         "locationmode": "USA-states",
         "lon": [
          -90.2,
          -118.2
         ],
         "mode": "lines",
         "opacity": 0.1111111111111111,
         "type": "scattergeo"
        },
        {
         "lat": [
          38.6,
          38.2
         ],
         "line": {
          "color": "lightblue",
          "width": 1
         },
         "locationmode": "USA-states",
         "lon": [
          -90.2,
          -85.8
         ],
         "mode": "lines",
         "opacity": 0.1111111111111111,
         "type": "scattergeo"
        },
        {
         "lat": [
          38.6,
          38.9
         ],
         "line": {
          "color": "red",
          "width": 1
         },
         "locationmode": "USA-states",
         "lon": [
          -90.2,
          -92.3
         ],
         "mode": "lines",
         "opacity": 0.5555555555555556,
         "type": "scattergeo"
        },
        {
         "lat": [
          38.6,
          40
         ],
         "line": {
          "color": "blue",
          "width": 1
         },
         "locationmode": "USA-states",
         "lon": [
          -90.2,
          -83
         ],
         "mode": "lines",
         "opacity": 0.1111111111111111,
         "type": "scattergeo"
        },
        {
         "lat": [
          38.6,
          40.1
         ],
         "line": {
          "color": "blue",
          "width": 1
         },
         "locationmode": "USA-states",
         "lon": [
          -90.2,
          -88.2
         ],
         "mode": "lines",
         "opacity": 0.1111111111111111,
         "type": "scattergeo"
        },
        {
         "lat": [
          38.7,
          37.4
         ],
         "line": {
          "color": "green",
          "width": 1
         },
         "locationmode": "USA-states",
         "lon": [
          -121.2,
          -122.2
         ],
         "mode": "lines",
         "opacity": 0.1111111111111111,
         "type": "scattergeo"
        },
        {
         "lat": [
          38.7,
          37.9
         ],
         "line": {
          "color": "green",
          "width": 1
         },
         "locationmode": "USA-states",
         "lon": [
          -121.2,
          -122.3
         ],
         "mode": "lines",
         "opacity": 0.1111111111111111,
         "type": "scattergeo"
        },
        {
         "lat": [
          38.7,
          43
         ],
         "line": {
          "color": "lightblue",
          "width": 1
         },
         "locationmode": "USA-states",
         "lon": [
          -121.1,
          -76.1
         ],
         "mode": "lines",
         "opacity": 0.1111111111111111,
         "type": "scattergeo"
        },
        {
         "lat": [
          38.7,
          39
         ],
         "line": {
          "color": "purple",
          "width": 1
         },
         "locationmode": "USA-states",
         "lon": [
          -94.5,
          -95.2
         ],
         "mode": "lines",
         "opacity": 0.1111111111111111,
         "type": "scattergeo"
        },
        {
         "lat": [
          38.7,
          37.2
         ],
         "line": {
          "color": "lightblue",
          "width": 1
         },
         "locationmode": "USA-states",
         "lon": [
          -77.6,
          -80.4
         ],
         "mode": "lines",
         "opacity": 0.1111111111111111,
         "type": "scattergeo"
        },
        {
         "lat": [
          38.7,
          43
         ],
         "line": {
          "color": "lightblue",
          "width": 1
         },
         "locationmode": "USA-states",
         "lon": [
          -77.2,
          -76.1
         ],
         "mode": "lines",
         "opacity": 0.1111111111111111,
         "type": "scattergeo"
        },
        {
         "lat": [
          38.7,
          36.1
         ],
         "line": {
          "color": "red",
          "width": 1
         },
         "locationmode": "USA-states",
         "lon": [
          -77,
          -86.8
         ],
         "mode": "lines",
         "opacity": 0.1111111111111111,
         "type": "scattergeo"
        },
        {
         "lat": [
          38.8,
          44.6
         ],
         "line": {
          "color": "green",
          "width": 1
         },
         "locationmode": "USA-states",
         "lon": [
          -121.4,
          -123.3
         ],
         "mode": "lines",
         "opacity": 0.1111111111111111,
         "type": "scattergeo"
        },
        {
         "lat": [
          38.8,
          40
         ],
         "line": {
          "color": "green",
          "width": 1
         },
         "locationmode": "USA-states",
         "lon": [
          -121.2,
          -105.3
         ],
         "mode": "lines",
         "opacity": 0.1111111111111111,
         "type": "scattergeo"
        },
        {
         "lat": [
          38.8,
          42
         ],
         "line": {
          "color": "purple",
          "width": 1
         },
         "locationmode": "USA-states",
         "lon": [
          -104.8,
          -93.6
         ],
         "mode": "lines",
         "opacity": 0.1111111111111111,
         "type": "scattergeo"
        },
        {
         "lat": [
          38.8,
          39.2
         ],
         "line": {
          "color": "purple",
          "width": 1
         },
         "locationmode": "USA-states",
         "lon": [
          -94.9,
          -96.6
         ],
         "mode": "lines",
         "opacity": 0.2222222222222222,
         "type": "scattergeo"
        },
        {
         "lat": [
          38.8,
          39.2
         ],
         "line": {
          "color": "purple",
          "width": 1
         },
         "locationmode": "USA-states",
         "lon": [
          -94.7,
          -96.6
         ],
         "mode": "lines",
         "opacity": 0.1111111111111111,
         "type": "scattergeo"
        },
        {
         "lat": [
          38.8,
          39
         ],
         "line": {
          "color": "blue",
          "width": 1
         },
         "locationmode": "USA-states",
         "lon": [
          -90.3,
          -76.9
         ],
         "mode": "lines",
         "opacity": 0.1111111111111111,
         "type": "scattergeo"
        },
        {
         "lat": [
          38.8,
          39.7
         ],
         "line": {
          "color": "purple",
          "width": 1
         },
         "locationmode": "USA-states",
         "lon": [
          -90,
          -80
         ],
         "mode": "lines",
         "opacity": 0.1111111111111111,
         "type": "scattergeo"
        },
        {
         "lat": [
          38.8,
          40
         ],
         "line": {
          "color": "blue",
          "width": 1
         },
         "locationmode": "USA-states",
         "lon": [
          -77.5,
          -83
         ],
         "mode": "lines",
         "opacity": 0.1111111111111111,
         "type": "scattergeo"
        },
        {
         "lat": [
          38.8,
          34.7
         ],
         "line": {
          "color": "lightblue",
          "width": 1
         },
         "locationmode": "USA-states",
         "lon": [
          -77.3,
          -82.8
         ],
         "mode": "lines",
         "opacity": 0.1111111111111111,
         "type": "scattergeo"
        },
        {
         "lat": [
          38.8,
          36.1
         ],
         "line": {
          "color": "lightblue",
          "width": 1
         },
         "locationmode": "USA-states",
         "lon": [
          -77.3,
          -80.3
         ],
         "mode": "lines",
         "opacity": 0.1111111111111111,
         "type": "scattergeo"
        },
        {
         "lat": [
          38.8,
          38
         ],
         "line": {
          "color": "lightblue",
          "width": 1
         },
         "locationmode": "USA-states",
         "lon": [
          -77,
          -78.5
         ],
         "mode": "lines",
         "opacity": 0.1111111111111111,
         "type": "scattergeo"
        },
        {
         "lat": [
          38.8,
          42.3
         ],
         "line": {
          "color": "lightblue",
          "width": 1
         },
         "locationmode": "USA-states",
         "lon": [
          -77,
          -71.2
         ],
         "mode": "lines",
         "opacity": 0.1111111111111111,
         "type": "scattergeo"
        },
        {
         "lat": [
          38.8,
          33.2
         ],
         "line": {
          "color": "red",
          "width": 1
         },
         "locationmode": "USA-states",
         "lon": [
          -76.8,
          -87.6
         ],
         "mode": "lines",
         "opacity": 0.1111111111111111,
         "type": "scattergeo"
        },
        {
         "lat": [
          38.8,
          35.2
         ],
         "line": {
          "color": "purple",
          "width": 1
         },
         "locationmode": "USA-states",
         "lon": [
          -76.8,
          -97.4
         ],
         "mode": "lines",
         "opacity": 0.1111111111111111,
         "type": "scattergeo"
        },
        {
         "lat": [
          38.8,
          39
         ],
         "line": {
          "color": "blue",
          "width": 1
         },
         "locationmode": "USA-states",
         "lon": [
          -76.8,
          -76.9
         ],
         "mode": "lines",
         "opacity": 0.1111111111111111,
         "type": "scattergeo"
        },
        {
         "lat": [
          38.9,
          39.2
         ],
         "line": {
          "color": "purple",
          "width": 1
         },
         "locationmode": "USA-states",
         "lon": [
          -99.3,
          -96.6
         ],
         "mode": "lines",
         "opacity": 0.1111111111111111,
         "type": "scattergeo"
        },
        {
         "lat": [
          38.9,
          41.7
         ],
         "line": {
          "color": "blue",
          "width": 1
         },
         "locationmode": "USA-states",
         "lon": [
          -94.8,
          -91.6
         ],
         "mode": "lines",
         "opacity": 0.1111111111111111,
         "type": "scattergeo"
        },
        {
         "lat": [
          38.9,
          40.1
         ],
         "line": {
          "color": "blue",
          "width": 1
         },
         "locationmode": "USA-states",
         "lon": [
          -77.2,
          -88.2
         ],
         "mode": "lines",
         "opacity": 0.1111111111111111,
         "type": "scattergeo"
        },
        {
         "lat": [
          38.9,
          40.5
         ],
         "line": {
          "color": "blue",
          "width": 1
         },
         "locationmode": "USA-states",
         "lon": [
          -77.1,
          -74.5
         ],
         "mode": "lines",
         "opacity": 0.1111111111111111,
         "type": "scattergeo"
        },
        {
         "lat": [
          38.9,
          35.2
         ],
         "line": {
          "color": "purple",
          "width": 1
         },
         "locationmode": "USA-states",
         "lon": [
          -77,
          -97.4
         ],
         "mode": "lines",
         "opacity": 0.1111111111111111,
         "type": "scattergeo"
        },
        {
         "lat": [
          38.9,
          39
         ],
         "line": {
          "color": "blue",
          "width": 1
         },
         "locationmode": "USA-states",
         "lon": [
          -77,
          -76.9
         ],
         "mode": "lines",
         "opacity": 0.4444444444444444,
         "type": "scattergeo"
        },
        {
         "lat": [
          39,
          39.2
         ],
         "line": {
          "color": "purple",
          "width": 1
         },
         "locationmode": "USA-states",
         "lon": [
          -95.7,
          -96.6
         ],
         "mode": "lines",
         "opacity": 0.1111111111111111,
         "type": "scattergeo"
        },
        {
         "lat": [
          39,
          39
         ],
         "line": {
          "color": "purple",
          "width": 1
         },
         "locationmode": "USA-states",
         "lon": [
          -95.2,
          -95.2
         ],
         "mode": "lines",
         "opacity": 0.1111111111111111,
         "type": "scattergeo"
        },
        {
         "lat": [
          39,
          41.7
         ],
         "line": {
          "color": "blue",
          "width": 1
         },
         "locationmode": "USA-states",
         "lon": [
          -94.3,
          -91.6
         ],
         "mode": "lines",
         "opacity": 0.1111111111111111,
         "type": "scattergeo"
        },
        {
         "lat": [
          39,
          36.1
         ],
         "line": {
          "color": "lightblue",
          "width": 1
         },
         "locationmode": "USA-states",
         "lon": [
          -77.5,
          -80.3
         ],
         "mode": "lines",
         "opacity": 0.1111111111111111,
         "type": "scattergeo"
        },
        {
         "lat": [
          39,
          39
         ],
         "line": {
          "color": "blue",
          "width": 1
         },
         "locationmode": "USA-states",
         "lon": [
          -77.5,
          -76.9
         ],
         "mode": "lines",
         "opacity": 0.1111111111111111,
         "type": "scattergeo"
        },
        {
         "lat": [
          39,
          40.8
         ],
         "line": {
          "color": "blue",
          "width": 1
         },
         "locationmode": "USA-states",
         "lon": [
          -77.2,
          -77.9
         ],
         "mode": "lines",
         "opacity": 0.1111111111111111,
         "type": "scattergeo"
        },
        {
         "lat": [
          39,
          42.3
         ],
         "line": {
          "color": "lightblue",
          "width": 1
         },
         "locationmode": "USA-states",
         "lon": [
          -77.2,
          -71.2
         ],
         "mode": "lines",
         "opacity": 0.1111111111111111,
         "type": "scattergeo"
        },
        {
         "lat": [
          39,
          30.4
         ],
         "line": {
          "color": "red",
          "width": 1
         },
         "locationmode": "USA-states",
         "lon": [
          -76.9,
          -91.2
         ],
         "mode": "lines",
         "opacity": 0.1111111111111111,
         "type": "scattergeo"
        },
        {
         "lat": [
          39,
          34
         ],
         "line": {
          "color": "green",
          "width": 1
         },
         "locationmode": "USA-states",
         "lon": [
          -76.9,
          -118.3
         ],
         "mode": "lines",
         "opacity": 0.1111111111111111,
         "type": "scattergeo"
        },
        {
         "lat": [
          39,
          40.4
         ],
         "line": {
          "color": "lightblue",
          "width": 1
         },
         "locationmode": "USA-states",
         "lon": [
          -76.9,
          -80
         ],
         "mode": "lines",
         "opacity": 0.1111111111111111,
         "type": "scattergeo"
        },
        {
         "lat": [
          39.1,
          32.6
         ],
         "line": {
          "color": "red",
          "width": 1
         },
         "locationmode": "USA-states",
         "lon": [
          -94.6,
          -85.5
         ],
         "mode": "lines",
         "opacity": 0.1111111111111111,
         "type": "scattergeo"
        },
        {
         "lat": [
          39.1,
          36.1
         ],
         "line": {
          "color": "red",
          "width": 1
         },
         "locationmode": "USA-states",
         "lon": [
          -94.6,
          -94.2
         ],
         "mode": "lines",
         "opacity": 0.1111111111111111,
         "type": "scattergeo"
        },
        {
         "lat": [
          39.1,
          42
         ],
         "line": {
          "color": "purple",
          "width": 1
         },
         "locationmode": "USA-states",
         "lon": [
          -94.6,
          -93.6
         ],
         "mode": "lines",
         "opacity": 0.2222222222222222,
         "type": "scattergeo"
        },
        {
         "lat": [
          39.1,
          30.4
         ],
         "line": {
          "color": "red",
          "width": 1
         },
         "locationmode": "USA-states",
         "lon": [
          -84.5,
          -91.2
         ],
         "mode": "lines",
         "opacity": 0.1111111111111111,
         "type": "scattergeo"
        },
        {
         "lat": [
          39.1,
          33.2
         ],
         "line": {
          "color": "red",
          "width": 1
         },
         "locationmode": "USA-states",
         "lon": [
          -84.5,
          -87.6
         ],
         "mode": "lines",
         "opacity": 0.1111111111111111,
         "type": "scattergeo"
        },
        {
         "lat": [
          39.1,
          39
         ],
         "line": {
          "color": "blue",
          "width": 1
         },
         "locationmode": "USA-states",
         "lon": [
          -84.5,
          -76.9
         ],
         "mode": "lines",
         "opacity": 0.1111111111111111,
         "type": "scattergeo"
        },
        {
         "lat": [
          39.1,
          39.1
         ],
         "line": {
          "color": "purple",
          "width": 1
         },
         "locationmode": "USA-states",
         "lon": [
          -84.5,
          -84.5
         ],
         "mode": "lines",
         "opacity": 0.5555555555555556,
         "type": "scattergeo"
        },
        {
         "lat": [
          39.1,
          40
         ],
         "line": {
          "color": "blue",
          "width": 1
         },
         "locationmode": "USA-states",
         "lon": [
          -84.5,
          -83
         ],
         "mode": "lines",
         "opacity": 0.1111111111111111,
         "type": "scattergeo"
        },
        {
         "lat": [
          39.1,
          40.4
         ],
         "line": {
          "color": "lightblue",
          "width": 1
         },
         "locationmode": "USA-states",
         "lon": [
          -84.5,
          -80
         ],
         "mode": "lines",
         "opacity": 0.1111111111111111,
         "type": "scattergeo"
        },
        {
         "lat": [
          39.1,
          40.8
         ],
         "line": {
          "color": "blue",
          "width": 1
         },
         "locationmode": "USA-states",
         "lon": [
          -84.5,
          -77.9
         ],
         "mode": "lines",
         "opacity": 0.1111111111111111,
         "type": "scattergeo"
        },
        {
         "lat": [
          39.1,
          39.7
         ],
         "line": {
          "color": "purple",
          "width": 1
         },
         "locationmode": "USA-states",
         "lon": [
          -82.6,
          -80
         ],
         "mode": "lines",
         "opacity": 0.1111111111111111,
         "type": "scattergeo"
        },
        {
         "lat": [
          39.1,
          37.2
         ],
         "line": {
          "color": "lightblue",
          "width": 1
         },
         "locationmode": "USA-states",
         "lon": [
          -78.2,
          -80.4
         ],
         "mode": "lines",
         "opacity": 0.1111111111111111,
         "type": "scattergeo"
        },
        {
         "lat": [
          39.1,
          36.1
         ],
         "line": {
          "color": "red",
          "width": 1
         },
         "locationmode": "USA-states",
         "lon": [
          -77.2,
          -86.8
         ],
         "mode": "lines",
         "opacity": 0.1111111111111111,
         "type": "scattergeo"
        },
        {
         "lat": [
          39.1,
          38
         ],
         "line": {
          "color": "lightblue",
          "width": 1
         },
         "locationmode": "USA-states",
         "lon": [
          -77.2,
          -78.5
         ],
         "mode": "lines",
         "opacity": 0.1111111111111111,
         "type": "scattergeo"
        },
        {
         "lat": [
          39.1,
          39
         ],
         "line": {
          "color": "blue",
          "width": 1
         },
         "locationmode": "USA-states",
         "lon": [
          -77.2,
          -76.9
         ],
         "mode": "lines",
         "opacity": 0.1111111111111111,
         "type": "scattergeo"
        },
        {
         "lat": [
          39.1,
          40.5
         ],
         "line": {
          "color": "blue",
          "width": 1
         },
         "locationmode": "USA-states",
         "lon": [
          -77.2,
          -74.5
         ],
         "mode": "lines",
         "opacity": 0.1111111111111111,
         "type": "scattergeo"
        },
        {
         "lat": [
          39.1,
          39
         ],
         "line": {
          "color": "blue",
          "width": 1
         },
         "locationmode": "USA-states",
         "lon": [
          -76.7,
          -76.9
         ],
         "mode": "lines",
         "opacity": 0.1111111111111111,
         "type": "scattergeo"
        },
        {
         "lat": [
          39.1,
          40.8
         ],
         "line": {
          "color": "blue",
          "width": 1
         },
         "locationmode": "USA-states",
         "lon": [
          -76.7,
          -77.9
         ],
         "mode": "lines",
         "opacity": 0.1111111111111111,
         "type": "scattergeo"
        },
        {
         "lat": [
          39.2,
          39.2
         ],
         "line": {
          "color": "purple",
          "width": 1
         },
         "locationmode": "USA-states",
         "lon": [
          -96.6,
          -96.6
         ],
         "mode": "lines",
         "opacity": 0.1111111111111111,
         "type": "scattergeo"
        },
        {
         "lat": [
          39.2,
          39.2
         ],
         "line": {
          "color": "blue",
          "width": 1
         },
         "locationmode": "USA-states",
         "lon": [
          -86.5,
          -86.5
         ],
         "mode": "lines",
         "opacity": 0.1111111111111111,
         "type": "scattergeo"
        },
        {
         "lat": [
          39.2,
          39.7
         ],
         "line": {
          "color": "purple",
          "width": 1
         },
         "locationmode": "USA-states",
         "lon": [
          -77.3,
          -80
         ],
         "mode": "lines",
         "opacity": 0.1111111111111111,
         "type": "scattergeo"
        },
        {
         "lat": [
          39.2,
          40.8
         ],
         "line": {
          "color": "blue",
          "width": 1
         },
         "locationmode": "USA-states",
         "lon": [
          -77.1,
          -77.9
         ],
         "mode": "lines",
         "opacity": 0.1111111111111111,
         "type": "scattergeo"
        },
        {
         "lat": [
          39.3,
          34.7
         ],
         "line": {
          "color": "lightblue",
          "width": 1
         },
         "locationmode": "USA-states",
         "lon": [
          -77.2,
          -82.8
         ],
         "mode": "lines",
         "opacity": 0.1111111111111111,
         "type": "scattergeo"
        },
        {
         "lat": [
          39.3,
          33.9
         ],
         "line": {
          "color": "red",
          "width": 1
         },
         "locationmode": "USA-states",
         "lon": [
          -76.6,
          -83.4
         ],
         "mode": "lines",
         "opacity": 0.1111111111111111,
         "type": "scattergeo"
        },
        {
         "lat": [
          39.3,
          36
         ],
         "line": {
          "color": "red",
          "width": 1
         },
         "locationmode": "USA-states",
         "lon": [
          -76.6,
          -83.9
         ],
         "mode": "lines",
         "opacity": 0.1111111111111111,
         "type": "scattergeo"
        },
        {
         "lat": [
          39.3,
          36.1
         ],
         "line": {
          "color": "lightblue",
          "width": 1
         },
         "locationmode": "USA-states",
         "lon": [
          -76.6,
          -80.3
         ],
         "mode": "lines",
         "opacity": 0.1111111111111111,
         "type": "scattergeo"
        },
        {
         "lat": [
          39.3,
          37.2
         ],
         "line": {
          "color": "lightblue",
          "width": 1
         },
         "locationmode": "USA-states",
         "lon": [
          -76.6,
          -80.4
         ],
         "mode": "lines",
         "opacity": 0.1111111111111111,
         "type": "scattergeo"
        },
        {
         "lat": [
          39.3,
          39
         ],
         "line": {
          "color": "blue",
          "width": 1
         },
         "locationmode": "USA-states",
         "lon": [
          -76.6,
          -76.9
         ],
         "mode": "lines",
         "opacity": 0.3333333333333333,
         "type": "scattergeo"
        },
        {
         "lat": [
          39.3,
          42.3
         ],
         "line": {
          "color": "lightblue",
          "width": 1
         },
         "locationmode": "USA-states",
         "lon": [
          -76.6,
          -71.2
         ],
         "mode": "lines",
         "opacity": 0.1111111111111111,
         "type": "scattergeo"
        },
        {
         "lat": [
          39.3,
          42.7
         ],
         "line": {
          "color": "blue",
          "width": 1
         },
         "locationmode": "USA-states",
         "lon": [
          -76.6,
          -84.5
         ],
         "mode": "lines",
         "opacity": 0.1111111111111111,
         "type": "scattergeo"
        },
        {
         "lat": [
          39.3,
          44.1
         ],
         "line": {
          "color": "green",
          "width": 1
         },
         "locationmode": "USA-states",
         "lon": [
          -76.6,
          -123.1
         ],
         "mode": "lines",
         "opacity": 0.1111111111111111,
         "type": "scattergeo"
        },
        {
         "lat": [
          39.4,
          39.1
         ],
         "line": {
          "color": "purple",
          "width": 1
         },
         "locationmode": "USA-states",
         "lon": [
          -85,
          -84.5
         ],
         "mode": "lines",
         "opacity": 0.1111111111111111,
         "type": "scattergeo"
        },
        {
         "lat": [
          39.4,
          42
         ],
         "line": {
          "color": "purple",
          "width": 1
         },
         "locationmode": "USA-states",
         "lon": [
          -84.6,
          -93.6
         ],
         "mode": "lines",
         "opacity": 0.1111111111111111,
         "type": "scattergeo"
        },
        {
         "lat": [
          39.4,
          38
         ],
         "line": {
          "color": "red",
          "width": 1
         },
         "locationmode": "USA-states",
         "lon": [
          -84.3,
          -84.5
         ],
         "mode": "lines",
         "opacity": 0.1111111111111111,
         "type": "scattergeo"
        },
        {
         "lat": [
          39.4,
          39
         ],
         "line": {
          "color": "blue",
          "width": 1
         },
         "locationmode": "USA-states",
         "lon": [
          -76.8,
          -76.9
         ],
         "mode": "lines",
         "opacity": 0.1111111111111111,
         "type": "scattergeo"
        },
        {
         "lat": [
          39.4,
          36
         ],
         "line": {
          "color": "lightblue",
          "width": 1
         },
         "locationmode": "USA-states",
         "lon": [
          -76.6,
          -78.9
         ],
         "mode": "lines",
         "opacity": 0.1111111111111111,
         "type": "scattergeo"
        },
        {
         "lat": [
          39.4,
          36.1
         ],
         "line": {
          "color": "red",
          "width": 1
         },
         "locationmode": "USA-states",
         "lon": [
          -74.5,
          -86.8
         ],
         "mode": "lines",
         "opacity": 0.1111111111111111,
         "type": "scattergeo"
        },
        {
         "lat": [
          39.5,
          39.1
         ],
         "line": {
          "color": "purple",
          "width": 1
         },
         "locationmode": "USA-states",
         "lon": [
          -84.4,
          -84.5
         ],
         "mode": "lines",
         "opacity": 0.1111111111111111,
         "type": "scattergeo"
        },
        {
         "lat": [
          39.5,
          44.1
         ],
         "line": {
          "color": "green",
          "width": 1
         },
         "locationmode": "USA-states",
         "lon": [
          -76.8,
          -123.1
         ],
         "mode": "lines",
         "opacity": 0.1111111111111111,
         "type": "scattergeo"
        },
        {
         "lat": [
          39.5,
          39
         ],
         "line": {
          "color": "blue",
          "width": 1
         },
         "locationmode": "USA-states",
         "lon": [
          -76.3,
          -76.9
         ],
         "mode": "lines",
         "opacity": 0.1111111111111111,
         "type": "scattergeo"
        },
        {
         "lat": [
          39.5,
          36.1
         ],
         "line": {
          "color": "red",
          "width": 1
         },
         "locationmode": "USA-states",
         "lon": [
          -74.9,
          -86.8
         ],
         "mode": "lines",
         "opacity": 0.1111111111111111,
         "type": "scattergeo"
        },
        {
         "lat": [
          39.6,
          30.3
         ],
         "line": {
          "color": "purple",
          "width": 1
         },
         "locationmode": "USA-states",
         "lon": [
          -105,
          -97.7
         ],
         "mode": "lines",
         "opacity": 0.1111111111111111,
         "type": "scattergeo"
        },
        {
         "lat": [
          39.6,
          38.9
         ],
         "line": {
          "color": "red",
          "width": 1
         },
         "locationmode": "USA-states",
         "lon": [
          -105,
          -92.3
         ],
         "mode": "lines",
         "opacity": 0.1111111111111111,
         "type": "scattergeo"
        },
        {
         "lat": [
          39.6,
          40
         ],
         "line": {
          "color": "green",
          "width": 1
         },
         "locationmode": "USA-states",
         "lon": [
          -105,
          -105.3
         ],
         "mode": "lines",
         "opacity": 0.2222222222222222,
         "type": "scattergeo"
        },
        {
         "lat": [
          39.6,
          40.5
         ],
         "line": {
          "color": "blue",
          "width": 1
         },
         "locationmode": "USA-states",
         "lon": [
          -105,
          -74.5
         ],
         "mode": "lines",
         "opacity": 0.1111111111111111,
         "type": "scattergeo"
        },
        {
         "lat": [
          39.6,
          42
         ],
         "line": {
          "color": "purple",
          "width": 1
         },
         "locationmode": "USA-states",
         "lon": [
          -105,
          -93.6
         ],
         "mode": "lines",
         "opacity": 0.1111111111111111,
         "type": "scattergeo"
        },
        {
         "lat": [
          39.6,
          43.1
         ],
         "line": {
          "color": "blue",
          "width": 1
         },
         "locationmode": "USA-states",
         "lon": [
          -105,
          -89.4
         ],
         "mode": "lines",
         "opacity": 0.1111111111111111,
         "type": "scattergeo"
        },
        {
         "lat": [
          39.6,
          44.1
         ],
         "line": {
          "color": "green",
          "width": 1
         },
         "locationmode": "USA-states",
         "lon": [
          -105,
          -123.1
         ],
         "mode": "lines",
         "opacity": 0.1111111111111111,
         "type": "scattergeo"
        },
        {
         "lat": [
          39.6,
          40.4
         ],
         "line": {
          "color": "blue",
          "width": 1
         },
         "locationmode": "USA-states",
         "lon": [
          -86.4,
          -86.9
         ],
         "mode": "lines",
         "opacity": 0.2222222222222222,
         "type": "scattergeo"
        },
        {
         "lat": [
          39.6,
          45
         ],
         "line": {
          "color": "blue",
          "width": 1
         },
         "locationmode": "USA-states",
         "lon": [
          -86.1,
          -93.2
         ],
         "mode": "lines",
         "opacity": 0.1111111111111111,
         "type": "scattergeo"
        },
        {
         "lat": [
          39.6,
          40.5
         ],
         "line": {
          "color": "blue",
          "width": 1
         },
         "locationmode": "USA-states",
         "lon": [
          -74.8,
          -74.5
         ],
         "mode": "lines",
         "opacity": 0.1111111111111111,
         "type": "scattergeo"
        },
        {
         "lat": [
          39.7,
          40
         ],
         "line": {
          "color": "green",
          "width": 1
         },
         "locationmode": "USA-states",
         "lon": [
          -104.8,
          -105.3
         ],
         "mode": "lines",
         "opacity": 0.1111111111111111,
         "type": "scattergeo"
        },
        {
         "lat": [
          39.7,
          40
         ],
         "line": {
          "color": "blue",
          "width": 1
         },
         "locationmode": "USA-states",
         "lon": [
          -104.8,
          -83
         ],
         "mode": "lines",
         "opacity": 0.1111111111111111,
         "type": "scattergeo"
        },
        {
         "lat": [
          39.7,
          42.3
         ],
         "line": {
          "color": "lightblue",
          "width": 1
         },
         "locationmode": "USA-states",
         "lon": [
          -75,
          -71.2
         ],
         "mode": "lines",
         "opacity": 0.1111111111111111,
         "type": "scattergeo"
        },
        {
         "lat": [
          39.8,
          39
         ],
         "line": {
          "color": "purple",
          "width": 1
         },
         "locationmode": "USA-states",
         "lon": [
          -86.4,
          -95.2
         ],
         "mode": "lines",
         "opacity": 0.1111111111111111,
         "type": "scattergeo"
        },
        {
         "lat": [
          39.8,
          40.4
         ],
         "line": {
          "color": "blue",
          "width": 1
         },
         "locationmode": "USA-states",
         "lon": [
          -86.4,
          -86.9
         ],
         "mode": "lines",
         "opacity": 0.1111111111111111,
         "type": "scattergeo"
        },
        {
         "lat": [
          39.8,
          36.1
         ],
         "line": {
          "color": "lightblue",
          "width": 1
         },
         "locationmode": "USA-states",
         "lon": [
          -86.2,
          -80.3
         ],
         "mode": "lines",
         "opacity": 0.1111111111111111,
         "type": "scattergeo"
        },
        {
         "lat": [
          39.8,
          38.9
         ],
         "line": {
          "color": "red",
          "width": 1
         },
         "locationmode": "USA-states",
         "lon": [
          -86.2,
          -92.3
         ],
         "mode": "lines",
         "opacity": 0.2222222222222222,
         "type": "scattergeo"
        },
        {
         "lat": [
          39.8,
          39.2
         ],
         "line": {
          "color": "blue",
          "width": 1
         },
         "locationmode": "USA-states",
         "lon": [
          -86.2,
          -86.5
         ],
         "mode": "lines",
         "opacity": 0.1111111111111111,
         "type": "scattergeo"
        },
        {
         "lat": [
          39.8,
          40.4
         ],
         "line": {
          "color": "blue",
          "width": 1
         },
         "locationmode": "USA-states",
         "lon": [
          -86.2,
          -86.9
         ],
         "mode": "lines",
         "opacity": 0.1111111111111111,
         "type": "scattergeo"
        },
        {
         "lat": [
          39.8,
          42.1
         ],
         "line": {
          "color": "blue",
          "width": 1
         },
         "locationmode": "USA-states",
         "lon": [
          -86.2,
          -87.7
         ],
         "mode": "lines",
         "opacity": 0.1111111111111111,
         "type": "scattergeo"
        },
        {
         "lat": [
          39.8,
          42.3
         ],
         "line": {
          "color": "lightblue",
          "width": 1
         },
         "locationmode": "USA-states",
         "lon": [
          -74.9,
          -71.2
         ],
         "mode": "lines",
         "opacity": 0.1111111111111111,
         "type": "scattergeo"
        },
        {
         "lat": [
          39.9,
          42.3
         ],
         "line": {
          "color": "blue",
          "width": 1
         },
         "locationmode": "USA-states",
         "lon": [
          -84.4,
          -83.7
         ],
         "mode": "lines",
         "opacity": 0.1111111111111111,
         "type": "scattergeo"
        },
        {
         "lat": [
          39.9,
          43.1
         ],
         "line": {
          "color": "blue",
          "width": 1
         },
         "locationmode": "USA-states",
         "lon": [
          -84.4,
          -89.4
         ],
         "mode": "lines",
         "opacity": 0.1111111111111111,
         "type": "scattergeo"
        },
        {
         "lat": [
          39.9,
          40
         ],
         "line": {
          "color": "blue",
          "width": 1
         },
         "locationmode": "USA-states",
         "lon": [
          -82.8,
          -83
         ],
         "mode": "lines",
         "opacity": 0.1111111111111111,
         "type": "scattergeo"
        },
        {
         "lat": [
          39.9,
          42.1
         ],
         "line": {
          "color": "blue",
          "width": 1
         },
         "locationmode": "USA-states",
         "lon": [
          -82.8,
          -87.7
         ],
         "mode": "lines",
         "opacity": 0.1111111111111111,
         "type": "scattergeo"
        },
        {
         "lat": [
          39.9,
          40.5
         ],
         "line": {
          "color": "blue",
          "width": 1
         },
         "locationmode": "USA-states",
         "lon": [
          -75.1,
          -74.5
         ],
         "mode": "lines",
         "opacity": 0.1111111111111111,
         "type": "scattergeo"
        },
        {
         "lat": [
          39.9,
          43
         ],
         "line": {
          "color": "lightblue",
          "width": 1
         },
         "locationmode": "USA-states",
         "lon": [
          -75.1,
          -76.1
         ],
         "mode": "lines",
         "opacity": 0.1111111111111111,
         "type": "scattergeo"
        },
        {
         "lat": [
          39.9,
          42.3
         ],
         "line": {
          "color": "lightblue",
          "width": 1
         },
         "locationmode": "USA-states",
         "lon": [
          -74.8,
          -71.2
         ],
         "mode": "lines",
         "opacity": 0.1111111111111111,
         "type": "scattergeo"
        },
        {
         "lat": [
          39.9,
          43.1
         ],
         "line": {
          "color": "blue",
          "width": 1
         },
         "locationmode": "USA-states",
         "lon": [
          -74.8,
          -89.4
         ],
         "mode": "lines",
         "opacity": 0.1111111111111111,
         "type": "scattergeo"
        },
        {
         "lat": [
          40,
          39.2
         ],
         "line": {
          "color": "purple",
          "width": 1
         },
         "locationmode": "USA-states",
         "lon": [
          -105.3,
          -96.6
         ],
         "mode": "lines",
         "opacity": 0.1111111111111111,
         "type": "scattergeo"
        },
        {
         "lat": [
          40,
          36
         ],
         "line": {
          "color": "lightblue",
          "width": 1
         },
         "locationmode": "USA-states",
         "lon": [
          -86.1,
          -78.9
         ],
         "mode": "lines",
         "opacity": 0.1111111111111111,
         "type": "scattergeo"
        },
        {
         "lat": [
          40,
          43
         ],
         "line": {
          "color": "lightblue",
          "width": 1
         },
         "locationmode": "USA-states",
         "lon": [
          -86,
          -76.1
         ],
         "mode": "lines",
         "opacity": 0.1111111111111111,
         "type": "scattergeo"
        },
        {
         "lat": [
          40,
          43.1
         ],
         "line": {
          "color": "blue",
          "width": 1
         },
         "locationmode": "USA-states",
         "lon": [
          -83.2,
          -89.4
         ],
         "mode": "lines",
         "opacity": 0.1111111111111111,
         "type": "scattergeo"
        },
        {
         "lat": [
          40,
          38
         ],
         "line": {
          "color": "red",
          "width": 1
         },
         "locationmode": "USA-states",
         "lon": [
          -83,
          -84.5
         ],
         "mode": "lines",
         "opacity": 0.1111111111111111,
         "type": "scattergeo"
        },
        {
         "lat": [
          40,
          40.5
         ],
         "line": {
          "color": "blue",
          "width": 1
         },
         "locationmode": "USA-states",
         "lon": [
          -83,
          -74.5
         ],
         "mode": "lines",
         "opacity": 0.1111111111111111,
         "type": "scattergeo"
        },
        {
         "lat": [
          40,
          42.7
         ],
         "line": {
          "color": "blue",
          "width": 1
         },
         "locationmode": "USA-states",
         "lon": [
          -83,
          -84.5
         ],
         "mode": "lines",
         "opacity": 0.1111111111111111,
         "type": "scattergeo"
        },
        {
         "lat": [
          40,
          40.8
         ],
         "line": {
          "color": "blue",
          "width": 1
         },
         "locationmode": "USA-states",
         "lon": [
          -75.5,
          -77.9
         ],
         "mode": "lines",
         "opacity": 0.1111111111111111,
         "type": "scattergeo"
        },
        {
         "lat": [
          40,
          43
         ],
         "line": {
          "color": "lightblue",
          "width": 1
         },
         "locationmode": "USA-states",
         "lon": [
          -75.4,
          -76.1
         ],
         "mode": "lines",
         "opacity": 0.1111111111111111,
         "type": "scattergeo"
        },
        {
         "lat": [
          40,
          30.6
         ],
         "line": {
          "color": "red",
          "width": 1
         },
         "locationmode": "USA-states",
         "lon": [
          -75.2,
          -96.3
         ],
         "mode": "lines",
         "opacity": 0.2222222222222222,
         "type": "scattergeo"
        },
        {
         "lat": [
          40,
          33.4
         ],
         "line": {
          "color": "green",
          "width": 1
         },
         "locationmode": "USA-states",
         "lon": [
          -75.2,
          -111.9
         ],
         "mode": "lines",
         "opacity": 0.1111111111111111,
         "type": "scattergeo"
        },
        {
         "lat": [
          40,
          34.4
         ],
         "line": {
          "color": "red",
          "width": 1
         },
         "locationmode": "USA-states",
         "lon": [
          -75.2,
          -89.5
         ],
         "mode": "lines",
         "opacity": 0.2222222222222222,
         "type": "scattergeo"
        },
        {
         "lat": [
          40,
          34.7
         ],
         "line": {
          "color": "lightblue",
          "width": 1
         },
         "locationmode": "USA-states",
         "lon": [
          -75.2,
          -82.8
         ],
         "mode": "lines",
         "opacity": 0.1111111111111111,
         "type": "scattergeo"
        },
        {
         "lat": [
          40,
          36
         ],
         "line": {
          "color": "lightblue",
          "width": 1
         },
         "locationmode": "USA-states",
         "lon": [
          -75.2,
          -78.9
         ],
         "mode": "lines",
         "opacity": 0.1111111111111111,
         "type": "scattergeo"
        },
        {
         "lat": [
          40,
          39.7
         ],
         "line": {
          "color": "purple",
          "width": 1
         },
         "locationmode": "USA-states",
         "lon": [
          -75.2,
          -80
         ],
         "mode": "lines",
         "opacity": 0.1111111111111111,
         "type": "scattergeo"
        },
        {
         "lat": [
          40,
          40
         ],
         "line": {
          "color": "blue",
          "width": 1
         },
         "locationmode": "USA-states",
         "lon": [
          -75.2,
          -83
         ],
         "mode": "lines",
         "opacity": 0.2222222222222222,
         "type": "scattergeo"
        },
        {
         "lat": [
          40,
          40.4
         ],
         "line": {
          "color": "lightblue",
          "width": 1
         },
         "locationmode": "USA-states",
         "lon": [
          -75.2,
          -80
         ],
         "mode": "lines",
         "opacity": 0.1111111111111111,
         "type": "scattergeo"
        },
        {
         "lat": [
          40,
          40.5
         ],
         "line": {
          "color": "blue",
          "width": 1
         },
         "locationmode": "USA-states",
         "lon": [
          -75.2,
          -74.5
         ],
         "mode": "lines",
         "opacity": 0.1111111111111111,
         "type": "scattergeo"
        },
        {
         "lat": [
          40,
          35.8
         ],
         "line": {
          "color": "lightblue",
          "width": 1
         },
         "locationmode": "USA-states",
         "lon": [
          -74.9,
          -78.7
         ],
         "mode": "lines",
         "opacity": 0.1111111111111111,
         "type": "scattergeo"
        },
        {
         "lat": [
          40.1,
          40.3
         ],
         "line": {
          "color": "purple",
          "width": 1
         },
         "locationmode": "USA-states",
         "lon": [
          -111.7,
          -111.7
         ],
         "mode": "lines",
         "opacity": 0.2222222222222222,
         "type": "scattergeo"
        },
        {
         "lat": [
          40.1,
          39.1
         ],
         "line": {
          "color": "purple",
          "width": 1
         },
         "locationmode": "USA-states",
         "lon": [
          -83.1,
          -84.5
         ],
         "mode": "lines",
         "opacity": 0.1111111111111111,
         "type": "scattergeo"
        },
        {
         "lat": [
          40.1,
          39.7
         ],
         "line": {
          "color": "purple",
          "width": 1
         },
         "locationmode": "USA-states",
         "lon": [
          -83.1,
          -80
         ],
         "mode": "lines",
         "opacity": 0.1111111111111111,
         "type": "scattergeo"
        },
        {
         "lat": [
          40.1,
          45
         ],
         "line": {
          "color": "blue",
          "width": 1
         },
         "locationmode": "USA-states",
         "lon": [
          -83.1,
          -93.2
         ],
         "mode": "lines",
         "opacity": 0.1111111111111111,
         "type": "scattergeo"
        },
        {
         "lat": [
          40.1,
          36.1
         ],
         "line": {
          "color": "lightblue",
          "width": 1
         },
         "locationmode": "USA-states",
         "lon": [
          -74.4,
          -80.3
         ],
         "mode": "lines",
         "opacity": 0.1111111111111111,
         "type": "scattergeo"
        },
        {
         "lat": [
          40.2,
          40.3
         ],
         "line": {
          "color": "purple",
          "width": 1
         },
         "locationmode": "USA-states",
         "lon": [
          -111.7,
          -111.7
         ],
         "mode": "lines",
         "opacity": 0.2222222222222222,
         "type": "scattergeo"
        },
        {
         "lat": [
          40.2,
          39
         ],
         "line": {
          "color": "blue",
          "width": 1
         },
         "locationmode": "USA-states",
         "lon": [
          -80.2,
          -76.9
         ],
         "mode": "lines",
         "opacity": 0.1111111111111111,
         "type": "scattergeo"
        },
        {
         "lat": [
          40.2,
          39.1
         ],
         "line": {
          "color": "purple",
          "width": 1
         },
         "locationmode": "USA-states",
         "lon": [
          -76.3,
          -84.5
         ],
         "mode": "lines",
         "opacity": 0.1111111111111111,
         "type": "scattergeo"
        },
        {
         "lat": [
          40.2,
          43.1
         ],
         "line": {
          "color": "blue",
          "width": 1
         },
         "locationmode": "USA-states",
         "lon": [
          -76.3,
          -89.4
         ],
         "mode": "lines",
         "opacity": 0.1111111111111111,
         "type": "scattergeo"
        },
        {
         "lat": [
          40.2,
          39.1
         ],
         "line": {
          "color": "purple",
          "width": 1
         },
         "locationmode": "USA-states",
         "lon": [
          -75.1,
          -84.5
         ],
         "mode": "lines",
         "opacity": 0.1111111111111111,
         "type": "scattergeo"
        },
        {
         "lat": [
          40.3,
          44.1
         ],
         "line": {
          "color": "green",
          "width": 1
         },
         "locationmode": "USA-states",
         "lon": [
          -111.7,
          -123.1
         ],
         "mode": "lines",
         "opacity": 0.1111111111111111,
         "type": "scattergeo"
        },
        {
         "lat": [
          40.3,
          29.6
         ],
         "line": {
          "color": "red",
          "width": 1
         },
         "locationmode": "USA-states",
         "lon": [
          -80.2,
          -82.3
         ],
         "mode": "lines",
         "opacity": 0.1111111111111111,
         "type": "scattergeo"
        },
        {
         "lat": [
          40.3,
          40.8
         ],
         "line": {
          "color": "blue",
          "width": 1
         },
         "locationmode": "USA-states",
         "lon": [
          -76.9,
          -77.9
         ],
         "mode": "lines",
         "opacity": 0.1111111111111111,
         "type": "scattergeo"
        },
        {
         "lat": [
          40.3,
          40.5
         ],
         "line": {
          "color": "blue",
          "width": 1
         },
         "locationmode": "USA-states",
         "lon": [
          -75.9,
          -74.5
         ],
         "mode": "lines",
         "opacity": 0.1111111111111111,
         "type": "scattergeo"
        },
        {
         "lat": [
          40.3,
          42.7
         ],
         "line": {
          "color": "blue",
          "width": 1
         },
         "locationmode": "USA-states",
         "lon": [
          -74.7,
          -84.5
         ],
         "mode": "lines",
         "opacity": 0.1111111111111111,
         "type": "scattergeo"
        },
        {
         "lat": [
          40.3,
          42.3
         ],
         "line": {
          "color": "blue",
          "width": 1
         },
         "locationmode": "USA-states",
         "lon": [
          -74.3,
          -83.7
         ],
         "mode": "lines",
         "opacity": 0.1111111111111111,
         "type": "scattergeo"
        },
        {
         "lat": [
          40.4,
          40.3
         ],
         "line": {
          "color": "purple",
          "width": 1
         },
         "locationmode": "USA-states",
         "lon": [
          -111.8,
          -111.7
         ],
         "mode": "lines",
         "opacity": 0.1111111111111111,
         "type": "scattergeo"
        },
        {
         "lat": [
          40.4,
          40.8
         ],
         "line": {
          "color": "green",
          "width": 1
         },
         "locationmode": "USA-states",
         "lon": [
          -111.7,
          -111.8
         ],
         "mode": "lines",
         "opacity": 0.1111111111111111,
         "type": "scattergeo"
        },
        {
         "lat": [
          40.4,
          39.1
         ],
         "line": {
          "color": "purple",
          "width": 1
         },
         "locationmode": "USA-states",
         "lon": [
          -86.9,
          -84.5
         ],
         "mode": "lines",
         "opacity": 0.1111111111111111,
         "type": "scattergeo"
        },
        {
         "lat": [
          40.4,
          40.4
         ],
         "line": {
          "color": "blue",
          "width": 1
         },
         "locationmode": "USA-states",
         "lon": [
          -86.9,
          -86.9
         ],
         "mode": "lines",
         "opacity": 0.1111111111111111,
         "type": "scattergeo"
        },
        {
         "lat": [
          40.4,
          40.4
         ],
         "line": {
          "color": "lightblue",
          "width": 1
         },
         "locationmode": "USA-states",
         "lon": [
          -80,
          -80
         ],
         "mode": "lines",
         "opacity": 0.2222222222222222,
         "type": "scattergeo"
        },
        {
         "lat": [
          40.4,
          40.4
         ],
         "line": {
          "color": "lightblue",
          "width": 1
         },
         "locationmode": "USA-states",
         "lon": [
          -79.9,
          -80
         ],
         "mode": "lines",
         "opacity": 0.1111111111111111,
         "type": "scattergeo"
        },
        {
         "lat": [
          40.4,
          30.4
         ],
         "line": {
          "color": "red",
          "width": 1
         },
         "locationmode": "USA-states",
         "lon": [
          -79.8,
          -91.2
         ],
         "mode": "lines",
         "opacity": 0.1111111111111111,
         "type": "scattergeo"
        },
        {
         "lat": [
          40.5,
          34
         ],
         "line": {
          "color": "green",
          "width": 1
         },
         "locationmode": "USA-states",
         "lon": [
          -111.9,
          -118.3
         ],
         "mode": "lines",
         "opacity": 0.1111111111111111,
         "type": "scattergeo"
        },
        {
         "lat": [
          40.5,
          44.1
         ],
         "line": {
          "color": "green",
          "width": 1
         },
         "locationmode": "USA-states",
         "lon": [
          -111.9,
          -123.1
         ],
         "mode": "lines",
         "opacity": 0.1111111111111111,
         "type": "scattergeo"
        },
        {
         "lat": [
          40.5,
          40.8
         ],
         "line": {
          "color": "blue",
          "width": 1
         },
         "locationmode": "USA-states",
         "lon": [
          -96.6,
          -96.7
         ],
         "mode": "lines",
         "opacity": 0.1111111111111111,
         "type": "scattergeo"
        },
        {
         "lat": [
          40.6,
          40.8
         ],
         "line": {
          "color": "blue",
          "width": 1
         },
         "locationmode": "USA-states",
         "lon": [
          -112.5,
          -96.7
         ],
         "mode": "lines",
         "opacity": 0.1111111111111111,
         "type": "scattergeo"
        },
        {
         "lat": [
          40.6,
          40.3
         ],
         "line": {
          "color": "purple",
          "width": 1
         },
         "locationmode": "USA-states",
         "lon": [
          -111.9,
          -111.7
         ],
         "mode": "lines",
         "opacity": 0.1111111111111111,
         "type": "scattergeo"
        },
        {
         "lat": [
          40.6,
          40.8
         ],
         "line": {
          "color": "green",
          "width": 1
         },
         "locationmode": "USA-states",
         "lon": [
          -111.9,
          -111.8
         ],
         "mode": "lines",
         "opacity": 0.1111111111111111,
         "type": "scattergeo"
        },
        {
         "lat": [
          40.6,
          46.7
         ],
         "line": {
          "color": "green",
          "width": 1
         },
         "locationmode": "USA-states",
         "lon": [
          -111.8,
          -117.2
         ],
         "mode": "lines",
         "opacity": 0.1111111111111111,
         "type": "scattergeo"
        },
        {
         "lat": [
          40.6,
          37.4
         ],
         "line": {
          "color": "green",
          "width": 1
         },
         "locationmode": "USA-states",
         "lon": [
          -111.5,
          -122.2
         ],
         "mode": "lines",
         "opacity": 0.1111111111111111,
         "type": "scattergeo"
        },
        {
         "lat": [
          40.6,
          30.6
         ],
         "line": {
          "color": "red",
          "width": 1
         },
         "locationmode": "USA-states",
         "lon": [
          -105.1,
          -96.3
         ],
         "mode": "lines",
         "opacity": 0.1111111111111111,
         "type": "scattergeo"
        },
        {
         "lat": [
          40.6,
          34
         ],
         "line": {
          "color": "red",
          "width": 1
         },
         "locationmode": "USA-states",
         "lon": [
          -85.7,
          -81
         ],
         "mode": "lines",
         "opacity": 0.1111111111111111,
         "type": "scattergeo"
        },
        {
         "lat": [
          40.6,
          40.3
         ],
         "line": {
          "color": "purple",
          "width": 1
         },
         "locationmode": "USA-states",
         "lon": [
          -80.1,
          -111.7
         ],
         "mode": "lines",
         "opacity": 0.1111111111111111,
         "type": "scattergeo"
        },
        {
         "lat": [
          40.6,
          40.8
         ],
         "line": {
          "color": "blue",
          "width": 1
         },
         "locationmode": "USA-states",
         "lon": [
          -80.1,
          -77.9
         ],
         "mode": "lines",
         "opacity": 0.1111111111111111,
         "type": "scattergeo"
        },
        {
         "lat": [
          40.6,
          40.4
         ],
         "line": {
          "color": "lightblue",
          "width": 1
         },
         "locationmode": "USA-states",
         "lon": [
          -76.2,
          -80
         ],
         "mode": "lines",
         "opacity": 0.1111111111111111,
         "type": "scattergeo"
        },
        {
         "lat": [
          40.6,
          40.8
         ],
         "line": {
          "color": "blue",
          "width": 1
         },
         "locationmode": "USA-states",
         "lon": [
          -75.4,
          -77.9
         ],
         "mode": "lines",
         "opacity": 0.1111111111111111,
         "type": "scattergeo"
        },
        {
         "lat": [
          40.7,
          40.8
         ],
         "line": {
          "color": "blue",
          "width": 1
         },
         "locationmode": "USA-states",
         "lon": [
          -99.1,
          -96.7
         ],
         "mode": "lines",
         "opacity": 0.1111111111111111,
         "type": "scattergeo"
        },
        {
         "lat": [
          40.7,
          40.4
         ],
         "line": {
          "color": "lightblue",
          "width": 1
         },
         "locationmode": "USA-states",
         "lon": [
          -80.3,
          -80
         ],
         "mode": "lines",
         "opacity": 0.1111111111111111,
         "type": "scattergeo"
        },
        {
         "lat": [
          40.7,
          40.5
         ],
         "line": {
          "color": "blue",
          "width": 1
         },
         "locationmode": "USA-states",
         "lon": [
          -74.3,
          -74.5
         ],
         "mode": "lines",
         "opacity": 0.1111111111111111,
         "type": "scattergeo"
        },
        {
         "lat": [
          40.7,
          40.5
         ],
         "line": {
          "color": "blue",
          "width": 1
         },
         "locationmode": "USA-states",
         "lon": [
          -74.2,
          -74.5
         ],
         "mode": "lines",
         "opacity": 0.3333333333333333,
         "type": "scattergeo"
        },
        {
         "lat": [
          40.7,
          40.8
         ],
         "line": {
          "color": "blue",
          "width": 1
         },
         "locationmode": "USA-states",
         "lon": [
          -74.2,
          -96.7
         ],
         "mode": "lines",
         "opacity": 0.1111111111111111,
         "type": "scattergeo"
        },
        {
         "lat": [
          40.7,
          37.2
         ],
         "line": {
          "color": "lightblue",
          "width": 1
         },
         "locationmode": "USA-states",
         "lon": [
          -74.1,
          -80.4
         ],
         "mode": "lines",
         "opacity": 0.1111111111111111,
         "type": "scattergeo"
        },
        {
         "lat": [
          40.7,
          42.3
         ],
         "line": {
          "color": "blue",
          "width": 1
         },
         "locationmode": "USA-states",
         "lon": [
          -74.1,
          -83.7
         ],
         "mode": "lines",
         "opacity": 0.1111111111111111,
         "type": "scattergeo"
        },
        {
         "lat": [
          40.7,
          40.4
         ],
         "line": {
          "color": "blue",
          "width": 1
         },
         "locationmode": "USA-states",
         "lon": [
          -74,
          -86.9
         ],
         "mode": "lines",
         "opacity": 0.1111111111111111,
         "type": "scattergeo"
        },
        {
         "lat": [
          40.7,
          30.6
         ],
         "line": {
          "color": "red",
          "width": 1
         },
         "locationmode": "USA-states",
         "lon": [
          -73.9,
          -96.3
         ],
         "mode": "lines",
         "opacity": 0.1111111111111111,
         "type": "scattergeo"
        },
        {
         "lat": [
          40.7,
          33.4
         ],
         "line": {
          "color": "green",
          "width": 1
         },
         "locationmode": "USA-states",
         "lon": [
          -73.9,
          -111.9
         ],
         "mode": "lines",
         "opacity": 0.1111111111111111,
         "type": "scattergeo"
        },
        {
         "lat": [
          40.8,
          40.3
         ],
         "line": {
          "color": "purple",
          "width": 1
         },
         "locationmode": "USA-states",
         "lon": [
          -111.9,
          -111.7
         ],
         "mode": "lines",
         "opacity": 0.1111111111111111,
         "type": "scattergeo"
        },
        {
         "lat": [
          40.8,
          44.1
         ],
         "line": {
          "color": "green",
          "width": 1
         },
         "locationmode": "USA-states",
         "lon": [
          -111.9,
          -123.1
         ],
         "mode": "lines",
         "opacity": 0.1111111111111111,
         "type": "scattergeo"
        },
        {
         "lat": [
          40.8,
          44.6
         ],
         "line": {
          "color": "green",
          "width": 1
         },
         "locationmode": "USA-states",
         "lon": [
          -111.9,
          -123.3
         ],
         "mode": "lines",
         "opacity": 0.2222222222222222,
         "type": "scattergeo"
        },
        {
         "lat": [
          40.8,
          46.7
         ],
         "line": {
          "color": "green",
          "width": 1
         },
         "locationmode": "USA-states",
         "lon": [
          -111.9,
          -117.2
         ],
         "mode": "lines",
         "opacity": 0.1111111111111111,
         "type": "scattergeo"
        },
        {
         "lat": [
          40.8,
          47.7
         ],
         "line": {
          "color": "green",
          "width": 1
         },
         "locationmode": "USA-states",
         "lon": [
          -111.9,
          -122.3
         ],
         "mode": "lines",
         "opacity": 0.1111111111111111,
         "type": "scattergeo"
        },
        {
         "lat": [
          40.8,
          39.7
         ],
         "line": {
          "color": "purple",
          "width": 1
         },
         "locationmode": "USA-states",
         "lon": [
          -81.5,
          -80
         ],
         "mode": "lines",
         "opacity": 0.1111111111111111,
         "type": "scattergeo"
        },
        {
         "lat": [
          40.8,
          40
         ],
         "line": {
          "color": "blue",
          "width": 1
         },
         "locationmode": "USA-states",
         "lon": [
          -81.5,
          -83
         ],
         "mode": "lines",
         "opacity": 0.1111111111111111,
         "type": "scattergeo"
        },
        {
         "lat": [
          40.8,
          40.4
         ],
         "line": {
          "color": "lightblue",
          "width": 1
         },
         "locationmode": "USA-states",
         "lon": [
          -81.5,
          -80
         ],
         "mode": "lines",
         "opacity": 0.1111111111111111,
         "type": "scattergeo"
        },
        {
         "lat": [
          40.8,
          39.1
         ],
         "line": {
          "color": "purple",
          "width": 1
         },
         "locationmode": "USA-states",
         "lon": [
          -81.4,
          -84.5
         ],
         "mode": "lines",
         "opacity": 0.1111111111111111,
         "type": "scattergeo"
        },
        {
         "lat": [
          40.8,
          43
         ],
         "line": {
          "color": "lightblue",
          "width": 1
         },
         "locationmode": "USA-states",
         "lon": [
          -80.3,
          -76.1
         ],
         "mode": "lines",
         "opacity": 0.1111111111111111,
         "type": "scattergeo"
        },
        {
         "lat": [
          40.8,
          40.5
         ],
         "line": {
          "color": "blue",
          "width": 1
         },
         "locationmode": "USA-states",
         "lon": [
          -74.5,
          -74.5
         ],
         "mode": "lines",
         "opacity": 0.2222222222222222,
         "type": "scattergeo"
        },
        {
         "lat": [
          40.8,
          37.4
         ],
         "line": {
          "color": "green",
          "width": 1
         },
         "locationmode": "USA-states",
         "lon": [
          -74.2,
          -122.2
         ],
         "mode": "lines",
         "opacity": 0.1111111111111111,
         "type": "scattergeo"
        },
        {
         "lat": [
          40.8,
          40.5
         ],
         "line": {
          "color": "blue",
          "width": 1
         },
         "locationmode": "USA-states",
         "lon": [
          -74.2,
          -74.5
         ],
         "mode": "lines",
         "opacity": 0.1111111111111111,
         "type": "scattergeo"
        },
        {
         "lat": [
          40.9,
          40.8
         ],
         "line": {
          "color": "green",
          "width": 1
         },
         "locationmode": "USA-states",
         "lon": [
          -111.9,
          -111.8
         ],
         "mode": "lines",
         "opacity": 0.1111111111111111,
         "type": "scattergeo"
        },
        {
         "lat": [
          40.9,
          40.8
         ],
         "line": {
          "color": "blue",
          "width": 1
         },
         "locationmode": "USA-states",
         "lon": [
          -95.7,
          -96.7
         ],
         "mode": "lines",
         "opacity": 0.1111111111111111,
         "type": "scattergeo"
        },
        {
         "lat": [
          40.9,
          42.3
         ],
         "line": {
          "color": "lightblue",
          "width": 1
         },
         "locationmode": "USA-states",
         "lon": [
          -74.2,
          -71.2
         ],
         "mode": "lines",
         "opacity": 0.1111111111111111,
         "type": "scattergeo"
        },
        {
         "lat": [
          40.9,
          37.2
         ],
         "line": {
          "color": "lightblue",
          "width": 1
         },
         "locationmode": "USA-states",
         "lon": [
          -74,
          -80.4
         ],
         "mode": "lines",
         "opacity": 0.1111111111111111,
         "type": "scattergeo"
        },
        {
         "lat": [
          40.9,
          43
         ],
         "line": {
          "color": "lightblue",
          "width": 1
         },
         "locationmode": "USA-states",
         "lon": [
          -73.8,
          -76.1
         ],
         "mode": "lines",
         "opacity": 0.2222222222222222,
         "type": "scattergeo"
        },
        {
         "lat": [
          41,
          40.8
         ],
         "line": {
          "color": "blue",
          "width": 1
         },
         "locationmode": "USA-states",
         "lon": [
          -91.6,
          -96.7
         ],
         "mode": "lines",
         "opacity": 0.1111111111111111,
         "type": "scattergeo"
        },
        {
         "lat": [
          41,
          42.3
         ],
         "line": {
          "color": "lightblue",
          "width": 1
         },
         "locationmode": "USA-states",
         "lon": [
          -81.9,
          -71.2
         ],
         "mode": "lines",
         "opacity": 0.1111111111111111,
         "type": "scattergeo"
        },
        {
         "lat": [
          41,
          42
         ],
         "line": {
          "color": "purple",
          "width": 1
         },
         "locationmode": "USA-states",
         "lon": [
          -81.7,
          -93.6
         ],
         "mode": "lines",
         "opacity": 0.1111111111111111,
         "type": "scattergeo"
        },
        {
         "lat": [
          41,
          38.2
         ],
         "line": {
          "color": "lightblue",
          "width": 1
         },
         "locationmode": "USA-states",
         "lon": [
          -80.3,
          -85.8
         ],
         "mode": "lines",
         "opacity": 0.1111111111111111,
         "type": "scattergeo"
        },
        {
         "lat": [
          41,
          37.4
         ],
         "line": {
          "color": "green",
          "width": 1
         },
         "locationmode": "USA-states",
         "lon": [
          -75,
          -122.2
         ],
         "mode": "lines",
         "opacity": 0.1111111111111111,
         "type": "scattergeo"
        },
        {
         "lat": [
          41,
          34.4
         ],
         "line": {
          "color": "red",
          "width": 1
         },
         "locationmode": "USA-states",
         "lon": [
          -74,
          -89.5
         ],
         "mode": "lines",
         "opacity": 0.1111111111111111,
         "type": "scattergeo"
        },
        {
         "lat": [
          41,
          42.7
         ],
         "line": {
          "color": "blue",
          "width": 1
         },
         "locationmode": "USA-states",
         "lon": [
          -74,
          -84.5
         ],
         "mode": "lines",
         "opacity": 0.1111111111111111,
         "type": "scattergeo"
        },
        {
         "lat": [
          41.1,
          41.7
         ],
         "line": {
          "color": "blue",
          "width": 1
         },
         "locationmode": "USA-states",
         "lon": [
          -95.9,
          -91.6
         ],
         "mode": "lines",
         "opacity": 0.1111111111111111,
         "type": "scattergeo"
        },
        {
         "lat": [
          41.1,
          39.2
         ],
         "line": {
          "color": "blue",
          "width": 1
         },
         "locationmode": "USA-states",
         "lon": [
          -85.1,
          -86.5
         ],
         "mode": "lines",
         "opacity": 0.1111111111111111,
         "type": "scattergeo"
        },
        {
         "lat": [
          41.1,
          34.2
         ],
         "line": {
          "color": "green",
          "width": 1
         },
         "locationmode": "USA-states",
         "lon": [
          -81.5,
          -118.2
         ],
         "mode": "lines",
         "opacity": 0.1111111111111111,
         "type": "scattergeo"
        },
        {
         "lat": [
          41.1,
          40.5
         ],
         "line": {
          "color": "blue",
          "width": 1
         },
         "locationmode": "USA-states",
         "lon": [
          -81.5,
          -74.5
         ],
         "mode": "lines",
         "opacity": 0.1111111111111111,
         "type": "scattergeo"
        },
        {
         "lat": [
          41.1,
          42.3
         ],
         "line": {
          "color": "lightblue",
          "width": 1
         },
         "locationmode": "USA-states",
         "lon": [
          -81.5,
          -71.2
         ],
         "mode": "lines",
         "opacity": 0.1111111111111111,
         "type": "scattergeo"
        },
        {
         "lat": [
          41.1,
          43.1
         ],
         "line": {
          "color": "blue",
          "width": 1
         },
         "locationmode": "USA-states",
         "lon": [
          -81.5,
          -89.4
         ],
         "mode": "lines",
         "opacity": 0.1111111111111111,
         "type": "scattergeo"
        },
        {
         "lat": [
          41.2,
          43.1
         ],
         "line": {
          "color": "blue",
          "width": 1
         },
         "locationmode": "USA-states",
         "lon": [
          -88.5,
          -89.4
         ],
         "mode": "lines",
         "opacity": 0.2222222222222222,
         "type": "scattergeo"
        },
        {
         "lat": [
          41.2,
          39.7
         ],
         "line": {
          "color": "purple",
          "width": 1
         },
         "locationmode": "USA-states",
         "lon": [
          -81.8,
          -80
         ],
         "mode": "lines",
         "opacity": 0.1111111111111111,
         "type": "scattergeo"
        },
        {
         "lat": [
          41.2,
          40
         ],
         "line": {
          "color": "blue",
          "width": 1
         },
         "locationmode": "USA-states",
         "lon": [
          -81.6,
          -83
         ],
         "mode": "lines",
         "opacity": 0.1111111111111111,
         "type": "scattergeo"
        },
        {
         "lat": [
          41.2,
          38
         ],
         "line": {
          "color": "red",
          "width": 1
         },
         "locationmode": "USA-states",
         "lon": [
          -81.4,
          -84.5
         ],
         "mode": "lines",
         "opacity": 0.1111111111111111,
         "type": "scattergeo"
        },
        {
         "lat": [
          41.2,
          40.5
         ],
         "line": {
          "color": "blue",
          "width": 1
         },
         "locationmode": "USA-states",
         "lon": [
          -81.4,
          -74.5
         ],
         "mode": "lines",
         "opacity": 0.1111111111111111,
         "type": "scattergeo"
        },
        {
         "lat": [
          41.2,
          40
         ],
         "line": {
          "color": "blue",
          "width": 1
         },
         "locationmode": "USA-states",
         "lon": [
          -81.3,
          -83
         ],
         "mode": "lines",
         "opacity": 0.1111111111111111,
         "type": "scattergeo"
        },
        {
         "lat": [
          41.2,
          36.1
         ],
         "line": {
          "color": "lightblue",
          "width": 1
         },
         "locationmode": "USA-states",
         "lon": [
          -73.4,
          -80.3
         ],
         "mode": "lines",
         "opacity": 0.1111111111111111,
         "type": "scattergeo"
        },
        {
         "lat": [
          41.3,
          40.8
         ],
         "line": {
          "color": "blue",
          "width": 1
         },
         "locationmode": "USA-states",
         "lon": [
          -95.9,
          -96.7
         ],
         "mode": "lines",
         "opacity": 0.4444444444444444,
         "type": "scattergeo"
        },
        {
         "lat": [
          41.3,
          44.1
         ],
         "line": {
          "color": "green",
          "width": 1
         },
         "locationmode": "USA-states",
         "lon": [
          -95.9,
          -123.1
         ],
         "mode": "lines",
         "opacity": 0.1111111111111111,
         "type": "scattergeo"
        },
        {
         "lat": [
          41.3,
          40.1
         ],
         "line": {
          "color": "blue",
          "width": 1
         },
         "locationmode": "USA-states",
         "lon": [
          -87.8,
          -88.2
         ],
         "mode": "lines",
         "opacity": 0.1111111111111111,
         "type": "scattergeo"
        },
        {
         "lat": [
          41.3,
          41.7
         ],
         "line": {
          "color": "blue",
          "width": 1
         },
         "locationmode": "USA-states",
         "lon": [
          -81.7,
          -91.6
         ],
         "mode": "lines",
         "opacity": 0.1111111111111111,
         "type": "scattergeo"
        },
        {
         "lat": [
          41.3,
          42.1
         ],
         "line": {
          "color": "blue",
          "width": 1
         },
         "locationmode": "USA-states",
         "lon": [
          -72.9,
          -87.7
         ],
         "mode": "lines",
         "opacity": 0.1111111111111111,
         "type": "scattergeo"
        },
        {
         "lat": [
          41.4,
          38.2
         ],
         "line": {
          "color": "lightblue",
          "width": 1
         },
         "locationmode": "USA-states",
         "lon": [
          -88.8,
          -85.8
         ],
         "mode": "lines",
         "opacity": 0.1111111111111111,
         "type": "scattergeo"
        },
        {
         "lat": [
          41.4,
          42.1
         ],
         "line": {
          "color": "blue",
          "width": 1
         },
         "locationmode": "USA-states",
         "lon": [
          -81.4,
          -87.7
         ],
         "mode": "lines",
         "opacity": 0.1111111111111111,
         "type": "scattergeo"
        },
        {
         "lat": [
          41.5,
          42
         ],
         "line": {
          "color": "purple",
          "width": 1
         },
         "locationmode": "USA-states",
         "lon": [
          -90.6,
          -93.6
         ],
         "mode": "lines",
         "opacity": 0.1111111111111111,
         "type": "scattergeo"
        },
        {
         "lat": [
          41.5,
          41.7
         ],
         "line": {
          "color": "blue",
          "width": 1
         },
         "locationmode": "USA-states",
         "lon": [
          -90.5,
          -91.6
         ],
         "mode": "lines",
         "opacity": 0.1111111111111111,
         "type": "scattergeo"
        },
        {
         "lat": [
          41.5,
          39.2
         ],
         "line": {
          "color": "blue",
          "width": 1
         },
         "locationmode": "USA-states",
         "lon": [
          -88.1,
          -86.5
         ],
         "mode": "lines",
         "opacity": 0.1111111111111111,
         "type": "scattergeo"
        },
        {
         "lat": [
          41.5,
          45
         ],
         "line": {
          "color": "blue",
          "width": 1
         },
         "locationmode": "USA-states",
         "lon": [
          -88,
          -93.2
         ],
         "mode": "lines",
         "opacity": 0.1111111111111111,
         "type": "scattergeo"
        },
        {
         "lat": [
          41.5,
          39.1
         ],
         "line": {
          "color": "purple",
          "width": 1
         },
         "locationmode": "USA-states",
         "lon": [
          -87.7,
          -84.5
         ],
         "mode": "lines",
         "opacity": 0.1111111111111111,
         "type": "scattergeo"
        },
        {
         "lat": [
          41.5,
          39.2
         ],
         "line": {
          "color": "blue",
          "width": 1
         },
         "locationmode": "USA-states",
         "lon": [
          -87.1,
          -86.5
         ],
         "mode": "lines",
         "opacity": 0.1111111111111111,
         "type": "scattergeo"
        },
        {
         "lat": [
          41.5,
          42.1
         ],
         "line": {
          "color": "blue",
          "width": 1
         },
         "locationmode": "USA-states",
         "lon": [
          -81.7,
          -87.7
         ],
         "mode": "lines",
         "opacity": 0.1111111111111111,
         "type": "scattergeo"
        },
        {
         "lat": [
          41.5,
          42.7
         ],
         "line": {
          "color": "blue",
          "width": 1
         },
         "locationmode": "USA-states",
         "lon": [
          -81.7,
          -84.5
         ],
         "mode": "lines",
         "opacity": 0.1111111111111111,
         "type": "scattergeo"
        },
        {
         "lat": [
          41.5,
          39
         ],
         "line": {
          "color": "blue",
          "width": 1
         },
         "locationmode": "USA-states",
         "lon": [
          -75.5,
          -76.9
         ],
         "mode": "lines",
         "opacity": 0.1111111111111111,
         "type": "scattergeo"
        },
        {
         "lat": [
          41.5,
          42.3
         ],
         "line": {
          "color": "lightblue",
          "width": 1
         },
         "locationmode": "USA-states",
         "lon": [
          -72.9,
          -71.2
         ],
         "mode": "lines",
         "opacity": 0.1111111111111111,
         "type": "scattergeo"
        },
        {
         "lat": [
          41.5,
          42.3
         ],
         "line": {
          "color": "blue",
          "width": 1
         },
         "locationmode": "USA-states",
         "lon": [
          -72.8,
          -83.7
         ],
         "mode": "lines",
         "opacity": 0.1111111111111111,
         "type": "scattergeo"
        },
        {
         "lat": [
          41.6,
          39.2
         ],
         "line": {
          "color": "purple",
          "width": 1
         },
         "locationmode": "USA-states",
         "lon": [
          -93.8,
          -96.6
         ],
         "mode": "lines",
         "opacity": 0.1111111111111111,
         "type": "scattergeo"
        },
        {
         "lat": [
          41.6,
          41.7
         ],
         "line": {
          "color": "blue",
          "width": 1
         },
         "locationmode": "USA-states",
         "lon": [
          -93.7,
          -91.6
         ],
         "mode": "lines",
         "opacity": 0.2222222222222222,
         "type": "scattergeo"
        },
        {
         "lat": [
          41.6,
          41.7
         ],
         "line": {
          "color": "blue",
          "width": 1
         },
         "locationmode": "USA-states",
         "lon": [
          -93.6,
          -91.6
         ],
         "mode": "lines",
         "opacity": 0.1111111111111111,
         "type": "scattergeo"
        },
        {
         "lat": [
          41.6,
          40.1
         ],
         "line": {
          "color": "blue",
          "width": 1
         },
         "locationmode": "USA-states",
         "lon": [
          -88.2,
          -88.2
         ],
         "mode": "lines",
         "opacity": 0.1111111111111111,
         "type": "scattergeo"
        },
        {
         "lat": [
          41.6,
          45
         ],
         "line": {
          "color": "blue",
          "width": 1
         },
         "locationmode": "USA-states",
         "lon": [
          -87.7,
          -93.2
         ],
         "mode": "lines",
         "opacity": 0.1111111111111111,
         "type": "scattergeo"
        },
        {
         "lat": [
          41.6,
          42
         ],
         "line": {
          "color": "purple",
          "width": 1
         },
         "locationmode": "USA-states",
         "lon": [
          -81.2,
          -93.6
         ],
         "mode": "lines",
         "opacity": 0.1111111111111111,
         "type": "scattergeo"
        },
        {
         "lat": [
          41.6,
          43.1
         ],
         "line": {
          "color": "blue",
          "width": 1
         },
         "locationmode": "USA-states",
         "lon": [
          -73.1,
          -89.4
         ],
         "mode": "lines",
         "opacity": 0.1111111111111111,
         "type": "scattergeo"
        },
        {
         "lat": [
          41.7,
          40.3
         ],
         "line": {
          "color": "purple",
          "width": 1
         },
         "locationmode": "USA-states",
         "lon": [
          -111.8,
          -111.7
         ],
         "mode": "lines",
         "opacity": 0.1111111111111111,
         "type": "scattergeo"
        },
        {
         "lat": [
          41.7,
          42
         ],
         "line": {
          "color": "purple",
          "width": 1
         },
         "locationmode": "USA-states",
         "lon": [
          -93.7,
          -93.6
         ],
         "mode": "lines",
         "opacity": 0.1111111111111111,
         "type": "scattergeo"
        },
        {
         "lat": [
          41.7,
          41.7
         ],
         "line": {
          "color": "blue",
          "width": 1
         },
         "locationmode": "USA-states",
         "lon": [
          -93.6,
          -91.6
         ],
         "mode": "lines",
         "opacity": 0.1111111111111111,
         "type": "scattergeo"
        },
        {
         "lat": [
          41.7,
          42
         ],
         "line": {
          "color": "purple",
          "width": 1
         },
         "locationmode": "USA-states",
         "lon": [
          -92.7,
          -93.6
         ],
         "mode": "lines",
         "opacity": 0.1111111111111111,
         "type": "scattergeo"
        },
        {
         "lat": [
          41.7,
          43.1
         ],
         "line": {
          "color": "blue",
          "width": 1
         },
         "locationmode": "USA-states",
         "lon": [
          -91.7,
          -89.4
         ],
         "mode": "lines",
         "opacity": 0.1111111111111111,
         "type": "scattergeo"
        },
        {
         "lat": [
          41.7,
          41.7
         ],
         "line": {
          "color": "blue",
          "width": 1
         },
         "locationmode": "USA-states",
         "lon": [
          -91.3,
          -91.6
         ],
         "mode": "lines",
         "opacity": 0.1111111111111111,
         "type": "scattergeo"
        },
        {
         "lat": [
          41.7,
          42
         ],
         "line": {
          "color": "purple",
          "width": 1
         },
         "locationmode": "USA-states",
         "lon": [
          -90.6,
          -93.6
         ],
         "mode": "lines",
         "opacity": 0.1111111111111111,
         "type": "scattergeo"
        },
        {
         "lat": [
          41.7,
          42.3
         ],
         "line": {
          "color": "lightblue",
          "width": 1
         },
         "locationmode": "USA-states",
         "lon": [
          -88.4,
          -71.2
         ],
         "mode": "lines",
         "opacity": 0.1111111111111111,
         "type": "scattergeo"
        },
        {
         "lat": [
          41.7,
          39.1
         ],
         "line": {
          "color": "purple",
          "width": 1
         },
         "locationmode": "USA-states",
         "lon": [
          -88.1,
          -84.5
         ],
         "mode": "lines",
         "opacity": 0.1111111111111111,
         "type": "scattergeo"
        },
        {
         "lat": [
          41.7,
          42.3
         ],
         "line": {
          "color": "blue",
          "width": 1
         },
         "locationmode": "USA-states",
         "lon": [
          -88.1,
          -83.7
         ],
         "mode": "lines",
         "opacity": 0.1111111111111111,
         "type": "scattergeo"
        },
        {
         "lat": [
          41.7,
          39.2
         ],
         "line": {
          "color": "blue",
          "width": 1
         },
         "locationmode": "USA-states",
         "lon": [
          -86.3,
          -86.5
         ],
         "mode": "lines",
         "opacity": 0.1111111111111111,
         "type": "scattergeo"
        },
        {
         "lat": [
          41.7,
          40.8
         ],
         "line": {
          "color": "blue",
          "width": 1
         },
         "locationmode": "USA-states",
         "lon": [
          -86,
          -77.9
         ],
         "mode": "lines",
         "opacity": 0.1111111111111111,
         "type": "scattergeo"
        },
        {
         "lat": [
          41.7,
          39.1
         ],
         "line": {
          "color": "purple",
          "width": 1
         },
         "locationmode": "USA-states",
         "lon": [
          -83.5,
          -84.5
         ],
         "mode": "lines",
         "opacity": 0.1111111111111111,
         "type": "scattergeo"
        },
        {
         "lat": [
          41.8,
          32.7
         ],
         "line": {
          "color": "purple",
          "width": 1
         },
         "locationmode": "USA-states",
         "lon": [
          -88.1,
          -97.4
         ],
         "mode": "lines",
         "opacity": 0.1111111111111111,
         "type": "scattergeo"
        },
        {
         "lat": [
          41.8,
          42.3
         ],
         "line": {
          "color": "blue",
          "width": 1
         },
         "locationmode": "USA-states",
         "lon": [
          -87.9,
          -83.7
         ],
         "mode": "lines",
         "opacity": 0.1111111111111111,
         "type": "scattergeo"
        },
        {
         "lat": [
          41.8,
          39.7
         ],
         "line": {
          "color": "purple",
          "width": 1
         },
         "locationmode": "USA-states",
         "lon": [
          -81.1,
          -80
         ],
         "mode": "lines",
         "opacity": 0.1111111111111111,
         "type": "scattergeo"
        },
        {
         "lat": [
          41.8,
          40.8
         ],
         "line": {
          "color": "blue",
          "width": 1
         },
         "locationmode": "USA-states",
         "lon": [
          -72.8,
          -77.9
         ],
         "mode": "lines",
         "opacity": 0.1111111111111111,
         "type": "scattergeo"
        },
        {
         "lat": [
          41.9,
          32.2
         ],
         "line": {
          "color": "green",
          "width": 1
         },
         "locationmode": "USA-states",
         "lon": [
          -88.3,
          -110.9
         ],
         "mode": "lines",
         "opacity": 0.1111111111111111,
         "type": "scattergeo"
        },
        {
         "lat": [
          41.9,
          43
         ],
         "line": {
          "color": "lightblue",
          "width": 1
         },
         "locationmode": "USA-states",
         "lon": [
          -88.1,
          -76.1
         ],
         "mode": "lines",
         "opacity": 0.1111111111111111,
         "type": "scattergeo"
        },
        {
         "lat": [
          41.9,
          43
         ],
         "line": {
          "color": "lightblue",
          "width": 1
         },
         "locationmode": "USA-states",
         "lon": [
          -88,
          -76.1
         ],
         "mode": "lines",
         "opacity": 0.1111111111111111,
         "type": "scattergeo"
        },
        {
         "lat": [
          41.9,
          38.2
         ],
         "line": {
          "color": "lightblue",
          "width": 1
         },
         "locationmode": "USA-states",
         "lon": [
          -87.6,
          -85.8
         ],
         "mode": "lines",
         "opacity": 0.1111111111111111,
         "type": "scattergeo"
        },
        {
         "lat": [
          41.9,
          40.5
         ],
         "line": {
          "color": "blue",
          "width": 1
         },
         "locationmode": "USA-states",
         "lon": [
          -87.6,
          -74.5
         ],
         "mode": "lines",
         "opacity": 0.1111111111111111,
         "type": "scattergeo"
        },
        {
         "lat": [
          41.9,
          42
         ],
         "line": {
          "color": "purple",
          "width": 1
         },
         "locationmode": "USA-states",
         "lon": [
          -87.6,
          -93.6
         ],
         "mode": "lines",
         "opacity": 0.1111111111111111,
         "type": "scattergeo"
        },
        {
         "lat": [
          41.9,
          42.3
         ],
         "line": {
          "color": "lightblue",
          "width": 1
         },
         "locationmode": "USA-states",
         "lon": [
          -87.6,
          -71.2
         ],
         "mode": "lines",
         "opacity": 0.2222222222222222,
         "type": "scattergeo"
        },
        {
         "lat": [
          41.9,
          45
         ],
         "line": {
          "color": "blue",
          "width": 1
         },
         "locationmode": "USA-states",
         "lon": [
          -87.6,
          -93.2
         ],
         "mode": "lines",
         "opacity": 0.1111111111111111,
         "type": "scattergeo"
        },
        {
         "lat": [
          41.9,
          40.8
         ],
         "line": {
          "color": "blue",
          "width": 1
         },
         "locationmode": "USA-states",
         "lon": [
          -85.6,
          -96.7
         ],
         "mode": "lines",
         "opacity": 0.1111111111111111,
         "type": "scattergeo"
        },
        {
         "lat": [
          42,
          41.7
         ],
         "line": {
          "color": "blue",
          "width": 1
         },
         "locationmode": "USA-states",
         "lon": [
          -91.7,
          -91.6
         ],
         "mode": "lines",
         "opacity": 0.1111111111111111,
         "type": "scattergeo"
        },
        {
         "lat": [
          42,
          42.3
         ],
         "line": {
          "color": "blue",
          "width": 1
         },
         "locationmode": "USA-states",
         "lon": [
          -72.7,
          -83.7
         ],
         "mode": "lines",
         "opacity": 0.1111111111111111,
         "type": "scattergeo"
        },
        {
         "lat": [
          42,
          42.3
         ],
         "line": {
          "color": "blue",
          "width": 1
         },
         "locationmode": "USA-states",
         "lon": [
          -71.2,
          -83.7
         ],
         "mode": "lines",
         "opacity": 0.1111111111111111,
         "type": "scattergeo"
        },
        {
         "lat": [
          42.1,
          41.7
         ],
         "line": {
          "color": "blue",
          "width": 1
         },
         "locationmode": "USA-states",
         "lon": [
          -88,
          -91.6
         ],
         "mode": "lines",
         "opacity": 0.1111111111111111,
         "type": "scattergeo"
        },
        {
         "lat": [
          42.1,
          42.1
         ],
         "line": {
          "color": "blue",
          "width": 1
         },
         "locationmode": "USA-states",
         "lon": [
          -87.8,
          -87.7
         ],
         "mode": "lines",
         "opacity": 0.1111111111111111,
         "type": "scattergeo"
        },
        {
         "lat": [
          42.1,
          40.1
         ],
         "line": {
          "color": "blue",
          "width": 1
         },
         "locationmode": "USA-states",
         "lon": [
          -87.7,
          -88.2
         ],
         "mode": "lines",
         "opacity": 0.1111111111111111,
         "type": "scattergeo"
        },
        {
         "lat": [
          42.1,
          41.7
         ],
         "line": {
          "color": "blue",
          "width": 1
         },
         "locationmode": "USA-states",
         "lon": [
          -87.7,
          -91.6
         ],
         "mode": "lines",
         "opacity": 0.1111111111111111,
         "type": "scattergeo"
        },
        {
         "lat": [
          42.1,
          43
         ],
         "line": {
          "color": "lightblue",
          "width": 1
         },
         "locationmode": "USA-states",
         "lon": [
          -72.6,
          -76.1
         ],
         "mode": "lines",
         "opacity": 0.1111111111111111,
         "type": "scattergeo"
        },
        {
         "lat": [
          42.1,
          42.3
         ],
         "line": {
          "color": "lightblue",
          "width": 1
         },
         "locationmode": "USA-states",
         "lon": [
          -70.7,
          -71.2
         ],
         "mode": "lines",
         "opacity": 0.1111111111111111,
         "type": "scattergeo"
        },
        {
         "lat": [
          42.2,
          41.7
         ],
         "line": {
          "color": "blue",
          "width": 1
         },
         "locationmode": "USA-states",
         "lon": [
          -93.6,
          -91.6
         ],
         "mode": "lines",
         "opacity": 0.1111111111111111,
         "type": "scattergeo"
        },
        {
         "lat": [
          42.2,
          43.1
         ],
         "line": {
          "color": "blue",
          "width": 1
         },
         "locationmode": "USA-states",
         "lon": [
          -88.1,
          -89.4
         ],
         "mode": "lines",
         "opacity": 0.1111111111111111,
         "type": "scattergeo"
        },
        {
         "lat": [
          42.2,
          42.1
         ],
         "line": {
          "color": "blue",
          "width": 1
         },
         "locationmode": "USA-states",
         "lon": [
          -85.6,
          -87.7
         ],
         "mode": "lines",
         "opacity": 0.1111111111111111,
         "type": "scattergeo"
        },
        {
         "lat": [
          42.2,
          33.2
         ],
         "line": {
          "color": "red",
          "width": 1
         },
         "locationmode": "USA-states",
         "lon": [
          -83.5,
          -87.6
         ],
         "mode": "lines",
         "opacity": 0.1111111111111111,
         "type": "scattergeo"
        },
        {
         "lat": [
          42.2,
          40.4
         ],
         "line": {
          "color": "blue",
          "width": 1
         },
         "locationmode": "USA-states",
         "lon": [
          -83.5,
          -86.9
         ],
         "mode": "lines",
         "opacity": 0.1111111111111111,
         "type": "scattergeo"
        },
        {
         "lat": [
          42.2,
          40.8
         ],
         "line": {
          "color": "blue",
          "width": 1
         },
         "locationmode": "USA-states",
         "lon": [
          -83.5,
          -77.9
         ],
         "mode": "lines",
         "opacity": 0.1111111111111111,
         "type": "scattergeo"
        },
        {
         "lat": [
          42.2,
          39.1
         ],
         "line": {
          "color": "purple",
          "width": 1
         },
         "locationmode": "USA-states",
         "lon": [
          -83.1,
          -84.5
         ],
         "mode": "lines",
         "opacity": 0.1111111111111111,
         "type": "scattergeo"
        },
        {
         "lat": [
          42.2,
          42.3
         ],
         "line": {
          "color": "lightblue",
          "width": 1
         },
         "locationmode": "USA-states",
         "lon": [
          -71.2,
          -71.2
         ],
         "mode": "lines",
         "opacity": 0.1111111111111111,
         "type": "scattergeo"
        },
        {
         "lat": [
          42.2,
          36.1
         ],
         "line": {
          "color": "lightblue",
          "width": 1
         },
         "locationmode": "USA-states",
         "lon": [
          -70.8,
          -80.3
         ],
         "mode": "lines",
         "opacity": 0.1111111111111111,
         "type": "scattergeo"
        },
        {
         "lat": [
          42.3,
          41.7
         ],
         "line": {
          "color": "blue",
          "width": 1
         },
         "locationmode": "USA-states",
         "lon": [
          -95.5,
          -91.6
         ],
         "mode": "lines",
         "opacity": 0.1111111111111111,
         "type": "scattergeo"
        },
        {
         "lat": [
          42.3,
          42.1
         ],
         "line": {
          "color": "blue",
          "width": 1
         },
         "locationmode": "USA-states",
         "lon": [
          -87.8,
          -87.7
         ],
         "mode": "lines",
         "opacity": 0.1111111111111111,
         "type": "scattergeo"
        },
        {
         "lat": [
          42.3,
          36.1
         ],
         "line": {
          "color": "red",
          "width": 1
         },
         "locationmode": "USA-states",
         "lon": [
          -85,
          -86.8
         ],
         "mode": "lines",
         "opacity": 0.1111111111111111,
         "type": "scattergeo"
        },
        {
         "lat": [
          42.3,
          40.4
         ],
         "line": {
          "color": "lightblue",
          "width": 1
         },
         "locationmode": "USA-states",
         "lon": [
          -83,
          -80
         ],
         "mode": "lines",
         "opacity": 0.2222222222222222,
         "type": "scattergeo"
        },
        {
         "lat": [
          42.3,
          40.8
         ],
         "line": {
          "color": "blue",
          "width": 1
         },
         "locationmode": "USA-states",
         "lon": [
          -83,
          -77.9
         ],
         "mode": "lines",
         "opacity": 0.3333333333333333,
         "type": "scattergeo"
        },
        {
         "lat": [
          42.3,
          42
         ],
         "line": {
          "color": "purple",
          "width": 1
         },
         "locationmode": "USA-states",
         "lon": [
          -83,
          -93.6
         ],
         "mode": "lines",
         "opacity": 0.1111111111111111,
         "type": "scattergeo"
        },
        {
         "lat": [
          42.3,
          42.3
         ],
         "line": {
          "color": "blue",
          "width": 1
         },
         "locationmode": "USA-states",
         "lon": [
          -83,
          -83.7
         ],
         "mode": "lines",
         "opacity": 0.1111111111111111,
         "type": "scattergeo"
        },
        {
         "lat": [
          42.3,
          42.7
         ],
         "line": {
          "color": "blue",
          "width": 1
         },
         "locationmode": "USA-states",
         "lon": [
          -83,
          -84.5
         ],
         "mode": "lines",
         "opacity": 0.1111111111111111,
         "type": "scattergeo"
        },
        {
         "lat": [
          42.3,
          42.3
         ],
         "line": {
          "color": "blue",
          "width": 1
         },
         "locationmode": "USA-states",
         "lon": [
          -71.2,
          -83.7
         ],
         "mode": "lines",
         "opacity": 0.1111111111111111,
         "type": "scattergeo"
        },
        {
         "lat": [
          42.3,
          42.3
         ],
         "line": {
          "color": "lightblue",
          "width": 1
         },
         "locationmode": "USA-states",
         "lon": [
          -71.1,
          -71.2
         ],
         "mode": "lines",
         "opacity": 0.1111111111111111,
         "type": "scattergeo"
        },
        {
         "lat": [
          42.4,
          44.6
         ],
         "line": {
          "color": "green",
          "width": 1
         },
         "locationmode": "USA-states",
         "lon": [
          -123.3,
          -123.3
         ],
         "mode": "lines",
         "opacity": 0.1111111111111111,
         "type": "scattergeo"
        },
        {
         "lat": [
          42.4,
          41.7
         ],
         "line": {
          "color": "blue",
          "width": 1
         },
         "locationmode": "USA-states",
         "lon": [
          -89.8,
          -91.6
         ],
         "mode": "lines",
         "opacity": 0.1111111111111111,
         "type": "scattergeo"
        },
        {
         "lat": [
          42.4,
          40.4
         ],
         "line": {
          "color": "lightblue",
          "width": 1
         },
         "locationmode": "USA-states",
         "lon": [
          -83.4,
          -80
         ],
         "mode": "lines",
         "opacity": 0.1111111111111111,
         "type": "scattergeo"
        },
        {
         "lat": [
          42.4,
          42.1
         ],
         "line": {
          "color": "blue",
          "width": 1
         },
         "locationmode": "USA-states",
         "lon": [
          -83.4,
          -87.7
         ],
         "mode": "lines",
         "opacity": 0.1111111111111111,
         "type": "scattergeo"
        },
        {
         "lat": [
          42.5,
          41.7
         ],
         "line": {
          "color": "blue",
          "width": 1
         },
         "locationmode": "USA-states",
         "lon": [
          -93.3,
          -91.6
         ],
         "mode": "lines",
         "opacity": 0.1111111111111111,
         "type": "scattergeo"
        },
        {
         "lat": [
          42.5,
          42
         ],
         "line": {
          "color": "purple",
          "width": 1
         },
         "locationmode": "USA-states",
         "lon": [
          -90.7,
          -93.6
         ],
         "mode": "lines",
         "opacity": 0.1111111111111111,
         "type": "scattergeo"
        },
        {
         "lat": [
          42.5,
          32.2
         ],
         "line": {
          "color": "green",
          "width": 1
         },
         "locationmode": "USA-states",
         "lon": [
          -88.3,
          -110.9
         ],
         "mode": "lines",
         "opacity": 0.1111111111111111,
         "type": "scattergeo"
        },
        {
         "lat": [
          42.5,
          45
         ],
         "line": {
          "color": "blue",
          "width": 1
         },
         "locationmode": "USA-states",
         "lon": [
          -88.1,
          -93.2
         ],
         "mode": "lines",
         "opacity": 0.2222222222222222,
         "type": "scattergeo"
        },
        {
         "lat": [
          42.5,
          38.2
         ],
         "line": {
          "color": "lightblue",
          "width": 1
         },
         "locationmode": "USA-states",
         "lon": [
          -83.2,
          -85.8
         ],
         "mode": "lines",
         "opacity": 0.1111111111111111,
         "type": "scattergeo"
        },
        {
         "lat": [
          42.5,
          42.3
         ],
         "line": {
          "color": "blue",
          "width": 1
         },
         "locationmode": "USA-states",
         "lon": [
          -83.2,
          -83.7
         ],
         "mode": "lines",
         "opacity": 0.1111111111111111,
         "type": "scattergeo"
        },
        {
         "lat": [
          42.5,
          42.7
         ],
         "line": {
          "color": "blue",
          "width": 1
         },
         "locationmode": "USA-states",
         "lon": [
          -83.2,
          -84.5
         ],
         "mode": "lines",
         "opacity": 0.1111111111111111,
         "type": "scattergeo"
        },
        {
         "lat": [
          42.5,
          42.7
         ],
         "line": {
          "color": "blue",
          "width": 1
         },
         "locationmode": "USA-states",
         "lon": [
          -83,
          -84.5
         ],
         "mode": "lines",
         "opacity": 0.1111111111111111,
         "type": "scattergeo"
        },
        {
         "lat": [
          42.6,
          38
         ],
         "line": {
          "color": "red",
          "width": 1
         },
         "locationmode": "USA-states",
         "lon": [
          -83.4,
          -84.5
         ],
         "mode": "lines",
         "opacity": 0.1111111111111111,
         "type": "scattergeo"
        },
        {
         "lat": [
          42.6,
          42.3
         ],
         "line": {
          "color": "blue",
          "width": 1
         },
         "locationmode": "USA-states",
         "lon": [
          -83.4,
          -83.7
         ],
         "mode": "lines",
         "opacity": 0.2222222222222222,
         "type": "scattergeo"
        },
        {
         "lat": [
          42.6,
          37.4
         ],
         "line": {
          "color": "green",
          "width": 1
         },
         "locationmode": "USA-states",
         "lon": [
          -83.2,
          -122.2
         ],
         "mode": "lines",
         "opacity": 0.1111111111111111,
         "type": "scattergeo"
        },
        {
         "lat": [
          42.6,
          42.3
         ],
         "line": {
          "color": "blue",
          "width": 1
         },
         "locationmode": "USA-states",
         "lon": [
          -83,
          -83.7
         ],
         "mode": "lines",
         "opacity": 0.1111111111111111,
         "type": "scattergeo"
        },
        {
         "lat": [
          42.6,
          42.3
         ],
         "line": {
          "color": "lightblue",
          "width": 1
         },
         "locationmode": "USA-states",
         "lon": [
          -71.6,
          -71.2
         ],
         "mode": "lines",
         "opacity": 0.1111111111111111,
         "type": "scattergeo"
        },
        {
         "lat": [
          42.7,
          42.3
         ],
         "line": {
          "color": "blue",
          "width": 1
         },
         "locationmode": "USA-states",
         "lon": [
          -84.5,
          -83.7
         ],
         "mode": "lines",
         "opacity": 0.1111111111111111,
         "type": "scattergeo"
        },
        {
         "lat": [
          42.7,
          42.7
         ],
         "line": {
          "color": "blue",
          "width": 1
         },
         "locationmode": "USA-states",
         "lon": [
          -84.5,
          -84.5
         ],
         "mode": "lines",
         "opacity": 0.1111111111111111,
         "type": "scattergeo"
        },
        {
         "lat": [
          42.7,
          30.4
         ],
         "line": {
          "color": "red",
          "width": 1
         },
         "locationmode": "USA-states",
         "lon": [
          -83.4,
          -91.2
         ],
         "mode": "lines",
         "opacity": 0.1111111111111111,
         "type": "scattergeo"
        },
        {
         "lat": [
          42.7,
          39.2
         ],
         "line": {
          "color": "blue",
          "width": 1
         },
         "locationmode": "USA-states",
         "lon": [
          -83.2,
          -86.5
         ],
         "mode": "lines",
         "opacity": 0.1111111111111111,
         "type": "scattergeo"
        },
        {
         "lat": [
          42.8,
          43
         ],
         "line": {
          "color": "lightblue",
          "width": 1
         },
         "locationmode": "USA-states",
         "lon": [
          -85.7,
          -76.1
         ],
         "mode": "lines",
         "opacity": 0.1111111111111111,
         "type": "scattergeo"
        },
        {
         "lat": [
          42.8,
          42.1
         ],
         "line": {
          "color": "blue",
          "width": 1
         },
         "locationmode": "USA-states",
         "lon": [
          -83.7,
          -87.7
         ],
         "mode": "lines",
         "opacity": 0.1111111111111111,
         "type": "scattergeo"
        },
        {
         "lat": [
          42.8,
          40.3
         ],
         "line": {
          "color": "purple",
          "width": 1
         },
         "locationmode": "USA-states",
         "lon": [
          -83,
          -111.7
         ],
         "mode": "lines",
         "opacity": 0.1111111111111111,
         "type": "scattergeo"
        },
        {
         "lat": [
          42.9,
          43.1
         ],
         "line": {
          "color": "blue",
          "width": 1
         },
         "locationmode": "USA-states",
         "lon": [
          -88.1,
          -89.4
         ],
         "mode": "lines",
         "opacity": 0.1111111111111111,
         "type": "scattergeo"
        },
        {
         "lat": [
          43,
          40.4
         ],
         "line": {
          "color": "blue",
          "width": 1
         },
         "locationmode": "USA-states",
         "lon": [
          -87.9,
          -86.9
         ],
         "mode": "lines",
         "opacity": 0.1111111111111111,
         "type": "scattergeo"
        },
        {
         "lat": [
          43,
          42.1
         ],
         "line": {
          "color": "blue",
          "width": 1
         },
         "locationmode": "USA-states",
         "lon": [
          -83.5,
          -87.7
         ],
         "mode": "lines",
         "opacity": 0.1111111111111111,
         "type": "scattergeo"
        },
        {
         "lat": [
          43.1,
          34.2
         ],
         "line": {
          "color": "green",
          "width": 1
         },
         "locationmode": "USA-states",
         "lon": [
          -88.1,
          -118.2
         ],
         "mode": "lines",
         "opacity": 0.1111111111111111,
         "type": "scattergeo"
        },
        {
         "lat": [
          43.1,
          43
         ],
         "line": {
          "color": "lightblue",
          "width": 1
         },
         "locationmode": "USA-states",
         "lon": [
          -77.4,
          -76.1
         ],
         "mode": "lines",
         "opacity": 0.1111111111111111,
         "type": "scattergeo"
        },
        {
         "lat": [
          43.2,
          43.1
         ],
         "line": {
          "color": "blue",
          "width": 1
         },
         "locationmode": "USA-states",
         "lon": [
          -88,
          -89.4
         ],
         "mode": "lines",
         "opacity": 0.1111111111111111,
         "type": "scattergeo"
        },
        {
         "lat": [
          43.2,
          44.1
         ],
         "line": {
          "color": "green",
          "width": 1
         },
         "locationmode": "USA-states",
         "lon": [
          -77.6,
          -123.1
         ],
         "mode": "lines",
         "opacity": 0.1111111111111111,
         "type": "scattergeo"
        },
        {
         "lat": [
          43.3,
          40.4
         ],
         "line": {
          "color": "blue",
          "width": 1
         },
         "locationmode": "USA-states",
         "lon": [
          -88,
          -86.9
         ],
         "mode": "lines",
         "opacity": 0.1111111111111111,
         "type": "scattergeo"
        },
        {
         "lat": [
          43.3,
          43.1
         ],
         "line": {
          "color": "blue",
          "width": 1
         },
         "locationmode": "USA-states",
         "lon": [
          -88,
          -89.4
         ],
         "mode": "lines",
         "opacity": 0.1111111111111111,
         "type": "scattergeo"
        },
        {
         "lat": [
          43.5,
          40.8
         ],
         "line": {
          "color": "blue",
          "width": 1
         },
         "locationmode": "USA-states",
         "lon": [
          -96.7,
          -96.7
         ],
         "mode": "lines",
         "opacity": 0.1111111111111111,
         "type": "scattergeo"
        },
        {
         "lat": [
          43.8,
          43.1
         ],
         "line": {
          "color": "blue",
          "width": 1
         },
         "locationmode": "USA-states",
         "lon": [
          -88.4,
          -89.4
         ],
         "mode": "lines",
         "opacity": 0.1111111111111111,
         "type": "scattergeo"
        },
        {
         "lat": [
          44.1,
          44.6
         ],
         "line": {
          "color": "green",
          "width": 1
         },
         "locationmode": "USA-states",
         "lon": [
          -123.1,
          -123.3
         ],
         "mode": "lines",
         "opacity": 0.1111111111111111,
         "type": "scattergeo"
        },
        {
         "lat": [
          44.5,
          44.1
         ],
         "line": {
          "color": "green",
          "width": 1
         },
         "locationmode": "USA-states",
         "lon": [
          -122.9,
          -123.1
         ],
         "mode": "lines",
         "opacity": 0.1111111111111111,
         "type": "scattergeo"
        },
        {
         "lat": [
          44.7,
          43.1
         ],
         "line": {
          "color": "blue",
          "width": 1
         },
         "locationmode": "USA-states",
         "lon": [
          -93.2,
          -89.4
         ],
         "mode": "lines",
         "opacity": 0.1111111111111111,
         "type": "scattergeo"
        },
        {
         "lat": [
          44.7,
          43.1
         ],
         "line": {
          "color": "blue",
          "width": 1
         },
         "locationmode": "USA-states",
         "lon": [
          -93.1,
          -89.4
         ],
         "mode": "lines",
         "opacity": 0.1111111111111111,
         "type": "scattergeo"
        },
        {
         "lat": [
          44.8,
          45
         ],
         "line": {
          "color": "blue",
          "width": 1
         },
         "locationmode": "USA-states",
         "lon": [
          -93.5,
          -93.2
         ],
         "mode": "lines",
         "opacity": 0.1111111111111111,
         "type": "scattergeo"
        },
        {
         "lat": [
          44.8,
          43.1
         ],
         "line": {
          "color": "blue",
          "width": 1
         },
         "locationmode": "USA-states",
         "lon": [
          -91.5,
          -89.4
         ],
         "mode": "lines",
         "opacity": 0.1111111111111111,
         "type": "scattergeo"
        },
        {
         "lat": [
          44.9,
          41.7
         ],
         "line": {
          "color": "blue",
          "width": 1
         },
         "locationmode": "USA-states",
         "lon": [
          -93.5,
          -91.6
         ],
         "mode": "lines",
         "opacity": 0.1111111111111111,
         "type": "scattergeo"
        },
        {
         "lat": [
          45,
          37.9
         ],
         "line": {
          "color": "green",
          "width": 1
         },
         "locationmode": "USA-states",
         "lon": [
          -93.3,
          -122.3
         ],
         "mode": "lines",
         "opacity": 0.1111111111111111,
         "type": "scattergeo"
        },
        {
         "lat": [
          45,
          40.8
         ],
         "line": {
          "color": "blue",
          "width": 1
         },
         "locationmode": "USA-states",
         "lon": [
          -93.3,
          -77.9
         ],
         "mode": "lines",
         "opacity": 0.1111111111111111,
         "type": "scattergeo"
        },
        {
         "lat": [
          45,
          43
         ],
         "line": {
          "color": "lightblue",
          "width": 1
         },
         "locationmode": "USA-states",
         "lon": [
          -93.3,
          -76.1
         ],
         "mode": "lines",
         "opacity": 0.1111111111111111,
         "type": "scattergeo"
        },
        {
         "lat": [
          45.3,
          45
         ],
         "line": {
          "color": "blue",
          "width": 1
         },
         "locationmode": "USA-states",
         "lon": [
          -94.1,
          -93.2
         ],
         "mode": "lines",
         "opacity": 0.1111111111111111,
         "type": "scattergeo"
        },
        {
         "lat": [
          45.5,
          35.2
         ],
         "line": {
          "color": "purple",
          "width": 1
         },
         "locationmode": "USA-states",
         "lon": [
          -122.7,
          -97.4
         ],
         "mode": "lines",
         "opacity": 0.1111111111111111,
         "type": "scattergeo"
        },
        {
         "lat": [
          45.5,
          37.9
         ],
         "line": {
          "color": "green",
          "width": 1
         },
         "locationmode": "USA-states",
         "lon": [
          -122.7,
          -122.3
         ],
         "mode": "lines",
         "opacity": 0.1111111111111111,
         "type": "scattergeo"
        },
        {
         "lat": [
          45.5,
          40
         ],
         "line": {
          "color": "green",
          "width": 1
         },
         "locationmode": "USA-states",
         "lon": [
          -122.7,
          -105.3
         ],
         "mode": "lines",
         "opacity": 0.1111111111111111,
         "type": "scattergeo"
        },
        {
         "lat": [
          45.5,
          44.6
         ],
         "line": {
          "color": "green",
          "width": 1
         },
         "locationmode": "USA-states",
         "lon": [
          -122.7,
          -123.3
         ],
         "mode": "lines",
         "opacity": 0.1111111111111111,
         "type": "scattergeo"
        },
        {
         "lat": [
          45.7,
          44.6
         ],
         "line": {
          "color": "green",
          "width": 1
         },
         "locationmode": "USA-states",
         "lon": [
          -121.5,
          -123.3
         ],
         "mode": "lines",
         "opacity": 0.1111111111111111,
         "type": "scattergeo"
        },
        {
         "lat": [
          46.6,
          46.7
         ],
         "line": {
          "color": "green",
          "width": 1
         },
         "locationmode": "USA-states",
         "lon": [
          -120.5,
          -117.2
         ],
         "mode": "lines",
         "opacity": 0.1111111111111111,
         "type": "scattergeo"
        },
        {
         "lat": [
          46.7,
          40.8
         ],
         "line": {
          "color": "green",
          "width": 1
         },
         "locationmode": "USA-states",
         "lon": [
          -117,
          -111.8
         ],
         "mode": "lines",
         "opacity": 0.1111111111111111,
         "type": "scattergeo"
        },
        {
         "lat": [
          46.8,
          39.2
         ],
         "line": {
          "color": "purple",
          "width": 1
         },
         "locationmode": "USA-states",
         "lon": [
          -100.8,
          -96.6
         ],
         "mode": "lines",
         "opacity": 0.1111111111111111,
         "type": "scattergeo"
        },
        {
         "lat": [
          46.9,
          37.9
         ],
         "line": {
          "color": "green",
          "width": 1
         },
         "locationmode": "USA-states",
         "lon": [
          -122.6,
          -122.3
         ],
         "mode": "lines",
         "opacity": 0.1111111111111111,
         "type": "scattergeo"
        },
        {
         "lat": [
          46.9,
          47.7
         ],
         "line": {
          "color": "green",
          "width": 1
         },
         "locationmode": "USA-states",
         "lon": [
          -122.3,
          -122.3
         ],
         "mode": "lines",
         "opacity": 0.1111111111111111,
         "type": "scattergeo"
        },
        {
         "lat": [
          46.9,
          40.3
         ],
         "line": {
          "color": "purple",
          "width": 1
         },
         "locationmode": "USA-states",
         "lon": [
          -114,
          -111.7
         ],
         "mode": "lines",
         "opacity": 0.1111111111111111,
         "type": "scattergeo"
        },
        {
         "lat": [
          47,
          45
         ],
         "line": {
          "color": "blue",
          "width": 1
         },
         "locationmode": "USA-states",
         "lon": [
          -122.9,
          -93.2
         ],
         "mode": "lines",
         "opacity": 0.1111111111111111,
         "type": "scattergeo"
        },
        {
         "lat": [
          47.1,
          47.7
         ],
         "line": {
          "color": "green",
          "width": 1
         },
         "locationmode": "USA-states",
         "lon": [
          -122.4,
          -122.3
         ],
         "mode": "lines",
         "opacity": 0.1111111111111111,
         "type": "scattergeo"
        },
        {
         "lat": [
          47.2,
          40
         ],
         "line": {
          "color": "blue",
          "width": 1
         },
         "locationmode": "USA-states",
         "lon": [
          -122.6,
          -83
         ],
         "mode": "lines",
         "opacity": 0.1111111111111111,
         "type": "scattergeo"
        },
        {
         "lat": [
          47.2,
          32.2
         ],
         "line": {
          "color": "green",
          "width": 1
         },
         "locationmode": "USA-states",
         "lon": [
          -122.4,
          -110.9
         ],
         "mode": "lines",
         "opacity": 0.1111111111111111,
         "type": "scattergeo"
        },
        {
         "lat": [
          47.2,
          34
         ],
         "line": {
          "color": "green",
          "width": 1
         },
         "locationmode": "USA-states",
         "lon": [
          -122.4,
          -118.3
         ],
         "mode": "lines",
         "opacity": 0.1111111111111111,
         "type": "scattergeo"
        },
        {
         "lat": [
          47.5,
          33.4
         ],
         "line": {
          "color": "green",
          "width": 1
         },
         "locationmode": "USA-states",
         "lon": [
          -122.3,
          -111.9
         ],
         "mode": "lines",
         "opacity": 0.1111111111111111,
         "type": "scattergeo"
        },
        {
         "lat": [
          47.5,
          38.2
         ],
         "line": {
          "color": "lightblue",
          "width": 1
         },
         "locationmode": "USA-states",
         "lon": [
          -122.3,
          -85.8
         ],
         "mode": "lines",
         "opacity": 0.1111111111111111,
         "type": "scattergeo"
        },
        {
         "lat": [
          47.5,
          47.7
         ],
         "line": {
          "color": "green",
          "width": 1
         },
         "locationmode": "USA-states",
         "lon": [
          -122.3,
          -122.3
         ],
         "mode": "lines",
         "opacity": 0.1111111111111111,
         "type": "scattergeo"
        },
        {
         "lat": [
          47.5,
          47.7
         ],
         "line": {
          "color": "green",
          "width": 1
         },
         "locationmode": "USA-states",
         "lon": [
          -122.2,
          -122.3
         ],
         "mode": "lines",
         "opacity": 0.1111111111111111,
         "type": "scattergeo"
        },
        {
         "lat": [
          47.5,
          46.7
         ],
         "line": {
          "color": "green",
          "width": 1
         },
         "locationmode": "USA-states",
         "lon": [
          -121.8,
          -117.2
         ],
         "mode": "lines",
         "opacity": 0.1111111111111111,
         "type": "scattergeo"
        },
        {
         "lat": [
          47.6,
          47.7
         ],
         "line": {
          "color": "green",
          "width": 1
         },
         "locationmode": "USA-states",
         "lon": [
          -122.3,
          -122.3
         ],
         "mode": "lines",
         "opacity": 0.1111111111111111,
         "type": "scattergeo"
        },
        {
         "lat": [
          47.6,
          47.7
         ],
         "line": {
          "color": "green",
          "width": 1
         },
         "locationmode": "USA-states",
         "lon": [
          -122.2,
          -122.3
         ],
         "mode": "lines",
         "opacity": 0.1111111111111111,
         "type": "scattergeo"
        },
        {
         "lat": [
          47.8,
          40.8
         ],
         "line": {
          "color": "green",
          "width": 1
         },
         "locationmode": "USA-states",
         "lon": [
          -122.2,
          -111.8
         ],
         "mode": "lines",
         "opacity": 0.1111111111111111,
         "type": "scattergeo"
        },
        {
         "lat": [
          48,
          38
         ],
         "line": {
          "color": "lightblue",
          "width": 1
         },
         "locationmode": "USA-states",
         "lon": [
          -122.2,
          -78.5
         ],
         "mode": "lines",
         "opacity": 0.1111111111111111,
         "type": "scattergeo"
        }
       ],
       "layout": {
        "geo": {
         "center": {
          "lat": 38.65095640633264,
          "lon": -100.31768004116644
         },
         "countrycolor": "rgb(204, 204, 204)",
         "landcolor": "rgb(243, 243, 243)",
         "projection": {
          "scale": 2,
          "type": "azimuthal equal area"
         },
         "scope": "north america",
         "showland": true
        },
        "height": 600,
        "margin": {
         "autoexpand": true,
         "b": 20,
         "l": 20,
         "r": 20,
         "t": 70
        },
        "showlegend": false,
        "template": {
         "data": {
          "bar": [
           {
            "error_x": {
             "color": "#2a3f5f"
            },
            "error_y": {
             "color": "#2a3f5f"
            },
            "marker": {
             "line": {
              "color": "#E5ECF6",
              "width": 0.5
             },
             "pattern": {
              "fillmode": "overlay",
              "size": 10,
              "solidity": 0.2
             }
            },
            "type": "bar"
           }
          ],
          "barpolar": [
           {
            "marker": {
             "line": {
              "color": "#E5ECF6",
              "width": 0.5
             },
             "pattern": {
              "fillmode": "overlay",
              "size": 10,
              "solidity": 0.2
             }
            },
            "type": "barpolar"
           }
          ],
          "carpet": [
           {
            "aaxis": {
             "endlinecolor": "#2a3f5f",
             "gridcolor": "white",
             "linecolor": "white",
             "minorgridcolor": "white",
             "startlinecolor": "#2a3f5f"
            },
            "baxis": {
             "endlinecolor": "#2a3f5f",
             "gridcolor": "white",
             "linecolor": "white",
             "minorgridcolor": "white",
             "startlinecolor": "#2a3f5f"
            },
            "type": "carpet"
           }
          ],
          "choropleth": [
           {
            "colorbar": {
             "outlinewidth": 0,
             "ticks": ""
            },
            "type": "choropleth"
           }
          ],
          "contour": [
           {
            "colorbar": {
             "outlinewidth": 0,
             "ticks": ""
            },
            "colorscale": [
             [
              0,
              "#0d0887"
             ],
             [
              0.1111111111111111,
              "#46039f"
             ],
             [
              0.2222222222222222,
              "#7201a8"
             ],
             [
              0.3333333333333333,
              "#9c179e"
             ],
             [
              0.4444444444444444,
              "#bd3786"
             ],
             [
              0.5555555555555556,
              "#d8576b"
             ],
             [
              0.6666666666666666,
              "#ed7953"
             ],
             [
              0.7777777777777778,
              "#fb9f3a"
             ],
             [
              0.8888888888888888,
              "#fdca26"
             ],
             [
              1,
              "#f0f921"
             ]
            ],
            "type": "contour"
           }
          ],
          "contourcarpet": [
           {
            "colorbar": {
             "outlinewidth": 0,
             "ticks": ""
            },
            "type": "contourcarpet"
           }
          ],
          "heatmap": [
           {
            "colorbar": {
             "outlinewidth": 0,
             "ticks": ""
            },
            "colorscale": [
             [
              0,
              "#0d0887"
             ],
             [
              0.1111111111111111,
              "#46039f"
             ],
             [
              0.2222222222222222,
              "#7201a8"
             ],
             [
              0.3333333333333333,
              "#9c179e"
             ],
             [
              0.4444444444444444,
              "#bd3786"
             ],
             [
              0.5555555555555556,
              "#d8576b"
             ],
             [
              0.6666666666666666,
              "#ed7953"
             ],
             [
              0.7777777777777778,
              "#fb9f3a"
             ],
             [
              0.8888888888888888,
              "#fdca26"
             ],
             [
              1,
              "#f0f921"
             ]
            ],
            "type": "heatmap"
           }
          ],
          "heatmapgl": [
           {
            "colorbar": {
             "outlinewidth": 0,
             "ticks": ""
            },
            "colorscale": [
             [
              0,
              "#0d0887"
             ],
             [
              0.1111111111111111,
              "#46039f"
             ],
             [
              0.2222222222222222,
              "#7201a8"
             ],
             [
              0.3333333333333333,
              "#9c179e"
             ],
             [
              0.4444444444444444,
              "#bd3786"
             ],
             [
              0.5555555555555556,
              "#d8576b"
             ],
             [
              0.6666666666666666,
              "#ed7953"
             ],
             [
              0.7777777777777778,
              "#fb9f3a"
             ],
             [
              0.8888888888888888,
              "#fdca26"
             ],
             [
              1,
              "#f0f921"
             ]
            ],
            "type": "heatmapgl"
           }
          ],
          "histogram": [
           {
            "marker": {
             "pattern": {
              "fillmode": "overlay",
              "size": 10,
              "solidity": 0.2
             }
            },
            "type": "histogram"
           }
          ],
          "histogram2d": [
           {
            "colorbar": {
             "outlinewidth": 0,
             "ticks": ""
            },
            "colorscale": [
             [
              0,
              "#0d0887"
             ],
             [
              0.1111111111111111,
              "#46039f"
             ],
             [
              0.2222222222222222,
              "#7201a8"
             ],
             [
              0.3333333333333333,
              "#9c179e"
             ],
             [
              0.4444444444444444,
              "#bd3786"
             ],
             [
              0.5555555555555556,
              "#d8576b"
             ],
             [
              0.6666666666666666,
              "#ed7953"
             ],
             [
              0.7777777777777778,
              "#fb9f3a"
             ],
             [
              0.8888888888888888,
              "#fdca26"
             ],
             [
              1,
              "#f0f921"
             ]
            ],
            "type": "histogram2d"
           }
          ],
          "histogram2dcontour": [
           {
            "colorbar": {
             "outlinewidth": 0,
             "ticks": ""
            },
            "colorscale": [
             [
              0,
              "#0d0887"
             ],
             [
              0.1111111111111111,
              "#46039f"
             ],
             [
              0.2222222222222222,
              "#7201a8"
             ],
             [
              0.3333333333333333,
              "#9c179e"
             ],
             [
              0.4444444444444444,
              "#bd3786"
             ],
             [
              0.5555555555555556,
              "#d8576b"
             ],
             [
              0.6666666666666666,
              "#ed7953"
             ],
             [
              0.7777777777777778,
              "#fb9f3a"
             ],
             [
              0.8888888888888888,
              "#fdca26"
             ],
             [
              1,
              "#f0f921"
             ]
            ],
            "type": "histogram2dcontour"
           }
          ],
          "mesh3d": [
           {
            "colorbar": {
             "outlinewidth": 0,
             "ticks": ""
            },
            "type": "mesh3d"
           }
          ],
          "parcoords": [
           {
            "line": {
             "colorbar": {
              "outlinewidth": 0,
              "ticks": ""
             }
            },
            "type": "parcoords"
           }
          ],
          "pie": [
           {
            "automargin": true,
            "type": "pie"
           }
          ],
          "scatter": [
           {
            "fillpattern": {
             "fillmode": "overlay",
             "size": 10,
             "solidity": 0.2
            },
            "type": "scatter"
           }
          ],
          "scatter3d": [
           {
            "line": {
             "colorbar": {
              "outlinewidth": 0,
              "ticks": ""
             }
            },
            "marker": {
             "colorbar": {
              "outlinewidth": 0,
              "ticks": ""
             }
            },
            "type": "scatter3d"
           }
          ],
          "scattercarpet": [
           {
            "marker": {
             "colorbar": {
              "outlinewidth": 0,
              "ticks": ""
             }
            },
            "type": "scattercarpet"
           }
          ],
          "scattergeo": [
           {
            "marker": {
             "colorbar": {
              "outlinewidth": 0,
              "ticks": ""
             }
            },
            "type": "scattergeo"
           }
          ],
          "scattergl": [
           {
            "marker": {
             "colorbar": {
              "outlinewidth": 0,
              "ticks": ""
             }
            },
            "type": "scattergl"
           }
          ],
          "scattermapbox": [
           {
            "marker": {
             "colorbar": {
              "outlinewidth": 0,
              "ticks": ""
             }
            },
            "type": "scattermapbox"
           }
          ],
          "scatterpolar": [
           {
            "marker": {
             "colorbar": {
              "outlinewidth": 0,
              "ticks": ""
             }
            },
            "type": "scatterpolar"
           }
          ],
          "scatterpolargl": [
           {
            "marker": {
             "colorbar": {
              "outlinewidth": 0,
              "ticks": ""
             }
            },
            "type": "scatterpolargl"
           }
          ],
          "scatterternary": [
           {
            "marker": {
             "colorbar": {
              "outlinewidth": 0,
              "ticks": ""
             }
            },
            "type": "scatterternary"
           }
          ],
          "surface": [
           {
            "colorbar": {
             "outlinewidth": 0,
             "ticks": ""
            },
            "colorscale": [
             [
              0,
              "#0d0887"
             ],
             [
              0.1111111111111111,
              "#46039f"
             ],
             [
              0.2222222222222222,
              "#7201a8"
             ],
             [
              0.3333333333333333,
              "#9c179e"
             ],
             [
              0.4444444444444444,
              "#bd3786"
             ],
             [
              0.5555555555555556,
              "#d8576b"
             ],
             [
              0.6666666666666666,
              "#ed7953"
             ],
             [
              0.7777777777777778,
              "#fb9f3a"
             ],
             [
              0.8888888888888888,
              "#fdca26"
             ],
             [
              1,
              "#f0f921"
             ]
            ],
            "type": "surface"
           }
          ],
          "table": [
           {
            "cells": {
             "fill": {
              "color": "#EBF0F8"
             },
             "line": {
              "color": "white"
             }
            },
            "header": {
             "fill": {
              "color": "#C8D4E3"
             },
             "line": {
              "color": "white"
             }
            },
            "type": "table"
           }
          ]
         },
         "layout": {
          "annotationdefaults": {
           "arrowcolor": "#2a3f5f",
           "arrowhead": 0,
           "arrowwidth": 1
          },
          "autotypenumbers": "strict",
          "coloraxis": {
           "colorbar": {
            "outlinewidth": 0,
            "ticks": ""
           }
          },
          "colorscale": {
           "diverging": [
            [
             0,
             "#8e0152"
            ],
            [
             0.1,
             "#c51b7d"
            ],
            [
             0.2,
             "#de77ae"
            ],
            [
             0.3,
             "#f1b6da"
            ],
            [
             0.4,
             "#fde0ef"
            ],
            [
             0.5,
             "#f7f7f7"
            ],
            [
             0.6,
             "#e6f5d0"
            ],
            [
             0.7,
             "#b8e186"
            ],
            [
             0.8,
             "#7fbc41"
            ],
            [
             0.9,
             "#4d9221"
            ],
            [
             1,
             "#276419"
            ]
           ],
           "sequential": [
            [
             0,
             "#0d0887"
            ],
            [
             0.1111111111111111,
             "#46039f"
            ],
            [
             0.2222222222222222,
             "#7201a8"
            ],
            [
             0.3333333333333333,
             "#9c179e"
            ],
            [
             0.4444444444444444,
             "#bd3786"
            ],
            [
             0.5555555555555556,
             "#d8576b"
            ],
            [
             0.6666666666666666,
             "#ed7953"
            ],
            [
             0.7777777777777778,
             "#fb9f3a"
            ],
            [
             0.8888888888888888,
             "#fdca26"
            ],
            [
             1,
             "#f0f921"
            ]
           ],
           "sequentialminus": [
            [
             0,
             "#0d0887"
            ],
            [
             0.1111111111111111,
             "#46039f"
            ],
            [
             0.2222222222222222,
             "#7201a8"
            ],
            [
             0.3333333333333333,
             "#9c179e"
            ],
            [
             0.4444444444444444,
             "#bd3786"
            ],
            [
             0.5555555555555556,
             "#d8576b"
            ],
            [
             0.6666666666666666,
             "#ed7953"
            ],
            [
             0.7777777777777778,
             "#fb9f3a"
            ],
            [
             0.8888888888888888,
             "#fdca26"
            ],
            [
             1,
             "#f0f921"
            ]
           ]
          },
          "colorway": [
           "#636efa",
           "#EF553B",
           "#00cc96",
           "#ab63fa",
           "#FFA15A",
           "#19d3f3",
           "#FF6692",
           "#B6E880",
           "#FF97FF",
           "#FECB52"
          ],
          "font": {
           "color": "#2a3f5f"
          },
          "geo": {
           "bgcolor": "white",
           "lakecolor": "white",
           "landcolor": "#E5ECF6",
           "showlakes": true,
           "showland": true,
           "subunitcolor": "white"
          },
          "hoverlabel": {
           "align": "left"
          },
          "hovermode": "closest",
          "mapbox": {
           "style": "light"
          },
          "paper_bgcolor": "white",
          "plot_bgcolor": "#E5ECF6",
          "polar": {
           "angularaxis": {
            "gridcolor": "white",
            "linecolor": "white",
            "ticks": ""
           },
           "bgcolor": "#E5ECF6",
           "radialaxis": {
            "gridcolor": "white",
            "linecolor": "white",
            "ticks": ""
           }
          },
          "scene": {
           "xaxis": {
            "backgroundcolor": "#E5ECF6",
            "gridcolor": "white",
            "gridwidth": 2,
            "linecolor": "white",
            "showbackground": true,
            "ticks": "",
            "zerolinecolor": "white"
           },
           "yaxis": {
            "backgroundcolor": "#E5ECF6",
            "gridcolor": "white",
            "gridwidth": 2,
            "linecolor": "white",
            "showbackground": true,
            "ticks": "",
            "zerolinecolor": "white"
           },
           "zaxis": {
            "backgroundcolor": "#E5ECF6",
            "gridcolor": "white",
            "gridwidth": 2,
            "linecolor": "white",
            "showbackground": true,
            "ticks": "",
            "zerolinecolor": "white"
           }
          },
          "shapedefaults": {
           "line": {
            "color": "#2a3f5f"
           }
          },
          "ternary": {
           "aaxis": {
            "gridcolor": "white",
            "linecolor": "white",
            "ticks": ""
           },
           "baxis": {
            "gridcolor": "white",
            "linecolor": "white",
            "ticks": ""
           },
           "bgcolor": "#E5ECF6",
           "caxis": {
            "gridcolor": "white",
            "linecolor": "white",
            "ticks": ""
           }
          },
          "title": {
           "x": 0.05
          },
          "xaxis": {
           "automargin": true,
           "gridcolor": "white",
           "linecolor": "white",
           "ticks": "",
           "title": {
            "standoff": 15
           },
           "zerolinecolor": "white",
           "zerolinewidth": 2
          },
          "yaxis": {
           "automargin": true,
           "gridcolor": "white",
           "linecolor": "white",
           "ticks": "",
           "title": {
            "standoff": 15
           },
           "zerolinecolor": "white",
           "zerolinewidth": 2
          }
         }
        },
        "title": {
         "text": "Football Recruits Movement from Hometown to University"
        },
        "width": 1000
       }
      },
      "image/png": "[encoded data removed]",
      "text/html": [
       "<div>                            <div id=\"03211e86-a70d-42d4-893e-6db7c296ce7d\" class=\"plotly-graph-div\" style=\"height:600px; width:1000px;\"></div>            <script type=\"text/javascript\">                require([\"plotly\"], function(Plotly) {                    window.PLOTLYENV=window.PLOTLYENV || {};                                    if (document.getElementById(\"03211e86-a70d-42d4-893e-6db7c296ce7d\")) {                    Plotly.newPlot(                        \"03211e86-a70d-42d4-893e-6db7c296ce7d\",                        [{\"lat\":[-14.3,46.7],\"line\":{\"color\":\"green\",\"width\":1},\"locationmode\":\"USA-states\",\"lon\":[-170.7,-117.2],\"mode\":\"lines\",\"opacity\":0.1111111111111111,\"type\":\"scattergeo\"},{\"lat\":[21.3,46.7],\"line\":{\"color\":\"green\",\"width\":1},\"locationmode\":\"USA-states\",\"lon\":[-158.1,-117.2],\"mode\":\"lines\",\"opacity\":0.1111111111111111,\"type\":\"scattergeo\"},{\"lat\":[21.3,28.6],\"line\":{\"color\":\"purple\",\"width\":1},\"locationmode\":\"USA-states\",\"lon\":[-158.0,-81.2],\"mode\":\"lines\",\"opacity\":0.1111111111111111,\"type\":\"scattergeo\"},{\"lat\":[21.3,40.8],\"line\":{\"color\":\"green\",\"width\":1},\"locationmode\":\"USA-states\",\"lon\":[-157.9,-111.8],\"mode\":\"lines\",\"opacity\":0.1111111111111111,\"type\":\"scattergeo\"},{\"lat\":[21.3,43.0],\"line\":{\"color\":\"lightblue\",\"width\":1},\"locationmode\":\"USA-states\",\"lon\":[-157.9,-76.1],\"mode\":\"lines\",\"opacity\":0.2222222222222222,\"type\":\"scattergeo\"},{\"lat\":[21.3,47.7],\"line\":{\"color\":\"green\",\"width\":1},\"locationmode\":\"USA-states\",\"lon\":[-157.9,-122.3],\"mode\":\"lines\",\"opacity\":0.1111111111111111,\"type\":\"scattergeo\"},{\"lat\":[21.5,37.9],\"line\":{\"color\":\"green\",\"width\":1},\"locationmode\":\"USA-states\",\"lon\":[-158.0,-122.3],\"mode\":\"lines\",\"opacity\":0.1111111111111111,\"type\":\"scattergeo\"},{\"lat\":[21.5,40.8],\"line\":{\"color\":\"blue\",\"width\":1},\"locationmode\":\"USA-states\",\"lon\":[-158.0,-96.7],\"mode\":\"lines\",\"opacity\":0.1111111111111111,\"type\":\"scattergeo\"},{\"lat\":[25.8,26.0],\"line\":{\"color\":\"lightblue\",\"width\":1},\"locationmode\":\"USA-states\",\"lon\":[-80.2,-80.2],\"mode\":\"lines\",\"opacity\":1.0,\"type\":\"scattergeo\"},{\"lat\":[25.8,29.6],\"line\":{\"color\":\"red\",\"width\":1},\"locationmode\":\"USA-states\",\"lon\":[-80.2,-82.3],\"mode\":\"lines\",\"opacity\":0.2222222222222222,\"type\":\"scattergeo\"},{\"lat\":[25.8,30.4],\"line\":{\"color\":\"lightblue\",\"width\":1},\"locationmode\":\"USA-states\",\"lon\":[-80.2,-84.3],\"mode\":\"lines\",\"opacity\":0.1111111111111111,\"type\":\"scattergeo\"},{\"lat\":[25.8,30.6],\"line\":{\"color\":\"red\",\"width\":1},\"locationmode\":\"USA-states\",\"lon\":[-80.2,-96.3],\"mode\":\"lines\",\"opacity\":0.2222222222222222,\"type\":\"scattergeo\"},{\"lat\":[25.8,38.2],\"line\":{\"color\":\"lightblue\",\"width\":1},\"locationmode\":\"USA-states\",\"lon\":[-80.2,-85.8],\"mode\":\"lines\",\"opacity\":0.1111111111111111,\"type\":\"scattergeo\"},{\"lat\":[25.8,39.1],\"line\":{\"color\":\"purple\",\"width\":1},\"locationmode\":\"USA-states\",\"lon\":[-80.2,-84.5],\"mode\":\"lines\",\"opacity\":0.1111111111111111,\"type\":\"scattergeo\"},{\"lat\":[25.8,39.7],\"line\":{\"color\":\"purple\",\"width\":1},\"locationmode\":\"USA-states\",\"lon\":[-80.2,-80.0],\"mode\":\"lines\",\"opacity\":0.1111111111111111,\"type\":\"scattergeo\"},{\"lat\":[25.8,46.7],\"line\":{\"color\":\"green\",\"width\":1},\"locationmode\":\"USA-states\",\"lon\":[-80.2,-117.2],\"mode\":\"lines\",\"opacity\":0.1111111111111111,\"type\":\"scattergeo\"},{\"lat\":[25.9,26.0],\"line\":{\"color\":\"lightblue\",\"width\":1},\"locationmode\":\"USA-states\",\"lon\":[-80.3,-80.2],\"mode\":\"lines\",\"opacity\":0.3333333333333333,\"type\":\"scattergeo\"},{\"lat\":[25.9,33.8],\"line\":{\"color\":\"lightblue\",\"width\":1},\"locationmode\":\"USA-states\",\"lon\":[-80.3,-84.4],\"mode\":\"lines\",\"opacity\":0.1111111111111111,\"type\":\"scattergeo\"},{\"lat\":[25.9,39.0],\"line\":{\"color\":\"blue\",\"width\":1},\"locationmode\":\"USA-states\",\"lon\":[-80.3,-76.9],\"mode\":\"lines\",\"opacity\":0.1111111111111111,\"type\":\"scattergeo\"},{\"lat\":[25.9,34.7],\"line\":{\"color\":\"lightblue\",\"width\":1},\"locationmode\":\"USA-states\",\"lon\":[-80.2,-82.8],\"mode\":\"lines\",\"opacity\":0.1111111111111111,\"type\":\"scattergeo\"},{\"lat\":[25.9,43.1],\"line\":{\"color\":\"blue\",\"width\":1},\"locationmode\":\"USA-states\",\"lon\":[-80.2,-89.4],\"mode\":\"lines\",\"opacity\":0.1111111111111111,\"type\":\"scattergeo\"},{\"lat\":[26.0,26.0],\"line\":{\"color\":\"lightblue\",\"width\":1},\"locationmode\":\"USA-states\",\"lon\":[-80.1,-80.2],\"mode\":\"lines\",\"opacity\":0.2222222222222222,\"type\":\"scattergeo\"},{\"lat\":[26.0,30.4],\"line\":{\"color\":\"lightblue\",\"width\":1},\"locationmode\":\"USA-states\",\"lon\":[-80.1,-84.3],\"mode\":\"lines\",\"opacity\":0.2222222222222222,\"type\":\"scattergeo\"},{\"lat\":[26.1,29.6],\"line\":{\"color\":\"red\",\"width\":1},\"locationmode\":\"USA-states\",\"lon\":[-81.8,-82.3],\"mode\":\"lines\",\"opacity\":0.1111111111111111,\"type\":\"scattergeo\"},{\"lat\":[26.1,40.1],\"line\":{\"color\":\"blue\",\"width\":1},\"locationmode\":\"USA-states\",\"lon\":[-81.8,-88.2],\"mode\":\"lines\",\"opacity\":0.1111111111111111,\"type\":\"scattergeo\"},{\"lat\":[26.1,40.8],\"line\":{\"color\":\"blue\",\"width\":1},\"locationmode\":\"USA-states\",\"lon\":[-81.8,-96.7],\"mode\":\"lines\",\"opacity\":0.1111111111111111,\"type\":\"scattergeo\"},{\"lat\":[26.1,26.0],\"line\":{\"color\":\"lightblue\",\"width\":1},\"locationmode\":\"USA-states\",\"lon\":[-80.1,-80.2],\"mode\":\"lines\",\"opacity\":0.1111111111111111,\"type\":\"scattergeo\"},{\"lat\":[26.1,29.6],\"line\":{\"color\":\"red\",\"width\":1},\"locationmode\":\"USA-states\",\"lon\":[-80.1,-82.3],\"mode\":\"lines\",\"opacity\":0.1111111111111111,\"type\":\"scattergeo\"},{\"lat\":[26.1,32.2],\"line\":{\"color\":\"green\",\"width\":1},\"locationmode\":\"USA-states\",\"lon\":[-80.1,-110.9],\"mode\":\"lines\",\"opacity\":0.1111111111111111,\"type\":\"scattergeo\"},{\"lat\":[26.1,33.2],\"line\":{\"color\":\"red\",\"width\":1},\"locationmode\":\"USA-states\",\"lon\":[-80.1,-87.6],\"mode\":\"lines\",\"opacity\":0.1111111111111111,\"type\":\"scattergeo\"},{\"lat\":[26.1,34.4],\"line\":{\"color\":\"red\",\"width\":1},\"locationmode\":\"USA-states\",\"lon\":[-80.1,-89.5],\"mode\":\"lines\",\"opacity\":0.1111111111111111,\"type\":\"scattergeo\"},{\"lat\":[26.1,34.7],\"line\":{\"color\":\"lightblue\",\"width\":1},\"locationmode\":\"USA-states\",\"lon\":[-80.1,-82.8],\"mode\":\"lines\",\"opacity\":0.1111111111111111,\"type\":\"scattergeo\"},{\"lat\":[26.1,36.1],\"line\":{\"color\":\"red\",\"width\":1},\"locationmode\":\"USA-states\",\"lon\":[-80.1,-86.8],\"mode\":\"lines\",\"opacity\":0.3333333333333333,\"type\":\"scattergeo\"},{\"lat\":[26.1,38.2],\"line\":{\"color\":\"lightblue\",\"width\":1},\"locationmode\":\"USA-states\",\"lon\":[-80.1,-85.8],\"mode\":\"lines\",\"opacity\":0.1111111111111111,\"type\":\"scattergeo\"},{\"lat\":[26.1,39.1],\"line\":{\"color\":\"purple\",\"width\":1},\"locationmode\":\"USA-states\",\"lon\":[-80.1,-84.5],\"mode\":\"lines\",\"opacity\":0.1111111111111111,\"type\":\"scattergeo\"},{\"lat\":[26.1,40.0],\"line\":{\"color\":\"green\",\"width\":1},\"locationmode\":\"USA-states\",\"lon\":[-80.1,-105.3],\"mode\":\"lines\",\"opacity\":0.1111111111111111,\"type\":\"scattergeo\"},{\"lat\":[26.1,40.4],\"line\":{\"color\":\"lightblue\",\"width\":1},\"locationmode\":\"USA-states\",\"lon\":[-80.1,-80.0],\"mode\":\"lines\",\"opacity\":0.1111111111111111,\"type\":\"scattergeo\"},{\"lat\":[26.1,42.3],\"line\":{\"color\":\"blue\",\"width\":1},\"locationmode\":\"USA-states\",\"lon\":[-80.1,-83.7],\"mode\":\"lines\",\"opacity\":0.2222222222222222,\"type\":\"scattergeo\"},{\"lat\":[26.1,43.0],\"line\":{\"color\":\"lightblue\",\"width\":1},\"locationmode\":\"USA-states\",\"lon\":[-80.1,-76.1],\"mode\":\"lines\",\"opacity\":0.1111111111111111,\"type\":\"scattergeo\"},{\"lat\":[26.2,26.0],\"line\":{\"color\":\"lightblue\",\"width\":1},\"locationmode\":\"USA-states\",\"lon\":[-80.1,-80.2],\"mode\":\"lines\",\"opacity\":0.1111111111111111,\"type\":\"scattergeo\"},{\"lat\":[26.2,30.3],\"line\":{\"color\":\"purple\",\"width\":1},\"locationmode\":\"USA-states\",\"lon\":[-80.1,-97.7],\"mode\":\"lines\",\"opacity\":0.1111111111111111,\"type\":\"scattergeo\"},{\"lat\":[26.3,40.4],\"line\":{\"color\":\"lightblue\",\"width\":1},\"locationmode\":\"USA-states\",\"lon\":[-80.1,-80.0],\"mode\":\"lines\",\"opacity\":0.1111111111111111,\"type\":\"scattergeo\"},{\"lat\":[26.4,38.2],\"line\":{\"color\":\"lightblue\",\"width\":1},\"locationmode\":\"USA-states\",\"lon\":[-80.1,-85.8],\"mode\":\"lines\",\"opacity\":0.1111111111111111,\"type\":\"scattergeo\"},{\"lat\":[26.5,28.6],\"line\":{\"color\":\"purple\",\"width\":1},\"locationmode\":\"USA-states\",\"lon\":[-80.1,-81.2],\"mode\":\"lines\",\"opacity\":0.1111111111111111,\"type\":\"scattergeo\"},{\"lat\":[26.6,26.0],\"line\":{\"color\":\"lightblue\",\"width\":1},\"locationmode\":\"USA-states\",\"lon\":[-81.9,-80.2],\"mode\":\"lines\",\"opacity\":0.1111111111111111,\"type\":\"scattergeo\"},{\"lat\":[26.6,29.6],\"line\":{\"color\":\"red\",\"width\":1},\"locationmode\":\"USA-states\",\"lon\":[-81.9,-82.3],\"mode\":\"lines\",\"opacity\":0.1111111111111111,\"type\":\"scattergeo\"},{\"lat\":[26.6,40.1],\"line\":{\"color\":\"blue\",\"width\":1},\"locationmode\":\"USA-states\",\"lon\":[-81.9,-88.2],\"mode\":\"lines\",\"opacity\":0.1111111111111111,\"type\":\"scattergeo\"},{\"lat\":[26.6,30.4],\"line\":{\"color\":\"lightblue\",\"width\":1},\"locationmode\":\"USA-states\",\"lon\":[-81.7,-84.3],\"mode\":\"lines\",\"opacity\":0.1111111111111111,\"type\":\"scattergeo\"},{\"lat\":[26.6,32.6],\"line\":{\"color\":\"red\",\"width\":1},\"locationmode\":\"USA-states\",\"lon\":[-81.7,-85.5],\"mode\":\"lines\",\"opacity\":0.1111111111111111,\"type\":\"scattergeo\"},{\"lat\":[26.6,43.1],\"line\":{\"color\":\"blue\",\"width\":1},\"locationmode\":\"USA-states\",\"lon\":[-81.7,-89.4],\"mode\":\"lines\",\"opacity\":0.1111111111111111,\"type\":\"scattergeo\"},{\"lat\":[26.7,28.6],\"line\":{\"color\":\"purple\",\"width\":1},\"locationmode\":\"USA-states\",\"lon\":[-80.1,-81.2],\"mode\":\"lines\",\"opacity\":0.1111111111111111,\"type\":\"scattergeo\"},{\"lat\":[27.1,28.6],\"line\":{\"color\":\"purple\",\"width\":1},\"locationmode\":\"USA-states\",\"lon\":[-82.5,-81.2],\"mode\":\"lines\",\"opacity\":0.1111111111111111,\"type\":\"scattergeo\"},{\"lat\":[27.1,39.0],\"line\":{\"color\":\"blue\",\"width\":1},\"locationmode\":\"USA-states\",\"lon\":[-82.5,-76.9],\"mode\":\"lines\",\"opacity\":0.1111111111111111,\"type\":\"scattergeo\"},{\"lat\":[27.1,42.7],\"line\":{\"color\":\"blue\",\"width\":1},\"locationmode\":\"USA-states\",\"lon\":[-82.5,-84.5],\"mode\":\"lines\",\"opacity\":0.2222222222222222,\"type\":\"scattergeo\"},{\"lat\":[27.5,28.6],\"line\":{\"color\":\"purple\",\"width\":1},\"locationmode\":\"USA-states\",\"lon\":[-82.6,-81.2],\"mode\":\"lines\",\"opacity\":0.1111111111111111,\"type\":\"scattergeo\"},{\"lat\":[27.5,30.4],\"line\":{\"color\":\"lightblue\",\"width\":1},\"locationmode\":\"USA-states\",\"lon\":[-82.6,-84.3],\"mode\":\"lines\",\"opacity\":0.1111111111111111,\"type\":\"scattergeo\"},{\"lat\":[27.5,33.2],\"line\":{\"color\":\"red\",\"width\":1},\"locationmode\":\"USA-states\",\"lon\":[-82.6,-87.6],\"mode\":\"lines\",\"opacity\":0.2222222222222222,\"type\":\"scattergeo\"},{\"lat\":[27.5,33.9],\"line\":{\"color\":\"red\",\"width\":1},\"locationmode\":\"USA-states\",\"lon\":[-82.6,-83.4],\"mode\":\"lines\",\"opacity\":0.2222222222222222,\"type\":\"scattergeo\"},{\"lat\":[27.5,34.0],\"line\":{\"color\":\"red\",\"width\":1},\"locationmode\":\"USA-states\",\"lon\":[-82.6,-81.0],\"mode\":\"lines\",\"opacity\":0.1111111111111111,\"type\":\"scattergeo\"},{\"lat\":[27.5,34.4],\"line\":{\"color\":\"red\",\"width\":1},\"locationmode\":\"USA-states\",\"lon\":[-82.6,-89.5],\"mode\":\"lines\",\"opacity\":0.1111111111111111,\"type\":\"scattergeo\"},{\"lat\":[27.5,37.2],\"line\":{\"color\":\"lightblue\",\"width\":1},\"locationmode\":\"USA-states\",\"lon\":[-82.6,-80.4],\"mode\":\"lines\",\"opacity\":0.1111111111111111,\"type\":\"scattergeo\"},{\"lat\":[27.5,40.4],\"line\":{\"color\":\"lightblue\",\"width\":1},\"locationmode\":\"USA-states\",\"lon\":[-82.6,-80.0],\"mode\":\"lines\",\"opacity\":0.1111111111111111,\"type\":\"scattergeo\"},{\"lat\":[27.5,42.3],\"line\":{\"color\":\"blue\",\"width\":1},\"locationmode\":\"USA-states\",\"lon\":[-82.6,-83.7],\"mode\":\"lines\",\"opacity\":0.1111111111111111,\"type\":\"scattergeo\"},{\"lat\":[27.5,42.3],\"line\":{\"color\":\"lightblue\",\"width\":1},\"locationmode\":\"USA-states\",\"lon\":[-82.6,-71.2],\"mode\":\"lines\",\"opacity\":0.1111111111111111,\"type\":\"scattergeo\"},{\"lat\":[27.6,33.2],\"line\":{\"color\":\"red\",\"width\":1},\"locationmode\":\"USA-states\",\"lon\":[-80.4,-87.6],\"mode\":\"lines\",\"opacity\":0.1111111111111111,\"type\":\"scattergeo\"},{\"lat\":[27.7,34.0],\"line\":{\"color\":\"green\",\"width\":1},\"locationmode\":\"USA-states\",\"lon\":[-97.4,-118.3],\"mode\":\"lines\",\"opacity\":0.1111111111111111,\"type\":\"scattergeo\"},{\"lat\":[27.8,33.5],\"line\":{\"color\":\"red\",\"width\":1},\"locationmode\":\"USA-states\",\"lon\":[-81.8,-88.8],\"mode\":\"lines\",\"opacity\":0.1111111111111111,\"type\":\"scattergeo\"},{\"lat\":[27.9,29.6],\"line\":{\"color\":\"red\",\"width\":1},\"locationmode\":\"USA-states\",\"lon\":[-82.5,-82.3],\"mode\":\"lines\",\"opacity\":0.2222222222222222,\"type\":\"scattergeo\"},{\"lat\":[27.9,34.0],\"line\":{\"color\":\"green\",\"width\":1},\"locationmode\":\"USA-states\",\"lon\":[-82.5,-118.3],\"mode\":\"lines\",\"opacity\":0.1111111111111111,\"type\":\"scattergeo\"},{\"lat\":[27.9,37.2],\"line\":{\"color\":\"lightblue\",\"width\":1},\"locationmode\":\"USA-states\",\"lon\":[-82.5,-80.4],\"mode\":\"lines\",\"opacity\":0.1111111111111111,\"type\":\"scattergeo\"},{\"lat\":[27.9,39.2],\"line\":{\"color\":\"purple\",\"width\":1},\"locationmode\":\"USA-states\",\"lon\":[-82.5,-96.6],\"mode\":\"lines\",\"opacity\":0.1111111111111111,\"type\":\"scattergeo\"},{\"lat\":[27.9,40.1],\"line\":{\"color\":\"blue\",\"width\":1},\"locationmode\":\"USA-states\",\"lon\":[-82.5,-88.2],\"mode\":\"lines\",\"opacity\":0.1111111111111111,\"type\":\"scattergeo\"},{\"lat\":[27.9,40.5],\"line\":{\"color\":\"blue\",\"width\":1},\"locationmode\":\"USA-states\",\"lon\":[-82.5,-74.5],\"mode\":\"lines\",\"opacity\":0.2222222222222222,\"type\":\"scattergeo\"},{\"lat\":[27.9,40.8],\"line\":{\"color\":\"green\",\"width\":1},\"locationmode\":\"USA-states\",\"lon\":[-82.5,-111.8],\"mode\":\"lines\",\"opacity\":0.1111111111111111,\"type\":\"scattergeo\"},{\"lat\":[27.9,33.2],\"line\":{\"color\":\"red\",\"width\":1},\"locationmode\":\"USA-states\",\"lon\":[-82.2,-87.6],\"mode\":\"lines\",\"opacity\":0.1111111111111111,\"type\":\"scattergeo\"},{\"lat\":[28.0,33.5],\"line\":{\"color\":\"red\",\"width\":1},\"locationmode\":\"USA-states\",\"lon\":[-82.8,-88.8],\"mode\":\"lines\",\"opacity\":0.1111111111111111,\"type\":\"scattergeo\"},{\"lat\":[28.0,37.4],\"line\":{\"color\":\"green\",\"width\":1},\"locationmode\":\"USA-states\",\"lon\":[-82.8,-122.2],\"mode\":\"lines\",\"opacity\":0.1111111111111111,\"type\":\"scattergeo\"},{\"lat\":[28.0,29.6],\"line\":{\"color\":\"red\",\"width\":1},\"locationmode\":\"USA-states\",\"lon\":[-82.3,-82.3],\"mode\":\"lines\",\"opacity\":0.1111111111111111,\"type\":\"scattergeo\"},{\"lat\":[28.0,40.4],\"line\":{\"color\":\"lightblue\",\"width\":1},\"locationmode\":\"USA-states\",\"lon\":[-82.3,-80.0],\"mode\":\"lines\",\"opacity\":0.1111111111111111,\"type\":\"scattergeo\"},{\"lat\":[28.0,35.2],\"line\":{\"color\":\"purple\",\"width\":1},\"locationmode\":\"USA-states\",\"lon\":[-82.1,-97.4],\"mode\":\"lines\",\"opacity\":0.1111111111111111,\"type\":\"scattergeo\"},{\"lat\":[28.0,34.7],\"line\":{\"color\":\"lightblue\",\"width\":1},\"locationmode\":\"USA-states\",\"lon\":[-81.9,-82.8],\"mode\":\"lines\",\"opacity\":0.1111111111111111,\"type\":\"scattergeo\"},{\"lat\":[28.0,46.7],\"line\":{\"color\":\"green\",\"width\":1},\"locationmode\":\"USA-states\",\"lon\":[-81.9,-117.2],\"mode\":\"lines\",\"opacity\":0.1111111111111111,\"type\":\"scattergeo\"},{\"lat\":[28.1,40.1],\"line\":{\"color\":\"blue\",\"width\":1},\"locationmode\":\"USA-states\",\"lon\":[-82.7,-88.2],\"mode\":\"lines\",\"opacity\":0.1111111111111111,\"type\":\"scattergeo\"},{\"lat\":[28.1,39.7],\"line\":{\"color\":\"purple\",\"width\":1},\"locationmode\":\"USA-states\",\"lon\":[-81.8,-80.0],\"mode\":\"lines\",\"opacity\":0.1111111111111111,\"type\":\"scattergeo\"},{\"lat\":[28.1,26.0],\"line\":{\"color\":\"lightblue\",\"width\":1},\"locationmode\":\"USA-states\",\"lon\":[-80.6,-80.2],\"mode\":\"lines\",\"opacity\":0.1111111111111111,\"type\":\"scattergeo\"},{\"lat\":[28.1,34.4],\"line\":{\"color\":\"red\",\"width\":1},\"locationmode\":\"USA-states\",\"lon\":[-80.6,-89.5],\"mode\":\"lines\",\"opacity\":0.1111111111111111,\"type\":\"scattergeo\"},{\"lat\":[28.1,38.9],\"line\":{\"color\":\"red\",\"width\":1},\"locationmode\":\"USA-states\",\"lon\":[-80.6,-92.3],\"mode\":\"lines\",\"opacity\":0.1111111111111111,\"type\":\"scattergeo\"},{\"lat\":[28.1,40.5],\"line\":{\"color\":\"blue\",\"width\":1},\"locationmode\":\"USA-states\",\"lon\":[-80.6,-74.5],\"mode\":\"lines\",\"opacity\":0.1111111111111111,\"type\":\"scattergeo\"},{\"lat\":[28.2,42.0],\"line\":{\"color\":\"purple\",\"width\":1},\"locationmode\":\"USA-states\",\"lon\":[-82.5,-93.6],\"mode\":\"lines\",\"opacity\":0.1111111111111111,\"type\":\"scattergeo\"},{\"lat\":[28.3,36.1],\"line\":{\"color\":\"red\",\"width\":1},\"locationmode\":\"USA-states\",\"lon\":[-81.4,-86.8],\"mode\":\"lines\",\"opacity\":0.1111111111111111,\"type\":\"scattergeo\"},{\"lat\":[28.3,36.1],\"line\":{\"color\":\"red\",\"width\":1},\"locationmode\":\"USA-states\",\"lon\":[-80.7,-94.2],\"mode\":\"lines\",\"opacity\":0.1111111111111111,\"type\":\"scattergeo\"},{\"lat\":[28.3,38.9],\"line\":{\"color\":\"red\",\"width\":1},\"locationmode\":\"USA-states\",\"lon\":[-80.7,-92.3],\"mode\":\"lines\",\"opacity\":0.1111111111111111,\"type\":\"scattergeo\"},{\"lat\":[28.4,33.8],\"line\":{\"color\":\"lightblue\",\"width\":1},\"locationmode\":\"USA-states\",\"lon\":[-80.7,-84.4],\"mode\":\"lines\",\"opacity\":0.1111111111111111,\"type\":\"scattergeo\"},{\"lat\":[28.4,38.2],\"line\":{\"color\":\"lightblue\",\"width\":1},\"locationmode\":\"USA-states\",\"lon\":[-80.7,-85.8],\"mode\":\"lines\",\"opacity\":0.1111111111111111,\"type\":\"scattergeo\"},{\"lat\":[28.4,38.9],\"line\":{\"color\":\"red\",\"width\":1},\"locationmode\":\"USA-states\",\"lon\":[-80.7,-92.3],\"mode\":\"lines\",\"opacity\":0.1111111111111111,\"type\":\"scattergeo\"},{\"lat\":[28.4,39.7],\"line\":{\"color\":\"purple\",\"width\":1},\"locationmode\":\"USA-states\",\"lon\":[-80.7,-80.0],\"mode\":\"lines\",\"opacity\":0.1111111111111111,\"type\":\"scattergeo\"},{\"lat\":[28.4,40.1],\"line\":{\"color\":\"blue\",\"width\":1},\"locationmode\":\"USA-states\",\"lon\":[-80.7,-88.2],\"mode\":\"lines\",\"opacity\":0.1111111111111111,\"type\":\"scattergeo\"},{\"lat\":[28.5,30.4],\"line\":{\"color\":\"lightblue\",\"width\":1},\"locationmode\":\"USA-states\",\"lon\":[-81.4,-84.3],\"mode\":\"lines\",\"opacity\":0.1111111111111111,\"type\":\"scattergeo\"},{\"lat\":[28.5,33.2],\"line\":{\"color\":\"red\",\"width\":1},\"locationmode\":\"USA-states\",\"lon\":[-81.4,-87.6],\"mode\":\"lines\",\"opacity\":0.1111111111111111,\"type\":\"scattergeo\"},{\"lat\":[28.5,33.4],\"line\":{\"color\":\"green\",\"width\":1},\"locationmode\":\"USA-states\",\"lon\":[-81.4,-111.9],\"mode\":\"lines\",\"opacity\":0.1111111111111111,\"type\":\"scattergeo\"},{\"lat\":[28.5,40.4],\"line\":{\"color\":\"blue\",\"width\":1},\"locationmode\":\"USA-states\",\"lon\":[-81.4,-86.9],\"mode\":\"lines\",\"opacity\":0.1111111111111111,\"type\":\"scattergeo\"},{\"lat\":[28.6,35.2],\"line\":{\"color\":\"purple\",\"width\":1},\"locationmode\":\"USA-states\",\"lon\":[-81.6,-97.4],\"mode\":\"lines\",\"opacity\":0.1111111111111111,\"type\":\"scattergeo\"},{\"lat\":[28.7,28.6],\"line\":{\"color\":\"purple\",\"width\":1},\"locationmode\":\"USA-states\",\"lon\":[-81.4,-81.2],\"mode\":\"lines\",\"opacity\":0.1111111111111111,\"type\":\"scattergeo\"},{\"lat\":[28.8,29.6],\"line\":{\"color\":\"red\",\"width\":1},\"locationmode\":\"USA-states\",\"lon\":[-81.3,-82.3],\"mode\":\"lines\",\"opacity\":0.1111111111111111,\"type\":\"scattergeo\"},{\"lat\":[29.0,39.0],\"line\":{\"color\":\"purple\",\"width\":1},\"locationmode\":\"USA-states\",\"lon\":[-96.5,-95.2],\"mode\":\"lines\",\"opacity\":0.1111111111111111,\"type\":\"scattergeo\"},{\"lat\":[29.0,33.5],\"line\":{\"color\":\"red\",\"width\":1},\"locationmode\":\"USA-states\",\"lon\":[-81.3,-88.8],\"mode\":\"lines\",\"opacity\":0.1111111111111111,\"type\":\"scattergeo\"},{\"lat\":[29.2,29.6],\"line\":{\"color\":\"red\",\"width\":1},\"locationmode\":\"USA-states\",\"lon\":[-82.1,-82.3],\"mode\":\"lines\",\"opacity\":0.1111111111111111,\"type\":\"scattergeo\"},{\"lat\":[29.2,30.4],\"line\":{\"color\":\"red\",\"width\":1},\"locationmode\":\"USA-states\",\"lon\":[-82.1,-91.2],\"mode\":\"lines\",\"opacity\":0.1111111111111111,\"type\":\"scattergeo\"},{\"lat\":[29.2,32.6],\"line\":{\"color\":\"red\",\"width\":1},\"locationmode\":\"USA-states\",\"lon\":[-82.1,-85.5],\"mode\":\"lines\",\"opacity\":0.1111111111111111,\"type\":\"scattergeo\"},{\"lat\":[29.4,36.1],\"line\":{\"color\":\"red\",\"width\":1},\"locationmode\":\"USA-states\",\"lon\":[-98.5,-94.2],\"mode\":\"lines\",\"opacity\":0.1111111111111111,\"type\":\"scattergeo\"},{\"lat\":[29.4,30.3],\"line\":{\"color\":\"purple\",\"width\":1},\"locationmode\":\"USA-states\",\"lon\":[-96.9,-97.7],\"mode\":\"lines\",\"opacity\":0.1111111111111111,\"type\":\"scattergeo\"},{\"lat\":[29.5,33.5],\"line\":{\"color\":\"red\",\"width\":1},\"locationmode\":\"USA-states\",\"lon\":[-95.1,-88.8],\"mode\":\"lines\",\"opacity\":0.1111111111111111,\"type\":\"scattergeo\"},{\"lat\":[29.6,30.6],\"line\":{\"color\":\"red\",\"width\":1},\"locationmode\":\"USA-states\",\"lon\":[-95.8,-96.3],\"mode\":\"lines\",\"opacity\":0.1111111111111111,\"type\":\"scattergeo\"},{\"lat\":[29.6,31.6],\"line\":{\"color\":\"purple\",\"width\":1},\"locationmode\":\"USA-states\",\"lon\":[-95.8,-97.1],\"mode\":\"lines\",\"opacity\":0.1111111111111111,\"type\":\"scattergeo\"},{\"lat\":[29.6,35.2],\"line\":{\"color\":\"purple\",\"width\":1},\"locationmode\":\"USA-states\",\"lon\":[-95.8,-97.4],\"mode\":\"lines\",\"opacity\":0.1111111111111111,\"type\":\"scattergeo\"},{\"lat\":[29.6,42.0],\"line\":{\"color\":\"purple\",\"width\":1},\"locationmode\":\"USA-states\",\"lon\":[-95.8,-93.6],\"mode\":\"lines\",\"opacity\":0.1111111111111111,\"type\":\"scattergeo\"},{\"lat\":[29.6,30.6],\"line\":{\"color\":\"red\",\"width\":1},\"locationmode\":\"USA-states\",\"lon\":[-95.6,-96.3],\"mode\":\"lines\",\"opacity\":0.1111111111111111,\"type\":\"scattergeo\"},{\"lat\":[29.6,36.1],\"line\":{\"color\":\"purple\",\"width\":1},\"locationmode\":\"USA-states\",\"lon\":[-95.5,-97.1],\"mode\":\"lines\",\"opacity\":0.1111111111111111,\"type\":\"scattergeo\"},{\"lat\":[29.6,40.8],\"line\":{\"color\":\"blue\",\"width\":1},\"locationmode\":\"USA-states\",\"lon\":[-95.5,-96.7],\"mode\":\"lines\",\"opacity\":0.1111111111111111,\"type\":\"scattergeo\"},{\"lat\":[29.6,29.7],\"line\":{\"color\":\"purple\",\"width\":1},\"locationmode\":\"USA-states\",\"lon\":[-95.3,-95.3],\"mode\":\"lines\",\"opacity\":0.2222222222222222,\"type\":\"scattergeo\"},{\"lat\":[29.6,30.3],\"line\":{\"color\":\"purple\",\"width\":1},\"locationmode\":\"USA-states\",\"lon\":[-95.3,-97.7],\"mode\":\"lines\",\"opacity\":0.1111111111111111,\"type\":\"scattergeo\"},{\"lat\":[29.6,31.6],\"line\":{\"color\":\"purple\",\"width\":1},\"locationmode\":\"USA-states\",\"lon\":[-95.3,-97.1],\"mode\":\"lines\",\"opacity\":0.1111111111111111,\"type\":\"scattergeo\"},{\"lat\":[29.6,40.0],\"line\":{\"color\":\"green\",\"width\":1},\"locationmode\":\"USA-states\",\"lon\":[-95.3,-105.3],\"mode\":\"lines\",\"opacity\":0.1111111111111111,\"type\":\"scattergeo\"},{\"lat\":[29.6,30.4],\"line\":{\"color\":\"red\",\"width\":1},\"locationmode\":\"USA-states\",\"lon\":[-90.7,-91.2],\"mode\":\"lines\",\"opacity\":0.1111111111111111,\"type\":\"scattergeo\"},{\"lat\":[29.7,35.2],\"line\":{\"color\":\"purple\",\"width\":1},\"locationmode\":\"USA-states\",\"lon\":[-95.5,-97.4],\"mode\":\"lines\",\"opacity\":0.1111111111111111,\"type\":\"scattergeo\"},{\"lat\":[29.7,40.0],\"line\":{\"color\":\"blue\",\"width\":1},\"locationmode\":\"USA-states\",\"lon\":[-95.5,-83.0],\"mode\":\"lines\",\"opacity\":0.1111111111111111,\"type\":\"scattergeo\"},{\"lat\":[29.7,30.6],\"line\":{\"color\":\"red\",\"width\":1},\"locationmode\":\"USA-states\",\"lon\":[-95.0,-96.3],\"mode\":\"lines\",\"opacity\":0.1111111111111111,\"type\":\"scattergeo\"},{\"lat\":[29.7,30.4],\"line\":{\"color\":\"lightblue\",\"width\":1},\"locationmode\":\"USA-states\",\"lon\":[-85.0,-84.3],\"mode\":\"lines\",\"opacity\":0.1111111111111111,\"type\":\"scattergeo\"},{\"lat\":[29.8,30.3],\"line\":{\"color\":\"purple\",\"width\":1},\"locationmode\":\"USA-states\",\"lon\":[-95.8,-97.7],\"mode\":\"lines\",\"opacity\":0.1111111111111111,\"type\":\"scattergeo\"},{\"lat\":[29.8,30.4],\"line\":{\"color\":\"lightblue\",\"width\":1},\"locationmode\":\"USA-states\",\"lon\":[-95.8,-84.3],\"mode\":\"lines\",\"opacity\":0.1111111111111111,\"type\":\"scattergeo\"},{\"lat\":[29.8,30.6],\"line\":{\"color\":\"red\",\"width\":1},\"locationmode\":\"USA-states\",\"lon\":[-95.8,-96.3],\"mode\":\"lines\",\"opacity\":0.3333333333333333,\"type\":\"scattergeo\"},{\"lat\":[29.8,32.2],\"line\":{\"color\":\"green\",\"width\":1},\"locationmode\":\"USA-states\",\"lon\":[-95.8,-110.9],\"mode\":\"lines\",\"opacity\":0.1111111111111111,\"type\":\"scattergeo\"},{\"lat\":[29.8,33.2],\"line\":{\"color\":\"red\",\"width\":1},\"locationmode\":\"USA-states\",\"lon\":[-95.8,-87.6],\"mode\":\"lines\",\"opacity\":0.1111111111111111,\"type\":\"scattergeo\"},{\"lat\":[29.8,34.0],\"line\":{\"color\":\"green\",\"width\":1},\"locationmode\":\"USA-states\",\"lon\":[-95.8,-118.3],\"mode\":\"lines\",\"opacity\":0.1111111111111111,\"type\":\"scattergeo\"},{\"lat\":[29.8,40.0],\"line\":{\"color\":\"green\",\"width\":1},\"locationmode\":\"USA-states\",\"lon\":[-95.8,-105.3],\"mode\":\"lines\",\"opacity\":0.1111111111111111,\"type\":\"scattergeo\"},{\"lat\":[29.8,29.7],\"line\":{\"color\":\"purple\",\"width\":1},\"locationmode\":\"USA-states\",\"lon\":[-95.4,-95.3],\"mode\":\"lines\",\"opacity\":0.2222222222222222,\"type\":\"scattergeo\"},{\"lat\":[29.8,30.3],\"line\":{\"color\":\"purple\",\"width\":1},\"locationmode\":\"USA-states\",\"lon\":[-95.4,-97.7],\"mode\":\"lines\",\"opacity\":0.1111111111111111,\"type\":\"scattergeo\"},{\"lat\":[29.8,30.6],\"line\":{\"color\":\"red\",\"width\":1},\"locationmode\":\"USA-states\",\"lon\":[-95.4,-96.3],\"mode\":\"lines\",\"opacity\":0.1111111111111111,\"type\":\"scattergeo\"},{\"lat\":[29.8,31.6],\"line\":{\"color\":\"purple\",\"width\":1},\"locationmode\":\"USA-states\",\"lon\":[-95.4,-97.1],\"mode\":\"lines\",\"opacity\":0.1111111111111111,\"type\":\"scattergeo\"},{\"lat\":[29.8,32.2],\"line\":{\"color\":\"green\",\"width\":1},\"locationmode\":\"USA-states\",\"lon\":[-95.4,-110.9],\"mode\":\"lines\",\"opacity\":0.1111111111111111,\"type\":\"scattergeo\"},{\"lat\":[29.8,32.6],\"line\":{\"color\":\"red\",\"width\":1},\"locationmode\":\"USA-states\",\"lon\":[-95.4,-85.5],\"mode\":\"lines\",\"opacity\":0.1111111111111111,\"type\":\"scattergeo\"},{\"lat\":[29.8,32.7],\"line\":{\"color\":\"purple\",\"width\":1},\"locationmode\":\"USA-states\",\"lon\":[-95.4,-97.4],\"mode\":\"lines\",\"opacity\":0.2222222222222222,\"type\":\"scattergeo\"},{\"lat\":[29.8,33.2],\"line\":{\"color\":\"red\",\"width\":1},\"locationmode\":\"USA-states\",\"lon\":[-95.4,-87.6],\"mode\":\"lines\",\"opacity\":0.1111111111111111,\"type\":\"scattergeo\"},{\"lat\":[29.8,33.4],\"line\":{\"color\":\"green\",\"width\":1},\"locationmode\":\"USA-states\",\"lon\":[-91.5,-111.9],\"mode\":\"lines\",\"opacity\":0.1111111111111111,\"type\":\"scattergeo\"},{\"lat\":[29.9,30.3],\"line\":{\"color\":\"purple\",\"width\":1},\"locationmode\":\"USA-states\",\"lon\":[-93.9,-97.7],\"mode\":\"lines\",\"opacity\":0.2222222222222222,\"type\":\"scattergeo\"},{\"lat\":[29.9,30.3],\"line\":{\"color\":\"purple\",\"width\":1},\"locationmode\":\"USA-states\",\"lon\":[-90.1,-97.7],\"mode\":\"lines\",\"opacity\":0.2222222222222222,\"type\":\"scattergeo\"},{\"lat\":[29.9,30.4],\"line\":{\"color\":\"lightblue\",\"width\":1},\"locationmode\":\"USA-states\",\"lon\":[-90.1,-84.3],\"mode\":\"lines\",\"opacity\":0.2222222222222222,\"type\":\"scattergeo\"},{\"lat\":[29.9,32.2],\"line\":{\"color\":\"green\",\"width\":1},\"locationmode\":\"USA-states\",\"lon\":[-90.1,-110.9],\"mode\":\"lines\",\"opacity\":0.1111111111111111,\"type\":\"scattergeo\"},{\"lat\":[29.9,33.2],\"line\":{\"color\":\"red\",\"width\":1},\"locationmode\":\"USA-states\",\"lon\":[-90.1,-87.6],\"mode\":\"lines\",\"opacity\":0.1111111111111111,\"type\":\"scattergeo\"},{\"lat\":[29.9,34.4],\"line\":{\"color\":\"red\",\"width\":1},\"locationmode\":\"USA-states\",\"lon\":[-90.1,-89.5],\"mode\":\"lines\",\"opacity\":0.1111111111111111,\"type\":\"scattergeo\"},{\"lat\":[29.9,35.9],\"line\":{\"color\":\"lightblue\",\"width\":1},\"locationmode\":\"USA-states\",\"lon\":[-82.1,-79.0],\"mode\":\"lines\",\"opacity\":0.1111111111111111,\"type\":\"scattergeo\"},{\"lat\":[29.9,45.0],\"line\":{\"color\":\"blue\",\"width\":1},\"locationmode\":\"USA-states\",\"lon\":[-81.3,-93.2],\"mode\":\"lines\",\"opacity\":0.1111111111111111,\"type\":\"scattergeo\"},{\"lat\":[30.0,30.6],\"line\":{\"color\":\"red\",\"width\":1},\"locationmode\":\"USA-states\",\"lon\":[-95.7,-96.3],\"mode\":\"lines\",\"opacity\":0.1111111111111111,\"type\":\"scattergeo\"},{\"lat\":[30.0,31.6],\"line\":{\"color\":\"purple\",\"width\":1},\"locationmode\":\"USA-states\",\"lon\":[-95.7,-97.1],\"mode\":\"lines\",\"opacity\":0.1111111111111111,\"type\":\"scattergeo\"},{\"lat\":[30.0,33.8],\"line\":{\"color\":\"lightblue\",\"width\":1},\"locationmode\":\"USA-states\",\"lon\":[-95.7,-84.4],\"mode\":\"lines\",\"opacity\":0.1111111111111111,\"type\":\"scattergeo\"},{\"lat\":[30.0,38.0],\"line\":{\"color\":\"lightblue\",\"width\":1},\"locationmode\":\"USA-states\",\"lon\":[-95.7,-78.5],\"mode\":\"lines\",\"opacity\":0.1111111111111111,\"type\":\"scattergeo\"},{\"lat\":[30.0,31.6],\"line\":{\"color\":\"purple\",\"width\":1},\"locationmode\":\"USA-states\",\"lon\":[-95.3,-97.1],\"mode\":\"lines\",\"opacity\":0.1111111111111111,\"type\":\"scattergeo\"},{\"lat\":[30.0,32.6],\"line\":{\"color\":\"red\",\"width\":1},\"locationmode\":\"USA-states\",\"lon\":[-95.3,-85.5],\"mode\":\"lines\",\"opacity\":0.1111111111111111,\"type\":\"scattergeo\"},{\"lat\":[30.0,30.4],\"line\":{\"color\":\"red\",\"width\":1},\"locationmode\":\"USA-states\",\"lon\":[-90.8,-91.2],\"mode\":\"lines\",\"opacity\":0.1111111111111111,\"type\":\"scattergeo\"},{\"lat\":[30.0,34.0],\"line\":{\"color\":\"red\",\"width\":1},\"locationmode\":\"USA-states\",\"lon\":[-90.2,-81.0],\"mode\":\"lines\",\"opacity\":0.1111111111111111,\"type\":\"scattergeo\"},{\"lat\":[30.1,34.0],\"line\":{\"color\":\"green\",\"width\":1},\"locationmode\":\"USA-states\",\"lon\":[-95.6,-118.3],\"mode\":\"lines\",\"opacity\":0.1111111111111111,\"type\":\"scattergeo\"},{\"lat\":[30.1,32.2],\"line\":{\"color\":\"green\",\"width\":1},\"locationmode\":\"USA-states\",\"lon\":[-95.4,-110.9],\"mode\":\"lines\",\"opacity\":0.1111111111111111,\"type\":\"scattergeo\"},{\"lat\":[30.1,33.6],\"line\":{\"color\":\"purple\",\"width\":1},\"locationmode\":\"USA-states\",\"lon\":[-95.4,-101.9],\"mode\":\"lines\",\"opacity\":0.1111111111111111,\"type\":\"scattergeo\"},{\"lat\":[30.1,31.6],\"line\":{\"color\":\"purple\",\"width\":1},\"locationmode\":\"USA-states\",\"lon\":[-93.7,-97.1],\"mode\":\"lines\",\"opacity\":0.1111111111111111,\"type\":\"scattergeo\"},{\"lat\":[30.1,30.4],\"line\":{\"color\":\"red\",\"width\":1},\"locationmode\":\"USA-states\",\"lon\":[-92.0,-91.2],\"mode\":\"lines\",\"opacity\":0.1111111111111111,\"type\":\"scattergeo\"},{\"lat\":[30.1,31.6],\"line\":{\"color\":\"purple\",\"width\":1},\"locationmode\":\"USA-states\",\"lon\":[-90.6,-97.1],\"mode\":\"lines\",\"opacity\":0.1111111111111111,\"type\":\"scattergeo\"},{\"lat\":[30.2,39.0],\"line\":{\"color\":\"purple\",\"width\":1},\"locationmode\":\"USA-states\",\"lon\":[-97.6,-95.2],\"mode\":\"lines\",\"opacity\":0.1111111111111111,\"type\":\"scattergeo\"},{\"lat\":[30.2,42.3],\"line\":{\"color\":\"blue\",\"width\":1},\"locationmode\":\"USA-states\",\"lon\":[-97.6,-83.7],\"mode\":\"lines\",\"opacity\":0.1111111111111111,\"type\":\"scattergeo\"},{\"lat\":[30.2,30.6],\"line\":{\"color\":\"red\",\"width\":1},\"locationmode\":\"USA-states\",\"lon\":[-95.8,-96.3],\"mode\":\"lines\",\"opacity\":0.1111111111111111,\"type\":\"scattergeo\"},{\"lat\":[30.2,33.5],\"line\":{\"color\":\"red\",\"width\":1},\"locationmode\":\"USA-states\",\"lon\":[-95.5,-88.8],\"mode\":\"lines\",\"opacity\":0.1111111111111111,\"type\":\"scattergeo\"},{\"lat\":[30.2,36.1],\"line\":{\"color\":\"lightblue\",\"width\":1},\"locationmode\":\"USA-states\",\"lon\":[-95.5,-80.3],\"mode\":\"lines\",\"opacity\":0.1111111111111111,\"type\":\"scattergeo\"},{\"lat\":[30.2,30.3],\"line\":{\"color\":\"purple\",\"width\":1},\"locationmode\":\"USA-states\",\"lon\":[-95.2,-97.7],\"mode\":\"lines\",\"opacity\":0.1111111111111111,\"type\":\"scattergeo\"},{\"lat\":[30.2,30.4],\"line\":{\"color\":\"red\",\"width\":1},\"locationmode\":\"USA-states\",\"lon\":[-92.0,-91.2],\"mode\":\"lines\",\"opacity\":0.2222222222222222,\"type\":\"scattergeo\"},{\"lat\":[30.2,30.4],\"line\":{\"color\":\"lightblue\",\"width\":1},\"locationmode\":\"USA-states\",\"lon\":[-82.6,-84.3],\"mode\":\"lines\",\"opacity\":0.1111111111111111,\"type\":\"scattergeo\"},{\"lat\":[30.2,35.8],\"line\":{\"color\":\"lightblue\",\"width\":1},\"locationmode\":\"USA-states\",\"lon\":[-81.4,-78.7],\"mode\":\"lines\",\"opacity\":0.1111111111111111,\"type\":\"scattergeo\"},{\"lat\":[30.3,30.3],\"line\":{\"color\":\"purple\",\"width\":1},\"locationmode\":\"USA-states\",\"lon\":[-97.7,-97.7],\"mode\":\"lines\",\"opacity\":0.1111111111111111,\"type\":\"scattergeo\"},{\"lat\":[30.3,34.0],\"line\":{\"color\":\"green\",\"width\":1},\"locationmode\":\"USA-states\",\"lon\":[-97.7,-118.3],\"mode\":\"lines\",\"opacity\":0.1111111111111111,\"type\":\"scattergeo\"},{\"lat\":[30.3,34.7],\"line\":{\"color\":\"lightblue\",\"width\":1},\"locationmode\":\"USA-states\",\"lon\":[-97.7,-82.8],\"mode\":\"lines\",\"opacity\":0.1111111111111111,\"type\":\"scattergeo\"},{\"lat\":[30.3,35.2],\"line\":{\"color\":\"purple\",\"width\":1},\"locationmode\":\"USA-states\",\"lon\":[-97.7,-97.4],\"mode\":\"lines\",\"opacity\":0.1111111111111111,\"type\":\"scattergeo\"},{\"lat\":[30.3,36.0],\"line\":{\"color\":\"lightblue\",\"width\":1},\"locationmode\":\"USA-states\",\"lon\":[-97.7,-78.9],\"mode\":\"lines\",\"opacity\":0.1111111111111111,\"type\":\"scattergeo\"},{\"lat\":[30.3,40.4],\"line\":{\"color\":\"lightblue\",\"width\":1},\"locationmode\":\"USA-states\",\"lon\":[-97.7,-80.0],\"mode\":\"lines\",\"opacity\":0.1111111111111111,\"type\":\"scattergeo\"},{\"lat\":[30.3,31.6],\"line\":{\"color\":\"purple\",\"width\":1},\"locationmode\":\"USA-states\",\"lon\":[-97.6,-97.1],\"mode\":\"lines\",\"opacity\":0.1111111111111111,\"type\":\"scattergeo\"},{\"lat\":[30.3,29.7],\"line\":{\"color\":\"purple\",\"width\":1},\"locationmode\":\"USA-states\",\"lon\":[-95.5,-95.3],\"mode\":\"lines\",\"opacity\":0.1111111111111111,\"type\":\"scattergeo\"},{\"lat\":[30.3,36.0],\"line\":{\"color\":\"lightblue\",\"width\":1},\"locationmode\":\"USA-states\",\"lon\":[-83.0,-78.9],\"mode\":\"lines\",\"opacity\":0.1111111111111111,\"type\":\"scattergeo\"},{\"lat\":[30.3,29.6],\"line\":{\"color\":\"red\",\"width\":1},\"locationmode\":\"USA-states\",\"lon\":[-81.7,-82.3],\"mode\":\"lines\",\"opacity\":0.3333333333333333,\"type\":\"scattergeo\"},{\"lat\":[30.3,33.5],\"line\":{\"color\":\"red\",\"width\":1},\"locationmode\":\"USA-states\",\"lon\":[-81.7,-88.8],\"mode\":\"lines\",\"opacity\":0.1111111111111111,\"type\":\"scattergeo\"},{\"lat\":[30.3,36.1],\"line\":{\"color\":\"lightblue\",\"width\":1},\"locationmode\":\"USA-states\",\"lon\":[-81.7,-80.3],\"mode\":\"lines\",\"opacity\":0.1111111111111111,\"type\":\"scattergeo\"},{\"lat\":[30.3,39.0],\"line\":{\"color\":\"blue\",\"width\":1},\"locationmode\":\"USA-states\",\"lon\":[-81.7,-76.9],\"mode\":\"lines\",\"opacity\":0.2222222222222222,\"type\":\"scattergeo\"},{\"lat\":[30.3,39.2],\"line\":{\"color\":\"blue\",\"width\":1},\"locationmode\":\"USA-states\",\"lon\":[-81.7,-86.5],\"mode\":\"lines\",\"opacity\":0.1111111111111111,\"type\":\"scattergeo\"},{\"lat\":[30.3,40.1],\"line\":{\"color\":\"blue\",\"width\":1},\"locationmode\":\"USA-states\",\"lon\":[-81.7,-88.2],\"mode\":\"lines\",\"opacity\":0.1111111111111111,\"type\":\"scattergeo\"},{\"lat\":[30.3,41.7],\"line\":{\"color\":\"blue\",\"width\":1},\"locationmode\":\"USA-states\",\"lon\":[-81.7,-91.6],\"mode\":\"lines\",\"opacity\":0.1111111111111111,\"type\":\"scattergeo\"},{\"lat\":[30.3,39.1],\"line\":{\"color\":\"purple\",\"width\":1},\"locationmode\":\"USA-states\",\"lon\":[-81.4,-84.5],\"mode\":\"lines\",\"opacity\":0.1111111111111111,\"type\":\"scattergeo\"},{\"lat\":[30.4,36.1],\"line\":{\"color\":\"red\",\"width\":1},\"locationmode\":\"USA-states\",\"lon\":[-91.9,-94.2],\"mode\":\"lines\",\"opacity\":0.1111111111111111,\"type\":\"scattergeo\"},{\"lat\":[30.4,30.6],\"line\":{\"color\":\"red\",\"width\":1},\"locationmode\":\"USA-states\",\"lon\":[-91.2,-96.3],\"mode\":\"lines\",\"opacity\":0.1111111111111111,\"type\":\"scattergeo\"},{\"lat\":[30.4,32.7],\"line\":{\"color\":\"purple\",\"width\":1},\"locationmode\":\"USA-states\",\"lon\":[-91.2,-97.4],\"mode\":\"lines\",\"opacity\":0.1111111111111111,\"type\":\"scattergeo\"},{\"lat\":[30.4,40.4],\"line\":{\"color\":\"blue\",\"width\":1},\"locationmode\":\"USA-states\",\"lon\":[-91.2,-86.9],\"mode\":\"lines\",\"opacity\":0.1111111111111111,\"type\":\"scattergeo\"},{\"lat\":[30.4,34.4],\"line\":{\"color\":\"red\",\"width\":1},\"locationmode\":\"USA-states\",\"lon\":[-90.1,-89.5],\"mode\":\"lines\",\"opacity\":0.1111111111111111,\"type\":\"scattergeo\"},{\"lat\":[30.4,33.5],\"line\":{\"color\":\"red\",\"width\":1},\"locationmode\":\"USA-states\",\"lon\":[-89.1,-88.8],\"mode\":\"lines\",\"opacity\":0.1111111111111111,\"type\":\"scattergeo\"},{\"lat\":[30.4,34.4],\"line\":{\"color\":\"red\",\"width\":1},\"locationmode\":\"USA-states\",\"lon\":[-88.8,-89.5],\"mode\":\"lines\",\"opacity\":0.1111111111111111,\"type\":\"scattergeo\"},{\"lat\":[30.4,45.0],\"line\":{\"color\":\"blue\",\"width\":1},\"locationmode\":\"USA-states\",\"lon\":[-88.8,-93.2],\"mode\":\"lines\",\"opacity\":0.1111111111111111,\"type\":\"scattergeo\"},{\"lat\":[30.4,30.4],\"line\":{\"color\":\"red\",\"width\":1},\"locationmode\":\"USA-states\",\"lon\":[-87.2,-91.2],\"mode\":\"lines\",\"opacity\":0.1111111111111111,\"type\":\"scattergeo\"},{\"lat\":[30.4,33.5],\"line\":{\"color\":\"red\",\"width\":1},\"locationmode\":\"USA-states\",\"lon\":[-87.2,-88.8],\"mode\":\"lines\",\"opacity\":0.1111111111111111,\"type\":\"scattergeo\"},{\"lat\":[30.4,32.6],\"line\":{\"color\":\"red\",\"width\":1},\"locationmode\":\"USA-states\",\"lon\":[-84.3,-85.5],\"mode\":\"lines\",\"opacity\":0.1111111111111111,\"type\":\"scattergeo\"},{\"lat\":[30.4,33.2],\"line\":{\"color\":\"red\",\"width\":1},\"locationmode\":\"USA-states\",\"lon\":[-84.3,-87.6],\"mode\":\"lines\",\"opacity\":0.1111111111111111,\"type\":\"scattergeo\"},{\"lat\":[30.4,36.0],\"line\":{\"color\":\"red\",\"width\":1},\"locationmode\":\"USA-states\",\"lon\":[-84.3,-83.9],\"mode\":\"lines\",\"opacity\":0.1111111111111111,\"type\":\"scattergeo\"},{\"lat\":[30.5,32.7],\"line\":{\"color\":\"purple\",\"width\":1},\"locationmode\":\"USA-states\",\"lon\":[-97.5,-97.4],\"mode\":\"lines\",\"opacity\":0.1111111111111111,\"type\":\"scattergeo\"},{\"lat\":[30.5,42.7],\"line\":{\"color\":\"blue\",\"width\":1},\"locationmode\":\"USA-states\",\"lon\":[-92.1,-84.5],\"mode\":\"lines\",\"opacity\":0.1111111111111111,\"type\":\"scattergeo\"},{\"lat\":[30.5,30.4],\"line\":{\"color\":\"red\",\"width\":1},\"locationmode\":\"USA-states\",\"lon\":[-90.9,-91.2],\"mode\":\"lines\",\"opacity\":0.1111111111111111,\"type\":\"scattergeo\"},{\"lat\":[30.5,36.0],\"line\":{\"color\":\"lightblue\",\"width\":1},\"locationmode\":\"USA-states\",\"lon\":[-87.9,-78.9],\"mode\":\"lines\",\"opacity\":0.1111111111111111,\"type\":\"scattergeo\"},{\"lat\":[30.5,30.4],\"line\":{\"color\":\"red\",\"width\":1},\"locationmode\":\"USA-states\",\"lon\":[-86.5,-91.2],\"mode\":\"lines\",\"opacity\":0.1111111111111111,\"type\":\"scattergeo\"},{\"lat\":[30.6,30.4],\"line\":{\"color\":\"red\",\"width\":1},\"locationmode\":\"USA-states\",\"lon\":[-91.2,-91.2],\"mode\":\"lines\",\"opacity\":0.1111111111111111,\"type\":\"scattergeo\"},{\"lat\":[30.6,32.7],\"line\":{\"color\":\"purple\",\"width\":1},\"locationmode\":\"USA-states\",\"lon\":[-87.9,-97.4],\"mode\":\"lines\",\"opacity\":0.1111111111111111,\"type\":\"scattergeo\"},{\"lat\":[30.6,32.6],\"line\":{\"color\":\"red\",\"width\":1},\"locationmode\":\"USA-states\",\"lon\":[-87.0,-85.5],\"mode\":\"lines\",\"opacity\":0.1111111111111111,\"type\":\"scattergeo\"},{\"lat\":[30.6,40.1],\"line\":{\"color\":\"blue\",\"width\":1},\"locationmode\":\"USA-states\",\"lon\":[-87.0,-88.2],\"mode\":\"lines\",\"opacity\":0.1111111111111111,\"type\":\"scattergeo\"},{\"lat\":[30.6,39.0],\"line\":{\"color\":\"purple\",\"width\":1},\"locationmode\":\"USA-states\",\"lon\":[-84.6,-95.2],\"mode\":\"lines\",\"opacity\":0.1111111111111111,\"type\":\"scattergeo\"},{\"lat\":[30.6,39.0],\"line\":{\"color\":\"blue\",\"width\":1},\"locationmode\":\"USA-states\",\"lon\":[-84.4,-76.9],\"mode\":\"lines\",\"opacity\":0.1111111111111111,\"type\":\"scattergeo\"},{\"lat\":[30.7,31.6],\"line\":{\"color\":\"purple\",\"width\":1},\"locationmode\":\"USA-states\",\"lon\":[-97.7,-97.1],\"mode\":\"lines\",\"opacity\":0.1111111111111111,\"type\":\"scattergeo\"},{\"lat\":[30.7,33.6],\"line\":{\"color\":\"purple\",\"width\":1},\"locationmode\":\"USA-states\",\"lon\":[-97.0,-101.9],\"mode\":\"lines\",\"opacity\":0.1111111111111111,\"type\":\"scattergeo\"},{\"lat\":[30.7,30.3],\"line\":{\"color\":\"purple\",\"width\":1},\"locationmode\":\"USA-states\",\"lon\":[-96.4,-97.7],\"mode\":\"lines\",\"opacity\":0.1111111111111111,\"type\":\"scattergeo\"},{\"lat\":[30.7,30.4],\"line\":{\"color\":\"red\",\"width\":1},\"locationmode\":\"USA-states\",\"lon\":[-91.4,-91.2],\"mode\":\"lines\",\"opacity\":0.1111111111111111,\"type\":\"scattergeo\"},{\"lat\":[30.7,33.2],\"line\":{\"color\":\"red\",\"width\":1},\"locationmode\":\"USA-states\",\"lon\":[-88.0,-87.6],\"mode\":\"lines\",\"opacity\":0.1111111111111111,\"type\":\"scattergeo\"},{\"lat\":[30.7,34.0],\"line\":{\"color\":\"red\",\"width\":1},\"locationmode\":\"USA-states\",\"lon\":[-88.0,-81.0],\"mode\":\"lines\",\"opacity\":0.1111111111111111,\"type\":\"scattergeo\"},{\"lat\":[30.7,39.0],\"line\":{\"color\":\"purple\",\"width\":1},\"locationmode\":\"USA-states\",\"lon\":[-88.0,-95.2],\"mode\":\"lines\",\"opacity\":0.2222222222222222,\"type\":\"scattergeo\"},{\"lat\":[30.7,42.1],\"line\":{\"color\":\"blue\",\"width\":1},\"locationmode\":\"USA-states\",\"lon\":[-88.0,-87.7],\"mode\":\"lines\",\"opacity\":0.1111111111111111,\"type\":\"scattergeo\"},{\"lat\":[30.7,34.2],\"line\":{\"color\":\"green\",\"width\":1},\"locationmode\":\"USA-states\",\"lon\":[-87.9,-118.2],\"mode\":\"lines\",\"opacity\":0.1111111111111111,\"type\":\"scattergeo\"},{\"lat\":[30.7,38.0],\"line\":{\"color\":\"lightblue\",\"width\":1},\"locationmode\":\"USA-states\",\"lon\":[-87.9,-78.5],\"mode\":\"lines\",\"opacity\":0.1111111111111111,\"type\":\"scattergeo\"},{\"lat\":[30.8,32.6],\"line\":{\"color\":\"red\",\"width\":1},\"locationmode\":\"USA-states\",\"lon\":[-88.1,-85.5],\"mode\":\"lines\",\"opacity\":0.2222222222222222,\"type\":\"scattergeo\"},{\"lat\":[30.8,26.0],\"line\":{\"color\":\"lightblue\",\"width\":1},\"locationmode\":\"USA-states\",\"lon\":[-83.3,-80.2],\"mode\":\"lines\",\"opacity\":0.1111111111111111,\"type\":\"scattergeo\"},{\"lat\":[30.8,36.1],\"line\":{\"color\":\"red\",\"width\":1},\"locationmode\":\"USA-states\",\"lon\":[-83.3,-86.8],\"mode\":\"lines\",\"opacity\":0.1111111111111111,\"type\":\"scattergeo\"},{\"lat\":[30.8,38.2],\"line\":{\"color\":\"lightblue\",\"width\":1},\"locationmode\":\"USA-states\",\"lon\":[-83.3,-85.8],\"mode\":\"lines\",\"opacity\":0.2222222222222222,\"type\":\"scattergeo\"},{\"lat\":[30.8,33.9],\"line\":{\"color\":\"red\",\"width\":1},\"locationmode\":\"USA-states\",\"lon\":[-81.7,-83.4],\"mode\":\"lines\",\"opacity\":0.1111111111111111,\"type\":\"scattergeo\"},{\"lat\":[30.8,40.8],\"line\":{\"color\":\"blue\",\"width\":1},\"locationmode\":\"USA-states\",\"lon\":[-81.7,-96.7],\"mode\":\"lines\",\"opacity\":0.1111111111111111,\"type\":\"scattergeo\"},{\"lat\":[30.9,34.4],\"line\":{\"color\":\"red\",\"width\":1},\"locationmode\":\"USA-states\",\"lon\":[-88.6,-89.5],\"mode\":\"lines\",\"opacity\":0.1111111111111111,\"type\":\"scattergeo\"},{\"lat\":[31.1,31.6],\"line\":{\"color\":\"purple\",\"width\":1},\"locationmode\":\"USA-states\",\"lon\":[-97.7,-97.1],\"mode\":\"lines\",\"opacity\":0.1111111111111111,\"type\":\"scattergeo\"},{\"lat\":[31.1,38.2],\"line\":{\"color\":\"lightblue\",\"width\":1},\"locationmode\":\"USA-states\",\"lon\":[-81.5,-85.8],\"mode\":\"lines\",\"opacity\":0.1111111111111111,\"type\":\"scattergeo\"},{\"lat\":[31.2,39.2],\"line\":{\"color\":\"purple\",\"width\":1},\"locationmode\":\"USA-states\",\"lon\":[-83.8,-96.6],\"mode\":\"lines\",\"opacity\":0.1111111111111111,\"type\":\"scattergeo\"},{\"lat\":[31.2,45.0],\"line\":{\"color\":\"blue\",\"width\":1},\"locationmode\":\"USA-states\",\"lon\":[-83.8,-93.2],\"mode\":\"lines\",\"opacity\":0.1111111111111111,\"type\":\"scattergeo\"},{\"lat\":[31.2,36.1],\"line\":{\"color\":\"red\",\"width\":1},\"locationmode\":\"USA-states\",\"lon\":[-82.4,-86.8],\"mode\":\"lines\",\"opacity\":0.1111111111111111,\"type\":\"scattergeo\"},{\"lat\":[31.3,47.7],\"line\":{\"color\":\"green\",\"width\":1},\"locationmode\":\"USA-states\",\"lon\":[-94.7,-122.3],\"mode\":\"lines\",\"opacity\":0.1111111111111111,\"type\":\"scattergeo\"},{\"lat\":[31.3,37.4],\"line\":{\"color\":\"green\",\"width\":1},\"locationmode\":\"USA-states\",\"lon\":[-92.4,-122.2],\"mode\":\"lines\",\"opacity\":0.1111111111111111,\"type\":\"scattergeo\"},{\"lat\":[31.3,40.1],\"line\":{\"color\":\"blue\",\"width\":1},\"locationmode\":\"USA-states\",\"lon\":[-85.9,-88.2],\"mode\":\"lines\",\"opacity\":0.1111111111111111,\"type\":\"scattergeo\"},{\"lat\":[31.4,31.6],\"line\":{\"color\":\"purple\",\"width\":1},\"locationmode\":\"USA-states\",\"lon\":[-100.3,-97.1],\"mode\":\"lines\",\"opacity\":0.1111111111111111,\"type\":\"scattergeo\"},{\"lat\":[31.6,36.0],\"line\":{\"color\":\"lightblue\",\"width\":1},\"locationmode\":\"USA-states\",\"lon\":[-84.2,-78.9],\"mode\":\"lines\",\"opacity\":0.1111111111111111,\"type\":\"scattergeo\"},{\"lat\":[31.6,33.8],\"line\":{\"color\":\"lightblue\",\"width\":1},\"locationmode\":\"USA-states\",\"lon\":[-81.9,-84.4],\"mode\":\"lines\",\"opacity\":0.1111111111111111,\"type\":\"scattergeo\"},{\"lat\":[31.6,38.0],\"line\":{\"color\":\"red\",\"width\":1},\"locationmode\":\"USA-states\",\"lon\":[-81.9,-84.5],\"mode\":\"lines\",\"opacity\":0.1111111111111111,\"type\":\"scattergeo\"},{\"lat\":[31.7,39.0],\"line\":{\"color\":\"purple\",\"width\":1},\"locationmode\":\"USA-states\",\"lon\":[-97.3,-95.2],\"mode\":\"lines\",\"opacity\":0.1111111111111111,\"type\":\"scattergeo\"},{\"lat\":[31.7,34.0],\"line\":{\"color\":\"red\",\"width\":1},\"locationmode\":\"USA-states\",\"lon\":[-84.2,-81.0],\"mode\":\"lines\",\"opacity\":0.1111111111111111,\"type\":\"scattergeo\"},{\"lat\":[31.7,38.0],\"line\":{\"color\":\"red\",\"width\":1},\"locationmode\":\"USA-states\",\"lon\":[-84.2,-84.5],\"mode\":\"lines\",\"opacity\":0.1111111111111111,\"type\":\"scattergeo\"},{\"lat\":[31.9,32.6],\"line\":{\"color\":\"red\",\"width\":1},\"locationmode\":\"USA-states\",\"lon\":[-89.7,-85.5],\"mode\":\"lines\",\"opacity\":0.1111111111111111,\"type\":\"scattergeo\"},{\"lat\":[31.9,33.5],\"line\":{\"color\":\"red\",\"width\":1},\"locationmode\":\"USA-states\",\"lon\":[-85.2,-88.8],\"mode\":\"lines\",\"opacity\":0.1111111111111111,\"type\":\"scattergeo\"},{\"lat\":[32.0,33.8],\"line\":{\"color\":\"lightblue\",\"width\":1},\"locationmode\":\"USA-states\",\"lon\":[-83.8,-84.4],\"mode\":\"lines\",\"opacity\":0.1111111111111111,\"type\":\"scattergeo\"},{\"lat\":[32.0,36.1],\"line\":{\"color\":\"red\",\"width\":1},\"locationmode\":\"USA-states\",\"lon\":[-83.8,-94.2],\"mode\":\"lines\",\"opacity\":0.1111111111111111,\"type\":\"scattergeo\"},{\"lat\":[32.0,40.4],\"line\":{\"color\":\"lightblue\",\"width\":1},\"locationmode\":\"USA-states\",\"lon\":[-83.8,-80.0],\"mode\":\"lines\",\"opacity\":0.1111111111111111,\"type\":\"scattergeo\"},{\"lat\":[32.0,38.0],\"line\":{\"color\":\"red\",\"width\":1},\"locationmode\":\"USA-states\",\"lon\":[-83.5,-84.5],\"mode\":\"lines\",\"opacity\":0.1111111111111111,\"type\":\"scattergeo\"},{\"lat\":[32.1,36.0],\"line\":{\"color\":\"lightblue\",\"width\":1},\"locationmode\":\"USA-states\",\"lon\":[-81.1,-78.9],\"mode\":\"lines\",\"opacity\":0.1111111111111111,\"type\":\"scattergeo\"},{\"lat\":[32.1,39.0],\"line\":{\"color\":\"purple\",\"width\":1},\"locationmode\":\"USA-states\",\"lon\":[-81.1,-95.2],\"mode\":\"lines\",\"opacity\":0.1111111111111111,\"type\":\"scattergeo\"},{\"lat\":[32.2,32.2],\"line\":{\"color\":\"green\",\"width\":1},\"locationmode\":\"USA-states\",\"lon\":[-111.0,-110.9],\"mode\":\"lines\",\"opacity\":0.1111111111111111,\"type\":\"scattergeo\"},{\"lat\":[32.2,44.1],\"line\":{\"color\":\"green\",\"width\":1},\"locationmode\":\"USA-states\",\"lon\":[-111.0,-123.1],\"mode\":\"lines\",\"opacity\":0.1111111111111111,\"type\":\"scattergeo\"},{\"lat\":[32.3,30.6],\"line\":{\"color\":\"red\",\"width\":1},\"locationmode\":\"USA-states\",\"lon\":[-97.2,-96.3],\"mode\":\"lines\",\"opacity\":0.1111111111111111,\"type\":\"scattergeo\"},{\"lat\":[32.3,30.4],\"line\":{\"color\":\"red\",\"width\":1},\"locationmode\":\"USA-states\",\"lon\":[-90.2,-91.2],\"mode\":\"lines\",\"opacity\":0.1111111111111111,\"type\":\"scattergeo\"},{\"lat\":[32.3,34.4],\"line\":{\"color\":\"red\",\"width\":1},\"locationmode\":\"USA-states\",\"lon\":[-90.1,-89.5],\"mode\":\"lines\",\"opacity\":0.1111111111111111,\"type\":\"scattergeo\"},{\"lat\":[32.3,40.8],\"line\":{\"color\":\"blue\",\"width\":1},\"locationmode\":\"USA-states\",\"lon\":[-86.2,-77.9],\"mode\":\"lines\",\"opacity\":0.1111111111111111,\"type\":\"scattergeo\"},{\"lat\":[32.4,33.6],\"line\":{\"color\":\"purple\",\"width\":1},\"locationmode\":\"USA-states\",\"lon\":[-98.8,-101.9],\"mode\":\"lines\",\"opacity\":0.1111111111111111,\"type\":\"scattergeo\"},{\"lat\":[32.4,29.7],\"line\":{\"color\":\"purple\",\"width\":1},\"locationmode\":\"USA-states\",\"lon\":[-95.3,-95.3],\"mode\":\"lines\",\"opacity\":0.1111111111111111,\"type\":\"scattergeo\"},{\"lat\":[32.4,32.2],\"line\":{\"color\":\"green\",\"width\":1},\"locationmode\":\"USA-states\",\"lon\":[-95.3,-110.9],\"mode\":\"lines\",\"opacity\":0.1111111111111111,\"type\":\"scattergeo\"},{\"lat\":[32.4,32.6],\"line\":{\"color\":\"red\",\"width\":1},\"locationmode\":\"USA-states\",\"lon\":[-86.3,-85.5],\"mode\":\"lines\",\"opacity\":0.1111111111111111,\"type\":\"scattergeo\"},{\"lat\":[32.4,33.2],\"line\":{\"color\":\"red\",\"width\":1},\"locationmode\":\"USA-states\",\"lon\":[-86.3,-87.6],\"mode\":\"lines\",\"opacity\":0.1111111111111111,\"type\":\"scattergeo\"},{\"lat\":[32.4,36.1],\"line\":{\"color\":\"lightblue\",\"width\":1},\"locationmode\":\"USA-states\",\"lon\":[-86.3,-80.3],\"mode\":\"lines\",\"opacity\":0.1111111111111111,\"type\":\"scattergeo\"},{\"lat\":[32.4,33.9],\"line\":{\"color\":\"red\",\"width\":1},\"locationmode\":\"USA-states\",\"lon\":[-83.4,-83.4],\"mode\":\"lines\",\"opacity\":0.1111111111111111,\"type\":\"scattergeo\"},{\"lat\":[32.5,29.6],\"line\":{\"color\":\"red\",\"width\":1},\"locationmode\":\"USA-states\",\"lon\":[-97.3,-82.3],\"mode\":\"lines\",\"opacity\":0.1111111111111111,\"type\":\"scattergeo\"},{\"lat\":[32.5,29.7],\"line\":{\"color\":\"purple\",\"width\":1},\"locationmode\":\"USA-states\",\"lon\":[-97.0,-95.3],\"mode\":\"lines\",\"opacity\":0.1111111111111111,\"type\":\"scattergeo\"},{\"lat\":[32.5,32.2],\"line\":{\"color\":\"green\",\"width\":1},\"locationmode\":\"USA-states\",\"lon\":[-96.8,-110.9],\"mode\":\"lines\",\"opacity\":0.1111111111111111,\"type\":\"scattergeo\"},{\"lat\":[32.5,36.1],\"line\":{\"color\":\"purple\",\"width\":1},\"locationmode\":\"USA-states\",\"lon\":[-96.8,-97.1],\"mode\":\"lines\",\"opacity\":0.1111111111111111,\"type\":\"scattergeo\"},{\"lat\":[32.5,38.9],\"line\":{\"color\":\"red\",\"width\":1},\"locationmode\":\"USA-states\",\"lon\":[-96.8,-92.3],\"mode\":\"lines\",\"opacity\":0.1111111111111111,\"type\":\"scattergeo\"},{\"lat\":[32.5,31.6],\"line\":{\"color\":\"purple\",\"width\":1},\"locationmode\":\"USA-states\",\"lon\":[-95.4,-97.1],\"mode\":\"lines\",\"opacity\":0.1111111111111111,\"type\":\"scattergeo\"},{\"lat\":[32.5,36.1],\"line\":{\"color\":\"purple\",\"width\":1},\"locationmode\":\"USA-states\",\"lon\":[-94.4,-97.1],\"mode\":\"lines\",\"opacity\":0.1111111111111111,\"type\":\"scattergeo\"},{\"lat\":[32.5,36.1],\"line\":{\"color\":\"purple\",\"width\":1},\"locationmode\":\"USA-states\",\"lon\":[-93.8,-97.1],\"mode\":\"lines\",\"opacity\":0.1111111111111111,\"type\":\"scattergeo\"},{\"lat\":[32.5,33.5],\"line\":{\"color\":\"red\",\"width\":1},\"locationmode\":\"USA-states\",\"lon\":[-92.6,-88.8],\"mode\":\"lines\",\"opacity\":0.1111111111111111,\"type\":\"scattergeo\"},{\"lat\":[32.5,30.4],\"line\":{\"color\":\"red\",\"width\":1},\"locationmode\":\"USA-states\",\"lon\":[-92.1,-91.2],\"mode\":\"lines\",\"opacity\":0.1111111111111111,\"type\":\"scattergeo\"},{\"lat\":[32.5,33.5],\"line\":{\"color\":\"red\",\"width\":1},\"locationmode\":\"USA-states\",\"lon\":[-90.1,-88.8],\"mode\":\"lines\",\"opacity\":0.1111111111111111,\"type\":\"scattergeo\"},{\"lat\":[32.5,33.2],\"line\":{\"color\":\"red\",\"width\":1},\"locationmode\":\"USA-states\",\"lon\":[-86.5,-87.6],\"mode\":\"lines\",\"opacity\":0.1111111111111111,\"type\":\"scattergeo\"},{\"lat\":[32.5,32.6],\"line\":{\"color\":\"red\",\"width\":1},\"locationmode\":\"USA-states\",\"lon\":[-85.0,-85.5],\"mode\":\"lines\",\"opacity\":0.1111111111111111,\"type\":\"scattergeo\"},{\"lat\":[32.5,33.9],\"line\":{\"color\":\"red\",\"width\":1},\"locationmode\":\"USA-states\",\"lon\":[-85.0,-83.4],\"mode\":\"lines\",\"opacity\":0.1111111111111111,\"type\":\"scattergeo\"},{\"lat\":[32.6,44.1],\"line\":{\"color\":\"green\",\"width\":1},\"locationmode\":\"USA-states\",\"lon\":[-117.1,-123.1],\"mode\":\"lines\",\"opacity\":0.1111111111111111,\"type\":\"scattergeo\"},{\"lat\":[32.6,46.7],\"line\":{\"color\":\"green\",\"width\":1},\"locationmode\":\"USA-states\",\"lon\":[-117.1,-117.2],\"mode\":\"lines\",\"opacity\":0.1111111111111111,\"type\":\"scattergeo\"},{\"lat\":[32.6,30.3],\"line\":{\"color\":\"purple\",\"width\":1},\"locationmode\":\"USA-states\",\"lon\":[-97.2,-97.7],\"mode\":\"lines\",\"opacity\":0.1111111111111111,\"type\":\"scattergeo\"},{\"lat\":[32.6,30.3],\"line\":{\"color\":\"purple\",\"width\":1},\"locationmode\":\"USA-states\",\"lon\":[-97.1,-97.7],\"mode\":\"lines\",\"opacity\":0.1111111111111111,\"type\":\"scattergeo\"},{\"lat\":[32.6,32.7],\"line\":{\"color\":\"purple\",\"width\":1},\"locationmode\":\"USA-states\",\"lon\":[-97.1,-97.4],\"mode\":\"lines\",\"opacity\":0.1111111111111111,\"type\":\"scattergeo\"},{\"lat\":[32.6,42.1],\"line\":{\"color\":\"blue\",\"width\":1},\"locationmode\":\"USA-states\",\"lon\":[-97.1,-87.7],\"mode\":\"lines\",\"opacity\":0.1111111111111111,\"type\":\"scattergeo\"},{\"lat\":[32.6,33.6],\"line\":{\"color\":\"purple\",\"width\":1},\"locationmode\":\"USA-states\",\"lon\":[-97.0,-101.9],\"mode\":\"lines\",\"opacity\":0.1111111111111111,\"type\":\"scattergeo\"},{\"lat\":[32.6,36.0],\"line\":{\"color\":\"red\",\"width\":1},\"locationmode\":\"USA-states\",\"lon\":[-97.0,-83.9],\"mode\":\"lines\",\"opacity\":0.1111111111111111,\"type\":\"scattergeo\"},{\"lat\":[32.6,39.2],\"line\":{\"color\":\"purple\",\"width\":1},\"locationmode\":\"USA-states\",\"lon\":[-97.0,-96.6],\"mode\":\"lines\",\"opacity\":0.1111111111111111,\"type\":\"scattergeo\"},{\"lat\":[32.6,39.2],\"line\":{\"color\":\"blue\",\"width\":1},\"locationmode\":\"USA-states\",\"lon\":[-97.0,-86.5],\"mode\":\"lines\",\"opacity\":0.1111111111111111,\"type\":\"scattergeo\"},{\"lat\":[32.6,30.3],\"line\":{\"color\":\"purple\",\"width\":1},\"locationmode\":\"USA-states\",\"lon\":[-96.9,-97.7],\"mode\":\"lines\",\"opacity\":0.1111111111111111,\"type\":\"scattergeo\"},{\"lat\":[32.6,30.6],\"line\":{\"color\":\"red\",\"width\":1},\"locationmode\":\"USA-states\",\"lon\":[-96.9,-96.3],\"mode\":\"lines\",\"opacity\":0.2222222222222222,\"type\":\"scattergeo\"},{\"lat\":[32.6,33.6],\"line\":{\"color\":\"purple\",\"width\":1},\"locationmode\":\"USA-states\",\"lon\":[-96.9,-101.9],\"mode\":\"lines\",\"opacity\":0.1111111111111111,\"type\":\"scattergeo\"},{\"lat\":[32.6,36.1],\"line\":{\"color\":\"red\",\"width\":1},\"locationmode\":\"USA-states\",\"lon\":[-96.9,-94.2],\"mode\":\"lines\",\"opacity\":0.1111111111111111,\"type\":\"scattergeo\"},{\"lat\":[32.6,40.1],\"line\":{\"color\":\"blue\",\"width\":1},\"locationmode\":\"USA-states\",\"lon\":[-96.9,-88.2],\"mode\":\"lines\",\"opacity\":0.1111111111111111,\"type\":\"scattergeo\"},{\"lat\":[32.6,39.0],\"line\":{\"color\":\"purple\",\"width\":1},\"locationmode\":\"USA-states\",\"lon\":[-96.8,-95.2],\"mode\":\"lines\",\"opacity\":0.1111111111111111,\"type\":\"scattergeo\"},{\"lat\":[32.6,33.2],\"line\":{\"color\":\"red\",\"width\":1},\"locationmode\":\"USA-states\",\"lon\":[-83.9,-87.6],\"mode\":\"lines\",\"opacity\":0.1111111111111111,\"type\":\"scattergeo\"},{\"lat\":[32.6,35.8],\"line\":{\"color\":\"lightblue\",\"width\":1},\"locationmode\":\"USA-states\",\"lon\":[-82.3,-78.7],\"mode\":\"lines\",\"opacity\":0.2222222222222222,\"type\":\"scattergeo\"},{\"lat\":[32.7,36.0],\"line\":{\"color\":\"lightblue\",\"width\":1},\"locationmode\":\"USA-states\",\"lon\":[-117.2,-78.9],\"mode\":\"lines\",\"opacity\":0.1111111111111111,\"type\":\"scattergeo\"},{\"lat\":[32.7,44.1],\"line\":{\"color\":\"green\",\"width\":1},\"locationmode\":\"USA-states\",\"lon\":[-117.2,-123.1],\"mode\":\"lines\",\"opacity\":0.1111111111111111,\"type\":\"scattergeo\"},{\"lat\":[32.7,33.2],\"line\":{\"color\":\"red\",\"width\":1},\"locationmode\":\"USA-states\",\"lon\":[-97.6,-87.6],\"mode\":\"lines\",\"opacity\":0.1111111111111111,\"type\":\"scattergeo\"},{\"lat\":[32.7,29.7],\"line\":{\"color\":\"purple\",\"width\":1},\"locationmode\":\"USA-states\",\"lon\":[-97.1,-95.3],\"mode\":\"lines\",\"opacity\":0.1111111111111111,\"type\":\"scattergeo\"},{\"lat\":[32.7,30.3],\"line\":{\"color\":\"purple\",\"width\":1},\"locationmode\":\"USA-states\",\"lon\":[-97.1,-97.7],\"mode\":\"lines\",\"opacity\":0.1111111111111111,\"type\":\"scattergeo\"},{\"lat\":[32.7,32.2],\"line\":{\"color\":\"green\",\"width\":1},\"locationmode\":\"USA-states\",\"lon\":[-97.1,-110.9],\"mode\":\"lines\",\"opacity\":0.1111111111111111,\"type\":\"scattergeo\"},{\"lat\":[32.7,32.6],\"line\":{\"color\":\"red\",\"width\":1},\"locationmode\":\"USA-states\",\"lon\":[-97.1,-85.5],\"mode\":\"lines\",\"opacity\":0.1111111111111111,\"type\":\"scattergeo\"},{\"lat\":[32.7,33.6],\"line\":{\"color\":\"purple\",\"width\":1},\"locationmode\":\"USA-states\",\"lon\":[-97.1,-101.9],\"mode\":\"lines\",\"opacity\":0.1111111111111111,\"type\":\"scattergeo\"},{\"lat\":[32.7,36.0],\"line\":{\"color\":\"lightblue\",\"width\":1},\"locationmode\":\"USA-states\",\"lon\":[-97.1,-78.9],\"mode\":\"lines\",\"opacity\":0.1111111111111111,\"type\":\"scattergeo\"},{\"lat\":[32.7,44.1],\"line\":{\"color\":\"green\",\"width\":1},\"locationmode\":\"USA-states\",\"lon\":[-97.1,-123.1],\"mode\":\"lines\",\"opacity\":0.1111111111111111,\"type\":\"scattergeo\"},{\"lat\":[32.7,44.6],\"line\":{\"color\":\"green\",\"width\":1},\"locationmode\":\"USA-states\",\"lon\":[-97.1,-123.3],\"mode\":\"lines\",\"opacity\":0.1111111111111111,\"type\":\"scattergeo\"},{\"lat\":[32.7,46.7],\"line\":{\"color\":\"green\",\"width\":1},\"locationmode\":\"USA-states\",\"lon\":[-97.1,-117.2],\"mode\":\"lines\",\"opacity\":0.1111111111111111,\"type\":\"scattergeo\"},{\"lat\":[32.7,39.0],\"line\":{\"color\":\"purple\",\"width\":1},\"locationmode\":\"USA-states\",\"lon\":[-97.0,-95.2],\"mode\":\"lines\",\"opacity\":0.1111111111111111,\"type\":\"scattergeo\"},{\"lat\":[32.7,42.3],\"line\":{\"color\":\"lightblue\",\"width\":1},\"locationmode\":\"USA-states\",\"lon\":[-97.0,-71.2],\"mode\":\"lines\",\"opacity\":0.1111111111111111,\"type\":\"scattergeo\"},{\"lat\":[32.7,33.2],\"line\":{\"color\":\"red\",\"width\":1},\"locationmode\":\"USA-states\",\"lon\":[-96.9,-87.6],\"mode\":\"lines\",\"opacity\":0.1111111111111111,\"type\":\"scattergeo\"},{\"lat\":[32.7,35.2],\"line\":{\"color\":\"purple\",\"width\":1},\"locationmode\":\"USA-states\",\"lon\":[-96.9,-97.4],\"mode\":\"lines\",\"opacity\":0.2222222222222222,\"type\":\"scattergeo\"},{\"lat\":[32.7,42.7],\"line\":{\"color\":\"blue\",\"width\":1},\"locationmode\":\"USA-states\",\"lon\":[-96.5,-84.5],\"mode\":\"lines\",\"opacity\":0.1111111111111111,\"type\":\"scattergeo\"},{\"lat\":[32.7,40.0],\"line\":{\"color\":\"green\",\"width\":1},\"locationmode\":\"USA-states\",\"lon\":[-95.5,-105.3],\"mode\":\"lines\",\"opacity\":0.1111111111111111,\"type\":\"scattergeo\"},{\"lat\":[32.7,32.6],\"line\":{\"color\":\"red\",\"width\":1},\"locationmode\":\"USA-states\",\"lon\":[-85.5,-85.5],\"mode\":\"lines\",\"opacity\":0.1111111111111111,\"type\":\"scattergeo\"},{\"lat\":[32.8,31.6],\"line\":{\"color\":\"purple\",\"width\":1},\"locationmode\":\"USA-states\",\"lon\":[-97.8,-97.1],\"mode\":\"lines\",\"opacity\":0.1111111111111111,\"type\":\"scattergeo\"},{\"lat\":[32.8,30.3],\"line\":{\"color\":\"purple\",\"width\":1},\"locationmode\":\"USA-states\",\"lon\":[-97.3,-97.7],\"mode\":\"lines\",\"opacity\":0.1111111111111111,\"type\":\"scattergeo\"},{\"lat\":[32.8,33.2],\"line\":{\"color\":\"red\",\"width\":1},\"locationmode\":\"USA-states\",\"lon\":[-97.3,-87.6],\"mode\":\"lines\",\"opacity\":0.2222222222222222,\"type\":\"scattergeo\"},{\"lat\":[32.8,37.2],\"line\":{\"color\":\"lightblue\",\"width\":1},\"locationmode\":\"USA-states\",\"lon\":[-97.3,-80.4],\"mode\":\"lines\",\"opacity\":0.1111111111111111,\"type\":\"scattergeo\"},{\"lat\":[32.8,42.7],\"line\":{\"color\":\"blue\",\"width\":1},\"locationmode\":\"USA-states\",\"lon\":[-97.3,-84.5],\"mode\":\"lines\",\"opacity\":0.1111111111111111,\"type\":\"scattergeo\"},{\"lat\":[32.8,30.3],\"line\":{\"color\":\"purple\",\"width\":1},\"locationmode\":\"USA-states\",\"lon\":[-96.8,-97.7],\"mode\":\"lines\",\"opacity\":0.1111111111111111,\"type\":\"scattergeo\"},{\"lat\":[32.8,31.6],\"line\":{\"color\":\"purple\",\"width\":1},\"locationmode\":\"USA-states\",\"lon\":[-96.8,-97.1],\"mode\":\"lines\",\"opacity\":0.1111111111111111,\"type\":\"scattergeo\"},{\"lat\":[32.8,33.4],\"line\":{\"color\":\"green\",\"width\":1},\"locationmode\":\"USA-states\",\"lon\":[-96.8,-111.9],\"mode\":\"lines\",\"opacity\":0.1111111111111111,\"type\":\"scattergeo\"},{\"lat\":[32.8,37.4],\"line\":{\"color\":\"green\",\"width\":1},\"locationmode\":\"USA-states\",\"lon\":[-96.8,-122.2],\"mode\":\"lines\",\"opacity\":0.3333333333333333,\"type\":\"scattergeo\"},{\"lat\":[32.8,39.0],\"line\":{\"color\":\"purple\",\"width\":1},\"locationmode\":\"USA-states\",\"lon\":[-96.8,-95.2],\"mode\":\"lines\",\"opacity\":0.1111111111111111,\"type\":\"scattergeo\"},{\"lat\":[32.8,45.0],\"line\":{\"color\":\"blue\",\"width\":1},\"locationmode\":\"USA-states\",\"lon\":[-96.6,-93.2],\"mode\":\"lines\",\"opacity\":0.1111111111111111,\"type\":\"scattergeo\"},{\"lat\":[32.8,32.6],\"line\":{\"color\":\"red\",\"width\":1},\"locationmode\":\"USA-states\",\"lon\":[-89.1,-85.5],\"mode\":\"lines\",\"opacity\":0.1111111111111111,\"type\":\"scattergeo\"},{\"lat\":[32.8,33.2],\"line\":{\"color\":\"red\",\"width\":1},\"locationmode\":\"USA-states\",\"lon\":[-89.1,-87.6],\"mode\":\"lines\",\"opacity\":0.1111111111111111,\"type\":\"scattergeo\"},{\"lat\":[32.9,39.2],\"line\":{\"color\":\"purple\",\"width\":1},\"locationmode\":\"USA-states\",\"lon\":[-97.2,-96.6],\"mode\":\"lines\",\"opacity\":0.1111111111111111,\"type\":\"scattergeo\"},{\"lat\":[32.9,45.0],\"line\":{\"color\":\"blue\",\"width\":1},\"locationmode\":\"USA-states\",\"lon\":[-97.1,-93.2],\"mode\":\"lines\",\"opacity\":0.1111111111111111,\"type\":\"scattergeo\"},{\"lat\":[32.9,33.2],\"line\":{\"color\":\"red\",\"width\":1},\"locationmode\":\"USA-states\",\"lon\":[-96.6,-87.6],\"mode\":\"lines\",\"opacity\":0.1111111111111111,\"type\":\"scattergeo\"},{\"lat\":[32.9,33.4],\"line\":{\"color\":\"green\",\"width\":1},\"locationmode\":\"USA-states\",\"lon\":[-96.6,-111.9],\"mode\":\"lines\",\"opacity\":0.1111111111111111,\"type\":\"scattergeo\"},{\"lat\":[32.9,39.0],\"line\":{\"color\":\"purple\",\"width\":1},\"locationmode\":\"USA-states\",\"lon\":[-96.6,-95.2],\"mode\":\"lines\",\"opacity\":0.1111111111111111,\"type\":\"scattergeo\"},{\"lat\":[32.9,42.3],\"line\":{\"color\":\"blue\",\"width\":1},\"locationmode\":\"USA-states\",\"lon\":[-96.6,-83.7],\"mode\":\"lines\",\"opacity\":0.1111111111111111,\"type\":\"scattergeo\"},{\"lat\":[32.9,34.2],\"line\":{\"color\":\"green\",\"width\":1},\"locationmode\":\"USA-states\",\"lon\":[-87.1,-118.2],\"mode\":\"lines\",\"opacity\":0.1111111111111111,\"type\":\"scattergeo\"},{\"lat\":[33.0,42.0],\"line\":{\"color\":\"purple\",\"width\":1},\"locationmode\":\"USA-states\",\"lon\":[-97.3,-93.6],\"mode\":\"lines\",\"opacity\":0.1111111111111111,\"type\":\"scattergeo\"},{\"lat\":[33.0,30.4],\"line\":{\"color\":\"red\",\"width\":1},\"locationmode\":\"USA-states\",\"lon\":[-97.1,-91.2],\"mode\":\"lines\",\"opacity\":0.1111111111111111,\"type\":\"scattergeo\"},{\"lat\":[33.0,37.9],\"line\":{\"color\":\"green\",\"width\":1},\"locationmode\":\"USA-states\",\"lon\":[-97.1,-122.3],\"mode\":\"lines\",\"opacity\":0.1111111111111111,\"type\":\"scattergeo\"},{\"lat\":[33.0,36.1],\"line\":{\"color\":\"red\",\"width\":1},\"locationmode\":\"USA-states\",\"lon\":[-96.3,-94.2],\"mode\":\"lines\",\"opacity\":0.1111111111111111,\"type\":\"scattergeo\"},{\"lat\":[33.1,40.8],\"line\":{\"color\":\"green\",\"width\":1},\"locationmode\":\"USA-states\",\"lon\":[-117.2,-111.8],\"mode\":\"lines\",\"opacity\":0.1111111111111111,\"type\":\"scattergeo\"},{\"lat\":[33.1,32.7],\"line\":{\"color\":\"purple\",\"width\":1},\"locationmode\":\"USA-states\",\"lon\":[-97.2,-97.4],\"mode\":\"lines\",\"opacity\":0.1111111111111111,\"type\":\"scattergeo\"},{\"lat\":[33.1,33.5],\"line\":{\"color\":\"red\",\"width\":1},\"locationmode\":\"USA-states\",\"lon\":[-97.2,-88.8],\"mode\":\"lines\",\"opacity\":0.1111111111111111,\"type\":\"scattergeo\"},{\"lat\":[33.1,33.6],\"line\":{\"color\":\"purple\",\"width\":1},\"locationmode\":\"USA-states\",\"lon\":[-97.2,-101.9],\"mode\":\"lines\",\"opacity\":0.2222222222222222,\"type\":\"scattergeo\"},{\"lat\":[33.1,36.1],\"line\":{\"color\":\"purple\",\"width\":1},\"locationmode\":\"USA-states\",\"lon\":[-96.7,-97.1],\"mode\":\"lines\",\"opacity\":0.2222222222222222,\"type\":\"scattergeo\"},{\"lat\":[33.1,33.5],\"line\":{\"color\":\"red\",\"width\":1},\"locationmode\":\"USA-states\",\"lon\":[-90.1,-88.8],\"mode\":\"lines\",\"opacity\":0.1111111111111111,\"type\":\"scattergeo\"},{\"lat\":[33.1,33.5],\"line\":{\"color\":\"red\",\"width\":1},\"locationmode\":\"USA-states\",\"lon\":[-89.6,-88.8],\"mode\":\"lines\",\"opacity\":0.1111111111111111,\"type\":\"scattergeo\"},{\"lat\":[33.1,33.5],\"line\":{\"color\":\"red\",\"width\":1},\"locationmode\":\"USA-states\",\"lon\":[-89.1,-88.8],\"mode\":\"lines\",\"opacity\":0.1111111111111111,\"type\":\"scattergeo\"},{\"lat\":[33.1,33.9],\"line\":{\"color\":\"red\",\"width\":1},\"locationmode\":\"USA-states\",\"lon\":[-83.2,-83.4],\"mode\":\"lines\",\"opacity\":0.1111111111111111,\"type\":\"scattergeo\"},{\"lat\":[33.1,38.0],\"line\":{\"color\":\"lightblue\",\"width\":1},\"locationmode\":\"USA-states\",\"lon\":[-83.2,-78.5],\"mode\":\"lines\",\"opacity\":0.1111111111111111,\"type\":\"scattergeo\"},{\"lat\":[33.2,32.2],\"line\":{\"color\":\"green\",\"width\":1},\"locationmode\":\"USA-states\",\"lon\":[-111.6,-110.9],\"mode\":\"lines\",\"opacity\":0.1111111111111111,\"type\":\"scattergeo\"},{\"lat\":[33.2,33.4],\"line\":{\"color\":\"green\",\"width\":1},\"locationmode\":\"USA-states\",\"lon\":[-111.6,-111.9],\"mode\":\"lines\",\"opacity\":0.1111111111111111,\"type\":\"scattergeo\"},{\"lat\":[33.2,34.2],\"line\":{\"color\":\"green\",\"width\":1},\"locationmode\":\"USA-states\",\"lon\":[-111.6,-118.2],\"mode\":\"lines\",\"opacity\":0.1111111111111111,\"type\":\"scattergeo\"},{\"lat\":[33.2,37.9],\"line\":{\"color\":\"green\",\"width\":1},\"locationmode\":\"USA-states\",\"lon\":[-111.6,-122.3],\"mode\":\"lines\",\"opacity\":0.1111111111111111,\"type\":\"scattergeo\"},{\"lat\":[33.2,39.2],\"line\":{\"color\":\"purple\",\"width\":1},\"locationmode\":\"USA-states\",\"lon\":[-111.6,-96.6],\"mode\":\"lines\",\"opacity\":0.1111111111111111,\"type\":\"scattergeo\"},{\"lat\":[33.2,40.8],\"line\":{\"color\":\"green\",\"width\":1},\"locationmode\":\"USA-states\",\"lon\":[-111.6,-111.8],\"mode\":\"lines\",\"opacity\":0.1111111111111111,\"type\":\"scattergeo\"},{\"lat\":[33.2,46.7],\"line\":{\"color\":\"green\",\"width\":1},\"locationmode\":\"USA-states\",\"lon\":[-111.6,-117.2],\"mode\":\"lines\",\"opacity\":0.1111111111111111,\"type\":\"scattergeo\"},{\"lat\":[33.2,30.3],\"line\":{\"color\":\"purple\",\"width\":1},\"locationmode\":\"USA-states\",\"lon\":[-97.1,-97.7],\"mode\":\"lines\",\"opacity\":0.1111111111111111,\"type\":\"scattergeo\"},{\"lat\":[33.2,30.4],\"line\":{\"color\":\"lightblue\",\"width\":1},\"locationmode\":\"USA-states\",\"lon\":[-97.1,-84.3],\"mode\":\"lines\",\"opacity\":0.1111111111111111,\"type\":\"scattergeo\"},{\"lat\":[33.2,30.6],\"line\":{\"color\":\"red\",\"width\":1},\"locationmode\":\"USA-states\",\"lon\":[-97.1,-96.3],\"mode\":\"lines\",\"opacity\":0.2222222222222222,\"type\":\"scattergeo\"},{\"lat\":[33.2,31.6],\"line\":{\"color\":\"purple\",\"width\":1},\"locationmode\":\"USA-states\",\"lon\":[-97.1,-97.1],\"mode\":\"lines\",\"opacity\":0.1111111111111111,\"type\":\"scattergeo\"},{\"lat\":[33.2,34.4],\"line\":{\"color\":\"red\",\"width\":1},\"locationmode\":\"USA-states\",\"lon\":[-97.1,-89.5],\"mode\":\"lines\",\"opacity\":0.1111111111111111,\"type\":\"scattergeo\"},{\"lat\":[33.2,35.2],\"line\":{\"color\":\"purple\",\"width\":1},\"locationmode\":\"USA-states\",\"lon\":[-97.1,-97.4],\"mode\":\"lines\",\"opacity\":0.1111111111111111,\"type\":\"scattergeo\"},{\"lat\":[33.2,36.1],\"line\":{\"color\":\"purple\",\"width\":1},\"locationmode\":\"USA-states\",\"lon\":[-97.1,-97.1],\"mode\":\"lines\",\"opacity\":0.1111111111111111,\"type\":\"scattergeo\"},{\"lat\":[33.2,26.0],\"line\":{\"color\":\"lightblue\",\"width\":1},\"locationmode\":\"USA-states\",\"lon\":[-96.8,-80.2],\"mode\":\"lines\",\"opacity\":0.1111111111111111,\"type\":\"scattergeo\"},{\"lat\":[33.2,36.1],\"line\":{\"color\":\"purple\",\"width\":1},\"locationmode\":\"USA-states\",\"lon\":[-96.8,-97.1],\"mode\":\"lines\",\"opacity\":0.1111111111111111,\"type\":\"scattergeo\"},{\"lat\":[33.2,36.1],\"line\":{\"color\":\"red\",\"width\":1},\"locationmode\":\"USA-states\",\"lon\":[-96.8,-94.2],\"mode\":\"lines\",\"opacity\":0.1111111111111111,\"type\":\"scattergeo\"},{\"lat\":[33.2,37.4],\"line\":{\"color\":\"green\",\"width\":1},\"locationmode\":\"USA-states\",\"lon\":[-96.8,-122.2],\"mode\":\"lines\",\"opacity\":0.1111111111111111,\"type\":\"scattergeo\"},{\"lat\":[33.2,39.1],\"line\":{\"color\":\"purple\",\"width\":1},\"locationmode\":\"USA-states\",\"lon\":[-96.8,-84.5],\"mode\":\"lines\",\"opacity\":0.1111111111111111,\"type\":\"scattergeo\"},{\"lat\":[33.2,34.4],\"line\":{\"color\":\"red\",\"width\":1},\"locationmode\":\"USA-states\",\"lon\":[-96.6,-89.5],\"mode\":\"lines\",\"opacity\":0.1111111111111111,\"type\":\"scattergeo\"},{\"lat\":[33.2,38.9],\"line\":{\"color\":\"red\",\"width\":1},\"locationmode\":\"USA-states\",\"lon\":[-96.6,-92.3],\"mode\":\"lines\",\"opacity\":0.1111111111111111,\"type\":\"scattergeo\"},{\"lat\":[33.2,46.7],\"line\":{\"color\":\"green\",\"width\":1},\"locationmode\":\"USA-states\",\"lon\":[-96.6,-117.2],\"mode\":\"lines\",\"opacity\":0.1111111111111111,\"type\":\"scattergeo\"},{\"lat\":[33.2,33.9],\"line\":{\"color\":\"red\",\"width\":1},\"locationmode\":\"USA-states\",\"lon\":[-87.6,-83.4],\"mode\":\"lines\",\"opacity\":0.1111111111111111,\"type\":\"scattergeo\"},{\"lat\":[33.2,34.0],\"line\":{\"color\":\"red\",\"width\":1},\"locationmode\":\"USA-states\",\"lon\":[-86.8,-81.0],\"mode\":\"lines\",\"opacity\":0.1111111111111111,\"type\":\"scattergeo\"},{\"lat\":[33.2,32.6],\"line\":{\"color\":\"red\",\"width\":1},\"locationmode\":\"USA-states\",\"lon\":[-85.4,-85.5],\"mode\":\"lines\",\"opacity\":0.1111111111111111,\"type\":\"scattergeo\"},{\"lat\":[33.2,40.1],\"line\":{\"color\":\"blue\",\"width\":1},\"locationmode\":\"USA-states\",\"lon\":[-84.3,-88.2],\"mode\":\"lines\",\"opacity\":0.1111111111111111,\"type\":\"scattergeo\"},{\"lat\":[33.2,40.4],\"line\":{\"color\":\"blue\",\"width\":1},\"locationmode\":\"USA-states\",\"lon\":[-84.3,-86.9],\"mode\":\"lines\",\"opacity\":0.1111111111111111,\"type\":\"scattergeo\"},{\"lat\":[33.3,28.6],\"line\":{\"color\":\"purple\",\"width\":1},\"locationmode\":\"USA-states\",\"lon\":[-111.8,-81.2],\"mode\":\"lines\",\"opacity\":0.1111111111111111,\"type\":\"scattergeo\"},{\"lat\":[33.3,40.0],\"line\":{\"color\":\"green\",\"width\":1},\"locationmode\":\"USA-states\",\"lon\":[-111.8,-105.3],\"mode\":\"lines\",\"opacity\":0.1111111111111111,\"type\":\"scattergeo\"},{\"lat\":[33.3,40.3],\"line\":{\"color\":\"purple\",\"width\":1},\"locationmode\":\"USA-states\",\"lon\":[-111.8,-111.7],\"mode\":\"lines\",\"opacity\":0.1111111111111111,\"type\":\"scattergeo\"},{\"lat\":[33.3,42.0],\"line\":{\"color\":\"purple\",\"width\":1},\"locationmode\":\"USA-states\",\"lon\":[-111.8,-93.6],\"mode\":\"lines\",\"opacity\":0.1111111111111111,\"type\":\"scattergeo\"},{\"lat\":[33.3,42.7],\"line\":{\"color\":\"blue\",\"width\":1},\"locationmode\":\"USA-states\",\"lon\":[-111.8,-84.5],\"mode\":\"lines\",\"opacity\":0.1111111111111111,\"type\":\"scattergeo\"},{\"lat\":[33.3,44.1],\"line\":{\"color\":\"green\",\"width\":1},\"locationmode\":\"USA-states\",\"lon\":[-111.8,-123.1],\"mode\":\"lines\",\"opacity\":0.1111111111111111,\"type\":\"scattergeo\"},{\"lat\":[33.3,42.1],\"line\":{\"color\":\"blue\",\"width\":1},\"locationmode\":\"USA-states\",\"lon\":[-89.4,-87.7],\"mode\":\"lines\",\"opacity\":0.1111111111111111,\"type\":\"scattergeo\"},{\"lat\":[33.3,36.1],\"line\":{\"color\":\"red\",\"width\":1},\"locationmode\":\"USA-states\",\"lon\":[-84.6,-86.8],\"mode\":\"lines\",\"opacity\":0.1111111111111111,\"type\":\"scattergeo\"},{\"lat\":[33.4,32.2],\"line\":{\"color\":\"green\",\"width\":1},\"locationmode\":\"USA-states\",\"lon\":[-117.6,-110.9],\"mode\":\"lines\",\"opacity\":0.1111111111111111,\"type\":\"scattergeo\"},{\"lat\":[33.4,40.3],\"line\":{\"color\":\"purple\",\"width\":1},\"locationmode\":\"USA-states\",\"lon\":[-117.6,-111.7],\"mode\":\"lines\",\"opacity\":0.1111111111111111,\"type\":\"scattergeo\"},{\"lat\":[33.4,42.3],\"line\":{\"color\":\"lightblue\",\"width\":1},\"locationmode\":\"USA-states\",\"lon\":[-117.6,-71.2],\"mode\":\"lines\",\"opacity\":0.1111111111111111,\"type\":\"scattergeo\"},{\"lat\":[33.4,45.0],\"line\":{\"color\":\"blue\",\"width\":1},\"locationmode\":\"USA-states\",\"lon\":[-112.4,-93.2],\"mode\":\"lines\",\"opacity\":0.1111111111111111,\"type\":\"scattergeo\"},{\"lat\":[33.4,36.0],\"line\":{\"color\":\"lightblue\",\"width\":1},\"locationmode\":\"USA-states\",\"lon\":[-112.1,-78.9],\"mode\":\"lines\",\"opacity\":0.1111111111111111,\"type\":\"scattergeo\"},{\"lat\":[33.4,37.4],\"line\":{\"color\":\"green\",\"width\":1},\"locationmode\":\"USA-states\",\"lon\":[-112.1,-122.2],\"mode\":\"lines\",\"opacity\":0.1111111111111111,\"type\":\"scattergeo\"},{\"lat\":[33.4,40.8],\"line\":{\"color\":\"green\",\"width\":1},\"locationmode\":\"USA-states\",\"lon\":[-112.1,-111.8],\"mode\":\"lines\",\"opacity\":0.1111111111111111,\"type\":\"scattergeo\"},{\"lat\":[33.4,32.2],\"line\":{\"color\":\"green\",\"width\":1},\"locationmode\":\"USA-states\",\"lon\":[-111.8,-110.9],\"mode\":\"lines\",\"opacity\":0.1111111111111111,\"type\":\"scattergeo\"},{\"lat\":[33.4,37.9],\"line\":{\"color\":\"green\",\"width\":1},\"locationmode\":\"USA-states\",\"lon\":[-111.8,-122.3],\"mode\":\"lines\",\"opacity\":0.1111111111111111,\"type\":\"scattergeo\"},{\"lat\":[33.4,44.1],\"line\":{\"color\":\"green\",\"width\":1},\"locationmode\":\"USA-states\",\"lon\":[-111.8,-123.1],\"mode\":\"lines\",\"opacity\":0.1111111111111111,\"type\":\"scattergeo\"},{\"lat\":[33.4,45.0],\"line\":{\"color\":\"blue\",\"width\":1},\"locationmode\":\"USA-states\",\"lon\":[-111.8,-93.2],\"mode\":\"lines\",\"opacity\":0.1111111111111111,\"type\":\"scattergeo\"},{\"lat\":[33.4,30.4],\"line\":{\"color\":\"red\",\"width\":1},\"locationmode\":\"USA-states\",\"lon\":[-94.1,-91.2],\"mode\":\"lines\",\"opacity\":0.1111111111111111,\"type\":\"scattergeo\"},{\"lat\":[33.4,30.6],\"line\":{\"color\":\"red\",\"width\":1},\"locationmode\":\"USA-states\",\"lon\":[-94.1,-96.3],\"mode\":\"lines\",\"opacity\":0.1111111111111111,\"type\":\"scattergeo\"},{\"lat\":[33.4,35.2],\"line\":{\"color\":\"purple\",\"width\":1},\"locationmode\":\"USA-states\",\"lon\":[-94.1,-97.4],\"mode\":\"lines\",\"opacity\":0.1111111111111111,\"type\":\"scattergeo\"},{\"lat\":[33.4,36.1],\"line\":{\"color\":\"purple\",\"width\":1},\"locationmode\":\"USA-states\",\"lon\":[-94.1,-97.1],\"mode\":\"lines\",\"opacity\":0.1111111111111111,\"type\":\"scattergeo\"},{\"lat\":[33.4,42.3],\"line\":{\"color\":\"lightblue\",\"width\":1},\"locationmode\":\"USA-states\",\"lon\":[-86.9,-71.2],\"mode\":\"lines\",\"opacity\":0.1111111111111111,\"type\":\"scattergeo\"},{\"lat\":[33.4,36.1],\"line\":{\"color\":\"red\",\"width\":1},\"locationmode\":\"USA-states\",\"lon\":[-86.8,-86.8],\"mode\":\"lines\",\"opacity\":0.1111111111111111,\"type\":\"scattergeo\"},{\"lat\":[33.4,40.8],\"line\":{\"color\":\"green\",\"width\":1},\"locationmode\":\"USA-states\",\"lon\":[-84.5,-111.8],\"mode\":\"lines\",\"opacity\":0.1111111111111111,\"type\":\"scattergeo\"},{\"lat\":[33.4,30.4],\"line\":{\"color\":\"lightblue\",\"width\":1},\"locationmode\":\"USA-states\",\"lon\":[-84.1,-84.3],\"mode\":\"lines\",\"opacity\":0.1111111111111111,\"type\":\"scattergeo\"},{\"lat\":[33.4,36.1],\"line\":{\"color\":\"red\",\"width\":1},\"locationmode\":\"USA-states\",\"lon\":[-84.1,-86.8],\"mode\":\"lines\",\"opacity\":0.1111111111111111,\"type\":\"scattergeo\"},{\"lat\":[33.4,42.3],\"line\":{\"color\":\"lightblue\",\"width\":1},\"locationmode\":\"USA-states\",\"lon\":[-84.1,-71.2],\"mode\":\"lines\",\"opacity\":0.1111111111111111,\"type\":\"scattergeo\"},{\"lat\":[33.5,34.0],\"line\":{\"color\":\"green\",\"width\":1},\"locationmode\":\"USA-states\",\"lon\":[-117.7,-118.3],\"mode\":\"lines\",\"opacity\":0.1111111111111111,\"type\":\"scattergeo\"},{\"lat\":[33.5,40.3],\"line\":{\"color\":\"purple\",\"width\":1},\"locationmode\":\"USA-states\",\"lon\":[-117.1,-111.7],\"mode\":\"lines\",\"opacity\":0.2222222222222222,\"type\":\"scattergeo\"},{\"lat\":[33.5,34.2],\"line\":{\"color\":\"green\",\"width\":1},\"locationmode\":\"USA-states\",\"lon\":[-111.9,-118.2],\"mode\":\"lines\",\"opacity\":0.1111111111111111,\"type\":\"scattergeo\"},{\"lat\":[33.5,40.0],\"line\":{\"color\":\"blue\",\"width\":1},\"locationmode\":\"USA-states\",\"lon\":[-111.9,-83.0],\"mode\":\"lines\",\"opacity\":0.1111111111111111,\"type\":\"scattergeo\"},{\"lat\":[33.5,44.1],\"line\":{\"color\":\"green\",\"width\":1},\"locationmode\":\"USA-states\",\"lon\":[-111.9,-123.1],\"mode\":\"lines\",\"opacity\":0.1111111111111111,\"type\":\"scattergeo\"},{\"lat\":[33.5,36.1],\"line\":{\"color\":\"red\",\"width\":1},\"locationmode\":\"USA-states\",\"lon\":[-95.2,-94.2],\"mode\":\"lines\",\"opacity\":0.1111111111111111,\"type\":\"scattergeo\"},{\"lat\":[33.5,34.4],\"line\":{\"color\":\"red\",\"width\":1},\"locationmode\":\"USA-states\",\"lon\":[-88.8,-89.5],\"mode\":\"lines\",\"opacity\":0.1111111111111111,\"type\":\"scattergeo\"},{\"lat\":[33.5,38.0],\"line\":{\"color\":\"red\",\"width\":1},\"locationmode\":\"USA-states\",\"lon\":[-87.0,-84.5],\"mode\":\"lines\",\"opacity\":0.1111111111111111,\"type\":\"scattergeo\"},{\"lat\":[33.5,39.2],\"line\":{\"color\":\"blue\",\"width\":1},\"locationmode\":\"USA-states\",\"lon\":[-86.9,-86.5],\"mode\":\"lines\",\"opacity\":0.1111111111111111,\"type\":\"scattergeo\"},{\"lat\":[33.5,29.6],\"line\":{\"color\":\"red\",\"width\":1},\"locationmode\":\"USA-states\",\"lon\":[-86.8,-82.3],\"mode\":\"lines\",\"opacity\":0.1111111111111111,\"type\":\"scattergeo\"},{\"lat\":[33.5,33.2],\"line\":{\"color\":\"red\",\"width\":1},\"locationmode\":\"USA-states\",\"lon\":[-86.8,-87.6],\"mode\":\"lines\",\"opacity\":0.1111111111111111,\"type\":\"scattergeo\"},{\"lat\":[33.5,34.0],\"line\":{\"color\":\"red\",\"width\":1},\"locationmode\":\"USA-states\",\"lon\":[-86.8,-81.0],\"mode\":\"lines\",\"opacity\":0.1111111111111111,\"type\":\"scattergeo\"},{\"lat\":[33.5,34.4],\"line\":{\"color\":\"red\",\"width\":1},\"locationmode\":\"USA-states\",\"lon\":[-86.8,-89.5],\"mode\":\"lines\",\"opacity\":0.1111111111111111,\"type\":\"scattergeo\"},{\"lat\":[33.5,36.1],\"line\":{\"color\":\"red\",\"width\":1},\"locationmode\":\"USA-states\",\"lon\":[-86.8,-86.8],\"mode\":\"lines\",\"opacity\":0.1111111111111111,\"type\":\"scattergeo\"},{\"lat\":[33.5,33.8],\"line\":{\"color\":\"lightblue\",\"width\":1},\"locationmode\":\"USA-states\",\"lon\":[-84.4,-84.4],\"mode\":\"lines\",\"opacity\":0.1111111111111111,\"type\":\"scattergeo\"},{\"lat\":[33.5,33.5],\"line\":{\"color\":\"red\",\"width\":1},\"locationmode\":\"USA-states\",\"lon\":[-84.2,-88.8],\"mode\":\"lines\",\"opacity\":0.1111111111111111,\"type\":\"scattergeo\"},{\"lat\":[33.6,32.2],\"line\":{\"color\":\"green\",\"width\":1},\"locationmode\":\"USA-states\",\"lon\":[-117.7,-110.9],\"mode\":\"lines\",\"opacity\":0.1111111111111111,\"type\":\"scattergeo\"},{\"lat\":[33.6,37.4],\"line\":{\"color\":\"green\",\"width\":1},\"locationmode\":\"USA-states\",\"lon\":[-117.7,-122.2],\"mode\":\"lines\",\"opacity\":0.1111111111111111,\"type\":\"scattergeo\"},{\"lat\":[33.6,37.9],\"line\":{\"color\":\"green\",\"width\":1},\"locationmode\":\"USA-states\",\"lon\":[-117.7,-122.3],\"mode\":\"lines\",\"opacity\":0.1111111111111111,\"type\":\"scattergeo\"},{\"lat\":[33.6,40.8],\"line\":{\"color\":\"green\",\"width\":1},\"locationmode\":\"USA-states\",\"lon\":[-117.7,-111.8],\"mode\":\"lines\",\"opacity\":0.1111111111111111,\"type\":\"scattergeo\"},{\"lat\":[33.6,44.6],\"line\":{\"color\":\"green\",\"width\":1},\"locationmode\":\"USA-states\",\"lon\":[-117.7,-123.3],\"mode\":\"lines\",\"opacity\":0.1111111111111111,\"type\":\"scattergeo\"},{\"lat\":[33.6,37.9],\"line\":{\"color\":\"green\",\"width\":1},\"locationmode\":\"USA-states\",\"lon\":[-117.6,-122.3],\"mode\":\"lines\",\"opacity\":0.1111111111111111,\"type\":\"scattergeo\"},{\"lat\":[33.6,32.7],\"line\":{\"color\":\"purple\",\"width\":1},\"locationmode\":\"USA-states\",\"lon\":[-101.9,-97.4],\"mode\":\"lines\",\"opacity\":0.1111111111111111,\"type\":\"scattergeo\"},{\"lat\":[33.6,33.5],\"line\":{\"color\":\"red\",\"width\":1},\"locationmode\":\"USA-states\",\"lon\":[-101.9,-88.8],\"mode\":\"lines\",\"opacity\":0.1111111111111111,\"type\":\"scattergeo\"},{\"lat\":[33.6,33.6],\"line\":{\"color\":\"purple\",\"width\":1},\"locationmode\":\"USA-states\",\"lon\":[-101.9,-101.9],\"mode\":\"lines\",\"opacity\":0.1111111111111111,\"type\":\"scattergeo\"},{\"lat\":[33.6,29.7],\"line\":{\"color\":\"purple\",\"width\":1},\"locationmode\":\"USA-states\",\"lon\":[-87.0,-95.3],\"mode\":\"lines\",\"opacity\":0.1111111111111111,\"type\":\"scattergeo\"},{\"lat\":[33.6,30.4],\"line\":{\"color\":\"red\",\"width\":1},\"locationmode\":\"USA-states\",\"lon\":[-86.6,-91.2],\"mode\":\"lines\",\"opacity\":0.1111111111111111,\"type\":\"scattergeo\"},{\"lat\":[33.6,34.4],\"line\":{\"color\":\"red\",\"width\":1},\"locationmode\":\"USA-states\",\"lon\":[-86.6,-89.5],\"mode\":\"lines\",\"opacity\":0.1111111111111111,\"type\":\"scattergeo\"},{\"lat\":[33.6,29.6],\"line\":{\"color\":\"red\",\"width\":1},\"locationmode\":\"USA-states\",\"lon\":[-85.1,-82.3],\"mode\":\"lines\",\"opacity\":0.1111111111111111,\"type\":\"scattergeo\"},{\"lat\":[33.6,33.9],\"line\":{\"color\":\"red\",\"width\":1},\"locationmode\":\"USA-states\",\"lon\":[-85.1,-83.4],\"mode\":\"lines\",\"opacity\":0.1111111111111111,\"type\":\"scattergeo\"},{\"lat\":[33.6,35.8],\"line\":{\"color\":\"lightblue\",\"width\":1},\"locationmode\":\"USA-states\",\"lon\":[-85.1,-78.7],\"mode\":\"lines\",\"opacity\":0.1111111111111111,\"type\":\"scattergeo\"},{\"lat\":[33.6,34.0],\"line\":{\"color\":\"red\",\"width\":1},\"locationmode\":\"USA-states\",\"lon\":[-84.6,-81.0],\"mode\":\"lines\",\"opacity\":0.1111111111111111,\"type\":\"scattergeo\"},{\"lat\":[33.6,39.2],\"line\":{\"color\":\"blue\",\"width\":1},\"locationmode\":\"USA-states\",\"lon\":[-84.3,-86.5],\"mode\":\"lines\",\"opacity\":0.1111111111111111,\"type\":\"scattergeo\"},{\"lat\":[33.6,33.9],\"line\":{\"color\":\"red\",\"width\":1},\"locationmode\":\"USA-states\",\"lon\":[-83.9,-83.4],\"mode\":\"lines\",\"opacity\":0.1111111111111111,\"type\":\"scattergeo\"},{\"lat\":[33.6,45.0],\"line\":{\"color\":\"blue\",\"width\":1},\"locationmode\":\"USA-states\",\"lon\":[-83.9,-93.2],\"mode\":\"lines\",\"opacity\":0.1111111111111111,\"type\":\"scattergeo\"},{\"lat\":[33.7,34.0],\"line\":{\"color\":\"green\",\"width\":1},\"locationmode\":\"USA-states\",\"lon\":[-117.9,-118.3],\"mode\":\"lines\",\"opacity\":0.2222222222222222,\"type\":\"scattergeo\"},{\"lat\":[33.7,42.3],\"line\":{\"color\":\"blue\",\"width\":1},\"locationmode\":\"USA-states\",\"lon\":[-117.9,-83.7],\"mode\":\"lines\",\"opacity\":0.1111111111111111,\"type\":\"scattergeo\"},{\"lat\":[33.7,44.1],\"line\":{\"color\":\"green\",\"width\":1},\"locationmode\":\"USA-states\",\"lon\":[-117.9,-123.1],\"mode\":\"lines\",\"opacity\":0.1111111111111111,\"type\":\"scattergeo\"},{\"lat\":[33.7,39.7],\"line\":{\"color\":\"purple\",\"width\":1},\"locationmode\":\"USA-states\",\"lon\":[-86.8,-80.0],\"mode\":\"lines\",\"opacity\":0.1111111111111111,\"type\":\"scattergeo\"},{\"lat\":[33.7,33.2],\"line\":{\"color\":\"red\",\"width\":1},\"locationmode\":\"USA-states\",\"lon\":[-86.7,-87.6],\"mode\":\"lines\",\"opacity\":0.1111111111111111,\"type\":\"scattergeo\"},{\"lat\":[33.7,37.2],\"line\":{\"color\":\"lightblue\",\"width\":1},\"locationmode\":\"USA-states\",\"lon\":[-86.7,-80.4],\"mode\":\"lines\",\"opacity\":0.1111111111111111,\"type\":\"scattergeo\"},{\"lat\":[33.7,30.4],\"line\":{\"color\":\"red\",\"width\":1},\"locationmode\":\"USA-states\",\"lon\":[-84.4,-91.2],\"mode\":\"lines\",\"opacity\":0.1111111111111111,\"type\":\"scattergeo\"},{\"lat\":[33.7,33.8],\"line\":{\"color\":\"lightblue\",\"width\":1},\"locationmode\":\"USA-states\",\"lon\":[-84.4,-84.4],\"mode\":\"lines\",\"opacity\":0.2222222222222222,\"type\":\"scattergeo\"},{\"lat\":[33.7,34.2],\"line\":{\"color\":\"green\",\"width\":1},\"locationmode\":\"USA-states\",\"lon\":[-84.4,-118.2],\"mode\":\"lines\",\"opacity\":0.1111111111111111,\"type\":\"scattergeo\"},{\"lat\":[33.7,34.4],\"line\":{\"color\":\"red\",\"width\":1},\"locationmode\":\"USA-states\",\"lon\":[-84.4,-89.5],\"mode\":\"lines\",\"opacity\":0.1111111111111111,\"type\":\"scattergeo\"},{\"lat\":[33.7,34.7],\"line\":{\"color\":\"lightblue\",\"width\":1},\"locationmode\":\"USA-states\",\"lon\":[-84.4,-82.8],\"mode\":\"lines\",\"opacity\":0.3333333333333333,\"type\":\"scattergeo\"},{\"lat\":[33.7,36.1],\"line\":{\"color\":\"red\",\"width\":1},\"locationmode\":\"USA-states\",\"lon\":[-84.4,-94.2],\"mode\":\"lines\",\"opacity\":0.1111111111111111,\"type\":\"scattergeo\"},{\"lat\":[33.7,36.1],\"line\":{\"color\":\"red\",\"width\":1},\"locationmode\":\"USA-states\",\"lon\":[-84.4,-86.8],\"mode\":\"lines\",\"opacity\":0.2222222222222222,\"type\":\"scattergeo\"},{\"lat\":[33.7,37.4],\"line\":{\"color\":\"green\",\"width\":1},\"locationmode\":\"USA-states\",\"lon\":[-84.4,-122.2],\"mode\":\"lines\",\"opacity\":0.1111111111111111,\"type\":\"scattergeo\"},{\"lat\":[33.7,39.2],\"line\":{\"color\":\"purple\",\"width\":1},\"locationmode\":\"USA-states\",\"lon\":[-84.4,-96.6],\"mode\":\"lines\",\"opacity\":0.1111111111111111,\"type\":\"scattergeo\"},{\"lat\":[33.7,39.2],\"line\":{\"color\":\"blue\",\"width\":1},\"locationmode\":\"USA-states\",\"lon\":[-84.4,-86.5],\"mode\":\"lines\",\"opacity\":0.1111111111111111,\"type\":\"scattergeo\"},{\"lat\":[33.7,40.1],\"line\":{\"color\":\"blue\",\"width\":1},\"locationmode\":\"USA-states\",\"lon\":[-84.4,-88.2],\"mode\":\"lines\",\"opacity\":0.1111111111111111,\"type\":\"scattergeo\"},{\"lat\":[33.7,40.4],\"line\":{\"color\":\"lightblue\",\"width\":1},\"locationmode\":\"USA-states\",\"lon\":[-84.4,-80.0],\"mode\":\"lines\",\"opacity\":0.1111111111111111,\"type\":\"scattergeo\"},{\"lat\":[33.7,43.0],\"line\":{\"color\":\"lightblue\",\"width\":1},\"locationmode\":\"USA-states\",\"lon\":[-84.4,-76.1],\"mode\":\"lines\",\"opacity\":0.1111111111111111,\"type\":\"scattergeo\"},{\"lat\":[33.7,28.6],\"line\":{\"color\":\"purple\",\"width\":1},\"locationmode\":\"USA-states\",\"lon\":[-84.1,-81.2],\"mode\":\"lines\",\"opacity\":0.1111111111111111,\"type\":\"scattergeo\"},{\"lat\":[33.7,35.9],\"line\":{\"color\":\"lightblue\",\"width\":1},\"locationmode\":\"USA-states\",\"lon\":[-78.9,-79.0],\"mode\":\"lines\",\"opacity\":0.1111111111111111,\"type\":\"scattergeo\"},{\"lat\":[33.8,34.0],\"line\":{\"color\":\"green\",\"width\":1},\"locationmode\":\"USA-states\",\"lon\":[-118.3,-118.3],\"mode\":\"lines\",\"opacity\":0.1111111111111111,\"type\":\"scattergeo\"},{\"lat\":[33.8,34.2],\"line\":{\"color\":\"green\",\"width\":1},\"locationmode\":\"USA-states\",\"lon\":[-118.2,-118.2],\"mode\":\"lines\",\"opacity\":0.1111111111111111,\"type\":\"scattergeo\"},{\"lat\":[33.8,33.4],\"line\":{\"color\":\"green\",\"width\":1},\"locationmode\":\"USA-states\",\"lon\":[-117.9,-111.9],\"mode\":\"lines\",\"opacity\":0.1111111111111111,\"type\":\"scattergeo\"},{\"lat\":[33.8,40.0],\"line\":{\"color\":\"green\",\"width\":1},\"locationmode\":\"USA-states\",\"lon\":[-117.9,-105.3],\"mode\":\"lines\",\"opacity\":0.1111111111111111,\"type\":\"scattergeo\"},{\"lat\":[33.8,44.6],\"line\":{\"color\":\"green\",\"width\":1},\"locationmode\":\"USA-states\",\"lon\":[-117.9,-123.3],\"mode\":\"lines\",\"opacity\":0.1111111111111111,\"type\":\"scattergeo\"},{\"lat\":[33.8,34.2],\"line\":{\"color\":\"green\",\"width\":1},\"locationmode\":\"USA-states\",\"lon\":[-117.0,-118.2],\"mode\":\"lines\",\"opacity\":0.1111111111111111,\"type\":\"scattergeo\"},{\"lat\":[33.8,36.1],\"line\":{\"color\":\"purple\",\"width\":1},\"locationmode\":\"USA-states\",\"lon\":[-96.7,-97.1],\"mode\":\"lines\",\"opacity\":0.1111111111111111,\"type\":\"scattergeo\"},{\"lat\":[33.8,40.4],\"line\":{\"color\":\"blue\",\"width\":1},\"locationmode\":\"USA-states\",\"lon\":[-92.4,-86.9],\"mode\":\"lines\",\"opacity\":0.1111111111111111,\"type\":\"scattergeo\"},{\"lat\":[33.8,33.8],\"line\":{\"color\":\"lightblue\",\"width\":1},\"locationmode\":\"USA-states\",\"lon\":[-84.7,-84.4],\"mode\":\"lines\",\"opacity\":0.1111111111111111,\"type\":\"scattergeo\"},{\"lat\":[33.8,33.9],\"line\":{\"color\":\"red\",\"width\":1},\"locationmode\":\"USA-states\",\"lon\":[-84.7,-83.4],\"mode\":\"lines\",\"opacity\":0.1111111111111111,\"type\":\"scattergeo\"},{\"lat\":[33.8,36.0],\"line\":{\"color\":\"red\",\"width\":1},\"locationmode\":\"USA-states\",\"lon\":[-84.7,-83.9],\"mode\":\"lines\",\"opacity\":0.1111111111111111,\"type\":\"scattergeo\"},{\"lat\":[33.8,36.1],\"line\":{\"color\":\"lightblue\",\"width\":1},\"locationmode\":\"USA-states\",\"lon\":[-84.7,-80.3],\"mode\":\"lines\",\"opacity\":0.1111111111111111,\"type\":\"scattergeo\"},{\"lat\":[33.8,38.2],\"line\":{\"color\":\"lightblue\",\"width\":1},\"locationmode\":\"USA-states\",\"lon\":[-84.7,-85.8],\"mode\":\"lines\",\"opacity\":0.1111111111111111,\"type\":\"scattergeo\"},{\"lat\":[33.8,26.0],\"line\":{\"color\":\"lightblue\",\"width\":1},\"locationmode\":\"USA-states\",\"lon\":[-83.9,-80.2],\"mode\":\"lines\",\"opacity\":0.1111111111111111,\"type\":\"scattergeo\"},{\"lat\":[33.8,29.6],\"line\":{\"color\":\"red\",\"width\":1},\"locationmode\":\"USA-states\",\"lon\":[-83.9,-82.3],\"mode\":\"lines\",\"opacity\":0.1111111111111111,\"type\":\"scattergeo\"},{\"lat\":[33.8,33.8],\"line\":{\"color\":\"lightblue\",\"width\":1},\"locationmode\":\"USA-states\",\"lon\":[-83.9,-84.4],\"mode\":\"lines\",\"opacity\":0.2222222222222222,\"type\":\"scattergeo\"},{\"lat\":[33.8,34.7],\"line\":{\"color\":\"lightblue\",\"width\":1},\"locationmode\":\"USA-states\",\"lon\":[-83.9,-82.8],\"mode\":\"lines\",\"opacity\":0.1111111111111111,\"type\":\"scattergeo\"},{\"lat\":[33.8,38.2],\"line\":{\"color\":\"lightblue\",\"width\":1},\"locationmode\":\"USA-states\",\"lon\":[-83.9,-85.8],\"mode\":\"lines\",\"opacity\":0.1111111111111111,\"type\":\"scattergeo\"},{\"lat\":[33.8,42.3],\"line\":{\"color\":\"lightblue\",\"width\":1},\"locationmode\":\"USA-states\",\"lon\":[-83.9,-71.2],\"mode\":\"lines\",\"opacity\":0.1111111111111111,\"type\":\"scattergeo\"},{\"lat\":[33.8,36.1],\"line\":{\"color\":\"lightblue\",\"width\":1},\"locationmode\":\"USA-states\",\"lon\":[-81.8,-80.3],\"mode\":\"lines\",\"opacity\":0.1111111111111111,\"type\":\"scattergeo\"},{\"lat\":[33.9,34.2],\"line\":{\"color\":\"green\",\"width\":1},\"locationmode\":\"USA-states\",\"lon\":[-118.3,-118.2],\"mode\":\"lines\",\"opacity\":0.1111111111111111,\"type\":\"scattergeo\"},{\"lat\":[33.9,34.0],\"line\":{\"color\":\"green\",\"width\":1},\"locationmode\":\"USA-states\",\"lon\":[-118.1,-118.3],\"mode\":\"lines\",\"opacity\":0.2222222222222222,\"type\":\"scattergeo\"},{\"lat\":[33.9,34.7],\"line\":{\"color\":\"lightblue\",\"width\":1},\"locationmode\":\"USA-states\",\"lon\":[-118.1,-82.8],\"mode\":\"lines\",\"opacity\":0.1111111111111111,\"type\":\"scattergeo\"},{\"lat\":[33.9,37.9],\"line\":{\"color\":\"green\",\"width\":1},\"locationmode\":\"USA-states\",\"lon\":[-118.1,-122.3],\"mode\":\"lines\",\"opacity\":0.1111111111111111,\"type\":\"scattergeo\"},{\"lat\":[33.9,39.0],\"line\":{\"color\":\"purple\",\"width\":1},\"locationmode\":\"USA-states\",\"lon\":[-118.1,-95.2],\"mode\":\"lines\",\"opacity\":0.1111111111111111,\"type\":\"scattergeo\"},{\"lat\":[33.9,40.0],\"line\":{\"color\":\"green\",\"width\":1},\"locationmode\":\"USA-states\",\"lon\":[-117.9,-105.3],\"mode\":\"lines\",\"opacity\":0.1111111111111111,\"type\":\"scattergeo\"},{\"lat\":[33.9,34.0],\"line\":{\"color\":\"green\",\"width\":1},\"locationmode\":\"USA-states\",\"lon\":[-117.6,-118.3],\"mode\":\"lines\",\"opacity\":0.1111111111111111,\"type\":\"scattergeo\"},{\"lat\":[33.9,46.7],\"line\":{\"color\":\"green\",\"width\":1},\"locationmode\":\"USA-states\",\"lon\":[-117.6,-117.2],\"mode\":\"lines\",\"opacity\":0.1111111111111111,\"type\":\"scattergeo\"},{\"lat\":[33.9,32.7],\"line\":{\"color\":\"purple\",\"width\":1},\"locationmode\":\"USA-states\",\"lon\":[-98.5,-97.4],\"mode\":\"lines\",\"opacity\":0.1111111111111111,\"type\":\"scattergeo\"},{\"lat\":[33.9,33.6],\"line\":{\"color\":\"purple\",\"width\":1},\"locationmode\":\"USA-states\",\"lon\":[-98.5,-101.9],\"mode\":\"lines\",\"opacity\":0.2222222222222222,\"type\":\"scattergeo\"},{\"lat\":[33.9,38.0],\"line\":{\"color\":\"lightblue\",\"width\":1},\"locationmode\":\"USA-states\",\"lon\":[-98.5,-78.5],\"mode\":\"lines\",\"opacity\":0.1111111111111111,\"type\":\"scattergeo\"},{\"lat\":[33.9,33.9],\"line\":{\"color\":\"red\",\"width\":1},\"locationmode\":\"USA-states\",\"lon\":[-84.8,-83.4],\"mode\":\"lines\",\"opacity\":0.1111111111111111,\"type\":\"scattergeo\"},{\"lat\":[33.9,33.4],\"line\":{\"color\":\"green\",\"width\":1},\"locationmode\":\"USA-states\",\"lon\":[-84.7,-111.9],\"mode\":\"lines\",\"opacity\":0.1111111111111111,\"type\":\"scattergeo\"},{\"lat\":[33.9,37.4],\"line\":{\"color\":\"green\",\"width\":1},\"locationmode\":\"USA-states\",\"lon\":[-84.7,-122.2],\"mode\":\"lines\",\"opacity\":0.1111111111111111,\"type\":\"scattergeo\"},{\"lat\":[33.9,29.7],\"line\":{\"color\":\"purple\",\"width\":1},\"locationmode\":\"USA-states\",\"lon\":[-84.2,-95.3],\"mode\":\"lines\",\"opacity\":0.1111111111111111,\"type\":\"scattergeo\"},{\"lat\":[33.9,26.0],\"line\":{\"color\":\"lightblue\",\"width\":1},\"locationmode\":\"USA-states\",\"lon\":[-84.1,-80.2],\"mode\":\"lines\",\"opacity\":0.1111111111111111,\"type\":\"scattergeo\"},{\"lat\":[33.9,28.6],\"line\":{\"color\":\"purple\",\"width\":1},\"locationmode\":\"USA-states\",\"lon\":[-84.1,-81.2],\"mode\":\"lines\",\"opacity\":0.1111111111111111,\"type\":\"scattergeo\"},{\"lat\":[33.9,36.1],\"line\":{\"color\":\"lightblue\",\"width\":1},\"locationmode\":\"USA-states\",\"lon\":[-84.1,-80.3],\"mode\":\"lines\",\"opacity\":0.1111111111111111,\"type\":\"scattergeo\"},{\"lat\":[33.9,39.0],\"line\":{\"color\":\"purple\",\"width\":1},\"locationmode\":\"USA-states\",\"lon\":[-84.0,-95.2],\"mode\":\"lines\",\"opacity\":0.1111111111111111,\"type\":\"scattergeo\"},{\"lat\":[33.9,40.1],\"line\":{\"color\":\"blue\",\"width\":1},\"locationmode\":\"USA-states\",\"lon\":[-84.0,-88.2],\"mode\":\"lines\",\"opacity\":0.1111111111111111,\"type\":\"scattergeo\"},{\"lat\":[33.9,33.9],\"line\":{\"color\":\"red\",\"width\":1},\"locationmode\":\"USA-states\",\"lon\":[-83.5,-83.4],\"mode\":\"lines\",\"opacity\":0.1111111111111111,\"type\":\"scattergeo\"},{\"lat\":[33.9,34.7],\"line\":{\"color\":\"lightblue\",\"width\":1},\"locationmode\":\"USA-states\",\"lon\":[-83.5,-82.8],\"mode\":\"lines\",\"opacity\":0.1111111111111111,\"type\":\"scattergeo\"},{\"lat\":[33.9,38.0],\"line\":{\"color\":\"lightblue\",\"width\":1},\"locationmode\":\"USA-states\",\"lon\":[-83.4,-78.5],\"mode\":\"lines\",\"opacity\":0.1111111111111111,\"type\":\"scattergeo\"},{\"lat\":[33.9,29.6],\"line\":{\"color\":\"red\",\"width\":1},\"locationmode\":\"USA-states\",\"lon\":[-80.3,-82.3],\"mode\":\"lines\",\"opacity\":0.1111111111111111,\"type\":\"scattergeo\"},{\"lat\":[33.9,36.1],\"line\":{\"color\":\"red\",\"width\":1},\"locationmode\":\"USA-states\",\"lon\":[-80.3,-86.8],\"mode\":\"lines\",\"opacity\":0.1111111111111111,\"type\":\"scattergeo\"},{\"lat\":[33.9,39.0],\"line\":{\"color\":\"purple\",\"width\":1},\"locationmode\":\"USA-states\",\"lon\":[-80.3,-95.2],\"mode\":\"lines\",\"opacity\":0.1111111111111111,\"type\":\"scattergeo\"},{\"lat\":[33.9,43.0],\"line\":{\"color\":\"lightblue\",\"width\":1},\"locationmode\":\"USA-states\",\"lon\":[-78.6,-76.1],\"mode\":\"lines\",\"opacity\":0.1111111111111111,\"type\":\"scattergeo\"},{\"lat\":[34.0,33.4],\"line\":{\"color\":\"green\",\"width\":1},\"locationmode\":\"USA-states\",\"lon\":[-118.4,-111.9],\"mode\":\"lines\",\"opacity\":0.1111111111111111,\"type\":\"scattergeo\"},{\"lat\":[34.0,40.8],\"line\":{\"color\":\"green\",\"width\":1},\"locationmode\":\"USA-states\",\"lon\":[-118.4,-111.8],\"mode\":\"lines\",\"opacity\":0.1111111111111111,\"type\":\"scattergeo\"},{\"lat\":[34.0,46.7],\"line\":{\"color\":\"green\",\"width\":1},\"locationmode\":\"USA-states\",\"lon\":[-118.4,-117.2],\"mode\":\"lines\",\"opacity\":0.1111111111111111,\"type\":\"scattergeo\"},{\"lat\":[34.0,47.7],\"line\":{\"color\":\"green\",\"width\":1},\"locationmode\":\"USA-states\",\"lon\":[-118.0,-122.3],\"mode\":\"lines\",\"opacity\":0.1111111111111111,\"type\":\"scattergeo\"},{\"lat\":[34.0,33.4],\"line\":{\"color\":\"green\",\"width\":1},\"locationmode\":\"USA-states\",\"lon\":[-117.4,-111.9],\"mode\":\"lines\",\"opacity\":0.1111111111111111,\"type\":\"scattergeo\"},{\"lat\":[34.0,33.5],\"line\":{\"color\":\"red\",\"width\":1},\"locationmode\":\"USA-states\",\"lon\":[-88.5,-88.8],\"mode\":\"lines\",\"opacity\":0.1111111111111111,\"type\":\"scattergeo\"},{\"lat\":[34.0,36.0],\"line\":{\"color\":\"lightblue\",\"width\":1},\"locationmode\":\"USA-states\",\"lon\":[-86.1,-78.9],\"mode\":\"lines\",\"opacity\":0.1111111111111111,\"type\":\"scattergeo\"},{\"lat\":[34.0,30.4],\"line\":{\"color\":\"lightblue\",\"width\":1},\"locationmode\":\"USA-states\",\"lon\":[-86.0,-84.3],\"mode\":\"lines\",\"opacity\":0.1111111111111111,\"type\":\"scattergeo\"},{\"lat\":[34.0,36.1],\"line\":{\"color\":\"red\",\"width\":1},\"locationmode\":\"USA-states\",\"lon\":[-85.3,-94.2],\"mode\":\"lines\",\"opacity\":0.1111111111111111,\"type\":\"scattergeo\"},{\"lat\":[34.0,36.1],\"line\":{\"color\":\"red\",\"width\":1},\"locationmode\":\"USA-states\",\"lon\":[-84.6,-86.8],\"mode\":\"lines\",\"opacity\":0.1111111111111111,\"type\":\"scattergeo\"},{\"lat\":[34.0,37.2],\"line\":{\"color\":\"lightblue\",\"width\":1},\"locationmode\":\"USA-states\",\"lon\":[-84.6,-80.4],\"mode\":\"lines\",\"opacity\":0.1111111111111111,\"type\":\"scattergeo\"},{\"lat\":[34.0,36.0],\"line\":{\"color\":\"red\",\"width\":1},\"locationmode\":\"USA-states\",\"lon\":[-84.4,-83.9],\"mode\":\"lines\",\"opacity\":0.1111111111111111,\"type\":\"scattergeo\"},{\"lat\":[34.0,38.0],\"line\":{\"color\":\"lightblue\",\"width\":1},\"locationmode\":\"USA-states\",\"lon\":[-84.4,-78.5],\"mode\":\"lines\",\"opacity\":0.2222222222222222,\"type\":\"scattergeo\"},{\"lat\":[34.0,38.2],\"line\":{\"color\":\"lightblue\",\"width\":1},\"locationmode\":\"USA-states\",\"lon\":[-84.4,-85.8],\"mode\":\"lines\",\"opacity\":0.1111111111111111,\"type\":\"scattergeo\"},{\"lat\":[34.0,39.0],\"line\":{\"color\":\"purple\",\"width\":1},\"locationmode\":\"USA-states\",\"lon\":[-84.4,-95.2],\"mode\":\"lines\",\"opacity\":0.1111111111111111,\"type\":\"scattergeo\"},{\"lat\":[34.0,34.4],\"line\":{\"color\":\"red\",\"width\":1},\"locationmode\":\"USA-states\",\"lon\":[-84.0,-89.5],\"mode\":\"lines\",\"opacity\":0.1111111111111111,\"type\":\"scattergeo\"},{\"lat\":[34.0,33.8],\"line\":{\"color\":\"lightblue\",\"width\":1},\"locationmode\":\"USA-states\",\"lon\":[-83.9,-84.4],\"mode\":\"lines\",\"opacity\":0.1111111111111111,\"type\":\"scattergeo\"},{\"lat\":[34.0,34.0],\"line\":{\"color\":\"red\",\"width\":1},\"locationmode\":\"USA-states\",\"lon\":[-83.9,-81.0],\"mode\":\"lines\",\"opacity\":0.1111111111111111,\"type\":\"scattergeo\"},{\"lat\":[34.0,38.0],\"line\":{\"color\":\"lightblue\",\"width\":1},\"locationmode\":\"USA-states\",\"lon\":[-83.4,-78.5],\"mode\":\"lines\",\"opacity\":0.1111111111111111,\"type\":\"scattergeo\"},{\"lat\":[34.0,43.0],\"line\":{\"color\":\"lightblue\",\"width\":1},\"locationmode\":\"USA-states\",\"lon\":[-81.2,-76.1],\"mode\":\"lines\",\"opacity\":0.1111111111111111,\"type\":\"scattergeo\"},{\"lat\":[34.0,34.7],\"line\":{\"color\":\"lightblue\",\"width\":1},\"locationmode\":\"USA-states\",\"lon\":[-81.0,-82.8],\"mode\":\"lines\",\"opacity\":0.1111111111111111,\"type\":\"scattergeo\"},{\"lat\":[34.1,39.0],\"line\":{\"color\":\"blue\",\"width\":1},\"locationmode\":\"USA-states\",\"lon\":[-118.8,-76.9],\"mode\":\"lines\",\"opacity\":0.1111111111111111,\"type\":\"scattergeo\"},{\"lat\":[34.1,40.0],\"line\":{\"color\":\"green\",\"width\":1},\"locationmode\":\"USA-states\",\"lon\":[-118.8,-105.3],\"mode\":\"lines\",\"opacity\":0.1111111111111111,\"type\":\"scattergeo\"},{\"lat\":[34.1,40.8],\"line\":{\"color\":\"green\",\"width\":1},\"locationmode\":\"USA-states\",\"lon\":[-118.8,-111.8],\"mode\":\"lines\",\"opacity\":0.1111111111111111,\"type\":\"scattergeo\"},{\"lat\":[34.1,34.0],\"line\":{\"color\":\"green\",\"width\":1},\"locationmode\":\"USA-states\",\"lon\":[-118.2,-118.3],\"mode\":\"lines\",\"opacity\":0.1111111111111111,\"type\":\"scattergeo\"},{\"lat\":[34.1,44.6],\"line\":{\"color\":\"green\",\"width\":1},\"locationmode\":\"USA-states\",\"lon\":[-118.2,-123.3],\"mode\":\"lines\",\"opacity\":0.1111111111111111,\"type\":\"scattergeo\"},{\"lat\":[34.1,47.7],\"line\":{\"color\":\"green\",\"width\":1},\"locationmode\":\"USA-states\",\"lon\":[-118.2,-122.3],\"mode\":\"lines\",\"opacity\":0.1111111111111111,\"type\":\"scattergeo\"},{\"lat\":[34.1,30.3],\"line\":{\"color\":\"purple\",\"width\":1},\"locationmode\":\"USA-states\",\"lon\":[-118.1,-97.7],\"mode\":\"lines\",\"opacity\":0.1111111111111111,\"type\":\"scattergeo\"},{\"lat\":[34.1,34.0],\"line\":{\"color\":\"green\",\"width\":1},\"locationmode\":\"USA-states\",\"lon\":[-118.1,-118.3],\"mode\":\"lines\",\"opacity\":0.1111111111111111,\"type\":\"scattergeo\"},{\"lat\":[34.1,44.1],\"line\":{\"color\":\"green\",\"width\":1},\"locationmode\":\"USA-states\",\"lon\":[-117.6,-123.1],\"mode\":\"lines\",\"opacity\":0.1111111111111111,\"type\":\"scattergeo\"},{\"lat\":[34.1,46.7],\"line\":{\"color\":\"green\",\"width\":1},\"locationmode\":\"USA-states\",\"lon\":[-117.3,-117.2],\"mode\":\"lines\",\"opacity\":0.1111111111111111,\"type\":\"scattergeo\"},{\"lat\":[34.1,33.9],\"line\":{\"color\":\"red\",\"width\":1},\"locationmode\":\"USA-states\",\"lon\":[-84.5,-83.4],\"mode\":\"lines\",\"opacity\":0.1111111111111111,\"type\":\"scattergeo\"},{\"lat\":[34.1,35.8],\"line\":{\"color\":\"lightblue\",\"width\":1},\"locationmode\":\"USA-states\",\"lon\":[-84.3,-78.7],\"mode\":\"lines\",\"opacity\":0.1111111111111111,\"type\":\"scattergeo\"},{\"lat\":[34.1,36.0],\"line\":{\"color\":\"lightblue\",\"width\":1},\"locationmode\":\"USA-states\",\"lon\":[-84.3,-78.9],\"mode\":\"lines\",\"opacity\":0.1111111111111111,\"type\":\"scattergeo\"},{\"lat\":[34.1,37.2],\"line\":{\"color\":\"lightblue\",\"width\":1},\"locationmode\":\"USA-states\",\"lon\":[-84.3,-80.4],\"mode\":\"lines\",\"opacity\":0.1111111111111111,\"type\":\"scattergeo\"},{\"lat\":[34.1,37.4],\"line\":{\"color\":\"green\",\"width\":1},\"locationmode\":\"USA-states\",\"lon\":[-84.3,-122.2],\"mode\":\"lines\",\"opacity\":0.1111111111111111,\"type\":\"scattergeo\"},{\"lat\":[34.1,34.7],\"line\":{\"color\":\"lightblue\",\"width\":1},\"locationmode\":\"USA-states\",\"lon\":[-84.1,-82.8],\"mode\":\"lines\",\"opacity\":0.1111111111111111,\"type\":\"scattergeo\"},{\"lat\":[34.1,36.0],\"line\":{\"color\":\"red\",\"width\":1},\"locationmode\":\"USA-states\",\"lon\":[-84.1,-83.9],\"mode\":\"lines\",\"opacity\":0.1111111111111111,\"type\":\"scattergeo\"},{\"lat\":[34.1,39.0],\"line\":{\"color\":\"purple\",\"width\":1},\"locationmode\":\"USA-states\",\"lon\":[-84.1,-95.2],\"mode\":\"lines\",\"opacity\":0.1111111111111111,\"type\":\"scattergeo\"},{\"lat\":[34.1,40.0],\"line\":{\"color\":\"blue\",\"width\":1},\"locationmode\":\"USA-states\",\"lon\":[-84.1,-83.0],\"mode\":\"lines\",\"opacity\":0.1111111111111111,\"type\":\"scattergeo\"},{\"lat\":[34.1,28.6],\"line\":{\"color\":\"purple\",\"width\":1},\"locationmode\":\"USA-states\",\"lon\":[-84.0,-81.2],\"mode\":\"lines\",\"opacity\":0.1111111111111111,\"type\":\"scattergeo\"},{\"lat\":[34.1,40.8],\"line\":{\"color\":\"blue\",\"width\":1},\"locationmode\":\"USA-states\",\"lon\":[-84.0,-96.7],\"mode\":\"lines\",\"opacity\":0.2222222222222222,\"type\":\"scattergeo\"},{\"lat\":[34.1,39.7],\"line\":{\"color\":\"purple\",\"width\":1},\"locationmode\":\"USA-states\",\"lon\":[-83.8,-80.0],\"mode\":\"lines\",\"opacity\":0.1111111111111111,\"type\":\"scattergeo\"},{\"lat\":[34.1,33.9],\"line\":{\"color\":\"red\",\"width\":1},\"locationmode\":\"USA-states\",\"lon\":[-82.9,-83.4],\"mode\":\"lines\",\"opacity\":0.1111111111111111,\"type\":\"scattergeo\"},{\"lat\":[34.2,40.8],\"line\":{\"color\":\"green\",\"width\":1},\"locationmode\":\"USA-states\",\"lon\":[-118.2,-111.8],\"mode\":\"lines\",\"opacity\":0.1111111111111111,\"type\":\"scattergeo\"},{\"lat\":[34.2,29.6],\"line\":{\"color\":\"red\",\"width\":1},\"locationmode\":\"USA-states\",\"lon\":[-84.8,-82.3],\"mode\":\"lines\",\"opacity\":0.1111111111111111,\"type\":\"scattergeo\"},{\"lat\":[34.2,36.1],\"line\":{\"color\":\"lightblue\",\"width\":1},\"locationmode\":\"USA-states\",\"lon\":[-84.8,-80.3],\"mode\":\"lines\",\"opacity\":0.1111111111111111,\"type\":\"scattergeo\"},{\"lat\":[34.2,38.0],\"line\":{\"color\":\"red\",\"width\":1},\"locationmode\":\"USA-states\",\"lon\":[-84.8,-84.5],\"mode\":\"lines\",\"opacity\":0.1111111111111111,\"type\":\"scattergeo\"},{\"lat\":[34.2,33.9],\"line\":{\"color\":\"red\",\"width\":1},\"locationmode\":\"USA-states\",\"lon\":[-84.1,-83.4],\"mode\":\"lines\",\"opacity\":0.1111111111111111,\"type\":\"scattergeo\"},{\"lat\":[34.2,35.8],\"line\":{\"color\":\"lightblue\",\"width\":1},\"locationmode\":\"USA-states\",\"lon\":[-81.3,-78.7],\"mode\":\"lines\",\"opacity\":0.1111111111111111,\"type\":\"scattergeo\"},{\"lat\":[34.2,30.4],\"line\":{\"color\":\"lightblue\",\"width\":1},\"locationmode\":\"USA-states\",\"lon\":[-81.0,-84.3],\"mode\":\"lines\",\"opacity\":0.1111111111111111,\"type\":\"scattergeo\"},{\"lat\":[34.2,37.2],\"line\":{\"color\":\"lightblue\",\"width\":1},\"locationmode\":\"USA-states\",\"lon\":[-79.8,-80.4],\"mode\":\"lines\",\"opacity\":0.1111111111111111,\"type\":\"scattergeo\"},{\"lat\":[34.3,34.0],\"line\":{\"color\":\"green\",\"width\":1},\"locationmode\":\"USA-states\",\"lon\":[-118.8,-118.3],\"mode\":\"lines\",\"opacity\":0.1111111111111111,\"type\":\"scattergeo\"},{\"lat\":[34.3,33.8],\"line\":{\"color\":\"lightblue\",\"width\":1},\"locationmode\":\"USA-states\",\"lon\":[-118.6,-84.4],\"mode\":\"lines\",\"opacity\":0.1111111111111111,\"type\":\"scattergeo\"},{\"lat\":[34.3,37.2],\"line\":{\"color\":\"lightblue\",\"width\":1},\"locationmode\":\"USA-states\",\"lon\":[-118.6,-80.4],\"mode\":\"lines\",\"opacity\":0.1111111111111111,\"type\":\"scattergeo\"},{\"lat\":[34.3,36.0],\"line\":{\"color\":\"red\",\"width\":1},\"locationmode\":\"USA-states\",\"lon\":[-86.2,-83.9],\"mode\":\"lines\",\"opacity\":0.1111111111111111,\"type\":\"scattergeo\"},{\"lat\":[34.3,34.4],\"line\":{\"color\":\"red\",\"width\":1},\"locationmode\":\"USA-states\",\"lon\":[-83.8,-89.5],\"mode\":\"lines\",\"opacity\":0.1111111111111111,\"type\":\"scattergeo\"},{\"lat\":[34.3,36.0],\"line\":{\"color\":\"red\",\"width\":1},\"locationmode\":\"USA-states\",\"lon\":[-83.8,-83.9],\"mode\":\"lines\",\"opacity\":0.1111111111111111,\"type\":\"scattergeo\"},{\"lat\":[34.3,39.0],\"line\":{\"color\":\"purple\",\"width\":1},\"locationmode\":\"USA-states\",\"lon\":[-83.8,-95.2],\"mode\":\"lines\",\"opacity\":0.1111111111111111,\"type\":\"scattergeo\"},{\"lat\":[34.4,43.1],\"line\":{\"color\":\"blue\",\"width\":1},\"locationmode\":\"USA-states\",\"lon\":[-119.7,-89.4],\"mode\":\"lines\",\"opacity\":0.1111111111111111,\"type\":\"scattergeo\"},{\"lat\":[34.4,34.2],\"line\":{\"color\":\"green\",\"width\":1},\"locationmode\":\"USA-states\",\"lon\":[-117.6,-118.2],\"mode\":\"lines\",\"opacity\":0.1111111111111111,\"type\":\"scattergeo\"},{\"lat\":[34.4,37.2],\"line\":{\"color\":\"lightblue\",\"width\":1},\"locationmode\":\"USA-states\",\"lon\":[-82.9,-80.4],\"mode\":\"lines\",\"opacity\":0.1111111111111111,\"type\":\"scattergeo\"},{\"lat\":[34.4,38.2],\"line\":{\"color\":\"lightblue\",\"width\":1},\"locationmode\":\"USA-states\",\"lon\":[-79.4,-85.8],\"mode\":\"lines\",\"opacity\":0.1111111111111111,\"type\":\"scattergeo\"},{\"lat\":[34.4,36.1],\"line\":{\"color\":\"lightblue\",\"width\":1},\"locationmode\":\"USA-states\",\"lon\":[-77.7,-80.3],\"mode\":\"lines\",\"opacity\":0.1111111111111111,\"type\":\"scattergeo\"},{\"lat\":[34.5,40.0],\"line\":{\"color\":\"green\",\"width\":1},\"locationmode\":\"USA-states\",\"lon\":[-87.7,-105.3],\"mode\":\"lines\",\"opacity\":0.1111111111111111,\"type\":\"scattergeo\"},{\"lat\":[34.5,36.0],\"line\":{\"color\":\"lightblue\",\"width\":1},\"locationmode\":\"USA-states\",\"lon\":[-83.5,-78.9],\"mode\":\"lines\",\"opacity\":0.1111111111111111,\"type\":\"scattergeo\"},{\"lat\":[34.5,43.0],\"line\":{\"color\":\"lightblue\",\"width\":1},\"locationmode\":\"USA-states\",\"lon\":[-82.7,-76.1],\"mode\":\"lines\",\"opacity\":0.1111111111111111,\"type\":\"scattergeo\"},{\"lat\":[34.5,28.6],\"line\":{\"color\":\"purple\",\"width\":1},\"locationmode\":\"USA-states\",\"lon\":[-79.1,-81.2],\"mode\":\"lines\",\"opacity\":0.1111111111111111,\"type\":\"scattergeo\"},{\"lat\":[34.6,39.0],\"line\":{\"color\":\"purple\",\"width\":1},\"locationmode\":\"USA-states\",\"lon\":[-94.2,-95.2],\"mode\":\"lines\",\"opacity\":0.1111111111111111,\"type\":\"scattergeo\"},{\"lat\":[34.6,36.1],\"line\":{\"color\":\"red\",\"width\":1},\"locationmode\":\"USA-states\",\"lon\":[-83.3,-86.8],\"mode\":\"lines\",\"opacity\":0.1111111111111111,\"type\":\"scattergeo\"},{\"lat\":[34.7,33.4],\"line\":{\"color\":\"green\",\"width\":1},\"locationmode\":\"USA-states\",\"lon\":[-120.4,-111.9],\"mode\":\"lines\",\"opacity\":0.1111111111111111,\"type\":\"scattergeo\"},{\"lat\":[34.7,34.0],\"line\":{\"color\":\"green\",\"width\":1},\"locationmode\":\"USA-states\",\"lon\":[-120.4,-118.3],\"mode\":\"lines\",\"opacity\":0.2222222222222222,\"type\":\"scattergeo\"},{\"lat\":[34.7,34.2],\"line\":{\"color\":\"green\",\"width\":1},\"locationmode\":\"USA-states\",\"lon\":[-120.4,-118.2],\"mode\":\"lines\",\"opacity\":0.1111111111111111,\"type\":\"scattergeo\"},{\"lat\":[34.7,37.9],\"line\":{\"color\":\"green\",\"width\":1},\"locationmode\":\"USA-states\",\"lon\":[-120.4,-122.3],\"mode\":\"lines\",\"opacity\":0.1111111111111111,\"type\":\"scattergeo\"},{\"lat\":[34.7,36.1],\"line\":{\"color\":\"red\",\"width\":1},\"locationmode\":\"USA-states\",\"lon\":[-92.3,-94.2],\"mode\":\"lines\",\"opacity\":0.2222222222222222,\"type\":\"scattergeo\"},{\"lat\":[34.7,39.0],\"line\":{\"color\":\"purple\",\"width\":1},\"locationmode\":\"USA-states\",\"lon\":[-92.3,-95.2],\"mode\":\"lines\",\"opacity\":0.1111111111111111,\"type\":\"scattergeo\"},{\"lat\":[34.7,30.4],\"line\":{\"color\":\"lightblue\",\"width\":1},\"locationmode\":\"USA-states\",\"lon\":[-86.6,-84.3],\"mode\":\"lines\",\"opacity\":0.1111111111111111,\"type\":\"scattergeo\"},{\"lat\":[34.7,36.1],\"line\":{\"color\":\"red\",\"width\":1},\"locationmode\":\"USA-states\",\"lon\":[-86.6,-86.8],\"mode\":\"lines\",\"opacity\":0.1111111111111111,\"type\":\"scattergeo\"},{\"lat\":[34.7,38.0],\"line\":{\"color\":\"red\",\"width\":1},\"locationmode\":\"USA-states\",\"lon\":[-86.6,-84.5],\"mode\":\"lines\",\"opacity\":0.1111111111111111,\"type\":\"scattergeo\"},{\"lat\":[34.7,35.9],\"line\":{\"color\":\"lightblue\",\"width\":1},\"locationmode\":\"USA-states\",\"lon\":[-77.4,-79.0],\"mode\":\"lines\",\"opacity\":0.1111111111111111,\"type\":\"scattergeo\"},{\"lat\":[34.8,34.2],\"line\":{\"color\":\"green\",\"width\":1},\"locationmode\":\"USA-states\",\"lon\":[-106.8,-118.2],\"mode\":\"lines\",\"opacity\":0.1111111111111111,\"type\":\"scattergeo\"},{\"lat\":[34.8,42.7],\"line\":{\"color\":\"blue\",\"width\":1},\"locationmode\":\"USA-states\",\"lon\":[-87.7,-84.5],\"mode\":\"lines\",\"opacity\":0.1111111111111111,\"type\":\"scattergeo\"},{\"lat\":[34.9,40.0],\"line\":{\"color\":\"green\",\"width\":1},\"locationmode\":\"USA-states\",\"lon\":[-92.1,-105.3],\"mode\":\"lines\",\"opacity\":0.1111111111111111,\"type\":\"scattergeo\"},{\"lat\":[34.9,33.5],\"line\":{\"color\":\"red\",\"width\":1},\"locationmode\":\"USA-states\",\"lon\":[-90.2,-88.8],\"mode\":\"lines\",\"opacity\":0.1111111111111111,\"type\":\"scattergeo\"},{\"lat\":[34.9,34.4],\"line\":{\"color\":\"red\",\"width\":1},\"locationmode\":\"USA-states\",\"lon\":[-86.7,-89.5],\"mode\":\"lines\",\"opacity\":0.1111111111111111,\"type\":\"scattergeo\"},{\"lat\":[34.9,42.3],\"line\":{\"color\":\"lightblue\",\"width\":1},\"locationmode\":\"USA-states\",\"lon\":[-86.7,-71.2],\"mode\":\"lines\",\"opacity\":0.1111111111111111,\"type\":\"scattergeo\"},{\"lat\":[34.9,36.1],\"line\":{\"color\":\"lightblue\",\"width\":1},\"locationmode\":\"USA-states\",\"lon\":[-82.2,-80.3],\"mode\":\"lines\",\"opacity\":0.1111111111111111,\"type\":\"scattergeo\"},{\"lat\":[34.9,37.2],\"line\":{\"color\":\"lightblue\",\"width\":1},\"locationmode\":\"USA-states\",\"lon\":[-82.0,-80.4],\"mode\":\"lines\",\"opacity\":0.1111111111111111,\"type\":\"scattergeo\"},{\"lat\":[34.9,33.2],\"line\":{\"color\":\"red\",\"width\":1},\"locationmode\":\"USA-states\",\"lon\":[-81.0,-87.6],\"mode\":\"lines\",\"opacity\":0.1111111111111111,\"type\":\"scattergeo\"},{\"lat\":[34.9,34.0],\"line\":{\"color\":\"red\",\"width\":1},\"locationmode\":\"USA-states\",\"lon\":[-81.0,-81.0],\"mode\":\"lines\",\"opacity\":0.1111111111111111,\"type\":\"scattergeo\"},{\"lat\":[34.9,35.8],\"line\":{\"color\":\"lightblue\",\"width\":1},\"locationmode\":\"USA-states\",\"lon\":[-79.8,-78.7],\"mode\":\"lines\",\"opacity\":0.2222222222222222,\"type\":\"scattergeo\"},{\"lat\":[34.9,35.9],\"line\":{\"color\":\"lightblue\",\"width\":1},\"locationmode\":\"USA-states\",\"lon\":[-79.8,-79.0],\"mode\":\"lines\",\"opacity\":0.1111111111111111,\"type\":\"scattergeo\"},{\"lat\":[34.9,35.9],\"line\":{\"color\":\"lightblue\",\"width\":1},\"locationmode\":\"USA-states\",\"lon\":[-76.9,-79.0],\"mode\":\"lines\",\"opacity\":0.1111111111111111,\"type\":\"scattergeo\"},{\"lat\":[35.0,36.1],\"line\":{\"color\":\"red\",\"width\":1},\"locationmode\":\"USA-states\",\"lon\":[-90.8,-94.2],\"mode\":\"lines\",\"opacity\":0.1111111111111111,\"type\":\"scattergeo\"},{\"lat\":[35.0,44.1],\"line\":{\"color\":\"green\",\"width\":1},\"locationmode\":\"USA-states\",\"lon\":[-90.0,-123.1],\"mode\":\"lines\",\"opacity\":0.1111111111111111,\"type\":\"scattergeo\"},{\"lat\":[35.0,30.4],\"line\":{\"color\":\"red\",\"width\":1},\"locationmode\":\"USA-states\",\"lon\":[-89.8,-91.2],\"mode\":\"lines\",\"opacity\":0.1111111111111111,\"type\":\"scattergeo\"},{\"lat\":[35.0,37.2],\"line\":{\"color\":\"lightblue\",\"width\":1},\"locationmode\":\"USA-states\",\"lon\":[-85.3,-80.4],\"mode\":\"lines\",\"opacity\":0.1111111111111111,\"type\":\"scattergeo\"},{\"lat\":[35.0,38.9],\"line\":{\"color\":\"red\",\"width\":1},\"locationmode\":\"USA-states\",\"lon\":[-85.3,-92.3],\"mode\":\"lines\",\"opacity\":0.1111111111111111,\"type\":\"scattergeo\"},{\"lat\":[35.0,35.9],\"line\":{\"color\":\"lightblue\",\"width\":1},\"locationmode\":\"USA-states\",\"lon\":[-80.5,-79.0],\"mode\":\"lines\",\"opacity\":0.1111111111111111,\"type\":\"scattergeo\"},{\"lat\":[35.0,38.2],\"line\":{\"color\":\"lightblue\",\"width\":1},\"locationmode\":\"USA-states\",\"lon\":[-80.5,-85.8],\"mode\":\"lines\",\"opacity\":0.1111111111111111,\"type\":\"scattergeo\"},{\"lat\":[35.1,46.7],\"line\":{\"color\":\"green\",\"width\":1},\"locationmode\":\"USA-states\",\"lon\":[-106.7,-117.2],\"mode\":\"lines\",\"opacity\":0.1111111111111111,\"type\":\"scattergeo\"},{\"lat\":[35.1,34.4],\"line\":{\"color\":\"red\",\"width\":1},\"locationmode\":\"USA-states\",\"lon\":[-92.4,-89.5],\"mode\":\"lines\",\"opacity\":0.1111111111111111,\"type\":\"scattergeo\"},{\"lat\":[35.1,38.9],\"line\":{\"color\":\"red\",\"width\":1},\"locationmode\":\"USA-states\",\"lon\":[-90.1,-92.3],\"mode\":\"lines\",\"opacity\":0.1111111111111111,\"type\":\"scattergeo\"},{\"lat\":[35.1,29.6],\"line\":{\"color\":\"red\",\"width\":1},\"locationmode\":\"USA-states\",\"lon\":[-84.0,-82.3],\"mode\":\"lines\",\"opacity\":0.1111111111111111,\"type\":\"scattergeo\"},{\"lat\":[35.1,33.9],\"line\":{\"color\":\"red\",\"width\":1},\"locationmode\":\"USA-states\",\"lon\":[-81.6,-83.4],\"mode\":\"lines\",\"opacity\":0.1111111111111111,\"type\":\"scattergeo\"},{\"lat\":[35.1,35.9],\"line\":{\"color\":\"lightblue\",\"width\":1},\"locationmode\":\"USA-states\",\"lon\":[-81.6,-79.0],\"mode\":\"lines\",\"opacity\":0.1111111111111111,\"type\":\"scattergeo\"},{\"lat\":[35.1,34.7],\"line\":{\"color\":\"lightblue\",\"width\":1},\"locationmode\":\"USA-states\",\"lon\":[-80.7,-82.8],\"mode\":\"lines\",\"opacity\":0.1111111111111111,\"type\":\"scattergeo\"},{\"lat\":[35.2,36.1],\"line\":{\"color\":\"purple\",\"width\":1},\"locationmode\":\"USA-states\",\"lon\":[-97.4,-97.1],\"mode\":\"lines\",\"opacity\":0.1111111111111111,\"type\":\"scattergeo\"},{\"lat\":[35.2,36.1],\"line\":{\"color\":\"red\",\"width\":1},\"locationmode\":\"USA-states\",\"lon\":[-90.8,-94.2],\"mode\":\"lines\",\"opacity\":0.1111111111111111,\"type\":\"scattergeo\"},{\"lat\":[35.2,34.7],\"line\":{\"color\":\"lightblue\",\"width\":1},\"locationmode\":\"USA-states\",\"lon\":[-89.8,-82.8],\"mode\":\"lines\",\"opacity\":0.1111111111111111,\"type\":\"scattergeo\"},{\"lat\":[35.2,34.4],\"line\":{\"color\":\"red\",\"width\":1},\"locationmode\":\"USA-states\",\"lon\":[-88.2,-89.5],\"mode\":\"lines\",\"opacity\":0.1111111111111111,\"type\":\"scattergeo\"},{\"lat\":[35.2,38.0],\"line\":{\"color\":\"lightblue\",\"width\":1},\"locationmode\":\"USA-states\",\"lon\":[-84.9,-78.5],\"mode\":\"lines\",\"opacity\":0.1111111111111111,\"type\":\"scattergeo\"},{\"lat\":[35.2,38.9],\"line\":{\"color\":\"red\",\"width\":1},\"locationmode\":\"USA-states\",\"lon\":[-81.3,-92.3],\"mode\":\"lines\",\"opacity\":0.1111111111111111,\"type\":\"scattergeo\"},{\"lat\":[35.2,33.4],\"line\":{\"color\":\"green\",\"width\":1},\"locationmode\":\"USA-states\",\"lon\":[-80.8,-111.9],\"mode\":\"lines\",\"opacity\":0.1111111111111111,\"type\":\"scattergeo\"},{\"lat\":[35.2,35.9],\"line\":{\"color\":\"lightblue\",\"width\":1},\"locationmode\":\"USA-states\",\"lon\":[-80.8,-79.0],\"mode\":\"lines\",\"opacity\":0.3333333333333333,\"type\":\"scattergeo\"},{\"lat\":[35.2,36.1],\"line\":{\"color\":\"lightblue\",\"width\":1},\"locationmode\":\"USA-states\",\"lon\":[-80.8,-80.3],\"mode\":\"lines\",\"opacity\":0.1111111111111111,\"type\":\"scattergeo\"},{\"lat\":[35.2,35.8],\"line\":{\"color\":\"lightblue\",\"width\":1},\"locationmode\":\"USA-states\",\"lon\":[-80.3,-78.7],\"mode\":\"lines\",\"opacity\":0.2222222222222222,\"type\":\"scattergeo\"},{\"lat\":[35.3,34.2],\"line\":{\"color\":\"green\",\"width\":1},\"locationmode\":\"USA-states\",\"lon\":[-120.7,-118.2],\"mode\":\"lines\",\"opacity\":0.1111111111111111,\"type\":\"scattergeo\"},{\"lat\":[35.3,36.1],\"line\":{\"color\":\"red\",\"width\":1},\"locationmode\":\"USA-states\",\"lon\":[-97.5,-94.2],\"mode\":\"lines\",\"opacity\":0.1111111111111111,\"type\":\"scattergeo\"},{\"lat\":[35.3,37.2],\"line\":{\"color\":\"lightblue\",\"width\":1},\"locationmode\":\"USA-states\",\"lon\":[-81.5,-80.4],\"mode\":\"lines\",\"opacity\":0.1111111111111111,\"type\":\"scattergeo\"},{\"lat\":[35.3,35.9],\"line\":{\"color\":\"lightblue\",\"width\":1},\"locationmode\":\"USA-states\",\"lon\":[-81.2,-79.0],\"mode\":\"lines\",\"opacity\":0.1111111111111111,\"type\":\"scattergeo\"},{\"lat\":[35.3,36.1],\"line\":{\"color\":\"lightblue\",\"width\":1},\"locationmode\":\"USA-states\",\"lon\":[-81.2,-80.3],\"mode\":\"lines\",\"opacity\":0.1111111111111111,\"type\":\"scattergeo\"},{\"lat\":[35.3,35.9],\"line\":{\"color\":\"lightblue\",\"width\":1},\"locationmode\":\"USA-states\",\"lon\":[-81.0,-79.0],\"mode\":\"lines\",\"opacity\":0.1111111111111111,\"type\":\"scattergeo\"},{\"lat\":[35.4,47.7],\"line\":{\"color\":\"green\",\"width\":1},\"locationmode\":\"USA-states\",\"lon\":[-120.6,-122.3],\"mode\":\"lines\",\"opacity\":0.1111111111111111,\"type\":\"scattergeo\"},{\"lat\":[35.4,37.4],\"line\":{\"color\":\"green\",\"width\":1},\"locationmode\":\"USA-states\",\"lon\":[-119.0,-122.2],\"mode\":\"lines\",\"opacity\":0.1111111111111111,\"type\":\"scattergeo\"},{\"lat\":[35.4,30.6],\"line\":{\"color\":\"red\",\"width\":1},\"locationmode\":\"USA-states\",\"lon\":[-94.4,-96.3],\"mode\":\"lines\",\"opacity\":0.1111111111111111,\"type\":\"scattergeo\"},{\"lat\":[35.4,37.2],\"line\":{\"color\":\"lightblue\",\"width\":1},\"locationmode\":\"USA-states\",\"lon\":[-84.6,-80.4],\"mode\":\"lines\",\"opacity\":0.1111111111111111,\"type\":\"scattergeo\"},{\"lat\":[35.4,35.8],\"line\":{\"color\":\"lightblue\",\"width\":1},\"locationmode\":\"USA-states\",\"lon\":[-80.8,-78.7],\"mode\":\"lines\",\"opacity\":0.1111111111111111,\"type\":\"scattergeo\"},{\"lat\":[35.4,35.9],\"line\":{\"color\":\"lightblue\",\"width\":1},\"locationmode\":\"USA-states\",\"lon\":[-80.6,-79.0],\"mode\":\"lines\",\"opacity\":0.1111111111111111,\"type\":\"scattergeo\"},{\"lat\":[35.4,34.0],\"line\":{\"color\":\"red\",\"width\":1},\"locationmode\":\"USA-states\",\"lon\":[-78.0,-81.0],\"mode\":\"lines\",\"opacity\":0.1111111111111111,\"type\":\"scattergeo\"},{\"lat\":[35.5,35.2],\"line\":{\"color\":\"purple\",\"width\":1},\"locationmode\":\"USA-states\",\"lon\":[-98.7,-97.4],\"mode\":\"lines\",\"opacity\":0.1111111111111111,\"type\":\"scattergeo\"},{\"lat\":[35.5,36.1],\"line\":{\"color\":\"purple\",\"width\":1},\"locationmode\":\"USA-states\",\"lon\":[-97.5,-97.1],\"mode\":\"lines\",\"opacity\":0.2222222222222222,\"type\":\"scattergeo\"},{\"lat\":[35.5,36.1],\"line\":{\"color\":\"red\",\"width\":1},\"locationmode\":\"USA-states\",\"lon\":[-97.5,-94.2],\"mode\":\"lines\",\"opacity\":0.2222222222222222,\"type\":\"scattergeo\"},{\"lat\":[35.5,32.7],\"line\":{\"color\":\"purple\",\"width\":1},\"locationmode\":\"USA-states\",\"lon\":[-97.3,-97.4],\"mode\":\"lines\",\"opacity\":0.1111111111111111,\"type\":\"scattergeo\"},{\"lat\":[35.5,35.2],\"line\":{\"color\":\"purple\",\"width\":1},\"locationmode\":\"USA-states\",\"lon\":[-97.3,-97.4],\"mode\":\"lines\",\"opacity\":0.1111111111111111,\"type\":\"scattergeo\"},{\"lat\":[35.5,36.1],\"line\":{\"color\":\"red\",\"width\":1},\"locationmode\":\"USA-states\",\"lon\":[-95.0,-94.2],\"mode\":\"lines\",\"opacity\":0.1111111111111111,\"type\":\"scattergeo\"},{\"lat\":[35.5,28.6],\"line\":{\"color\":\"purple\",\"width\":1},\"locationmode\":\"USA-states\",\"lon\":[-82.5,-81.2],\"mode\":\"lines\",\"opacity\":0.1111111111111111,\"type\":\"scattergeo\"},{\"lat\":[35.5,38.0],\"line\":{\"color\":\"lightblue\",\"width\":1},\"locationmode\":\"USA-states\",\"lon\":[-82.5,-78.5],\"mode\":\"lines\",\"opacity\":0.1111111111111111,\"type\":\"scattergeo\"},{\"lat\":[35.5,35.8],\"line\":{\"color\":\"lightblue\",\"width\":1},\"locationmode\":\"USA-states\",\"lon\":[-81.3,-78.7],\"mode\":\"lines\",\"opacity\":0.2222222222222222,\"type\":\"scattergeo\"},{\"lat\":[35.5,35.8],\"line\":{\"color\":\"lightblue\",\"width\":1},\"locationmode\":\"USA-states\",\"lon\":[-80.9,-78.7],\"mode\":\"lines\",\"opacity\":0.2222222222222222,\"type\":\"scattergeo\"},{\"lat\":[35.5,38.0],\"line\":{\"color\":\"lightblue\",\"width\":1},\"locationmode\":\"USA-states\",\"lon\":[-80.9,-78.5],\"mode\":\"lines\",\"opacity\":0.1111111111111111,\"type\":\"scattergeo\"},{\"lat\":[35.5,38.2],\"line\":{\"color\":\"lightblue\",\"width\":1},\"locationmode\":\"USA-states\",\"lon\":[-80.9,-85.8],\"mode\":\"lines\",\"opacity\":0.1111111111111111,\"type\":\"scattergeo\"},{\"lat\":[35.5,40.0],\"line\":{\"color\":\"green\",\"width\":1},\"locationmode\":\"USA-states\",\"lon\":[-80.9,-105.3],\"mode\":\"lines\",\"opacity\":0.1111111111111111,\"type\":\"scattergeo\"},{\"lat\":[35.5,40.0],\"line\":{\"color\":\"blue\",\"width\":1},\"locationmode\":\"USA-states\",\"lon\":[-80.9,-83.0],\"mode\":\"lines\",\"opacity\":0.1111111111111111,\"type\":\"scattergeo\"},{\"lat\":[35.7,36.1],\"line\":{\"color\":\"purple\",\"width\":1},\"locationmode\":\"USA-states\",\"lon\":[-98.7,-97.1],\"mode\":\"lines\",\"opacity\":0.1111111111111111,\"type\":\"scattergeo\"},{\"lat\":[35.7,36.1],\"line\":{\"color\":\"purple\",\"width\":1},\"locationmode\":\"USA-states\",\"lon\":[-97.5,-97.1],\"mode\":\"lines\",\"opacity\":0.1111111111111111,\"type\":\"scattergeo\"},{\"lat\":[35.7,36.1],\"line\":{\"color\":\"purple\",\"width\":1},\"locationmode\":\"USA-states\",\"lon\":[-96.1,-97.1],\"mode\":\"lines\",\"opacity\":0.1111111111111111,\"type\":\"scattergeo\"},{\"lat\":[35.7,36.1],\"line\":{\"color\":\"purple\",\"width\":1},\"locationmode\":\"USA-states\",\"lon\":[-95.4,-97.1],\"mode\":\"lines\",\"opacity\":0.1111111111111111,\"type\":\"scattergeo\"},{\"lat\":[35.7,36.1],\"line\":{\"color\":\"red\",\"width\":1},\"locationmode\":\"USA-states\",\"lon\":[-85.8,-86.8],\"mode\":\"lines\",\"opacity\":0.1111111111111111,\"type\":\"scattergeo\"},{\"lat\":[35.7,36.0],\"line\":{\"color\":\"lightblue\",\"width\":1},\"locationmode\":\"USA-states\",\"lon\":[-81.2,-78.9],\"mode\":\"lines\",\"opacity\":0.1111111111111111,\"type\":\"scattergeo\"},{\"lat\":[35.7,33.8],\"line\":{\"color\":\"lightblue\",\"width\":1},\"locationmode\":\"USA-states\",\"lon\":[-80.7,-84.4],\"mode\":\"lines\",\"opacity\":0.1111111111111111,\"type\":\"scattergeo\"},{\"lat\":[35.7,36.0],\"line\":{\"color\":\"red\",\"width\":1},\"locationmode\":\"USA-states\",\"lon\":[-79.7,-83.9],\"mode\":\"lines\",\"opacity\":0.1111111111111111,\"type\":\"scattergeo\"},{\"lat\":[35.8,33.8],\"line\":{\"color\":\"lightblue\",\"width\":1},\"locationmode\":\"USA-states\",\"lon\":[-84.0,-84.4],\"mode\":\"lines\",\"opacity\":0.1111111111111111,\"type\":\"scattergeo\"},{\"lat\":[35.8,39.1],\"line\":{\"color\":\"purple\",\"width\":1},\"locationmode\":\"USA-states\",\"lon\":[-84.0,-84.5],\"mode\":\"lines\",\"opacity\":0.1111111111111111,\"type\":\"scattergeo\"},{\"lat\":[35.8,35.8],\"line\":{\"color\":\"lightblue\",\"width\":1},\"locationmode\":\"USA-states\",\"lon\":[-78.8,-78.7],\"mode\":\"lines\",\"opacity\":0.1111111111111111,\"type\":\"scattergeo\"},{\"lat\":[35.8,35.9],\"line\":{\"color\":\"lightblue\",\"width\":1},\"locationmode\":\"USA-states\",\"lon\":[-78.6,-79.0],\"mode\":\"lines\",\"opacity\":0.1111111111111111,\"type\":\"scattergeo\"},{\"lat\":[35.8,36.1],\"line\":{\"color\":\"lightblue\",\"width\":1},\"locationmode\":\"USA-states\",\"lon\":[-78.6,-80.3],\"mode\":\"lines\",\"opacity\":0.1111111111111111,\"type\":\"scattergeo\"},{\"lat\":[35.8,42.1],\"line\":{\"color\":\"blue\",\"width\":1},\"locationmode\":\"USA-states\",\"lon\":[-78.6,-87.7],\"mode\":\"lines\",\"opacity\":0.1111111111111111,\"type\":\"scattergeo\"},{\"lat\":[35.8,42.3],\"line\":{\"color\":\"lightblue\",\"width\":1},\"locationmode\":\"USA-states\",\"lon\":[-78.6,-71.2],\"mode\":\"lines\",\"opacity\":0.1111111111111111,\"type\":\"scattergeo\"},{\"lat\":[35.8,44.1],\"line\":{\"color\":\"green\",\"width\":1},\"locationmode\":\"USA-states\",\"lon\":[-78.6,-123.1],\"mode\":\"lines\",\"opacity\":0.1111111111111111,\"type\":\"scattergeo\"},{\"lat\":[35.8,38.2],\"line\":{\"color\":\"lightblue\",\"width\":1},\"locationmode\":\"USA-states\",\"lon\":[-78.5,-85.8],\"mode\":\"lines\",\"opacity\":0.1111111111111111,\"type\":\"scattergeo\"},{\"lat\":[35.9,37.4],\"line\":{\"color\":\"green\",\"width\":1},\"locationmode\":\"USA-states\",\"lon\":[-86.9,-122.2],\"mode\":\"lines\",\"opacity\":0.1111111111111111,\"type\":\"scattergeo\"},{\"lat\":[35.9,38.2],\"line\":{\"color\":\"lightblue\",\"width\":1},\"locationmode\":\"USA-states\",\"lon\":[-81.2,-85.8],\"mode\":\"lines\",\"opacity\":0.1111111111111111,\"type\":\"scattergeo\"},{\"lat\":[35.9,35.9],\"line\":{\"color\":\"lightblue\",\"width\":1},\"locationmode\":\"USA-states\",\"lon\":[-77.8,-79.0],\"mode\":\"lines\",\"opacity\":0.1111111111111111,\"type\":\"scattergeo\"},{\"lat\":[36.0,34.2],\"line\":{\"color\":\"green\",\"width\":1},\"locationmode\":\"USA-states\",\"lon\":[-115.0,-118.2],\"mode\":\"lines\",\"opacity\":0.1111111111111111,\"type\":\"scattergeo\"},{\"lat\":[36.0,40.0],\"line\":{\"color\":\"green\",\"width\":1},\"locationmode\":\"USA-states\",\"lon\":[-115.0,-105.3],\"mode\":\"lines\",\"opacity\":0.1111111111111111,\"type\":\"scattergeo\"},{\"lat\":[36.0,44.1],\"line\":{\"color\":\"green\",\"width\":1},\"locationmode\":\"USA-states\",\"lon\":[-115.0,-123.1],\"mode\":\"lines\",\"opacity\":0.1111111111111111,\"type\":\"scattergeo\"},{\"lat\":[36.0,36.1],\"line\":{\"color\":\"purple\",\"width\":1},\"locationmode\":\"USA-states\",\"lon\":[-96.0,-97.1],\"mode\":\"lines\",\"opacity\":0.1111111111111111,\"type\":\"scattergeo\"},{\"lat\":[36.0,33.6],\"line\":{\"color\":\"purple\",\"width\":1},\"locationmode\":\"USA-states\",\"lon\":[-95.4,-101.9],\"mode\":\"lines\",\"opacity\":0.1111111111111111,\"type\":\"scattergeo\"},{\"lat\":[36.0,34.7],\"line\":{\"color\":\"lightblue\",\"width\":1},\"locationmode\":\"USA-states\",\"lon\":[-86.8,-82.8],\"mode\":\"lines\",\"opacity\":0.1111111111111111,\"type\":\"scattergeo\"},{\"lat\":[36.0,35.9],\"line\":{\"color\":\"lightblue\",\"width\":1},\"locationmode\":\"USA-states\",\"lon\":[-86.8,-79.0],\"mode\":\"lines\",\"opacity\":0.1111111111111111,\"type\":\"scattergeo\"},{\"lat\":[36.0,36.0],\"line\":{\"color\":\"red\",\"width\":1},\"locationmode\":\"USA-states\",\"lon\":[-86.8,-83.9],\"mode\":\"lines\",\"opacity\":0.1111111111111111,\"type\":\"scattergeo\"},{\"lat\":[36.0,36.1],\"line\":{\"color\":\"red\",\"width\":1},\"locationmode\":\"USA-states\",\"lon\":[-86.8,-86.8],\"mode\":\"lines\",\"opacity\":0.1111111111111111,\"type\":\"scattergeo\"},{\"lat\":[36.0,38.0],\"line\":{\"color\":\"lightblue\",\"width\":1},\"locationmode\":\"USA-states\",\"lon\":[-86.8,-78.5],\"mode\":\"lines\",\"opacity\":0.1111111111111111,\"type\":\"scattergeo\"},{\"lat\":[36.0,42.3],\"line\":{\"color\":\"blue\",\"width\":1},\"locationmode\":\"USA-states\",\"lon\":[-86.8,-83.7],\"mode\":\"lines\",\"opacity\":0.1111111111111111,\"type\":\"scattergeo\"},{\"lat\":[36.0,33.9],\"line\":{\"color\":\"red\",\"width\":1},\"locationmode\":\"USA-states\",\"lon\":[-80.4,-83.4],\"mode\":\"lines\",\"opacity\":0.1111111111111111,\"type\":\"scattergeo\"},{\"lat\":[36.0,36.0],\"line\":{\"color\":\"red\",\"width\":1},\"locationmode\":\"USA-states\",\"lon\":[-78.9,-83.9],\"mode\":\"lines\",\"opacity\":0.1111111111111111,\"type\":\"scattergeo\"},{\"lat\":[36.0,36.0],\"line\":{\"color\":\"lightblue\",\"width\":1},\"locationmode\":\"USA-states\",\"lon\":[-78.9,-78.9],\"mode\":\"lines\",\"opacity\":0.2222222222222222,\"type\":\"scattergeo\"},{\"lat\":[36.1,31.6],\"line\":{\"color\":\"purple\",\"width\":1},\"locationmode\":\"USA-states\",\"lon\":[-97.1,-97.1],\"mode\":\"lines\",\"opacity\":0.1111111111111111,\"type\":\"scattergeo\"},{\"lat\":[36.1,33.9],\"line\":{\"color\":\"red\",\"width\":1},\"locationmode\":\"USA-states\",\"lon\":[-83.8,-83.4],\"mode\":\"lines\",\"opacity\":0.1111111111111111,\"type\":\"scattergeo\"},{\"lat\":[36.1,38.0],\"line\":{\"color\":\"lightblue\",\"width\":1},\"locationmode\":\"USA-states\",\"lon\":[-83.8,-78.5],\"mode\":\"lines\",\"opacity\":0.1111111111111111,\"type\":\"scattergeo\"},{\"lat\":[36.1,34.7],\"line\":{\"color\":\"lightblue\",\"width\":1},\"locationmode\":\"USA-states\",\"lon\":[-80.2,-82.8],\"mode\":\"lines\",\"opacity\":0.1111111111111111,\"type\":\"scattergeo\"},{\"lat\":[36.1,37.2],\"line\":{\"color\":\"lightblue\",\"width\":1},\"locationmode\":\"USA-states\",\"lon\":[-80.2,-80.4],\"mode\":\"lines\",\"opacity\":0.1111111111111111,\"type\":\"scattergeo\"},{\"lat\":[36.1,35.8],\"line\":{\"color\":\"lightblue\",\"width\":1},\"locationmode\":\"USA-states\",\"lon\":[-80.1,-78.7],\"mode\":\"lines\",\"opacity\":0.2222222222222222,\"type\":\"scattergeo\"},{\"lat\":[36.1,35.9],\"line\":{\"color\":\"lightblue\",\"width\":1},\"locationmode\":\"USA-states\",\"lon\":[-80.1,-79.0],\"mode\":\"lines\",\"opacity\":0.2222222222222222,\"type\":\"scattergeo\"},{\"lat\":[36.1,34.7],\"line\":{\"color\":\"lightblue\",\"width\":1},\"locationmode\":\"USA-states\",\"lon\":[-79.8,-82.8],\"mode\":\"lines\",\"opacity\":0.1111111111111111,\"type\":\"scattergeo\"},{\"lat\":[36.1,42.1],\"line\":{\"color\":\"blue\",\"width\":1},\"locationmode\":\"USA-states\",\"lon\":[-79.8,-87.7],\"mode\":\"lines\",\"opacity\":0.1111111111111111,\"type\":\"scattergeo\"},{\"lat\":[36.2,34.0],\"line\":{\"color\":\"green\",\"width\":1},\"locationmode\":\"USA-states\",\"lon\":[-115.1,-118.3],\"mode\":\"lines\",\"opacity\":0.1111111111111111,\"type\":\"scattergeo\"},{\"lat\":[36.2,34.2],\"line\":{\"color\":\"green\",\"width\":1},\"locationmode\":\"USA-states\",\"lon\":[-115.1,-118.2],\"mode\":\"lines\",\"opacity\":0.1111111111111111,\"type\":\"scattergeo\"},{\"lat\":[36.2,40.3],\"line\":{\"color\":\"purple\",\"width\":1},\"locationmode\":\"USA-states\",\"lon\":[-115.1,-111.7],\"mode\":\"lines\",\"opacity\":0.1111111111111111,\"type\":\"scattergeo\"},{\"lat\":[36.2,40.8],\"line\":{\"color\":\"green\",\"width\":1},\"locationmode\":\"USA-states\",\"lon\":[-115.1,-111.8],\"mode\":\"lines\",\"opacity\":0.1111111111111111,\"type\":\"scattergeo\"},{\"lat\":[36.2,42.7],\"line\":{\"color\":\"blue\",\"width\":1},\"locationmode\":\"USA-states\",\"lon\":[-115.1,-84.5],\"mode\":\"lines\",\"opacity\":0.1111111111111111,\"type\":\"scattergeo\"},{\"lat\":[36.2,46.7],\"line\":{\"color\":\"green\",\"width\":1},\"locationmode\":\"USA-states\",\"lon\":[-115.1,-117.2],\"mode\":\"lines\",\"opacity\":0.1111111111111111,\"type\":\"scattergeo\"},{\"lat\":[36.2,36.1],\"line\":{\"color\":\"red\",\"width\":1},\"locationmode\":\"USA-states\",\"lon\":[-96.0,-94.2],\"mode\":\"lines\",\"opacity\":0.2222222222222222,\"type\":\"scattergeo\"},{\"lat\":[36.2,34.4],\"line\":{\"color\":\"red\",\"width\":1},\"locationmode\":\"USA-states\",\"lon\":[-86.8,-89.5],\"mode\":\"lines\",\"opacity\":0.1111111111111111,\"type\":\"scattergeo\"},{\"lat\":[36.2,36.0],\"line\":{\"color\":\"red\",\"width\":1},\"locationmode\":\"USA-states\",\"lon\":[-86.8,-83.9],\"mode\":\"lines\",\"opacity\":0.1111111111111111,\"type\":\"scattergeo\"},{\"lat\":[36.2,38.0],\"line\":{\"color\":\"red\",\"width\":1},\"locationmode\":\"USA-states\",\"lon\":[-86.8,-84.5],\"mode\":\"lines\",\"opacity\":0.1111111111111111,\"type\":\"scattergeo\"},{\"lat\":[36.2,40.0],\"line\":{\"color\":\"blue\",\"width\":1},\"locationmode\":\"USA-states\",\"lon\":[-86.8,-83.0],\"mode\":\"lines\",\"opacity\":0.1111111111111111,\"type\":\"scattergeo\"},{\"lat\":[36.2,42.7],\"line\":{\"color\":\"blue\",\"width\":1},\"locationmode\":\"USA-states\",\"lon\":[-86.8,-84.5],\"mode\":\"lines\",\"opacity\":0.1111111111111111,\"type\":\"scattergeo\"},{\"lat\":[36.2,36.0],\"line\":{\"color\":\"lightblue\",\"width\":1},\"locationmode\":\"USA-states\",\"lon\":[-80.4,-78.9],\"mode\":\"lines\",\"opacity\":0.1111111111111111,\"type\":\"scattergeo\"},{\"lat\":[36.3,43.1],\"line\":{\"color\":\"blue\",\"width\":1},\"locationmode\":\"USA-states\",\"lon\":[-86.6,-89.4],\"mode\":\"lines\",\"opacity\":0.1111111111111111,\"type\":\"scattergeo\"},{\"lat\":[36.4,28.6],\"line\":{\"color\":\"purple\",\"width\":1},\"locationmode\":\"USA-states\",\"lon\":[-94.2,-81.2],\"mode\":\"lines\",\"opacity\":0.1111111111111111,\"type\":\"scattergeo\"},{\"lat\":[36.4,38.9],\"line\":{\"color\":\"red\",\"width\":1},\"locationmode\":\"USA-states\",\"lon\":[-86.4,-92.3],\"mode\":\"lines\",\"opacity\":0.1111111111111111,\"type\":\"scattergeo\"},{\"lat\":[36.4,36.0],\"line\":{\"color\":\"red\",\"width\":1},\"locationmode\":\"USA-states\",\"lon\":[-80.5,-83.9],\"mode\":\"lines\",\"opacity\":0.1111111111111111,\"type\":\"scattergeo\"},{\"lat\":[36.4,32.6],\"line\":{\"color\":\"red\",\"width\":1},\"locationmode\":\"USA-states\",\"lon\":[-79.7,-85.5],\"mode\":\"lines\",\"opacity\":0.1111111111111111,\"type\":\"scattergeo\"},{\"lat\":[36.6,37.2],\"line\":{\"color\":\"lightblue\",\"width\":1},\"locationmode\":\"USA-states\",\"lon\":[-82.2,-80.4],\"mode\":\"lines\",\"opacity\":0.1111111111111111,\"type\":\"scattergeo\"},{\"lat\":[36.7,34.2],\"line\":{\"color\":\"green\",\"width\":1},\"locationmode\":\"USA-states\",\"lon\":[-121.7,-118.2],\"mode\":\"lines\",\"opacity\":0.1111111111111111,\"type\":\"scattergeo\"},{\"lat\":[36.7,40.8],\"line\":{\"color\":\"green\",\"width\":1},\"locationmode\":\"USA-states\",\"lon\":[-119.7,-111.8],\"mode\":\"lines\",\"opacity\":0.1111111111111111,\"type\":\"scattergeo\"},{\"lat\":[36.7,42.3],\"line\":{\"color\":\"blue\",\"width\":1},\"locationmode\":\"USA-states\",\"lon\":[-119.7,-83.7],\"mode\":\"lines\",\"opacity\":0.1111111111111111,\"type\":\"scattergeo\"},{\"lat\":[36.7,40.0],\"line\":{\"color\":\"blue\",\"width\":1},\"locationmode\":\"USA-states\",\"lon\":[-79.5,-83.0],\"mode\":\"lines\",\"opacity\":0.1111111111111111,\"type\":\"scattergeo\"},{\"lat\":[36.7,28.6],\"line\":{\"color\":\"purple\",\"width\":1},\"locationmode\":\"USA-states\",\"lon\":[-76.2,-81.2],\"mode\":\"lines\",\"opacity\":0.1111111111111111,\"type\":\"scattergeo\"},{\"lat\":[36.7,39.2],\"line\":{\"color\":\"blue\",\"width\":1},\"locationmode\":\"USA-states\",\"lon\":[-76.2,-86.5],\"mode\":\"lines\",\"opacity\":0.1111111111111111,\"type\":\"scattergeo\"},{\"lat\":[36.8,44.1],\"line\":{\"color\":\"green\",\"width\":1},\"locationmode\":\"USA-states\",\"lon\":[-119.7,-123.1],\"mode\":\"lines\",\"opacity\":0.1111111111111111,\"type\":\"scattergeo\"},{\"lat\":[36.8,40.4],\"line\":{\"color\":\"lightblue\",\"width\":1},\"locationmode\":\"USA-states\",\"lon\":[-76.3,-80.0],\"mode\":\"lines\",\"opacity\":0.2222222222222222,\"type\":\"scattergeo\"},{\"lat\":[36.9,30.4],\"line\":{\"color\":\"lightblue\",\"width\":1},\"locationmode\":\"USA-states\",\"lon\":[-76.0,-84.3],\"mode\":\"lines\",\"opacity\":0.1111111111111111,\"type\":\"scattergeo\"},{\"lat\":[36.9,35.8],\"line\":{\"color\":\"lightblue\",\"width\":1},\"locationmode\":\"USA-states\",\"lon\":[-76.0,-78.7],\"mode\":\"lines\",\"opacity\":0.1111111111111111,\"type\":\"scattergeo\"},{\"lat\":[36.9,37.2],\"line\":{\"color\":\"lightblue\",\"width\":1},\"locationmode\":\"USA-states\",\"lon\":[-76.0,-80.4],\"mode\":\"lines\",\"opacity\":0.1111111111111111,\"type\":\"scattergeo\"},{\"lat\":[36.9,40.4],\"line\":{\"color\":\"lightblue\",\"width\":1},\"locationmode\":\"USA-states\",\"lon\":[-76.0,-80.0],\"mode\":\"lines\",\"opacity\":0.2222222222222222,\"type\":\"scattergeo\"},{\"lat\":[37.0,47.7],\"line\":{\"color\":\"green\",\"width\":1},\"locationmode\":\"USA-states\",\"lon\":[-122.0,-122.3],\"mode\":\"lines\",\"opacity\":0.1111111111111111,\"type\":\"scattergeo\"},{\"lat\":[37.0,39.2],\"line\":{\"color\":\"purple\",\"width\":1},\"locationmode\":\"USA-states\",\"lon\":[-95.6,-96.6],\"mode\":\"lines\",\"opacity\":0.1111111111111111,\"type\":\"scattergeo\"},{\"lat\":[37.0,38.0],\"line\":{\"color\":\"red\",\"width\":1},\"locationmode\":\"USA-states\",\"lon\":[-86.4,-84.5],\"mode\":\"lines\",\"opacity\":0.1111111111111111,\"type\":\"scattergeo\"},{\"lat\":[37.0,40.0],\"line\":{\"color\":\"blue\",\"width\":1},\"locationmode\":\"USA-states\",\"lon\":[-86.4,-83.0],\"mode\":\"lines\",\"opacity\":0.1111111111111111,\"type\":\"scattergeo\"},{\"lat\":[37.1,39.2],\"line\":{\"color\":\"purple\",\"width\":1},\"locationmode\":\"USA-states\",\"lon\":[-94.5,-96.6],\"mode\":\"lines\",\"opacity\":0.1111111111111111,\"type\":\"scattergeo\"},{\"lat\":[37.1,38.0],\"line\":{\"color\":\"red\",\"width\":1},\"locationmode\":\"USA-states\",\"lon\":[-84.6,-84.5],\"mode\":\"lines\",\"opacity\":0.1111111111111111,\"type\":\"scattergeo\"},{\"lat\":[37.1,40.4],\"line\":{\"color\":\"blue\",\"width\":1},\"locationmode\":\"USA-states\",\"lon\":[-84.6,-86.9],\"mode\":\"lines\",\"opacity\":0.1111111111111111,\"type\":\"scattergeo\"},{\"lat\":[37.1,42.3],\"line\":{\"color\":\"lightblue\",\"width\":1},\"locationmode\":\"USA-states\",\"lon\":[-80.6,-71.2],\"mode\":\"lines\",\"opacity\":0.1111111111111111,\"type\":\"scattergeo\"},{\"lat\":[37.1,35.9],\"line\":{\"color\":\"lightblue\",\"width\":1},\"locationmode\":\"USA-states\",\"lon\":[-76.3,-79.0],\"mode\":\"lines\",\"opacity\":0.1111111111111111,\"type\":\"scattergeo\"},{\"lat\":[37.3,37.2],\"line\":{\"color\":\"lightblue\",\"width\":1},\"locationmode\":\"USA-states\",\"lon\":[-80.1,-80.4],\"mode\":\"lines\",\"opacity\":0.2222222222222222,\"type\":\"scattergeo\"},{\"lat\":[37.3,38.0],\"line\":{\"color\":\"lightblue\",\"width\":1},\"locationmode\":\"USA-states\",\"lon\":[-79.9,-78.5],\"mode\":\"lines\",\"opacity\":0.1111111111111111,\"type\":\"scattergeo\"},{\"lat\":[37.3,36.0],\"line\":{\"color\":\"red\",\"width\":1},\"locationmode\":\"USA-states\",\"lon\":[-77.4,-83.9],\"mode\":\"lines\",\"opacity\":0.2222222222222222,\"type\":\"scattergeo\"},{\"lat\":[37.3,38.0],\"line\":{\"color\":\"lightblue\",\"width\":1},\"locationmode\":\"USA-states\",\"lon\":[-76.7,-78.5],\"mode\":\"lines\",\"opacity\":0.1111111111111111,\"type\":\"scattergeo\"},{\"lat\":[37.4,38.9],\"line\":{\"color\":\"red\",\"width\":1},\"locationmode\":\"USA-states\",\"lon\":[-89.7,-92.3],\"mode\":\"lines\",\"opacity\":0.1111111111111111,\"type\":\"scattergeo\"},{\"lat\":[37.4,38.0],\"line\":{\"color\":\"lightblue\",\"width\":1},\"locationmode\":\"USA-states\",\"lon\":[-77.4,-78.5],\"mode\":\"lines\",\"opacity\":0.1111111111111111,\"type\":\"scattergeo\"},{\"lat\":[37.5,38.2],\"line\":{\"color\":\"lightblue\",\"width\":1},\"locationmode\":\"USA-states\",\"lon\":[-122.3,-85.8],\"mode\":\"lines\",\"opacity\":0.1111111111111111,\"type\":\"scattergeo\"},{\"lat\":[37.5,44.1],\"line\":{\"color\":\"green\",\"width\":1},\"locationmode\":\"USA-states\",\"lon\":[-122.2,-123.1],\"mode\":\"lines\",\"opacity\":0.1111111111111111,\"type\":\"scattergeo\"},{\"lat\":[37.5,37.2],\"line\":{\"color\":\"lightblue\",\"width\":1},\"locationmode\":\"USA-states\",\"lon\":[-77.4,-80.4],\"mode\":\"lines\",\"opacity\":0.2222222222222222,\"type\":\"scattergeo\"},{\"lat\":[37.5,38.0],\"line\":{\"color\":\"lightblue\",\"width\":1},\"locationmode\":\"USA-states\",\"lon\":[-77.4,-78.5],\"mode\":\"lines\",\"opacity\":0.1111111111111111,\"type\":\"scattergeo\"},{\"lat\":[37.5,35.2],\"line\":{\"color\":\"purple\",\"width\":1},\"locationmode\":\"USA-states\",\"lon\":[-77.3,-97.4],\"mode\":\"lines\",\"opacity\":0.2222222222222222,\"type\":\"scattergeo\"},{\"lat\":[37.5,42.3],\"line\":{\"color\":\"lightblue\",\"width\":1},\"locationmode\":\"USA-states\",\"lon\":[-77.3,-71.2],\"mode\":\"lines\",\"opacity\":0.1111111111111111,\"type\":\"scattergeo\"},{\"lat\":[37.6,32.7],\"line\":{\"color\":\"purple\",\"width\":1},\"locationmode\":\"USA-states\",\"lon\":[-97.1,-97.4],\"mode\":\"lines\",\"opacity\":0.1111111111111111,\"type\":\"scattergeo\"},{\"lat\":[37.7,37.9],\"line\":{\"color\":\"green\",\"width\":1},\"locationmode\":\"USA-states\",\"lon\":[-122.1,-122.3],\"mode\":\"lines\",\"opacity\":0.1111111111111111,\"type\":\"scattergeo\"},{\"lat\":[37.7,40.0],\"line\":{\"color\":\"green\",\"width\":1},\"locationmode\":\"USA-states\",\"lon\":[-122.1,-105.3],\"mode\":\"lines\",\"opacity\":0.1111111111111111,\"type\":\"scattergeo\"},{\"lat\":[37.8,32.2],\"line\":{\"color\":\"green\",\"width\":1},\"locationmode\":\"USA-states\",\"lon\":[-122.4,-110.9],\"mode\":\"lines\",\"opacity\":0.1111111111111111,\"type\":\"scattergeo\"},{\"lat\":[37.8,38.0],\"line\":{\"color\":\"red\",\"width\":1},\"locationmode\":\"USA-states\",\"lon\":[-85.9,-84.5],\"mode\":\"lines\",\"opacity\":0.2222222222222222,\"type\":\"scattergeo\"},{\"lat\":[37.9,37.9],\"line\":{\"color\":\"green\",\"width\":1},\"locationmode\":\"USA-states\",\"lon\":[-122.3,-122.3],\"mode\":\"lines\",\"opacity\":0.1111111111111111,\"type\":\"scattergeo\"},{\"lat\":[37.9,37.9],\"line\":{\"color\":\"green\",\"width\":1},\"locationmode\":\"USA-states\",\"lon\":[-121.7,-122.3],\"mode\":\"lines\",\"opacity\":0.1111111111111111,\"type\":\"scattergeo\"},{\"lat\":[38.0,37.9],\"line\":{\"color\":\"green\",\"width\":1},\"locationmode\":\"USA-states\",\"lon\":[-122.0,-122.3],\"mode\":\"lines\",\"opacity\":0.1111111111111111,\"type\":\"scattergeo\"},{\"lat\":[38.0,37.9],\"line\":{\"color\":\"green\",\"width\":1},\"locationmode\":\"USA-states\",\"lon\":[-121.9,-122.3],\"mode\":\"lines\",\"opacity\":0.1111111111111111,\"type\":\"scattergeo\"},{\"lat\":[38.0,40.8],\"line\":{\"color\":\"blue\",\"width\":1},\"locationmode\":\"USA-states\",\"lon\":[-121.8,-96.7],\"mode\":\"lines\",\"opacity\":0.1111111111111111,\"type\":\"scattergeo\"},{\"lat\":[38.0,47.7],\"line\":{\"color\":\"green\",\"width\":1},\"locationmode\":\"USA-states\",\"lon\":[-121.7,-122.3],\"mode\":\"lines\",\"opacity\":0.1111111111111111,\"type\":\"scattergeo\"},{\"lat\":[38.0,38.0],\"line\":{\"color\":\"red\",\"width\":1},\"locationmode\":\"USA-states\",\"lon\":[-84.5,-84.5],\"mode\":\"lines\",\"opacity\":0.2222222222222222,\"type\":\"scattergeo\"},{\"lat\":[38.0,38.0],\"line\":{\"color\":\"lightblue\",\"width\":1},\"locationmode\":\"USA-states\",\"lon\":[-78.5,-78.5],\"mode\":\"lines\",\"opacity\":0.2222222222222222,\"type\":\"scattergeo\"},{\"lat\":[38.3,33.9],\"line\":{\"color\":\"red\",\"width\":1},\"locationmode\":\"USA-states\",\"lon\":[-122.3,-83.4],\"mode\":\"lines\",\"opacity\":0.1111111111111111,\"type\":\"scattergeo\"},{\"lat\":[38.3,40.0],\"line\":{\"color\":\"blue\",\"width\":1},\"locationmode\":\"USA-states\",\"lon\":[-85.9,-83.0],\"mode\":\"lines\",\"opacity\":0.1111111111111111,\"type\":\"scattergeo\"},{\"lat\":[38.3,28.6],\"line\":{\"color\":\"purple\",\"width\":1},\"locationmode\":\"USA-states\",\"lon\":[-85.8,-81.2],\"mode\":\"lines\",\"opacity\":0.1111111111111111,\"type\":\"scattergeo\"},{\"lat\":[38.3,39.1],\"line\":{\"color\":\"purple\",\"width\":1},\"locationmode\":\"USA-states\",\"lon\":[-85.8,-84.5],\"mode\":\"lines\",\"opacity\":0.1111111111111111,\"type\":\"scattergeo\"},{\"lat\":[38.3,38.0],\"line\":{\"color\":\"lightblue\",\"width\":1},\"locationmode\":\"USA-states\",\"lon\":[-77.5,-78.5],\"mode\":\"lines\",\"opacity\":0.1111111111111111,\"type\":\"scattergeo\"},{\"lat\":[38.3,36.1],\"line\":{\"color\":\"lightblue\",\"width\":1},\"locationmode\":\"USA-states\",\"lon\":[-76.6,-80.3],\"mode\":\"lines\",\"opacity\":0.1111111111111111,\"type\":\"scattergeo\"},{\"lat\":[38.3,37.2],\"line\":{\"color\":\"lightblue\",\"width\":1},\"locationmode\":\"USA-states\",\"lon\":[-76.6,-80.4],\"mode\":\"lines\",\"opacity\":0.1111111111111111,\"type\":\"scattergeo\"},{\"lat\":[38.4,32.2],\"line\":{\"color\":\"green\",\"width\":1},\"locationmode\":\"USA-states\",\"lon\":[-122.7,-110.9],\"mode\":\"lines\",\"opacity\":0.1111111111111111,\"type\":\"scattergeo\"},{\"lat\":[38.4,46.7],\"line\":{\"color\":\"green\",\"width\":1},\"locationmode\":\"USA-states\",\"lon\":[-122.7,-117.2],\"mode\":\"lines\",\"opacity\":0.1111111111111111,\"type\":\"scattergeo\"},{\"lat\":[38.4,34.0],\"line\":{\"color\":\"green\",\"width\":1},\"locationmode\":\"USA-states\",\"lon\":[-121.4,-118.3],\"mode\":\"lines\",\"opacity\":0.1111111111111111,\"type\":\"scattergeo\"},{\"lat\":[38.4,37.9],\"line\":{\"color\":\"green\",\"width\":1},\"locationmode\":\"USA-states\",\"lon\":[-121.4,-122.3],\"mode\":\"lines\",\"opacity\":0.2222222222222222,\"type\":\"scattergeo\"},{\"lat\":[38.4,39.7],\"line\":{\"color\":\"purple\",\"width\":1},\"locationmode\":\"USA-states\",\"lon\":[-82.4,-80.0],\"mode\":\"lines\",\"opacity\":0.1111111111111111,\"type\":\"scattergeo\"},{\"lat\":[38.4,39.1],\"line\":{\"color\":\"purple\",\"width\":1},\"locationmode\":\"USA-states\",\"lon\":[-81.6,-84.5],\"mode\":\"lines\",\"opacity\":0.1111111111111111,\"type\":\"scattergeo\"},{\"lat\":[38.4,42.3],\"line\":{\"color\":\"lightblue\",\"width\":1},\"locationmode\":\"USA-states\",\"lon\":[-77.4,-71.2],\"mode\":\"lines\",\"opacity\":0.1111111111111111,\"type\":\"scattergeo\"},{\"lat\":[38.5,38.9],\"line\":{\"color\":\"red\",\"width\":1},\"locationmode\":\"USA-states\",\"lon\":[-90.0,-92.3],\"mode\":\"lines\",\"opacity\":0.1111111111111111,\"type\":\"scattergeo\"},{\"lat\":[38.5,40.0],\"line\":{\"color\":\"blue\",\"width\":1},\"locationmode\":\"USA-states\",\"lon\":[-82.7,-83.0],\"mode\":\"lines\",\"opacity\":0.1111111111111111,\"type\":\"scattergeo\"},{\"lat\":[38.6,37.9],\"line\":{\"color\":\"green\",\"width\":1},\"locationmode\":\"USA-states\",\"lon\":[-121.3,-122.3],\"mode\":\"lines\",\"opacity\":0.1111111111111111,\"type\":\"scattergeo\"},{\"lat\":[38.6,38.9],\"line\":{\"color\":\"red\",\"width\":1},\"locationmode\":\"USA-states\",\"lon\":[-91.0,-92.3],\"mode\":\"lines\",\"opacity\":0.1111111111111111,\"type\":\"scattergeo\"},{\"lat\":[38.6,31.6],\"line\":{\"color\":\"purple\",\"width\":1},\"locationmode\":\"USA-states\",\"lon\":[-90.2,-97.1],\"mode\":\"lines\",\"opacity\":0.1111111111111111,\"type\":\"scattergeo\"},{\"lat\":[38.6,34.2],\"line\":{\"color\":\"green\",\"width\":1},\"locationmode\":\"USA-states\",\"lon\":[-90.2,-118.2],\"mode\":\"lines\",\"opacity\":0.1111111111111111,\"type\":\"scattergeo\"},{\"lat\":[38.6,38.2],\"line\":{\"color\":\"lightblue\",\"width\":1},\"locationmode\":\"USA-states\",\"lon\":[-90.2,-85.8],\"mode\":\"lines\",\"opacity\":0.1111111111111111,\"type\":\"scattergeo\"},{\"lat\":[38.6,38.9],\"line\":{\"color\":\"red\",\"width\":1},\"locationmode\":\"USA-states\",\"lon\":[-90.2,-92.3],\"mode\":\"lines\",\"opacity\":0.5555555555555556,\"type\":\"scattergeo\"},{\"lat\":[38.6,40.0],\"line\":{\"color\":\"blue\",\"width\":1},\"locationmode\":\"USA-states\",\"lon\":[-90.2,-83.0],\"mode\":\"lines\",\"opacity\":0.1111111111111111,\"type\":\"scattergeo\"},{\"lat\":[38.6,40.1],\"line\":{\"color\":\"blue\",\"width\":1},\"locationmode\":\"USA-states\",\"lon\":[-90.2,-88.2],\"mode\":\"lines\",\"opacity\":0.1111111111111111,\"type\":\"scattergeo\"},{\"lat\":[38.7,37.4],\"line\":{\"color\":\"green\",\"width\":1},\"locationmode\":\"USA-states\",\"lon\":[-121.2,-122.2],\"mode\":\"lines\",\"opacity\":0.1111111111111111,\"type\":\"scattergeo\"},{\"lat\":[38.7,37.9],\"line\":{\"color\":\"green\",\"width\":1},\"locationmode\":\"USA-states\",\"lon\":[-121.2,-122.3],\"mode\":\"lines\",\"opacity\":0.1111111111111111,\"type\":\"scattergeo\"},{\"lat\":[38.7,43.0],\"line\":{\"color\":\"lightblue\",\"width\":1},\"locationmode\":\"USA-states\",\"lon\":[-121.1,-76.1],\"mode\":\"lines\",\"opacity\":0.1111111111111111,\"type\":\"scattergeo\"},{\"lat\":[38.7,39.0],\"line\":{\"color\":\"purple\",\"width\":1},\"locationmode\":\"USA-states\",\"lon\":[-94.5,-95.2],\"mode\":\"lines\",\"opacity\":0.1111111111111111,\"type\":\"scattergeo\"},{\"lat\":[38.7,37.2],\"line\":{\"color\":\"lightblue\",\"width\":1},\"locationmode\":\"USA-states\",\"lon\":[-77.6,-80.4],\"mode\":\"lines\",\"opacity\":0.1111111111111111,\"type\":\"scattergeo\"},{\"lat\":[38.7,43.0],\"line\":{\"color\":\"lightblue\",\"width\":1},\"locationmode\":\"USA-states\",\"lon\":[-77.2,-76.1],\"mode\":\"lines\",\"opacity\":0.1111111111111111,\"type\":\"scattergeo\"},{\"lat\":[38.7,36.1],\"line\":{\"color\":\"red\",\"width\":1},\"locationmode\":\"USA-states\",\"lon\":[-77.0,-86.8],\"mode\":\"lines\",\"opacity\":0.1111111111111111,\"type\":\"scattergeo\"},{\"lat\":[38.8,44.6],\"line\":{\"color\":\"green\",\"width\":1},\"locationmode\":\"USA-states\",\"lon\":[-121.4,-123.3],\"mode\":\"lines\",\"opacity\":0.1111111111111111,\"type\":\"scattergeo\"},{\"lat\":[38.8,40.0],\"line\":{\"color\":\"green\",\"width\":1},\"locationmode\":\"USA-states\",\"lon\":[-121.2,-105.3],\"mode\":\"lines\",\"opacity\":0.1111111111111111,\"type\":\"scattergeo\"},{\"lat\":[38.8,42.0],\"line\":{\"color\":\"purple\",\"width\":1},\"locationmode\":\"USA-states\",\"lon\":[-104.8,-93.6],\"mode\":\"lines\",\"opacity\":0.1111111111111111,\"type\":\"scattergeo\"},{\"lat\":[38.8,39.2],\"line\":{\"color\":\"purple\",\"width\":1},\"locationmode\":\"USA-states\",\"lon\":[-94.9,-96.6],\"mode\":\"lines\",\"opacity\":0.2222222222222222,\"type\":\"scattergeo\"},{\"lat\":[38.8,39.2],\"line\":{\"color\":\"purple\",\"width\":1},\"locationmode\":\"USA-states\",\"lon\":[-94.7,-96.6],\"mode\":\"lines\",\"opacity\":0.1111111111111111,\"type\":\"scattergeo\"},{\"lat\":[38.8,39.0],\"line\":{\"color\":\"blue\",\"width\":1},\"locationmode\":\"USA-states\",\"lon\":[-90.3,-76.9],\"mode\":\"lines\",\"opacity\":0.1111111111111111,\"type\":\"scattergeo\"},{\"lat\":[38.8,39.7],\"line\":{\"color\":\"purple\",\"width\":1},\"locationmode\":\"USA-states\",\"lon\":[-90.0,-80.0],\"mode\":\"lines\",\"opacity\":0.1111111111111111,\"type\":\"scattergeo\"},{\"lat\":[38.8,40.0],\"line\":{\"color\":\"blue\",\"width\":1},\"locationmode\":\"USA-states\",\"lon\":[-77.5,-83.0],\"mode\":\"lines\",\"opacity\":0.1111111111111111,\"type\":\"scattergeo\"},{\"lat\":[38.8,34.7],\"line\":{\"color\":\"lightblue\",\"width\":1},\"locationmode\":\"USA-states\",\"lon\":[-77.3,-82.8],\"mode\":\"lines\",\"opacity\":0.1111111111111111,\"type\":\"scattergeo\"},{\"lat\":[38.8,36.1],\"line\":{\"color\":\"lightblue\",\"width\":1},\"locationmode\":\"USA-states\",\"lon\":[-77.3,-80.3],\"mode\":\"lines\",\"opacity\":0.1111111111111111,\"type\":\"scattergeo\"},{\"lat\":[38.8,38.0],\"line\":{\"color\":\"lightblue\",\"width\":1},\"locationmode\":\"USA-states\",\"lon\":[-77.0,-78.5],\"mode\":\"lines\",\"opacity\":0.1111111111111111,\"type\":\"scattergeo\"},{\"lat\":[38.8,42.3],\"line\":{\"color\":\"lightblue\",\"width\":1},\"locationmode\":\"USA-states\",\"lon\":[-77.0,-71.2],\"mode\":\"lines\",\"opacity\":0.1111111111111111,\"type\":\"scattergeo\"},{\"lat\":[38.8,33.2],\"line\":{\"color\":\"red\",\"width\":1},\"locationmode\":\"USA-states\",\"lon\":[-76.8,-87.6],\"mode\":\"lines\",\"opacity\":0.1111111111111111,\"type\":\"scattergeo\"},{\"lat\":[38.8,35.2],\"line\":{\"color\":\"purple\",\"width\":1},\"locationmode\":\"USA-states\",\"lon\":[-76.8,-97.4],\"mode\":\"lines\",\"opacity\":0.1111111111111111,\"type\":\"scattergeo\"},{\"lat\":[38.8,39.0],\"line\":{\"color\":\"blue\",\"width\":1},\"locationmode\":\"USA-states\",\"lon\":[-76.8,-76.9],\"mode\":\"lines\",\"opacity\":0.1111111111111111,\"type\":\"scattergeo\"},{\"lat\":[38.9,39.2],\"line\":{\"color\":\"purple\",\"width\":1},\"locationmode\":\"USA-states\",\"lon\":[-99.3,-96.6],\"mode\":\"lines\",\"opacity\":0.1111111111111111,\"type\":\"scattergeo\"},{\"lat\":[38.9,41.7],\"line\":{\"color\":\"blue\",\"width\":1},\"locationmode\":\"USA-states\",\"lon\":[-94.8,-91.6],\"mode\":\"lines\",\"opacity\":0.1111111111111111,\"type\":\"scattergeo\"},{\"lat\":[38.9,40.1],\"line\":{\"color\":\"blue\",\"width\":1},\"locationmode\":\"USA-states\",\"lon\":[-77.2,-88.2],\"mode\":\"lines\",\"opacity\":0.1111111111111111,\"type\":\"scattergeo\"},{\"lat\":[38.9,40.5],\"line\":{\"color\":\"blue\",\"width\":1},\"locationmode\":\"USA-states\",\"lon\":[-77.1,-74.5],\"mode\":\"lines\",\"opacity\":0.1111111111111111,\"type\":\"scattergeo\"},{\"lat\":[38.9,35.2],\"line\":{\"color\":\"purple\",\"width\":1},\"locationmode\":\"USA-states\",\"lon\":[-77.0,-97.4],\"mode\":\"lines\",\"opacity\":0.1111111111111111,\"type\":\"scattergeo\"},{\"lat\":[38.9,39.0],\"line\":{\"color\":\"blue\",\"width\":1},\"locationmode\":\"USA-states\",\"lon\":[-77.0,-76.9],\"mode\":\"lines\",\"opacity\":0.4444444444444444,\"type\":\"scattergeo\"},{\"lat\":[39.0,39.2],\"line\":{\"color\":\"purple\",\"width\":1},\"locationmode\":\"USA-states\",\"lon\":[-95.7,-96.6],\"mode\":\"lines\",\"opacity\":0.1111111111111111,\"type\":\"scattergeo\"},{\"lat\":[39.0,39.0],\"line\":{\"color\":\"purple\",\"width\":1},\"locationmode\":\"USA-states\",\"lon\":[-95.2,-95.2],\"mode\":\"lines\",\"opacity\":0.1111111111111111,\"type\":\"scattergeo\"},{\"lat\":[39.0,41.7],\"line\":{\"color\":\"blue\",\"width\":1},\"locationmode\":\"USA-states\",\"lon\":[-94.3,-91.6],\"mode\":\"lines\",\"opacity\":0.1111111111111111,\"type\":\"scattergeo\"},{\"lat\":[39.0,36.1],\"line\":{\"color\":\"lightblue\",\"width\":1},\"locationmode\":\"USA-states\",\"lon\":[-77.5,-80.3],\"mode\":\"lines\",\"opacity\":0.1111111111111111,\"type\":\"scattergeo\"},{\"lat\":[39.0,39.0],\"line\":{\"color\":\"blue\",\"width\":1},\"locationmode\":\"USA-states\",\"lon\":[-77.5,-76.9],\"mode\":\"lines\",\"opacity\":0.1111111111111111,\"type\":\"scattergeo\"},{\"lat\":[39.0,40.8],\"line\":{\"color\":\"blue\",\"width\":1},\"locationmode\":\"USA-states\",\"lon\":[-77.2,-77.9],\"mode\":\"lines\",\"opacity\":0.1111111111111111,\"type\":\"scattergeo\"},{\"lat\":[39.0,42.3],\"line\":{\"color\":\"lightblue\",\"width\":1},\"locationmode\":\"USA-states\",\"lon\":[-77.2,-71.2],\"mode\":\"lines\",\"opacity\":0.1111111111111111,\"type\":\"scattergeo\"},{\"lat\":[39.0,30.4],\"line\":{\"color\":\"red\",\"width\":1},\"locationmode\":\"USA-states\",\"lon\":[-76.9,-91.2],\"mode\":\"lines\",\"opacity\":0.1111111111111111,\"type\":\"scattergeo\"},{\"lat\":[39.0,34.0],\"line\":{\"color\":\"green\",\"width\":1},\"locationmode\":\"USA-states\",\"lon\":[-76.9,-118.3],\"mode\":\"lines\",\"opacity\":0.1111111111111111,\"type\":\"scattergeo\"},{\"lat\":[39.0,40.4],\"line\":{\"color\":\"lightblue\",\"width\":1},\"locationmode\":\"USA-states\",\"lon\":[-76.9,-80.0],\"mode\":\"lines\",\"opacity\":0.1111111111111111,\"type\":\"scattergeo\"},{\"lat\":[39.1,32.6],\"line\":{\"color\":\"red\",\"width\":1},\"locationmode\":\"USA-states\",\"lon\":[-94.6,-85.5],\"mode\":\"lines\",\"opacity\":0.1111111111111111,\"type\":\"scattergeo\"},{\"lat\":[39.1,36.1],\"line\":{\"color\":\"red\",\"width\":1},\"locationmode\":\"USA-states\",\"lon\":[-94.6,-94.2],\"mode\":\"lines\",\"opacity\":0.1111111111111111,\"type\":\"scattergeo\"},{\"lat\":[39.1,42.0],\"line\":{\"color\":\"purple\",\"width\":1},\"locationmode\":\"USA-states\",\"lon\":[-94.6,-93.6],\"mode\":\"lines\",\"opacity\":0.2222222222222222,\"type\":\"scattergeo\"},{\"lat\":[39.1,30.4],\"line\":{\"color\":\"red\",\"width\":1},\"locationmode\":\"USA-states\",\"lon\":[-84.5,-91.2],\"mode\":\"lines\",\"opacity\":0.1111111111111111,\"type\":\"scattergeo\"},{\"lat\":[39.1,33.2],\"line\":{\"color\":\"red\",\"width\":1},\"locationmode\":\"USA-states\",\"lon\":[-84.5,-87.6],\"mode\":\"lines\",\"opacity\":0.1111111111111111,\"type\":\"scattergeo\"},{\"lat\":[39.1,39.0],\"line\":{\"color\":\"blue\",\"width\":1},\"locationmode\":\"USA-states\",\"lon\":[-84.5,-76.9],\"mode\":\"lines\",\"opacity\":0.1111111111111111,\"type\":\"scattergeo\"},{\"lat\":[39.1,39.1],\"line\":{\"color\":\"purple\",\"width\":1},\"locationmode\":\"USA-states\",\"lon\":[-84.5,-84.5],\"mode\":\"lines\",\"opacity\":0.5555555555555556,\"type\":\"scattergeo\"},{\"lat\":[39.1,40.0],\"line\":{\"color\":\"blue\",\"width\":1},\"locationmode\":\"USA-states\",\"lon\":[-84.5,-83.0],\"mode\":\"lines\",\"opacity\":0.1111111111111111,\"type\":\"scattergeo\"},{\"lat\":[39.1,40.4],\"line\":{\"color\":\"lightblue\",\"width\":1},\"locationmode\":\"USA-states\",\"lon\":[-84.5,-80.0],\"mode\":\"lines\",\"opacity\":0.1111111111111111,\"type\":\"scattergeo\"},{\"lat\":[39.1,40.8],\"line\":{\"color\":\"blue\",\"width\":1},\"locationmode\":\"USA-states\",\"lon\":[-84.5,-77.9],\"mode\":\"lines\",\"opacity\":0.1111111111111111,\"type\":\"scattergeo\"},{\"lat\":[39.1,39.7],\"line\":{\"color\":\"purple\",\"width\":1},\"locationmode\":\"USA-states\",\"lon\":[-82.6,-80.0],\"mode\":\"lines\",\"opacity\":0.1111111111111111,\"type\":\"scattergeo\"},{\"lat\":[39.1,37.2],\"line\":{\"color\":\"lightblue\",\"width\":1},\"locationmode\":\"USA-states\",\"lon\":[-78.2,-80.4],\"mode\":\"lines\",\"opacity\":0.1111111111111111,\"type\":\"scattergeo\"},{\"lat\":[39.1,36.1],\"line\":{\"color\":\"red\",\"width\":1},\"locationmode\":\"USA-states\",\"lon\":[-77.2,-86.8],\"mode\":\"lines\",\"opacity\":0.1111111111111111,\"type\":\"scattergeo\"},{\"lat\":[39.1,38.0],\"line\":{\"color\":\"lightblue\",\"width\":1},\"locationmode\":\"USA-states\",\"lon\":[-77.2,-78.5],\"mode\":\"lines\",\"opacity\":0.1111111111111111,\"type\":\"scattergeo\"},{\"lat\":[39.1,39.0],\"line\":{\"color\":\"blue\",\"width\":1},\"locationmode\":\"USA-states\",\"lon\":[-77.2,-76.9],\"mode\":\"lines\",\"opacity\":0.1111111111111111,\"type\":\"scattergeo\"},{\"lat\":[39.1,40.5],\"line\":{\"color\":\"blue\",\"width\":1},\"locationmode\":\"USA-states\",\"lon\":[-77.2,-74.5],\"mode\":\"lines\",\"opacity\":0.1111111111111111,\"type\":\"scattergeo\"},{\"lat\":[39.1,39.0],\"line\":{\"color\":\"blue\",\"width\":1},\"locationmode\":\"USA-states\",\"lon\":[-76.7,-76.9],\"mode\":\"lines\",\"opacity\":0.1111111111111111,\"type\":\"scattergeo\"},{\"lat\":[39.1,40.8],\"line\":{\"color\":\"blue\",\"width\":1},\"locationmode\":\"USA-states\",\"lon\":[-76.7,-77.9],\"mode\":\"lines\",\"opacity\":0.1111111111111111,\"type\":\"scattergeo\"},{\"lat\":[39.2,39.2],\"line\":{\"color\":\"purple\",\"width\":1},\"locationmode\":\"USA-states\",\"lon\":[-96.6,-96.6],\"mode\":\"lines\",\"opacity\":0.1111111111111111,\"type\":\"scattergeo\"},{\"lat\":[39.2,39.2],\"line\":{\"color\":\"blue\",\"width\":1},\"locationmode\":\"USA-states\",\"lon\":[-86.5,-86.5],\"mode\":\"lines\",\"opacity\":0.1111111111111111,\"type\":\"scattergeo\"},{\"lat\":[39.2,39.7],\"line\":{\"color\":\"purple\",\"width\":1},\"locationmode\":\"USA-states\",\"lon\":[-77.3,-80.0],\"mode\":\"lines\",\"opacity\":0.1111111111111111,\"type\":\"scattergeo\"},{\"lat\":[39.2,40.8],\"line\":{\"color\":\"blue\",\"width\":1},\"locationmode\":\"USA-states\",\"lon\":[-77.1,-77.9],\"mode\":\"lines\",\"opacity\":0.1111111111111111,\"type\":\"scattergeo\"},{\"lat\":[39.3,34.7],\"line\":{\"color\":\"lightblue\",\"width\":1},\"locationmode\":\"USA-states\",\"lon\":[-77.2,-82.8],\"mode\":\"lines\",\"opacity\":0.1111111111111111,\"type\":\"scattergeo\"},{\"lat\":[39.3,33.9],\"line\":{\"color\":\"red\",\"width\":1},\"locationmode\":\"USA-states\",\"lon\":[-76.6,-83.4],\"mode\":\"lines\",\"opacity\":0.1111111111111111,\"type\":\"scattergeo\"},{\"lat\":[39.3,36.0],\"line\":{\"color\":\"red\",\"width\":1},\"locationmode\":\"USA-states\",\"lon\":[-76.6,-83.9],\"mode\":\"lines\",\"opacity\":0.1111111111111111,\"type\":\"scattergeo\"},{\"lat\":[39.3,36.1],\"line\":{\"color\":\"lightblue\",\"width\":1},\"locationmode\":\"USA-states\",\"lon\":[-76.6,-80.3],\"mode\":\"lines\",\"opacity\":0.1111111111111111,\"type\":\"scattergeo\"},{\"lat\":[39.3,37.2],\"line\":{\"color\":\"lightblue\",\"width\":1},\"locationmode\":\"USA-states\",\"lon\":[-76.6,-80.4],\"mode\":\"lines\",\"opacity\":0.1111111111111111,\"type\":\"scattergeo\"},{\"lat\":[39.3,39.0],\"line\":{\"color\":\"blue\",\"width\":1},\"locationmode\":\"USA-states\",\"lon\":[-76.6,-76.9],\"mode\":\"lines\",\"opacity\":0.3333333333333333,\"type\":\"scattergeo\"},{\"lat\":[39.3,42.3],\"line\":{\"color\":\"lightblue\",\"width\":1},\"locationmode\":\"USA-states\",\"lon\":[-76.6,-71.2],\"mode\":\"lines\",\"opacity\":0.1111111111111111,\"type\":\"scattergeo\"},{\"lat\":[39.3,42.7],\"line\":{\"color\":\"blue\",\"width\":1},\"locationmode\":\"USA-states\",\"lon\":[-76.6,-84.5],\"mode\":\"lines\",\"opacity\":0.1111111111111111,\"type\":\"scattergeo\"},{\"lat\":[39.3,44.1],\"line\":{\"color\":\"green\",\"width\":1},\"locationmode\":\"USA-states\",\"lon\":[-76.6,-123.1],\"mode\":\"lines\",\"opacity\":0.1111111111111111,\"type\":\"scattergeo\"},{\"lat\":[39.4,39.1],\"line\":{\"color\":\"purple\",\"width\":1},\"locationmode\":\"USA-states\",\"lon\":[-85.0,-84.5],\"mode\":\"lines\",\"opacity\":0.1111111111111111,\"type\":\"scattergeo\"},{\"lat\":[39.4,42.0],\"line\":{\"color\":\"purple\",\"width\":1},\"locationmode\":\"USA-states\",\"lon\":[-84.6,-93.6],\"mode\":\"lines\",\"opacity\":0.1111111111111111,\"type\":\"scattergeo\"},{\"lat\":[39.4,38.0],\"line\":{\"color\":\"red\",\"width\":1},\"locationmode\":\"USA-states\",\"lon\":[-84.3,-84.5],\"mode\":\"lines\",\"opacity\":0.1111111111111111,\"type\":\"scattergeo\"},{\"lat\":[39.4,39.0],\"line\":{\"color\":\"blue\",\"width\":1},\"locationmode\":\"USA-states\",\"lon\":[-76.8,-76.9],\"mode\":\"lines\",\"opacity\":0.1111111111111111,\"type\":\"scattergeo\"},{\"lat\":[39.4,36.0],\"line\":{\"color\":\"lightblue\",\"width\":1},\"locationmode\":\"USA-states\",\"lon\":[-76.6,-78.9],\"mode\":\"lines\",\"opacity\":0.1111111111111111,\"type\":\"scattergeo\"},{\"lat\":[39.4,36.1],\"line\":{\"color\":\"red\",\"width\":1},\"locationmode\":\"USA-states\",\"lon\":[-74.5,-86.8],\"mode\":\"lines\",\"opacity\":0.1111111111111111,\"type\":\"scattergeo\"},{\"lat\":[39.5,39.1],\"line\":{\"color\":\"purple\",\"width\":1},\"locationmode\":\"USA-states\",\"lon\":[-84.4,-84.5],\"mode\":\"lines\",\"opacity\":0.1111111111111111,\"type\":\"scattergeo\"},{\"lat\":[39.5,44.1],\"line\":{\"color\":\"green\",\"width\":1},\"locationmode\":\"USA-states\",\"lon\":[-76.8,-123.1],\"mode\":\"lines\",\"opacity\":0.1111111111111111,\"type\":\"scattergeo\"},{\"lat\":[39.5,39.0],\"line\":{\"color\":\"blue\",\"width\":1},\"locationmode\":\"USA-states\",\"lon\":[-76.3,-76.9],\"mode\":\"lines\",\"opacity\":0.1111111111111111,\"type\":\"scattergeo\"},{\"lat\":[39.5,36.1],\"line\":{\"color\":\"red\",\"width\":1},\"locationmode\":\"USA-states\",\"lon\":[-74.9,-86.8],\"mode\":\"lines\",\"opacity\":0.1111111111111111,\"type\":\"scattergeo\"},{\"lat\":[39.6,30.3],\"line\":{\"color\":\"purple\",\"width\":1},\"locationmode\":\"USA-states\",\"lon\":[-105.0,-97.7],\"mode\":\"lines\",\"opacity\":0.1111111111111111,\"type\":\"scattergeo\"},{\"lat\":[39.6,38.9],\"line\":{\"color\":\"red\",\"width\":1},\"locationmode\":\"USA-states\",\"lon\":[-105.0,-92.3],\"mode\":\"lines\",\"opacity\":0.1111111111111111,\"type\":\"scattergeo\"},{\"lat\":[39.6,40.0],\"line\":{\"color\":\"green\",\"width\":1},\"locationmode\":\"USA-states\",\"lon\":[-105.0,-105.3],\"mode\":\"lines\",\"opacity\":0.2222222222222222,\"type\":\"scattergeo\"},{\"lat\":[39.6,40.5],\"line\":{\"color\":\"blue\",\"width\":1},\"locationmode\":\"USA-states\",\"lon\":[-105.0,-74.5],\"mode\":\"lines\",\"opacity\":0.1111111111111111,\"type\":\"scattergeo\"},{\"lat\":[39.6,42.0],\"line\":{\"color\":\"purple\",\"width\":1},\"locationmode\":\"USA-states\",\"lon\":[-105.0,-93.6],\"mode\":\"lines\",\"opacity\":0.1111111111111111,\"type\":\"scattergeo\"},{\"lat\":[39.6,43.1],\"line\":{\"color\":\"blue\",\"width\":1},\"locationmode\":\"USA-states\",\"lon\":[-105.0,-89.4],\"mode\":\"lines\",\"opacity\":0.1111111111111111,\"type\":\"scattergeo\"},{\"lat\":[39.6,44.1],\"line\":{\"color\":\"green\",\"width\":1},\"locationmode\":\"USA-states\",\"lon\":[-105.0,-123.1],\"mode\":\"lines\",\"opacity\":0.1111111111111111,\"type\":\"scattergeo\"},{\"lat\":[39.6,40.4],\"line\":{\"color\":\"blue\",\"width\":1},\"locationmode\":\"USA-states\",\"lon\":[-86.4,-86.9],\"mode\":\"lines\",\"opacity\":0.2222222222222222,\"type\":\"scattergeo\"},{\"lat\":[39.6,45.0],\"line\":{\"color\":\"blue\",\"width\":1},\"locationmode\":\"USA-states\",\"lon\":[-86.1,-93.2],\"mode\":\"lines\",\"opacity\":0.1111111111111111,\"type\":\"scattergeo\"},{\"lat\":[39.6,40.5],\"line\":{\"color\":\"blue\",\"width\":1},\"locationmode\":\"USA-states\",\"lon\":[-74.8,-74.5],\"mode\":\"lines\",\"opacity\":0.1111111111111111,\"type\":\"scattergeo\"},{\"lat\":[39.7,40.0],\"line\":{\"color\":\"green\",\"width\":1},\"locationmode\":\"USA-states\",\"lon\":[-104.8,-105.3],\"mode\":\"lines\",\"opacity\":0.1111111111111111,\"type\":\"scattergeo\"},{\"lat\":[39.7,40.0],\"line\":{\"color\":\"blue\",\"width\":1},\"locationmode\":\"USA-states\",\"lon\":[-104.8,-83.0],\"mode\":\"lines\",\"opacity\":0.1111111111111111,\"type\":\"scattergeo\"},{\"lat\":[39.7,42.3],\"line\":{\"color\":\"lightblue\",\"width\":1},\"locationmode\":\"USA-states\",\"lon\":[-75.0,-71.2],\"mode\":\"lines\",\"opacity\":0.1111111111111111,\"type\":\"scattergeo\"},{\"lat\":[39.8,39.0],\"line\":{\"color\":\"purple\",\"width\":1},\"locationmode\":\"USA-states\",\"lon\":[-86.4,-95.2],\"mode\":\"lines\",\"opacity\":0.1111111111111111,\"type\":\"scattergeo\"},{\"lat\":[39.8,40.4],\"line\":{\"color\":\"blue\",\"width\":1},\"locationmode\":\"USA-states\",\"lon\":[-86.4,-86.9],\"mode\":\"lines\",\"opacity\":0.1111111111111111,\"type\":\"scattergeo\"},{\"lat\":[39.8,36.1],\"line\":{\"color\":\"lightblue\",\"width\":1},\"locationmode\":\"USA-states\",\"lon\":[-86.2,-80.3],\"mode\":\"lines\",\"opacity\":0.1111111111111111,\"type\":\"scattergeo\"},{\"lat\":[39.8,38.9],\"line\":{\"color\":\"red\",\"width\":1},\"locationmode\":\"USA-states\",\"lon\":[-86.2,-92.3],\"mode\":\"lines\",\"opacity\":0.2222222222222222,\"type\":\"scattergeo\"},{\"lat\":[39.8,39.2],\"line\":{\"color\":\"blue\",\"width\":1},\"locationmode\":\"USA-states\",\"lon\":[-86.2,-86.5],\"mode\":\"lines\",\"opacity\":0.1111111111111111,\"type\":\"scattergeo\"},{\"lat\":[39.8,40.4],\"line\":{\"color\":\"blue\",\"width\":1},\"locationmode\":\"USA-states\",\"lon\":[-86.2,-86.9],\"mode\":\"lines\",\"opacity\":0.1111111111111111,\"type\":\"scattergeo\"},{\"lat\":[39.8,42.1],\"line\":{\"color\":\"blue\",\"width\":1},\"locationmode\":\"USA-states\",\"lon\":[-86.2,-87.7],\"mode\":\"lines\",\"opacity\":0.1111111111111111,\"type\":\"scattergeo\"},{\"lat\":[39.8,42.3],\"line\":{\"color\":\"lightblue\",\"width\":1},\"locationmode\":\"USA-states\",\"lon\":[-74.9,-71.2],\"mode\":\"lines\",\"opacity\":0.1111111111111111,\"type\":\"scattergeo\"},{\"lat\":[39.9,42.3],\"line\":{\"color\":\"blue\",\"width\":1},\"locationmode\":\"USA-states\",\"lon\":[-84.4,-83.7],\"mode\":\"lines\",\"opacity\":0.1111111111111111,\"type\":\"scattergeo\"},{\"lat\":[39.9,43.1],\"line\":{\"color\":\"blue\",\"width\":1},\"locationmode\":\"USA-states\",\"lon\":[-84.4,-89.4],\"mode\":\"lines\",\"opacity\":0.1111111111111111,\"type\":\"scattergeo\"},{\"lat\":[39.9,40.0],\"line\":{\"color\":\"blue\",\"width\":1},\"locationmode\":\"USA-states\",\"lon\":[-82.8,-83.0],\"mode\":\"lines\",\"opacity\":0.1111111111111111,\"type\":\"scattergeo\"},{\"lat\":[39.9,42.1],\"line\":{\"color\":\"blue\",\"width\":1},\"locationmode\":\"USA-states\",\"lon\":[-82.8,-87.7],\"mode\":\"lines\",\"opacity\":0.1111111111111111,\"type\":\"scattergeo\"},{\"lat\":[39.9,40.5],\"line\":{\"color\":\"blue\",\"width\":1},\"locationmode\":\"USA-states\",\"lon\":[-75.1,-74.5],\"mode\":\"lines\",\"opacity\":0.1111111111111111,\"type\":\"scattergeo\"},{\"lat\":[39.9,43.0],\"line\":{\"color\":\"lightblue\",\"width\":1},\"locationmode\":\"USA-states\",\"lon\":[-75.1,-76.1],\"mode\":\"lines\",\"opacity\":0.1111111111111111,\"type\":\"scattergeo\"},{\"lat\":[39.9,42.3],\"line\":{\"color\":\"lightblue\",\"width\":1},\"locationmode\":\"USA-states\",\"lon\":[-74.8,-71.2],\"mode\":\"lines\",\"opacity\":0.1111111111111111,\"type\":\"scattergeo\"},{\"lat\":[39.9,43.1],\"line\":{\"color\":\"blue\",\"width\":1},\"locationmode\":\"USA-states\",\"lon\":[-74.8,-89.4],\"mode\":\"lines\",\"opacity\":0.1111111111111111,\"type\":\"scattergeo\"},{\"lat\":[40.0,39.2],\"line\":{\"color\":\"purple\",\"width\":1},\"locationmode\":\"USA-states\",\"lon\":[-105.3,-96.6],\"mode\":\"lines\",\"opacity\":0.1111111111111111,\"type\":\"scattergeo\"},{\"lat\":[40.0,36.0],\"line\":{\"color\":\"lightblue\",\"width\":1},\"locationmode\":\"USA-states\",\"lon\":[-86.1,-78.9],\"mode\":\"lines\",\"opacity\":0.1111111111111111,\"type\":\"scattergeo\"},{\"lat\":[40.0,43.0],\"line\":{\"color\":\"lightblue\",\"width\":1},\"locationmode\":\"USA-states\",\"lon\":[-86.0,-76.1],\"mode\":\"lines\",\"opacity\":0.1111111111111111,\"type\":\"scattergeo\"},{\"lat\":[40.0,43.1],\"line\":{\"color\":\"blue\",\"width\":1},\"locationmode\":\"USA-states\",\"lon\":[-83.2,-89.4],\"mode\":\"lines\",\"opacity\":0.1111111111111111,\"type\":\"scattergeo\"},{\"lat\":[40.0,38.0],\"line\":{\"color\":\"red\",\"width\":1},\"locationmode\":\"USA-states\",\"lon\":[-83.0,-84.5],\"mode\":\"lines\",\"opacity\":0.1111111111111111,\"type\":\"scattergeo\"},{\"lat\":[40.0,40.5],\"line\":{\"color\":\"blue\",\"width\":1},\"locationmode\":\"USA-states\",\"lon\":[-83.0,-74.5],\"mode\":\"lines\",\"opacity\":0.1111111111111111,\"type\":\"scattergeo\"},{\"lat\":[40.0,42.7],\"line\":{\"color\":\"blue\",\"width\":1},\"locationmode\":\"USA-states\",\"lon\":[-83.0,-84.5],\"mode\":\"lines\",\"opacity\":0.1111111111111111,\"type\":\"scattergeo\"},{\"lat\":[40.0,40.8],\"line\":{\"color\":\"blue\",\"width\":1},\"locationmode\":\"USA-states\",\"lon\":[-75.5,-77.9],\"mode\":\"lines\",\"opacity\":0.1111111111111111,\"type\":\"scattergeo\"},{\"lat\":[40.0,43.0],\"line\":{\"color\":\"lightblue\",\"width\":1},\"locationmode\":\"USA-states\",\"lon\":[-75.4,-76.1],\"mode\":\"lines\",\"opacity\":0.1111111111111111,\"type\":\"scattergeo\"},{\"lat\":[40.0,30.6],\"line\":{\"color\":\"red\",\"width\":1},\"locationmode\":\"USA-states\",\"lon\":[-75.2,-96.3],\"mode\":\"lines\",\"opacity\":0.2222222222222222,\"type\":\"scattergeo\"},{\"lat\":[40.0,33.4],\"line\":{\"color\":\"green\",\"width\":1},\"locationmode\":\"USA-states\",\"lon\":[-75.2,-111.9],\"mode\":\"lines\",\"opacity\":0.1111111111111111,\"type\":\"scattergeo\"},{\"lat\":[40.0,34.4],\"line\":{\"color\":\"red\",\"width\":1},\"locationmode\":\"USA-states\",\"lon\":[-75.2,-89.5],\"mode\":\"lines\",\"opacity\":0.2222222222222222,\"type\":\"scattergeo\"},{\"lat\":[40.0,34.7],\"line\":{\"color\":\"lightblue\",\"width\":1},\"locationmode\":\"USA-states\",\"lon\":[-75.2,-82.8],\"mode\":\"lines\",\"opacity\":0.1111111111111111,\"type\":\"scattergeo\"},{\"lat\":[40.0,36.0],\"line\":{\"color\":\"lightblue\",\"width\":1},\"locationmode\":\"USA-states\",\"lon\":[-75.2,-78.9],\"mode\":\"lines\",\"opacity\":0.1111111111111111,\"type\":\"scattergeo\"},{\"lat\":[40.0,39.7],\"line\":{\"color\":\"purple\",\"width\":1},\"locationmode\":\"USA-states\",\"lon\":[-75.2,-80.0],\"mode\":\"lines\",\"opacity\":0.1111111111111111,\"type\":\"scattergeo\"},{\"lat\":[40.0,40.0],\"line\":{\"color\":\"blue\",\"width\":1},\"locationmode\":\"USA-states\",\"lon\":[-75.2,-83.0],\"mode\":\"lines\",\"opacity\":0.2222222222222222,\"type\":\"scattergeo\"},{\"lat\":[40.0,40.4],\"line\":{\"color\":\"lightblue\",\"width\":1},\"locationmode\":\"USA-states\",\"lon\":[-75.2,-80.0],\"mode\":\"lines\",\"opacity\":0.1111111111111111,\"type\":\"scattergeo\"},{\"lat\":[40.0,40.5],\"line\":{\"color\":\"blue\",\"width\":1},\"locationmode\":\"USA-states\",\"lon\":[-75.2,-74.5],\"mode\":\"lines\",\"opacity\":0.1111111111111111,\"type\":\"scattergeo\"},{\"lat\":[40.0,35.8],\"line\":{\"color\":\"lightblue\",\"width\":1},\"locationmode\":\"USA-states\",\"lon\":[-74.9,-78.7],\"mode\":\"lines\",\"opacity\":0.1111111111111111,\"type\":\"scattergeo\"},{\"lat\":[40.1,40.3],\"line\":{\"color\":\"purple\",\"width\":1},\"locationmode\":\"USA-states\",\"lon\":[-111.7,-111.7],\"mode\":\"lines\",\"opacity\":0.2222222222222222,\"type\":\"scattergeo\"},{\"lat\":[40.1,39.1],\"line\":{\"color\":\"purple\",\"width\":1},\"locationmode\":\"USA-states\",\"lon\":[-83.1,-84.5],\"mode\":\"lines\",\"opacity\":0.1111111111111111,\"type\":\"scattergeo\"},{\"lat\":[40.1,39.7],\"line\":{\"color\":\"purple\",\"width\":1},\"locationmode\":\"USA-states\",\"lon\":[-83.1,-80.0],\"mode\":\"lines\",\"opacity\":0.1111111111111111,\"type\":\"scattergeo\"},{\"lat\":[40.1,45.0],\"line\":{\"color\":\"blue\",\"width\":1},\"locationmode\":\"USA-states\",\"lon\":[-83.1,-93.2],\"mode\":\"lines\",\"opacity\":0.1111111111111111,\"type\":\"scattergeo\"},{\"lat\":[40.1,36.1],\"line\":{\"color\":\"lightblue\",\"width\":1},\"locationmode\":\"USA-states\",\"lon\":[-74.4,-80.3],\"mode\":\"lines\",\"opacity\":0.1111111111111111,\"type\":\"scattergeo\"},{\"lat\":[40.2,40.3],\"line\":{\"color\":\"purple\",\"width\":1},\"locationmode\":\"USA-states\",\"lon\":[-111.7,-111.7],\"mode\":\"lines\",\"opacity\":0.2222222222222222,\"type\":\"scattergeo\"},{\"lat\":[40.2,39.0],\"line\":{\"color\":\"blue\",\"width\":1},\"locationmode\":\"USA-states\",\"lon\":[-80.2,-76.9],\"mode\":\"lines\",\"opacity\":0.1111111111111111,\"type\":\"scattergeo\"},{\"lat\":[40.2,39.1],\"line\":{\"color\":\"purple\",\"width\":1},\"locationmode\":\"USA-states\",\"lon\":[-76.3,-84.5],\"mode\":\"lines\",\"opacity\":0.1111111111111111,\"type\":\"scattergeo\"},{\"lat\":[40.2,43.1],\"line\":{\"color\":\"blue\",\"width\":1},\"locationmode\":\"USA-states\",\"lon\":[-76.3,-89.4],\"mode\":\"lines\",\"opacity\":0.1111111111111111,\"type\":\"scattergeo\"},{\"lat\":[40.2,39.1],\"line\":{\"color\":\"purple\",\"width\":1},\"locationmode\":\"USA-states\",\"lon\":[-75.1,-84.5],\"mode\":\"lines\",\"opacity\":0.1111111111111111,\"type\":\"scattergeo\"},{\"lat\":[40.3,44.1],\"line\":{\"color\":\"green\",\"width\":1},\"locationmode\":\"USA-states\",\"lon\":[-111.7,-123.1],\"mode\":\"lines\",\"opacity\":0.1111111111111111,\"type\":\"scattergeo\"},{\"lat\":[40.3,29.6],\"line\":{\"color\":\"red\",\"width\":1},\"locationmode\":\"USA-states\",\"lon\":[-80.2,-82.3],\"mode\":\"lines\",\"opacity\":0.1111111111111111,\"type\":\"scattergeo\"},{\"lat\":[40.3,40.8],\"line\":{\"color\":\"blue\",\"width\":1},\"locationmode\":\"USA-states\",\"lon\":[-76.9,-77.9],\"mode\":\"lines\",\"opacity\":0.1111111111111111,\"type\":\"scattergeo\"},{\"lat\":[40.3,40.5],\"line\":{\"color\":\"blue\",\"width\":1},\"locationmode\":\"USA-states\",\"lon\":[-75.9,-74.5],\"mode\":\"lines\",\"opacity\":0.1111111111111111,\"type\":\"scattergeo\"},{\"lat\":[40.3,42.7],\"line\":{\"color\":\"blue\",\"width\":1},\"locationmode\":\"USA-states\",\"lon\":[-74.7,-84.5],\"mode\":\"lines\",\"opacity\":0.1111111111111111,\"type\":\"scattergeo\"},{\"lat\":[40.3,42.3],\"line\":{\"color\":\"blue\",\"width\":1},\"locationmode\":\"USA-states\",\"lon\":[-74.3,-83.7],\"mode\":\"lines\",\"opacity\":0.1111111111111111,\"type\":\"scattergeo\"},{\"lat\":[40.4,40.3],\"line\":{\"color\":\"purple\",\"width\":1},\"locationmode\":\"USA-states\",\"lon\":[-111.8,-111.7],\"mode\":\"lines\",\"opacity\":0.1111111111111111,\"type\":\"scattergeo\"},{\"lat\":[40.4,40.8],\"line\":{\"color\":\"green\",\"width\":1},\"locationmode\":\"USA-states\",\"lon\":[-111.7,-111.8],\"mode\":\"lines\",\"opacity\":0.1111111111111111,\"type\":\"scattergeo\"},{\"lat\":[40.4,39.1],\"line\":{\"color\":\"purple\",\"width\":1},\"locationmode\":\"USA-states\",\"lon\":[-86.9,-84.5],\"mode\":\"lines\",\"opacity\":0.1111111111111111,\"type\":\"scattergeo\"},{\"lat\":[40.4,40.4],\"line\":{\"color\":\"blue\",\"width\":1},\"locationmode\":\"USA-states\",\"lon\":[-86.9,-86.9],\"mode\":\"lines\",\"opacity\":0.1111111111111111,\"type\":\"scattergeo\"},{\"lat\":[40.4,40.4],\"line\":{\"color\":\"lightblue\",\"width\":1},\"locationmode\":\"USA-states\",\"lon\":[-80.0,-80.0],\"mode\":\"lines\",\"opacity\":0.2222222222222222,\"type\":\"scattergeo\"},{\"lat\":[40.4,40.4],\"line\":{\"color\":\"lightblue\",\"width\":1},\"locationmode\":\"USA-states\",\"lon\":[-79.9,-80.0],\"mode\":\"lines\",\"opacity\":0.1111111111111111,\"type\":\"scattergeo\"},{\"lat\":[40.4,30.4],\"line\":{\"color\":\"red\",\"width\":1},\"locationmode\":\"USA-states\",\"lon\":[-79.8,-91.2],\"mode\":\"lines\",\"opacity\":0.1111111111111111,\"type\":\"scattergeo\"},{\"lat\":[40.5,34.0],\"line\":{\"color\":\"green\",\"width\":1},\"locationmode\":\"USA-states\",\"lon\":[-111.9,-118.3],\"mode\":\"lines\",\"opacity\":0.1111111111111111,\"type\":\"scattergeo\"},{\"lat\":[40.5,44.1],\"line\":{\"color\":\"green\",\"width\":1},\"locationmode\":\"USA-states\",\"lon\":[-111.9,-123.1],\"mode\":\"lines\",\"opacity\":0.1111111111111111,\"type\":\"scattergeo\"},{\"lat\":[40.5,40.8],\"line\":{\"color\":\"blue\",\"width\":1},\"locationmode\":\"USA-states\",\"lon\":[-96.6,-96.7],\"mode\":\"lines\",\"opacity\":0.1111111111111111,\"type\":\"scattergeo\"},{\"lat\":[40.6,40.8],\"line\":{\"color\":\"blue\",\"width\":1},\"locationmode\":\"USA-states\",\"lon\":[-112.5,-96.7],\"mode\":\"lines\",\"opacity\":0.1111111111111111,\"type\":\"scattergeo\"},{\"lat\":[40.6,40.3],\"line\":{\"color\":\"purple\",\"width\":1},\"locationmode\":\"USA-states\",\"lon\":[-111.9,-111.7],\"mode\":\"lines\",\"opacity\":0.1111111111111111,\"type\":\"scattergeo\"},{\"lat\":[40.6,40.8],\"line\":{\"color\":\"green\",\"width\":1},\"locationmode\":\"USA-states\",\"lon\":[-111.9,-111.8],\"mode\":\"lines\",\"opacity\":0.1111111111111111,\"type\":\"scattergeo\"},{\"lat\":[40.6,46.7],\"line\":{\"color\":\"green\",\"width\":1},\"locationmode\":\"USA-states\",\"lon\":[-111.8,-117.2],\"mode\":\"lines\",\"opacity\":0.1111111111111111,\"type\":\"scattergeo\"},{\"lat\":[40.6,37.4],\"line\":{\"color\":\"green\",\"width\":1},\"locationmode\":\"USA-states\",\"lon\":[-111.5,-122.2],\"mode\":\"lines\",\"opacity\":0.1111111111111111,\"type\":\"scattergeo\"},{\"lat\":[40.6,30.6],\"line\":{\"color\":\"red\",\"width\":1},\"locationmode\":\"USA-states\",\"lon\":[-105.1,-96.3],\"mode\":\"lines\",\"opacity\":0.1111111111111111,\"type\":\"scattergeo\"},{\"lat\":[40.6,34.0],\"line\":{\"color\":\"red\",\"width\":1},\"locationmode\":\"USA-states\",\"lon\":[-85.7,-81.0],\"mode\":\"lines\",\"opacity\":0.1111111111111111,\"type\":\"scattergeo\"},{\"lat\":[40.6,40.3],\"line\":{\"color\":\"purple\",\"width\":1},\"locationmode\":\"USA-states\",\"lon\":[-80.1,-111.7],\"mode\":\"lines\",\"opacity\":0.1111111111111111,\"type\":\"scattergeo\"},{\"lat\":[40.6,40.8],\"line\":{\"color\":\"blue\",\"width\":1},\"locationmode\":\"USA-states\",\"lon\":[-80.1,-77.9],\"mode\":\"lines\",\"opacity\":0.1111111111111111,\"type\":\"scattergeo\"},{\"lat\":[40.6,40.4],\"line\":{\"color\":\"lightblue\",\"width\":1},\"locationmode\":\"USA-states\",\"lon\":[-76.2,-80.0],\"mode\":\"lines\",\"opacity\":0.1111111111111111,\"type\":\"scattergeo\"},{\"lat\":[40.6,40.8],\"line\":{\"color\":\"blue\",\"width\":1},\"locationmode\":\"USA-states\",\"lon\":[-75.4,-77.9],\"mode\":\"lines\",\"opacity\":0.1111111111111111,\"type\":\"scattergeo\"},{\"lat\":[40.7,40.8],\"line\":{\"color\":\"blue\",\"width\":1},\"locationmode\":\"USA-states\",\"lon\":[-99.1,-96.7],\"mode\":\"lines\",\"opacity\":0.1111111111111111,\"type\":\"scattergeo\"},{\"lat\":[40.7,40.4],\"line\":{\"color\":\"lightblue\",\"width\":1},\"locationmode\":\"USA-states\",\"lon\":[-80.3,-80.0],\"mode\":\"lines\",\"opacity\":0.1111111111111111,\"type\":\"scattergeo\"},{\"lat\":[40.7,40.5],\"line\":{\"color\":\"blue\",\"width\":1},\"locationmode\":\"USA-states\",\"lon\":[-74.3,-74.5],\"mode\":\"lines\",\"opacity\":0.1111111111111111,\"type\":\"scattergeo\"},{\"lat\":[40.7,40.5],\"line\":{\"color\":\"blue\",\"width\":1},\"locationmode\":\"USA-states\",\"lon\":[-74.2,-74.5],\"mode\":\"lines\",\"opacity\":0.3333333333333333,\"type\":\"scattergeo\"},{\"lat\":[40.7,40.8],\"line\":{\"color\":\"blue\",\"width\":1},\"locationmode\":\"USA-states\",\"lon\":[-74.2,-96.7],\"mode\":\"lines\",\"opacity\":0.1111111111111111,\"type\":\"scattergeo\"},{\"lat\":[40.7,37.2],\"line\":{\"color\":\"lightblue\",\"width\":1},\"locationmode\":\"USA-states\",\"lon\":[-74.1,-80.4],\"mode\":\"lines\",\"opacity\":0.1111111111111111,\"type\":\"scattergeo\"},{\"lat\":[40.7,42.3],\"line\":{\"color\":\"blue\",\"width\":1},\"locationmode\":\"USA-states\",\"lon\":[-74.1,-83.7],\"mode\":\"lines\",\"opacity\":0.1111111111111111,\"type\":\"scattergeo\"},{\"lat\":[40.7,40.4],\"line\":{\"color\":\"blue\",\"width\":1},\"locationmode\":\"USA-states\",\"lon\":[-74.0,-86.9],\"mode\":\"lines\",\"opacity\":0.1111111111111111,\"type\":\"scattergeo\"},{\"lat\":[40.7,30.6],\"line\":{\"color\":\"red\",\"width\":1},\"locationmode\":\"USA-states\",\"lon\":[-73.9,-96.3],\"mode\":\"lines\",\"opacity\":0.1111111111111111,\"type\":\"scattergeo\"},{\"lat\":[40.7,33.4],\"line\":{\"color\":\"green\",\"width\":1},\"locationmode\":\"USA-states\",\"lon\":[-73.9,-111.9],\"mode\":\"lines\",\"opacity\":0.1111111111111111,\"type\":\"scattergeo\"},{\"lat\":[40.8,40.3],\"line\":{\"color\":\"purple\",\"width\":1},\"locationmode\":\"USA-states\",\"lon\":[-111.9,-111.7],\"mode\":\"lines\",\"opacity\":0.1111111111111111,\"type\":\"scattergeo\"},{\"lat\":[40.8,44.1],\"line\":{\"color\":\"green\",\"width\":1},\"locationmode\":\"USA-states\",\"lon\":[-111.9,-123.1],\"mode\":\"lines\",\"opacity\":0.1111111111111111,\"type\":\"scattergeo\"},{\"lat\":[40.8,44.6],\"line\":{\"color\":\"green\",\"width\":1},\"locationmode\":\"USA-states\",\"lon\":[-111.9,-123.3],\"mode\":\"lines\",\"opacity\":0.2222222222222222,\"type\":\"scattergeo\"},{\"lat\":[40.8,46.7],\"line\":{\"color\":\"green\",\"width\":1},\"locationmode\":\"USA-states\",\"lon\":[-111.9,-117.2],\"mode\":\"lines\",\"opacity\":0.1111111111111111,\"type\":\"scattergeo\"},{\"lat\":[40.8,47.7],\"line\":{\"color\":\"green\",\"width\":1},\"locationmode\":\"USA-states\",\"lon\":[-111.9,-122.3],\"mode\":\"lines\",\"opacity\":0.1111111111111111,\"type\":\"scattergeo\"},{\"lat\":[40.8,39.7],\"line\":{\"color\":\"purple\",\"width\":1},\"locationmode\":\"USA-states\",\"lon\":[-81.5,-80.0],\"mode\":\"lines\",\"opacity\":0.1111111111111111,\"type\":\"scattergeo\"},{\"lat\":[40.8,40.0],\"line\":{\"color\":\"blue\",\"width\":1},\"locationmode\":\"USA-states\",\"lon\":[-81.5,-83.0],\"mode\":\"lines\",\"opacity\":0.1111111111111111,\"type\":\"scattergeo\"},{\"lat\":[40.8,40.4],\"line\":{\"color\":\"lightblue\",\"width\":1},\"locationmode\":\"USA-states\",\"lon\":[-81.5,-80.0],\"mode\":\"lines\",\"opacity\":0.1111111111111111,\"type\":\"scattergeo\"},{\"lat\":[40.8,39.1],\"line\":{\"color\":\"purple\",\"width\":1},\"locationmode\":\"USA-states\",\"lon\":[-81.4,-84.5],\"mode\":\"lines\",\"opacity\":0.1111111111111111,\"type\":\"scattergeo\"},{\"lat\":[40.8,43.0],\"line\":{\"color\":\"lightblue\",\"width\":1},\"locationmode\":\"USA-states\",\"lon\":[-80.3,-76.1],\"mode\":\"lines\",\"opacity\":0.1111111111111111,\"type\":\"scattergeo\"},{\"lat\":[40.8,40.5],\"line\":{\"color\":\"blue\",\"width\":1},\"locationmode\":\"USA-states\",\"lon\":[-74.5,-74.5],\"mode\":\"lines\",\"opacity\":0.2222222222222222,\"type\":\"scattergeo\"},{\"lat\":[40.8,37.4],\"line\":{\"color\":\"green\",\"width\":1},\"locationmode\":\"USA-states\",\"lon\":[-74.2,-122.2],\"mode\":\"lines\",\"opacity\":0.1111111111111111,\"type\":\"scattergeo\"},{\"lat\":[40.8,40.5],\"line\":{\"color\":\"blue\",\"width\":1},\"locationmode\":\"USA-states\",\"lon\":[-74.2,-74.5],\"mode\":\"lines\",\"opacity\":0.1111111111111111,\"type\":\"scattergeo\"},{\"lat\":[40.9,40.8],\"line\":{\"color\":\"green\",\"width\":1},\"locationmode\":\"USA-states\",\"lon\":[-111.9,-111.8],\"mode\":\"lines\",\"opacity\":0.1111111111111111,\"type\":\"scattergeo\"},{\"lat\":[40.9,40.8],\"line\":{\"color\":\"blue\",\"width\":1},\"locationmode\":\"USA-states\",\"lon\":[-95.7,-96.7],\"mode\":\"lines\",\"opacity\":0.1111111111111111,\"type\":\"scattergeo\"},{\"lat\":[40.9,42.3],\"line\":{\"color\":\"lightblue\",\"width\":1},\"locationmode\":\"USA-states\",\"lon\":[-74.2,-71.2],\"mode\":\"lines\",\"opacity\":0.1111111111111111,\"type\":\"scattergeo\"},{\"lat\":[40.9,37.2],\"line\":{\"color\":\"lightblue\",\"width\":1},\"locationmode\":\"USA-states\",\"lon\":[-74.0,-80.4],\"mode\":\"lines\",\"opacity\":0.1111111111111111,\"type\":\"scattergeo\"},{\"lat\":[40.9,43.0],\"line\":{\"color\":\"lightblue\",\"width\":1},\"locationmode\":\"USA-states\",\"lon\":[-73.8,-76.1],\"mode\":\"lines\",\"opacity\":0.2222222222222222,\"type\":\"scattergeo\"},{\"lat\":[41.0,40.8],\"line\":{\"color\":\"blue\",\"width\":1},\"locationmode\":\"USA-states\",\"lon\":[-91.6,-96.7],\"mode\":\"lines\",\"opacity\":0.1111111111111111,\"type\":\"scattergeo\"},{\"lat\":[41.0,42.3],\"line\":{\"color\":\"lightblue\",\"width\":1},\"locationmode\":\"USA-states\",\"lon\":[-81.9,-71.2],\"mode\":\"lines\",\"opacity\":0.1111111111111111,\"type\":\"scattergeo\"},{\"lat\":[41.0,42.0],\"line\":{\"color\":\"purple\",\"width\":1},\"locationmode\":\"USA-states\",\"lon\":[-81.7,-93.6],\"mode\":\"lines\",\"opacity\":0.1111111111111111,\"type\":\"scattergeo\"},{\"lat\":[41.0,38.2],\"line\":{\"color\":\"lightblue\",\"width\":1},\"locationmode\":\"USA-states\",\"lon\":[-80.3,-85.8],\"mode\":\"lines\",\"opacity\":0.1111111111111111,\"type\":\"scattergeo\"},{\"lat\":[41.0,37.4],\"line\":{\"color\":\"green\",\"width\":1},\"locationmode\":\"USA-states\",\"lon\":[-75.0,-122.2],\"mode\":\"lines\",\"opacity\":0.1111111111111111,\"type\":\"scattergeo\"},{\"lat\":[41.0,34.4],\"line\":{\"color\":\"red\",\"width\":1},\"locationmode\":\"USA-states\",\"lon\":[-74.0,-89.5],\"mode\":\"lines\",\"opacity\":0.1111111111111111,\"type\":\"scattergeo\"},{\"lat\":[41.0,42.7],\"line\":{\"color\":\"blue\",\"width\":1},\"locationmode\":\"USA-states\",\"lon\":[-74.0,-84.5],\"mode\":\"lines\",\"opacity\":0.1111111111111111,\"type\":\"scattergeo\"},{\"lat\":[41.1,41.7],\"line\":{\"color\":\"blue\",\"width\":1},\"locationmode\":\"USA-states\",\"lon\":[-95.9,-91.6],\"mode\":\"lines\",\"opacity\":0.1111111111111111,\"type\":\"scattergeo\"},{\"lat\":[41.1,39.2],\"line\":{\"color\":\"blue\",\"width\":1},\"locationmode\":\"USA-states\",\"lon\":[-85.1,-86.5],\"mode\":\"lines\",\"opacity\":0.1111111111111111,\"type\":\"scattergeo\"},{\"lat\":[41.1,34.2],\"line\":{\"color\":\"green\",\"width\":1},\"locationmode\":\"USA-states\",\"lon\":[-81.5,-118.2],\"mode\":\"lines\",\"opacity\":0.1111111111111111,\"type\":\"scattergeo\"},{\"lat\":[41.1,40.5],\"line\":{\"color\":\"blue\",\"width\":1},\"locationmode\":\"USA-states\",\"lon\":[-81.5,-74.5],\"mode\":\"lines\",\"opacity\":0.1111111111111111,\"type\":\"scattergeo\"},{\"lat\":[41.1,42.3],\"line\":{\"color\":\"lightblue\",\"width\":1},\"locationmode\":\"USA-states\",\"lon\":[-81.5,-71.2],\"mode\":\"lines\",\"opacity\":0.1111111111111111,\"type\":\"scattergeo\"},{\"lat\":[41.1,43.1],\"line\":{\"color\":\"blue\",\"width\":1},\"locationmode\":\"USA-states\",\"lon\":[-81.5,-89.4],\"mode\":\"lines\",\"opacity\":0.1111111111111111,\"type\":\"scattergeo\"},{\"lat\":[41.2,43.1],\"line\":{\"color\":\"blue\",\"width\":1},\"locationmode\":\"USA-states\",\"lon\":[-88.5,-89.4],\"mode\":\"lines\",\"opacity\":0.2222222222222222,\"type\":\"scattergeo\"},{\"lat\":[41.2,39.7],\"line\":{\"color\":\"purple\",\"width\":1},\"locationmode\":\"USA-states\",\"lon\":[-81.8,-80.0],\"mode\":\"lines\",\"opacity\":0.1111111111111111,\"type\":\"scattergeo\"},{\"lat\":[41.2,40.0],\"line\":{\"color\":\"blue\",\"width\":1},\"locationmode\":\"USA-states\",\"lon\":[-81.6,-83.0],\"mode\":\"lines\",\"opacity\":0.1111111111111111,\"type\":\"scattergeo\"},{\"lat\":[41.2,38.0],\"line\":{\"color\":\"red\",\"width\":1},\"locationmode\":\"USA-states\",\"lon\":[-81.4,-84.5],\"mode\":\"lines\",\"opacity\":0.1111111111111111,\"type\":\"scattergeo\"},{\"lat\":[41.2,40.5],\"line\":{\"color\":\"blue\",\"width\":1},\"locationmode\":\"USA-states\",\"lon\":[-81.4,-74.5],\"mode\":\"lines\",\"opacity\":0.1111111111111111,\"type\":\"scattergeo\"},{\"lat\":[41.2,40.0],\"line\":{\"color\":\"blue\",\"width\":1},\"locationmode\":\"USA-states\",\"lon\":[-81.3,-83.0],\"mode\":\"lines\",\"opacity\":0.1111111111111111,\"type\":\"scattergeo\"},{\"lat\":[41.2,36.1],\"line\":{\"color\":\"lightblue\",\"width\":1},\"locationmode\":\"USA-states\",\"lon\":[-73.4,-80.3],\"mode\":\"lines\",\"opacity\":0.1111111111111111,\"type\":\"scattergeo\"},{\"lat\":[41.3,40.8],\"line\":{\"color\":\"blue\",\"width\":1},\"locationmode\":\"USA-states\",\"lon\":[-95.9,-96.7],\"mode\":\"lines\",\"opacity\":0.4444444444444444,\"type\":\"scattergeo\"},{\"lat\":[41.3,44.1],\"line\":{\"color\":\"green\",\"width\":1},\"locationmode\":\"USA-states\",\"lon\":[-95.9,-123.1],\"mode\":\"lines\",\"opacity\":0.1111111111111111,\"type\":\"scattergeo\"},{\"lat\":[41.3,40.1],\"line\":{\"color\":\"blue\",\"width\":1},\"locationmode\":\"USA-states\",\"lon\":[-87.8,-88.2],\"mode\":\"lines\",\"opacity\":0.1111111111111111,\"type\":\"scattergeo\"},{\"lat\":[41.3,41.7],\"line\":{\"color\":\"blue\",\"width\":1},\"locationmode\":\"USA-states\",\"lon\":[-81.7,-91.6],\"mode\":\"lines\",\"opacity\":0.1111111111111111,\"type\":\"scattergeo\"},{\"lat\":[41.3,42.1],\"line\":{\"color\":\"blue\",\"width\":1},\"locationmode\":\"USA-states\",\"lon\":[-72.9,-87.7],\"mode\":\"lines\",\"opacity\":0.1111111111111111,\"type\":\"scattergeo\"},{\"lat\":[41.4,38.2],\"line\":{\"color\":\"lightblue\",\"width\":1},\"locationmode\":\"USA-states\",\"lon\":[-88.8,-85.8],\"mode\":\"lines\",\"opacity\":0.1111111111111111,\"type\":\"scattergeo\"},{\"lat\":[41.4,42.1],\"line\":{\"color\":\"blue\",\"width\":1},\"locationmode\":\"USA-states\",\"lon\":[-81.4,-87.7],\"mode\":\"lines\",\"opacity\":0.1111111111111111,\"type\":\"scattergeo\"},{\"lat\":[41.5,42.0],\"line\":{\"color\":\"purple\",\"width\":1},\"locationmode\":\"USA-states\",\"lon\":[-90.6,-93.6],\"mode\":\"lines\",\"opacity\":0.1111111111111111,\"type\":\"scattergeo\"},{\"lat\":[41.5,41.7],\"line\":{\"color\":\"blue\",\"width\":1},\"locationmode\":\"USA-states\",\"lon\":[-90.5,-91.6],\"mode\":\"lines\",\"opacity\":0.1111111111111111,\"type\":\"scattergeo\"},{\"lat\":[41.5,39.2],\"line\":{\"color\":\"blue\",\"width\":1},\"locationmode\":\"USA-states\",\"lon\":[-88.1,-86.5],\"mode\":\"lines\",\"opacity\":0.1111111111111111,\"type\":\"scattergeo\"},{\"lat\":[41.5,45.0],\"line\":{\"color\":\"blue\",\"width\":1},\"locationmode\":\"USA-states\",\"lon\":[-88.0,-93.2],\"mode\":\"lines\",\"opacity\":0.1111111111111111,\"type\":\"scattergeo\"},{\"lat\":[41.5,39.1],\"line\":{\"color\":\"purple\",\"width\":1},\"locationmode\":\"USA-states\",\"lon\":[-87.7,-84.5],\"mode\":\"lines\",\"opacity\":0.1111111111111111,\"type\":\"scattergeo\"},{\"lat\":[41.5,39.2],\"line\":{\"color\":\"blue\",\"width\":1},\"locationmode\":\"USA-states\",\"lon\":[-87.1,-86.5],\"mode\":\"lines\",\"opacity\":0.1111111111111111,\"type\":\"scattergeo\"},{\"lat\":[41.5,42.1],\"line\":{\"color\":\"blue\",\"width\":1},\"locationmode\":\"USA-states\",\"lon\":[-81.7,-87.7],\"mode\":\"lines\",\"opacity\":0.1111111111111111,\"type\":\"scattergeo\"},{\"lat\":[41.5,42.7],\"line\":{\"color\":\"blue\",\"width\":1},\"locationmode\":\"USA-states\",\"lon\":[-81.7,-84.5],\"mode\":\"lines\",\"opacity\":0.1111111111111111,\"type\":\"scattergeo\"},{\"lat\":[41.5,39.0],\"line\":{\"color\":\"blue\",\"width\":1},\"locationmode\":\"USA-states\",\"lon\":[-75.5,-76.9],\"mode\":\"lines\",\"opacity\":0.1111111111111111,\"type\":\"scattergeo\"},{\"lat\":[41.5,42.3],\"line\":{\"color\":\"lightblue\",\"width\":1},\"locationmode\":\"USA-states\",\"lon\":[-72.9,-71.2],\"mode\":\"lines\",\"opacity\":0.1111111111111111,\"type\":\"scattergeo\"},{\"lat\":[41.5,42.3],\"line\":{\"color\":\"blue\",\"width\":1},\"locationmode\":\"USA-states\",\"lon\":[-72.8,-83.7],\"mode\":\"lines\",\"opacity\":0.1111111111111111,\"type\":\"scattergeo\"},{\"lat\":[41.6,39.2],\"line\":{\"color\":\"purple\",\"width\":1},\"locationmode\":\"USA-states\",\"lon\":[-93.8,-96.6],\"mode\":\"lines\",\"opacity\":0.1111111111111111,\"type\":\"scattergeo\"},{\"lat\":[41.6,41.7],\"line\":{\"color\":\"blue\",\"width\":1},\"locationmode\":\"USA-states\",\"lon\":[-93.7,-91.6],\"mode\":\"lines\",\"opacity\":0.2222222222222222,\"type\":\"scattergeo\"},{\"lat\":[41.6,41.7],\"line\":{\"color\":\"blue\",\"width\":1},\"locationmode\":\"USA-states\",\"lon\":[-93.6,-91.6],\"mode\":\"lines\",\"opacity\":0.1111111111111111,\"type\":\"scattergeo\"},{\"lat\":[41.6,40.1],\"line\":{\"color\":\"blue\",\"width\":1},\"locationmode\":\"USA-states\",\"lon\":[-88.2,-88.2],\"mode\":\"lines\",\"opacity\":0.1111111111111111,\"type\":\"scattergeo\"},{\"lat\":[41.6,45.0],\"line\":{\"color\":\"blue\",\"width\":1},\"locationmode\":\"USA-states\",\"lon\":[-87.7,-93.2],\"mode\":\"lines\",\"opacity\":0.1111111111111111,\"type\":\"scattergeo\"},{\"lat\":[41.6,42.0],\"line\":{\"color\":\"purple\",\"width\":1},\"locationmode\":\"USA-states\",\"lon\":[-81.2,-93.6],\"mode\":\"lines\",\"opacity\":0.1111111111111111,\"type\":\"scattergeo\"},{\"lat\":[41.6,43.1],\"line\":{\"color\":\"blue\",\"width\":1},\"locationmode\":\"USA-states\",\"lon\":[-73.1,-89.4],\"mode\":\"lines\",\"opacity\":0.1111111111111111,\"type\":\"scattergeo\"},{\"lat\":[41.7,40.3],\"line\":{\"color\":\"purple\",\"width\":1},\"locationmode\":\"USA-states\",\"lon\":[-111.8,-111.7],\"mode\":\"lines\",\"opacity\":0.1111111111111111,\"type\":\"scattergeo\"},{\"lat\":[41.7,42.0],\"line\":{\"color\":\"purple\",\"width\":1},\"locationmode\":\"USA-states\",\"lon\":[-93.7,-93.6],\"mode\":\"lines\",\"opacity\":0.1111111111111111,\"type\":\"scattergeo\"},{\"lat\":[41.7,41.7],\"line\":{\"color\":\"blue\",\"width\":1},\"locationmode\":\"USA-states\",\"lon\":[-93.6,-91.6],\"mode\":\"lines\",\"opacity\":0.1111111111111111,\"type\":\"scattergeo\"},{\"lat\":[41.7,42.0],\"line\":{\"color\":\"purple\",\"width\":1},\"locationmode\":\"USA-states\",\"lon\":[-92.7,-93.6],\"mode\":\"lines\",\"opacity\":0.1111111111111111,\"type\":\"scattergeo\"},{\"lat\":[41.7,43.1],\"line\":{\"color\":\"blue\",\"width\":1},\"locationmode\":\"USA-states\",\"lon\":[-91.7,-89.4],\"mode\":\"lines\",\"opacity\":0.1111111111111111,\"type\":\"scattergeo\"},{\"lat\":[41.7,41.7],\"line\":{\"color\":\"blue\",\"width\":1},\"locationmode\":\"USA-states\",\"lon\":[-91.3,-91.6],\"mode\":\"lines\",\"opacity\":0.1111111111111111,\"type\":\"scattergeo\"},{\"lat\":[41.7,42.0],\"line\":{\"color\":\"purple\",\"width\":1},\"locationmode\":\"USA-states\",\"lon\":[-90.6,-93.6],\"mode\":\"lines\",\"opacity\":0.1111111111111111,\"type\":\"scattergeo\"},{\"lat\":[41.7,42.3],\"line\":{\"color\":\"lightblue\",\"width\":1},\"locationmode\":\"USA-states\",\"lon\":[-88.4,-71.2],\"mode\":\"lines\",\"opacity\":0.1111111111111111,\"type\":\"scattergeo\"},{\"lat\":[41.7,39.1],\"line\":{\"color\":\"purple\",\"width\":1},\"locationmode\":\"USA-states\",\"lon\":[-88.1,-84.5],\"mode\":\"lines\",\"opacity\":0.1111111111111111,\"type\":\"scattergeo\"},{\"lat\":[41.7,42.3],\"line\":{\"color\":\"blue\",\"width\":1},\"locationmode\":\"USA-states\",\"lon\":[-88.1,-83.7],\"mode\":\"lines\",\"opacity\":0.1111111111111111,\"type\":\"scattergeo\"},{\"lat\":[41.7,39.2],\"line\":{\"color\":\"blue\",\"width\":1},\"locationmode\":\"USA-states\",\"lon\":[-86.3,-86.5],\"mode\":\"lines\",\"opacity\":0.1111111111111111,\"type\":\"scattergeo\"},{\"lat\":[41.7,40.8],\"line\":{\"color\":\"blue\",\"width\":1},\"locationmode\":\"USA-states\",\"lon\":[-86.0,-77.9],\"mode\":\"lines\",\"opacity\":0.1111111111111111,\"type\":\"scattergeo\"},{\"lat\":[41.7,39.1],\"line\":{\"color\":\"purple\",\"width\":1},\"locationmode\":\"USA-states\",\"lon\":[-83.5,-84.5],\"mode\":\"lines\",\"opacity\":0.1111111111111111,\"type\":\"scattergeo\"},{\"lat\":[41.8,32.7],\"line\":{\"color\":\"purple\",\"width\":1},\"locationmode\":\"USA-states\",\"lon\":[-88.1,-97.4],\"mode\":\"lines\",\"opacity\":0.1111111111111111,\"type\":\"scattergeo\"},{\"lat\":[41.8,42.3],\"line\":{\"color\":\"blue\",\"width\":1},\"locationmode\":\"USA-states\",\"lon\":[-87.9,-83.7],\"mode\":\"lines\",\"opacity\":0.1111111111111111,\"type\":\"scattergeo\"},{\"lat\":[41.8,39.7],\"line\":{\"color\":\"purple\",\"width\":1},\"locationmode\":\"USA-states\",\"lon\":[-81.1,-80.0],\"mode\":\"lines\",\"opacity\":0.1111111111111111,\"type\":\"scattergeo\"},{\"lat\":[41.8,40.8],\"line\":{\"color\":\"blue\",\"width\":1},\"locationmode\":\"USA-states\",\"lon\":[-72.8,-77.9],\"mode\":\"lines\",\"opacity\":0.1111111111111111,\"type\":\"scattergeo\"},{\"lat\":[41.9,32.2],\"line\":{\"color\":\"green\",\"width\":1},\"locationmode\":\"USA-states\",\"lon\":[-88.3,-110.9],\"mode\":\"lines\",\"opacity\":0.1111111111111111,\"type\":\"scattergeo\"},{\"lat\":[41.9,43.0],\"line\":{\"color\":\"lightblue\",\"width\":1},\"locationmode\":\"USA-states\",\"lon\":[-88.1,-76.1],\"mode\":\"lines\",\"opacity\":0.1111111111111111,\"type\":\"scattergeo\"},{\"lat\":[41.9,43.0],\"line\":{\"color\":\"lightblue\",\"width\":1},\"locationmode\":\"USA-states\",\"lon\":[-88.0,-76.1],\"mode\":\"lines\",\"opacity\":0.1111111111111111,\"type\":\"scattergeo\"},{\"lat\":[41.9,38.2],\"line\":{\"color\":\"lightblue\",\"width\":1},\"locationmode\":\"USA-states\",\"lon\":[-87.6,-85.8],\"mode\":\"lines\",\"opacity\":0.1111111111111111,\"type\":\"scattergeo\"},{\"lat\":[41.9,40.5],\"line\":{\"color\":\"blue\",\"width\":1},\"locationmode\":\"USA-states\",\"lon\":[-87.6,-74.5],\"mode\":\"lines\",\"opacity\":0.1111111111111111,\"type\":\"scattergeo\"},{\"lat\":[41.9,42.0],\"line\":{\"color\":\"purple\",\"width\":1},\"locationmode\":\"USA-states\",\"lon\":[-87.6,-93.6],\"mode\":\"lines\",\"opacity\":0.1111111111111111,\"type\":\"scattergeo\"},{\"lat\":[41.9,42.3],\"line\":{\"color\":\"lightblue\",\"width\":1},\"locationmode\":\"USA-states\",\"lon\":[-87.6,-71.2],\"mode\":\"lines\",\"opacity\":0.2222222222222222,\"type\":\"scattergeo\"},{\"lat\":[41.9,45.0],\"line\":{\"color\":\"blue\",\"width\":1},\"locationmode\":\"USA-states\",\"lon\":[-87.6,-93.2],\"mode\":\"lines\",\"opacity\":0.1111111111111111,\"type\":\"scattergeo\"},{\"lat\":[41.9,40.8],\"line\":{\"color\":\"blue\",\"width\":1},\"locationmode\":\"USA-states\",\"lon\":[-85.6,-96.7],\"mode\":\"lines\",\"opacity\":0.1111111111111111,\"type\":\"scattergeo\"},{\"lat\":[42.0,41.7],\"line\":{\"color\":\"blue\",\"width\":1},\"locationmode\":\"USA-states\",\"lon\":[-91.7,-91.6],\"mode\":\"lines\",\"opacity\":0.1111111111111111,\"type\":\"scattergeo\"},{\"lat\":[42.0,42.3],\"line\":{\"color\":\"blue\",\"width\":1},\"locationmode\":\"USA-states\",\"lon\":[-72.7,-83.7],\"mode\":\"lines\",\"opacity\":0.1111111111111111,\"type\":\"scattergeo\"},{\"lat\":[42.0,42.3],\"line\":{\"color\":\"blue\",\"width\":1},\"locationmode\":\"USA-states\",\"lon\":[-71.2,-83.7],\"mode\":\"lines\",\"opacity\":0.1111111111111111,\"type\":\"scattergeo\"},{\"lat\":[42.1,41.7],\"line\":{\"color\":\"blue\",\"width\":1},\"locationmode\":\"USA-states\",\"lon\":[-88.0,-91.6],\"mode\":\"lines\",\"opacity\":0.1111111111111111,\"type\":\"scattergeo\"},{\"lat\":[42.1,42.1],\"line\":{\"color\":\"blue\",\"width\":1},\"locationmode\":\"USA-states\",\"lon\":[-87.8,-87.7],\"mode\":\"lines\",\"opacity\":0.1111111111111111,\"type\":\"scattergeo\"},{\"lat\":[42.1,40.1],\"line\":{\"color\":\"blue\",\"width\":1},\"locationmode\":\"USA-states\",\"lon\":[-87.7,-88.2],\"mode\":\"lines\",\"opacity\":0.1111111111111111,\"type\":\"scattergeo\"},{\"lat\":[42.1,41.7],\"line\":{\"color\":\"blue\",\"width\":1},\"locationmode\":\"USA-states\",\"lon\":[-87.7,-91.6],\"mode\":\"lines\",\"opacity\":0.1111111111111111,\"type\":\"scattergeo\"},{\"lat\":[42.1,43.0],\"line\":{\"color\":\"lightblue\",\"width\":1},\"locationmode\":\"USA-states\",\"lon\":[-72.6,-76.1],\"mode\":\"lines\",\"opacity\":0.1111111111111111,\"type\":\"scattergeo\"},{\"lat\":[42.1,42.3],\"line\":{\"color\":\"lightblue\",\"width\":1},\"locationmode\":\"USA-states\",\"lon\":[-70.7,-71.2],\"mode\":\"lines\",\"opacity\":0.1111111111111111,\"type\":\"scattergeo\"},{\"lat\":[42.2,41.7],\"line\":{\"color\":\"blue\",\"width\":1},\"locationmode\":\"USA-states\",\"lon\":[-93.6,-91.6],\"mode\":\"lines\",\"opacity\":0.1111111111111111,\"type\":\"scattergeo\"},{\"lat\":[42.2,43.1],\"line\":{\"color\":\"blue\",\"width\":1},\"locationmode\":\"USA-states\",\"lon\":[-88.1,-89.4],\"mode\":\"lines\",\"opacity\":0.1111111111111111,\"type\":\"scattergeo\"},{\"lat\":[42.2,42.1],\"line\":{\"color\":\"blue\",\"width\":1},\"locationmode\":\"USA-states\",\"lon\":[-85.6,-87.7],\"mode\":\"lines\",\"opacity\":0.1111111111111111,\"type\":\"scattergeo\"},{\"lat\":[42.2,33.2],\"line\":{\"color\":\"red\",\"width\":1},\"locationmode\":\"USA-states\",\"lon\":[-83.5,-87.6],\"mode\":\"lines\",\"opacity\":0.1111111111111111,\"type\":\"scattergeo\"},{\"lat\":[42.2,40.4],\"line\":{\"color\":\"blue\",\"width\":1},\"locationmode\":\"USA-states\",\"lon\":[-83.5,-86.9],\"mode\":\"lines\",\"opacity\":0.1111111111111111,\"type\":\"scattergeo\"},{\"lat\":[42.2,40.8],\"line\":{\"color\":\"blue\",\"width\":1},\"locationmode\":\"USA-states\",\"lon\":[-83.5,-77.9],\"mode\":\"lines\",\"opacity\":0.1111111111111111,\"type\":\"scattergeo\"},{\"lat\":[42.2,39.1],\"line\":{\"color\":\"purple\",\"width\":1},\"locationmode\":\"USA-states\",\"lon\":[-83.1,-84.5],\"mode\":\"lines\",\"opacity\":0.1111111111111111,\"type\":\"scattergeo\"},{\"lat\":[42.2,42.3],\"line\":{\"color\":\"lightblue\",\"width\":1},\"locationmode\":\"USA-states\",\"lon\":[-71.2,-71.2],\"mode\":\"lines\",\"opacity\":0.1111111111111111,\"type\":\"scattergeo\"},{\"lat\":[42.2,36.1],\"line\":{\"color\":\"lightblue\",\"width\":1},\"locationmode\":\"USA-states\",\"lon\":[-70.8,-80.3],\"mode\":\"lines\",\"opacity\":0.1111111111111111,\"type\":\"scattergeo\"},{\"lat\":[42.3,41.7],\"line\":{\"color\":\"blue\",\"width\":1},\"locationmode\":\"USA-states\",\"lon\":[-95.5,-91.6],\"mode\":\"lines\",\"opacity\":0.1111111111111111,\"type\":\"scattergeo\"},{\"lat\":[42.3,42.1],\"line\":{\"color\":\"blue\",\"width\":1},\"locationmode\":\"USA-states\",\"lon\":[-87.8,-87.7],\"mode\":\"lines\",\"opacity\":0.1111111111111111,\"type\":\"scattergeo\"},{\"lat\":[42.3,36.1],\"line\":{\"color\":\"red\",\"width\":1},\"locationmode\":\"USA-states\",\"lon\":[-85.0,-86.8],\"mode\":\"lines\",\"opacity\":0.1111111111111111,\"type\":\"scattergeo\"},{\"lat\":[42.3,40.4],\"line\":{\"color\":\"lightblue\",\"width\":1},\"locationmode\":\"USA-states\",\"lon\":[-83.0,-80.0],\"mode\":\"lines\",\"opacity\":0.2222222222222222,\"type\":\"scattergeo\"},{\"lat\":[42.3,40.8],\"line\":{\"color\":\"blue\",\"width\":1},\"locationmode\":\"USA-states\",\"lon\":[-83.0,-77.9],\"mode\":\"lines\",\"opacity\":0.3333333333333333,\"type\":\"scattergeo\"},{\"lat\":[42.3,42.0],\"line\":{\"color\":\"purple\",\"width\":1},\"locationmode\":\"USA-states\",\"lon\":[-83.0,-93.6],\"mode\":\"lines\",\"opacity\":0.1111111111111111,\"type\":\"scattergeo\"},{\"lat\":[42.3,42.3],\"line\":{\"color\":\"blue\",\"width\":1},\"locationmode\":\"USA-states\",\"lon\":[-83.0,-83.7],\"mode\":\"lines\",\"opacity\":0.1111111111111111,\"type\":\"scattergeo\"},{\"lat\":[42.3,42.7],\"line\":{\"color\":\"blue\",\"width\":1},\"locationmode\":\"USA-states\",\"lon\":[-83.0,-84.5],\"mode\":\"lines\",\"opacity\":0.1111111111111111,\"type\":\"scattergeo\"},{\"lat\":[42.3,42.3],\"line\":{\"color\":\"blue\",\"width\":1},\"locationmode\":\"USA-states\",\"lon\":[-71.2,-83.7],\"mode\":\"lines\",\"opacity\":0.1111111111111111,\"type\":\"scattergeo\"},{\"lat\":[42.3,42.3],\"line\":{\"color\":\"lightblue\",\"width\":1},\"locationmode\":\"USA-states\",\"lon\":[-71.1,-71.2],\"mode\":\"lines\",\"opacity\":0.1111111111111111,\"type\":\"scattergeo\"},{\"lat\":[42.4,44.6],\"line\":{\"color\":\"green\",\"width\":1},\"locationmode\":\"USA-states\",\"lon\":[-123.3,-123.3],\"mode\":\"lines\",\"opacity\":0.1111111111111111,\"type\":\"scattergeo\"},{\"lat\":[42.4,41.7],\"line\":{\"color\":\"blue\",\"width\":1},\"locationmode\":\"USA-states\",\"lon\":[-89.8,-91.6],\"mode\":\"lines\",\"opacity\":0.1111111111111111,\"type\":\"scattergeo\"},{\"lat\":[42.4,40.4],\"line\":{\"color\":\"lightblue\",\"width\":1},\"locationmode\":\"USA-states\",\"lon\":[-83.4,-80.0],\"mode\":\"lines\",\"opacity\":0.1111111111111111,\"type\":\"scattergeo\"},{\"lat\":[42.4,42.1],\"line\":{\"color\":\"blue\",\"width\":1},\"locationmode\":\"USA-states\",\"lon\":[-83.4,-87.7],\"mode\":\"lines\",\"opacity\":0.1111111111111111,\"type\":\"scattergeo\"},{\"lat\":[42.5,41.7],\"line\":{\"color\":\"blue\",\"width\":1},\"locationmode\":\"USA-states\",\"lon\":[-93.3,-91.6],\"mode\":\"lines\",\"opacity\":0.1111111111111111,\"type\":\"scattergeo\"},{\"lat\":[42.5,42.0],\"line\":{\"color\":\"purple\",\"width\":1},\"locationmode\":\"USA-states\",\"lon\":[-90.7,-93.6],\"mode\":\"lines\",\"opacity\":0.1111111111111111,\"type\":\"scattergeo\"},{\"lat\":[42.5,32.2],\"line\":{\"color\":\"green\",\"width\":1},\"locationmode\":\"USA-states\",\"lon\":[-88.3,-110.9],\"mode\":\"lines\",\"opacity\":0.1111111111111111,\"type\":\"scattergeo\"},{\"lat\":[42.5,45.0],\"line\":{\"color\":\"blue\",\"width\":1},\"locationmode\":\"USA-states\",\"lon\":[-88.1,-93.2],\"mode\":\"lines\",\"opacity\":0.2222222222222222,\"type\":\"scattergeo\"},{\"lat\":[42.5,38.2],\"line\":{\"color\":\"lightblue\",\"width\":1},\"locationmode\":\"USA-states\",\"lon\":[-83.2,-85.8],\"mode\":\"lines\",\"opacity\":0.1111111111111111,\"type\":\"scattergeo\"},{\"lat\":[42.5,42.3],\"line\":{\"color\":\"blue\",\"width\":1},\"locationmode\":\"USA-states\",\"lon\":[-83.2,-83.7],\"mode\":\"lines\",\"opacity\":0.1111111111111111,\"type\":\"scattergeo\"},{\"lat\":[42.5,42.7],\"line\":{\"color\":\"blue\",\"width\":1},\"locationmode\":\"USA-states\",\"lon\":[-83.2,-84.5],\"mode\":\"lines\",\"opacity\":0.1111111111111111,\"type\":\"scattergeo\"},{\"lat\":[42.5,42.7],\"line\":{\"color\":\"blue\",\"width\":1},\"locationmode\":\"USA-states\",\"lon\":[-83.0,-84.5],\"mode\":\"lines\",\"opacity\":0.1111111111111111,\"type\":\"scattergeo\"},{\"lat\":[42.6,38.0],\"line\":{\"color\":\"red\",\"width\":1},\"locationmode\":\"USA-states\",\"lon\":[-83.4,-84.5],\"mode\":\"lines\",\"opacity\":0.1111111111111111,\"type\":\"scattergeo\"},{\"lat\":[42.6,42.3],\"line\":{\"color\":\"blue\",\"width\":1},\"locationmode\":\"USA-states\",\"lon\":[-83.4,-83.7],\"mode\":\"lines\",\"opacity\":0.2222222222222222,\"type\":\"scattergeo\"},{\"lat\":[42.6,37.4],\"line\":{\"color\":\"green\",\"width\":1},\"locationmode\":\"USA-states\",\"lon\":[-83.2,-122.2],\"mode\":\"lines\",\"opacity\":0.1111111111111111,\"type\":\"scattergeo\"},{\"lat\":[42.6,42.3],\"line\":{\"color\":\"blue\",\"width\":1},\"locationmode\":\"USA-states\",\"lon\":[-83.0,-83.7],\"mode\":\"lines\",\"opacity\":0.1111111111111111,\"type\":\"scattergeo\"},{\"lat\":[42.6,42.3],\"line\":{\"color\":\"lightblue\",\"width\":1},\"locationmode\":\"USA-states\",\"lon\":[-71.6,-71.2],\"mode\":\"lines\",\"opacity\":0.1111111111111111,\"type\":\"scattergeo\"},{\"lat\":[42.7,42.3],\"line\":{\"color\":\"blue\",\"width\":1},\"locationmode\":\"USA-states\",\"lon\":[-84.5,-83.7],\"mode\":\"lines\",\"opacity\":0.1111111111111111,\"type\":\"scattergeo\"},{\"lat\":[42.7,42.7],\"line\":{\"color\":\"blue\",\"width\":1},\"locationmode\":\"USA-states\",\"lon\":[-84.5,-84.5],\"mode\":\"lines\",\"opacity\":0.1111111111111111,\"type\":\"scattergeo\"},{\"lat\":[42.7,30.4],\"line\":{\"color\":\"red\",\"width\":1},\"locationmode\":\"USA-states\",\"lon\":[-83.4,-91.2],\"mode\":\"lines\",\"opacity\":0.1111111111111111,\"type\":\"scattergeo\"},{\"lat\":[42.7,39.2],\"line\":{\"color\":\"blue\",\"width\":1},\"locationmode\":\"USA-states\",\"lon\":[-83.2,-86.5],\"mode\":\"lines\",\"opacity\":0.1111111111111111,\"type\":\"scattergeo\"},{\"lat\":[42.8,43.0],\"line\":{\"color\":\"lightblue\",\"width\":1},\"locationmode\":\"USA-states\",\"lon\":[-85.7,-76.1],\"mode\":\"lines\",\"opacity\":0.1111111111111111,\"type\":\"scattergeo\"},{\"lat\":[42.8,42.1],\"line\":{\"color\":\"blue\",\"width\":1},\"locationmode\":\"USA-states\",\"lon\":[-83.7,-87.7],\"mode\":\"lines\",\"opacity\":0.1111111111111111,\"type\":\"scattergeo\"},{\"lat\":[42.8,40.3],\"line\":{\"color\":\"purple\",\"width\":1},\"locationmode\":\"USA-states\",\"lon\":[-83.0,-111.7],\"mode\":\"lines\",\"opacity\":0.1111111111111111,\"type\":\"scattergeo\"},{\"lat\":[42.9,43.1],\"line\":{\"color\":\"blue\",\"width\":1},\"locationmode\":\"USA-states\",\"lon\":[-88.1,-89.4],\"mode\":\"lines\",\"opacity\":0.1111111111111111,\"type\":\"scattergeo\"},{\"lat\":[43.0,40.4],\"line\":{\"color\":\"blue\",\"width\":1},\"locationmode\":\"USA-states\",\"lon\":[-87.9,-86.9],\"mode\":\"lines\",\"opacity\":0.1111111111111111,\"type\":\"scattergeo\"},{\"lat\":[43.0,42.1],\"line\":{\"color\":\"blue\",\"width\":1},\"locationmode\":\"USA-states\",\"lon\":[-83.5,-87.7],\"mode\":\"lines\",\"opacity\":0.1111111111111111,\"type\":\"scattergeo\"},{\"lat\":[43.1,34.2],\"line\":{\"color\":\"green\",\"width\":1},\"locationmode\":\"USA-states\",\"lon\":[-88.1,-118.2],\"mode\":\"lines\",\"opacity\":0.1111111111111111,\"type\":\"scattergeo\"},{\"lat\":[43.1,43.0],\"line\":{\"color\":\"lightblue\",\"width\":1},\"locationmode\":\"USA-states\",\"lon\":[-77.4,-76.1],\"mode\":\"lines\",\"opacity\":0.1111111111111111,\"type\":\"scattergeo\"},{\"lat\":[43.2,43.1],\"line\":{\"color\":\"blue\",\"width\":1},\"locationmode\":\"USA-states\",\"lon\":[-88.0,-89.4],\"mode\":\"lines\",\"opacity\":0.1111111111111111,\"type\":\"scattergeo\"},{\"lat\":[43.2,44.1],\"line\":{\"color\":\"green\",\"width\":1},\"locationmode\":\"USA-states\",\"lon\":[-77.6,-123.1],\"mode\":\"lines\",\"opacity\":0.1111111111111111,\"type\":\"scattergeo\"},{\"lat\":[43.3,40.4],\"line\":{\"color\":\"blue\",\"width\":1},\"locationmode\":\"USA-states\",\"lon\":[-88.0,-86.9],\"mode\":\"lines\",\"opacity\":0.1111111111111111,\"type\":\"scattergeo\"},{\"lat\":[43.3,43.1],\"line\":{\"color\":\"blue\",\"width\":1},\"locationmode\":\"USA-states\",\"lon\":[-88.0,-89.4],\"mode\":\"lines\",\"opacity\":0.1111111111111111,\"type\":\"scattergeo\"},{\"lat\":[43.5,40.8],\"line\":{\"color\":\"blue\",\"width\":1},\"locationmode\":\"USA-states\",\"lon\":[-96.7,-96.7],\"mode\":\"lines\",\"opacity\":0.1111111111111111,\"type\":\"scattergeo\"},{\"lat\":[43.8,43.1],\"line\":{\"color\":\"blue\",\"width\":1},\"locationmode\":\"USA-states\",\"lon\":[-88.4,-89.4],\"mode\":\"lines\",\"opacity\":0.1111111111111111,\"type\":\"scattergeo\"},{\"lat\":[44.1,44.6],\"line\":{\"color\":\"green\",\"width\":1},\"locationmode\":\"USA-states\",\"lon\":[-123.1,-123.3],\"mode\":\"lines\",\"opacity\":0.1111111111111111,\"type\":\"scattergeo\"},{\"lat\":[44.5,44.1],\"line\":{\"color\":\"green\",\"width\":1},\"locationmode\":\"USA-states\",\"lon\":[-122.9,-123.1],\"mode\":\"lines\",\"opacity\":0.1111111111111111,\"type\":\"scattergeo\"},{\"lat\":[44.7,43.1],\"line\":{\"color\":\"blue\",\"width\":1},\"locationmode\":\"USA-states\",\"lon\":[-93.2,-89.4],\"mode\":\"lines\",\"opacity\":0.1111111111111111,\"type\":\"scattergeo\"},{\"lat\":[44.7,43.1],\"line\":{\"color\":\"blue\",\"width\":1},\"locationmode\":\"USA-states\",\"lon\":[-93.1,-89.4],\"mode\":\"lines\",\"opacity\":0.1111111111111111,\"type\":\"scattergeo\"},{\"lat\":[44.8,45.0],\"line\":{\"color\":\"blue\",\"width\":1},\"locationmode\":\"USA-states\",\"lon\":[-93.5,-93.2],\"mode\":\"lines\",\"opacity\":0.1111111111111111,\"type\":\"scattergeo\"},{\"lat\":[44.8,43.1],\"line\":{\"color\":\"blue\",\"width\":1},\"locationmode\":\"USA-states\",\"lon\":[-91.5,-89.4],\"mode\":\"lines\",\"opacity\":0.1111111111111111,\"type\":\"scattergeo\"},{\"lat\":[44.9,41.7],\"line\":{\"color\":\"blue\",\"width\":1},\"locationmode\":\"USA-states\",\"lon\":[-93.5,-91.6],\"mode\":\"lines\",\"opacity\":0.1111111111111111,\"type\":\"scattergeo\"},{\"lat\":[45.0,37.9],\"line\":{\"color\":\"green\",\"width\":1},\"locationmode\":\"USA-states\",\"lon\":[-93.3,-122.3],\"mode\":\"lines\",\"opacity\":0.1111111111111111,\"type\":\"scattergeo\"},{\"lat\":[45.0,40.8],\"line\":{\"color\":\"blue\",\"width\":1},\"locationmode\":\"USA-states\",\"lon\":[-93.3,-77.9],\"mode\":\"lines\",\"opacity\":0.1111111111111111,\"type\":\"scattergeo\"},{\"lat\":[45.0,43.0],\"line\":{\"color\":\"lightblue\",\"width\":1},\"locationmode\":\"USA-states\",\"lon\":[-93.3,-76.1],\"mode\":\"lines\",\"opacity\":0.1111111111111111,\"type\":\"scattergeo\"},{\"lat\":[45.3,45.0],\"line\":{\"color\":\"blue\",\"width\":1},\"locationmode\":\"USA-states\",\"lon\":[-94.1,-93.2],\"mode\":\"lines\",\"opacity\":0.1111111111111111,\"type\":\"scattergeo\"},{\"lat\":[45.5,35.2],\"line\":{\"color\":\"purple\",\"width\":1},\"locationmode\":\"USA-states\",\"lon\":[-122.7,-97.4],\"mode\":\"lines\",\"opacity\":0.1111111111111111,\"type\":\"scattergeo\"},{\"lat\":[45.5,37.9],\"line\":{\"color\":\"green\",\"width\":1},\"locationmode\":\"USA-states\",\"lon\":[-122.7,-122.3],\"mode\":\"lines\",\"opacity\":0.1111111111111111,\"type\":\"scattergeo\"},{\"lat\":[45.5,40.0],\"line\":{\"color\":\"green\",\"width\":1},\"locationmode\":\"USA-states\",\"lon\":[-122.7,-105.3],\"mode\":\"lines\",\"opacity\":0.1111111111111111,\"type\":\"scattergeo\"},{\"lat\":[45.5,44.6],\"line\":{\"color\":\"green\",\"width\":1},\"locationmode\":\"USA-states\",\"lon\":[-122.7,-123.3],\"mode\":\"lines\",\"opacity\":0.1111111111111111,\"type\":\"scattergeo\"},{\"lat\":[45.7,44.6],\"line\":{\"color\":\"green\",\"width\":1},\"locationmode\":\"USA-states\",\"lon\":[-121.5,-123.3],\"mode\":\"lines\",\"opacity\":0.1111111111111111,\"type\":\"scattergeo\"},{\"lat\":[46.6,46.7],\"line\":{\"color\":\"green\",\"width\":1},\"locationmode\":\"USA-states\",\"lon\":[-120.5,-117.2],\"mode\":\"lines\",\"opacity\":0.1111111111111111,\"type\":\"scattergeo\"},{\"lat\":[46.7,40.8],\"line\":{\"color\":\"green\",\"width\":1},\"locationmode\":\"USA-states\",\"lon\":[-117.0,-111.8],\"mode\":\"lines\",\"opacity\":0.1111111111111111,\"type\":\"scattergeo\"},{\"lat\":[46.8,39.2],\"line\":{\"color\":\"purple\",\"width\":1},\"locationmode\":\"USA-states\",\"lon\":[-100.8,-96.6],\"mode\":\"lines\",\"opacity\":0.1111111111111111,\"type\":\"scattergeo\"},{\"lat\":[46.9,37.9],\"line\":{\"color\":\"green\",\"width\":1},\"locationmode\":\"USA-states\",\"lon\":[-122.6,-122.3],\"mode\":\"lines\",\"opacity\":0.1111111111111111,\"type\":\"scattergeo\"},{\"lat\":[46.9,47.7],\"line\":{\"color\":\"green\",\"width\":1},\"locationmode\":\"USA-states\",\"lon\":[-122.3,-122.3],\"mode\":\"lines\",\"opacity\":0.1111111111111111,\"type\":\"scattergeo\"},{\"lat\":[46.9,40.3],\"line\":{\"color\":\"purple\",\"width\":1},\"locationmode\":\"USA-states\",\"lon\":[-114.0,-111.7],\"mode\":\"lines\",\"opacity\":0.1111111111111111,\"type\":\"scattergeo\"},{\"lat\":[47.0,45.0],\"line\":{\"color\":\"blue\",\"width\":1},\"locationmode\":\"USA-states\",\"lon\":[-122.9,-93.2],\"mode\":\"lines\",\"opacity\":0.1111111111111111,\"type\":\"scattergeo\"},{\"lat\":[47.1,47.7],\"line\":{\"color\":\"green\",\"width\":1},\"locationmode\":\"USA-states\",\"lon\":[-122.4,-122.3],\"mode\":\"lines\",\"opacity\":0.1111111111111111,\"type\":\"scattergeo\"},{\"lat\":[47.2,40.0],\"line\":{\"color\":\"blue\",\"width\":1},\"locationmode\":\"USA-states\",\"lon\":[-122.6,-83.0],\"mode\":\"lines\",\"opacity\":0.1111111111111111,\"type\":\"scattergeo\"},{\"lat\":[47.2,32.2],\"line\":{\"color\":\"green\",\"width\":1},\"locationmode\":\"USA-states\",\"lon\":[-122.4,-110.9],\"mode\":\"lines\",\"opacity\":0.1111111111111111,\"type\":\"scattergeo\"},{\"lat\":[47.2,34.0],\"line\":{\"color\":\"green\",\"width\":1},\"locationmode\":\"USA-states\",\"lon\":[-122.4,-118.3],\"mode\":\"lines\",\"opacity\":0.1111111111111111,\"type\":\"scattergeo\"},{\"lat\":[47.5,33.4],\"line\":{\"color\":\"green\",\"width\":1},\"locationmode\":\"USA-states\",\"lon\":[-122.3,-111.9],\"mode\":\"lines\",\"opacity\":0.1111111111111111,\"type\":\"scattergeo\"},{\"lat\":[47.5,38.2],\"line\":{\"color\":\"lightblue\",\"width\":1},\"locationmode\":\"USA-states\",\"lon\":[-122.3,-85.8],\"mode\":\"lines\",\"opacity\":0.1111111111111111,\"type\":\"scattergeo\"},{\"lat\":[47.5,47.7],\"line\":{\"color\":\"green\",\"width\":1},\"locationmode\":\"USA-states\",\"lon\":[-122.3,-122.3],\"mode\":\"lines\",\"opacity\":0.1111111111111111,\"type\":\"scattergeo\"},{\"lat\":[47.5,47.7],\"line\":{\"color\":\"green\",\"width\":1},\"locationmode\":\"USA-states\",\"lon\":[-122.2,-122.3],\"mode\":\"lines\",\"opacity\":0.1111111111111111,\"type\":\"scattergeo\"},{\"lat\":[47.5,46.7],\"line\":{\"color\":\"green\",\"width\":1},\"locationmode\":\"USA-states\",\"lon\":[-121.8,-117.2],\"mode\":\"lines\",\"opacity\":0.1111111111111111,\"type\":\"scattergeo\"},{\"lat\":[47.6,47.7],\"line\":{\"color\":\"green\",\"width\":1},\"locationmode\":\"USA-states\",\"lon\":[-122.3,-122.3],\"mode\":\"lines\",\"opacity\":0.1111111111111111,\"type\":\"scattergeo\"},{\"lat\":[47.6,47.7],\"line\":{\"color\":\"green\",\"width\":1},\"locationmode\":\"USA-states\",\"lon\":[-122.2,-122.3],\"mode\":\"lines\",\"opacity\":0.1111111111111111,\"type\":\"scattergeo\"},{\"lat\":[47.8,40.8],\"line\":{\"color\":\"green\",\"width\":1},\"locationmode\":\"USA-states\",\"lon\":[-122.2,-111.8],\"mode\":\"lines\",\"opacity\":0.1111111111111111,\"type\":\"scattergeo\"},{\"lat\":[48.0,38.0],\"line\":{\"color\":\"lightblue\",\"width\":1},\"locationmode\":\"USA-states\",\"lon\":[-122.2,-78.5],\"mode\":\"lines\",\"opacity\":0.1111111111111111,\"type\":\"scattergeo\"}],                        {\"template\":{\"data\":{\"histogram2dcontour\":[{\"type\":\"histogram2dcontour\",\"colorbar\":{\"outlinewidth\":0,\"ticks\":\"\"},\"colorscale\":[[0.0,\"#0d0887\"],[0.1111111111111111,\"#46039f\"],[0.2222222222222222,\"#7201a8\"],[0.3333333333333333,\"#9c179e\"],[0.4444444444444444,\"#bd3786\"],[0.5555555555555556,\"#d8576b\"],[0.6666666666666666,\"#ed7953\"],[0.7777777777777778,\"#fb9f3a\"],[0.8888888888888888,\"#fdca26\"],[1.0,\"#f0f921\"]]}],\"choropleth\":[{\"type\":\"choropleth\",\"colorbar\":{\"outlinewidth\":0,\"ticks\":\"\"}}],\"histogram2d\":[{\"type\":\"histogram2d\",\"colorbar\":{\"outlinewidth\":0,\"ticks\":\"\"},\"colorscale\":[[0.0,\"#0d0887\"],[0.1111111111111111,\"#46039f\"],[0.2222222222222222,\"#7201a8\"],[0.3333333333333333,\"#9c179e\"],[0.4444444444444444,\"#bd3786\"],[0.5555555555555556,\"#d8576b\"],[0.6666666666666666,\"#ed7953\"],[0.7777777777777778,\"#fb9f3a\"],[0.8888888888888888,\"#fdca26\"],[1.0,\"#f0f921\"]]}],\"heatmap\":[{\"type\":\"heatmap\",\"colorbar\":{\"outlinewidth\":0,\"ticks\":\"\"},\"colorscale\":[[0.0,\"#0d0887\"],[0.1111111111111111,\"#46039f\"],[0.2222222222222222,\"#7201a8\"],[0.3333333333333333,\"#9c179e\"],[0.4444444444444444,\"#bd3786\"],[0.5555555555555556,\"#d8576b\"],[0.6666666666666666,\"#ed7953\"],[0.7777777777777778,\"#fb9f3a\"],[0.8888888888888888,\"#fdca26\"],[1.0,\"#f0f921\"]]}],\"heatmapgl\":[{\"type\":\"heatmapgl\",\"colorbar\":{\"outlinewidth\":0,\"ticks\":\"\"},\"colorscale\":[[0.0,\"#0d0887\"],[0.1111111111111111,\"#46039f\"],[0.2222222222222222,\"#7201a8\"],[0.3333333333333333,\"#9c179e\"],[0.4444444444444444,\"#bd3786\"],[0.5555555555555556,\"#d8576b\"],[0.6666666666666666,\"#ed7953\"],[0.7777777777777778,\"#fb9f3a\"],[0.8888888888888888,\"#fdca26\"],[1.0,\"#f0f921\"]]}],\"contourcarpet\":[{\"type\":\"contourcarpet\",\"colorbar\":{\"outlinewidth\":0,\"ticks\":\"\"}}],\"contour\":[{\"type\":\"contour\",\"colorbar\":{\"outlinewidth\":0,\"ticks\":\"\"},\"colorscale\":[[0.0,\"#0d0887\"],[0.1111111111111111,\"#46039f\"],[0.2222222222222222,\"#7201a8\"],[0.3333333333333333,\"#9c179e\"],[0.4444444444444444,\"#bd3786\"],[0.5555555555555556,\"#d8576b\"],[0.6666666666666666,\"#ed7953\"],[0.7777777777777778,\"#fb9f3a\"],[0.8888888888888888,\"#fdca26\"],[1.0,\"#f0f921\"]]}],\"surface\":[{\"type\":\"surface\",\"colorbar\":{\"outlinewidth\":0,\"ticks\":\"\"},\"colorscale\":[[0.0,\"#0d0887\"],[0.1111111111111111,\"#46039f\"],[0.2222222222222222,\"#7201a8\"],[0.3333333333333333,\"#9c179e\"],[0.4444444444444444,\"#bd3786\"],[0.5555555555555556,\"#d8576b\"],[0.6666666666666666,\"#ed7953\"],[0.7777777777777778,\"#fb9f3a\"],[0.8888888888888888,\"#fdca26\"],[1.0,\"#f0f921\"]]}],\"mesh3d\":[{\"type\":\"mesh3d\",\"colorbar\":{\"outlinewidth\":0,\"ticks\":\"\"}}],\"scatter\":[{\"fillpattern\":{\"fillmode\":\"overlay\",\"size\":10,\"solidity\":0.2},\"type\":\"scatter\"}],\"parcoords\":[{\"type\":\"parcoords\",\"line\":{\"colorbar\":{\"outlinewidth\":0,\"ticks\":\"\"}}}],\"scatterpolargl\":[{\"type\":\"scatterpolargl\",\"marker\":{\"colorbar\":{\"outlinewidth\":0,\"ticks\":\"\"}}}],\"bar\":[{\"error_x\":{\"color\":\"#2a3f5f\"},\"error_y\":{\"color\":\"#2a3f5f\"},\"marker\":{\"line\":{\"color\":\"#E5ECF6\",\"width\":0.5},\"pattern\":{\"fillmode\":\"overlay\",\"size\":10,\"solidity\":0.2}},\"type\":\"bar\"}],\"scattergeo\":[{\"type\":\"scattergeo\",\"marker\":{\"colorbar\":{\"outlinewidth\":0,\"ticks\":\"\"}}}],\"scatterpolar\":[{\"type\":\"scatterpolar\",\"marker\":{\"colorbar\":{\"outlinewidth\":0,\"ticks\":\"\"}}}],\"histogram\":[{\"marker\":{\"pattern\":{\"fillmode\":\"overlay\",\"size\":10,\"solidity\":0.2}},\"type\":\"histogram\"}],\"scattergl\":[{\"type\":\"scattergl\",\"marker\":{\"colorbar\":{\"outlinewidth\":0,\"ticks\":\"\"}}}],\"scatter3d\":[{\"type\":\"scatter3d\",\"line\":{\"colorbar\":{\"outlinewidth\":0,\"ticks\":\"\"}},\"marker\":{\"colorbar\":{\"outlinewidth\":0,\"ticks\":\"\"}}}],\"scattermapbox\":[{\"type\":\"scattermapbox\",\"marker\":{\"colorbar\":{\"outlinewidth\":0,\"ticks\":\"\"}}}],\"scatterternary\":[{\"type\":\"scatterternary\",\"marker\":{\"colorbar\":{\"outlinewidth\":0,\"ticks\":\"\"}}}],\"scattercarpet\":[{\"type\":\"scattercarpet\",\"marker\":{\"colorbar\":{\"outlinewidth\":0,\"ticks\":\"\"}}}],\"carpet\":[{\"aaxis\":{\"endlinecolor\":\"#2a3f5f\",\"gridcolor\":\"white\",\"linecolor\":\"white\",\"minorgridcolor\":\"white\",\"startlinecolor\":\"#2a3f5f\"},\"baxis\":{\"endlinecolor\":\"#2a3f5f\",\"gridcolor\":\"white\",\"linecolor\":\"white\",\"minorgridcolor\":\"white\",\"startlinecolor\":\"#2a3f5f\"},\"type\":\"carpet\"}],\"table\":[{\"cells\":{\"fill\":{\"color\":\"#EBF0F8\"},\"line\":{\"color\":\"white\"}},\"header\":{\"fill\":{\"color\":\"#C8D4E3\"},\"line\":{\"color\":\"white\"}},\"type\":\"table\"}],\"barpolar\":[{\"marker\":{\"line\":{\"color\":\"#E5ECF6\",\"width\":0.5},\"pattern\":{\"fillmode\":\"overlay\",\"size\":10,\"solidity\":0.2}},\"type\":\"barpolar\"}],\"pie\":[{\"automargin\":true,\"type\":\"pie\"}]},\"layout\":{\"autotypenumbers\":\"strict\",\"colorway\":[\"#636efa\",\"#EF553B\",\"#00cc96\",\"#ab63fa\",\"#FFA15A\",\"#19d3f3\",\"#FF6692\",\"#B6E880\",\"#FF97FF\",\"#FECB52\"],\"font\":{\"color\":\"#2a3f5f\"},\"hovermode\":\"closest\",\"hoverlabel\":{\"align\":\"left\"},\"paper_bgcolor\":\"white\",\"plot_bgcolor\":\"#E5ECF6\",\"polar\":{\"bgcolor\":\"#E5ECF6\",\"angularaxis\":{\"gridcolor\":\"white\",\"linecolor\":\"white\",\"ticks\":\"\"},\"radialaxis\":{\"gridcolor\":\"white\",\"linecolor\":\"white\",\"ticks\":\"\"}},\"ternary\":{\"bgcolor\":\"#E5ECF6\",\"aaxis\":{\"gridcolor\":\"white\",\"linecolor\":\"white\",\"ticks\":\"\"},\"baxis\":{\"gridcolor\":\"white\",\"linecolor\":\"white\",\"ticks\":\"\"},\"caxis\":{\"gridcolor\":\"white\",\"linecolor\":\"white\",\"ticks\":\"\"}},\"coloraxis\":{\"colorbar\":{\"outlinewidth\":0,\"ticks\":\"\"}},\"colorscale\":{\"sequential\":[[0.0,\"#0d0887\"],[0.1111111111111111,\"#46039f\"],[0.2222222222222222,\"#7201a8\"],[0.3333333333333333,\"#9c179e\"],[0.4444444444444444,\"#bd3786\"],[0.5555555555555556,\"#d8576b\"],[0.6666666666666666,\"#ed7953\"],[0.7777777777777778,\"#fb9f3a\"],[0.8888888888888888,\"#fdca26\"],[1.0,\"#f0f921\"]],\"sequentialminus\":[[0.0,\"#0d0887\"],[0.1111111111111111,\"#46039f\"],[0.2222222222222222,\"#7201a8\"],[0.3333333333333333,\"#9c179e\"],[0.4444444444444444,\"#bd3786\"],[0.5555555555555556,\"#d8576b\"],[0.6666666666666666,\"#ed7953\"],[0.7777777777777778,\"#fb9f3a\"],[0.8888888888888888,\"#fdca26\"],[1.0,\"#f0f921\"]],\"diverging\":[[0,\"#8e0152\"],[0.1,\"#c51b7d\"],[0.2,\"#de77ae\"],[0.3,\"#f1b6da\"],[0.4,\"#fde0ef\"],[0.5,\"#f7f7f7\"],[0.6,\"#e6f5d0\"],[0.7,\"#b8e186\"],[0.8,\"#7fbc41\"],[0.9,\"#4d9221\"],[1,\"#276419\"]]},\"xaxis\":{\"gridcolor\":\"white\",\"linecolor\":\"white\",\"ticks\":\"\",\"title\":{\"standoff\":15},\"zerolinecolor\":\"white\",\"automargin\":true,\"zerolinewidth\":2},\"yaxis\":{\"gridcolor\":\"white\",\"linecolor\":\"white\",\"ticks\":\"\",\"title\":{\"standoff\":15},\"zerolinecolor\":\"white\",\"automargin\":true,\"zerolinewidth\":2},\"scene\":{\"xaxis\":{\"backgroundcolor\":\"#E5ECF6\",\"gridcolor\":\"white\",\"linecolor\":\"white\",\"showbackground\":true,\"ticks\":\"\",\"zerolinecolor\":\"white\",\"gridwidth\":2},\"yaxis\":{\"backgroundcolor\":\"#E5ECF6\",\"gridcolor\":\"white\",\"linecolor\":\"white\",\"showbackground\":true,\"ticks\":\"\",\"zerolinecolor\":\"white\",\"gridwidth\":2},\"zaxis\":{\"backgroundcolor\":\"#E5ECF6\",\"gridcolor\":\"white\",\"linecolor\":\"white\",\"showbackground\":true,\"ticks\":\"\",\"zerolinecolor\":\"white\",\"gridwidth\":2}},\"shapedefaults\":{\"line\":{\"color\":\"#2a3f5f\"}},\"annotationdefaults\":{\"arrowcolor\":\"#2a3f5f\",\"arrowhead\":0,\"arrowwidth\":1},\"geo\":{\"bgcolor\":\"white\",\"landcolor\":\"#E5ECF6\",\"subunitcolor\":\"white\",\"showland\":true,\"showlakes\":true,\"lakecolor\":\"white\"},\"title\":{\"x\":0.05},\"mapbox\":{\"style\":\"light\"}}},\"title\":{\"text\":\"Football Recruits Movement from Hometown to University\"},\"margin\":{\"autoexpand\":true,\"l\":20,\"r\":20,\"t\":70,\"b\":20},\"geo\":{\"projection\":{\"type\":\"azimuthal equal area\"},\"scope\":\"north america\",\"showland\":true,\"landcolor\":\"rgb(243, 243, 243)\",\"countrycolor\":\"rgb(204, 204, 204)\"},\"showlegend\":false,\"width\":1000,\"height\":600},                        {\"responsive\": true}                    ).then(function(){\n",
       "                            \n",
       "var gd = document.getElementById('03211e86-a70d-42d4-893e-6db7c296ce7d');\n",
       "var x = new MutationObserver(function (mutations, observer) {{\n",
       "        var display = window.getComputedStyle(gd).display;\n",
       "        if (!display || display === 'none') {{\n",
       "            console.log([gd, 'removed!']);\n",
       "            Plotly.purge(gd);\n",
       "            observer.disconnect();\n",
       "        }}\n",
       "}});\n",
       "\n",
       "// Listen for the removal of the full notebook cells\n",
       "var notebookContainer = gd.closest('#notebook-container');\n",
       "if (notebookContainer) {{\n",
       "    x.observe(notebookContainer, {childList: true});\n",
       "}}\n",
       "\n",
       "// Listen for the clearing of the current output cell\n",
       "var outputEl = gd.closest('.output');\n",
       "if (outputEl) {{\n",
       "    x.observe(outputEl, {childList: true});\n",
       "}}\n",
       "\n",
       "                        })                };                });            </script>        </div>"
      ]
     },
     "metadata": {},
     "output_type": "display_data"
    }
   ],
   "source": [
    "plot_recr_trail(2021, 'Georgia')"
   ]
  },
  {
   "cell_type": "code",
   "execution_count": 14,
   "id": "df16a2ae-8e46-4fa5-9438-c611ae961fd1",
   "metadata": {},
   "outputs": [
    {
     "ename": "NameError",
     "evalue": "name 'year' is not defined",
     "output_type": "error",
     "traceback": [
      "\u001b[0;31m---------------------------------------------------------------------------\u001b[0m",
      "\u001b[0;31mNameError\u001b[0m                                 Traceback (most recent call last)",
      "\u001b[0;32m<ipython-input-14-9d50c8add5b5>\u001b[0m in \u001b[0;36m<module>\u001b[0;34m\u001b[0m\n\u001b[1;32m      4\u001b[0m                  \u001b[0;34m.\u001b[0m\u001b[0mreset_index\u001b[0m\u001b[0;34m(\u001b[0m\u001b[0;34m)\u001b[0m\u001b[0;34m\u001b[0m\u001b[0;34m\u001b[0m\u001b[0m\n\u001b[1;32m      5\u001b[0m \u001b[0;34m\u001b[0m\u001b[0m\n\u001b[0;32m----> 6\u001b[0;31m \u001b[0mdf_path\u001b[0m \u001b[0;34m=\u001b[0m \u001b[0mdf_path\u001b[0m\u001b[0;34m[\u001b[0m\u001b[0mdf_path\u001b[0m\u001b[0;34m[\u001b[0m\u001b[0;34m'year'\u001b[0m\u001b[0;34m]\u001b[0m \u001b[0;34m==\u001b[0m \u001b[0myear\u001b[0m\u001b[0;34m]\u001b[0m\u001b[0;34m\u001b[0m\u001b[0;34m\u001b[0m\u001b[0m\n\u001b[0m\u001b[1;32m      7\u001b[0m \u001b[0mdf_path\u001b[0m \u001b[0;34m=\u001b[0m \u001b[0mdf_path\u001b[0m\u001b[0;34m[\u001b[0m\u001b[0mdf_path\u001b[0m\u001b[0;34m[\u001b[0m\u001b[0;34m'committed_to'\u001b[0m\u001b[0;34m]\u001b[0m\u001b[0;34m.\u001b[0m\u001b[0misin\u001b[0m\u001b[0;34m(\u001b[0m\u001b[0mteams\u001b[0m\u001b[0;34m)\u001b[0m\u001b[0;34m]\u001b[0m\u001b[0;34m\u001b[0m\u001b[0;34m\u001b[0m\u001b[0m\n\u001b[1;32m      8\u001b[0m \u001b[0;34m\u001b[0m\u001b[0m\n",
      "\u001b[0;31mNameError\u001b[0m: name 'year' is not defined"
     ]
    }
   ],
   "source": [
    "df_path = df_merged.round(1)\n",
    "df_path = df_path.groupby(by = ['latitude', 'longitude', 'latitude_school', 'longitude_school', 'committed_to', 'year', 'conference'])\\\n",
    "                 .agg({'rating': 'mean', 'name':'count'})\\\n",
    "                 .reset_index()\n",
    "\n",
    "df_path = df_path[df_path['year'] == year]\n",
    "df_path = df_path[df_path['committed_to'].isin(teams)]\n",
    "\n",
    "df_path = df_path.reset_index()"
   ]
  },
  {
   "cell_type": "code",
   "execution_count": null,
   "id": "5a44d650-097f-49af-ae3e-071084da3177",
   "metadata": {},
   "outputs": [],
   "source": [
    "import plotly.graph_objects as go\n",
    "\n",
    "def plot_recr_team_trail(year = 2019, teams = ['Michigan']):\n",
    "    fig = go.Figure()\n",
    "    \n",
    "    # df_path = df_merged.head(500).round(4)\n",
    "\n",
    "    # year = 2022\n",
    "    # team = 'Michigan'\n",
    "    \n",
    "    df_path = df_merged.round(1)\n",
    "    df_path = df_path.groupby(by = ['latitude', 'longitude', 'latitude_school', 'longitude_school', 'committed_to', 'year', 'conference', 'color'])\\\n",
    "                     .agg({'rating': 'mean', 'name':'count'})\\\n",
    "                     .reset_index()\n",
    "\n",
    "    df_path = df_path[df_path['year'] == year]\n",
    "    df_path = df_path[df_path['committed_to'].isin(teams)]\n",
    "    # df_path = df_path[df_path['conference'].isin(['SEC', 'Big Ten', 'ACC', 'Pac-12', 'Big 12'])]\n",
    "    \n",
    "    df_path = df_path.reset_index()\n",
    "    \n",
    "    flight_paths = []\n",
    "    for i in range(len(df_path)):\n",
    "\n",
    "        team_hex = df_path['color'][i]\n",
    "\n",
    "        fig.add_trace(\n",
    "            go.Scattergeo(\n",
    "                locationmode = 'USA-states',\n",
    "                lon = [df_path['longitude'][i], df_path['longitude_school'][i]],\n",
    "                lat = [df_path['latitude'][i], df_path['latitude_school'][i]],\n",
    "                mode = 'lines',\n",
    "                line = dict(width = 2, color = team_hex),\n",
    "                #fillcolor = 'color',\n",
    "                #color = 'conference',\n",
    "                opacity = float(.80),\n",
    "            )\n",
    "        )\n",
    "    \n",
    "    fig.update_layout(\n",
    "        title_text = 'Football Recruits Movement from Hometown to University. Color of line matches University they committed to',\n",
    "        showlegend = False,\n",
    "        # autosize = True,\n",
    "        width = 1000,\n",
    "        height = 600,\n",
    "        margin_autoexpand = True,\n",
    "        margin=dict(l=20, r=20, t=70, b=20),\n",
    "        geo = dict(\n",
    "            scope = 'north america',\n",
    "            projection_type = 'azimuthal equal area',\n",
    "            showland = True,\n",
    "            landcolor = 'rgb(243, 243, 243)',\n",
    "            countrycolor = 'rgb(204, 204, 204)',\n",
    "        ),\n",
    "        \n",
    "    )\n",
    "\n",
    "    # margin=dict(l=20, r=20, t=20, b=20)\n",
    "    \n",
    "    fig.show()\n",
    "    # fig.write_html('recruit_lines.html', auto_open=True)"
   ]
  },
  {
   "cell_type": "code",
   "execution_count": null,
   "id": "b9279fbc-a29f-4de2-ae24-4eed790fcacb",
   "metadata": {},
   "outputs": [],
   "source": [
    "teams = ['Michigan', 'USC', 'Rutgers']\n",
    "\n",
    "plot_recr_team_trail(2019, teams)"
   ]
  },
  {
   "cell_type": "code",
   "execution_count": null,
   "id": "d8cdf45d-b6f8-4ef0-9ebe-e241b91f1987",
   "metadata": {},
   "outputs": [],
   "source": []
  },
  {
   "cell_type": "code",
   "execution_count": null,
   "id": "ce8b425b-93b8-405c-aed5-1f56cf1b63a5",
   "metadata": {},
   "outputs": [],
   "source": []
  }
 ],
 "metadata": {
  "kernelspec": {
   "display_name": "Python 3",
   "language": "python",
   "name": "python3"
  },
  "language_info": {
   "codemirror_mode": {
    "name": "ipython",
    "version": 3
   },
   "file_extension": ".py",
   "mimetype": "text/x-python",
   "name": "python",
   "nbconvert_exporter": "python",
   "pygments_lexer": "ipython3",
   "version": "3.8.8"
  }
 },
 "nbformat": 4,
 "nbformat_minor": 5
}
