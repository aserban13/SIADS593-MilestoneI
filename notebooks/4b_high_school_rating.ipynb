{
 "cells": [
  {
   "cell_type": "markdown",
   "metadata": {},
   "source": [
    "## Is the high schools recruiting rating a good indicator of a high performaning athlete?  \n"
   ]
  },
  {
   "cell_type": "code",
   "execution_count": 9,
   "metadata": {},
   "outputs": [],
   "source": [
    "# Uncomment to get the correct versions\n",
    "# from IPython.display import clear_output\n",
    "# !pip install -r requirements.txt\n",
    "# clear_output() \n"
   ]
  },
  {
   "cell_type": "code",
   "execution_count": 10,
   "metadata": {},
   "outputs": [],
   "source": [
    "import numpy as np\n",
    "import pandas as pd\n",
    "import altair as alt\n",
    "import cfbd\n",
    "import warnings \n",
    "\n",
    "pd.set_option('display.max_columns', None)\n",
    "warnings.filterwarnings('ignore')\n"
   ]
  },
  {
   "cell_type": "code",
   "execution_count": 11,
   "metadata": {},
   "outputs": [],
   "source": [
    "draft = pd.read_csv('../data/draft.csv')\n",
    "recruits = pd.read_csv('../data/recruits.csv')"
   ]
  },
  {
   "cell_type": "code",
   "execution_count": 12,
   "metadata": {},
   "outputs": [],
   "source": [
    "# Sometime there are two players with the same name - this will create duplicates\n",
    "# About 2k of the 39k records are duplicated due to shared names.\n",
    "\n",
    "merged_df = pd.merge(left = recruits, right = draft, how = 'left', left_on = 'name', right_on = 'Player')\n",
    "col = ['name', 'rating', 'stars', 'committed_to', 'athlete_id', 'Rnd', 'Pick', 'Player', 'draft_year', 'College/Univ', 'CommonSequence']"
   ]
  },
  {
   "cell_type": "code",
   "execution_count": 13,
   "metadata": {},
   "outputs": [],
   "source": [
    "# Function to check if there are at least 4 sequential characters in common\n",
    "# If the name of the school they committed to matches the name they were drafted from, then return a 1:\n",
    "def has_common_sequence(str1, str2, min_seq_length=4):\n",
    "    if pd.isna(str1) or pd.isna(str2):\n",
    "        return 0\n",
    "\n",
    "    for i in range(len(str1) - min_seq_length + 1):\n",
    "        sequence = str1[i:i + min_seq_length]\n",
    "        if sequence in str2:\n",
    "            return 1\n",
    "    return 0\n",
    "\n",
    "# Apply the function to the DataFrame\n",
    "merged_df['CommonSequence'] = merged_df.apply(lambda row: has_common_sequence(row['committed_to'], row['College/Univ']), axis=1)\n",
    "\n",
    "merged_df['RN'] = merged_df.sort_values(['name','CommonSequence'], ascending=[True,False]) \\\n",
    "                           .groupby(['name', 'rating']) \\\n",
    "                           .cumcount() + 1\n",
    "\n",
    "col = ['name', 'rating', 'stars', 'committed_to', 'athlete_id', 'Rnd', 'Pick', 'Player', 'draft_year', 'College/Univ', 'CommonSequence', 'RN']\n",
    "merged_df = merged_df[col]"
   ]
  },
  {
   "cell_type": "code",
   "execution_count": 14,
   "metadata": {},
   "outputs": [],
   "source": [
    "# Remove duplicates\n",
    "\n",
    "merged_df = merged_df[merged_df['RN'] == 1]\n",
    "merged_df['is_drafted'] = np.where(merged_df['Rnd'].isna(), 0.0, 1.0)"
   ]
  },
  {
   "cell_type": "code",
   "execution_count": 15,
   "metadata": {},
   "outputs": [],
   "source": [
    "merged_df['rating_round'] = merged_df['rating'].round(3)\n",
    "\n",
    "draft_likelihood = merged_df.groupby(by = ['stars', 'rating_round']).agg({'is_drafted': 'mean', 'name': 'count'}).reset_index()\n",
    "\n",
    "rename_dict = {'stars': 'HS Recruiting Stars', \n",
    "               'rating_round': 'HS Recruiting Rating',\n",
    "               'is_drafted': '% of Players Drafted',\n",
    "               'name': 'count'}\n",
    "\n",
    "draft_likelihood = draft_likelihood.rename(rename_dict, axis = 1)"
   ]
  },
  {
   "cell_type": "code",
   "execution_count": 16,
   "metadata": {},
   "outputs": [
    {
     "data": {
      "text/html": [
       "\n",
       "<style>\n",
       "  #altair-viz-cc9ffc3a7a6644ffbc783bef9504991a.vega-embed {\n",
       "    width: 100%;\n",
       "    display: flex;\n",
       "  }\n",
       "\n",
       "  #altair-viz-cc9ffc3a7a6644ffbc783bef9504991a.vega-embed details,\n",
       "  #altair-viz-cc9ffc3a7a6644ffbc783bef9504991a.vega-embed details summary {\n",
       "    position: relative;\n",
       "  }\n",
       "</style>\n",
       "<div id=\"altair-viz-cc9ffc3a7a6644ffbc783bef9504991a\"></div>\n",
       "<script type=\"text/javascript\">\n",
       "  var VEGA_DEBUG = (typeof VEGA_DEBUG == \"undefined\") ? {} : VEGA_DEBUG;\n",
       "  (function(spec, embedOpt){\n",
       "    let outputDiv = document.currentScript.previousElementSibling;\n",
       "    if (outputDiv.id !== \"altair-viz-cc9ffc3a7a6644ffbc783bef9504991a\") {\n",
       "      outputDiv = document.getElementById(\"altair-viz-cc9ffc3a7a6644ffbc783bef9504991a\");\n",
       "    }\n",
       "    const paths = {\n",
       "      \"vega\": \"https://cdn.jsdelivr.net/npm/vega@5?noext\",\n",
       "      \"vega-lib\": \"https://cdn.jsdelivr.net/npm/vega-lib?noext\",\n",
       "      \"vega-lite\": \"https://cdn.jsdelivr.net/npm/vega-lite@5.16.3?noext\",\n",
       "      \"vega-embed\": \"https://cdn.jsdelivr.net/npm/vega-embed@6?noext\",\n",
       "    };\n",
       "\n",
       "    function maybeLoadScript(lib, version) {\n",
       "      var key = `${lib.replace(\"-\", \"\")}_version`;\n",
       "      return (VEGA_DEBUG[key] == version) ?\n",
       "        Promise.resolve(paths[lib]) :\n",
       "        new Promise(function(resolve, reject) {\n",
       "          var s = document.createElement('script');\n",
       "          document.getElementsByTagName(\"head\")[0].appendChild(s);\n",
       "          s.async = true;\n",
       "          s.onload = () => {\n",
       "            VEGA_DEBUG[key] = version;\n",
       "            return resolve(paths[lib]);\n",
       "          };\n",
       "          s.onerror = () => reject(`Error loading script: ${paths[lib]}`);\n",
       "          s.src = paths[lib];\n",
       "        });\n",
       "    }\n",
       "\n",
       "    function showError(err) {\n",
       "      outputDiv.innerHTML = `<div class=\"error\" style=\"color:red;\">${err}</div>`;\n",
       "      throw err;\n",
       "    }\n",
       "\n",
       "    function displayChart(vegaEmbed) {\n",
       "      vegaEmbed(outputDiv, spec, embedOpt)\n",
       "        .catch(err => showError(`Javascript Error: ${err.message}<br>This usually means there's a typo in your chart specification. See the javascript console for the full traceback.`));\n",
       "    }\n",
       "\n",
       "    if(typeof define === \"function\" && define.amd) {\n",
       "      requirejs.config({paths});\n",
       "      require([\"vega-embed\"], displayChart, err => showError(`Error loading script: ${err.message}`));\n",
       "    } else {\n",
       "      maybeLoadScript(\"vega\", \"5\")\n",
       "        .then(() => maybeLoadScript(\"vega-lite\", \"5.16.3\"))\n",
       "        .then(() => maybeLoadScript(\"vega-embed\", \"6\"))\n",
       "        .catch(showError)\n",
       "        .then(() => displayChart(vegaEmbed));\n",
       "    }\n",
       "  })({\"config\": {\"view\": {\"continuousWidth\": 300, \"continuousHeight\": 300}}, \"data\": {\"name\": \"data-2823a5497bff000badbec1b04c032e65\"}, \"mark\": {\"type\": \"circle\", \"size\": 60}, \"encoding\": {\"color\": {\"field\": \"HS Recruiting Stars\", \"type\": \"nominal\"}, \"x\": {\"field\": \"HS Recruiting Rating\", \"scale\": {\"domain\": [0.6, 1]}, \"title\": \"Recuiting Ranking (rounded to 3 digits)\", \"type\": \"quantitative\"}, \"y\": {\"field\": \"% of Players Drafted\", \"scale\": {\"domain\": [0, 1]}, \"title\": \"% of Players Who Get Drafted\", \"type\": \"quantitative\"}}, \"height\": 400, \"title\": \"High School Recruit Ranking vs Draft Likelihood\", \"width\": 600, \"$schema\": \"https://vega.github.io/schema/vega-lite/v5.16.3.json\", \"datasets\": {\"data-2823a5497bff000badbec1b04c032e65\": [{\"HS Recruiting Stars\": 1, \"HS Recruiting Rating\": 0.633, \"% of Players Drafted\": 0.0, \"count\": 1}, {\"HS Recruiting Stars\": 1, \"HS Recruiting Rating\": 0.7, \"% of Players Drafted\": 0.01366120218579235, \"count\": 366}, {\"HS Recruiting Stars\": 2, \"HS Recruiting Rating\": 0.7, \"% of Players Drafted\": 0.0, \"count\": 2}, {\"HS Recruiting Stars\": 2, \"HS Recruiting Rating\": 0.71, \"% of Players Drafted\": 0.0, \"count\": 49}, {\"HS Recruiting Stars\": 2, \"HS Recruiting Rating\": 0.72, \"% of Players Drafted\": 0.010416666666666666, \"count\": 96}, {\"HS Recruiting Stars\": 2, \"HS Recruiting Rating\": 0.73, \"% of Players Drafted\": 0.027522935779816515, \"count\": 109}, {\"HS Recruiting Stars\": 2, \"HS Recruiting Rating\": 0.733, \"% of Players Drafted\": 0.022727272727272728, \"count\": 44}, {\"HS Recruiting Stars\": 2, \"HS Recruiting Rating\": 0.738, \"% of Players Drafted\": 0.08333333333333333, \"count\": 12}, {\"HS Recruiting Stars\": 2, \"HS Recruiting Rating\": 0.74, \"% of Players Drafted\": 0.020202020202020204, \"count\": 198}, {\"HS Recruiting Stars\": 2, \"HS Recruiting Rating\": 0.743, \"% of Players Drafted\": 0.0, \"count\": 48}, {\"HS Recruiting Stars\": 2, \"HS Recruiting Rating\": 0.744, \"% of Players Drafted\": 0.0, \"count\": 16}, {\"HS Recruiting Stars\": 2, \"HS Recruiting Rating\": 0.748, \"% of Players Drafted\": 0.019230769230769232, \"count\": 104}, {\"HS Recruiting Stars\": 2, \"HS Recruiting Rating\": 0.749, \"% of Players Drafted\": 0.0, \"count\": 2}, {\"HS Recruiting Stars\": 2, \"HS Recruiting Rating\": 0.75, \"% of Players Drafted\": 0.01904761904761905, \"count\": 315}, {\"HS Recruiting Stars\": 2, \"HS Recruiting Rating\": 0.751, \"% of Players Drafted\": 0.0, \"count\": 8}, {\"HS Recruiting Stars\": 2, \"HS Recruiting Rating\": 0.752, \"% of Players Drafted\": 0.16666666666666666, \"count\": 6}, {\"HS Recruiting Stars\": 2, \"HS Recruiting Rating\": 0.753, \"% of Players Drafted\": 0.0213903743315508, \"count\": 187}, {\"HS Recruiting Stars\": 2, \"HS Recruiting Rating\": 0.754, \"% of Players Drafted\": 0.0, \"count\": 23}, {\"HS Recruiting Stars\": 2, \"HS Recruiting Rating\": 0.755, \"% of Players Drafted\": 0.0, \"count\": 6}, {\"HS Recruiting Stars\": 2, \"HS Recruiting Rating\": 0.756, \"% of Players Drafted\": 0.0, \"count\": 3}, {\"HS Recruiting Stars\": 2, \"HS Recruiting Rating\": 0.757, \"% of Players Drafted\": 0.0, \"count\": 1}, {\"HS Recruiting Stars\": 2, \"HS Recruiting Rating\": 0.758, \"% of Players Drafted\": 0.04150943396226415, \"count\": 265}, {\"HS Recruiting Stars\": 2, \"HS Recruiting Rating\": 0.759, \"% of Players Drafted\": 0.08695652173913043, \"count\": 23}, {\"HS Recruiting Stars\": 2, \"HS Recruiting Rating\": 0.76, \"% of Players Drafted\": 0.012422360248447204, \"count\": 322}, {\"HS Recruiting Stars\": 2, \"HS Recruiting Rating\": 0.761, \"% of Players Drafted\": 0.028985507246376812, \"count\": 69}, {\"HS Recruiting Stars\": 2, \"HS Recruiting Rating\": 0.762, \"% of Players Drafted\": 0.0, \"count\": 13}, {\"HS Recruiting Stars\": 2, \"HS Recruiting Rating\": 0.763, \"% of Players Drafted\": 0.024390243902439025, \"count\": 205}, {\"HS Recruiting Stars\": 2, \"HS Recruiting Rating\": 0.764, \"% of Players Drafted\": 0.025, \"count\": 120}, {\"HS Recruiting Stars\": 2, \"HS Recruiting Rating\": 0.765, \"% of Players Drafted\": 0.02040816326530612, \"count\": 49}, {\"HS Recruiting Stars\": 2, \"HS Recruiting Rating\": 0.766, \"% of Players Drafted\": 0.0, \"count\": 10}, {\"HS Recruiting Stars\": 2, \"HS Recruiting Rating\": 0.767, \"% of Players Drafted\": 0.01637107776261937, \"count\": 1466}, {\"HS Recruiting Stars\": 2, \"HS Recruiting Rating\": 0.768, \"% of Players Drafted\": 0.027210884353741496, \"count\": 294}, {\"HS Recruiting Stars\": 2, \"HS Recruiting Rating\": 0.769, \"% of Players Drafted\": 0.011111111111111112, \"count\": 90}, {\"HS Recruiting Stars\": 2, \"HS Recruiting Rating\": 0.77, \"% of Players Drafted\": 0.014742014742014743, \"count\": 407}, {\"HS Recruiting Stars\": 2, \"HS Recruiting Rating\": 0.771, \"% of Players Drafted\": 0.037037037037037035, \"count\": 54}, {\"HS Recruiting Stars\": 2, \"HS Recruiting Rating\": 0.772, \"% of Players Drafted\": 0.032520325203252036, \"count\": 123}, {\"HS Recruiting Stars\": 2, \"HS Recruiting Rating\": 0.773, \"% of Players Drafted\": 0.015625, \"count\": 192}, {\"HS Recruiting Stars\": 2, \"HS Recruiting Rating\": 0.774, \"% of Players Drafted\": 0.0, \"count\": 151}, {\"HS Recruiting Stars\": 2, \"HS Recruiting Rating\": 0.775, \"% of Players Drafted\": 0.0070921985815602835, \"count\": 141}, {\"HS Recruiting Stars\": 2, \"HS Recruiting Rating\": 0.776, \"% of Players Drafted\": 0.04, \"count\": 50}, {\"HS Recruiting Stars\": 2, \"HS Recruiting Rating\": 0.777, \"% of Players Drafted\": 0.1111111111111111, \"count\": 9}, {\"HS Recruiting Stars\": 2, \"HS Recruiting Rating\": 0.778, \"% of Players Drafted\": 0.015873015873015872, \"count\": 315}, {\"HS Recruiting Stars\": 2, \"HS Recruiting Rating\": 0.779, \"% of Players Drafted\": 0.008968609865470852, \"count\": 223}, {\"HS Recruiting Stars\": 2, \"HS Recruiting Rating\": 0.78, \"% of Players Drafted\": 0.01584507042253521, \"count\": 568}, {\"HS Recruiting Stars\": 2, \"HS Recruiting Rating\": 0.781, \"% of Players Drafted\": 0.07407407407407407, \"count\": 27}, {\"HS Recruiting Stars\": 2, \"HS Recruiting Rating\": 0.782, \"% of Players Drafted\": 0.039473684210526314, \"count\": 152}, {\"HS Recruiting Stars\": 2, \"HS Recruiting Rating\": 0.783, \"% of Players Drafted\": 0.006329113924050633, \"count\": 158}, {\"HS Recruiting Stars\": 2, \"HS Recruiting Rating\": 0.784, \"% of Players Drafted\": 0.01875, \"count\": 160}, {\"HS Recruiting Stars\": 2, \"HS Recruiting Rating\": 0.785, \"% of Players Drafted\": 0.03067484662576687, \"count\": 163}, {\"HS Recruiting Stars\": 2, \"HS Recruiting Rating\": 0.786, \"% of Players Drafted\": 0.029940119760479042, \"count\": 167}, {\"HS Recruiting Stars\": 2, \"HS Recruiting Rating\": 0.787, \"% of Players Drafted\": 0.0, \"count\": 23}, {\"HS Recruiting Stars\": 2, \"HS Recruiting Rating\": 0.788, \"% of Players Drafted\": 0.0078125, \"count\": 128}, {\"HS Recruiting Stars\": 2, \"HS Recruiting Rating\": 0.789, \"% of Players Drafted\": 0.008086253369272238, \"count\": 371}, {\"HS Recruiting Stars\": 2, \"HS Recruiting Rating\": 0.79, \"% of Players Drafted\": 0.01002865329512894, \"count\": 698}, {\"HS Recruiting Stars\": 2, \"HS Recruiting Rating\": 0.791, \"% of Players Drafted\": 0.0625, \"count\": 64}, {\"HS Recruiting Stars\": 2, \"HS Recruiting Rating\": 0.792, \"% of Players Drafted\": 0.04201680672268908, \"count\": 119}, {\"HS Recruiting Stars\": 2, \"HS Recruiting Rating\": 0.793, \"% of Players Drafted\": 0.016129032258064516, \"count\": 124}, {\"HS Recruiting Stars\": 2, \"HS Recruiting Rating\": 0.794, \"% of Players Drafted\": 0.006289308176100629, \"count\": 159}, {\"HS Recruiting Stars\": 2, \"HS Recruiting Rating\": 0.795, \"% of Players Drafted\": 0.03690036900369004, \"count\": 271}, {\"HS Recruiting Stars\": 2, \"HS Recruiting Rating\": 0.796, \"% of Players Drafted\": 0.011904761904761904, \"count\": 168}, {\"HS Recruiting Stars\": 2, \"HS Recruiting Rating\": 0.797, \"% of Players Drafted\": 0.0, \"count\": 4}, {\"HS Recruiting Stars\": 3, \"HS Recruiting Rating\": 0.797, \"% of Players Drafted\": 0.020833333333333332, \"count\": 48}, {\"HS Recruiting Stars\": 3, \"HS Recruiting Rating\": 0.798, \"% of Players Drafted\": 0.03496503496503497, \"count\": 143}, {\"HS Recruiting Stars\": 3, \"HS Recruiting Rating\": 0.799, \"% of Players Drafted\": 0.025806451612903226, \"count\": 155}, {\"HS Recruiting Stars\": 3, \"HS Recruiting Rating\": 0.8, \"% of Players Drafted\": 0.0110062893081761, \"count\": 636}, {\"HS Recruiting Stars\": 3, \"HS Recruiting Rating\": 0.801, \"% of Players Drafted\": 0.02127659574468085, \"count\": 141}, {\"HS Recruiting Stars\": 3, \"HS Recruiting Rating\": 0.802, \"% of Players Drafted\": 0.04580152671755725, \"count\": 131}, {\"HS Recruiting Stars\": 3, \"HS Recruiting Rating\": 0.803, \"% of Players Drafted\": 0.015748031496062992, \"count\": 127}, {\"HS Recruiting Stars\": 3, \"HS Recruiting Rating\": 0.804, \"% of Players Drafted\": 0.033783783783783786, \"count\": 148}, {\"HS Recruiting Stars\": 3, \"HS Recruiting Rating\": 0.805, \"% of Players Drafted\": 0.024096385542168676, \"count\": 249}, {\"HS Recruiting Stars\": 3, \"HS Recruiting Rating\": 0.806, \"% of Players Drafted\": 0.017094017094017096, \"count\": 234}, {\"HS Recruiting Stars\": 3, \"HS Recruiting Rating\": 0.807, \"% of Players Drafted\": 0.05263157894736842, \"count\": 95}, {\"HS Recruiting Stars\": 3, \"HS Recruiting Rating\": 0.808, \"% of Players Drafted\": 0.0196078431372549, \"count\": 153}, {\"HS Recruiting Stars\": 3, \"HS Recruiting Rating\": 0.809, \"% of Players Drafted\": 0.03968253968253968, \"count\": 126}, {\"HS Recruiting Stars\": 3, \"HS Recruiting Rating\": 0.81, \"% of Players Drafted\": 0.016786570743405275, \"count\": 417}, {\"HS Recruiting Stars\": 3, \"HS Recruiting Rating\": 0.811, \"% of Players Drafted\": 0.035483870967741936, \"count\": 310}, {\"HS Recruiting Stars\": 3, \"HS Recruiting Rating\": 0.812, \"% of Players Drafted\": 0.01762114537444934, \"count\": 227}, {\"HS Recruiting Stars\": 3, \"HS Recruiting Rating\": 0.813, \"% of Players Drafted\": 0.008849557522123894, \"count\": 113}, {\"HS Recruiting Stars\": 3, \"HS Recruiting Rating\": 0.814, \"% of Players Drafted\": 0.025806451612903226, \"count\": 155}, {\"HS Recruiting Stars\": 3, \"HS Recruiting Rating\": 0.815, \"% of Players Drafted\": 0.007692307692307693, \"count\": 260}, {\"HS Recruiting Stars\": 3, \"HS Recruiting Rating\": 0.816, \"% of Players Drafted\": 0.008888888888888889, \"count\": 225}, {\"HS Recruiting Stars\": 3, \"HS Recruiting Rating\": 0.817, \"% of Players Drafted\": 0.03225806451612903, \"count\": 155}, {\"HS Recruiting Stars\": 3, \"HS Recruiting Rating\": 0.818, \"% of Players Drafted\": 0.036231884057971016, \"count\": 138}, {\"HS Recruiting Stars\": 3, \"HS Recruiting Rating\": 0.819, \"% of Players Drafted\": 0.043478260869565216, \"count\": 138}, {\"HS Recruiting Stars\": 3, \"HS Recruiting Rating\": 0.82, \"% of Players Drafted\": 0.02349869451697128, \"count\": 383}, {\"HS Recruiting Stars\": 3, \"HS Recruiting Rating\": 0.821, \"% of Players Drafted\": 0.034482758620689655, \"count\": 174}, {\"HS Recruiting Stars\": 3, \"HS Recruiting Rating\": 0.822, \"% of Players Drafted\": 0.011278195488721804, \"count\": 266}, {\"HS Recruiting Stars\": 3, \"HS Recruiting Rating\": 0.823, \"% of Players Drafted\": 0.05555555555555555, \"count\": 144}, {\"HS Recruiting Stars\": 3, \"HS Recruiting Rating\": 0.824, \"% of Players Drafted\": 0.0189873417721519, \"count\": 158}, {\"HS Recruiting Stars\": 3, \"HS Recruiting Rating\": 0.825, \"% of Players Drafted\": 0.022935779816513763, \"count\": 218}, {\"HS Recruiting Stars\": 3, \"HS Recruiting Rating\": 0.826, \"% of Players Drafted\": 0.02711864406779661, \"count\": 295}, {\"HS Recruiting Stars\": 3, \"HS Recruiting Rating\": 0.827, \"% of Players Drafted\": 0.039735099337748346, \"count\": 151}, {\"HS Recruiting Stars\": 3, \"HS Recruiting Rating\": 0.828, \"% of Players Drafted\": 0.03669724770642202, \"count\": 218}, {\"HS Recruiting Stars\": 3, \"HS Recruiting Rating\": 0.829, \"% of Players Drafted\": 0.04790419161676647, \"count\": 167}, {\"HS Recruiting Stars\": 3, \"HS Recruiting Rating\": 0.83, \"% of Players Drafted\": 0.011904761904761904, \"count\": 336}, {\"HS Recruiting Stars\": 3, \"HS Recruiting Rating\": 0.831, \"% of Players Drafted\": 0.007518796992481203, \"count\": 133}, {\"HS Recruiting Stars\": 3, \"HS Recruiting Rating\": 0.832, \"% of Players Drafted\": 0.016853932584269662, \"count\": 356}, {\"HS Recruiting Stars\": 3, \"HS Recruiting Rating\": 0.833, \"% of Players Drafted\": 0.023178807947019868, \"count\": 302}, {\"HS Recruiting Stars\": 3, \"HS Recruiting Rating\": 0.834, \"% of Players Drafted\": 0.03968253968253968, \"count\": 252}, {\"HS Recruiting Stars\": 3, \"HS Recruiting Rating\": 0.835, \"% of Players Drafted\": 0.0410958904109589, \"count\": 146}, {\"HS Recruiting Stars\": 3, \"HS Recruiting Rating\": 0.836, \"% of Players Drafted\": 0.03272727272727273, \"count\": 275}, {\"HS Recruiting Stars\": 3, \"HS Recruiting Rating\": 0.837, \"% of Players Drafted\": 0.013215859030837005, \"count\": 227}, {\"HS Recruiting Stars\": 3, \"HS Recruiting Rating\": 0.838, \"% of Players Drafted\": 0.023728813559322035, \"count\": 295}, {\"HS Recruiting Stars\": 3, \"HS Recruiting Rating\": 0.839, \"% of Players Drafted\": 0.026737967914438502, \"count\": 187}, {\"HS Recruiting Stars\": 3, \"HS Recruiting Rating\": 0.84, \"% of Players Drafted\": 0.030534351145038167, \"count\": 262}, {\"HS Recruiting Stars\": 3, \"HS Recruiting Rating\": 0.841, \"% of Players Drafted\": 0.04739336492890995, \"count\": 211}, {\"HS Recruiting Stars\": 3, \"HS Recruiting Rating\": 0.842, \"% of Players Drafted\": 0.0313588850174216, \"count\": 287}, {\"HS Recruiting Stars\": 3, \"HS Recruiting Rating\": 0.843, \"% of Players Drafted\": 0.02586206896551724, \"count\": 232}, {\"HS Recruiting Stars\": 3, \"HS Recruiting Rating\": 0.844, \"% of Players Drafted\": 0.028112449799196786, \"count\": 249}, {\"HS Recruiting Stars\": 3, \"HS Recruiting Rating\": 0.845, \"% of Players Drafted\": 0.03763440860215054, \"count\": 186}, {\"HS Recruiting Stars\": 3, \"HS Recruiting Rating\": 0.846, \"% of Players Drafted\": 0.06338028169014084, \"count\": 284}, {\"HS Recruiting Stars\": 3, \"HS Recruiting Rating\": 0.847, \"% of Players Drafted\": 0.04205607476635514, \"count\": 214}, {\"HS Recruiting Stars\": 3, \"HS Recruiting Rating\": 0.848, \"% of Players Drafted\": 0.03064066852367688, \"count\": 359}, {\"HS Recruiting Stars\": 3, \"HS Recruiting Rating\": 0.849, \"% of Players Drafted\": 0.029411764705882353, \"count\": 170}, {\"HS Recruiting Stars\": 3, \"HS Recruiting Rating\": 0.85, \"% of Players Drafted\": 0.029315960912052116, \"count\": 307}, {\"HS Recruiting Stars\": 3, \"HS Recruiting Rating\": 0.851, \"% of Players Drafted\": 0.03664921465968586, \"count\": 191}, {\"HS Recruiting Stars\": 3, \"HS Recruiting Rating\": 0.852, \"% of Players Drafted\": 0.04332129963898917, \"count\": 277}, {\"HS Recruiting Stars\": 3, \"HS Recruiting Rating\": 0.853, \"% of Players Drafted\": 0.036585365853658534, \"count\": 246}, {\"HS Recruiting Stars\": 3, \"HS Recruiting Rating\": 0.854, \"% of Players Drafted\": 0.019455252918287938, \"count\": 257}, {\"HS Recruiting Stars\": 3, \"HS Recruiting Rating\": 0.855, \"% of Players Drafted\": 0.05699481865284974, \"count\": 193}, {\"HS Recruiting Stars\": 3, \"HS Recruiting Rating\": 0.856, \"% of Players Drafted\": 0.032407407407407406, \"count\": 216}, {\"HS Recruiting Stars\": 3, \"HS Recruiting Rating\": 0.857, \"% of Players Drafted\": 0.037209302325581395, \"count\": 215}, {\"HS Recruiting Stars\": 3, \"HS Recruiting Rating\": 0.858, \"% of Players Drafted\": 0.04741379310344827, \"count\": 232}, {\"HS Recruiting Stars\": 3, \"HS Recruiting Rating\": 0.859, \"% of Players Drafted\": 0.05909090909090909, \"count\": 220}, {\"HS Recruiting Stars\": 3, \"HS Recruiting Rating\": 0.86, \"% of Players Drafted\": 0.06770833333333333, \"count\": 192}, {\"HS Recruiting Stars\": 3, \"HS Recruiting Rating\": 0.861, \"% of Players Drafted\": 0.05116279069767442, \"count\": 215}, {\"HS Recruiting Stars\": 3, \"HS Recruiting Rating\": 0.862, \"% of Players Drafted\": 0.05325443786982249, \"count\": 169}, {\"HS Recruiting Stars\": 3, \"HS Recruiting Rating\": 0.863, \"% of Players Drafted\": 0.01764705882352941, \"count\": 170}, {\"HS Recruiting Stars\": 3, \"HS Recruiting Rating\": 0.864, \"% of Players Drafted\": 0.05434782608695652, \"count\": 184}, {\"HS Recruiting Stars\": 3, \"HS Recruiting Rating\": 0.865, \"% of Players Drafted\": 0.031914893617021274, \"count\": 188}, {\"HS Recruiting Stars\": 3, \"HS Recruiting Rating\": 0.866, \"% of Players Drafted\": 0.04938271604938271, \"count\": 162}, {\"HS Recruiting Stars\": 3, \"HS Recruiting Rating\": 0.867, \"% of Players Drafted\": 0.041884816753926704, \"count\": 191}, {\"HS Recruiting Stars\": 3, \"HS Recruiting Rating\": 0.868, \"% of Players Drafted\": 0.021164021164021163, \"count\": 189}, {\"HS Recruiting Stars\": 3, \"HS Recruiting Rating\": 0.869, \"% of Players Drafted\": 0.04895104895104895, \"count\": 143}, {\"HS Recruiting Stars\": 3, \"HS Recruiting Rating\": 0.87, \"% of Players Drafted\": 0.02142857142857143, \"count\": 140}, {\"HS Recruiting Stars\": 3, \"HS Recruiting Rating\": 0.871, \"% of Players Drafted\": 0.04375, \"count\": 160}, {\"HS Recruiting Stars\": 3, \"HS Recruiting Rating\": 0.872, \"% of Players Drafted\": 0.058823529411764705, \"count\": 153}, {\"HS Recruiting Stars\": 3, \"HS Recruiting Rating\": 0.873, \"% of Players Drafted\": 0.024793388429752067, \"count\": 121}, {\"HS Recruiting Stars\": 3, \"HS Recruiting Rating\": 0.874, \"% of Players Drafted\": 0.01744186046511628, \"count\": 172}, {\"HS Recruiting Stars\": 3, \"HS Recruiting Rating\": 0.875, \"% of Players Drafted\": 0.06862745098039216, \"count\": 102}, {\"HS Recruiting Stars\": 3, \"HS Recruiting Rating\": 0.876, \"% of Players Drafted\": 0.045454545454545456, \"count\": 154}, {\"HS Recruiting Stars\": 3, \"HS Recruiting Rating\": 0.877, \"% of Players Drafted\": 0.09302325581395349, \"count\": 86}, {\"HS Recruiting Stars\": 3, \"HS Recruiting Rating\": 0.878, \"% of Players Drafted\": 0.07006369426751592, \"count\": 157}, {\"HS Recruiting Stars\": 3, \"HS Recruiting Rating\": 0.879, \"% of Players Drafted\": 0.06796116504854369, \"count\": 103}, {\"HS Recruiting Stars\": 3, \"HS Recruiting Rating\": 0.88, \"% of Players Drafted\": 0.07017543859649122, \"count\": 114}, {\"HS Recruiting Stars\": 3, \"HS Recruiting Rating\": 0.881, \"% of Players Drafted\": 0.06666666666666667, \"count\": 90}, {\"HS Recruiting Stars\": 3, \"HS Recruiting Rating\": 0.882, \"% of Players Drafted\": 0.029411764705882353, \"count\": 136}, {\"HS Recruiting Stars\": 3, \"HS Recruiting Rating\": 0.883, \"% of Players Drafted\": 0.033707865168539325, \"count\": 89}, {\"HS Recruiting Stars\": 3, \"HS Recruiting Rating\": 0.884, \"% of Players Drafted\": 0.06930693069306931, \"count\": 101}, {\"HS Recruiting Stars\": 3, \"HS Recruiting Rating\": 0.885, \"% of Players Drafted\": 0.03125, \"count\": 96}, {\"HS Recruiting Stars\": 3, \"HS Recruiting Rating\": 0.886, \"% of Players Drafted\": 0.08620689655172414, \"count\": 116}, {\"HS Recruiting Stars\": 3, \"HS Recruiting Rating\": 0.887, \"% of Players Drafted\": 0.05970149253731343, \"count\": 67}, {\"HS Recruiting Stars\": 3, \"HS Recruiting Rating\": 0.888, \"% of Players Drafted\": 0.07, \"count\": 100}, {\"HS Recruiting Stars\": 3, \"HS Recruiting Rating\": 0.889, \"% of Players Drafted\": 0.08860759493670886, \"count\": 79}, {\"HS Recruiting Stars\": 3, \"HS Recruiting Rating\": 0.89, \"% of Players Drafted\": 0.05, \"count\": 40}, {\"HS Recruiting Stars\": 4, \"HS Recruiting Rating\": 0.89, \"% of Players Drafted\": 0.13513513513513514, \"count\": 37}, {\"HS Recruiting Stars\": 4, \"HS Recruiting Rating\": 0.891, \"% of Players Drafted\": 0.16393442622950818, \"count\": 61}, {\"HS Recruiting Stars\": 4, \"HS Recruiting Rating\": 0.892, \"% of Players Drafted\": 0.034482758620689655, \"count\": 116}, {\"HS Recruiting Stars\": 4, \"HS Recruiting Rating\": 0.893, \"% of Players Drafted\": 0.05084745762711865, \"count\": 59}, {\"HS Recruiting Stars\": 4, \"HS Recruiting Rating\": 0.894, \"% of Players Drafted\": 0.07692307692307693, \"count\": 78}, {\"HS Recruiting Stars\": 4, \"HS Recruiting Rating\": 0.895, \"% of Players Drafted\": 0.07692307692307693, \"count\": 52}, {\"HS Recruiting Stars\": 4, \"HS Recruiting Rating\": 0.896, \"% of Players Drafted\": 0.05952380952380952, \"count\": 84}, {\"HS Recruiting Stars\": 4, \"HS Recruiting Rating\": 0.897, \"% of Players Drafted\": 0.0967741935483871, \"count\": 62}, {\"HS Recruiting Stars\": 4, \"HS Recruiting Rating\": 0.898, \"% of Players Drafted\": 0.1095890410958904, \"count\": 73}, {\"HS Recruiting Stars\": 4, \"HS Recruiting Rating\": 0.899, \"% of Players Drafted\": 0.1206896551724138, \"count\": 58}, {\"HS Recruiting Stars\": 4, \"HS Recruiting Rating\": 0.9, \"% of Players Drafted\": 0.0821917808219178, \"count\": 73}, {\"HS Recruiting Stars\": 4, \"HS Recruiting Rating\": 0.901, \"% of Players Drafted\": 0.023255813953488372, \"count\": 43}, {\"HS Recruiting Stars\": 4, \"HS Recruiting Rating\": 0.902, \"% of Players Drafted\": 0.0625, \"count\": 64}, {\"HS Recruiting Stars\": 4, \"HS Recruiting Rating\": 0.903, \"% of Players Drafted\": 0.07142857142857142, \"count\": 42}, {\"HS Recruiting Stars\": 4, \"HS Recruiting Rating\": 0.904, \"% of Players Drafted\": 0.10714285714285714, \"count\": 56}, {\"HS Recruiting Stars\": 4, \"HS Recruiting Rating\": 0.905, \"% of Players Drafted\": 0.05128205128205128, \"count\": 39}, {\"HS Recruiting Stars\": 4, \"HS Recruiting Rating\": 0.906, \"% of Players Drafted\": 0.06666666666666667, \"count\": 60}, {\"HS Recruiting Stars\": 4, \"HS Recruiting Rating\": 0.907, \"% of Players Drafted\": 0.020833333333333332, \"count\": 48}, {\"HS Recruiting Stars\": 4, \"HS Recruiting Rating\": 0.908, \"% of Players Drafted\": 0.03389830508474576, \"count\": 59}, {\"HS Recruiting Stars\": 4, \"HS Recruiting Rating\": 0.909, \"% of Players Drafted\": 0.09302325581395349, \"count\": 43}, {\"HS Recruiting Stars\": 4, \"HS Recruiting Rating\": 0.91, \"% of Players Drafted\": 0.04081632653061224, \"count\": 49}, {\"HS Recruiting Stars\": 4, \"HS Recruiting Rating\": 0.911, \"% of Players Drafted\": 0.16666666666666666, \"count\": 30}, {\"HS Recruiting Stars\": 4, \"HS Recruiting Rating\": 0.912, \"% of Players Drafted\": 0.10714285714285714, \"count\": 56}, {\"HS Recruiting Stars\": 4, \"HS Recruiting Rating\": 0.913, \"% of Players Drafted\": 0.0975609756097561, \"count\": 41}, {\"HS Recruiting Stars\": 4, \"HS Recruiting Rating\": 0.914, \"% of Players Drafted\": 0.038461538461538464, \"count\": 52}, {\"HS Recruiting Stars\": 4, \"HS Recruiting Rating\": 0.915, \"% of Players Drafted\": 0.038461538461538464, \"count\": 26}, {\"HS Recruiting Stars\": 4, \"HS Recruiting Rating\": 0.916, \"% of Players Drafted\": 0.10256410256410256, \"count\": 39}, {\"HS Recruiting Stars\": 4, \"HS Recruiting Rating\": 0.917, \"% of Players Drafted\": 0.13793103448275862, \"count\": 29}, {\"HS Recruiting Stars\": 4, \"HS Recruiting Rating\": 0.918, \"% of Players Drafted\": 0.1590909090909091, \"count\": 44}, {\"HS Recruiting Stars\": 4, \"HS Recruiting Rating\": 0.919, \"% of Players Drafted\": 0.03571428571428571, \"count\": 28}, {\"HS Recruiting Stars\": 4, \"HS Recruiting Rating\": 0.92, \"% of Players Drafted\": 0.07142857142857142, \"count\": 42}, {\"HS Recruiting Stars\": 4, \"HS Recruiting Rating\": 0.921, \"% of Players Drafted\": 0.06451612903225806, \"count\": 31}, {\"HS Recruiting Stars\": 4, \"HS Recruiting Rating\": 0.922, \"% of Players Drafted\": 0.18, \"count\": 50}, {\"HS Recruiting Stars\": 4, \"HS Recruiting Rating\": 0.923, \"% of Players Drafted\": 0.2903225806451613, \"count\": 31}, {\"HS Recruiting Stars\": 4, \"HS Recruiting Rating\": 0.924, \"% of Players Drafted\": 0.07894736842105263, \"count\": 38}, {\"HS Recruiting Stars\": 4, \"HS Recruiting Rating\": 0.925, \"% of Players Drafted\": 0.09375, \"count\": 32}, {\"HS Recruiting Stars\": 4, \"HS Recruiting Rating\": 0.926, \"% of Players Drafted\": 0.25925925925925924, \"count\": 27}, {\"HS Recruiting Stars\": 4, \"HS Recruiting Rating\": 0.927, \"% of Players Drafted\": 0.10714285714285714, \"count\": 28}, {\"HS Recruiting Stars\": 4, \"HS Recruiting Rating\": 0.928, \"% of Players Drafted\": 0.06896551724137931, \"count\": 29}, {\"HS Recruiting Stars\": 4, \"HS Recruiting Rating\": 0.929, \"% of Players Drafted\": 0.1111111111111111, \"count\": 27}, {\"HS Recruiting Stars\": 4, \"HS Recruiting Rating\": 0.93, \"% of Players Drafted\": 0.15384615384615385, \"count\": 26}, {\"HS Recruiting Stars\": 4, \"HS Recruiting Rating\": 0.931, \"% of Players Drafted\": 0.06060606060606061, \"count\": 33}, {\"HS Recruiting Stars\": 4, \"HS Recruiting Rating\": 0.932, \"% of Players Drafted\": 0.13513513513513514, \"count\": 37}, {\"HS Recruiting Stars\": 4, \"HS Recruiting Rating\": 0.933, \"% of Players Drafted\": 0.1724137931034483, \"count\": 29}, {\"HS Recruiting Stars\": 4, \"HS Recruiting Rating\": 0.934, \"% of Players Drafted\": 0.13043478260869565, \"count\": 23}, {\"HS Recruiting Stars\": 4, \"HS Recruiting Rating\": 0.935, \"% of Players Drafted\": 0.047619047619047616, \"count\": 21}, {\"HS Recruiting Stars\": 4, \"HS Recruiting Rating\": 0.936, \"% of Players Drafted\": 0.10810810810810811, \"count\": 37}, {\"HS Recruiting Stars\": 4, \"HS Recruiting Rating\": 0.937, \"% of Players Drafted\": 0.18181818181818182, \"count\": 22}, {\"HS Recruiting Stars\": 4, \"HS Recruiting Rating\": 0.938, \"% of Players Drafted\": 0.14285714285714285, \"count\": 35}, {\"HS Recruiting Stars\": 4, \"HS Recruiting Rating\": 0.939, \"% of Players Drafted\": 0.25, \"count\": 24}, {\"HS Recruiting Stars\": 4, \"HS Recruiting Rating\": 0.94, \"% of Players Drafted\": 0.22580645161290322, \"count\": 31}, {\"HS Recruiting Stars\": 4, \"HS Recruiting Rating\": 0.941, \"% of Players Drafted\": 0.15789473684210525, \"count\": 19}, {\"HS Recruiting Stars\": 4, \"HS Recruiting Rating\": 0.942, \"% of Players Drafted\": 0.07692307692307693, \"count\": 26}, {\"HS Recruiting Stars\": 4, \"HS Recruiting Rating\": 0.943, \"% of Players Drafted\": 0.09523809523809523, \"count\": 21}, {\"HS Recruiting Stars\": 4, \"HS Recruiting Rating\": 0.944, \"% of Players Drafted\": 0.14705882352941177, \"count\": 34}, {\"HS Recruiting Stars\": 4, \"HS Recruiting Rating\": 0.945, \"% of Players Drafted\": 0.1111111111111111, \"count\": 27}, {\"HS Recruiting Stars\": 4, \"HS Recruiting Rating\": 0.946, \"% of Players Drafted\": 0.2, \"count\": 25}, {\"HS Recruiting Stars\": 4, \"HS Recruiting Rating\": 0.947, \"% of Players Drafted\": 0.2, \"count\": 20}, {\"HS Recruiting Stars\": 4, \"HS Recruiting Rating\": 0.948, \"% of Players Drafted\": 0.11538461538461539, \"count\": 26}, {\"HS Recruiting Stars\": 4, \"HS Recruiting Rating\": 0.949, \"% of Players Drafted\": 0.23076923076923078, \"count\": 13}, {\"HS Recruiting Stars\": 4, \"HS Recruiting Rating\": 0.95, \"% of Players Drafted\": 0.2, \"count\": 25}, {\"HS Recruiting Stars\": 4, \"HS Recruiting Rating\": 0.951, \"% of Players Drafted\": 0.16666666666666666, \"count\": 24}, {\"HS Recruiting Stars\": 4, \"HS Recruiting Rating\": 0.952, \"% of Players Drafted\": 0.125, \"count\": 24}, {\"HS Recruiting Stars\": 4, \"HS Recruiting Rating\": 0.953, \"% of Players Drafted\": 0.17647058823529413, \"count\": 17}, {\"HS Recruiting Stars\": 4, \"HS Recruiting Rating\": 0.954, \"% of Players Drafted\": 0.14285714285714285, \"count\": 21}, {\"HS Recruiting Stars\": 4, \"HS Recruiting Rating\": 0.955, \"% of Players Drafted\": 0.14285714285714285, \"count\": 21}, {\"HS Recruiting Stars\": 4, \"HS Recruiting Rating\": 0.956, \"% of Players Drafted\": 0.11764705882352941, \"count\": 34}, {\"HS Recruiting Stars\": 4, \"HS Recruiting Rating\": 0.957, \"% of Players Drafted\": 0.2608695652173913, \"count\": 23}, {\"HS Recruiting Stars\": 4, \"HS Recruiting Rating\": 0.958, \"% of Players Drafted\": 0.08823529411764706, \"count\": 34}, {\"HS Recruiting Stars\": 4, \"HS Recruiting Rating\": 0.959, \"% of Players Drafted\": 0.16666666666666666, \"count\": 18}, {\"HS Recruiting Stars\": 4, \"HS Recruiting Rating\": 0.96, \"% of Players Drafted\": 0.2608695652173913, \"count\": 23}, {\"HS Recruiting Stars\": 4, \"HS Recruiting Rating\": 0.961, \"% of Players Drafted\": 0.125, \"count\": 16}, {\"HS Recruiting Stars\": 4, \"HS Recruiting Rating\": 0.962, \"% of Players Drafted\": 0.125, \"count\": 16}, {\"HS Recruiting Stars\": 4, \"HS Recruiting Rating\": 0.963, \"% of Players Drafted\": 0.18518518518518517, \"count\": 27}, {\"HS Recruiting Stars\": 4, \"HS Recruiting Rating\": 0.964, \"% of Players Drafted\": 0.1, \"count\": 20}, {\"HS Recruiting Stars\": 4, \"HS Recruiting Rating\": 0.965, \"% of Players Drafted\": 0.1111111111111111, \"count\": 27}, {\"HS Recruiting Stars\": 4, \"HS Recruiting Rating\": 0.966, \"% of Players Drafted\": 0.13333333333333333, \"count\": 15}, {\"HS Recruiting Stars\": 4, \"HS Recruiting Rating\": 0.967, \"% of Players Drafted\": 0.29411764705882354, \"count\": 17}, {\"HS Recruiting Stars\": 4, \"HS Recruiting Rating\": 0.968, \"% of Players Drafted\": 0.12903225806451613, \"count\": 31}, {\"HS Recruiting Stars\": 4, \"HS Recruiting Rating\": 0.969, \"% of Players Drafted\": 0.2857142857142857, \"count\": 14}, {\"HS Recruiting Stars\": 4, \"HS Recruiting Rating\": 0.97, \"% of Players Drafted\": 0.16, \"count\": 25}, {\"HS Recruiting Stars\": 4, \"HS Recruiting Rating\": 0.971, \"% of Players Drafted\": 0.16666666666666666, \"count\": 24}, {\"HS Recruiting Stars\": 4, \"HS Recruiting Rating\": 0.972, \"% of Players Drafted\": 0.18181818181818182, \"count\": 33}, {\"HS Recruiting Stars\": 4, \"HS Recruiting Rating\": 0.973, \"% of Players Drafted\": 0.19047619047619047, \"count\": 21}, {\"HS Recruiting Stars\": 4, \"HS Recruiting Rating\": 0.974, \"% of Players Drafted\": 0.09090909090909091, \"count\": 22}, {\"HS Recruiting Stars\": 4, \"HS Recruiting Rating\": 0.975, \"% of Players Drafted\": 0.05555555555555555, \"count\": 18}, {\"HS Recruiting Stars\": 4, \"HS Recruiting Rating\": 0.976, \"% of Players Drafted\": 0.25925925925925924, \"count\": 27}, {\"HS Recruiting Stars\": 4, \"HS Recruiting Rating\": 0.977, \"% of Players Drafted\": 0.09523809523809523, \"count\": 21}, {\"HS Recruiting Stars\": 4, \"HS Recruiting Rating\": 0.978, \"% of Players Drafted\": 0.15384615384615385, \"count\": 13}, {\"HS Recruiting Stars\": 4, \"HS Recruiting Rating\": 0.979, \"% of Players Drafted\": 0.5294117647058824, \"count\": 17}, {\"HS Recruiting Stars\": 4, \"HS Recruiting Rating\": 0.98, \"% of Players Drafted\": 0.3333333333333333, \"count\": 18}, {\"HS Recruiting Stars\": 4, \"HS Recruiting Rating\": 0.981, \"% of Players Drafted\": 0.2962962962962963, \"count\": 27}, {\"HS Recruiting Stars\": 4, \"HS Recruiting Rating\": 0.982, \"% of Players Drafted\": 0.35, \"count\": 20}, {\"HS Recruiting Stars\": 4, \"HS Recruiting Rating\": 0.983, \"% of Players Drafted\": 0.17647058823529413, \"count\": 17}, {\"HS Recruiting Stars\": 5, \"HS Recruiting Rating\": 0.983, \"% of Players Drafted\": 1.0, \"count\": 2}, {\"HS Recruiting Stars\": 5, \"HS Recruiting Rating\": 0.984, \"% of Players Drafted\": 0.043478260869565216, \"count\": 23}, {\"HS Recruiting Stars\": 5, \"HS Recruiting Rating\": 0.985, \"% of Players Drafted\": 0.1, \"count\": 10}, {\"HS Recruiting Stars\": 5, \"HS Recruiting Rating\": 0.986, \"% of Players Drafted\": 0.23076923076923078, \"count\": 26}, {\"HS Recruiting Stars\": 5, \"HS Recruiting Rating\": 0.987, \"% of Players Drafted\": 0.34615384615384615, \"count\": 26}, {\"HS Recruiting Stars\": 5, \"HS Recruiting Rating\": 0.988, \"% of Players Drafted\": 0.38461538461538464, \"count\": 26}, {\"HS Recruiting Stars\": 5, \"HS Recruiting Rating\": 0.989, \"% of Players Drafted\": 0.4666666666666667, \"count\": 15}, {\"HS Recruiting Stars\": 5, \"HS Recruiting Rating\": 0.99, \"% of Players Drafted\": 0.39285714285714285, \"count\": 28}, {\"HS Recruiting Stars\": 5, \"HS Recruiting Rating\": 0.991, \"% of Players Drafted\": 0.35, \"count\": 20}, {\"HS Recruiting Stars\": 5, \"HS Recruiting Rating\": 0.992, \"% of Players Drafted\": 0.29411764705882354, \"count\": 17}, {\"HS Recruiting Stars\": 5, \"HS Recruiting Rating\": 0.993, \"% of Players Drafted\": 0.4375, \"count\": 16}, {\"HS Recruiting Stars\": 5, \"HS Recruiting Rating\": 0.994, \"% of Players Drafted\": 0.2857142857142857, \"count\": 14}, {\"HS Recruiting Stars\": 5, \"HS Recruiting Rating\": 0.995, \"% of Players Drafted\": 0.34782608695652173, \"count\": 23}, {\"HS Recruiting Stars\": 5, \"HS Recruiting Rating\": 0.996, \"% of Players Drafted\": 0.5, \"count\": 16}, {\"HS Recruiting Stars\": 5, \"HS Recruiting Rating\": 0.997, \"% of Players Drafted\": 0.25, \"count\": 16}, {\"HS Recruiting Stars\": 5, \"HS Recruiting Rating\": 0.998, \"% of Players Drafted\": 0.5, \"count\": 14}, {\"HS Recruiting Stars\": 5, \"HS Recruiting Rating\": 0.999, \"% of Players Drafted\": 0.4666666666666667, \"count\": 15}, {\"HS Recruiting Stars\": 5, \"HS Recruiting Rating\": 1.0, \"% of Players Drafted\": 0.5714285714285714, \"count\": 7}]}}, {\"mode\": \"vega-lite\"});\n",
       "</script>"
      ],
      "text/plain": [
       "alt.Chart(...)"
      ]
     },
     "execution_count": 16,
     "metadata": {},
     "output_type": "execute_result"
    }
   ],
   "source": [
    "alt.Chart(draft_likelihood).mark_circle(size = 60).encode(\n",
    "    x = alt.X('HS Recruiting Rating', scale=alt.Scale(domain=[.6, 1]), title = 'Recuiting Ranking (rounded to 3 digits)'),\n",
    "    y = alt.Y('% of Players Drafted', title = '% of Players Who Get Drafted', scale=alt.Scale(domain=[0, 1])),\n",
    "    color = 'HS Recruiting Stars:N').properties(\n",
    "    width = 600, height = 400, title = 'High School Recruit Ranking vs Draft Likelihood')"
   ]
  }
 ],
 "metadata": {
  "kernelspec": {
   "display_name": "base",
   "language": "python",
   "name": "python3"
  },
  "language_info": {
   "codemirror_mode": {
    "name": "ipython",
    "version": 3
   },
   "file_extension": ".py",
   "mimetype": "text/x-python",
   "name": "python",
   "nbconvert_exporter": "python",
   "pygments_lexer": "ipython3",
   "version": "3.11.5"
  }
 },
 "nbformat": 4,
 "nbformat_minor": 2
}
