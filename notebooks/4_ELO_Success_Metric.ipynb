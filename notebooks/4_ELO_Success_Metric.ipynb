{
 "cells": [
  {
   "cell_type": "markdown",
   "id": "974936ae-7ea5-439e-bcae-699515890e43",
   "metadata": {},
   "source": [
    "## SIADS Milestone I: CFB Analysis\n",
    "\n",
    "#### ELO Exploration\n",
    "\n",
    "1) How reliable is the ELO metric? Has it historically done a good job predicting winners of CFB games?\n",
    "2) What is the distribution of ELO scores? Does it match what we see in research papers?\n",
    "\n"
   ]
  },
  {
   "cell_type": "code",
   "execution_count": 1,
   "id": "1ce67680-7445-48f3-b1a3-6271e86d54c2",
   "metadata": {},
   "outputs": [],
   "source": [
    "# Uncomment and run line below if cfbd library isn't already installed\n",
    "\n",
    "import cfbd\n",
    "import numpy as np\n",
    "import pandas as pd\n",
    "import altair as alt\n",
    "import cfbd\n",
    "import warnings\n",
    "\n",
    "pd.set_option('display.max_columns', None)\n",
    "warnings.filterwarnings('ignore')\n"
   ]
  },
  {
   "cell_type": "markdown",
   "id": "139051b7-83e5-4e06-8938-7e89b187ad0b",
   "metadata": {},
   "source": [
    "#### Historically, has ELO served as a good predictor of games outcomes. Is a reliable metric?"
   ]
  },
  {
   "cell_type": "code",
   "execution_count": 2,
   "id": "22cdfb98-51ab-452b-a34f-fb146c165960",
   "metadata": {},
   "outputs": [],
   "source": [
    "# Read in games data. All games between for power 5 teams after Week 7\n",
    "df = pd.read_csv('../data/games_manipulated.csv')\n",
    "power_5_conf = ['Pac-12', 'Big 12', 'ACC', 'SEC', 'Big Ten']\n",
    "df = df[df['team_conference'].isin(power_5_conf)]\n",
    "df_mid_season = df[df['week'] >= 7]"
   ]
  },
  {
   "cell_type": "code",
   "execution_count": 3,
   "id": "af1007da-76b1-4efb-9606-03216d3309d0",
   "metadata": {},
   "outputs": [],
   "source": [
    "# df_elo = pd.merge(left = df, right = df_teams, left_on = 'team_id', right_on = 'id')\n",
    "col = ['season','week', 'point_differential', 'team_pregame_elo', 'opponent_pregame_elo', 'win_flag']\n",
    "df_mid_season = df_mid_season[col]\n",
    "\n",
    "df_mid_season['pre_game_elo_diff'] = df_mid_season['team_pregame_elo'] - df_mid_season['opponent_pregame_elo']\n",
    "df_mid_season['pre_game_elo_diff_rounded'] = df_mid_season['pre_game_elo_diff'].round(decimals=-1)\n",
    "\n",
    "a = df_mid_season.groupby(by = 'pre_game_elo_diff_rounded').agg({'win_flag':'mean'}).reset_index()"
   ]
  },
  {
   "cell_type": "code",
   "execution_count": 4,
   "id": "208e1b91-0c8d-40a5-a50e-9290bef2fa83",
   "metadata": {},
   "outputs": [
    {
     "data": {
      "text/html": [
       "\n",
       "<div id=\"altair-viz-32ea4d62599540a89fd90b7cd7c95f6a\"></div>\n",
       "<script type=\"text/javascript\">\n",
       "  var VEGA_DEBUG = (typeof VEGA_DEBUG == \"undefined\") ? {} : VEGA_DEBUG;\n",
       "  (function(spec, embedOpt){\n",
       "    let outputDiv = document.currentScript.previousElementSibling;\n",
       "    if (outputDiv.id !== \"altair-viz-32ea4d62599540a89fd90b7cd7c95f6a\") {\n",
       "      outputDiv = document.getElementById(\"altair-viz-32ea4d62599540a89fd90b7cd7c95f6a\");\n",
       "    }\n",
       "    const paths = {\n",
       "      \"vega\": \"https://cdn.jsdelivr.net/npm/vega@5?noext\",\n",
       "      \"vega-lib\": \"https://cdn.jsdelivr.net/npm/vega-lib?noext\",\n",
       "      \"vega-lite\": \"https://cdn.jsdelivr.net/npm/vega-lite@5.6.1?noext\",\n",
       "      \"vega-embed\": \"https://cdn.jsdelivr.net/npm/vega-embed@6?noext\",\n",
       "    };\n",
       "\n",
       "    function maybeLoadScript(lib, version) {\n",
       "      var key = `${lib.replace(\"-\", \"\")}_version`;\n",
       "      return (VEGA_DEBUG[key] == version) ?\n",
       "        Promise.resolve(paths[lib]) :\n",
       "        new Promise(function(resolve, reject) {\n",
       "          var s = document.createElement('script');\n",
       "          document.getElementsByTagName(\"head\")[0].appendChild(s);\n",
       "          s.async = true;\n",
       "          s.onload = () => {\n",
       "            VEGA_DEBUG[key] = version;\n",
       "            return resolve(paths[lib]);\n",
       "          };\n",
       "          s.onerror = () => reject(`Error loading script: ${paths[lib]}`);\n",
       "          s.src = paths[lib];\n",
       "        });\n",
       "    }\n",
       "\n",
       "    function showError(err) {\n",
       "      outputDiv.innerHTML = `<div class=\"error\" style=\"color:red;\">${err}</div>`;\n",
       "      throw err;\n",
       "    }\n",
       "\n",
       "    function displayChart(vegaEmbed) {\n",
       "      vegaEmbed(outputDiv, spec, embedOpt)\n",
       "        .catch(err => showError(`Javascript Error: ${err.message}<br>This usually means there's a typo in your chart specification. See the javascript console for the full traceback.`));\n",
       "    }\n",
       "\n",
       "    if(typeof define === \"function\" && define.amd) {\n",
       "      requirejs.config({paths});\n",
       "      require([\"vega-embed\"], displayChart, err => showError(`Error loading script: ${err.message}`));\n",
       "    } else {\n",
       "      maybeLoadScript(\"vega\", \"5\")\n",
       "        .then(() => maybeLoadScript(\"vega-lite\", \"5.6.1\"))\n",
       "        .then(() => maybeLoadScript(\"vega-embed\", \"6\"))\n",
       "        .catch(showError)\n",
       "        .then(() => displayChart(vegaEmbed));\n",
       "    }\n",
       "  })({\"config\": {\"view\": {\"continuousWidth\": 300, \"continuousHeight\": 300}}, \"layer\": [{\"mark\": {\"type\": \"circle\", \"color\": \"#00274C\", \"opacity\": 0.4}, \"encoding\": {\"x\": {\"field\": \"pre_game_elo_diff_rounded\", \"title\": \"Difference in pre-game Elo Rating (rounded to nearest 10)\", \"type\": \"quantitative\"}, \"y\": {\"field\": \"win_flag\", \"title\": \"Probability of Winning\", \"type\": \"quantitative\"}}}, {\"mark\": {\"type\": \"line\", \"color\": \"#FFCB05\", \"size\": 4}, \"encoding\": {\"x\": {\"field\": \"pre_game_elo_diff_rounded\", \"title\": \"Difference in pre-game Elo Rating (rounded to nearest 10)\", \"type\": \"quantitative\"}, \"y\": {\"field\": \"win_flag\", \"title\": \"Probability of Winning\", \"type\": \"quantitative\"}}, \"title\": {\"text\": \"Pre Game Elo Rating vs % Chance to Win\", \"subtitle\": \"Includes all College Football Games after Week 7 from 2013 - 2023\"}, \"transform\": [{\"loess\": \"win_flag\", \"on\": \"pre_game_elo_diff_rounded\"}]}], \"data\": {\"name\": \"data-fa49d9e772ef80190ef96849e07d0041\"}, \"height\": 500, \"width\": 500, \"$schema\": \"https://vega.github.io/schema/vega-lite/v5.6.1.json\", \"datasets\": {\"data-fa49d9e772ef80190ef96849e07d0041\": [{\"pre_game_elo_diff_rounded\": -1340.0, \"win_flag\": 0.0}, {\"pre_game_elo_diff_rounded\": -990.0, \"win_flag\": 0.0}, {\"pre_game_elo_diff_rounded\": -980.0, \"win_flag\": 0.0}, {\"pre_game_elo_diff_rounded\": -970.0, \"win_flag\": 0.0}, {\"pre_game_elo_diff_rounded\": -940.0, \"win_flag\": 0.0}, {\"pre_game_elo_diff_rounded\": -930.0, \"win_flag\": 0.0}, {\"pre_game_elo_diff_rounded\": -920.0, \"win_flag\": 0.0}, {\"pre_game_elo_diff_rounded\": -910.0, \"win_flag\": 0.0}, {\"pre_game_elo_diff_rounded\": -900.0, \"win_flag\": 0.0}, {\"pre_game_elo_diff_rounded\": -890.0, \"win_flag\": 0.0}, {\"pre_game_elo_diff_rounded\": -870.0, \"win_flag\": 0.0}, {\"pre_game_elo_diff_rounded\": -860.0, \"win_flag\": 0.0}, {\"pre_game_elo_diff_rounded\": -850.0, \"win_flag\": 0.0}, {\"pre_game_elo_diff_rounded\": -840.0, \"win_flag\": 0.0}, {\"pre_game_elo_diff_rounded\": -830.0, \"win_flag\": 0.0}, {\"pre_game_elo_diff_rounded\": -820.0, \"win_flag\": 0.0}, {\"pre_game_elo_diff_rounded\": -810.0, \"win_flag\": 0.25}, {\"pre_game_elo_diff_rounded\": -800.0, \"win_flag\": 0.0}, {\"pre_game_elo_diff_rounded\": -780.0, \"win_flag\": 0.0}, {\"pre_game_elo_diff_rounded\": -770.0, \"win_flag\": 0.0}, {\"pre_game_elo_diff_rounded\": -760.0, \"win_flag\": 0.0}, {\"pre_game_elo_diff_rounded\": -750.0, \"win_flag\": 0.0}, {\"pre_game_elo_diff_rounded\": -740.0, \"win_flag\": 0.0}, {\"pre_game_elo_diff_rounded\": -730.0, \"win_flag\": 0.0}, {\"pre_game_elo_diff_rounded\": -720.0, \"win_flag\": 0.0}, {\"pre_game_elo_diff_rounded\": -710.0, \"win_flag\": 0.1111111111111111}, {\"pre_game_elo_diff_rounded\": -700.0, \"win_flag\": 0.0}, {\"pre_game_elo_diff_rounded\": -690.0, \"win_flag\": 0.0}, {\"pre_game_elo_diff_rounded\": -680.0, \"win_flag\": 0.0}, {\"pre_game_elo_diff_rounded\": -670.0, \"win_flag\": 0.0}, {\"pre_game_elo_diff_rounded\": -660.0, \"win_flag\": 0.25}, {\"pre_game_elo_diff_rounded\": -650.0, \"win_flag\": 0.0}, {\"pre_game_elo_diff_rounded\": -640.0, \"win_flag\": 0.0}, {\"pre_game_elo_diff_rounded\": -630.0, \"win_flag\": 0.125}, {\"pre_game_elo_diff_rounded\": -620.0, \"win_flag\": 0.0}, {\"pre_game_elo_diff_rounded\": -610.0, \"win_flag\": 0.0}, {\"pre_game_elo_diff_rounded\": -600.0, \"win_flag\": 0.16666666666666666}, {\"pre_game_elo_diff_rounded\": -590.0, \"win_flag\": 0.0}, {\"pre_game_elo_diff_rounded\": -580.0, \"win_flag\": 0.35714285714285715}, {\"pre_game_elo_diff_rounded\": -570.0, \"win_flag\": 0.0}, {\"pre_game_elo_diff_rounded\": -560.0, \"win_flag\": 0.13333333333333333}, {\"pre_game_elo_diff_rounded\": -550.0, \"win_flag\": 0.0}, {\"pre_game_elo_diff_rounded\": -540.0, \"win_flag\": 0.07692307692307693}, {\"pre_game_elo_diff_rounded\": -530.0, \"win_flag\": 0.0}, {\"pre_game_elo_diff_rounded\": -520.0, \"win_flag\": 0.0}, {\"pre_game_elo_diff_rounded\": -510.0, \"win_flag\": 0.05}, {\"pre_game_elo_diff_rounded\": -500.0, \"win_flag\": 0.0}, {\"pre_game_elo_diff_rounded\": -490.0, \"win_flag\": 0.15384615384615385}, {\"pre_game_elo_diff_rounded\": -480.0, \"win_flag\": 0.16}, {\"pre_game_elo_diff_rounded\": -470.0, \"win_flag\": 0.125}, {\"pre_game_elo_diff_rounded\": -460.0, \"win_flag\": 0.13043478260869565}, {\"pre_game_elo_diff_rounded\": -450.0, \"win_flag\": 0.3}, {\"pre_game_elo_diff_rounded\": -440.0, \"win_flag\": 0.17391304347826086}, {\"pre_game_elo_diff_rounded\": -430.0, \"win_flag\": 0.1}, {\"pre_game_elo_diff_rounded\": -420.0, \"win_flag\": 0.1111111111111111}, {\"pre_game_elo_diff_rounded\": -410.0, \"win_flag\": 0.09090909090909091}, {\"pre_game_elo_diff_rounded\": -400.0, \"win_flag\": 0.10344827586206896}, {\"pre_game_elo_diff_rounded\": -390.0, \"win_flag\": 0.3684210526315789}, {\"pre_game_elo_diff_rounded\": -380.0, \"win_flag\": 0.02702702702702703}, {\"pre_game_elo_diff_rounded\": -370.0, \"win_flag\": 0.0967741935483871}, {\"pre_game_elo_diff_rounded\": -360.0, \"win_flag\": 0.1875}, {\"pre_game_elo_diff_rounded\": -350.0, \"win_flag\": 0.24}, {\"pre_game_elo_diff_rounded\": -340.0, \"win_flag\": 0.20512820512820512}, {\"pre_game_elo_diff_rounded\": -330.0, \"win_flag\": 0.25925925925925924}, {\"pre_game_elo_diff_rounded\": -320.0, \"win_flag\": 0.12903225806451613}, {\"pre_game_elo_diff_rounded\": -310.0, \"win_flag\": 0.13793103448275862}, {\"pre_game_elo_diff_rounded\": -300.0, \"win_flag\": 0.20588235294117646}, {\"pre_game_elo_diff_rounded\": -290.0, \"win_flag\": 0.18181818181818182}, {\"pre_game_elo_diff_rounded\": -280.0, \"win_flag\": 0.14583333333333334}, {\"pre_game_elo_diff_rounded\": -270.0, \"win_flag\": 0.37037037037037035}, {\"pre_game_elo_diff_rounded\": -260.0, \"win_flag\": 0.3142857142857143}, {\"pre_game_elo_diff_rounded\": -250.0, \"win_flag\": 0.4090909090909091}, {\"pre_game_elo_diff_rounded\": -240.0, \"win_flag\": 0.22641509433962265}, {\"pre_game_elo_diff_rounded\": -230.0, \"win_flag\": 0.36363636363636365}, {\"pre_game_elo_diff_rounded\": -220.0, \"win_flag\": 0.39215686274509803}, {\"pre_game_elo_diff_rounded\": -210.0, \"win_flag\": 0.3783783783783784}, {\"pre_game_elo_diff_rounded\": -200.0, \"win_flag\": 0.21052631578947367}, {\"pre_game_elo_diff_rounded\": -190.0, \"win_flag\": 0.2765957446808511}, {\"pre_game_elo_diff_rounded\": -180.0, \"win_flag\": 0.4117647058823529}, {\"pre_game_elo_diff_rounded\": -170.0, \"win_flag\": 0.42}, {\"pre_game_elo_diff_rounded\": -160.0, \"win_flag\": 0.2727272727272727}, {\"pre_game_elo_diff_rounded\": -150.0, \"win_flag\": 0.3}, {\"pre_game_elo_diff_rounded\": -140.0, \"win_flag\": 0.44}, {\"pre_game_elo_diff_rounded\": -130.0, \"win_flag\": 0.44680851063829785}, {\"pre_game_elo_diff_rounded\": -120.0, \"win_flag\": 0.2727272727272727}, {\"pre_game_elo_diff_rounded\": -110.0, \"win_flag\": 0.4883720930232558}, {\"pre_game_elo_diff_rounded\": -100.0, \"win_flag\": 0.35294117647058826}, {\"pre_game_elo_diff_rounded\": -90.0, \"win_flag\": 0.4}, {\"pre_game_elo_diff_rounded\": -80.0, \"win_flag\": 0.24193548387096775}, {\"pre_game_elo_diff_rounded\": -70.0, \"win_flag\": 0.4}, {\"pre_game_elo_diff_rounded\": -60.0, \"win_flag\": 0.43333333333333335}, {\"pre_game_elo_diff_rounded\": -50.0, \"win_flag\": 0.5}, {\"pre_game_elo_diff_rounded\": -40.0, \"win_flag\": 0.4857142857142857}, {\"pre_game_elo_diff_rounded\": -30.0, \"win_flag\": 0.5192307692307693}, {\"pre_game_elo_diff_rounded\": -20.0, \"win_flag\": 0.43636363636363634}, {\"pre_game_elo_diff_rounded\": -10.0, \"win_flag\": 0.5645161290322581}, {\"pre_game_elo_diff_rounded\": 0.0, \"win_flag\": 0.4918032786885246}, {\"pre_game_elo_diff_rounded\": 10.0, \"win_flag\": 0.4482758620689655}, {\"pre_game_elo_diff_rounded\": 20.0, \"win_flag\": 0.5740740740740741}, {\"pre_game_elo_diff_rounded\": 30.0, \"win_flag\": 0.49056603773584906}, {\"pre_game_elo_diff_rounded\": 40.0, \"win_flag\": 0.5352112676056338}, {\"pre_game_elo_diff_rounded\": 50.0, \"win_flag\": 0.5333333333333333}, {\"pre_game_elo_diff_rounded\": 60.0, \"win_flag\": 0.5862068965517241}, {\"pre_game_elo_diff_rounded\": 70.0, \"win_flag\": 0.6595744680851063}, {\"pre_game_elo_diff_rounded\": 80.0, \"win_flag\": 0.7619047619047619}, {\"pre_game_elo_diff_rounded\": 90.0, \"win_flag\": 0.6}, {\"pre_game_elo_diff_rounded\": 100.0, \"win_flag\": 0.6470588235294118}, {\"pre_game_elo_diff_rounded\": 110.0, \"win_flag\": 0.5238095238095238}, {\"pre_game_elo_diff_rounded\": 120.0, \"win_flag\": 0.7608695652173914}, {\"pre_game_elo_diff_rounded\": 130.0, \"win_flag\": 0.5510204081632653}, {\"pre_game_elo_diff_rounded\": 140.0, \"win_flag\": 0.5714285714285714}, {\"pre_game_elo_diff_rounded\": 150.0, \"win_flag\": 0.68}, {\"pre_game_elo_diff_rounded\": 160.0, \"win_flag\": 0.7368421052631579}, {\"pre_game_elo_diff_rounded\": 170.0, \"win_flag\": 0.6}, {\"pre_game_elo_diff_rounded\": 180.0, \"win_flag\": 0.6}, {\"pre_game_elo_diff_rounded\": 190.0, \"win_flag\": 0.7291666666666666}, {\"pre_game_elo_diff_rounded\": 200.0, \"win_flag\": 0.7931034482758621}, {\"pre_game_elo_diff_rounded\": 210.0, \"win_flag\": 0.6052631578947368}, {\"pre_game_elo_diff_rounded\": 220.0, \"win_flag\": 0.5636363636363636}, {\"pre_game_elo_diff_rounded\": 230.0, \"win_flag\": 0.6739130434782609}, {\"pre_game_elo_diff_rounded\": 240.0, \"win_flag\": 0.7884615384615384}, {\"pre_game_elo_diff_rounded\": 250.0, \"win_flag\": 0.5609756097560976}, {\"pre_game_elo_diff_rounded\": 260.0, \"win_flag\": 0.7142857142857143}, {\"pre_game_elo_diff_rounded\": 270.0, \"win_flag\": 0.7037037037037037}, {\"pre_game_elo_diff_rounded\": 280.0, \"win_flag\": 0.8627450980392157}, {\"pre_game_elo_diff_rounded\": 290.0, \"win_flag\": 0.8387096774193549}, {\"pre_game_elo_diff_rounded\": 300.0, \"win_flag\": 0.8181818181818182}, {\"pre_game_elo_diff_rounded\": 310.0, \"win_flag\": 0.8214285714285714}, {\"pre_game_elo_diff_rounded\": 320.0, \"win_flag\": 0.8181818181818182}, {\"pre_game_elo_diff_rounded\": 330.0, \"win_flag\": 0.7857142857142857}, {\"pre_game_elo_diff_rounded\": 340.0, \"win_flag\": 0.7948717948717948}, {\"pre_game_elo_diff_rounded\": 350.0, \"win_flag\": 0.75}, {\"pre_game_elo_diff_rounded\": 360.0, \"win_flag\": 0.8064516129032258}, {\"pre_game_elo_diff_rounded\": 370.0, \"win_flag\": 0.9032258064516129}, {\"pre_game_elo_diff_rounded\": 380.0, \"win_flag\": 0.9705882352941176}, {\"pre_game_elo_diff_rounded\": 390.0, \"win_flag\": 0.631578947368421}, {\"pre_game_elo_diff_rounded\": 400.0, \"win_flag\": 0.90625}, {\"pre_game_elo_diff_rounded\": 410.0, \"win_flag\": 0.9130434782608695}, {\"pre_game_elo_diff_rounded\": 420.0, \"win_flag\": 0.8947368421052632}, {\"pre_game_elo_diff_rounded\": 430.0, \"win_flag\": 0.9}, {\"pre_game_elo_diff_rounded\": 440.0, \"win_flag\": 0.8333333333333334}, {\"pre_game_elo_diff_rounded\": 450.0, \"win_flag\": 0.7}, {\"pre_game_elo_diff_rounded\": 460.0, \"win_flag\": 0.8636363636363636}, {\"pre_game_elo_diff_rounded\": 470.0, \"win_flag\": 0.9230769230769231}, {\"pre_game_elo_diff_rounded\": 480.0, \"win_flag\": 0.84}, {\"pre_game_elo_diff_rounded\": 490.0, \"win_flag\": 0.8571428571428571}, {\"pre_game_elo_diff_rounded\": 500.0, \"win_flag\": 1.0}, {\"pre_game_elo_diff_rounded\": 510.0, \"win_flag\": 0.9473684210526315}, {\"pre_game_elo_diff_rounded\": 520.0, \"win_flag\": 1.0}, {\"pre_game_elo_diff_rounded\": 530.0, \"win_flag\": 1.0}, {\"pre_game_elo_diff_rounded\": 540.0, \"win_flag\": 0.9333333333333333}, {\"pre_game_elo_diff_rounded\": 550.0, \"win_flag\": 1.0}, {\"pre_game_elo_diff_rounded\": 560.0, \"win_flag\": 0.8823529411764706}, {\"pre_game_elo_diff_rounded\": 570.0, \"win_flag\": 1.0}, {\"pre_game_elo_diff_rounded\": 580.0, \"win_flag\": 0.6428571428571429}, {\"pre_game_elo_diff_rounded\": 590.0, \"win_flag\": 1.0}, {\"pre_game_elo_diff_rounded\": 600.0, \"win_flag\": 0.8461538461538461}, {\"pre_game_elo_diff_rounded\": 610.0, \"win_flag\": 1.0}, {\"pre_game_elo_diff_rounded\": 620.0, \"win_flag\": 1.0}, {\"pre_game_elo_diff_rounded\": 630.0, \"win_flag\": 0.8888888888888888}, {\"pre_game_elo_diff_rounded\": 640.0, \"win_flag\": 1.0}, {\"pre_game_elo_diff_rounded\": 650.0, \"win_flag\": 1.0}, {\"pre_game_elo_diff_rounded\": 660.0, \"win_flag\": 0.75}, {\"pre_game_elo_diff_rounded\": 670.0, \"win_flag\": 1.0}, {\"pre_game_elo_diff_rounded\": 680.0, \"win_flag\": 1.0}, {\"pre_game_elo_diff_rounded\": 690.0, \"win_flag\": 1.0}, {\"pre_game_elo_diff_rounded\": 700.0, \"win_flag\": 1.0}, {\"pre_game_elo_diff_rounded\": 710.0, \"win_flag\": 0.9166666666666666}, {\"pre_game_elo_diff_rounded\": 720.0, \"win_flag\": 1.0}, {\"pre_game_elo_diff_rounded\": 730.0, \"win_flag\": 1.0}, {\"pre_game_elo_diff_rounded\": 740.0, \"win_flag\": 1.0}, {\"pre_game_elo_diff_rounded\": 750.0, \"win_flag\": 1.0}, {\"pre_game_elo_diff_rounded\": 760.0, \"win_flag\": 1.0}, {\"pre_game_elo_diff_rounded\": 770.0, \"win_flag\": 1.0}, {\"pre_game_elo_diff_rounded\": 780.0, \"win_flag\": 1.0}, {\"pre_game_elo_diff_rounded\": 790.0, \"win_flag\": 1.0}, {\"pre_game_elo_diff_rounded\": 800.0, \"win_flag\": 1.0}, {\"pre_game_elo_diff_rounded\": 810.0, \"win_flag\": 0.75}, {\"pre_game_elo_diff_rounded\": 820.0, \"win_flag\": 1.0}, {\"pre_game_elo_diff_rounded\": 830.0, \"win_flag\": 1.0}, {\"pre_game_elo_diff_rounded\": 840.0, \"win_flag\": 1.0}, {\"pre_game_elo_diff_rounded\": 850.0, \"win_flag\": 1.0}, {\"pre_game_elo_diff_rounded\": 860.0, \"win_flag\": 1.0}, {\"pre_game_elo_diff_rounded\": 870.0, \"win_flag\": 1.0}, {\"pre_game_elo_diff_rounded\": 890.0, \"win_flag\": 1.0}, {\"pre_game_elo_diff_rounded\": 900.0, \"win_flag\": 1.0}, {\"pre_game_elo_diff_rounded\": 910.0, \"win_flag\": 1.0}, {\"pre_game_elo_diff_rounded\": 920.0, \"win_flag\": 1.0}, {\"pre_game_elo_diff_rounded\": 930.0, \"win_flag\": 1.0}, {\"pre_game_elo_diff_rounded\": 940.0, \"win_flag\": 1.0}, {\"pre_game_elo_diff_rounded\": 950.0, \"win_flag\": 1.0}, {\"pre_game_elo_diff_rounded\": 970.0, \"win_flag\": 1.0}, {\"pre_game_elo_diff_rounded\": 980.0, \"win_flag\": 1.0}, {\"pre_game_elo_diff_rounded\": 990.0, \"win_flag\": 1.0}, {\"pre_game_elo_diff_rounded\": 1110.0, \"win_flag\": 1.0}, {\"pre_game_elo_diff_rounded\": 1340.0, \"win_flag\": 1.0}, {\"pre_game_elo_diff_rounded\": 1500.0, \"win_flag\": 1.0}]}}, {\"mode\": \"vega-lite\"});\n",
       "</script>"
      ],
      "text/plain": [
       "alt.LayerChart(...)"
      ]
     },
     "execution_count": 4,
     "metadata": {},
     "output_type": "execute_result"
    }
   ],
   "source": [
    "title_params = {\n",
    "      \"text\": \"Pre Game Elo Rating vs % Chance to Win\", \n",
    "      \"subtitle\": \"Includes all College Football Games after Week 7 from 2013 - 2023\",\n",
    "    }\n",
    "\n",
    "base = alt.Chart(a).mark_circle(opacity=0.4, color = '#00274C').encode(\n",
    "    alt.X('pre_game_elo_diff_rounded:Q', title = 'Difference in pre-game Elo Rating (rounded to nearest 10)'),\n",
    "    alt.Y('win_flag:Q', title = 'Probability of Winning')\n",
    ")\n",
    "\n",
    "# Line is formed using altair's \"LOcally Estimated Scatterplot Smoothing\" (LOESS)\n",
    "base + base.transform_loess('pre_game_elo_diff_rounded', 'win_flag').mark_line(size=4, color = '#FFCB05').properties(\n",
    "    title = title_params,\n",
    "    height = 500, width = 500)"
   ]
  },
  {
   "cell_type": "markdown",
   "id": "428be992-487d-4612-a96c-8d9f0c0576e9",
   "metadata": {},
   "source": [
    "#### What is the distribution of ELO scores? Does it match up with what other sources say should be the distribution of ELO scores?"
   ]
  },
  {
   "cell_type": "code",
   "execution_count": 5,
   "id": "e6a2ed08-e607-4730-b922-ba59d27a33e5",
   "metadata": {},
   "outputs": [
    {
     "data": {
      "text/html": [
       "\n",
       "<div id=\"altair-viz-58439ab6609d48a7bcee060ad6128627\"></div>\n",
       "<script type=\"text/javascript\">\n",
       "  var VEGA_DEBUG = (typeof VEGA_DEBUG == \"undefined\") ? {} : VEGA_DEBUG;\n",
       "  (function(spec, embedOpt){\n",
       "    let outputDiv = document.currentScript.previousElementSibling;\n",
       "    if (outputDiv.id !== \"altair-viz-58439ab6609d48a7bcee060ad6128627\") {\n",
       "      outputDiv = document.getElementById(\"altair-viz-58439ab6609d48a7bcee060ad6128627\");\n",
       "    }\n",
       "    const paths = {\n",
       "      \"vega\": \"https://cdn.jsdelivr.net/npm/vega@5?noext\",\n",
       "      \"vega-lib\": \"https://cdn.jsdelivr.net/npm/vega-lib?noext\",\n",
       "      \"vega-lite\": \"https://cdn.jsdelivr.net/npm/vega-lite@5.6.1?noext\",\n",
       "      \"vega-embed\": \"https://cdn.jsdelivr.net/npm/vega-embed@6?noext\",\n",
       "    };\n",
       "\n",
       "    function maybeLoadScript(lib, version) {\n",
       "      var key = `${lib.replace(\"-\", \"\")}_version`;\n",
       "      return (VEGA_DEBUG[key] == version) ?\n",
       "        Promise.resolve(paths[lib]) :\n",
       "        new Promise(function(resolve, reject) {\n",
       "          var s = document.createElement('script');\n",
       "          document.getElementsByTagName(\"head\")[0].appendChild(s);\n",
       "          s.async = true;\n",
       "          s.onload = () => {\n",
       "            VEGA_DEBUG[key] = version;\n",
       "            return resolve(paths[lib]);\n",
       "          };\n",
       "          s.onerror = () => reject(`Error loading script: ${paths[lib]}`);\n",
       "          s.src = paths[lib];\n",
       "        });\n",
       "    }\n",
       "\n",
       "    function showError(err) {\n",
       "      outputDiv.innerHTML = `<div class=\"error\" style=\"color:red;\">${err}</div>`;\n",
       "      throw err;\n",
       "    }\n",
       "\n",
       "    function displayChart(vegaEmbed) {\n",
       "      vegaEmbed(outputDiv, spec, embedOpt)\n",
       "        .catch(err => showError(`Javascript Error: ${err.message}<br>This usually means there's a typo in your chart specification. See the javascript console for the full traceback.`));\n",
       "    }\n",
       "\n",
       "    if(typeof define === \"function\" && define.amd) {\n",
       "      requirejs.config({paths});\n",
       "      require([\"vega-embed\"], displayChart, err => showError(`Error loading script: ${err.message}`));\n",
       "    } else {\n",
       "      maybeLoadScript(\"vega\", \"5\")\n",
       "        .then(() => maybeLoadScript(\"vega-lite\", \"5.6.1\"))\n",
       "        .then(() => maybeLoadScript(\"vega-embed\", \"6\"))\n",
       "        .catch(showError)\n",
       "        .then(() => displayChart(vegaEmbed));\n",
       "    }\n",
       "  })({\"config\": {\"view\": {\"continuousWidth\": 300, \"continuousHeight\": 300}}, \"data\": {\"name\": \"data-7501c18fe4e15f9c1b498990828d26c0\"}, \"mark\": {\"type\": \"area\", \"opacity\": 0.8}, \"encoding\": {\"x\": {\"field\": \"team_pregame_elo_round\", \"title\": \"Pre-game ELO Rating (Rounded to Nearest 100)\", \"type\": \"quantitative\"}, \"y\": {\"field\": \"season\", \"title\": \"Number of Games\", \"type\": \"quantitative\"}}, \"height\": 300, \"title\": \"Distribution of ELO Rating Before Each Game\", \"width\": 550, \"$schema\": \"https://vega.github.io/schema/vega-lite/v5.6.1.json\", \"datasets\": {\"data-7501c18fe4e15f9c1b498990828d26c0\": [{\"team_pregame_elo_round\": 900.0, \"season\": 1}, {\"team_pregame_elo_round\": 1000.0, \"season\": 35}, {\"team_pregame_elo_round\": 1100.0, \"season\": 51}, {\"team_pregame_elo_round\": 1200.0, \"season\": 109}, {\"team_pregame_elo_round\": 1300.0, \"season\": 292}, {\"team_pregame_elo_round\": 1400.0, \"season\": 489}, {\"team_pregame_elo_round\": 1500.0, \"season\": 707}, {\"team_pregame_elo_round\": 1600.0, \"season\": 824}, {\"team_pregame_elo_round\": 1700.0, \"season\": 790}, {\"team_pregame_elo_round\": 1800.0, \"season\": 517}, {\"team_pregame_elo_round\": 1900.0, \"season\": 357}, {\"team_pregame_elo_round\": 2000.0, \"season\": 231}, {\"team_pregame_elo_round\": 2100.0, \"season\": 126}, {\"team_pregame_elo_round\": 2200.0, \"season\": 72}, {\"team_pregame_elo_round\": 2300.0, \"season\": 27}, {\"team_pregame_elo_round\": 2400.0, \"season\": 7}]}}, {\"mode\": \"vega-lite\"});\n",
       "</script>"
      ],
      "text/plain": [
       "alt.Chart(...)"
      ]
     },
     "execution_count": 5,
     "metadata": {},
     "output_type": "execute_result"
    }
   ],
   "source": [
    "# Distribution of rating dataset\n",
    "df_mid_season['team_pregame_elo_round'] = df_mid_season['team_pregame_elo'].round(decimals=-2)\n",
    "b = df_mid_season.groupby(by = 'team_pregame_elo_round').agg({'season': 'count'}).reset_index().rename({'season': 'count'})\n",
    "\n",
    "alt.Chart(b).mark_area(opacity = .8).encode(\n",
    "    alt.X('team_pregame_elo_round', title = 'Pre-game ELO Rating (Rounded to Nearest 100)'),\n",
    "    alt.Y('season', title = 'Number of Games'))\\\n",
    ".properties(title = 'Distribution of ELO Rating Before Each Game', height = 300, width = 550)"
   ]
  }
 ],
 "metadata": {
  "kernelspec": {
   "display_name": "Python 3",
   "language": "python",
   "name": "python3"
  },
  "language_info": {
   "codemirror_mode": {
    "name": "ipython",
    "version": 3
   },
   "file_extension": ".py",
   "mimetype": "text/x-python",
   "name": "python",
   "nbconvert_exporter": "python",
   "pygments_lexer": "ipython3",
   "version": "3.8.8"
  }
 },
 "nbformat": 4,
 "nbformat_minor": 5
}
