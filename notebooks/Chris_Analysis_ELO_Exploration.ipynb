{
 "cells": [
  {
   "cell_type": "markdown",
   "id": "974936ae-7ea5-439e-bcae-699515890e43",
   "metadata": {},
   "source": [
    "## SIADS Milestone I: CFB Analysis\n",
    "\n",
    "#### The goal of this notebook is to answer the following questions:\n",
    "\n",
    "1) How reliable is the ELO metric?\n",
    "2) Do teams need to build talented rosters through recruiting in order to compete for championships? (Chris) \n",
    "3) Where do the best recruits come from and where do they go to school? (both) \n",
    "4) Is the college recruit rating a good indicator for their NFL draft. (Chris) \n",
    " \n",
    "\n"
   ]
  },
  {
   "cell_type": "code",
   "execution_count": 13,
   "id": "1ce67680-7445-48f3-b1a3-6271e86d54c2",
   "metadata": {},
   "outputs": [],
   "source": [
    "# Uncomment and run line below if cfbd library isn't already installed\n",
    "#! pip install cfbd\n",
    "\n",
    "import cfbd\n",
    "import numpy as np\n",
    "import pandas as pd\n",
    "import altair as alt\n",
    "import cfbd\n",
    "\n",
    "pd.set_option('display.max_columns', None)\n",
    "# alt.renderers.enable(\"mimetype\")"
   ]
  },
  {
   "cell_type": "code",
   "execution_count": 2,
   "id": "ca874725-f41b-45ac-8d8d-38591b6acc81",
   "metadata": {},
   "outputs": [
    {
     "data": {
      "text/html": [
       "<div>\n",
       "<style scoped>\n",
       "    .dataframe tbody tr th:only-of-type {\n",
       "        vertical-align: middle;\n",
       "    }\n",
       "\n",
       "    .dataframe tbody tr th {\n",
       "        vertical-align: top;\n",
       "    }\n",
       "\n",
       "    .dataframe thead th {\n",
       "        text-align: right;\n",
       "    }\n",
       "</style>\n",
       "<table border=\"1\" class=\"dataframe\">\n",
       "  <thead>\n",
       "    <tr style=\"text-align: right;\">\n",
       "      <th></th>\n",
       "      <th>id</th>\n",
       "      <th>school</th>\n",
       "      <th>conference</th>\n",
       "      <th>division</th>\n",
       "      <th>color</th>\n",
       "      <th>logos</th>\n",
       "    </tr>\n",
       "  </thead>\n",
       "  <tbody>\n",
       "    <tr>\n",
       "      <th>0</th>\n",
       "      <td>2005</td>\n",
       "      <td>Air Force</td>\n",
       "      <td>Mountain West</td>\n",
       "      <td>Mountain</td>\n",
       "      <td>#004a7b</td>\n",
       "      <td>http://a.espncdn.com/i/teamlogos/ncaa/500/2005...</td>\n",
       "    </tr>\n",
       "    <tr>\n",
       "      <th>1</th>\n",
       "      <td>2006</td>\n",
       "      <td>Akron</td>\n",
       "      <td>Mid-American</td>\n",
       "      <td>East</td>\n",
       "      <td>#00285e</td>\n",
       "      <td>http://a.espncdn.com/i/teamlogos/ncaa/500/2006...</td>\n",
       "    </tr>\n",
       "    <tr>\n",
       "      <th>2</th>\n",
       "      <td>333</td>\n",
       "      <td>Alabama</td>\n",
       "      <td>SEC</td>\n",
       "      <td>West</td>\n",
       "      <td>#690014</td>\n",
       "      <td>http://a.espncdn.com/i/teamlogos/ncaa/500/333.png</td>\n",
       "    </tr>\n",
       "    <tr>\n",
       "      <th>3</th>\n",
       "      <td>2026</td>\n",
       "      <td>Appalachian State</td>\n",
       "      <td>Sun Belt</td>\n",
       "      <td>East</td>\n",
       "      <td>#000000</td>\n",
       "      <td>http://a.espncdn.com/i/teamlogos/ncaa/500/2026...</td>\n",
       "    </tr>\n",
       "    <tr>\n",
       "      <th>4</th>\n",
       "      <td>12</td>\n",
       "      <td>Arizona</td>\n",
       "      <td>Pac-12</td>\n",
       "      <td>None</td>\n",
       "      <td>#002449</td>\n",
       "      <td>http://a.espncdn.com/i/teamlogos/ncaa/500/12.png</td>\n",
       "    </tr>\n",
       "  </tbody>\n",
       "</table>\n",
       "</div>"
      ],
      "text/plain": [
       "     id             school     conference  division    color   \n",
       "0  2005          Air Force  Mountain West  Mountain  #004a7b  \\\n",
       "1  2006              Akron   Mid-American      East  #00285e   \n",
       "2   333            Alabama            SEC      West  #690014   \n",
       "3  2026  Appalachian State       Sun Belt      East  #000000   \n",
       "4    12            Arizona         Pac-12      None  #002449   \n",
       "\n",
       "                                               logos  \n",
       "0  http://a.espncdn.com/i/teamlogos/ncaa/500/2005...  \n",
       "1  http://a.espncdn.com/i/teamlogos/ncaa/500/2006...  \n",
       "2  http://a.espncdn.com/i/teamlogos/ncaa/500/333.png  \n",
       "3  http://a.espncdn.com/i/teamlogos/ncaa/500/2026...  \n",
       "4   http://a.espncdn.com/i/teamlogos/ncaa/500/12.png  "
      ]
     },
     "execution_count": 2,
     "metadata": {},
     "output_type": "execute_result"
    }
   ],
   "source": [
    "# Get the teams dataset straight form the api\n",
    "# The CSV version of the url was corrupted\n",
    "\n",
    "import config\n",
    "api_key = config.api_key\n",
    "\n",
    "def api_setup(api_key):\n",
    "\n",
    "    \"\"\"\n",
    "    Configure the api. \n",
    "    Only input is the apikey which can be created from the link above.\n",
    "    \"\"\"\n",
    "    import cfbd\n",
    "    \n",
    "    configuration = cfbd.Configuration()\n",
    "    configuration.api_key['Authorization'] = api_key\n",
    "    configuration.api_key_prefix['Authorization'] = 'Bearer'\n",
    "\n",
    "    return cfbd.ApiClient(configuration)\n",
    "    \n",
    "api_config = api_setup(api_key)\n",
    "\n",
    "def team_dataset():\n",
    "\n",
    "    teams_api = cfbd.TeamsApi(api_config)\n",
    "    teams = teams_api.get_fbs_teams()\n",
    "\n",
    "    df_teams = pd.DataFrame.from_records([t.to_dict() for t in teams])\n",
    "    df_teams\n",
    "    df_teams = df_teams[['id', 'school', 'conference', 'division', 'color', 'logos']]\n",
    "    \n",
    "    return df_teams\n",
    "\n",
    "df_teams = team_dataset()\n",
    "\n",
    "# Remove brackets around image url\n",
    "df_teams['logos'] = df_teams['logos'].str.get(0)\n",
    "\n",
    "df_teams.head()"
   ]
  },
  {
   "cell_type": "code",
   "execution_count": 3,
   "id": "a8fdbc75-2894-4a56-80d0-89005b58ed65",
   "metadata": {},
   "outputs": [
    {
     "name": "stderr",
     "output_type": "stream",
     "text": [
      "<ipython-input-3-d1ac218ed021>:1: DtypeWarning: Columns (7,15) have mixed types. Specify dtype option on import or set low_memory=False.\n",
      "  df = pd.read_csv('../data/games_manipulated.csv')\n"
     ]
    }
   ],
   "source": [
    "df = pd.read_csv('../data/games_manipulated.csv')\n",
    "\n",
    "# Filter to only the power 5 conference week 12\n",
    "power_5_conf = ['Pac-12', 'Big 12', 'ACC', 'SEC', 'Big Ten']\n",
    "df = df[df['team_conference'].isin(power_5_conf)]\n",
    "df = df[df['game_that_season'] == 12] # Final game of reg season\n",
    "\n",
    "# Bring in only necessarry columns\n",
    "df = df[['season', 'team_id', 'main_team', 'team_postgame_elo', 'team_conference']]"
   ]
  },
  {
   "cell_type": "code",
   "execution_count": 4,
   "id": "6c5fc61e-a472-434f-a96d-b68872091290",
   "metadata": {},
   "outputs": [],
   "source": [
    "final_df = pd.merge(left = df, right = df_teams, left_on = 'team_id', right_on = 'id')\n",
    "\n",
    "final_df = final_df[['season', 'team_conference', 'team_postgame_elo', 'main_team', 'logos']]"
   ]
  },
  {
   "cell_type": "code",
   "execution_count": 5,
   "id": "a24cf432-c358-4a49-b59c-84de0b282f8e",
   "metadata": {},
   "outputs": [
    {
     "data": {
      "application/vnd.vegalite.v5+json": {
       "$schema": "https://vega.github.io/schema/vega-lite/v5.6.1.json",
       "columns": 3,
       "config": {
        "view": {
         "continuousHeight": 300,
         "continuousWidth": 300
        }
       },
       "data": {
        "name": "data-9206635f14d5603d762efafe4200456e"
       },
       "datasets": {
        "data-9206635f14d5603d762efafe4200456e": [
         {
          "logos": "http://a.espncdn.com/i/teamlogos/ncaa/500/2579.png",
          "main_team": "South Carolina",
          "season": 2013,
          "team_conference": "SEC",
          "team_postgame_elo": 2024
         },
         {
          "logos": "http://a.espncdn.com/i/teamlogos/ncaa/500/2579.png",
          "main_team": "South Carolina",
          "season": 2015,
          "team_conference": "SEC",
          "team_postgame_elo": 1579
         },
         {
          "logos": "http://a.espncdn.com/i/teamlogos/ncaa/500/2579.png",
          "main_team": "South Carolina",
          "season": 2017,
          "team_conference": "SEC",
          "team_postgame_elo": 1572
         },
         {
          "logos": "http://a.espncdn.com/i/teamlogos/ncaa/500/2579.png",
          "main_team": "South Carolina",
          "season": 2018,
          "team_conference": "SEC",
          "team_postgame_elo": 1641
         },
         {
          "logos": "http://a.espncdn.com/i/teamlogos/ncaa/500/2579.png",
          "main_team": "South Carolina",
          "season": 2019,
          "team_conference": "SEC",
          "team_postgame_elo": 1497
         },
         {
          "logos": "http://a.espncdn.com/i/teamlogos/ncaa/500/2579.png",
          "main_team": "South Carolina",
          "season": 2021,
          "team_conference": "SEC",
          "team_postgame_elo": 1407
         },
         {
          "logos": "http://a.espncdn.com/i/teamlogos/ncaa/500/2579.png",
          "main_team": "South Carolina",
          "season": 2023,
          "team_conference": "SEC",
          "team_postgame_elo": 1594
         },
         {
          "logos": "http://a.espncdn.com/i/teamlogos/ncaa/500/2579.png",
          "main_team": "South Carolina",
          "season": 2014,
          "team_conference": "SEC",
          "team_postgame_elo": 1717
         },
         {
          "logos": "http://a.espncdn.com/i/teamlogos/ncaa/500/2579.png",
          "main_team": "South Carolina",
          "season": 2016,
          "team_conference": "SEC",
          "team_postgame_elo": 1417
         },
         {
          "logos": "http://a.espncdn.com/i/teamlogos/ncaa/500/2579.png",
          "main_team": "South Carolina",
          "season": 2022,
          "team_conference": "SEC",
          "team_postgame_elo": 1612
         },
         {
          "logos": "http://a.espncdn.com/i/teamlogos/ncaa/500/154.png",
          "main_team": "Wake Forest",
          "season": 2015,
          "team_conference": "ACC",
          "team_postgame_elo": 1309
         },
         {
          "logos": "http://a.espncdn.com/i/teamlogos/ncaa/500/154.png",
          "main_team": "Wake Forest",
          "season": 2016,
          "team_conference": "ACC",
          "team_postgame_elo": 1414
         },
         {
          "logos": "http://a.espncdn.com/i/teamlogos/ncaa/500/154.png",
          "main_team": "Wake Forest",
          "season": 2017,
          "team_conference": "ACC",
          "team_postgame_elo": 1635
         },
         {
          "logos": "http://a.espncdn.com/i/teamlogos/ncaa/500/154.png",
          "main_team": "Wake Forest",
          "season": 2013,
          "team_conference": "ACC",
          "team_postgame_elo": 1316
         },
         {
          "logos": "http://a.espncdn.com/i/teamlogos/ncaa/500/154.png",
          "main_team": "Wake Forest",
          "season": 2014,
          "team_conference": "ACC",
          "team_postgame_elo": 1237
         },
         {
          "logos": "http://a.espncdn.com/i/teamlogos/ncaa/500/154.png",
          "main_team": "Wake Forest",
          "season": 2018,
          "team_conference": "ACC",
          "team_postgame_elo": 1608
         },
         {
          "logos": "http://a.espncdn.com/i/teamlogos/ncaa/500/154.png",
          "main_team": "Wake Forest",
          "season": 2019,
          "team_conference": "ACC",
          "team_postgame_elo": 1517
         },
         {
          "logos": "http://a.espncdn.com/i/teamlogos/ncaa/500/154.png",
          "main_team": "Wake Forest",
          "season": 2021,
          "team_conference": "ACC",
          "team_postgame_elo": 1738
         },
         {
          "logos": "http://a.espncdn.com/i/teamlogos/ncaa/500/154.png",
          "main_team": "Wake Forest",
          "season": 2022,
          "team_conference": "ACC",
          "team_postgame_elo": 1663
         },
         {
          "logos": "http://a.espncdn.com/i/teamlogos/ncaa/500/154.png",
          "main_team": "Wake Forest",
          "season": 2023,
          "team_conference": "ACC",
          "team_postgame_elo": 1397
         },
         {
          "logos": "http://a.espncdn.com/i/teamlogos/ncaa/500/135.png",
          "main_team": "Minnesota",
          "season": 2015,
          "team_conference": "Big Ten",
          "team_postgame_elo": 1582
         },
         {
          "logos": "http://a.espncdn.com/i/teamlogos/ncaa/500/135.png",
          "main_team": "Minnesota",
          "season": 2017,
          "team_conference": "Big Ten",
          "team_postgame_elo": 1499
         },
         {
          "logos": "http://a.espncdn.com/i/teamlogos/ncaa/500/135.png",
          "main_team": "Minnesota",
          "season": 2019,
          "team_conference": "Big Ten",
          "team_postgame_elo": 1786
         },
         {
          "logos": "http://a.espncdn.com/i/teamlogos/ncaa/500/135.png",
          "main_team": "Minnesota",
          "season": 2021,
          "team_conference": "Big Ten",
          "team_postgame_elo": 1696
         },
         {
          "logos": "http://a.espncdn.com/i/teamlogos/ncaa/500/135.png",
          "main_team": "Minnesota",
          "season": 2023,
          "team_conference": "Big Ten",
          "team_postgame_elo": 1479
         },
         {
          "logos": "http://a.espncdn.com/i/teamlogos/ncaa/500/135.png",
          "main_team": "Minnesota",
          "season": 2013,
          "team_conference": "Big Ten",
          "team_postgame_elo": 1572
         },
         {
          "logos": "http://a.espncdn.com/i/teamlogos/ncaa/500/135.png",
          "main_team": "Minnesota",
          "season": 2014,
          "team_conference": "Big Ten",
          "team_postgame_elo": 1726
         },
         {
          "logos": "http://a.espncdn.com/i/teamlogos/ncaa/500/135.png",
          "main_team": "Minnesota",
          "season": 2016,
          "team_conference": "Big Ten",
          "team_postgame_elo": 1637
         },
         {
          "logos": "http://a.espncdn.com/i/teamlogos/ncaa/500/135.png",
          "main_team": "Minnesota",
          "season": 2018,
          "team_conference": "Big Ten",
          "team_postgame_elo": 1575
         },
         {
          "logos": "http://a.espncdn.com/i/teamlogos/ncaa/500/135.png",
          "main_team": "Minnesota",
          "season": 2022,
          "team_conference": "Big Ten",
          "team_postgame_elo": 1760
         },
         {
          "logos": "http://a.espncdn.com/i/teamlogos/ncaa/500/84.png",
          "main_team": "Indiana",
          "season": 2013,
          "team_conference": "Big Ten",
          "team_postgame_elo": 1450
         },
         {
          "logos": "http://a.espncdn.com/i/teamlogos/ncaa/500/84.png",
          "main_team": "Indiana",
          "season": 2014,
          "team_conference": "Big Ten",
          "team_postgame_elo": 1370
         },
         {
          "logos": "http://a.espncdn.com/i/teamlogos/ncaa/500/84.png",
          "main_team": "Indiana",
          "season": 2016,
          "team_conference": "Big Ten",
          "team_postgame_elo": 1513
         },
         {
          "logos": "http://a.espncdn.com/i/teamlogos/ncaa/500/84.png",
          "main_team": "Indiana",
          "season": 2018,
          "team_conference": "Big Ten",
          "team_postgame_elo": 1513
         },
         {
          "logos": "http://a.espncdn.com/i/teamlogos/ncaa/500/84.png",
          "main_team": "Indiana",
          "season": 2022,
          "team_conference": "Big Ten",
          "team_postgame_elo": 1332
         },
         {
          "logos": "http://a.espncdn.com/i/teamlogos/ncaa/500/84.png",
          "main_team": "Indiana",
          "season": 2015,
          "team_conference": "Big Ten",
          "team_postgame_elo": 1494
         },
         {
          "logos": "http://a.espncdn.com/i/teamlogos/ncaa/500/84.png",
          "main_team": "Indiana",
          "season": 2017,
          "team_conference": "Big Ten",
          "team_postgame_elo": 1588
         },
         {
          "logos": "http://a.espncdn.com/i/teamlogos/ncaa/500/84.png",
          "main_team": "Indiana",
          "season": 2019,
          "team_conference": "Big Ten",
          "team_postgame_elo": 1612
         },
         {
          "logos": "http://a.espncdn.com/i/teamlogos/ncaa/500/84.png",
          "main_team": "Indiana",
          "season": 2021,
          "team_conference": "Big Ten",
          "team_postgame_elo": 1245
         },
         {
          "logos": "http://a.espncdn.com/i/teamlogos/ncaa/500/84.png",
          "main_team": "Indiana",
          "season": 2023,
          "team_conference": "Big Ten",
          "team_postgame_elo": 1343
         },
         {
          "logos": "http://a.espncdn.com/i/teamlogos/ncaa/500/2116.png",
          "main_team": "UCF",
          "season": 2023,
          "team_conference": "Big 12",
          "team_postgame_elo": 1658
         },
         {
          "logos": "http://a.espncdn.com/i/teamlogos/ncaa/500/254.png",
          "main_team": "Utah",
          "season": 2013,
          "team_conference": "Pac-12",
          "team_postgame_elo": 1502
         },
         {
          "logos": "http://a.espncdn.com/i/teamlogos/ncaa/500/254.png",
          "main_team": "Utah",
          "season": 2015,
          "team_conference": "Pac-12",
          "team_postgame_elo": 1752
         },
         {
          "logos": "http://a.espncdn.com/i/teamlogos/ncaa/500/254.png",
          "main_team": "Utah",
          "season": 2017,
          "team_conference": "Pac-12",
          "team_postgame_elo": 1658
         },
         {
          "logos": "http://a.espncdn.com/i/teamlogos/ncaa/500/254.png",
          "main_team": "Utah",
          "season": 2018,
          "team_conference": "Pac-12",
          "team_postgame_elo": 1773
         },
         {
          "logos": "http://a.espncdn.com/i/teamlogos/ncaa/500/254.png",
          "main_team": "Utah",
          "season": 2019,
          "team_conference": "Pac-12",
          "team_postgame_elo": 2006
         },
         {
          "logos": "http://a.espncdn.com/i/teamlogos/ncaa/500/254.png",
          "main_team": "Utah",
          "season": 2021,
          "team_conference": "Pac-12",
          "team_postgame_elo": 1872
         },
         {
          "logos": "http://a.espncdn.com/i/teamlogos/ncaa/500/254.png",
          "main_team": "Utah",
          "season": 2023,
          "team_conference": "Pac-12",
          "team_postgame_elo": 1719
         },
         {
          "logos": "http://a.espncdn.com/i/teamlogos/ncaa/500/254.png",
          "main_team": "Utah",
          "season": 2014,
          "team_conference": "Pac-12",
          "team_postgame_elo": 1545
         },
         {
          "logos": "http://a.espncdn.com/i/teamlogos/ncaa/500/254.png",
          "main_team": "Utah",
          "season": 2016,
          "team_conference": "Pac-12",
          "team_postgame_elo": 1707
         },
         {
          "logos": "http://a.espncdn.com/i/teamlogos/ncaa/500/254.png",
          "main_team": "Utah",
          "season": 2022,
          "team_conference": "Pac-12",
          "team_postgame_elo": 1896
         },
         {
          "logos": "http://a.espncdn.com/i/teamlogos/ncaa/500/238.png",
          "main_team": "Vanderbilt",
          "season": 2013,
          "team_conference": "SEC",
          "team_postgame_elo": 1603
         },
         {
          "logos": "http://a.espncdn.com/i/teamlogos/ncaa/500/238.png",
          "main_team": "Vanderbilt",
          "season": 2014,
          "team_conference": "SEC",
          "team_postgame_elo": 1298
         },
         {
          "logos": "http://a.espncdn.com/i/teamlogos/ncaa/500/238.png",
          "main_team": "Vanderbilt",
          "season": 2016,
          "team_conference": "SEC",
          "team_postgame_elo": 1565
         },
         {
          "logos": "http://a.espncdn.com/i/teamlogos/ncaa/500/238.png",
          "main_team": "Vanderbilt",
          "season": 2018,
          "team_conference": "SEC",
          "team_postgame_elo": 1569
         },
         {
          "logos": "http://a.espncdn.com/i/teamlogos/ncaa/500/238.png",
          "main_team": "Vanderbilt",
          "season": 2022,
          "team_conference": "SEC",
          "team_postgame_elo": 1234
         },
         {
          "logos": "http://a.espncdn.com/i/teamlogos/ncaa/500/238.png",
          "main_team": "Vanderbilt",
          "season": 2015,
          "team_conference": "SEC",
          "team_postgame_elo": 1336
         },
         {
          "logos": "http://a.espncdn.com/i/teamlogos/ncaa/500/238.png",
          "main_team": "Vanderbilt",
          "season": 2017,
          "team_conference": "SEC",
          "team_postgame_elo": 1371
         },
         {
          "logos": "http://a.espncdn.com/i/teamlogos/ncaa/500/238.png",
          "main_team": "Vanderbilt",
          "season": 2019,
          "team_conference": "SEC",
          "team_postgame_elo": 1183
         },
         {
          "logos": "http://a.espncdn.com/i/teamlogos/ncaa/500/238.png",
          "main_team": "Vanderbilt",
          "season": 2021,
          "team_conference": "SEC",
          "team_postgame_elo": 1084
         },
         {
          "logos": "http://a.espncdn.com/i/teamlogos/ncaa/500/238.png",
          "main_team": "Vanderbilt",
          "season": 2023,
          "team_conference": "SEC",
          "team_postgame_elo": 1176
         },
         {
          "logos": "http://a.espncdn.com/i/teamlogos/ncaa/500/2390.png",
          "main_team": "Miami",
          "season": 2014,
          "team_conference": "ACC",
          "team_postgame_elo": 1636
         },
         {
          "logos": "http://a.espncdn.com/i/teamlogos/ncaa/500/2390.png",
          "main_team": "Miami",
          "season": 2016,
          "team_conference": "ACC",
          "team_postgame_elo": 1749
         },
         {
          "logos": "http://a.espncdn.com/i/teamlogos/ncaa/500/2390.png",
          "main_team": "Miami",
          "season": 2018,
          "team_conference": "ACC",
          "team_postgame_elo": 1782
         },
         {
          "logos": "http://a.espncdn.com/i/teamlogos/ncaa/500/2390.png",
          "main_team": "Miami",
          "season": 2022,
          "team_conference": "ACC",
          "team_postgame_elo": 1316
         },
         {
          "logos": "http://a.espncdn.com/i/teamlogos/ncaa/500/2390.png",
          "main_team": "Miami",
          "season": 2013,
          "team_conference": "ACC",
          "team_postgame_elo": 1602
         },
         {
          "logos": "http://a.espncdn.com/i/teamlogos/ncaa/500/2390.png",
          "main_team": "Miami",
          "season": 2015,
          "team_conference": "ACC",
          "team_postgame_elo": 1508
         },
         {
          "logos": "http://a.espncdn.com/i/teamlogos/ncaa/500/2390.png",
          "main_team": "Miami",
          "season": 2017,
          "team_conference": "ACC",
          "team_postgame_elo": 1796
         },
         {
          "logos": "http://a.espncdn.com/i/teamlogos/ncaa/500/2390.png",
          "main_team": "Miami",
          "season": 2019,
          "team_conference": "ACC",
          "team_postgame_elo": 1571
         },
         {
          "logos": "http://a.espncdn.com/i/teamlogos/ncaa/500/2390.png",
          "main_team": "Miami",
          "season": 2021,
          "team_conference": "ACC",
          "team_postgame_elo": 1606
         },
         {
          "logos": "http://a.espncdn.com/i/teamlogos/ncaa/500/2390.png",
          "main_team": "Miami",
          "season": 2023,
          "team_conference": "ACC",
          "team_postgame_elo": 1600
         },
         {
          "logos": "http://a.espncdn.com/i/teamlogos/ncaa/500/127.png",
          "main_team": "Michigan State",
          "season": 2013,
          "team_conference": "Big Ten",
          "team_postgame_elo": 1890
         },
         {
          "logos": "http://a.espncdn.com/i/teamlogos/ncaa/500/127.png",
          "main_team": "Michigan State",
          "season": 2015,
          "team_conference": "Big Ten",
          "team_postgame_elo": 1952
         },
         {
          "logos": "http://a.espncdn.com/i/teamlogos/ncaa/500/127.png",
          "main_team": "Michigan State",
          "season": 2018,
          "team_conference": "Big Ten",
          "team_postgame_elo": 1676
         },
         {
          "logos": "http://a.espncdn.com/i/teamlogos/ncaa/500/127.png",
          "main_team": "Michigan State",
          "season": 2019,
          "team_conference": "Big Ten",
          "team_postgame_elo": 1575
         },
         {
          "logos": "http://a.espncdn.com/i/teamlogos/ncaa/500/127.png",
          "main_team": "Michigan State",
          "season": 2021,
          "team_conference": "Big Ten",
          "team_postgame_elo": 1549
         },
         {
          "logos": "http://a.espncdn.com/i/teamlogos/ncaa/500/127.png",
          "main_team": "Michigan State",
          "season": 2023,
          "team_conference": "Big Ten",
          "team_postgame_elo": 1338
         },
         {
          "logos": "http://a.espncdn.com/i/teamlogos/ncaa/500/127.png",
          "main_team": "Michigan State",
          "season": 2014,
          "team_conference": "Big Ten",
          "team_postgame_elo": 2025
         },
         {
          "logos": "http://a.espncdn.com/i/teamlogos/ncaa/500/127.png",
          "main_team": "Michigan State",
          "season": 2016,
          "team_conference": "Big Ten",
          "team_postgame_elo": 1608
         },
         {
          "logos": "http://a.espncdn.com/i/teamlogos/ncaa/500/127.png",
          "main_team": "Michigan State",
          "season": 2017,
          "team_conference": "Big Ten",
          "team_postgame_elo": 1606
         },
         {
          "logos": "http://a.espncdn.com/i/teamlogos/ncaa/500/127.png",
          "main_team": "Michigan State",
          "season": 2022,
          "team_conference": "Big Ten",
          "team_postgame_elo": 1550
         },
         {
          "logos": "http://a.espncdn.com/i/teamlogos/ncaa/500/248.png",
          "main_team": "Houston",
          "season": 2023,
          "team_conference": "Big 12",
          "team_postgame_elo": 1421
         },
         {
          "logos": "http://a.espncdn.com/i/teamlogos/ncaa/500/2306.png",
          "main_team": "Kansas State",
          "season": 2015,
          "team_conference": "Big 12",
          "team_postgame_elo": 1564
         },
         {
          "logos": "http://a.espncdn.com/i/teamlogos/ncaa/500/2306.png",
          "main_team": "Kansas State",
          "season": 2017,
          "team_conference": "Big 12",
          "team_postgame_elo": 1678
         },
         {
          "logos": "http://a.espncdn.com/i/teamlogos/ncaa/500/2306.png",
          "main_team": "Kansas State",
          "season": 2019,
          "team_conference": "Big 12",
          "team_postgame_elo": 1699
         },
         {
          "logos": "http://a.espncdn.com/i/teamlogos/ncaa/500/2306.png",
          "main_team": "Kansas State",
          "season": 2022,
          "team_conference": "Big 12",
          "team_postgame_elo": 1892
         },
         {
          "logos": "http://a.espncdn.com/i/teamlogos/ncaa/500/2306.png",
          "main_team": "Kansas State",
          "season": 2023,
          "team_conference": "Big 12",
          "team_postgame_elo": 1942
         },
         {
          "logos": "http://a.espncdn.com/i/teamlogos/ncaa/500/2306.png",
          "main_team": "Kansas State",
          "season": 2013,
          "team_conference": "Big 12",
          "team_postgame_elo": 1821
         },
         {
          "logos": "http://a.espncdn.com/i/teamlogos/ncaa/500/2306.png",
          "main_team": "Kansas State",
          "season": 2014,
          "team_conference": "Big 12",
          "team_postgame_elo": 1891
         },
         {
          "logos": "http://a.espncdn.com/i/teamlogos/ncaa/500/2306.png",
          "main_team": "Kansas State",
          "season": 2016,
          "team_conference": "Big 12",
          "team_postgame_elo": 1744
         },
         {
          "logos": "http://a.espncdn.com/i/teamlogos/ncaa/500/2306.png",
          "main_team": "Kansas State",
          "season": 2018,
          "team_conference": "Big 12",
          "team_postgame_elo": 1593
         },
         {
          "logos": "http://a.espncdn.com/i/teamlogos/ncaa/500/2306.png",
          "main_team": "Kansas State",
          "season": 2021,
          "team_conference": "Big 12",
          "team_postgame_elo": 1613
         },
         {
          "logos": "http://a.espncdn.com/i/teamlogos/ncaa/500/12.png",
          "main_team": "Arizona",
          "season": 2014,
          "team_conference": "Pac-12",
          "team_postgame_elo": 1814
         },
         {
          "logos": "http://a.espncdn.com/i/teamlogos/ncaa/500/12.png",
          "main_team": "Arizona",
          "season": 2016,
          "team_conference": "Pac-12",
          "team_postgame_elo": 1243
         },
         {
          "logos": "http://a.espncdn.com/i/teamlogos/ncaa/500/12.png",
          "main_team": "Arizona",
          "season": 2018,
          "team_conference": "Pac-12",
          "team_postgame_elo": 1451
         },
         {
          "logos": "http://a.espncdn.com/i/teamlogos/ncaa/500/12.png",
          "main_team": "Arizona",
          "season": 2022,
          "team_conference": "Pac-12",
          "team_postgame_elo": 1374
         },
         {
          "logos": "http://a.espncdn.com/i/teamlogos/ncaa/500/12.png",
          "main_team": "Arizona",
          "season": 2013,
          "team_conference": "Pac-12",
          "team_postgame_elo": 1620
         },
         {
          "logos": "http://a.espncdn.com/i/teamlogos/ncaa/500/12.png",
          "main_team": "Arizona",
          "season": 2015,
          "team_conference": "Pac-12",
          "team_postgame_elo": 1495
         },
         {
          "logos": "http://a.espncdn.com/i/teamlogos/ncaa/500/12.png",
          "main_team": "Arizona",
          "season": 2017,
          "team_conference": "Pac-12",
          "team_postgame_elo": 1523
         },
         {
          "logos": "http://a.espncdn.com/i/teamlogos/ncaa/500/12.png",
          "main_team": "Arizona",
          "season": 2019,
          "team_conference": "Pac-12",
          "team_postgame_elo": 1331
         },
         {
          "logos": "http://a.espncdn.com/i/teamlogos/ncaa/500/12.png",
          "main_team": "Arizona",
          "season": 2021,
          "team_conference": "Pac-12",
          "team_postgame_elo": 1209
         },
         {
          "logos": "http://a.espncdn.com/i/teamlogos/ncaa/500/12.png",
          "main_team": "Arizona",
          "season": 2023,
          "team_conference": "Pac-12",
          "team_postgame_elo": 1778
         },
         {
          "logos": "http://a.espncdn.com/i/teamlogos/ncaa/500/277.png",
          "main_team": "West Virginia",
          "season": 2013,
          "team_conference": "Big 12",
          "team_postgame_elo": 1427
         },
         {
          "logos": "http://a.espncdn.com/i/teamlogos/ncaa/500/277.png",
          "main_team": "West Virginia",
          "season": 2016,
          "team_conference": "Big 12",
          "team_postgame_elo": 1776
         },
         {
          "logos": "http://a.espncdn.com/i/teamlogos/ncaa/500/277.png",
          "main_team": "West Virginia",
          "season": 2014,
          "team_conference": "Big 12",
          "team_postgame_elo": 1642
         },
         {
          "logos": "http://a.espncdn.com/i/teamlogos/ncaa/500/277.png",
          "main_team": "West Virginia",
          "season": 2015,
          "team_conference": "Big 12",
          "team_postgame_elo": 1767
         },
         {
          "logos": "http://a.espncdn.com/i/teamlogos/ncaa/500/277.png",
          "main_team": "West Virginia",
          "season": 2017,
          "team_conference": "Big 12",
          "team_postgame_elo": 1630
         },
         {
          "logos": "http://a.espncdn.com/i/teamlogos/ncaa/500/277.png",
          "main_team": "West Virginia",
          "season": 2019,
          "team_conference": "Big 12",
          "team_postgame_elo": 1510
         },
         {
          "logos": "http://a.espncdn.com/i/teamlogos/ncaa/500/277.png",
          "main_team": "West Virginia",
          "season": 2021,
          "team_conference": "Big 12",
          "team_postgame_elo": 1498
         },
         {
          "logos": "http://a.espncdn.com/i/teamlogos/ncaa/500/277.png",
          "main_team": "West Virginia",
          "season": 2022,
          "team_conference": "Big 12",
          "team_postgame_elo": 1408
         },
         {
          "logos": "http://a.espncdn.com/i/teamlogos/ncaa/500/277.png",
          "main_team": "West Virginia",
          "season": 2023,
          "team_conference": "Big 12",
          "team_postgame_elo": 1546
         },
         {
          "logos": "http://a.espncdn.com/i/teamlogos/ncaa/500/277.png",
          "main_team": "West Virginia",
          "season": 2018,
          "team_conference": "Big 12",
          "team_postgame_elo": 1788
         },
         {
          "logos": "http://a.espncdn.com/i/teamlogos/ncaa/500/194.png",
          "main_team": "Ohio State",
          "season": 2014,
          "team_conference": "Big Ten",
          "team_postgame_elo": 2027
         },
         {
          "logos": "http://a.espncdn.com/i/teamlogos/ncaa/500/194.png",
          "main_team": "Ohio State",
          "season": 2016,
          "team_conference": "Big Ten",
          "team_postgame_elo": 2328
         },
         {
          "logos": "http://a.espncdn.com/i/teamlogos/ncaa/500/194.png",
          "main_team": "Ohio State",
          "season": 2018,
          "team_conference": "Big Ten",
          "team_postgame_elo": 1995
         },
         {
          "logos": "http://a.espncdn.com/i/teamlogos/ncaa/500/194.png",
          "main_team": "Ohio State",
          "season": 2022,
          "team_conference": "Big Ten",
          "team_postgame_elo": 2108
         },
         {
          "logos": "http://a.espncdn.com/i/teamlogos/ncaa/500/194.png",
          "main_team": "Ohio State",
          "season": 2013,
          "team_conference": "Big Ten",
          "team_postgame_elo": 2042
         },
         {
          "logos": "http://a.espncdn.com/i/teamlogos/ncaa/500/194.png",
          "main_team": "Ohio State",
          "season": 2015,
          "team_conference": "Big Ten",
          "team_postgame_elo": 2107
         },
         {
          "logos": "http://a.espncdn.com/i/teamlogos/ncaa/500/194.png",
          "main_team": "Ohio State",
          "season": 2017,
          "team_conference": "Big Ten",
          "team_postgame_elo": 2103
         },
         {
          "logos": "http://a.espncdn.com/i/teamlogos/ncaa/500/194.png",
          "main_team": "Ohio State",
          "season": 2019,
          "team_conference": "Big Ten",
          "team_postgame_elo": 2381
         },
         {
          "logos": "http://a.espncdn.com/i/teamlogos/ncaa/500/194.png",
          "main_team": "Ohio State",
          "season": 2021,
          "team_conference": "Big Ten",
          "team_postgame_elo": 2153
         },
         {
          "logos": "http://a.espncdn.com/i/teamlogos/ncaa/500/194.png",
          "main_team": "Ohio State",
          "season": 2023,
          "team_conference": "Big Ten",
          "team_postgame_elo": 2108
         },
         {
          "logos": "http://a.espncdn.com/i/teamlogos/ncaa/500/275.png",
          "main_team": "Wisconsin",
          "season": 2013,
          "team_conference": "Big Ten",
          "team_postgame_elo": 1988
         },
         {
          "logos": "http://a.espncdn.com/i/teamlogos/ncaa/500/275.png",
          "main_team": "Wisconsin",
          "season": 2014,
          "team_conference": "Big Ten",
          "team_postgame_elo": 2045
         },
         {
          "logos": "http://a.espncdn.com/i/teamlogos/ncaa/500/275.png",
          "main_team": "Wisconsin",
          "season": 2016,
          "team_conference": "Big Ten",
          "team_postgame_elo": 1925
         },
         {
          "logos": "http://a.espncdn.com/i/teamlogos/ncaa/500/275.png",
          "main_team": "Wisconsin",
          "season": 2018,
          "team_conference": "Big Ten",
          "team_postgame_elo": 1649
         },
         {
          "logos": "http://a.espncdn.com/i/teamlogos/ncaa/500/275.png",
          "main_team": "Wisconsin",
          "season": 2022,
          "team_conference": "Big Ten",
          "team_postgame_elo": 1710
         },
         {
          "logos": "http://a.espncdn.com/i/teamlogos/ncaa/500/275.png",
          "main_team": "Wisconsin",
          "season": 2015,
          "team_conference": "Big Ten",
          "team_postgame_elo": 1796
         },
         {
          "logos": "http://a.espncdn.com/i/teamlogos/ncaa/500/275.png",
          "main_team": "Wisconsin",
          "season": 2017,
          "team_conference": "Big Ten",
          "team_postgame_elo": 2027
         },
         {
          "logos": "http://a.espncdn.com/i/teamlogos/ncaa/500/275.png",
          "main_team": "Wisconsin",
          "season": 2019,
          "team_conference": "Big Ten",
          "team_postgame_elo": 2012
         },
         {
          "logos": "http://a.espncdn.com/i/teamlogos/ncaa/500/275.png",
          "main_team": "Wisconsin",
          "season": 2021,
          "team_conference": "Big Ten",
          "team_postgame_elo": 1870
         },
         {
          "logos": "http://a.espncdn.com/i/teamlogos/ncaa/500/275.png",
          "main_team": "Wisconsin",
          "season": 2023,
          "team_conference": "Big Ten",
          "team_postgame_elo": 1621
         },
         {
          "logos": "http://a.espncdn.com/i/teamlogos/ncaa/500/2132.png",
          "main_team": "Cincinnati",
          "season": 2023,
          "team_conference": "Big 12",
          "team_postgame_elo": 1342
         },
         {
          "logos": "http://a.espncdn.com/i/teamlogos/ncaa/500/103.png",
          "main_team": "Boston College",
          "season": 2014,
          "team_conference": "ACC",
          "team_postgame_elo": 1547
         },
         {
          "logos": "http://a.espncdn.com/i/teamlogos/ncaa/500/103.png",
          "main_team": "Boston College",
          "season": 2018,
          "team_conference": "ACC",
          "team_postgame_elo": 1636
         },
         {
          "logos": "http://a.espncdn.com/i/teamlogos/ncaa/500/103.png",
          "main_team": "Boston College",
          "season": 2021,
          "team_conference": "ACC",
          "team_postgame_elo": 1415
         },
         {
          "logos": "http://a.espncdn.com/i/teamlogos/ncaa/500/103.png",
          "main_team": "Boston College",
          "season": 2022,
          "team_conference": "ACC",
          "team_postgame_elo": 1222
         },
         {
          "logos": "http://a.espncdn.com/i/teamlogos/ncaa/500/103.png",
          "main_team": "Boston College",
          "season": 2023,
          "team_conference": "ACC",
          "team_postgame_elo": 1269
         },
         {
          "logos": "http://a.espncdn.com/i/teamlogos/ncaa/500/103.png",
          "main_team": "Boston College",
          "season": 2013,
          "team_conference": "ACC",
          "team_postgame_elo": 1441
         },
         {
          "logos": "http://a.espncdn.com/i/teamlogos/ncaa/500/103.png",
          "main_team": "Boston College",
          "season": 2015,
          "team_conference": "ACC",
          "team_postgame_elo": 1468
         },
         {
          "logos": "http://a.espncdn.com/i/teamlogos/ncaa/500/103.png",
          "main_team": "Boston College",
          "season": 2016,
          "team_conference": "ACC",
          "team_postgame_elo": 1356
         },
         {
          "logos": "http://a.espncdn.com/i/teamlogos/ncaa/500/103.png",
          "main_team": "Boston College",
          "season": 2017,
          "team_conference": "ACC",
          "team_postgame_elo": 1662
         },
         {
          "logos": "http://a.espncdn.com/i/teamlogos/ncaa/500/103.png",
          "main_team": "Boston College",
          "season": 2019,
          "team_conference": "ACC",
          "team_postgame_elo": 1523
         },
         {
          "logos": "http://a.espncdn.com/i/teamlogos/ncaa/500/356.png",
          "main_team": "Illinois",
          "season": 2013,
          "team_conference": "Big Ten",
          "team_postgame_elo": 1347
         },
         {
          "logos": "http://a.espncdn.com/i/teamlogos/ncaa/500/356.png",
          "main_team": "Illinois",
          "season": 2015,
          "team_conference": "Big Ten",
          "team_postgame_elo": 1437
         },
         {
          "logos": "http://a.espncdn.com/i/teamlogos/ncaa/500/356.png",
          "main_team": "Illinois",
          "season": 2017,
          "team_conference": "Big Ten",
          "team_postgame_elo": 1208
         },
         {
          "logos": "http://a.espncdn.com/i/teamlogos/ncaa/500/356.png",
          "main_team": "Illinois",
          "season": 2019,
          "team_conference": "Big Ten",
          "team_postgame_elo": 1436
         },
         {
          "logos": "http://a.espncdn.com/i/teamlogos/ncaa/500/356.png",
          "main_team": "Illinois",
          "season": 2021,
          "team_conference": "Big Ten",
          "team_postgame_elo": 1495
         },
         {
          "logos": "http://a.espncdn.com/i/teamlogos/ncaa/500/356.png",
          "main_team": "Illinois",
          "season": 2023,
          "team_conference": "Big Ten",
          "team_postgame_elo": 1504
         },
         {
          "logos": "http://a.espncdn.com/i/teamlogos/ncaa/500/356.png",
          "main_team": "Illinois",
          "season": 2014,
          "team_conference": "Big Ten",
          "team_postgame_elo": 1364
         },
         {
          "logos": "http://a.espncdn.com/i/teamlogos/ncaa/500/356.png",
          "main_team": "Illinois",
          "season": 2016,
          "team_conference": "Big Ten",
          "team_postgame_elo": 1226
         },
         {
          "logos": "http://a.espncdn.com/i/teamlogos/ncaa/500/356.png",
          "main_team": "Illinois",
          "season": 2018,
          "team_conference": "Big Ten",
          "team_postgame_elo": 1144
         },
         {
          "logos": "http://a.espncdn.com/i/teamlogos/ncaa/500/356.png",
          "main_team": "Illinois",
          "season": 2022,
          "team_conference": "Big Ten",
          "team_postgame_elo": 1768
         },
         {
          "logos": "http://a.espncdn.com/i/teamlogos/ncaa/500/59.png",
          "main_team": "Georgia Tech",
          "season": 2013,
          "team_conference": "ACC",
          "team_postgame_elo": 1710
         },
         {
          "logos": "http://a.espncdn.com/i/teamlogos/ncaa/500/59.png",
          "main_team": "Georgia Tech",
          "season": 2015,
          "team_conference": "ACC",
          "team_postgame_elo": 1632
         },
         {
          "logos": "http://a.espncdn.com/i/teamlogos/ncaa/500/59.png",
          "main_team": "Georgia Tech",
          "season": 2019,
          "team_conference": "ACC",
          "team_postgame_elo": 1262
         },
         {
          "logos": "http://a.espncdn.com/i/teamlogos/ncaa/500/59.png",
          "main_team": "Georgia Tech",
          "season": 2021,
          "team_conference": "ACC",
          "team_postgame_elo": 1270
         },
         {
          "logos": "http://a.espncdn.com/i/teamlogos/ncaa/500/59.png",
          "main_team": "Georgia Tech",
          "season": 2023,
          "team_conference": "ACC",
          "team_postgame_elo": 1455
         },
         {
          "logos": "http://a.espncdn.com/i/teamlogos/ncaa/500/59.png",
          "main_team": "Georgia Tech",
          "season": 2014,
          "team_conference": "ACC",
          "team_postgame_elo": 1872
         },
         {
          "logos": "http://a.espncdn.com/i/teamlogos/ncaa/500/59.png",
          "main_team": "Georgia Tech",
          "season": 2016,
          "team_conference": "ACC",
          "team_postgame_elo": 1617
         },
         {
          "logos": "http://a.espncdn.com/i/teamlogos/ncaa/500/59.png",
          "main_team": "Georgia Tech",
          "season": 2018,
          "team_conference": "ACC",
          "team_postgame_elo": 1673
         },
         {
          "logos": "http://a.espncdn.com/i/teamlogos/ncaa/500/59.png",
          "main_team": "Georgia Tech",
          "season": 2022,
          "team_conference": "ACC",
          "team_postgame_elo": 1272
         },
         {
          "logos": "http://a.espncdn.com/i/teamlogos/ncaa/500/57.png",
          "main_team": "Florida",
          "season": 2013,
          "team_conference": "SEC",
          "team_postgame_elo": 1646
         },
         {
          "logos": "http://a.espncdn.com/i/teamlogos/ncaa/500/57.png",
          "main_team": "Florida",
          "season": 2015,
          "team_conference": "SEC",
          "team_postgame_elo": 1797
         },
         {
          "logos": "http://a.espncdn.com/i/teamlogos/ncaa/500/57.png",
          "main_team": "Florida",
          "season": 2016,
          "team_conference": "SEC",
          "team_postgame_elo": 1675
         },
         {
          "logos": "http://a.espncdn.com/i/teamlogos/ncaa/500/57.png",
          "main_team": "Florida",
          "season": 2019,
          "team_conference": "SEC",
          "team_postgame_elo": 1926
         },
         {
          "logos": "http://a.espncdn.com/i/teamlogos/ncaa/500/57.png",
          "main_team": "Florida",
          "season": 2021,
          "team_conference": "SEC",
          "team_postgame_elo": 1633
         },
         {
          "logos": "http://a.espncdn.com/i/teamlogos/ncaa/500/57.png",
          "main_team": "Florida",
          "season": 2023,
          "team_conference": "SEC",
          "team_postgame_elo": 1594
         },
         {
          "logos": "http://a.espncdn.com/i/teamlogos/ncaa/500/57.png",
          "main_team": "Florida",
          "season": 2014,
          "team_conference": "SEC",
          "team_postgame_elo": 1741
         },
         {
          "logos": "http://a.espncdn.com/i/teamlogos/ncaa/500/57.png",
          "main_team": "Florida",
          "season": 2018,
          "team_conference": "SEC",
          "team_postgame_elo": 1675
         },
         {
          "logos": "http://a.espncdn.com/i/teamlogos/ncaa/500/57.png",
          "main_team": "Florida",
          "season": 2022,
          "team_conference": "SEC",
          "team_postgame_elo": 1650
         },
         {
          "logos": "http://a.espncdn.com/i/teamlogos/ncaa/500/57.png",
          "main_team": "Florida",
          "season": 2020,
          "team_conference": "SEC",
          "team_postgame_elo": 1800
         },
         {
          "logos": "http://a.espncdn.com/i/teamlogos/ncaa/500/120.png",
          "main_team": "Maryland",
          "season": 2014,
          "team_conference": "Big Ten",
          "team_postgame_elo": 1527
         },
         {
          "logos": "http://a.espncdn.com/i/teamlogos/ncaa/500/120.png",
          "main_team": "Maryland",
          "season": 2016,
          "team_conference": "Big Ten",
          "team_postgame_elo": 1315
         },
         {
          "logos": "http://a.espncdn.com/i/teamlogos/ncaa/500/120.png",
          "main_team": "Maryland",
          "season": 2017,
          "team_conference": "Big Ten",
          "team_postgame_elo": 1203
         },
         {
          "logos": "http://a.espncdn.com/i/teamlogos/ncaa/500/120.png",
          "main_team": "Maryland",
          "season": 2022,
          "team_conference": "Big Ten",
          "team_postgame_elo": 1646
         },
         {
          "logos": "http://a.espncdn.com/i/teamlogos/ncaa/500/120.png",
          "main_team": "Maryland",
          "season": 2013,
          "team_conference": "ACC",
          "team_postgame_elo": 1476
         },
         {
          "logos": "http://a.espncdn.com/i/teamlogos/ncaa/500/120.png",
          "main_team": "Maryland",
          "season": 2015,
          "team_conference": "Big Ten",
          "team_postgame_elo": 1348
         },
         {
          "logos": "http://a.espncdn.com/i/teamlogos/ncaa/500/120.png",
          "main_team": "Maryland",
          "season": 2018,
          "team_conference": "Big Ten",
          "team_postgame_elo": 1452
         },
         {
          "logos": "http://a.espncdn.com/i/teamlogos/ncaa/500/120.png",
          "main_team": "Maryland",
          "season": 2019,
          "team_conference": "Big Ten",
          "team_postgame_elo": 1185
         },
         {
          "logos": "http://a.espncdn.com/i/teamlogos/ncaa/500/120.png",
          "main_team": "Maryland",
          "season": 2021,
          "team_conference": "Big Ten",
          "team_postgame_elo": 1339
         },
         {
          "logos": "http://a.espncdn.com/i/teamlogos/ncaa/500/120.png",
          "main_team": "Maryland",
          "season": 2023,
          "team_conference": "Big Ten",
          "team_postgame_elo": 1649
         },
         {
          "logos": "http://a.espncdn.com/i/teamlogos/ncaa/500/152.png",
          "main_team": "NC State",
          "season": 2013,
          "team_conference": "ACC",
          "team_postgame_elo": 1367
         },
         {
          "logos": "http://a.espncdn.com/i/teamlogos/ncaa/500/152.png",
          "main_team": "NC State",
          "season": 2015,
          "team_conference": "ACC",
          "team_postgame_elo": 1659
         },
         {
          "logos": "http://a.espncdn.com/i/teamlogos/ncaa/500/152.png",
          "main_team": "NC State",
          "season": 2017,
          "team_conference": "ACC",
          "team_postgame_elo": 1667
         },
         {
          "logos": "http://a.espncdn.com/i/teamlogos/ncaa/500/152.png",
          "main_team": "NC State",
          "season": 2018,
          "team_conference": "ACC",
          "team_postgame_elo": 1802
         },
         {
          "logos": "http://a.espncdn.com/i/teamlogos/ncaa/500/152.png",
          "main_team": "NC State",
          "season": 2019,
          "team_conference": "ACC",
          "team_postgame_elo": 1270
         },
         {
          "logos": "http://a.espncdn.com/i/teamlogos/ncaa/500/152.png",
          "main_team": "NC State",
          "season": 2021,
          "team_conference": "ACC",
          "team_postgame_elo": 1699
         },
         {
          "logos": "http://a.espncdn.com/i/teamlogos/ncaa/500/152.png",
          "main_team": "NC State",
          "season": 2023,
          "team_conference": "ACC",
          "team_postgame_elo": 1660
         },
         {
          "logos": "http://a.espncdn.com/i/teamlogos/ncaa/500/152.png",
          "main_team": "NC State",
          "season": 2014,
          "team_conference": "ACC",
          "team_postgame_elo": 1545
         },
         {
          "logos": "http://a.espncdn.com/i/teamlogos/ncaa/500/152.png",
          "main_team": "NC State",
          "season": 2016,
          "team_conference": "ACC",
          "team_postgame_elo": 1569
         },
         {
          "logos": "http://a.espncdn.com/i/teamlogos/ncaa/500/152.png",
          "main_team": "NC State",
          "season": 2022,
          "team_conference": "ACC",
          "team_postgame_elo": 1585
         },
         {
          "logos": "http://a.espncdn.com/i/teamlogos/ncaa/500/152.png",
          "main_team": "NC State",
          "season": 2020,
          "team_conference": "ACC",
          "team_postgame_elo": 1440
         },
         {
          "logos": "http://a.espncdn.com/i/teamlogos/ncaa/500/245.png",
          "main_team": "Texas A&M",
          "season": 2014,
          "team_conference": "SEC",
          "team_postgame_elo": 1685
         },
         {
          "logos": "http://a.espncdn.com/i/teamlogos/ncaa/500/245.png",
          "main_team": "Texas A&M",
          "season": 2016,
          "team_conference": "SEC",
          "team_postgame_elo": 1737
         },
         {
          "logos": "http://a.espncdn.com/i/teamlogos/ncaa/500/245.png",
          "main_team": "Texas A&M",
          "season": 2018,
          "team_conference": "SEC",
          "team_postgame_elo": 1724
         },
         {
          "logos": "http://a.espncdn.com/i/teamlogos/ncaa/500/245.png",
          "main_team": "Texas A&M",
          "season": 2022,
          "team_conference": "SEC",
          "team_postgame_elo": 1629
         },
         {
          "logos": "http://a.espncdn.com/i/teamlogos/ncaa/500/245.png",
          "main_team": "Texas A&M",
          "season": 2013,
          "team_conference": "SEC",
          "team_postgame_elo": 1906
         },
         {
          "logos": "http://a.espncdn.com/i/teamlogos/ncaa/500/245.png",
          "main_team": "Texas A&M",
          "season": 2015,
          "team_conference": "SEC",
          "team_postgame_elo": 1690
         },
         {
          "logos": "http://a.espncdn.com/i/teamlogos/ncaa/500/245.png",
          "main_team": "Texas A&M",
          "season": 2017,
          "team_conference": "SEC",
          "team_postgame_elo": 1665
         },
         {
          "logos": "http://a.espncdn.com/i/teamlogos/ncaa/500/245.png",
          "main_team": "Texas A&M",
          "season": 2019,
          "team_conference": "SEC",
          "team_postgame_elo": 1718
         },
         {
          "logos": "http://a.espncdn.com/i/teamlogos/ncaa/500/245.png",
          "main_team": "Texas A&M",
          "season": 2021,
          "team_conference": "SEC",
          "team_postgame_elo": 1813
         },
         {
          "logos": "http://a.espncdn.com/i/teamlogos/ncaa/500/245.png",
          "main_team": "Texas A&M",
          "season": 2023,
          "team_conference": "SEC",
          "team_postgame_elo": 1817
         },
         {
          "logos": "http://a.espncdn.com/i/teamlogos/ncaa/500/130.png",
          "main_team": "Michigan",
          "season": 2013,
          "team_conference": "Big Ten",
          "team_postgame_elo": 1794
         },
         {
          "logos": "http://a.espncdn.com/i/teamlogos/ncaa/500/130.png",
          "main_team": "Michigan",
          "season": 2015,
          "team_conference": "Big Ten",
          "team_postgame_elo": 1791
         },
         {
          "logos": "http://a.espncdn.com/i/teamlogos/ncaa/500/130.png",
          "main_team": "Michigan",
          "season": 2017,
          "team_conference": "Big Ten",
          "team_postgame_elo": 1838
         },
         {
          "logos": "http://a.espncdn.com/i/teamlogos/ncaa/500/130.png",
          "main_team": "Michigan",
          "season": 2019,
          "team_conference": "Big Ten",
          "team_postgame_elo": 1984
         },
         {
          "logos": "http://a.espncdn.com/i/teamlogos/ncaa/500/130.png",
          "main_team": "Michigan",
          "season": 2021,
          "team_conference": "Big Ten",
          "team_postgame_elo": 1988
         },
         {
          "logos": "http://a.espncdn.com/i/teamlogos/ncaa/500/130.png",
          "main_team": "Michigan",
          "season": 2023,
          "team_conference": "Big Ten",
          "team_postgame_elo": 2165
         },
         {
          "logos": "http://a.espncdn.com/i/teamlogos/ncaa/500/130.png",
          "main_team": "Michigan",
          "season": 2014,
          "team_conference": "Big Ten",
          "team_postgame_elo": 1579
         },
         {
          "logos": "http://a.espncdn.com/i/teamlogos/ncaa/500/130.png",
          "main_team": "Michigan",
          "season": 2016,
          "team_conference": "Big Ten",
          "team_postgame_elo": 2142
         },
         {
          "logos": "http://a.espncdn.com/i/teamlogos/ncaa/500/130.png",
          "main_team": "Michigan",
          "season": 2018,
          "team_conference": "Big Ten",
          "team_postgame_elo": 1966
         },
         {
          "logos": "http://a.espncdn.com/i/teamlogos/ncaa/500/130.png",
          "main_team": "Michigan",
          "season": 2022,
          "team_conference": "Big Ten",
          "team_postgame_elo": 2144
         },
         {
          "logos": "http://a.espncdn.com/i/teamlogos/ncaa/500/197.png",
          "main_team": "Oklahoma State",
          "season": 2013,
          "team_conference": "Big 12",
          "team_postgame_elo": 2047
         },
         {
          "logos": "http://a.espncdn.com/i/teamlogos/ncaa/500/197.png",
          "main_team": "Oklahoma State",
          "season": 2015,
          "team_conference": "Big 12",
          "team_postgame_elo": 1778
         },
         {
          "logos": "http://a.espncdn.com/i/teamlogos/ncaa/500/197.png",
          "main_team": "Oklahoma State",
          "season": 2017,
          "team_conference": "Big 12",
          "team_postgame_elo": 1899
         },
         {
          "logos": "http://a.espncdn.com/i/teamlogos/ncaa/500/197.png",
          "main_team": "Oklahoma State",
          "season": 2019,
          "team_conference": "Big 12",
          "team_postgame_elo": 1647
         },
         {
          "logos": "http://a.espncdn.com/i/teamlogos/ncaa/500/197.png",
          "main_team": "Oklahoma State",
          "season": 2021,
          "team_conference": "Big 12",
          "team_postgame_elo": 1926
         },
         {
          "logos": "http://a.espncdn.com/i/teamlogos/ncaa/500/197.png",
          "main_team": "Oklahoma State",
          "season": 2022,
          "team_conference": "Big 12",
          "team_postgame_elo": 1541
         },
         {
          "logos": "http://a.espncdn.com/i/teamlogos/ncaa/500/197.png",
          "main_team": "Oklahoma State",
          "season": 2023,
          "team_conference": "Big 12",
          "team_postgame_elo": 1512
         },
         {
          "logos": "http://a.espncdn.com/i/teamlogos/ncaa/500/197.png",
          "main_team": "Oklahoma State",
          "season": 2014,
          "team_conference": "Big 12",
          "team_postgame_elo": 1571
         },
         {
          "logos": "http://a.espncdn.com/i/teamlogos/ncaa/500/197.png",
          "main_team": "Oklahoma State",
          "season": 2016,
          "team_conference": "Big 12",
          "team_postgame_elo": 1772
         },
         {
          "logos": "http://a.espncdn.com/i/teamlogos/ncaa/500/197.png",
          "main_team": "Oklahoma State",
          "season": 2018,
          "team_conference": "Big 12",
          "team_postgame_elo": 1682
         },
         {
          "logos": "http://a.espncdn.com/i/teamlogos/ncaa/500/258.png",
          "main_team": "Virginia",
          "season": 2013,
          "team_conference": "ACC",
          "team_postgame_elo": 1197
         },
         {
          "logos": "http://a.espncdn.com/i/teamlogos/ncaa/500/258.png",
          "main_team": "Virginia",
          "season": 2015,
          "team_conference": "ACC",
          "team_postgame_elo": 1441
         },
         {
          "logos": "http://a.espncdn.com/i/teamlogos/ncaa/500/258.png",
          "main_team": "Virginia",
          "season": 2017,
          "team_conference": "ACC",
          "team_postgame_elo": 1408
         },
         {
          "logos": "http://a.espncdn.com/i/teamlogos/ncaa/500/258.png",
          "main_team": "Virginia",
          "season": 2019,
          "team_conference": "ACC",
          "team_postgame_elo": 1714
         },
         {
          "logos": "http://a.espncdn.com/i/teamlogos/ncaa/500/258.png",
          "main_team": "Virginia",
          "season": 2021,
          "team_conference": "ACC",
          "team_postgame_elo": 1539
         },
         {
          "logos": "http://a.espncdn.com/i/teamlogos/ncaa/500/258.png",
          "main_team": "Virginia",
          "season": 2023,
          "team_conference": "ACC",
          "team_postgame_elo": 1216
         },
         {
          "logos": "http://a.espncdn.com/i/teamlogos/ncaa/500/258.png",
          "main_team": "Virginia",
          "season": 2014,
          "team_conference": "ACC",
          "team_postgame_elo": 1491
         },
         {
          "logos": "http://a.espncdn.com/i/teamlogos/ncaa/500/258.png",
          "main_team": "Virginia",
          "season": 2016,
          "team_conference": "ACC",
          "team_postgame_elo": 1350
         },
         {
          "logos": "http://a.espncdn.com/i/teamlogos/ncaa/500/258.png",
          "main_team": "Virginia",
          "season": 2018,
          "team_conference": "ACC",
          "team_postgame_elo": 1560
         },
         {
          "logos": "http://a.espncdn.com/i/teamlogos/ncaa/500/213.png",
          "main_team": "Penn State",
          "season": 2014,
          "team_conference": "Big Ten",
          "team_postgame_elo": 1583
         },
         {
          "logos": "http://a.espncdn.com/i/teamlogos/ncaa/500/213.png",
          "main_team": "Penn State",
          "season": 2016,
          "team_conference": "Big Ten",
          "team_postgame_elo": 1844
         },
         {
          "logos": "http://a.espncdn.com/i/teamlogos/ncaa/500/213.png",
          "main_team": "Penn State",
          "season": 2018,
          "team_conference": "Big Ten",
          "team_postgame_elo": 1929
         },
         {
          "logos": "http://a.espncdn.com/i/teamlogos/ncaa/500/213.png",
          "main_team": "Penn State",
          "season": 2019,
          "team_conference": "Big Ten",
          "team_postgame_elo": 1968
         },
         {
          "logos": "http://a.espncdn.com/i/teamlogos/ncaa/500/213.png",
          "main_team": "Penn State",
          "season": 2022,
          "team_conference": "Big Ten",
          "team_postgame_elo": 1979
         },
         {
          "logos": "http://a.espncdn.com/i/teamlogos/ncaa/500/213.png",
          "main_team": "Penn State",
          "season": 2013,
          "team_conference": "Big Ten",
          "team_postgame_elo": 1616
         },
         {
          "logos": "http://a.espncdn.com/i/teamlogos/ncaa/500/213.png",
          "main_team": "Penn State",
          "season": 2015,
          "team_conference": "Big Ten",
          "team_postgame_elo": 1587
         },
         {
          "logos": "http://a.espncdn.com/i/teamlogos/ncaa/500/213.png",
          "main_team": "Penn State",
          "season": 2017,
          "team_conference": "Big Ten",
          "team_postgame_elo": 2126
         },
         {
          "logos": "http://a.espncdn.com/i/teamlogos/ncaa/500/213.png",
          "main_team": "Penn State",
          "season": 2021,
          "team_conference": "Big Ten",
          "team_postgame_elo": 1808
         },
         {
          "logos": "http://a.espncdn.com/i/teamlogos/ncaa/500/213.png",
          "main_team": "Penn State",
          "season": 2023,
          "team_conference": "Big Ten",
          "team_postgame_elo": 2061
         },
         {
          "logos": "http://a.espncdn.com/i/teamlogos/ncaa/500/2294.png",
          "main_team": "Iowa",
          "season": 2014,
          "team_conference": "Big Ten",
          "team_postgame_elo": 1647
         },
         {
          "logos": "http://a.espncdn.com/i/teamlogos/ncaa/500/2294.png",
          "main_team": "Iowa",
          "season": 2016,
          "team_conference": "Big Ten",
          "team_postgame_elo": 1734
         },
         {
          "logos": "http://a.espncdn.com/i/teamlogos/ncaa/500/2294.png",
          "main_team": "Iowa",
          "season": 2018,
          "team_conference": "Big Ten",
          "team_postgame_elo": 1926
         },
         {
          "logos": "http://a.espncdn.com/i/teamlogos/ncaa/500/2294.png",
          "main_team": "Iowa",
          "season": 2022,
          "team_conference": "Big Ten",
          "team_postgame_elo": 1709
         },
         {
          "logos": "http://a.espncdn.com/i/teamlogos/ncaa/500/2294.png",
          "main_team": "Iowa",
          "season": 2013,
          "team_conference": "Big Ten",
          "team_postgame_elo": 1722
         },
         {
          "logos": "http://a.espncdn.com/i/teamlogos/ncaa/500/2294.png",
          "main_team": "Iowa",
          "season": 2015,
          "team_conference": "Big Ten",
          "team_postgame_elo": 1751
         },
         {
          "logos": "http://a.espncdn.com/i/teamlogos/ncaa/500/2294.png",
          "main_team": "Iowa",
          "season": 2017,
          "team_conference": "Big Ten",
          "team_postgame_elo": 1821
         },
         {
          "logos": "http://a.espncdn.com/i/teamlogos/ncaa/500/2294.png",
          "main_team": "Iowa",
          "season": 2019,
          "team_conference": "Big Ten",
          "team_postgame_elo": 1874
         },
         {
          "logos": "http://a.espncdn.com/i/teamlogos/ncaa/500/2294.png",
          "main_team": "Iowa",
          "season": 2021,
          "team_conference": "Big Ten",
          "team_postgame_elo": 1767
         },
         {
          "logos": "http://a.espncdn.com/i/teamlogos/ncaa/500/2294.png",
          "main_team": "Iowa",
          "season": 2023,
          "team_conference": "Big Ten",
          "team_postgame_elo": 1675
         },
         {
          "logos": "http://a.espncdn.com/i/teamlogos/ncaa/500/8.png",
          "main_team": "Arkansas",
          "season": 2015,
          "team_conference": "SEC",
          "team_postgame_elo": 1829
         },
         {
          "logos": "http://a.espncdn.com/i/teamlogos/ncaa/500/8.png",
          "main_team": "Arkansas",
          "season": 2017,
          "team_conference": "SEC",
          "team_postgame_elo": 1441
         },
         {
          "logos": "http://a.espncdn.com/i/teamlogos/ncaa/500/8.png",
          "main_team": "Arkansas",
          "season": 2019,
          "team_conference": "SEC",
          "team_postgame_elo": 1211
         },
         {
          "logos": "http://a.espncdn.com/i/teamlogos/ncaa/500/8.png",
          "main_team": "Arkansas",
          "season": 2021,
          "team_conference": "SEC",
          "team_postgame_elo": 1636
         },
         {
          "logos": "http://a.espncdn.com/i/teamlogos/ncaa/500/8.png",
          "main_team": "Arkansas",
          "season": 2023,
          "team_conference": "SEC",
          "team_postgame_elo": 1431
         },
         {
          "logos": "http://a.espncdn.com/i/teamlogos/ncaa/500/8.png",
          "main_team": "Arkansas",
          "season": 2013,
          "team_conference": "SEC",
          "team_postgame_elo": 1390
         },
         {
          "logos": "http://a.espncdn.com/i/teamlogos/ncaa/500/8.png",
          "main_team": "Arkansas",
          "season": 2014,
          "team_conference": "SEC",
          "team_postgame_elo": 1829
         },
         {
          "logos": "http://a.espncdn.com/i/teamlogos/ncaa/500/8.png",
          "main_team": "Arkansas",
          "season": 2016,
          "team_conference": "SEC",
          "team_postgame_elo": 1622
         },
         {
          "logos": "http://a.espncdn.com/i/teamlogos/ncaa/500/8.png",
          "main_team": "Arkansas",
          "season": 2018,
          "team_conference": "SEC",
          "team_postgame_elo": 1285
         },
         {
          "logos": "http://a.espncdn.com/i/teamlogos/ncaa/500/8.png",
          "main_team": "Arkansas",
          "season": 2022,
          "team_conference": "SEC",
          "team_postgame_elo": 1693
         },
         {
          "logos": "http://a.espncdn.com/i/teamlogos/ncaa/500/2483.png",
          "main_team": "Oregon",
          "season": 2013,
          "team_conference": "Pac-12",
          "team_postgame_elo": 1975
         },
         {
          "logos": "http://a.espncdn.com/i/teamlogos/ncaa/500/2483.png",
          "main_team": "Oregon",
          "season": 2015,
          "team_conference": "Pac-12",
          "team_postgame_elo": 1797
         },
         {
          "logos": "http://a.espncdn.com/i/teamlogos/ncaa/500/2483.png",
          "main_team": "Oregon",
          "season": 2017,
          "team_conference": "Pac-12",
          "team_postgame_elo": 1683
         },
         {
          "logos": "http://a.espncdn.com/i/teamlogos/ncaa/500/2483.png",
          "main_team": "Oregon",
          "season": 2019,
          "team_conference": "Pac-12",
          "team_postgame_elo": 1942
         },
         {
          "logos": "http://a.espncdn.com/i/teamlogos/ncaa/500/2483.png",
          "main_team": "Oregon",
          "season": 2021,
          "team_conference": "Pac-12",
          "team_postgame_elo": 1687
         },
         {
          "logos": "http://a.espncdn.com/i/teamlogos/ncaa/500/2483.png",
          "main_team": "Oregon",
          "season": 2023,
          "team_conference": "Pac-12",
          "team_postgame_elo": 2046
         },
         {
          "logos": "http://a.espncdn.com/i/teamlogos/ncaa/500/2483.png",
          "main_team": "Oregon",
          "season": 2014,
          "team_conference": "Pac-12",
          "team_postgame_elo": 2031
         },
         {
          "logos": "http://a.espncdn.com/i/teamlogos/ncaa/500/2483.png",
          "main_team": "Oregon",
          "season": 2016,
          "team_conference": "Pac-12",
          "team_postgame_elo": 1483
         },
         {
          "logos": "http://a.espncdn.com/i/teamlogos/ncaa/500/2483.png",
          "main_team": "Oregon",
          "season": 2018,
          "team_conference": "Pac-12",
          "team_postgame_elo": 1637
         },
         {
          "logos": "http://a.espncdn.com/i/teamlogos/ncaa/500/2483.png",
          "main_team": "Oregon",
          "season": 2022,
          "team_conference": "Pac-12",
          "team_postgame_elo": 1729
         },
         {
          "logos": "http://a.espncdn.com/i/teamlogos/ncaa/500/150.png",
          "main_team": "Duke",
          "season": 2014,
          "team_conference": "ACC",
          "team_postgame_elo": 1601
         },
         {
          "logos": "http://a.espncdn.com/i/teamlogos/ncaa/500/150.png",
          "main_team": "Duke",
          "season": 2018,
          "team_conference": "ACC",
          "team_postgame_elo": 1410
         },
         {
          "logos": "http://a.espncdn.com/i/teamlogos/ncaa/500/150.png",
          "main_team": "Duke",
          "season": 2019,
          "team_conference": "ACC",
          "team_postgame_elo": 1366
         },
         {
          "logos": "http://a.espncdn.com/i/teamlogos/ncaa/500/150.png",
          "main_team": "Duke",
          "season": 2021,
          "team_conference": "ACC",
          "team_postgame_elo": 1002
         },
         {
          "logos": "http://a.espncdn.com/i/teamlogos/ncaa/500/150.png",
          "main_team": "Duke",
          "season": 2022,
          "team_conference": "ACC",
          "team_postgame_elo": 1466
         },
         {
          "logos": "http://a.espncdn.com/i/teamlogos/ncaa/500/150.png",
          "main_team": "Duke",
          "season": 2023,
          "team_conference": "ACC",
          "team_postgame_elo": 1629
         },
         {
          "logos": "http://a.espncdn.com/i/teamlogos/ncaa/500/150.png",
          "main_team": "Duke",
          "season": 2013,
          "team_conference": "ACC",
          "team_postgame_elo": 1592
         },
         {
          "logos": "http://a.espncdn.com/i/teamlogos/ncaa/500/150.png",
          "main_team": "Duke",
          "season": 2015,
          "team_conference": "ACC",
          "team_postgame_elo": 1527
         },
         {
          "logos": "http://a.espncdn.com/i/teamlogos/ncaa/500/150.png",
          "main_team": "Duke",
          "season": 2016,
          "team_conference": "ACC",
          "team_postgame_elo": 1383
         },
         {
          "logos": "http://a.espncdn.com/i/teamlogos/ncaa/500/150.png",
          "main_team": "Duke",
          "season": 2017,
          "team_conference": "ACC",
          "team_postgame_elo": 1595
         },
         {
          "logos": "http://a.espncdn.com/i/teamlogos/ncaa/500/259.png",
          "main_team": "Virginia Tech",
          "season": 2014,
          "team_conference": "ACC",
          "team_postgame_elo": 1556
         },
         {
          "logos": "http://a.espncdn.com/i/teamlogos/ncaa/500/259.png",
          "main_team": "Virginia Tech",
          "season": 2016,
          "team_conference": "ACC",
          "team_postgame_elo": 1848
         },
         {
          "logos": "http://a.espncdn.com/i/teamlogos/ncaa/500/259.png",
          "main_team": "Virginia Tech",
          "season": 2018,
          "team_conference": "ACC",
          "team_postgame_elo": 1523
         },
         {
          "logos": "http://a.espncdn.com/i/teamlogos/ncaa/500/259.png",
          "main_team": "Virginia Tech",
          "season": 2013,
          "team_conference": "ACC",
          "team_postgame_elo": 1602
         },
         {
          "logos": "http://a.espncdn.com/i/teamlogos/ncaa/500/259.png",
          "main_team": "Virginia Tech",
          "season": 2015,
          "team_conference": "ACC",
          "team_postgame_elo": 1651
         },
         {
          "logos": "http://a.espncdn.com/i/teamlogos/ncaa/500/259.png",
          "main_team": "Virginia Tech",
          "season": 2017,
          "team_conference": "ACC",
          "team_postgame_elo": 1864
         },
         {
          "logos": "http://a.espncdn.com/i/teamlogos/ncaa/500/259.png",
          "main_team": "Virginia Tech",
          "season": 2019,
          "team_conference": "ACC",
          "team_postgame_elo": 1699
         },
         {
          "logos": "http://a.espncdn.com/i/teamlogos/ncaa/500/259.png",
          "main_team": "Virginia Tech",
          "season": 2021,
          "team_conference": "ACC",
          "team_postgame_elo": 1525
         },
         {
          "logos": "http://a.espncdn.com/i/teamlogos/ncaa/500/259.png",
          "main_team": "Virginia Tech",
          "season": 2023,
          "team_conference": "ACC",
          "team_postgame_elo": 1607
         },
         {
          "logos": "http://a.espncdn.com/i/teamlogos/ncaa/500/2633.png",
          "main_team": "Tennessee",
          "season": 2015,
          "team_conference": "SEC",
          "team_postgame_elo": 1771
         },
         {
          "logos": "http://a.espncdn.com/i/teamlogos/ncaa/500/2633.png",
          "main_team": "Tennessee",
          "season": 2017,
          "team_conference": "SEC",
          "team_postgame_elo": 1366
         },
         {
          "logos": "http://a.espncdn.com/i/teamlogos/ncaa/500/2633.png",
          "main_team": "Tennessee",
          "season": 2019,
          "team_conference": "SEC",
          "team_postgame_elo": 1564
         },
         {
          "logos": "http://a.espncdn.com/i/teamlogos/ncaa/500/2633.png",
          "main_team": "Tennessee",
          "season": 2021,
          "team_conference": "SEC",
          "team_postgame_elo": 1718
         },
         {
          "logos": "http://a.espncdn.com/i/teamlogos/ncaa/500/2633.png",
          "main_team": "Tennessee",
          "season": 2023,
          "team_conference": "SEC",
          "team_postgame_elo": 1786
         },
         {
          "logos": "http://a.espncdn.com/i/teamlogos/ncaa/500/2633.png",
          "main_team": "Tennessee",
          "season": 2013,
          "team_conference": "SEC",
          "team_postgame_elo": 1421
         },
         {
          "logos": "http://a.espncdn.com/i/teamlogos/ncaa/500/2633.png",
          "main_team": "Tennessee",
          "season": 2014,
          "team_conference": "SEC",
          "team_postgame_elo": 1622
         },
         {
          "logos": "http://a.espncdn.com/i/teamlogos/ncaa/500/2633.png",
          "main_team": "Tennessee",
          "season": 2016,
          "team_conference": "SEC",
          "team_postgame_elo": 1708
         },
         {
          "logos": "http://a.espncdn.com/i/teamlogos/ncaa/500/2633.png",
          "main_team": "Tennessee",
          "season": 2018,
          "team_conference": "SEC",
          "team_postgame_elo": 1349
         },
         {
          "logos": "http://a.espncdn.com/i/teamlogos/ncaa/500/2633.png",
          "main_team": "Tennessee",
          "season": 2022,
          "team_conference": "SEC",
          "team_postgame_elo": 1977
         },
         {
          "logos": "http://a.espncdn.com/i/teamlogos/ncaa/500/204.png",
          "main_team": "Oregon State",
          "season": 2014,
          "team_conference": "Pac-12",
          "team_postgame_elo": 1438
         },
         {
          "logos": "http://a.espncdn.com/i/teamlogos/ncaa/500/204.png",
          "main_team": "Oregon State",
          "season": 2016,
          "team_conference": "Pac-12",
          "team_postgame_elo": 1369
         },
         {
          "logos": "http://a.espncdn.com/i/teamlogos/ncaa/500/204.png",
          "main_team": "Oregon State",
          "season": 2018,
          "team_conference": "Pac-12",
          "team_postgame_elo": 1061
         },
         {
          "logos": "http://a.espncdn.com/i/teamlogos/ncaa/500/204.png",
          "main_team": "Oregon State",
          "season": 2022,
          "team_conference": "Pac-12",
          "team_postgame_elo": 1724
         },
         {
          "logos": "http://a.espncdn.com/i/teamlogos/ncaa/500/204.png",
          "main_team": "Oregon State",
          "season": 2013,
          "team_conference": "Pac-12",
          "team_postgame_elo": 1578
         },
         {
          "logos": "http://a.espncdn.com/i/teamlogos/ncaa/500/204.png",
          "main_team": "Oregon State",
          "season": 2015,
          "team_conference": "Pac-12",
          "team_postgame_elo": 1146
         },
         {
          "logos": "http://a.espncdn.com/i/teamlogos/ncaa/500/204.png",
          "main_team": "Oregon State",
          "season": 2017,
          "team_conference": "Pac-12",
          "team_postgame_elo": 1093
         },
         {
          "logos": "http://a.espncdn.com/i/teamlogos/ncaa/500/204.png",
          "main_team": "Oregon State",
          "season": 2019,
          "team_conference": "Pac-12",
          "team_postgame_elo": 1361
         },
         {
          "logos": "http://a.espncdn.com/i/teamlogos/ncaa/500/204.png",
          "main_team": "Oregon State",
          "season": 2021,
          "team_conference": "Pac-12",
          "team_postgame_elo": 1584
         },
         {
          "logos": "http://a.espncdn.com/i/teamlogos/ncaa/500/204.png",
          "main_team": "Oregon State",
          "season": 2023,
          "team_conference": "Pac-12",
          "team_postgame_elo": 1790
         },
         {
          "logos": "http://a.espncdn.com/i/teamlogos/ncaa/500/142.png",
          "main_team": "Missouri",
          "season": 2013,
          "team_conference": "SEC",
          "team_postgame_elo": 1889
         },
         {
          "logos": "http://a.espncdn.com/i/teamlogos/ncaa/500/142.png",
          "main_team": "Missouri",
          "season": 2014,
          "team_conference": "SEC",
          "team_postgame_elo": 1813
         },
         {
          "logos": "http://a.espncdn.com/i/teamlogos/ncaa/500/142.png",
          "main_team": "Missouri",
          "season": 2016,
          "team_conference": "SEC",
          "team_postgame_elo": 1404
         },
         {
          "logos": "http://a.espncdn.com/i/teamlogos/ncaa/500/142.png",
          "main_team": "Missouri",
          "season": 2018,
          "team_conference": "SEC",
          "team_postgame_elo": 1874
         },
         {
          "logos": "http://a.espncdn.com/i/teamlogos/ncaa/500/142.png",
          "main_team": "Missouri",
          "season": 2022,
          "team_conference": "SEC",
          "team_postgame_elo": 1470
         },
         {
          "logos": "http://a.espncdn.com/i/teamlogos/ncaa/500/142.png",
          "main_team": "Missouri",
          "season": 2015,
          "team_conference": "SEC",
          "team_postgame_elo": 1557
         },
         {
          "logos": "http://a.espncdn.com/i/teamlogos/ncaa/500/142.png",
          "main_team": "Missouri",
          "season": 2017,
          "team_conference": "SEC",
          "team_postgame_elo": 1702
         },
         {
          "logos": "http://a.espncdn.com/i/teamlogos/ncaa/500/142.png",
          "main_team": "Missouri",
          "season": 2019,
          "team_conference": "SEC",
          "team_postgame_elo": 1638
         },
         {
          "logos": "http://a.espncdn.com/i/teamlogos/ncaa/500/142.png",
          "main_team": "Missouri",
          "season": 2021,
          "team_conference": "SEC",
          "team_postgame_elo": 1352
         },
         {
          "logos": "http://a.espncdn.com/i/teamlogos/ncaa/500/142.png",
          "main_team": "Missouri",
          "season": 2023,
          "team_conference": "SEC",
          "team_postgame_elo": 1823
         },
         {
          "logos": "http://a.espncdn.com/i/teamlogos/ncaa/500/2.png",
          "main_team": "Auburn",
          "season": 2013,
          "team_conference": "SEC",
          "team_postgame_elo": 1763
         },
         {
          "logos": "http://a.espncdn.com/i/teamlogos/ncaa/500/2.png",
          "main_team": "Auburn",
          "season": 2015,
          "team_conference": "SEC",
          "team_postgame_elo": 1683
         },
         {
          "logos": "http://a.espncdn.com/i/teamlogos/ncaa/500/2.png",
          "main_team": "Auburn",
          "season": 2017,
          "team_conference": "SEC",
          "team_postgame_elo": 2071
         },
         {
          "logos": "http://a.espncdn.com/i/teamlogos/ncaa/500/2.png",
          "main_team": "Auburn",
          "season": 2019,
          "team_conference": "SEC",
          "team_postgame_elo": 1942
         },
         {
          "logos": "http://a.espncdn.com/i/teamlogos/ncaa/500/2.png",
          "main_team": "Auburn",
          "season": 2021,
          "team_conference": "SEC",
          "team_postgame_elo": 1702
         },
         {
          "logos": "http://a.espncdn.com/i/teamlogos/ncaa/500/2.png",
          "main_team": "Auburn",
          "season": 2023,
          "team_conference": "SEC",
          "team_postgame_elo": 1631
         },
         {
          "logos": "http://a.espncdn.com/i/teamlogos/ncaa/500/2.png",
          "main_team": "Auburn",
          "season": 2014,
          "team_conference": "SEC",
          "team_postgame_elo": 1855
         },
         {
          "logos": "http://a.espncdn.com/i/teamlogos/ncaa/500/2.png",
          "main_team": "Auburn",
          "season": 2016,
          "team_conference": "SEC",
          "team_postgame_elo": 1938
         },
         {
          "logos": "http://a.espncdn.com/i/teamlogos/ncaa/500/2.png",
          "main_team": "Auburn",
          "season": 2018,
          "team_conference": "SEC",
          "team_postgame_elo": 1825
         },
         {
          "logos": "http://a.espncdn.com/i/teamlogos/ncaa/500/2.png",
          "main_team": "Auburn",
          "season": 2022,
          "team_conference": "SEC",
          "team_postgame_elo": 1596
         },
         {
          "logos": "http://a.espncdn.com/i/teamlogos/ncaa/500/201.png",
          "main_team": "Oklahoma",
          "season": 2014,
          "team_conference": "Big 12",
          "team_postgame_elo": 1860
         },
         {
          "logos": "http://a.espncdn.com/i/teamlogos/ncaa/500/201.png",
          "main_team": "Oklahoma",
          "season": 2016,
          "team_conference": "Big 12",
          "team_postgame_elo": 2013
         },
         {
          "logos": "http://a.espncdn.com/i/teamlogos/ncaa/500/201.png",
          "main_team": "Oklahoma",
          "season": 2017,
          "team_conference": "Big 12",
          "team_postgame_elo": 2020
         },
         {
          "logos": "http://a.espncdn.com/i/teamlogos/ncaa/500/201.png",
          "main_team": "Oklahoma",
          "season": 2023,
          "team_conference": "Big 12",
          "team_postgame_elo": 1974
         },
         {
          "logos": "http://a.espncdn.com/i/teamlogos/ncaa/500/201.png",
          "main_team": "Oklahoma",
          "season": 2013,
          "team_conference": "Big 12",
          "team_postgame_elo": 1880
         },
         {
          "logos": "http://a.espncdn.com/i/teamlogos/ncaa/500/201.png",
          "main_team": "Oklahoma",
          "season": 2015,
          "team_conference": "Big 12",
          "team_postgame_elo": 2155
         },
         {
          "logos": "http://a.espncdn.com/i/teamlogos/ncaa/500/201.png",
          "main_team": "Oklahoma",
          "season": 2018,
          "team_conference": "Big 12",
          "team_postgame_elo": 2019
         },
         {
          "logos": "http://a.espncdn.com/i/teamlogos/ncaa/500/201.png",
          "main_team": "Oklahoma",
          "season": 2019,
          "team_conference": "Big 12",
          "team_postgame_elo": 1978
         },
         {
          "logos": "http://a.espncdn.com/i/teamlogos/ncaa/500/201.png",
          "main_team": "Oklahoma",
          "season": 2021,
          "team_conference": "Big 12",
          "team_postgame_elo": 1857
         },
         {
          "logos": "http://a.espncdn.com/i/teamlogos/ncaa/500/201.png",
          "main_team": "Oklahoma",
          "season": 2022,
          "team_conference": "Big 12",
          "team_postgame_elo": 1660
         },
         {
          "logos": "http://a.espncdn.com/i/teamlogos/ncaa/500/239.png",
          "main_team": "Baylor",
          "season": 2013,
          "team_conference": "Big 12",
          "team_postgame_elo": 2079
         },
         {
          "logos": "http://a.espncdn.com/i/teamlogos/ncaa/500/239.png",
          "main_team": "Baylor",
          "season": 2014,
          "team_conference": "Big 12",
          "team_postgame_elo": 2061
         },
         {
          "logos": "http://a.espncdn.com/i/teamlogos/ncaa/500/239.png",
          "main_team": "Baylor",
          "season": 2015,
          "team_conference": "Big 12",
          "team_postgame_elo": 1975
         },
         {
          "logos": "http://a.espncdn.com/i/teamlogos/ncaa/500/239.png",
          "main_team": "Baylor",
          "season": 2021,
          "team_conference": "Big 12",
          "team_postgame_elo": 1745
         },
         {
          "logos": "http://a.espncdn.com/i/teamlogos/ncaa/500/239.png",
          "main_team": "Baylor",
          "season": 2023,
          "team_conference": "Big 12",
          "team_postgame_elo": 1384
         },
         {
          "logos": "http://a.espncdn.com/i/teamlogos/ncaa/500/239.png",
          "main_team": "Baylor",
          "season": 2016,
          "team_conference": "Big 12",
          "team_postgame_elo": 1531
         },
         {
          "logos": "http://a.espncdn.com/i/teamlogos/ncaa/500/239.png",
          "main_team": "Baylor",
          "season": 2017,
          "team_conference": "Big 12",
          "team_postgame_elo": 1400
         },
         {
          "logos": "http://a.espncdn.com/i/teamlogos/ncaa/500/239.png",
          "main_team": "Baylor",
          "season": 2018,
          "team_conference": "Big 12",
          "team_postgame_elo": 1416
         },
         {
          "logos": "http://a.espncdn.com/i/teamlogos/ncaa/500/239.png",
          "main_team": "Baylor",
          "season": 2019,
          "team_conference": "Big 12",
          "team_postgame_elo": 1837
         },
         {
          "logos": "http://a.espncdn.com/i/teamlogos/ncaa/500/239.png",
          "main_team": "Baylor",
          "season": 2022,
          "team_conference": "Big 12",
          "team_postgame_elo": 1709
         },
         {
          "logos": "http://a.espncdn.com/i/teamlogos/ncaa/500/158.png",
          "main_team": "Nebraska",
          "season": 2013,
          "team_conference": "Big Ten",
          "team_postgame_elo": 1629
         },
         {
          "logos": "http://a.espncdn.com/i/teamlogos/ncaa/500/158.png",
          "main_team": "Nebraska",
          "season": 2015,
          "team_conference": "Big Ten",
          "team_postgame_elo": 1679
         },
         {
          "logos": "http://a.espncdn.com/i/teamlogos/ncaa/500/158.png",
          "main_team": "Nebraska",
          "season": 2017,
          "team_conference": "Big Ten",
          "team_postgame_elo": 1341
         },
         {
          "logos": "http://a.espncdn.com/i/teamlogos/ncaa/500/158.png",
          "main_team": "Nebraska",
          "season": 2019,
          "team_conference": "Big Ten",
          "team_postgame_elo": 1602
         },
         {
          "logos": "http://a.espncdn.com/i/teamlogos/ncaa/500/158.png",
          "main_team": "Nebraska",
          "season": 2021,
          "team_conference": "Big Ten",
          "team_postgame_elo": 1704
         },
         {
          "logos": "http://a.espncdn.com/i/teamlogos/ncaa/500/158.png",
          "main_team": "Nebraska",
          "season": 2023,
          "team_conference": "Big Ten",
          "team_postgame_elo": 1511
         },
         {
          "logos": "http://a.espncdn.com/i/teamlogos/ncaa/500/158.png",
          "main_team": "Nebraska",
          "season": 2014,
          "team_conference": "Big Ten",
          "team_postgame_elo": 1760
         },
         {
          "logos": "http://a.espncdn.com/i/teamlogos/ncaa/500/158.png",
          "main_team": "Nebraska",
          "season": 2016,
          "team_conference": "Big Ten",
          "team_postgame_elo": 1550
         },
         {
          "logos": "http://a.espncdn.com/i/teamlogos/ncaa/500/158.png",
          "main_team": "Nebraska",
          "season": 2018,
          "team_conference": "Big Ten",
          "team_postgame_elo": 1462
         },
         {
          "logos": "http://a.espncdn.com/i/teamlogos/ncaa/500/158.png",
          "main_team": "Nebraska",
          "season": 2022,
          "team_conference": "Big Ten",
          "team_postgame_elo": 1532
         },
         {
          "logos": "http://a.espncdn.com/i/teamlogos/ncaa/500/66.png",
          "main_team": "Iowa State",
          "season": 2016,
          "team_conference": "Big 12",
          "team_postgame_elo": 1542
         },
         {
          "logos": "http://a.espncdn.com/i/teamlogos/ncaa/500/66.png",
          "main_team": "Iowa State",
          "season": 2018,
          "team_conference": "Big 12",
          "team_postgame_elo": null
         },
         {
          "logos": "http://a.espncdn.com/i/teamlogos/ncaa/500/66.png",
          "main_team": "Iowa State",
          "season": 2021,
          "team_conference": "Big 12",
          "team_postgame_elo": 1929
         },
         {
          "logos": "http://a.espncdn.com/i/teamlogos/ncaa/500/66.png",
          "main_team": "Iowa State",
          "season": 2020,
          "team_conference": "Big 12",
          "team_postgame_elo": 1936
         },
         {
          "logos": "http://a.espncdn.com/i/teamlogos/ncaa/500/66.png",
          "main_team": "Iowa State",
          "season": 2013,
          "team_conference": "Big 12",
          "team_postgame_elo": 1392
         },
         {
          "logos": "http://a.espncdn.com/i/teamlogos/ncaa/500/66.png",
          "main_team": "Iowa State",
          "season": 2014,
          "team_conference": "Big 12",
          "team_postgame_elo": 1256
         },
         {
          "logos": "http://a.espncdn.com/i/teamlogos/ncaa/500/66.png",
          "main_team": "Iowa State",
          "season": 2015,
          "team_conference": "Big 12",
          "team_postgame_elo": 1393
         },
         {
          "logos": "http://a.espncdn.com/i/teamlogos/ncaa/500/66.png",
          "main_team": "Iowa State",
          "season": 2017,
          "team_conference": "Big 12",
          "team_postgame_elo": 1709
         },
         {
          "logos": "http://a.espncdn.com/i/teamlogos/ncaa/500/66.png",
          "main_team": "Iowa State",
          "season": 2019,
          "team_conference": "Big 12",
          "team_postgame_elo": 1779
         },
         {
          "logos": "http://a.espncdn.com/i/teamlogos/ncaa/500/66.png",
          "main_team": "Iowa State",
          "season": 2022,
          "team_conference": "Big 12",
          "team_postgame_elo": 1554
         },
         {
          "logos": "http://a.espncdn.com/i/teamlogos/ncaa/500/66.png",
          "main_team": "Iowa State",
          "season": 2023,
          "team_conference": "Big 12",
          "team_postgame_elo": 1702
         },
         {
          "logos": "http://a.espncdn.com/i/teamlogos/ncaa/500/251.png",
          "main_team": "Texas",
          "season": 2014,
          "team_conference": "Big 12",
          "team_postgame_elo": 1629
         },
         {
          "logos": "http://a.espncdn.com/i/teamlogos/ncaa/500/251.png",
          "main_team": "Texas",
          "season": 2016,
          "team_conference": "Big 12",
          "team_postgame_elo": 1560
         },
         {
          "logos": "http://a.espncdn.com/i/teamlogos/ncaa/500/251.png",
          "main_team": "Texas",
          "season": 2017,
          "team_conference": "Big 12",
          "team_postgame_elo": 1701
         },
         {
          "logos": "http://a.espncdn.com/i/teamlogos/ncaa/500/251.png",
          "main_team": "Texas",
          "season": 2019,
          "team_conference": "Big 12",
          "team_postgame_elo": 1760
         },
         {
          "logos": "http://a.espncdn.com/i/teamlogos/ncaa/500/251.png",
          "main_team": "Texas",
          "season": 2021,
          "team_conference": "Big 12",
          "team_postgame_elo": 1700
         },
         {
          "logos": "http://a.espncdn.com/i/teamlogos/ncaa/500/251.png",
          "main_team": "Texas",
          "season": 2022,
          "team_conference": "Big 12",
          "team_postgame_elo": 1931
         },
         {
          "logos": "http://a.espncdn.com/i/teamlogos/ncaa/500/251.png",
          "main_team": "Texas",
          "season": 2023,
          "team_conference": "Big 12",
          "team_postgame_elo": 2026
         },
         {
          "logos": "http://a.espncdn.com/i/teamlogos/ncaa/500/251.png",
          "main_team": "Texas",
          "season": 2013,
          "team_conference": "Big 12",
          "team_postgame_elo": 1731
         },
         {
          "logos": "http://a.espncdn.com/i/teamlogos/ncaa/500/251.png",
          "main_team": "Texas",
          "season": 2015,
          "team_conference": "Big 12",
          "team_postgame_elo": 1532
         },
         {
          "logos": "http://a.espncdn.com/i/teamlogos/ncaa/500/251.png",
          "main_team": "Texas",
          "season": 2018,
          "team_conference": "Big 12",
          "team_postgame_elo": 1749
         },
         {
          "logos": "http://a.espncdn.com/i/teamlogos/ncaa/500/228.png",
          "main_team": "Clemson",
          "season": 2014,
          "team_conference": "ACC",
          "team_postgame_elo": 1788
         },
         {
          "logos": "http://a.espncdn.com/i/teamlogos/ncaa/500/228.png",
          "main_team": "Clemson",
          "season": 2016,
          "team_conference": "ACC",
          "team_postgame_elo": 2085
         },
         {
          "logos": "http://a.espncdn.com/i/teamlogos/ncaa/500/228.png",
          "main_team": "Clemson",
          "season": 2018,
          "team_conference": "ACC",
          "team_postgame_elo": 2271
         },
         {
          "logos": "http://a.espncdn.com/i/teamlogos/ncaa/500/228.png",
          "main_team": "Clemson",
          "season": 2022,
          "team_conference": "ACC",
          "team_postgame_elo": 1821
         },
         {
          "logos": "http://a.espncdn.com/i/teamlogos/ncaa/500/228.png",
          "main_team": "Clemson",
          "season": 2020,
          "team_conference": "ACC",
          "team_postgame_elo": 2163
         },
         {
          "logos": "http://a.espncdn.com/i/teamlogos/ncaa/500/228.png",
          "main_team": "Clemson",
          "season": 2013,
          "team_conference": "ACC",
          "team_postgame_elo": 1919
         },
         {
          "logos": "http://a.espncdn.com/i/teamlogos/ncaa/500/228.png",
          "main_team": "Clemson",
          "season": 2015,
          "team_conference": "ACC",
          "team_postgame_elo": 1954
         },
         {
          "logos": "http://a.espncdn.com/i/teamlogos/ncaa/500/228.png",
          "main_team": "Clemson",
          "season": 2017,
          "team_conference": "ACC",
          "team_postgame_elo": 2058
         },
         {
          "logos": "http://a.espncdn.com/i/teamlogos/ncaa/500/228.png",
          "main_team": "Clemson",
          "season": 2019,
          "team_conference": "ACC",
          "team_postgame_elo": 2336
         },
         {
          "logos": "http://a.espncdn.com/i/teamlogos/ncaa/500/228.png",
          "main_team": "Clemson",
          "season": 2021,
          "team_conference": "ACC",
          "team_postgame_elo": 1889
         },
         {
          "logos": "http://a.espncdn.com/i/teamlogos/ncaa/500/228.png",
          "main_team": "Clemson",
          "season": 2023,
          "team_conference": "ACC",
          "team_postgame_elo": 1769
         },
         {
          "logos": "http://a.espncdn.com/i/teamlogos/ncaa/500/2628.png",
          "main_team": "TCU",
          "season": 2013,
          "team_conference": "Big 12",
          "team_postgame_elo": 1610
         },
         {
          "logos": "http://a.espncdn.com/i/teamlogos/ncaa/500/2628.png",
          "main_team": "TCU",
          "season": 2014,
          "team_conference": "Big 12",
          "team_postgame_elo": 2105
         },
         {
          "logos": "http://a.espncdn.com/i/teamlogos/ncaa/500/2628.png",
          "main_team": "TCU",
          "season": 2015,
          "team_conference": "Big 12",
          "team_postgame_elo": 1943
         },
         {
          "logos": "http://a.espncdn.com/i/teamlogos/ncaa/500/2628.png",
          "main_team": "TCU",
          "season": 2016,
          "team_conference": "Big 12",
          "team_postgame_elo": 1718
         },
         {
          "logos": "http://a.espncdn.com/i/teamlogos/ncaa/500/2628.png",
          "main_team": "TCU",
          "season": 2017,
          "team_conference": "Big 12",
          "team_postgame_elo": 1860
         },
         {
          "logos": "http://a.espncdn.com/i/teamlogos/ncaa/500/2628.png",
          "main_team": "TCU",
          "season": 2018,
          "team_conference": "Big 12",
          "team_postgame_elo": 1582
         },
         {
          "logos": "http://a.espncdn.com/i/teamlogos/ncaa/500/2628.png",
          "main_team": "TCU",
          "season": 2019,
          "team_conference": "Big 12",
          "team_postgame_elo": 1625
         },
         {
          "logos": "http://a.espncdn.com/i/teamlogos/ncaa/500/2628.png",
          "main_team": "TCU",
          "season": 2022,
          "team_conference": "Big 12",
          "team_postgame_elo": 1855
         },
         {
          "logos": "http://a.espncdn.com/i/teamlogos/ncaa/500/2628.png",
          "main_team": "TCU",
          "season": 2021,
          "team_conference": "Big 12",
          "team_postgame_elo": 1405
         },
         {
          "logos": "http://a.espncdn.com/i/teamlogos/ncaa/500/2628.png",
          "main_team": "TCU",
          "season": 2023,
          "team_conference": "Big 12",
          "team_postgame_elo": 1631
         },
         {
          "logos": "http://a.espncdn.com/i/teamlogos/ncaa/500/26.png",
          "main_team": "UCLA",
          "season": 2014,
          "team_conference": "Pac-12",
          "team_postgame_elo": 1767
         },
         {
          "logos": "http://a.espncdn.com/i/teamlogos/ncaa/500/26.png",
          "main_team": "UCLA",
          "season": 2017,
          "team_conference": "Pac-12",
          "team_postgame_elo": 1472
         },
         {
          "logos": "http://a.espncdn.com/i/teamlogos/ncaa/500/26.png",
          "main_team": "UCLA",
          "season": 2018,
          "team_conference": "Pac-12",
          "team_postgame_elo": 1397
         },
         {
          "logos": "http://a.espncdn.com/i/teamlogos/ncaa/500/26.png",
          "main_team": "UCLA",
          "season": 2019,
          "team_conference": "Pac-12",
          "team_postgame_elo": 1372
         },
         {
          "logos": "http://a.espncdn.com/i/teamlogos/ncaa/500/26.png",
          "main_team": "UCLA",
          "season": 2021,
          "team_conference": "Pac-12",
          "team_postgame_elo": 1751
         },
         {
          "logos": "http://a.espncdn.com/i/teamlogos/ncaa/500/26.png",
          "main_team": "UCLA",
          "season": 2023,
          "team_conference": "Pac-12",
          "team_postgame_elo": 1565
         },
         {
          "logos": "http://a.espncdn.com/i/teamlogos/ncaa/500/26.png",
          "main_team": "UCLA",
          "season": 2013,
          "team_conference": "Pac-12",
          "team_postgame_elo": 1809
         },
         {
          "logos": "http://a.espncdn.com/i/teamlogos/ncaa/500/26.png",
          "main_team": "UCLA",
          "season": 2015,
          "team_conference": "Pac-12",
          "team_postgame_elo": 1745
         },
         {
          "logos": "http://a.espncdn.com/i/teamlogos/ncaa/500/26.png",
          "main_team": "UCLA",
          "season": 2016,
          "team_conference": "Pac-12",
          "team_postgame_elo": 1532
         },
         {
          "logos": "http://a.espncdn.com/i/teamlogos/ncaa/500/26.png",
          "main_team": "UCLA",
          "season": 2022,
          "team_conference": "Pac-12",
          "team_postgame_elo": 1683
         },
         {
          "logos": "http://a.espncdn.com/i/teamlogos/ncaa/500/264.png",
          "main_team": "Washington",
          "season": 2013,
          "team_conference": "Pac-12",
          "team_postgame_elo": 1816
         },
         {
          "logos": "http://a.espncdn.com/i/teamlogos/ncaa/500/264.png",
          "main_team": "Washington",
          "season": 2014,
          "team_conference": "Pac-12",
          "team_postgame_elo": 1704
         },
         {
          "logos": "http://a.espncdn.com/i/teamlogos/ncaa/500/264.png",
          "main_team": "Washington",
          "season": 2015,
          "team_conference": "Pac-12",
          "team_postgame_elo": 1867
         },
         {
          "logos": "http://a.espncdn.com/i/teamlogos/ncaa/500/264.png",
          "main_team": "Washington",
          "season": 2017,
          "team_conference": "Pac-12",
          "team_postgame_elo": 2017
         },
         {
          "logos": "http://a.espncdn.com/i/teamlogos/ncaa/500/264.png",
          "main_team": "Washington",
          "season": 2019,
          "team_conference": "Pac-12",
          "team_postgame_elo": 1796
         },
         {
          "logos": "http://a.espncdn.com/i/teamlogos/ncaa/500/264.png",
          "main_team": "Washington",
          "season": 2021,
          "team_conference": "Pac-12",
          "team_postgame_elo": 1555
         },
         {
          "logos": "http://a.espncdn.com/i/teamlogos/ncaa/500/264.png",
          "main_team": "Washington",
          "season": 2023,
          "team_conference": "Pac-12",
          "team_postgame_elo": 1868
         },
         {
          "logos": "http://a.espncdn.com/i/teamlogos/ncaa/500/264.png",
          "main_team": "Washington",
          "season": 2016,
          "team_conference": "Pac-12",
          "team_postgame_elo": 2096
         },
         {
          "logos": "http://a.espncdn.com/i/teamlogos/ncaa/500/264.png",
          "main_team": "Washington",
          "season": 2018,
          "team_conference": "Pac-12",
          "team_postgame_elo": 1851
         },
         {
          "logos": "http://a.espncdn.com/i/teamlogos/ncaa/500/264.png",
          "main_team": "Washington",
          "season": 2022,
          "team_conference": "Pac-12",
          "team_postgame_elo": 1729
         },
         {
          "logos": "http://a.espncdn.com/i/teamlogos/ncaa/500/25.png",
          "main_team": "California",
          "season": 2014,
          "team_conference": "Pac-12",
          "team_postgame_elo": 1376
         },
         {
          "logos": "http://a.espncdn.com/i/teamlogos/ncaa/500/25.png",
          "main_team": "California",
          "season": 2015,
          "team_conference": "Pac-12",
          "team_postgame_elo": 1567
         },
         {
          "logos": "http://a.espncdn.com/i/teamlogos/ncaa/500/25.png",
          "main_team": "California",
          "season": 2016,
          "team_conference": "Pac-12",
          "team_postgame_elo": 1531
         },
         {
          "logos": "http://a.espncdn.com/i/teamlogos/ncaa/500/25.png",
          "main_team": "California",
          "season": 2018,
          "team_conference": "Pac-12",
          "team_postgame_elo": 1536
         },
         {
          "logos": "http://a.espncdn.com/i/teamlogos/ncaa/500/25.png",
          "main_team": "California",
          "season": 2021,
          "team_conference": "Pac-12",
          "team_postgame_elo": 1516
         },
         {
          "logos": "http://a.espncdn.com/i/teamlogos/ncaa/500/25.png",
          "main_team": "California",
          "season": 2022,
          "team_conference": "Pac-12",
          "team_postgame_elo": 1406
         },
         {
          "logos": "http://a.espncdn.com/i/teamlogos/ncaa/500/25.png",
          "main_team": "California",
          "season": 2013,
          "team_conference": "Pac-12",
          "team_postgame_elo": 1095
         },
         {
          "logos": "http://a.espncdn.com/i/teamlogos/ncaa/500/25.png",
          "main_team": "California",
          "season": 2017,
          "team_conference": "Pac-12",
          "team_postgame_elo": 1584
         },
         {
          "logos": "http://a.espncdn.com/i/teamlogos/ncaa/500/25.png",
          "main_team": "California",
          "season": 2019,
          "team_conference": "Pac-12",
          "team_postgame_elo": 1475
         },
         {
          "logos": "http://a.espncdn.com/i/teamlogos/ncaa/500/25.png",
          "main_team": "California",
          "season": 2023,
          "team_conference": "Pac-12",
          "team_postgame_elo": 1533
         },
         {
          "logos": "http://a.espncdn.com/i/teamlogos/ncaa/500/97.png",
          "main_team": "Louisville",
          "season": 2014,
          "team_conference": "ACC",
          "team_postgame_elo": 1803
         },
         {
          "logos": "http://a.espncdn.com/i/teamlogos/ncaa/500/97.png",
          "main_team": "Louisville",
          "season": 2016,
          "team_conference": "ACC",
          "team_postgame_elo": 1912
         },
         {
          "logos": "http://a.espncdn.com/i/teamlogos/ncaa/500/97.png",
          "main_team": "Louisville",
          "season": 2018,
          "team_conference": "ACC",
          "team_postgame_elo": 1084
         },
         {
          "logos": "http://a.espncdn.com/i/teamlogos/ncaa/500/97.png",
          "main_team": "Louisville",
          "season": 2021,
          "team_conference": "ACC",
          "team_postgame_elo": 1597
         },
         {
          "logos": "http://a.espncdn.com/i/teamlogos/ncaa/500/97.png",
          "main_team": "Louisville",
          "season": 2023,
          "team_conference": "ACC",
          "team_postgame_elo": 1736
         },
         {
          "logos": "http://a.espncdn.com/i/teamlogos/ncaa/500/97.png",
          "main_team": "Louisville",
          "season": 2015,
          "team_conference": "ACC",
          "team_postgame_elo": 1655
         },
         {
          "logos": "http://a.espncdn.com/i/teamlogos/ncaa/500/97.png",
          "main_team": "Louisville",
          "season": 2017,
          "team_conference": "ACC",
          "team_postgame_elo": 1812
         },
         {
          "logos": "http://a.espncdn.com/i/teamlogos/ncaa/500/97.png",
          "main_team": "Louisville",
          "season": 2019,
          "team_conference": "ACC",
          "team_postgame_elo": 1358
         },
         {
          "logos": "http://a.espncdn.com/i/teamlogos/ncaa/500/97.png",
          "main_team": "Louisville",
          "season": 2022,
          "team_conference": "ACC",
          "team_postgame_elo": 1704
         },
         {
          "logos": "http://a.espncdn.com/i/teamlogos/ncaa/500/221.png",
          "main_team": "Pittsburgh",
          "season": 2013,
          "team_conference": "ACC",
          "team_postgame_elo": 1531
         },
         {
          "logos": "http://a.espncdn.com/i/teamlogos/ncaa/500/221.png",
          "main_team": "Pittsburgh",
          "season": 2015,
          "team_conference": "ACC",
          "team_postgame_elo": 1608
         },
         {
          "logos": "http://a.espncdn.com/i/teamlogos/ncaa/500/221.png",
          "main_team": "Pittsburgh",
          "season": 2016,
          "team_conference": "ACC",
          "team_postgame_elo": 1697
         },
         {
          "logos": "http://a.espncdn.com/i/teamlogos/ncaa/500/221.png",
          "main_team": "Pittsburgh",
          "season": 2017,
          "team_conference": "ACC",
          "team_postgame_elo": 1585
         },
         {
          "logos": "http://a.espncdn.com/i/teamlogos/ncaa/500/221.png",
          "main_team": "Pittsburgh",
          "season": 2019,
          "team_conference": "ACC",
          "team_postgame_elo": 1512
         },
         {
          "logos": "http://a.espncdn.com/i/teamlogos/ncaa/500/221.png",
          "main_team": "Pittsburgh",
          "season": 2014,
          "team_conference": "ACC",
          "team_postgame_elo": 1545
         },
         {
          "logos": "http://a.espncdn.com/i/teamlogos/ncaa/500/221.png",
          "main_team": "Pittsburgh",
          "season": 2018,
          "team_conference": "ACC",
          "team_postgame_elo": 1598
         },
         {
          "logos": "http://a.espncdn.com/i/teamlogos/ncaa/500/221.png",
          "main_team": "Pittsburgh",
          "season": 2021,
          "team_conference": "ACC",
          "team_postgame_elo": 1742
         },
         {
          "logos": "http://a.espncdn.com/i/teamlogos/ncaa/500/221.png",
          "main_team": "Pittsburgh",
          "season": 2022,
          "team_conference": "ACC",
          "team_postgame_elo": 1688
         },
         {
          "logos": "http://a.espncdn.com/i/teamlogos/ncaa/500/221.png",
          "main_team": "Pittsburgh",
          "season": 2023,
          "team_conference": "ACC",
          "team_postgame_elo": 1404
         },
         {
          "logos": "http://a.espncdn.com/i/teamlogos/ncaa/500/9.png",
          "main_team": "Arizona State",
          "season": 2013,
          "team_conference": "Pac-12",
          "team_postgame_elo": 1957
         },
         {
          "logos": "http://a.espncdn.com/i/teamlogos/ncaa/500/9.png",
          "main_team": "Arizona State",
          "season": 2017,
          "team_conference": "Pac-12",
          "team_postgame_elo": 1528
         },
         {
          "logos": "http://a.espncdn.com/i/teamlogos/ncaa/500/9.png",
          "main_team": "Arizona State",
          "season": 2019,
          "team_conference": "Pac-12",
          "team_postgame_elo": 1565
         },
         {
          "logos": "http://a.espncdn.com/i/teamlogos/ncaa/500/9.png",
          "main_team": "Arizona State",
          "season": 2021,
          "team_conference": "Pac-12",
          "team_postgame_elo": 1665
         },
         {
          "logos": "http://a.espncdn.com/i/teamlogos/ncaa/500/9.png",
          "main_team": "Arizona State",
          "season": 2023,
          "team_conference": "Pac-12",
          "team_postgame_elo": 1283
         },
         {
          "logos": "http://a.espncdn.com/i/teamlogos/ncaa/500/9.png",
          "main_team": "Arizona State",
          "season": 2014,
          "team_conference": "Pac-12",
          "team_postgame_elo": 1782
         },
         {
          "logos": "http://a.espncdn.com/i/teamlogos/ncaa/500/9.png",
          "main_team": "Arizona State",
          "season": 2015,
          "team_conference": "Pac-12",
          "team_postgame_elo": 1666
         },
         {
          "logos": "http://a.espncdn.com/i/teamlogos/ncaa/500/9.png",
          "main_team": "Arizona State",
          "season": 2016,
          "team_conference": "Pac-12",
          "team_postgame_elo": 1366
         },
         {
          "logos": "http://a.espncdn.com/i/teamlogos/ncaa/500/9.png",
          "main_team": "Arizona State",
          "season": 2018,
          "team_conference": "Pac-12",
          "team_postgame_elo": 1662
         },
         {
          "logos": "http://a.espncdn.com/i/teamlogos/ncaa/500/9.png",
          "main_team": "Arizona State",
          "season": 2022,
          "team_conference": "Pac-12",
          "team_postgame_elo": 1446
         },
         {
          "logos": "http://a.espncdn.com/i/teamlogos/ncaa/500/164.png",
          "main_team": "Rutgers",
          "season": 2015,
          "team_conference": "Big Ten",
          "team_postgame_elo": 1308
         },
         {
          "logos": "http://a.espncdn.com/i/teamlogos/ncaa/500/164.png",
          "main_team": "Rutgers",
          "season": 2017,
          "team_conference": "Big Ten",
          "team_postgame_elo": 1097
         },
         {
          "logos": "http://a.espncdn.com/i/teamlogos/ncaa/500/164.png",
          "main_team": "Rutgers",
          "season": 2021,
          "team_conference": "Big Ten",
          "team_postgame_elo": 1326
         },
         {
          "logos": "http://a.espncdn.com/i/teamlogos/ncaa/500/164.png",
          "main_team": "Rutgers",
          "season": 2023,
          "team_conference": "Big Ten",
          "team_postgame_elo": 1421
         },
         {
          "logos": "http://a.espncdn.com/i/teamlogos/ncaa/500/164.png",
          "main_team": "Rutgers",
          "season": 2014,
          "team_conference": "Big Ten",
          "team_postgame_elo": 1414
         },
         {
          "logos": "http://a.espncdn.com/i/teamlogos/ncaa/500/164.png",
          "main_team": "Rutgers",
          "season": 2016,
          "team_conference": "Big Ten",
          "team_postgame_elo": 1004
         },
         {
          "logos": "http://a.espncdn.com/i/teamlogos/ncaa/500/164.png",
          "main_team": "Rutgers",
          "season": 2018,
          "team_conference": "Big Ten",
          "team_postgame_elo": 1147
         },
         {
          "logos": "http://a.espncdn.com/i/teamlogos/ncaa/500/164.png",
          "main_team": "Rutgers",
          "season": 2019,
          "team_conference": "Big Ten",
          "team_postgame_elo": 1094
         },
         {
          "logos": "http://a.espncdn.com/i/teamlogos/ncaa/500/164.png",
          "main_team": "Rutgers",
          "season": 2022,
          "team_conference": "Big Ten",
          "team_postgame_elo": 1182
         },
         {
          "logos": "http://a.espncdn.com/i/teamlogos/ncaa/500/96.png",
          "main_team": "Kentucky",
          "season": 2013,
          "team_conference": "SEC",
          "team_postgame_elo": 1235
         },
         {
          "logos": "http://a.espncdn.com/i/teamlogos/ncaa/500/96.png",
          "main_team": "Kentucky",
          "season": 2015,
          "team_conference": "SEC",
          "team_postgame_elo": 1460
         },
         {
          "logos": "http://a.espncdn.com/i/teamlogos/ncaa/500/96.png",
          "main_team": "Kentucky",
          "season": 2017,
          "team_conference": "SEC",
          "team_postgame_elo": 1424
         },
         {
          "logos": "http://a.espncdn.com/i/teamlogos/ncaa/500/96.png",
          "main_team": "Kentucky",
          "season": 2019,
          "team_conference": "SEC",
          "team_postgame_elo": 1709
         },
         {
          "logos": "http://a.espncdn.com/i/teamlogos/ncaa/500/96.png",
          "main_team": "Kentucky",
          "season": 2022,
          "team_conference": "SEC",
          "team_postgame_elo": 1645
         },
         {
          "logos": "http://a.espncdn.com/i/teamlogos/ncaa/500/96.png",
          "main_team": "Kentucky",
          "season": 2014,
          "team_conference": "SEC",
          "team_postgame_elo": 1351
         },
         {
          "logos": "http://a.espncdn.com/i/teamlogos/ncaa/500/96.png",
          "main_team": "Kentucky",
          "season": 2016,
          "team_conference": "SEC",
          "team_postgame_elo": 1503
         },
         {
          "logos": "http://a.espncdn.com/i/teamlogos/ncaa/500/96.png",
          "main_team": "Kentucky",
          "season": 2018,
          "team_conference": "SEC",
          "team_postgame_elo": 1659
         },
         {
          "logos": "http://a.espncdn.com/i/teamlogos/ncaa/500/96.png",
          "main_team": "Kentucky",
          "season": 2021,
          "team_conference": "SEC",
          "team_postgame_elo": 1753
         },
         {
          "logos": "http://a.espncdn.com/i/teamlogos/ncaa/500/96.png",
          "main_team": "Kentucky",
          "season": 2023,
          "team_conference": "SEC",
          "team_postgame_elo": 1636
         },
         {
          "logos": "http://a.espncdn.com/i/teamlogos/ncaa/500/2509.png",
          "main_team": "Purdue",
          "season": 2015,
          "team_conference": "Big Ten",
          "team_postgame_elo": 1218
         },
         {
          "logos": "http://a.espncdn.com/i/teamlogos/ncaa/500/2509.png",
          "main_team": "Purdue",
          "season": 2017,
          "team_conference": "Big Ten",
          "team_postgame_elo": 1578
         },
         {
          "logos": "http://a.espncdn.com/i/teamlogos/ncaa/500/2509.png",
          "main_team": "Purdue",
          "season": 2019,
          "team_conference": "Big Ten",
          "team_postgame_elo": 1488
         },
         {
          "logos": "http://a.espncdn.com/i/teamlogos/ncaa/500/2509.png",
          "main_team": "Purdue",
          "season": 2021,
          "team_conference": "Big Ten",
          "team_postgame_elo": 1696
         },
         {
          "logos": "http://a.espncdn.com/i/teamlogos/ncaa/500/2509.png",
          "main_team": "Purdue",
          "season": 2023,
          "team_conference": "Big Ten",
          "team_postgame_elo": 1489
         },
         {
          "logos": "http://a.espncdn.com/i/teamlogos/ncaa/500/2509.png",
          "main_team": "Purdue",
          "season": 2013,
          "team_conference": "Big Ten",
          "team_postgame_elo": 1123
         },
         {
          "logos": "http://a.espncdn.com/i/teamlogos/ncaa/500/2509.png",
          "main_team": "Purdue",
          "season": 2014,
          "team_conference": "Big Ten",
          "team_postgame_elo": 1275
         },
         {
          "logos": "http://a.espncdn.com/i/teamlogos/ncaa/500/2509.png",
          "main_team": "Purdue",
          "season": 2016,
          "team_conference": "Big Ten",
          "team_postgame_elo": 1162
         },
         {
          "logos": "http://a.espncdn.com/i/teamlogos/ncaa/500/2509.png",
          "main_team": "Purdue",
          "season": 2018,
          "team_conference": "Big Ten",
          "team_postgame_elo": 1644
         },
         {
          "logos": "http://a.espncdn.com/i/teamlogos/ncaa/500/2509.png",
          "main_team": "Purdue",
          "season": 2022,
          "team_conference": "Big Ten",
          "team_postgame_elo": 1622
         },
         {
          "logos": "http://a.espncdn.com/i/teamlogos/ncaa/500/153.png",
          "main_team": "North Carolina",
          "season": 2013,
          "team_conference": "ACC",
          "team_postgame_elo": 1772
         },
         {
          "logos": "http://a.espncdn.com/i/teamlogos/ncaa/500/153.png",
          "main_team": "North Carolina",
          "season": 2014,
          "team_conference": "ACC",
          "team_postgame_elo": 1517
         },
         {
          "logos": "http://a.espncdn.com/i/teamlogos/ncaa/500/153.png",
          "main_team": "North Carolina",
          "season": 2016,
          "team_conference": "ACC",
          "team_postgame_elo": 1749
         },
         {
          "logos": "http://a.espncdn.com/i/teamlogos/ncaa/500/153.png",
          "main_team": "North Carolina",
          "season": 2022,
          "team_conference": "ACC",
          "team_postgame_elo": 1599
         },
         {
          "logos": "http://a.espncdn.com/i/teamlogos/ncaa/500/153.png",
          "main_team": "North Carolina",
          "season": 2020,
          "team_conference": "ACC",
          "team_postgame_elo": 1837
         },
         {
          "logos": "http://a.espncdn.com/i/teamlogos/ncaa/500/153.png",
          "main_team": "North Carolina",
          "season": 2015,
          "team_conference": "ACC",
          "team_postgame_elo": 1857
         },
         {
          "logos": "http://a.espncdn.com/i/teamlogos/ncaa/500/153.png",
          "main_team": "North Carolina",
          "season": 2017,
          "team_conference": "ACC",
          "team_postgame_elo": 1442
         },
         {
          "logos": "http://a.espncdn.com/i/teamlogos/ncaa/500/153.png",
          "main_team": "North Carolina",
          "season": 2019,
          "team_conference": "ACC",
          "team_postgame_elo": 1567
         },
         {
          "logos": "http://a.espncdn.com/i/teamlogos/ncaa/500/153.png",
          "main_team": "North Carolina",
          "season": 2021,
          "team_conference": "ACC",
          "team_postgame_elo": 1656
         },
         {
          "logos": "http://a.espncdn.com/i/teamlogos/ncaa/500/153.png",
          "main_team": "North Carolina",
          "season": 2023,
          "team_conference": "ACC",
          "team_postgame_elo": 1634
         },
         {
          "logos": "http://a.espncdn.com/i/teamlogos/ncaa/500/344.png",
          "main_team": "Mississippi State",
          "season": 2013,
          "team_conference": "SEC",
          "team_postgame_elo": 1650
         },
         {
          "logos": "http://a.espncdn.com/i/teamlogos/ncaa/500/344.png",
          "main_team": "Mississippi State",
          "season": 2015,
          "team_conference": "SEC",
          "team_postgame_elo": 1791
         },
         {
          "logos": "http://a.espncdn.com/i/teamlogos/ncaa/500/344.png",
          "main_team": "Mississippi State",
          "season": 2017,
          "team_conference": "SEC",
          "team_postgame_elo": 1778
         },
         {
          "logos": "http://a.espncdn.com/i/teamlogos/ncaa/500/344.png",
          "main_team": "Mississippi State",
          "season": 2019,
          "team_conference": "SEC",
          "team_postgame_elo": 1622
         },
         {
          "logos": "http://a.espncdn.com/i/teamlogos/ncaa/500/344.png",
          "main_team": "Mississippi State",
          "season": 2021,
          "team_conference": "SEC",
          "team_postgame_elo": 1633
         },
         {
          "logos": "http://a.espncdn.com/i/teamlogos/ncaa/500/344.png",
          "main_team": "Mississippi State",
          "season": 2023,
          "team_conference": "SEC",
          "team_postgame_elo": 1421
         },
         {
          "logos": "http://a.espncdn.com/i/teamlogos/ncaa/500/344.png",
          "main_team": "Mississippi State",
          "season": 2014,
          "team_conference": "SEC",
          "team_postgame_elo": 1933
         },
         {
          "logos": "http://a.espncdn.com/i/teamlogos/ncaa/500/344.png",
          "main_team": "Mississippi State",
          "season": 2016,
          "team_conference": "SEC",
          "team_postgame_elo": 1674
         },
         {
          "logos": "http://a.espncdn.com/i/teamlogos/ncaa/500/344.png",
          "main_team": "Mississippi State",
          "season": 2018,
          "team_conference": "SEC",
          "team_postgame_elo": 1949
         },
         {
          "logos": "http://a.espncdn.com/i/teamlogos/ncaa/500/344.png",
          "main_team": "Mississippi State",
          "season": 2022,
          "team_conference": "SEC",
          "team_postgame_elo": 1675
         },
         {
          "logos": "http://a.espncdn.com/i/teamlogos/ncaa/500/61.png",
          "main_team": "Georgia",
          "season": 2014,
          "team_conference": "SEC",
          "team_postgame_elo": 2004
         },
         {
          "logos": "http://a.espncdn.com/i/teamlogos/ncaa/500/61.png",
          "main_team": "Georgia",
          "season": 2016,
          "team_conference": "SEC",
          "team_postgame_elo": 1643
         },
         {
          "logos": "http://a.espncdn.com/i/teamlogos/ncaa/500/61.png",
          "main_team": "Georgia",
          "season": 2018,
          "team_conference": "SEC",
          "team_postgame_elo": 2023
         },
         {
          "logos": "http://a.espncdn.com/i/teamlogos/ncaa/500/61.png",
          "main_team": "Georgia",
          "season": 2022,
          "team_conference": "SEC",
          "team_postgame_elo": 2132
         },
         {
          "logos": "http://a.espncdn.com/i/teamlogos/ncaa/500/61.png",
          "main_team": "Georgia",
          "season": 2013,
          "team_conference": "SEC",
          "team_postgame_elo": 1890
         },
         {
          "logos": "http://a.espncdn.com/i/teamlogos/ncaa/500/61.png",
          "main_team": "Georgia",
          "season": 2015,
          "team_conference": "SEC",
          "team_postgame_elo": 1795
         },
         {
          "logos": "http://a.espncdn.com/i/teamlogos/ncaa/500/61.png",
          "main_team": "Georgia",
          "season": 2017,
          "team_conference": "SEC",
          "team_postgame_elo": 1984
         },
         {
          "logos": "http://a.espncdn.com/i/teamlogos/ncaa/500/61.png",
          "main_team": "Georgia",
          "season": 2019,
          "team_conference": "SEC",
          "team_postgame_elo": 2061
         },
         {
          "logos": "http://a.espncdn.com/i/teamlogos/ncaa/500/61.png",
          "main_team": "Georgia",
          "season": 2021,
          "team_conference": "SEC",
          "team_postgame_elo": 2190
         },
         {
          "logos": "http://a.espncdn.com/i/teamlogos/ncaa/500/61.png",
          "main_team": "Georgia",
          "season": 2023,
          "team_conference": "SEC",
          "team_postgame_elo": 2122
         },
         {
          "logos": "http://a.espncdn.com/i/teamlogos/ncaa/500/77.png",
          "main_team": "Northwestern",
          "season": 2014,
          "team_conference": "Big Ten",
          "team_postgame_elo": 1473
         },
         {
          "logos": "http://a.espncdn.com/i/teamlogos/ncaa/500/77.png",
          "main_team": "Northwestern",
          "season": 2016,
          "team_conference": "Big Ten",
          "team_postgame_elo": 1593
         },
         {
          "logos": "http://a.espncdn.com/i/teamlogos/ncaa/500/77.png",
          "main_team": "Northwestern",
          "season": 2018,
          "team_conference": "Big Ten",
          "team_postgame_elo": 1664
         },
         {
          "logos": "http://a.espncdn.com/i/teamlogos/ncaa/500/77.png",
          "main_team": "Northwestern",
          "season": 2022,
          "team_conference": "Big Ten",
          "team_postgame_elo": 1257
         },
         {
          "logos": "http://a.espncdn.com/i/teamlogos/ncaa/500/77.png",
          "main_team": "Northwestern",
          "season": 2013,
          "team_conference": "Big Ten",
          "team_postgame_elo": 1570
         },
         {
          "logos": "http://a.espncdn.com/i/teamlogos/ncaa/500/77.png",
          "main_team": "Northwestern",
          "season": 2015,
          "team_conference": "Big Ten",
          "team_postgame_elo": 1535
         },
         {
          "logos": "http://a.espncdn.com/i/teamlogos/ncaa/500/77.png",
          "main_team": "Northwestern",
          "season": 2017,
          "team_conference": "Big Ten",
          "team_postgame_elo": 1792
         },
         {
          "logos": "http://a.espncdn.com/i/teamlogos/ncaa/500/77.png",
          "main_team": "Northwestern",
          "season": 2019,
          "team_conference": "Big Ten",
          "team_postgame_elo": 1492
         },
         {
          "logos": "http://a.espncdn.com/i/teamlogos/ncaa/500/77.png",
          "main_team": "Northwestern",
          "season": 2021,
          "team_conference": "Big Ten",
          "team_postgame_elo": 1292
         },
         {
          "logos": "http://a.espncdn.com/i/teamlogos/ncaa/500/77.png",
          "main_team": "Northwestern",
          "season": 2023,
          "team_conference": "Big Ten",
          "team_postgame_elo": 1463
         },
         {
          "logos": "http://a.espncdn.com/i/teamlogos/ncaa/500/145.png",
          "main_team": "Ole Miss",
          "season": 2014,
          "team_conference": "SEC",
          "team_postgame_elo": 1869
         },
         {
          "logos": "http://a.espncdn.com/i/teamlogos/ncaa/500/145.png",
          "main_team": "Ole Miss",
          "season": 2016,
          "team_conference": "SEC",
          "team_postgame_elo": 1600
         },
         {
          "logos": "http://a.espncdn.com/i/teamlogos/ncaa/500/145.png",
          "main_team": "Ole Miss",
          "season": 2018,
          "team_conference": "SEC",
          "team_postgame_elo": 1465
         },
         {
          "logos": "http://a.espncdn.com/i/teamlogos/ncaa/500/145.png",
          "main_team": "Ole Miss",
          "season": 2022,
          "team_conference": "SEC",
          "team_postgame_elo": 1676
         },
         {
          "logos": "http://a.espncdn.com/i/teamlogos/ncaa/500/145.png",
          "main_team": "Ole Miss",
          "season": 2013,
          "team_conference": "SEC",
          "team_postgame_elo": 1676
         },
         {
          "logos": "http://a.espncdn.com/i/teamlogos/ncaa/500/145.png",
          "main_team": "Ole Miss",
          "season": 2015,
          "team_conference": "SEC",
          "team_postgame_elo": 1866
         },
         {
          "logos": "http://a.espncdn.com/i/teamlogos/ncaa/500/145.png",
          "main_team": "Ole Miss",
          "season": 2017,
          "team_conference": "SEC",
          "team_postgame_elo": 1550
         },
         {
          "logos": "http://a.espncdn.com/i/teamlogos/ncaa/500/145.png",
          "main_team": "Ole Miss",
          "season": 2019,
          "team_conference": "SEC",
          "team_postgame_elo": 1587
         },
         {
          "logos": "http://a.espncdn.com/i/teamlogos/ncaa/500/145.png",
          "main_team": "Ole Miss",
          "season": 2021,
          "team_conference": "SEC",
          "team_postgame_elo": 1762
         },
         {
          "logos": "http://a.espncdn.com/i/teamlogos/ncaa/500/145.png",
          "main_team": "Ole Miss",
          "season": 2023,
          "team_conference": "SEC",
          "team_postgame_elo": 1676
         },
         {
          "logos": "http://a.espncdn.com/i/teamlogos/ncaa/500/252.png",
          "main_team": "BYU",
          "season": 2023,
          "team_conference": "Big 12",
          "team_postgame_elo": 1364
         },
         {
          "logos": "http://a.espncdn.com/i/teamlogos/ncaa/500/2641.png",
          "main_team": "Texas Tech",
          "season": 2014,
          "team_conference": "Big 12",
          "team_postgame_elo": 1358
         },
         {
          "logos": "http://a.espncdn.com/i/teamlogos/ncaa/500/2641.png",
          "main_team": "Texas Tech",
          "season": 2016,
          "team_conference": "Big 12",
          "team_postgame_elo": 1416
         },
         {
          "logos": "http://a.espncdn.com/i/teamlogos/ncaa/500/2641.png",
          "main_team": "Texas Tech",
          "season": 2018,
          "team_conference": "Big 12",
          "team_postgame_elo": 1594
         },
         {
          "logos": "http://a.espncdn.com/i/teamlogos/ncaa/500/2641.png",
          "main_team": "Texas Tech",
          "season": 2022,
          "team_conference": "Big 12",
          "team_postgame_elo": 1591
         },
         {
          "logos": "http://a.espncdn.com/i/teamlogos/ncaa/500/2641.png",
          "main_team": "Texas Tech",
          "season": 2013,
          "team_conference": "Big 12",
          "team_postgame_elo": 1555
         },
         {
          "logos": "http://a.espncdn.com/i/teamlogos/ncaa/500/2641.png",
          "main_team": "Texas Tech",
          "season": 2015,
          "team_conference": "Big 12",
          "team_postgame_elo": 1571
         },
         {
          "logos": "http://a.espncdn.com/i/teamlogos/ncaa/500/2641.png",
          "main_team": "Texas Tech",
          "season": 2017,
          "team_conference": "Big 12",
          "team_postgame_elo": 1525
         },
         {
          "logos": "http://a.espncdn.com/i/teamlogos/ncaa/500/2641.png",
          "main_team": "Texas Tech",
          "season": 2019,
          "team_conference": "Big 12",
          "team_postgame_elo": 1537
         },
         {
          "logos": "http://a.espncdn.com/i/teamlogos/ncaa/500/2641.png",
          "main_team": "Texas Tech",
          "season": 2021,
          "team_conference": "Big 12",
          "team_postgame_elo": 1451
         },
         {
          "logos": "http://a.espncdn.com/i/teamlogos/ncaa/500/2641.png",
          "main_team": "Texas Tech",
          "season": 2023,
          "team_conference": "Big 12",
          "team_postgame_elo": 1504
         },
         {
          "logos": "http://a.espncdn.com/i/teamlogos/ncaa/500/2305.png",
          "main_team": "Kansas",
          "season": 2013,
          "team_conference": "Big 12",
          "team_postgame_elo": 1146
         },
         {
          "logos": "http://a.espncdn.com/i/teamlogos/ncaa/500/2305.png",
          "main_team": "Kansas",
          "season": 2015,
          "team_conference": "Big 12",
          "team_postgame_elo": 924
         },
         {
          "logos": "http://a.espncdn.com/i/teamlogos/ncaa/500/2305.png",
          "main_team": "Kansas",
          "season": 2018,
          "team_conference": "Big 12",
          "team_postgame_elo": 1325
         },
         {
          "logos": "http://a.espncdn.com/i/teamlogos/ncaa/500/2305.png",
          "main_team": "Kansas",
          "season": 2019,
          "team_conference": "Big 12",
          "team_postgame_elo": 1222
         },
         {
          "logos": "http://a.espncdn.com/i/teamlogos/ncaa/500/2305.png",
          "main_team": "Kansas",
          "season": 2021,
          "team_conference": "Big 12",
          "team_postgame_elo": 1041
         },
         {
          "logos": "http://a.espncdn.com/i/teamlogos/ncaa/500/2305.png",
          "main_team": "Kansas",
          "season": 2014,
          "team_conference": "Big 12",
          "team_postgame_elo": 1215
         },
         {
          "logos": "http://a.espncdn.com/i/teamlogos/ncaa/500/2305.png",
          "main_team": "Kansas",
          "season": 2016,
          "team_conference": "Big 12",
          "team_postgame_elo": 1038
         },
         {
          "logos": "http://a.espncdn.com/i/teamlogos/ncaa/500/2305.png",
          "main_team": "Kansas",
          "season": 2017,
          "team_conference": "Big 12",
          "team_postgame_elo": 987
         },
         {
          "logos": "http://a.espncdn.com/i/teamlogos/ncaa/500/2305.png",
          "main_team": "Kansas",
          "season": 2022,
          "team_conference": "Big 12",
          "team_postgame_elo": 1366
         },
         {
          "logos": "http://a.espncdn.com/i/teamlogos/ncaa/500/2305.png",
          "main_team": "Kansas",
          "season": 2023,
          "team_conference": "Big 12",
          "team_postgame_elo": 1671
         },
         {
          "logos": "http://a.espncdn.com/i/teamlogos/ncaa/500/99.png",
          "main_team": "LSU",
          "season": 2013,
          "team_conference": "SEC",
          "team_postgame_elo": 1996
         },
         {
          "logos": "http://a.espncdn.com/i/teamlogos/ncaa/500/99.png",
          "main_team": "LSU",
          "season": 2017,
          "team_conference": "SEC",
          "team_postgame_elo": 1857
         },
         {
          "logos": "http://a.espncdn.com/i/teamlogos/ncaa/500/99.png",
          "main_team": "LSU",
          "season": 2019,
          "team_conference": "SEC",
          "team_postgame_elo": 2138
         },
         {
          "logos": "http://a.espncdn.com/i/teamlogos/ncaa/500/99.png",
          "main_team": "LSU",
          "season": 2021,
          "team_conference": "SEC",
          "team_postgame_elo": 1619
         },
         {
          "logos": "http://a.espncdn.com/i/teamlogos/ncaa/500/99.png",
          "main_team": "LSU",
          "season": 2023,
          "team_conference": "SEC",
          "team_postgame_elo": 1995
         },
         {
          "logos": "http://a.espncdn.com/i/teamlogos/ncaa/500/99.png",
          "main_team": "LSU",
          "season": 2014,
          "team_conference": "SEC",
          "team_postgame_elo": 1826
         },
         {
          "logos": "http://a.espncdn.com/i/teamlogos/ncaa/500/99.png",
          "main_team": "LSU",
          "season": 2018,
          "team_conference": "SEC",
          "team_postgame_elo": 1834
         },
         {
          "logos": "http://a.espncdn.com/i/teamlogos/ncaa/500/99.png",
          "main_team": "LSU",
          "season": 2022,
          "team_conference": "SEC",
          "team_postgame_elo": 1729
         },
         {
          "logos": "http://a.espncdn.com/i/teamlogos/ncaa/500/99.png",
          "main_team": "LSU",
          "season": 2015,
          "team_conference": "SEC",
          "team_postgame_elo": 1817
         },
         {
          "logos": "http://a.espncdn.com/i/teamlogos/ncaa/500/99.png",
          "main_team": "LSU",
          "season": 2016,
          "team_conference": "SEC",
          "team_postgame_elo": 1972
         },
         {
          "logos": "http://a.espncdn.com/i/teamlogos/ncaa/500/38.png",
          "main_team": "Colorado",
          "season": 2014,
          "team_conference": "Pac-12",
          "team_postgame_elo": 1286
         },
         {
          "logos": "http://a.espncdn.com/i/teamlogos/ncaa/500/38.png",
          "main_team": "Colorado",
          "season": 2016,
          "team_conference": "Pac-12",
          "team_postgame_elo": 1771
         },
         {
          "logos": "http://a.espncdn.com/i/teamlogos/ncaa/500/38.png",
          "main_team": "Colorado",
          "season": 2022,
          "team_conference": "Pac-12",
          "team_postgame_elo": 986
         },
         {
          "logos": "http://a.espncdn.com/i/teamlogos/ncaa/500/38.png",
          "main_team": "Colorado",
          "season": 2013,
          "team_conference": "Pac-12",
          "team_postgame_elo": 1109
         },
         {
          "logos": "http://a.espncdn.com/i/teamlogos/ncaa/500/38.png",
          "main_team": "Colorado",
          "season": 2015,
          "team_conference": "Pac-12",
          "team_postgame_elo": 1355
         },
         {
          "logos": "http://a.espncdn.com/i/teamlogos/ncaa/500/38.png",
          "main_team": "Colorado",
          "season": 2017,
          "team_conference": "Pac-12",
          "team_postgame_elo": 1492
         },
         {
          "logos": "http://a.espncdn.com/i/teamlogos/ncaa/500/38.png",
          "main_team": "Colorado",
          "season": 2018,
          "team_conference": "Pac-12",
          "team_postgame_elo": 1424
         },
         {
          "logos": "http://a.espncdn.com/i/teamlogos/ncaa/500/38.png",
          "main_team": "Colorado",
          "season": 2019,
          "team_conference": "Pac-12",
          "team_postgame_elo": 1361
         },
         {
          "logos": "http://a.espncdn.com/i/teamlogos/ncaa/500/38.png",
          "main_team": "Colorado",
          "season": 2021,
          "team_conference": "Pac-12",
          "team_postgame_elo": 1331
         },
         {
          "logos": "http://a.espncdn.com/i/teamlogos/ncaa/500/38.png",
          "main_team": "Colorado",
          "season": 2023,
          "team_conference": "Pac-12",
          "team_postgame_elo": 1237
         },
         {
          "logos": "http://a.espncdn.com/i/teamlogos/ncaa/500/30.png",
          "main_team": "USC",
          "season": 2014,
          "team_conference": "Pac-12",
          "team_postgame_elo": 1869
         },
         {
          "logos": "http://a.espncdn.com/i/teamlogos/ncaa/500/30.png",
          "main_team": "USC",
          "season": 2015,
          "team_conference": "Pac-12",
          "team_postgame_elo": 1840
         },
         {
          "logos": "http://a.espncdn.com/i/teamlogos/ncaa/500/30.png",
          "main_team": "USC",
          "season": 2016,
          "team_conference": "Pac-12",
          "team_postgame_elo": 1951
         },
         {
          "logos": "http://a.espncdn.com/i/teamlogos/ncaa/500/30.png",
          "main_team": "USC",
          "season": 2017,
          "team_conference": "Pac-12",
          "team_postgame_elo": 1829
         },
         {
          "logos": "http://a.espncdn.com/i/teamlogos/ncaa/500/30.png",
          "main_team": "USC",
          "season": 2018,
          "team_conference": "Pac-12",
          "team_postgame_elo": 1606
         },
         {
          "logos": "http://a.espncdn.com/i/teamlogos/ncaa/500/30.png",
          "main_team": "USC",
          "season": 2019,
          "team_conference": "Pac-12",
          "team_postgame_elo": 1690
         },
         {
          "logos": "http://a.espncdn.com/i/teamlogos/ncaa/500/30.png",
          "main_team": "USC",
          "season": 2022,
          "team_conference": "Pac-12",
          "team_postgame_elo": 1785
         },
         {
          "logos": "http://a.espncdn.com/i/teamlogos/ncaa/500/30.png",
          "main_team": "USC",
          "season": 2023,
          "team_conference": "Pac-12",
          "team_postgame_elo": 1683
         },
         {
          "logos": "http://a.espncdn.com/i/teamlogos/ncaa/500/30.png",
          "main_team": "USC",
          "season": 2013,
          "team_conference": "Pac-12",
          "team_postgame_elo": 1752
         },
         {
          "logos": "http://a.espncdn.com/i/teamlogos/ncaa/500/30.png",
          "main_team": "USC",
          "season": 2021,
          "team_conference": "Pac-12",
          "team_postgame_elo": 1481
         },
         {
          "logos": "http://a.espncdn.com/i/teamlogos/ncaa/500/24.png",
          "main_team": "Stanford",
          "season": 2013,
          "team_conference": "Pac-12",
          "team_postgame_elo": 1962
         },
         {
          "logos": "http://a.espncdn.com/i/teamlogos/ncaa/500/24.png",
          "main_team": "Stanford",
          "season": 2015,
          "team_conference": "Pac-12",
          "team_postgame_elo": 1925
         },
         {
          "logos": "http://a.espncdn.com/i/teamlogos/ncaa/500/24.png",
          "main_team": "Stanford",
          "season": 2016,
          "team_conference": "Pac-12",
          "team_postgame_elo": 1750
         },
         {
          "logos": "http://a.espncdn.com/i/teamlogos/ncaa/500/24.png",
          "main_team": "Stanford",
          "season": 2017,
          "team_conference": "Pac-12",
          "team_postgame_elo": 1903
         },
         {
          "logos": "http://a.espncdn.com/i/teamlogos/ncaa/500/24.png",
          "main_team": "Stanford",
          "season": 2019,
          "team_conference": "Pac-12",
          "team_postgame_elo": 1454
         },
         {
          "logos": "http://a.espncdn.com/i/teamlogos/ncaa/500/24.png",
          "main_team": "Stanford",
          "season": 2021,
          "team_conference": "Pac-12",
          "team_postgame_elo": 1283
         },
         {
          "logos": "http://a.espncdn.com/i/teamlogos/ncaa/500/24.png",
          "main_team": "Stanford",
          "season": 2022,
          "team_conference": "Pac-12",
          "team_postgame_elo": 1237
         },
         {
          "logos": "http://a.espncdn.com/i/teamlogos/ncaa/500/24.png",
          "main_team": "Stanford",
          "season": 2023,
          "team_conference": "Pac-12",
          "team_postgame_elo": 1180
         },
         {
          "logos": "http://a.espncdn.com/i/teamlogos/ncaa/500/24.png",
          "main_team": "Stanford",
          "season": 2014,
          "team_conference": "Pac-12",
          "team_postgame_elo": 1837
         },
         {
          "logos": "http://a.espncdn.com/i/teamlogos/ncaa/500/24.png",
          "main_team": "Stanford",
          "season": 2018,
          "team_conference": "Pac-12",
          "team_postgame_elo": 1710
         },
         {
          "logos": "http://a.espncdn.com/i/teamlogos/ncaa/500/52.png",
          "main_team": "Florida State",
          "season": 2014,
          "team_conference": "ACC",
          "team_postgame_elo": 2017
         },
         {
          "logos": "http://a.espncdn.com/i/teamlogos/ncaa/500/52.png",
          "main_team": "Florida State",
          "season": 2016,
          "team_conference": "ACC",
          "team_postgame_elo": 1847
         },
         {
          "logos": "http://a.espncdn.com/i/teamlogos/ncaa/500/52.png",
          "main_team": "Florida State",
          "season": 2017,
          "team_conference": "ACC",
          "team_postgame_elo": 1664
         },
         {
          "logos": "http://a.espncdn.com/i/teamlogos/ncaa/500/52.png",
          "main_team": "Florida State",
          "season": 2018,
          "team_conference": "ACC",
          "team_postgame_elo": 1413
         },
         {
          "logos": "http://a.espncdn.com/i/teamlogos/ncaa/500/52.png",
          "main_team": "Florida State",
          "season": 2022,
          "team_conference": "ACC",
          "team_postgame_elo": 1850
         },
         {
          "logos": "http://a.espncdn.com/i/teamlogos/ncaa/500/52.png",
          "main_team": "Florida State",
          "season": 2013,
          "team_conference": "ACC",
          "team_postgame_elo": 2366
         },
         {
          "logos": "http://a.espncdn.com/i/teamlogos/ncaa/500/52.png",
          "main_team": "Florida State",
          "season": 2015,
          "team_conference": "ACC",
          "team_postgame_elo": 1938
         },
         {
          "logos": "http://a.espncdn.com/i/teamlogos/ncaa/500/52.png",
          "main_team": "Florida State",
          "season": 2019,
          "team_conference": "ACC",
          "team_postgame_elo": 1503
         },
         {
          "logos": "http://a.espncdn.com/i/teamlogos/ncaa/500/52.png",
          "main_team": "Florida State",
          "season": 2021,
          "team_conference": "ACC",
          "team_postgame_elo": 1502
         },
         {
          "logos": "http://a.espncdn.com/i/teamlogos/ncaa/500/52.png",
          "main_team": "Florida State",
          "season": 2023,
          "team_conference": "ACC",
          "team_postgame_elo": 1943
         },
         {
          "logos": "http://a.espncdn.com/i/teamlogos/ncaa/500/183.png",
          "main_team": "Syracuse",
          "season": 2013,
          "team_conference": "ACC",
          "team_postgame_elo": 1416
         },
         {
          "logos": "http://a.espncdn.com/i/teamlogos/ncaa/500/183.png",
          "main_team": "Syracuse",
          "season": 2015,
          "team_conference": "ACC",
          "team_postgame_elo": 1371
         },
         {
          "logos": "http://a.espncdn.com/i/teamlogos/ncaa/500/183.png",
          "main_team": "Syracuse",
          "season": 2017,
          "team_conference": "ACC",
          "team_postgame_elo": 1262
         },
         {
          "logos": "http://a.espncdn.com/i/teamlogos/ncaa/500/183.png",
          "main_team": "Syracuse",
          "season": 2019,
          "team_conference": "ACC",
          "team_postgame_elo": 1472
         },
         {
          "logos": "http://a.espncdn.com/i/teamlogos/ncaa/500/183.png",
          "main_team": "Syracuse",
          "season": 2021,
          "team_conference": "ACC",
          "team_postgame_elo": 1358
         },
         {
          "logos": "http://a.espncdn.com/i/teamlogos/ncaa/500/183.png",
          "main_team": "Syracuse",
          "season": 2023,
          "team_conference": "ACC",
          "team_postgame_elo": 1399
         },
         {
          "logos": "http://a.espncdn.com/i/teamlogos/ncaa/500/183.png",
          "main_team": "Syracuse",
          "season": 2014,
          "team_conference": "ACC",
          "team_postgame_elo": 1390
         },
         {
          "logos": "http://a.espncdn.com/i/teamlogos/ncaa/500/183.png",
          "main_team": "Syracuse",
          "season": 2016,
          "team_conference": "ACC",
          "team_postgame_elo": 1278
         },
         {
          "logos": "http://a.espncdn.com/i/teamlogos/ncaa/500/183.png",
          "main_team": "Syracuse",
          "season": 2018,
          "team_conference": "ACC",
          "team_postgame_elo": 1626
         },
         {
          "logos": "http://a.espncdn.com/i/teamlogos/ncaa/500/183.png",
          "main_team": "Syracuse",
          "season": 2022,
          "team_conference": "ACC",
          "team_postgame_elo": 1462
         },
         {
          "logos": "http://a.espncdn.com/i/teamlogos/ncaa/500/265.png",
          "main_team": "Washington State",
          "season": 2014,
          "team_conference": "Pac-12",
          "team_postgame_elo": 1382
         },
         {
          "logos": "http://a.espncdn.com/i/teamlogos/ncaa/500/265.png",
          "main_team": "Washington State",
          "season": 2016,
          "team_conference": "Pac-12",
          "team_postgame_elo": 1827
         },
         {
          "logos": "http://a.espncdn.com/i/teamlogos/ncaa/500/265.png",
          "main_team": "Washington State",
          "season": 2018,
          "team_conference": "Pac-12",
          "team_postgame_elo": 1782
         },
         {
          "logos": "http://a.espncdn.com/i/teamlogos/ncaa/500/265.png",
          "main_team": "Washington State",
          "season": 2022,
          "team_conference": "Pac-12",
          "team_postgame_elo": 1644
         },
         {
          "logos": "http://a.espncdn.com/i/teamlogos/ncaa/500/265.png",
          "main_team": "Washington State",
          "season": 2013,
          "team_conference": "Pac-12",
          "team_postgame_elo": 1424
         },
         {
          "logos": "http://a.espncdn.com/i/teamlogos/ncaa/500/265.png",
          "main_team": "Washington State",
          "season": 2015,
          "team_conference": "Pac-12",
          "team_postgame_elo": 1564
         },
         {
          "logos": "http://a.espncdn.com/i/teamlogos/ncaa/500/265.png",
          "main_team": "Washington State",
          "season": 2017,
          "team_conference": "Pac-12",
          "team_postgame_elo": 1656
         },
         {
          "logos": "http://a.espncdn.com/i/teamlogos/ncaa/500/265.png",
          "main_team": "Washington State",
          "season": 2019,
          "team_conference": "Pac-12",
          "team_postgame_elo": 1668
         },
         {
          "logos": "http://a.espncdn.com/i/teamlogos/ncaa/500/265.png",
          "main_team": "Washington State",
          "season": 2021,
          "team_conference": "Pac-12",
          "team_postgame_elo": 1646
         },
         {
          "logos": "http://a.espncdn.com/i/teamlogos/ncaa/500/265.png",
          "main_team": "Washington State",
          "season": 2023,
          "team_conference": "Pac-12",
          "team_postgame_elo": 1546
         },
         {
          "logos": "http://a.espncdn.com/i/teamlogos/ncaa/500/333.png",
          "main_team": "Alabama",
          "season": 2014,
          "team_conference": "SEC",
          "team_postgame_elo": 2101
         },
         {
          "logos": "http://a.espncdn.com/i/teamlogos/ncaa/500/333.png",
          "main_team": "Alabama",
          "season": 2016,
          "team_conference": "SEC",
          "team_postgame_elo": 2278
         },
         {
          "logos": "http://a.espncdn.com/i/teamlogos/ncaa/500/333.png",
          "main_team": "Alabama",
          "season": 2018,
          "team_conference": "SEC",
          "team_postgame_elo": 2336
         },
         {
          "logos": "http://a.espncdn.com/i/teamlogos/ncaa/500/333.png",
          "main_team": "Alabama",
          "season": 2022,
          "team_conference": "SEC",
          "team_postgame_elo": 2151
         },
         {
          "logos": "http://a.espncdn.com/i/teamlogos/ncaa/500/333.png",
          "main_team": "Alabama",
          "season": 2020,
          "team_conference": "SEC",
          "team_postgame_elo": 2337
         },
         {
          "logos": "http://a.espncdn.com/i/teamlogos/ncaa/500/333.png",
          "main_team": "Alabama",
          "season": 2013,
          "team_conference": "SEC",
          "team_postgame_elo": 2168
         },
         {
          "logos": "http://a.espncdn.com/i/teamlogos/ncaa/500/333.png",
          "main_team": "Alabama",
          "season": 2015,
          "team_conference": "SEC",
          "team_postgame_elo": 2097
         },
         {
          "logos": "http://a.espncdn.com/i/teamlogos/ncaa/500/333.png",
          "main_team": "Alabama",
          "season": 2017,
          "team_conference": "SEC",
          "team_postgame_elo": 2206
         },
         {
          "logos": "http://a.espncdn.com/i/teamlogos/ncaa/500/333.png",
          "main_team": "Alabama",
          "season": 2019,
          "team_conference": "SEC",
          "team_postgame_elo": 2160
         },
         {
          "logos": "http://a.espncdn.com/i/teamlogos/ncaa/500/333.png",
          "main_team": "Alabama",
          "season": 2021,
          "team_conference": "SEC",
          "team_postgame_elo": 2173
         },
         {
          "logos": "http://a.espncdn.com/i/teamlogos/ncaa/500/333.png",
          "main_team": "Alabama",
          "season": 2023,
          "team_conference": "SEC",
          "team_postgame_elo": 2028
         }
        ]
       },
       "facet": {
        "field": "season",
        "type": "ordinal"
       },
       "spec": {
        "encoding": {
         "tooltip": [
          {
           "field": "main_team",
           "type": "nominal"
          },
          {
           "field": "team_postgame_elo",
           "type": "quantitative"
          }
         ],
         "url": {
          "field": "logos",
          "type": "nominal"
         },
         "x": {
          "field": "team_postgame_elo",
          "scale": {
           "domain": [
            800,
            2500
           ]
          },
          "title": "ELO Rating at Season End",
          "type": "quantitative"
         },
         "y": {
          "field": "team_conference",
          "title": "Conference",
          "type": "nominal"
         }
        },
        "height": 250,
        "mark": {
         "height": 20,
         "opacity": 0.9,
         "type": "image",
         "width": 20
        },
        "width": 300
       },
       "title": "End of Regular Season ELO Rating: 2013 - 2023"
      },
      "text/plain": [
       "<VegaLite 5 object>\n",
       "\n",
       "If you see this message, it means the renderer has not been properly enabled\n",
       "for the frontend that you are using. For more information, see\n",
       "https://altair-viz.github.io/user_guide/troubleshooting.html\n"
      ]
     },
     "execution_count": 5,
     "metadata": {},
     "output_type": "execute_result"
    }
   ],
   "source": [
    "alt.Chart(final_df).mark_image(opacity = .90, width = 20, height = 20).encode(\n",
    "    \n",
    "    x = alt.X('team_postgame_elo', title = 'ELO Rating at Season End', scale=alt.Scale(domain=[800, 2500])), \n",
    "                                y = alt.Y('team_conference', title = 'Conference'),\n",
    "                                tooltip = ['main_team', 'team_postgame_elo'],\n",
    "                                url = 'logos'\n",
    "                               ).properties(height = 250, width = 300)\\\n",
    ".facet(facet = 'season:O', columns = 3).properties(title = 'End of Regular Season ELO Rating: 2013 - 2023')"
   ]
  },
  {
   "cell_type": "markdown",
   "id": "c903d9b8-1664-414d-8d93-63ba6e71f9b9",
   "metadata": {},
   "source": [
    "#### Trend out ELO over time"
   ]
  },
  {
   "cell_type": "code",
   "execution_count": 6,
   "id": "34a7a96e-49df-464a-86a3-6e975fe855a9",
   "metadata": {},
   "outputs": [
    {
     "name": "stderr",
     "output_type": "stream",
     "text": [
      "<ipython-input-6-f20a3df5e67c>:1: DtypeWarning: Columns (7,15) have mixed types. Specify dtype option on import or set low_memory=False.\n",
      "  df = pd.read_csv('../data/games_manipulated.csv')\n"
     ]
    }
   ],
   "source": [
    "df = pd.read_csv('../data/games_manipulated.csv')\n",
    "\n",
    "# Filter to only the power 5 conference, regular season\n",
    "power_5_conf = ['Pac-12', 'Big 12', 'ACC', 'SEC', 'Big Ten']\n",
    "df = df[df['team_conference'].isin(power_5_conf)]\n",
    "df = df[df['season_type'] == 'regular']\n",
    "\n",
    "# Join on to teams dataset for team logos and color\n",
    "final_df = pd.merge(left = df, right = df_teams, left_on = 'team_id', right_on = 'id')\n",
    "\n",
    "# Bring in only necessarry columns\n",
    "final_df = final_df[['season', 'team_id', 'main_team', 'game_that_season','team_postgame_elo', 'team_conference', 'logos', 'color']]"
   ]
  },
  {
   "cell_type": "code",
   "execution_count": 7,
   "id": "4f808e52-3da8-4095-9374-5039f48fa826",
   "metadata": {},
   "outputs": [
    {
     "data": {
      "application/vnd.vegalite.v5+json": {
       "$schema": "https://vega.github.io/schema/vega-lite/v5.6.1.json",
       "config": {
        "view": {
         "continuousHeight": 300,
         "continuousWidth": 300
        }
       },
       "datasets": {
        "data-156899450d5a955456b61dd74d5f2290": [
         {
          "color": "#890012",
          "game_that_season": 1,
          "logos": "http://a.espncdn.com/i/teamlogos/ncaa/500/254.png",
          "main_team": "Utah",
          "season": 2023,
          "team_conference": "Pac-12",
          "team_id": 254,
          "team_postgame_elo": 1784
         },
         {
          "color": "#890012",
          "game_that_season": 12,
          "logos": "http://a.espncdn.com/i/teamlogos/ncaa/500/254.png",
          "main_team": "Utah",
          "season": 2023,
          "team_conference": "Pac-12",
          "team_id": 254,
          "team_postgame_elo": 1719
         },
         {
          "color": "#002449",
          "game_that_season": 1,
          "logos": "http://a.espncdn.com/i/teamlogos/ncaa/500/12.png",
          "main_team": "Arizona",
          "season": 2023,
          "team_conference": "Pac-12",
          "team_id": 12,
          "team_postgame_elo": 1416
         },
         {
          "color": "#002449",
          "game_that_season": 12,
          "logos": "http://a.espncdn.com/i/teamlogos/ncaa/500/12.png",
          "main_team": "Arizona",
          "season": 2023,
          "team_conference": "Pac-12",
          "team_id": 12,
          "team_postgame_elo": 1778
         },
         {
          "color": "#044520",
          "game_that_season": 1,
          "logos": "http://a.espncdn.com/i/teamlogos/ncaa/500/2483.png",
          "main_team": "Oregon",
          "season": 2023,
          "team_conference": "Pac-12",
          "team_id": 2483,
          "team_postgame_elo": 1649
         },
         {
          "color": "#044520",
          "game_that_season": 12,
          "logos": "http://a.espncdn.com/i/teamlogos/ncaa/500/2483.png",
          "main_team": "Oregon",
          "season": 2023,
          "team_conference": "Pac-12",
          "team_id": 2483,
          "team_postgame_elo": 2046
         },
         {
          "color": "#c34500",
          "game_that_season": 1,
          "logos": "http://a.espncdn.com/i/teamlogos/ncaa/500/204.png",
          "main_team": "Oregon State",
          "season": 2023,
          "team_conference": "Pac-12",
          "team_id": 204,
          "team_postgame_elo": 1729
         },
         {
          "color": "#c34500",
          "game_that_season": 12,
          "logos": "http://a.espncdn.com/i/teamlogos/ncaa/500/204.png",
          "main_team": "Oregon State",
          "season": 2023,
          "team_conference": "Pac-12",
          "team_id": 204,
          "team_postgame_elo": 1790
         },
         {
          "color": "#005C8E",
          "game_that_season": 1,
          "logos": "http://a.espncdn.com/i/teamlogos/ncaa/500/26.png",
          "main_team": "UCLA",
          "season": 2023,
          "team_conference": "Pac-12",
          "team_id": 26,
          "team_postgame_elo": 1631
         },
         {
          "color": "#005C8E",
          "game_that_season": 12,
          "logos": "http://a.espncdn.com/i/teamlogos/ncaa/500/26.png",
          "main_team": "UCLA",
          "season": 2023,
          "team_conference": "Pac-12",
          "team_id": 26,
          "team_postgame_elo": 1565
         },
         {
          "color": "#2B2F64",
          "game_that_season": 1,
          "logos": "http://a.espncdn.com/i/teamlogos/ncaa/500/264.png",
          "main_team": "Washington",
          "season": 2023,
          "team_conference": "Pac-12",
          "team_id": 264,
          "team_postgame_elo": 1774
         },
         {
          "color": "#2B2F64",
          "game_that_season": 12,
          "logos": "http://a.espncdn.com/i/teamlogos/ncaa/500/264.png",
          "main_team": "Washington",
          "season": 2023,
          "team_conference": "Pac-12",
          "team_id": 264,
          "team_postgame_elo": 1868
         },
         {
          "color": "#031522",
          "game_that_season": 1,
          "logos": "http://a.espncdn.com/i/teamlogos/ncaa/500/25.png",
          "main_team": "California",
          "season": 2023,
          "team_conference": "Pac-12",
          "team_id": 25,
          "team_postgame_elo": 1552
         },
         {
          "color": "#031522",
          "game_that_season": 12,
          "logos": "http://a.espncdn.com/i/teamlogos/ncaa/500/25.png",
          "main_team": "California",
          "season": 2023,
          "team_conference": "Pac-12",
          "team_id": 25,
          "team_postgame_elo": 1533
         },
         {
          "color": "#942139",
          "game_that_season": 1,
          "logos": "http://a.espncdn.com/i/teamlogos/ncaa/500/9.png",
          "main_team": "Arizona State",
          "season": 2023,
          "team_conference": "Pac-12",
          "team_id": 9,
          "team_postgame_elo": 1464
         },
         {
          "color": "#942139",
          "game_that_season": 12,
          "logos": "http://a.espncdn.com/i/teamlogos/ncaa/500/9.png",
          "main_team": "Arizona State",
          "season": 2023,
          "team_conference": "Pac-12",
          "team_id": 9,
          "team_postgame_elo": 1283
         },
         {
          "color": "#d1c57e",
          "game_that_season": 1,
          "logos": "http://a.espncdn.com/i/teamlogos/ncaa/500/38.png",
          "main_team": "Colorado",
          "season": 2023,
          "team_conference": "Pac-12",
          "team_id": 38,
          "team_postgame_elo": 1196
         },
         {
          "color": "#d1c57e",
          "game_that_season": 12,
          "logos": "http://a.espncdn.com/i/teamlogos/ncaa/500/38.png",
          "main_team": "Colorado",
          "season": 2023,
          "team_conference": "Pac-12",
          "team_id": 38,
          "team_postgame_elo": 1237
         },
         {
          "color": "#ffc72c",
          "game_that_season": 1,
          "logos": "http://a.espncdn.com/i/teamlogos/ncaa/500/30.png",
          "main_team": "USC",
          "season": 2023,
          "team_conference": "Pac-12",
          "team_id": 30,
          "team_postgame_elo": 1713
         },
         {
          "color": "#ffc72c",
          "game_that_season": 12,
          "logos": "http://a.espncdn.com/i/teamlogos/ncaa/500/30.png",
          "main_team": "USC",
          "season": 2023,
          "team_conference": "Pac-12",
          "team_id": 30,
          "team_postgame_elo": 1683
         },
         {
          "color": "#A80532",
          "game_that_season": 12,
          "logos": "http://a.espncdn.com/i/teamlogos/ncaa/500/24.png",
          "main_team": "Stanford",
          "season": 2023,
          "team_conference": "Pac-12",
          "team_id": 24,
          "team_postgame_elo": 1180
         },
         {
          "color": "#A80532",
          "game_that_season": 1,
          "logos": "http://a.espncdn.com/i/teamlogos/ncaa/500/24.png",
          "main_team": "Stanford",
          "season": 2023,
          "team_conference": "Pac-12",
          "team_id": 24,
          "team_postgame_elo": 1345
         },
         {
          "color": "#94022a",
          "game_that_season": 1,
          "logos": "http://a.espncdn.com/i/teamlogos/ncaa/500/265.png",
          "main_team": "Washington State",
          "season": 2023,
          "team_conference": "Pac-12",
          "team_id": 265,
          "team_postgame_elo": 1602
         },
         {
          "color": "#94022a",
          "game_that_season": 12,
          "logos": "http://a.espncdn.com/i/teamlogos/ncaa/500/265.png",
          "main_team": "Washington State",
          "season": 2023,
          "team_conference": "Pac-12",
          "team_id": 265,
          "team_postgame_elo": 1546
         }
        ],
        "data-4f5f3c0c23e39328a45d7addc72bf503": [
         {
          "color": "#890012",
          "game_that_season": 1,
          "logos": "http://a.espncdn.com/i/teamlogos/ncaa/500/254.png",
          "main_team": "Utah",
          "season": 2023,
          "team_conference": "Pac-12",
          "team_id": 254,
          "team_postgame_elo": 1784
         },
         {
          "color": "#890012",
          "game_that_season": 3,
          "logos": "http://a.espncdn.com/i/teamlogos/ncaa/500/254.png",
          "main_team": "Utah",
          "season": 2023,
          "team_conference": "Pac-12",
          "team_id": 254,
          "team_postgame_elo": 1807
         },
         {
          "color": "#890012",
          "game_that_season": 4,
          "logos": "http://a.espncdn.com/i/teamlogos/ncaa/500/254.png",
          "main_team": "Utah",
          "season": 2023,
          "team_conference": "Pac-12",
          "team_id": 254,
          "team_postgame_elo": 1784
         },
         {
          "color": "#890012",
          "game_that_season": 6,
          "logos": "http://a.espncdn.com/i/teamlogos/ncaa/500/254.png",
          "main_team": "Utah",
          "season": 2023,
          "team_conference": "Pac-12",
          "team_id": 254,
          "team_postgame_elo": 1775
         },
         {
          "color": "#890012",
          "game_that_season": 8,
          "logos": "http://a.espncdn.com/i/teamlogos/ncaa/500/254.png",
          "main_team": "Utah",
          "season": 2023,
          "team_conference": "Pac-12",
          "team_id": 254,
          "team_postgame_elo": 1702
         },
         {
          "color": "#890012",
          "game_that_season": 9,
          "logos": "http://a.espncdn.com/i/teamlogos/ncaa/500/254.png",
          "main_team": "Utah",
          "season": 2023,
          "team_conference": "Pac-12",
          "team_id": 254,
          "team_postgame_elo": 1823
         },
         {
          "color": "#890012",
          "game_that_season": 12,
          "logos": "http://a.espncdn.com/i/teamlogos/ncaa/500/254.png",
          "main_team": "Utah",
          "season": 2023,
          "team_conference": "Pac-12",
          "team_id": 254,
          "team_postgame_elo": 1719
         },
         {
          "color": "#890012",
          "game_that_season": 2,
          "logos": "http://a.espncdn.com/i/teamlogos/ncaa/500/254.png",
          "main_team": "Utah",
          "season": 2023,
          "team_conference": "Pac-12",
          "team_id": 254,
          "team_postgame_elo": 1780
         },
         {
          "color": "#890012",
          "game_that_season": 5,
          "logos": "http://a.espncdn.com/i/teamlogos/ncaa/500/254.png",
          "main_team": "Utah",
          "season": 2023,
          "team_conference": "Pac-12",
          "team_id": 254,
          "team_postgame_elo": 1752
         },
         {
          "color": "#890012",
          "game_that_season": 7,
          "logos": "http://a.espncdn.com/i/teamlogos/ncaa/500/254.png",
          "main_team": "Utah",
          "season": 2023,
          "team_conference": "Pac-12",
          "team_id": 254,
          "team_postgame_elo": 1777
         },
         {
          "color": "#890012",
          "game_that_season": 10,
          "logos": "http://a.espncdn.com/i/teamlogos/ncaa/500/254.png",
          "main_team": "Utah",
          "season": 2023,
          "team_conference": "Pac-12",
          "team_id": 254,
          "team_postgame_elo": 1816
         },
         {
          "color": "#890012",
          "game_that_season": 11,
          "logos": "http://a.espncdn.com/i/teamlogos/ncaa/500/254.png",
          "main_team": "Utah",
          "season": 2023,
          "team_conference": "Pac-12",
          "team_id": 254,
          "team_postgame_elo": 1735
         },
         {
          "color": "#002449",
          "game_that_season": 1,
          "logos": "http://a.espncdn.com/i/teamlogos/ncaa/500/12.png",
          "main_team": "Arizona",
          "season": 2023,
          "team_conference": "Pac-12",
          "team_id": 12,
          "team_postgame_elo": 1416
         },
         {
          "color": "#002449",
          "game_that_season": 3,
          "logos": "http://a.espncdn.com/i/teamlogos/ncaa/500/12.png",
          "main_team": "Arizona",
          "season": 2023,
          "team_conference": "Pac-12",
          "team_id": 12,
          "team_postgame_elo": 1453
         },
         {
          "color": "#002449",
          "game_that_season": 5,
          "logos": "http://a.espncdn.com/i/teamlogos/ncaa/500/12.png",
          "main_team": "Arizona",
          "season": 2023,
          "team_conference": "Pac-12",
          "team_id": 12,
          "team_postgame_elo": 1466
         },
         {
          "color": "#002449",
          "game_that_season": 8,
          "logos": "http://a.espncdn.com/i/teamlogos/ncaa/500/12.png",
          "main_team": "Arizona",
          "season": 2023,
          "team_conference": "Pac-12",
          "team_id": 12,
          "team_postgame_elo": 1610
         },
         {
          "color": "#002449",
          "game_that_season": 9,
          "logos": "http://a.espncdn.com/i/teamlogos/ncaa/500/12.png",
          "main_team": "Arizona",
          "season": 2023,
          "team_conference": "Pac-12",
          "team_id": 12,
          "team_postgame_elo": 1657
         },
         {
          "color": "#002449",
          "game_that_season": 11,
          "logos": "http://a.espncdn.com/i/teamlogos/ncaa/500/12.png",
          "main_team": "Arizona",
          "season": 2023,
          "team_conference": "Pac-12",
          "team_id": 12,
          "team_postgame_elo": 1723
         },
         {
          "color": "#002449",
          "game_that_season": 2,
          "logos": "http://a.espncdn.com/i/teamlogos/ncaa/500/12.png",
          "main_team": "Arizona",
          "season": 2023,
          "team_conference": "Pac-12",
          "team_id": 12,
          "team_postgame_elo": 1418
         },
         {
          "color": "#002449",
          "game_that_season": 4,
          "logos": "http://a.espncdn.com/i/teamlogos/ncaa/500/12.png",
          "main_team": "Arizona",
          "season": 2023,
          "team_conference": "Pac-12",
          "team_id": 12,
          "team_postgame_elo": 1446
         },
         {
          "color": "#002449",
          "game_that_season": 6,
          "logos": "http://a.espncdn.com/i/teamlogos/ncaa/500/12.png",
          "main_team": "Arizona",
          "season": 2023,
          "team_conference": "Pac-12",
          "team_id": 12,
          "team_postgame_elo": 1471
         },
         {
          "color": "#002449",
          "game_that_season": 7,
          "logos": "http://a.espncdn.com/i/teamlogos/ncaa/500/12.png",
          "main_team": "Arizona",
          "season": 2023,
          "team_conference": "Pac-12",
          "team_id": 12,
          "team_postgame_elo": 1606
         },
         {
          "color": "#002449",
          "game_that_season": 10,
          "logos": "http://a.espncdn.com/i/teamlogos/ncaa/500/12.png",
          "main_team": "Arizona",
          "season": 2023,
          "team_conference": "Pac-12",
          "team_id": 12,
          "team_postgame_elo": 1642
         },
         {
          "color": "#002449",
          "game_that_season": 12,
          "logos": "http://a.espncdn.com/i/teamlogos/ncaa/500/12.png",
          "main_team": "Arizona",
          "season": 2023,
          "team_conference": "Pac-12",
          "team_id": 12,
          "team_postgame_elo": 1778
         },
         {
          "color": "#044520",
          "game_that_season": 1,
          "logos": "http://a.espncdn.com/i/teamlogos/ncaa/500/2483.png",
          "main_team": "Oregon",
          "season": 2023,
          "team_conference": "Pac-12",
          "team_id": 2483,
          "team_postgame_elo": 1649
         },
         {
          "color": "#044520",
          "game_that_season": 3,
          "logos": "http://a.espncdn.com/i/teamlogos/ncaa/500/2483.png",
          "main_team": "Oregon",
          "season": 2023,
          "team_conference": "Pac-12",
          "team_id": 2483,
          "team_postgame_elo": 1734
         },
         {
          "color": "#044520",
          "game_that_season": 4,
          "logos": "http://a.espncdn.com/i/teamlogos/ncaa/500/2483.png",
          "main_team": "Oregon",
          "season": 2023,
          "team_conference": "Pac-12",
          "team_id": 2483,
          "team_postgame_elo": 1782
         },
         {
          "color": "#044520",
          "game_that_season": 7,
          "logos": "http://a.espncdn.com/i/teamlogos/ncaa/500/2483.png",
          "main_team": "Oregon",
          "season": 2023,
          "team_conference": "Pac-12",
          "team_id": 2483,
          "team_postgame_elo": 1824
         },
         {
          "color": "#044520",
          "game_that_season": 9,
          "logos": "http://a.espncdn.com/i/teamlogos/ncaa/500/2483.png",
          "main_team": "Oregon",
          "season": 2023,
          "team_conference": "Pac-12",
          "team_id": 2483,
          "team_postgame_elo": 1976
         },
         {
          "color": "#044520",
          "game_that_season": 10,
          "logos": "http://a.espncdn.com/i/teamlogos/ncaa/500/2483.png",
          "main_team": "Oregon",
          "season": 2023,
          "team_conference": "Pac-12",
          "team_id": 2483,
          "team_postgame_elo": 1976
         },
         {
          "color": "#044520",
          "game_that_season": 12,
          "logos": "http://a.espncdn.com/i/teamlogos/ncaa/500/2483.png",
          "main_team": "Oregon",
          "season": 2023,
          "team_conference": "Pac-12",
          "team_id": 2483,
          "team_postgame_elo": 2046
         },
         {
          "color": "#044520",
          "game_that_season": 2,
          "logos": "http://a.espncdn.com/i/teamlogos/ncaa/500/2483.png",
          "main_team": "Oregon",
          "season": 2023,
          "team_conference": "Pac-12",
          "team_id": 2483,
          "team_postgame_elo": 1659
         },
         {
          "color": "#044520",
          "game_that_season": 5,
          "logos": "http://a.espncdn.com/i/teamlogos/ncaa/500/2483.png",
          "main_team": "Oregon",
          "season": 2023,
          "team_conference": "Pac-12",
          "team_id": 2483,
          "team_postgame_elo": 1823
         },
         {
          "color": "#044520",
          "game_that_season": 6,
          "logos": "http://a.espncdn.com/i/teamlogos/ncaa/500/2483.png",
          "main_team": "Oregon",
          "season": 2023,
          "team_conference": "Pac-12",
          "team_id": 2483,
          "team_postgame_elo": 1823
         },
         {
          "color": "#044520",
          "game_that_season": 8,
          "logos": "http://a.espncdn.com/i/teamlogos/ncaa/500/2483.png",
          "main_team": "Oregon",
          "season": 2023,
          "team_conference": "Pac-12",
          "team_id": 2483,
          "team_postgame_elo": 1899
         },
         {
          "color": "#044520",
          "game_that_season": 11,
          "logos": "http://a.espncdn.com/i/teamlogos/ncaa/500/2483.png",
          "main_team": "Oregon",
          "season": 2023,
          "team_conference": "Pac-12",
          "team_id": 2483,
          "team_postgame_elo": 2006
         },
         {
          "color": "#044520",
          "game_that_season": 13,
          "logos": "http://a.espncdn.com/i/teamlogos/ncaa/500/2483.png",
          "main_team": "Oregon",
          "season": 2023,
          "team_conference": "Pac-12",
          "team_id": 2483,
          "team_postgame_elo": 2031
         },
         {
          "color": "#c34500",
          "game_that_season": 2,
          "logos": "http://a.espncdn.com/i/teamlogos/ncaa/500/204.png",
          "main_team": "Oregon State",
          "season": 2023,
          "team_conference": "Pac-12",
          "team_id": 204,
          "team_postgame_elo": 1599
         },
         {
          "color": "#c34500",
          "game_that_season": 3,
          "logos": "http://a.espncdn.com/i/teamlogos/ncaa/500/204.png",
          "main_team": "Oregon State",
          "season": 2023,
          "team_conference": "Pac-12",
          "team_id": 204,
          "team_postgame_elo": 1741
         },
         {
          "color": "#c34500",
          "game_that_season": 5,
          "logos": "http://a.espncdn.com/i/teamlogos/ncaa/500/204.png",
          "main_team": "Oregon State",
          "season": 2023,
          "team_conference": "Pac-12",
          "team_id": 204,
          "team_postgame_elo": 1770
         },
         {
          "color": "#c34500",
          "game_that_season": 7,
          "logos": "http://a.espncdn.com/i/teamlogos/ncaa/500/204.png",
          "main_team": "Oregon State",
          "season": 2023,
          "team_conference": "Pac-12",
          "team_id": 204,
          "team_postgame_elo": 1790
         },
         {
          "color": "#c34500",
          "game_that_season": 10,
          "logos": "http://a.espncdn.com/i/teamlogos/ncaa/500/204.png",
          "main_team": "Oregon State",
          "season": 2023,
          "team_conference": "Pac-12",
          "team_id": 204,
          "team_postgame_elo": 1830
         },
         {
          "color": "#c34500",
          "game_that_season": 11,
          "logos": "http://a.espncdn.com/i/teamlogos/ncaa/500/204.png",
          "main_team": "Oregon State",
          "season": 2023,
          "team_conference": "Pac-12",
          "team_id": 204,
          "team_postgame_elo": 1830
         },
         {
          "color": "#c34500",
          "game_that_season": 1,
          "logos": "http://a.espncdn.com/i/teamlogos/ncaa/500/204.png",
          "main_team": "Oregon State",
          "season": 2023,
          "team_conference": "Pac-12",
          "team_id": 204,
          "team_postgame_elo": 1729
         },
         {
          "color": "#c34500",
          "game_that_season": 4,
          "logos": "http://a.espncdn.com/i/teamlogos/ncaa/500/204.png",
          "main_team": "Oregon State",
          "season": 2023,
          "team_conference": "Pac-12",
          "team_id": 204,
          "team_postgame_elo": 1738
         },
         {
          "color": "#c34500",
          "game_that_season": 6,
          "logos": "http://a.espncdn.com/i/teamlogos/ncaa/500/204.png",
          "main_team": "Oregon State",
          "season": 2023,
          "team_conference": "Pac-12",
          "team_id": 204,
          "team_postgame_elo": 1774
         },
         {
          "color": "#c34500",
          "game_that_season": 8,
          "logos": "http://a.espncdn.com/i/teamlogos/ncaa/500/204.png",
          "main_team": "Oregon State",
          "season": 2023,
          "team_conference": "Pac-12",
          "team_id": 204,
          "team_postgame_elo": 1786
         },
         {
          "color": "#c34500",
          "game_that_season": 9,
          "logos": "http://a.espncdn.com/i/teamlogos/ncaa/500/204.png",
          "main_team": "Oregon State",
          "season": 2023,
          "team_conference": "Pac-12",
          "team_id": 204,
          "team_postgame_elo": 1765
         },
         {
          "color": "#c34500",
          "game_that_season": 12,
          "logos": "http://a.espncdn.com/i/teamlogos/ncaa/500/204.png",
          "main_team": "Oregon State",
          "season": 2023,
          "team_conference": "Pac-12",
          "team_id": 204,
          "team_postgame_elo": 1790
         },
         {
          "color": "#005C8E",
          "game_that_season": 1,
          "logos": "http://a.espncdn.com/i/teamlogos/ncaa/500/26.png",
          "main_team": "UCLA",
          "season": 2023,
          "team_conference": "Pac-12",
          "team_id": 26,
          "team_postgame_elo": 1631
         },
         {
          "color": "#005C8E",
          "game_that_season": 3,
          "logos": "http://a.espncdn.com/i/teamlogos/ncaa/500/26.png",
          "main_team": "UCLA",
          "season": 2023,
          "team_conference": "Pac-12",
          "team_id": 26,
          "team_postgame_elo": 1756
         },
         {
          "color": "#005C8E",
          "game_that_season": 5,
          "logos": "http://a.espncdn.com/i/teamlogos/ncaa/500/26.png",
          "main_team": "UCLA",
          "season": 2023,
          "team_conference": "Pac-12",
          "team_id": 26,
          "team_postgame_elo": 1687
         },
         {
          "color": "#005C8E",
          "game_that_season": 8,
          "logos": "http://a.espncdn.com/i/teamlogos/ncaa/500/26.png",
          "main_team": "UCLA",
          "season": 2023,
          "team_conference": "Pac-12",
          "team_id": 26,
          "team_postgame_elo": 1709
         },
         {
          "color": "#005C8E",
          "game_that_season": 10,
          "logos": "http://a.espncdn.com/i/teamlogos/ncaa/500/26.png",
          "main_team": "UCLA",
          "season": 2023,
          "team_conference": "Pac-12",
          "team_id": 26,
          "team_postgame_elo": 1607
         },
         {
          "color": "#005C8E",
          "game_that_season": 12,
          "logos": "http://a.espncdn.com/i/teamlogos/ncaa/500/26.png",
          "main_team": "UCLA",
          "season": 2023,
          "team_conference": "Pac-12",
          "team_id": 26,
          "team_postgame_elo": 1565
         },
         {
          "color": "#005C8E",
          "game_that_season": 2,
          "logos": "http://a.espncdn.com/i/teamlogos/ncaa/500/26.png",
          "main_team": "UCLA",
          "season": 2023,
          "team_conference": "Pac-12",
          "team_id": 26,
          "team_postgame_elo": 1682
         },
         {
          "color": "#005C8E",
          "game_that_season": 4,
          "logos": "http://a.espncdn.com/i/teamlogos/ncaa/500/26.png",
          "main_team": "UCLA",
          "season": 2023,
          "team_conference": "Pac-12",
          "team_id": 26,
          "team_postgame_elo": 1678
         },
         {
          "color": "#005C8E",
          "game_that_season": 6,
          "logos": "http://a.espncdn.com/i/teamlogos/ncaa/500/26.png",
          "main_team": "UCLA",
          "season": 2023,
          "team_conference": "Pac-12",
          "team_id": 26,
          "team_postgame_elo": 1671
         },
         {
          "color": "#005C8E",
          "game_that_season": 7,
          "logos": "http://a.espncdn.com/i/teamlogos/ncaa/500/26.png",
          "main_team": "UCLA",
          "season": 2023,
          "team_conference": "Pac-12",
          "team_id": 26,
          "team_postgame_elo": 1718
         },
         {
          "color": "#005C8E",
          "game_that_season": 9,
          "logos": "http://a.espncdn.com/i/teamlogos/ncaa/500/26.png",
          "main_team": "UCLA",
          "season": 2023,
          "team_conference": "Pac-12",
          "team_id": 26,
          "team_postgame_elo": 1662
         },
         {
          "color": "#005C8E",
          "game_that_season": 11,
          "logos": "http://a.espncdn.com/i/teamlogos/ncaa/500/26.png",
          "main_team": "UCLA",
          "season": 2023,
          "team_conference": "Pac-12",
          "team_id": 26,
          "team_postgame_elo": 1667
         },
         {
          "color": "#2B2F64",
          "game_that_season": 1,
          "logos": "http://a.espncdn.com/i/teamlogos/ncaa/500/264.png",
          "main_team": "Washington",
          "season": 2023,
          "team_conference": "Pac-12",
          "team_id": 264,
          "team_postgame_elo": 1774
         },
         {
          "color": "#2B2F64",
          "game_that_season": 2,
          "logos": "http://a.espncdn.com/i/teamlogos/ncaa/500/264.png",
          "main_team": "Washington",
          "season": 2023,
          "team_conference": "Pac-12",
          "team_id": 264,
          "team_postgame_elo": 1822
         },
         {
          "color": "#2B2F64",
          "game_that_season": 4,
          "logos": "http://a.espncdn.com/i/teamlogos/ncaa/500/264.png",
          "main_team": "Washington",
          "season": 2023,
          "team_conference": "Pac-12",
          "team_id": 264,
          "team_postgame_elo": 1920
         },
         {
          "color": "#2B2F64",
          "game_that_season": 6,
          "logos": "http://a.espncdn.com/i/teamlogos/ncaa/500/264.png",
          "main_team": "Washington",
          "season": 2023,
          "team_conference": "Pac-12",
          "team_id": 264,
          "team_postgame_elo": 1900
         },
         {
          "color": "#2B2F64",
          "game_that_season": 7,
          "logos": "http://a.espncdn.com/i/teamlogos/ncaa/500/264.png",
          "main_team": "Washington",
          "season": 2023,
          "team_conference": "Pac-12",
          "team_id": 264,
          "team_postgame_elo": 1884
         },
         {
          "color": "#2B2F64",
          "game_that_season": 10,
          "logos": "http://a.espncdn.com/i/teamlogos/ncaa/500/264.png",
          "main_team": "Washington",
          "season": 2023,
          "team_conference": "Pac-12",
          "team_id": 264,
          "team_postgame_elo": 1871
         },
         {
          "color": "#2B2F64",
          "game_that_season": 12,
          "logos": "http://a.espncdn.com/i/teamlogos/ncaa/500/264.png",
          "main_team": "Washington",
          "season": 2023,
          "team_conference": "Pac-12",
          "team_id": 264,
          "team_postgame_elo": 1868
         },
         {
          "color": "#2B2F64",
          "game_that_season": 13,
          "logos": "http://a.espncdn.com/i/teamlogos/ncaa/500/264.png",
          "main_team": "Washington",
          "season": 2023,
          "team_conference": "Pac-12",
          "team_id": 264,
          "team_postgame_elo": 1883
         },
         {
          "color": "#2B2F64",
          "game_that_season": 3,
          "logos": "http://a.espncdn.com/i/teamlogos/ncaa/500/264.png",
          "main_team": "Washington",
          "season": 2023,
          "team_conference": "Pac-12",
          "team_id": 264,
          "team_postgame_elo": 1888
         },
         {
          "color": "#2B2F64",
          "game_that_season": 5,
          "logos": "http://a.espncdn.com/i/teamlogos/ncaa/500/264.png",
          "main_team": "Washington",
          "season": 2023,
          "team_conference": "Pac-12",
          "team_id": 264,
          "team_postgame_elo": 1900
         },
         {
          "color": "#2B2F64",
          "game_that_season": 8,
          "logos": "http://a.espncdn.com/i/teamlogos/ncaa/500/264.png",
          "main_team": "Washington",
          "season": 2023,
          "team_conference": "Pac-12",
          "team_id": 264,
          "team_postgame_elo": 1852
         },
         {
          "color": "#2B2F64",
          "game_that_season": 9,
          "logos": "http://a.espncdn.com/i/teamlogos/ncaa/500/264.png",
          "main_team": "Washington",
          "season": 2023,
          "team_conference": "Pac-12",
          "team_id": 264,
          "team_postgame_elo": 1864
         },
         {
          "color": "#2B2F64",
          "game_that_season": 11,
          "logos": "http://a.espncdn.com/i/teamlogos/ncaa/500/264.png",
          "main_team": "Washington",
          "season": 2023,
          "team_conference": "Pac-12",
          "team_id": 264,
          "team_postgame_elo": 1871
         },
         {
          "color": "#031522",
          "game_that_season": 2,
          "logos": "http://a.espncdn.com/i/teamlogos/ncaa/500/25.png",
          "main_team": "California",
          "season": 2023,
          "team_conference": "Pac-12",
          "team_id": 25,
          "team_postgame_elo": 1551
         },
         {
          "color": "#031522",
          "game_that_season": 3,
          "logos": "http://a.espncdn.com/i/teamlogos/ncaa/500/25.png",
          "main_team": "California",
          "season": 2023,
          "team_conference": "Pac-12",
          "team_id": 25,
          "team_postgame_elo": 1618
         },
         {
          "color": "#031522",
          "game_that_season": 5,
          "logos": "http://a.espncdn.com/i/teamlogos/ncaa/500/25.png",
          "main_team": "California",
          "season": 2023,
          "team_conference": "Pac-12",
          "team_id": 25,
          "team_postgame_elo": 1518
         },
         {
          "color": "#031522",
          "game_that_season": 6,
          "logos": "http://a.espncdn.com/i/teamlogos/ncaa/500/25.png",
          "main_team": "California",
          "season": 2023,
          "team_conference": "Pac-12",
          "team_id": 25,
          "team_postgame_elo": 1514
         },
         {
          "color": "#031522",
          "game_that_season": 8,
          "logos": "http://a.espncdn.com/i/teamlogos/ncaa/500/25.png",
          "main_team": "California",
          "season": 2023,
          "team_conference": "Pac-12",
          "team_id": 25,
          "team_postgame_elo": 1502
         },
         {
          "color": "#031522",
          "game_that_season": 10,
          "logos": "http://a.espncdn.com/i/teamlogos/ncaa/500/25.png",
          "main_team": "California",
          "season": 2023,
          "team_conference": "Pac-12",
          "team_id": 25,
          "team_postgame_elo": 1426
         },
         {
          "color": "#031522",
          "game_that_season": 1,
          "logos": "http://a.espncdn.com/i/teamlogos/ncaa/500/25.png",
          "main_team": "California",
          "season": 2023,
          "team_conference": "Pac-12",
          "team_id": 25,
          "team_postgame_elo": 1552
         },
         {
          "color": "#031522",
          "game_that_season": 4,
          "logos": "http://a.espncdn.com/i/teamlogos/ncaa/500/25.png",
          "main_team": "California",
          "season": 2023,
          "team_conference": "Pac-12",
          "team_id": 25,
          "team_postgame_elo": 1519
         },
         {
          "color": "#031522",
          "game_that_season": 7,
          "logos": "http://a.espncdn.com/i/teamlogos/ncaa/500/25.png",
          "main_team": "California",
          "season": 2023,
          "team_conference": "Pac-12",
          "team_id": 25,
          "team_postgame_elo": 1491
         },
         {
          "color": "#031522",
          "game_that_season": 9,
          "logos": "http://a.espncdn.com/i/teamlogos/ncaa/500/25.png",
          "main_team": "California",
          "season": 2023,
          "team_conference": "Pac-12",
          "team_id": 25,
          "team_postgame_elo": 1425
         },
         {
          "color": "#031522",
          "game_that_season": 11,
          "logos": "http://a.espncdn.com/i/teamlogos/ncaa/500/25.png",
          "main_team": "California",
          "season": 2023,
          "team_conference": "Pac-12",
          "team_id": 25,
          "team_postgame_elo": 1431
         },
         {
          "color": "#031522",
          "game_that_season": 12,
          "logos": "http://a.espncdn.com/i/teamlogos/ncaa/500/25.png",
          "main_team": "California",
          "season": 2023,
          "team_conference": "Pac-12",
          "team_id": 25,
          "team_postgame_elo": 1533
         },
         {
          "color": "#942139",
          "game_that_season": 1,
          "logos": "http://a.espncdn.com/i/teamlogos/ncaa/500/9.png",
          "main_team": "Arizona State",
          "season": 2023,
          "team_conference": "Pac-12",
          "team_id": 9,
          "team_postgame_elo": 1464
         },
         {
          "color": "#942139",
          "game_that_season": 2,
          "logos": "http://a.espncdn.com/i/teamlogos/ncaa/500/9.png",
          "main_team": "Arizona State",
          "season": 2023,
          "team_conference": "Pac-12",
          "team_id": 9,
          "team_postgame_elo": 1444
         },
         {
          "color": "#942139",
          "game_that_season": 3,
          "logos": "http://a.espncdn.com/i/teamlogos/ncaa/500/9.png",
          "main_team": "Arizona State",
          "season": 2023,
          "team_conference": "Pac-12",
          "team_id": 9,
          "team_postgame_elo": 1392
         },
         {
          "color": "#942139",
          "game_that_season": 4,
          "logos": "http://a.espncdn.com/i/teamlogos/ncaa/500/9.png",
          "main_team": "Arizona State",
          "season": 2023,
          "team_conference": "Pac-12",
          "team_id": 9,
          "team_postgame_elo": 1404
         },
         {
          "color": "#942139",
          "game_that_season": 6,
          "logos": "http://a.espncdn.com/i/teamlogos/ncaa/500/9.png",
          "main_team": "Arizona State",
          "season": 2023,
          "team_conference": "Pac-12",
          "team_id": 9,
          "team_postgame_elo": 1393
         },
         {
          "color": "#942139",
          "game_that_season": 8,
          "logos": "http://a.espncdn.com/i/teamlogos/ncaa/500/9.png",
          "main_team": "Arizona State",
          "season": 2023,
          "team_conference": "Pac-12",
          "team_id": 9,
          "team_postgame_elo": 1434
         },
         {
          "color": "#942139",
          "game_that_season": 11,
          "logos": "http://a.espncdn.com/i/teamlogos/ncaa/500/9.png",
          "main_team": "Arizona State",
          "season": 2023,
          "team_conference": "Pac-12",
          "team_id": 9,
          "team_postgame_elo": 1338
         },
         {
          "color": "#942139",
          "game_that_season": 12,
          "logos": "http://a.espncdn.com/i/teamlogos/ncaa/500/9.png",
          "main_team": "Arizona State",
          "season": 2023,
          "team_conference": "Pac-12",
          "team_id": 9,
          "team_postgame_elo": 1283
         },
         {
          "color": "#942139",
          "game_that_season": 5,
          "logos": "http://a.espncdn.com/i/teamlogos/ncaa/500/9.png",
          "main_team": "Arizona State",
          "season": 2023,
          "team_conference": "Pac-12",
          "team_id": 9,
          "team_postgame_elo": 1405
         },
         {
          "color": "#942139",
          "game_that_season": 7,
          "logos": "http://a.espncdn.com/i/teamlogos/ncaa/500/9.png",
          "main_team": "Arizona State",
          "season": 2023,
          "team_conference": "Pac-12",
          "team_id": 9,
          "team_postgame_elo": 1409
         },
         {
          "color": "#942139",
          "game_that_season": 9,
          "logos": "http://a.espncdn.com/i/teamlogos/ncaa/500/9.png",
          "main_team": "Arizona State",
          "season": 2023,
          "team_conference": "Pac-12",
          "team_id": 9,
          "team_postgame_elo": 1313
         },
         {
          "color": "#942139",
          "game_that_season": 10,
          "logos": "http://a.espncdn.com/i/teamlogos/ncaa/500/9.png",
          "main_team": "Arizona State",
          "season": 2023,
          "team_conference": "Pac-12",
          "team_id": 9,
          "team_postgame_elo": 1368
         },
         {
          "color": "#d1c57e",
          "game_that_season": 2,
          "logos": "http://a.espncdn.com/i/teamlogos/ncaa/500/38.png",
          "main_team": "Colorado",
          "season": 2023,
          "team_conference": "Pac-12",
          "team_id": 38,
          "team_postgame_elo": 1288
         },
         {
          "color": "#d1c57e",
          "game_that_season": 3,
          "logos": "http://a.espncdn.com/i/teamlogos/ncaa/500/38.png",
          "main_team": "Colorado",
          "season": 2023,
          "team_conference": "Pac-12",
          "team_id": 38,
          "team_postgame_elo": 1300
         },
         {
          "color": "#d1c57e",
          "game_that_season": 5,
          "logos": "http://a.espncdn.com/i/teamlogos/ncaa/500/38.png",
          "main_team": "Colorado",
          "season": 2023,
          "team_conference": "Pac-12",
          "team_id": 38,
          "team_postgame_elo": 1281
         },
         {
          "color": "#d1c57e",
          "game_that_season": 7,
          "logos": "http://a.espncdn.com/i/teamlogos/ncaa/500/38.png",
          "main_team": "Colorado",
          "season": 2023,
          "team_conference": "Pac-12",
          "team_id": 38,
          "team_postgame_elo": 1285
         },
         {
          "color": "#d1c57e",
          "game_that_season": 9,
          "logos": "http://a.espncdn.com/i/teamlogos/ncaa/500/38.png",
          "main_team": "Colorado",
          "season": 2023,
          "team_conference": "Pac-12",
          "team_id": 38,
          "team_postgame_elo": 1315
         },
         {
          "color": "#d1c57e",
          "game_that_season": 10,
          "logos": "http://a.espncdn.com/i/teamlogos/ncaa/500/38.png",
          "main_team": "Colorado",
          "season": 2023,
          "team_conference": "Pac-12",
          "team_id": 38,
          "team_postgame_elo": 1330
         },
         {
          "color": "#d1c57e",
          "game_that_season": 1,
          "logos": "http://a.espncdn.com/i/teamlogos/ncaa/500/38.png",
          "main_team": "Colorado",
          "season": 2023,
          "team_conference": "Pac-12",
          "team_id": 38,
          "team_postgame_elo": 1196
         },
         {
          "color": "#d1c57e",
          "game_that_season": 4,
          "logos": "http://a.espncdn.com/i/teamlogos/ncaa/500/38.png",
          "main_team": "Colorado",
          "season": 2023,
          "team_conference": "Pac-12",
          "team_id": 38,
          "team_postgame_elo": 1252
         },
         {
          "color": "#d1c57e",
          "game_that_season": 6,
          "logos": "http://a.espncdn.com/i/teamlogos/ncaa/500/38.png",
          "main_team": "Colorado",
          "season": 2023,
          "team_conference": "Pac-12",
          "team_id": 38,
          "team_postgame_elo": 1293
         },
         {
          "color": "#d1c57e",
          "game_that_season": 8,
          "logos": "http://a.espncdn.com/i/teamlogos/ncaa/500/38.png",
          "main_team": "Colorado",
          "season": 2023,
          "team_conference": "Pac-12",
          "team_id": 38,
          "team_postgame_elo": 1294
         },
         {
          "color": "#d1c57e",
          "game_that_season": 11,
          "logos": "http://a.espncdn.com/i/teamlogos/ncaa/500/38.png",
          "main_team": "Colorado",
          "season": 2023,
          "team_conference": "Pac-12",
          "team_id": 38,
          "team_postgame_elo": 1221
         },
         {
          "color": "#d1c57e",
          "game_that_season": 12,
          "logos": "http://a.espncdn.com/i/teamlogos/ncaa/500/38.png",
          "main_team": "Colorado",
          "season": 2023,
          "team_conference": "Pac-12",
          "team_id": 38,
          "team_postgame_elo": 1237
         },
         {
          "color": "#ffc72c",
          "game_that_season": 1,
          "logos": "http://a.espncdn.com/i/teamlogos/ncaa/500/30.png",
          "main_team": "USC",
          "season": 2023,
          "team_conference": "Pac-12",
          "team_id": 30,
          "team_postgame_elo": 1713
         },
         {
          "color": "#ffc72c",
          "game_that_season": 2,
          "logos": "http://a.espncdn.com/i/teamlogos/ncaa/500/30.png",
          "main_team": "USC",
          "season": 2023,
          "team_conference": "Pac-12",
          "team_id": 30,
          "team_postgame_elo": 1817
         },
         {
          "color": "#ffc72c",
          "game_that_season": 3,
          "logos": "http://a.espncdn.com/i/teamlogos/ncaa/500/30.png",
          "main_team": "USC",
          "season": 2023,
          "team_conference": "Pac-12",
          "team_id": 30,
          "team_postgame_elo": 1891
         },
         {
          "color": "#ffc72c",
          "game_that_season": 6,
          "logos": "http://a.espncdn.com/i/teamlogos/ncaa/500/30.png",
          "main_team": "USC",
          "season": 2023,
          "team_conference": "Pac-12",
          "team_id": 30,
          "team_postgame_elo": 1845
         },
         {
          "color": "#ffc72c",
          "game_that_season": 8,
          "logos": "http://a.espncdn.com/i/teamlogos/ncaa/500/30.png",
          "main_team": "USC",
          "season": 2023,
          "team_conference": "Pac-12",
          "team_id": 30,
          "team_postgame_elo": 1766
         },
         {
          "color": "#ffc72c",
          "game_that_season": 10,
          "logos": "http://a.espncdn.com/i/teamlogos/ncaa/500/30.png",
          "main_team": "USC",
          "season": 2023,
          "team_conference": "Pac-12",
          "team_id": 30,
          "team_postgame_elo": 1743
         },
         {
          "color": "#ffc72c",
          "game_that_season": 12,
          "logos": "http://a.espncdn.com/i/teamlogos/ncaa/500/30.png",
          "main_team": "USC",
          "season": 2023,
          "team_conference": "Pac-12",
          "team_id": 30,
          "team_postgame_elo": 1683
         },
         {
          "color": "#ffc72c",
          "game_that_season": 4,
          "logos": "http://a.espncdn.com/i/teamlogos/ncaa/500/30.png",
          "main_team": "USC",
          "season": 2023,
          "team_conference": "Pac-12",
          "team_id": 30,
          "team_postgame_elo": 1879
         },
         {
          "color": "#ffc72c",
          "game_that_season": 5,
          "logos": "http://a.espncdn.com/i/teamlogos/ncaa/500/30.png",
          "main_team": "USC",
          "season": 2023,
          "team_conference": "Pac-12",
          "team_id": 30,
          "team_postgame_elo": 1850
         },
         {
          "color": "#ffc72c",
          "game_that_season": 7,
          "logos": "http://a.espncdn.com/i/teamlogos/ncaa/500/30.png",
          "main_team": "USC",
          "season": 2023,
          "team_conference": "Pac-12",
          "team_id": 30,
          "team_postgame_elo": 1768
         },
         {
          "color": "#ffc72c",
          "game_that_season": 9,
          "logos": "http://a.espncdn.com/i/teamlogos/ncaa/500/30.png",
          "main_team": "USC",
          "season": 2023,
          "team_conference": "Pac-12",
          "team_id": 30,
          "team_postgame_elo": 1755
         },
         {
          "color": "#ffc72c",
          "game_that_season": 11,
          "logos": "http://a.espncdn.com/i/teamlogos/ncaa/500/30.png",
          "main_team": "USC",
          "season": 2023,
          "team_conference": "Pac-12",
          "team_id": 30,
          "team_postgame_elo": 1743
         },
         {
          "color": "#A80532",
          "game_that_season": 3,
          "logos": "http://a.espncdn.com/i/teamlogos/ncaa/500/24.png",
          "main_team": "Stanford",
          "season": 2023,
          "team_conference": "Pac-12",
          "team_id": 24,
          "team_postgame_elo": 1283
         },
         {
          "color": "#A80532",
          "game_that_season": 4,
          "logos": "http://a.espncdn.com/i/teamlogos/ncaa/500/24.png",
          "main_team": "Stanford",
          "season": 2023,
          "team_conference": "Pac-12",
          "team_id": 24,
          "team_postgame_elo": 1278
         },
         {
          "color": "#A80532",
          "game_that_season": 5,
          "logos": "http://a.espncdn.com/i/teamlogos/ncaa/500/24.png",
          "main_team": "Stanford",
          "season": 2023,
          "team_conference": "Pac-12",
          "team_id": 24,
          "team_postgame_elo": 1237
         },
         {
          "color": "#A80532",
          "game_that_season": 7,
          "logos": "http://a.espncdn.com/i/teamlogos/ncaa/500/24.png",
          "main_team": "Stanford",
          "season": 2023,
          "team_conference": "Pac-12",
          "team_id": 24,
          "team_postgame_elo": 1198
         },
         {
          "color": "#A80532",
          "game_that_season": 8,
          "logos": "http://a.espncdn.com/i/teamlogos/ncaa/500/24.png",
          "main_team": "Stanford",
          "season": 2023,
          "team_conference": "Pac-12",
          "team_id": 24,
          "team_postgame_elo": 1230
         },
         {
          "color": "#A80532",
          "game_that_season": 11,
          "logos": "http://a.espncdn.com/i/teamlogos/ncaa/500/24.png",
          "main_team": "Stanford",
          "season": 2023,
          "team_conference": "Pac-12",
          "team_id": 24,
          "team_postgame_elo": 1179
         },
         {
          "color": "#A80532",
          "game_that_season": 12,
          "logos": "http://a.espncdn.com/i/teamlogos/ncaa/500/24.png",
          "main_team": "Stanford",
          "season": 2023,
          "team_conference": "Pac-12",
          "team_id": 24,
          "team_postgame_elo": 1180
         },
         {
          "color": "#A80532",
          "game_that_season": 1,
          "logos": "http://a.espncdn.com/i/teamlogos/ncaa/500/24.png",
          "main_team": "Stanford",
          "season": 2023,
          "team_conference": "Pac-12",
          "team_id": 24,
          "team_postgame_elo": 1345
         },
         {
          "color": "#A80532",
          "game_that_season": 2,
          "logos": "http://a.espncdn.com/i/teamlogos/ncaa/500/24.png",
          "main_team": "Stanford",
          "season": 2023,
          "team_conference": "Pac-12",
          "team_id": 24,
          "team_postgame_elo": 1271
         },
         {
          "color": "#A80532",
          "game_that_season": 6,
          "logos": "http://a.espncdn.com/i/teamlogos/ncaa/500/24.png",
          "main_team": "Stanford",
          "season": 2023,
          "team_conference": "Pac-12",
          "team_id": 24,
          "team_postgame_elo": 1245
         },
         {
          "color": "#A80532",
          "game_that_season": 9,
          "logos": "http://a.espncdn.com/i/teamlogos/ncaa/500/24.png",
          "main_team": "Stanford",
          "season": 2023,
          "team_conference": "Pac-12",
          "team_id": 24,
          "team_postgame_elo": 1249
         },
         {
          "color": "#A80532",
          "game_that_season": 10,
          "logos": "http://a.espncdn.com/i/teamlogos/ncaa/500/24.png",
          "main_team": "Stanford",
          "season": 2023,
          "team_conference": "Pac-12",
          "team_id": 24,
          "team_postgame_elo": 1184
         },
         {
          "color": "#94022a",
          "game_that_season": 2,
          "logos": "http://a.espncdn.com/i/teamlogos/ncaa/500/265.png",
          "main_team": "Washington State",
          "season": 2023,
          "team_conference": "Pac-12",
          "team_id": 265,
          "team_postgame_elo": 1621
         },
         {
          "color": "#94022a",
          "game_that_season": 3,
          "logos": "http://a.espncdn.com/i/teamlogos/ncaa/500/265.png",
          "main_team": "Washington State",
          "season": 2023,
          "team_conference": "Pac-12",
          "team_id": 265,
          "team_postgame_elo": 1653
         },
         {
          "color": "#94022a",
          "game_that_season": 4,
          "logos": "http://a.espncdn.com/i/teamlogos/ncaa/500/265.png",
          "main_team": "Washington State",
          "season": 2023,
          "team_conference": "Pac-12",
          "team_id": 265,
          "team_postgame_elo": 1624
         },
         {
          "color": "#94022a",
          "game_that_season": 6,
          "logos": "http://a.espncdn.com/i/teamlogos/ncaa/500/265.png",
          "main_team": "Washington State",
          "season": 2023,
          "team_conference": "Pac-12",
          "team_id": 265,
          "team_postgame_elo": 1480
         },
         {
          "color": "#94022a",
          "game_that_season": 9,
          "logos": "http://a.espncdn.com/i/teamlogos/ncaa/500/265.png",
          "main_team": "Washington State",
          "season": 2023,
          "team_conference": "Pac-12",
          "team_id": 265,
          "team_postgame_elo": 1435
         },
         {
          "color": "#94022a",
          "game_that_season": 11,
          "logos": "http://a.espncdn.com/i/teamlogos/ncaa/500/265.png",
          "main_team": "Washington State",
          "season": 2023,
          "team_conference": "Pac-12",
          "team_id": 265,
          "team_postgame_elo": 1543
         },
         {
          "color": "#94022a",
          "game_that_season": 1,
          "logos": "http://a.espncdn.com/i/teamlogos/ncaa/500/265.png",
          "main_team": "Washington State",
          "season": 2023,
          "team_conference": "Pac-12",
          "team_id": 265,
          "team_postgame_elo": 1602
         },
         {
          "color": "#94022a",
          "game_that_season": 5,
          "logos": "http://a.espncdn.com/i/teamlogos/ncaa/500/265.png",
          "main_team": "Washington State",
          "season": 2023,
          "team_conference": "Pac-12",
          "team_id": 265,
          "team_postgame_elo": 1615
         },
         {
          "color": "#94022a",
          "game_that_season": 7,
          "logos": "http://a.espncdn.com/i/teamlogos/ncaa/500/265.png",
          "main_team": "Washington State",
          "season": 2023,
          "team_conference": "Pac-12",
          "team_id": 265,
          "team_postgame_elo": 1479
         },
         {
          "color": "#94022a",
          "game_that_season": 8,
          "logos": "http://a.espncdn.com/i/teamlogos/ncaa/500/265.png",
          "main_team": "Washington State",
          "season": 2023,
          "team_conference": "Pac-12",
          "team_id": 265,
          "team_postgame_elo": 1454
         },
         {
          "color": "#94022a",
          "game_that_season": 10,
          "logos": "http://a.espncdn.com/i/teamlogos/ncaa/500/265.png",
          "main_team": "Washington State",
          "season": 2023,
          "team_conference": "Pac-12",
          "team_id": 265,
          "team_postgame_elo": 1434
         },
         {
          "color": "#94022a",
          "game_that_season": 12,
          "logos": "http://a.espncdn.com/i/teamlogos/ncaa/500/265.png",
          "main_team": "Washington State",
          "season": 2023,
          "team_conference": "Pac-12",
          "team_id": 265,
          "team_postgame_elo": 1546
         }
        ]
       },
       "height": 400,
       "layer": [
        {
         "data": {
          "name": "data-4f5f3c0c23e39328a45d7addc72bf503"
         },
         "encoding": {
          "color": {
           "field": "color",
           "scale": null,
           "type": "nominal"
          },
          "x": {
           "field": "game_that_season",
           "title": "Week",
           "type": "quantitative"
          },
          "y": {
           "field": "team_postgame_elo",
           "scale": {
            "domain": [
             1000,
             2500
            ]
           },
           "title": "Post Game ELO",
           "type": "quantitative"
          }
         },
         "mark": {
          "opacity": 0.8,
          "type": "line"
         },
         "title": "Trend in End of Game ELO Season"
        },
        {
         "data": {
          "name": "data-156899450d5a955456b61dd74d5f2290"
         },
         "encoding": {
          "url": {
           "field": "logos",
           "type": "nominal"
          },
          "x": {
           "field": "game_that_season",
           "type": "quantitative"
          },
          "y": {
           "field": "team_postgame_elo",
           "type": "quantitative"
          }
         },
         "mark": {
          "height": 30,
          "opacity": 0.95,
          "type": "image",
          "width": 30
         }
        }
       ],
       "width": 400
      },
      "text/plain": [
       "<VegaLite 5 object>\n",
       "\n",
       "If you see this message, it means the renderer has not been properly enabled\n",
       "for the frontend that you are using. For more information, see\n",
       "https://altair-viz.github.io/user_guide/troubleshooting.html\n"
      ]
     },
     "execution_count": 7,
     "metadata": {},
     "output_type": "execute_result"
    }
   ],
   "source": [
    "power_5_conf = ['Pac-12', 'Big 12', 'ACC', 'SEC', 'Big Ten']\n",
    "\n",
    "season = 2023\n",
    "conference = 'Pac-12'\n",
    "\n",
    "smaller_df = final_df[final_df['season'] == season]\n",
    "smaller_df = smaller_df[smaller_df['team_conference'] == conference]\n",
    "\n",
    "line = alt.Chart(smaller_df).mark_line(opacity = .8).encode(\n",
    "    x = alt.X('game_that_season', title = 'Week'),\n",
    "    y = alt.Y('team_postgame_elo', scale=alt.Scale(domain=[1000, 2500]), title = 'Post Game ELO'),\n",
    "    color = alt.Color('color:N').scale(None)).properties(\n",
    "    height = 400, width = 400, title = 'Trend in End of Game ELO Season')\n",
    "\n",
    "dot_df = smaller_df[smaller_df['game_that_season'].isin([1,12])]\n",
    "\n",
    "logos = alt.Chart(dot_df).mark_image(opacity = .95, width = 30, height = 30).encode(\n",
    "        x = alt.X('game_that_season'),\n",
    "        y = alt.Y('team_postgame_elo'),\n",
    "        url = 'logos')\n",
    "\n",
    "line + logos"
   ]
  },
  {
   "cell_type": "markdown",
   "id": "139051b7-83e5-4e06-8938-7e89b187ad0b",
   "metadata": {},
   "source": [
    "#### ELO and Championships.\n",
    "\n",
    "##### Of the power 5 teams with high ELOs, which ones won championships?"
   ]
  },
  {
   "cell_type": "code",
   "execution_count": 8,
   "id": "0836cb95-fc8f-46c1-b944-3920e918e877",
   "metadata": {},
   "outputs": [
    {
     "name": "stderr",
     "output_type": "stream",
     "text": [
      "<ipython-input-8-21014931d2dd>:1: DtypeWarning: Columns (7,15) have mixed types. Specify dtype option on import or set low_memory=False.\n",
      "  df = pd.read_csv('../data/games_manipulated.csv')\n"
     ]
    }
   ],
   "source": [
    "df = pd.read_csv('../data/games_manipulated.csv')"
   ]
  },
  {
   "cell_type": "code",
   "execution_count": 9,
   "id": "a4967c1c-6f1b-45be-9e6e-86da688dbb6c",
   "metadata": {},
   "outputs": [
    {
     "name": "stderr",
     "output_type": "stream",
     "text": [
      "<ipython-input-9-15bb05c30299>:1: DtypeWarning: Columns (7,15) have mixed types. Specify dtype option on import or set low_memory=False.\n",
      "  df = pd.read_csv('../data/games_manipulated.csv')\n"
     ]
    }
   ],
   "source": [
    "df = pd.read_csv('../data/games_manipulated.csv')\n",
    "\n",
    "# Filter to only the power 5 conference week 12\n",
    "power_5_conf = ['Pac-12', 'Big 12', 'ACC', 'SEC', 'Big Ten']\n",
    "df = df[df['team_conference'].isin(power_5_conf)]\n",
    "df = df[df['game_that_season'] == 12] \n",
    "\n",
    "# Bring in only necessarry columns\n",
    "df = df[['season', 'team_id', 'main_team', 'team_postgame_elo', 'team_conference']]\n",
    "\n",
    "final_df = pd.merge(left = df, right = df_teams, left_on = 'team_id', right_on = 'id')\n",
    "\n",
    "final_df = final_df[['season', 'team_conference', 'team_postgame_elo', 'main_team', 'logos', 'color']]"
   ]
  },
  {
   "cell_type": "code",
   "execution_count": 10,
   "id": "5c789764-15eb-4cf8-8072-ec7c607f5e66",
   "metadata": {},
   "outputs": [
    {
     "name": "stderr",
     "output_type": "stream",
     "text": [
      "<ipython-input-10-aa603384daea>:2: DtypeWarning: Columns (7,15) have mixed types. Specify dtype option on import or set low_memory=False.\n",
      "  df = pd.read_csv('../data/games_manipulated.csv')\n"
     ]
    }
   ],
   "source": [
    "# Get dataset of teams that competed in national championship game\n",
    "df = pd.read_csv('../data/games_manipulated.csv')\n",
    "\n",
    "substr_1 = 'NATIONAL CHAMPIONSHIP'\n",
    "substr_2 = 'National Championship'\n",
    "\n",
    "df = df[df['notes'].notna()]\n",
    "a = df[df['notes'].str.contains(substr_1)]\n",
    "b = df[df['notes'].str.contains(substr_2)]\n",
    "\n",
    "championship_games = pd.concat([a, b])\n",
    "championship_games['championship_appearance'] = 1\n",
    "championship_games = championship_games.sort_values(by = 'season', ascending = True)[['main_team', 'season', 'win_flag', 'championship_appearance']]"
   ]
  },
  {
   "cell_type": "code",
   "execution_count": 11,
   "id": "9bc62947-9c25-4748-9934-0fa602c75730",
   "metadata": {},
   "outputs": [],
   "source": [
    "# Join championship dataset to end of regualr season game dataset\n",
    "\n",
    "final_df.sort_values(by = 'team_postgame_elo', ascending = False)\n",
    "\n",
    "new_df = pd.merge(final_df, championship_games,  how='left', left_on=['season','main_team'], right_on = ['season','main_team'])\n",
    "new_df['championship_appearance']= new_df['championship_appearance'].fillna(0)\n",
    "new_df['win_flag'] = new_df['win_flag'].fillna(0)\n",
    "new_df = new_df.sort_values(by = 'team_postgame_elo', ascending = False)\n",
    "\n",
    "new_df['year_team'] = new_df['season'].astype(str) + ' ' + new_df['main_team'].astype(str)"
   ]
  },
  {
   "cell_type": "code",
   "execution_count": 12,
   "id": "69aa1c1e-4dc1-4eac-b65a-ed244c3563d0",
   "metadata": {},
   "outputs": [
    {
     "data": {
      "application/vnd.vegalite.v5+json": {
       "$schema": "https://vega.github.io/schema/vega-lite/v5.6.1.json",
       "config": {
        "view": {
         "continuousHeight": 300,
         "continuousWidth": 300
        }
       },
       "data": {
        "name": "data-04d00c730c7904d8cee517ed4da504bb"
       },
       "datasets": {
        "data-04d00c730c7904d8cee517ed4da504bb": [
         {
          "championship_appearance": 0,
          "color": "#DE3121",
          "logos": "http://a.espncdn.com/i/teamlogos/ncaa/500/194.png",
          "main_team": "Ohio State",
          "season": 2019,
          "team_conference": "Big Ten",
          "team_postgame_elo": 2381,
          "win_flag": 0,
          "year_team": "2019 Ohio State"
         },
         {
          "championship_appearance": 1,
          "color": "#782F40",
          "logos": "http://a.espncdn.com/i/teamlogos/ncaa/500/52.png",
          "main_team": "Florida State",
          "season": 2013,
          "team_conference": "ACC",
          "team_postgame_elo": 2366,
          "win_flag": 1,
          "year_team": "2013 Florida State"
         },
         {
          "championship_appearance": 1,
          "color": "#690014",
          "logos": "http://a.espncdn.com/i/teamlogos/ncaa/500/333.png",
          "main_team": "Alabama",
          "season": 2020,
          "team_conference": "SEC",
          "team_postgame_elo": 2337,
          "win_flag": 1,
          "year_team": "2020 Alabama"
         },
         {
          "championship_appearance": 1,
          "color": "#F66733",
          "logos": "http://a.espncdn.com/i/teamlogos/ncaa/500/228.png",
          "main_team": "Clemson",
          "season": 2019,
          "team_conference": "ACC",
          "team_postgame_elo": 2336,
          "win_flag": 0,
          "year_team": "2019 Clemson"
         },
         {
          "championship_appearance": 1,
          "color": "#690014",
          "logos": "http://a.espncdn.com/i/teamlogos/ncaa/500/333.png",
          "main_team": "Alabama",
          "season": 2018,
          "team_conference": "SEC",
          "team_postgame_elo": 2336,
          "win_flag": 0,
          "year_team": "2018 Alabama"
         },
         {
          "championship_appearance": 0,
          "color": "#DE3121",
          "logos": "http://a.espncdn.com/i/teamlogos/ncaa/500/194.png",
          "main_team": "Ohio State",
          "season": 2016,
          "team_conference": "Big Ten",
          "team_postgame_elo": 2328,
          "win_flag": 0,
          "year_team": "2016 Ohio State"
         },
         {
          "championship_appearance": 1,
          "color": "#690014",
          "logos": "http://a.espncdn.com/i/teamlogos/ncaa/500/333.png",
          "main_team": "Alabama",
          "season": 2016,
          "team_conference": "SEC",
          "team_postgame_elo": 2278,
          "win_flag": 0,
          "year_team": "2016 Alabama"
         },
         {
          "championship_appearance": 1,
          "color": "#F66733",
          "logos": "http://a.espncdn.com/i/teamlogos/ncaa/500/228.png",
          "main_team": "Clemson",
          "season": 2018,
          "team_conference": "ACC",
          "team_postgame_elo": 2271,
          "win_flag": 1,
          "year_team": "2018 Clemson"
         },
         {
          "championship_appearance": 1,
          "color": "#690014",
          "logos": "http://a.espncdn.com/i/teamlogos/ncaa/500/333.png",
          "main_team": "Alabama",
          "season": 2017,
          "team_conference": "SEC",
          "team_postgame_elo": 2206,
          "win_flag": 1,
          "year_team": "2017 Alabama"
         },
         {
          "championship_appearance": 1,
          "color": "#CC0000",
          "logos": "http://a.espncdn.com/i/teamlogos/ncaa/500/61.png",
          "main_team": "Georgia",
          "season": 2021,
          "team_conference": "SEC",
          "team_postgame_elo": 2190,
          "win_flag": 1,
          "year_team": "2021 Georgia"
         },
         {
          "championship_appearance": 1,
          "color": "#690014",
          "logos": "http://a.espncdn.com/i/teamlogos/ncaa/500/333.png",
          "main_team": "Alabama",
          "season": 2021,
          "team_conference": "SEC",
          "team_postgame_elo": 2173,
          "win_flag": 0,
          "year_team": "2021 Alabama"
         },
         {
          "championship_appearance": 0,
          "color": "#690014",
          "logos": "http://a.espncdn.com/i/teamlogos/ncaa/500/333.png",
          "main_team": "Alabama",
          "season": 2013,
          "team_conference": "SEC",
          "team_postgame_elo": 2168,
          "win_flag": 0,
          "year_team": "2013 Alabama"
         },
         {
          "championship_appearance": 1,
          "color": "#00274c",
          "logos": "http://a.espncdn.com/i/teamlogos/ncaa/500/130.png",
          "main_team": "Michigan",
          "season": 2023,
          "team_conference": "Big Ten",
          "team_postgame_elo": 2165,
          "win_flag": 1,
          "year_team": "2023 Michigan"
         },
         {
          "championship_appearance": 0,
          "color": "#F66733",
          "logos": "http://a.espncdn.com/i/teamlogos/ncaa/500/228.png",
          "main_team": "Clemson",
          "season": 2020,
          "team_conference": "ACC",
          "team_postgame_elo": 2163,
          "win_flag": 0,
          "year_team": "2020 Clemson"
         },
         {
          "championship_appearance": 0,
          "color": "#690014",
          "logos": "http://a.espncdn.com/i/teamlogos/ncaa/500/333.png",
          "main_team": "Alabama",
          "season": 2019,
          "team_conference": "SEC",
          "team_postgame_elo": 2160,
          "win_flag": 0,
          "year_team": "2019 Alabama"
         },
         {
          "championship_appearance": 0,
          "color": "#7b0000",
          "logos": "http://a.espncdn.com/i/teamlogos/ncaa/500/201.png",
          "main_team": "Oklahoma",
          "season": 2015,
          "team_conference": "Big 12",
          "team_postgame_elo": 2155,
          "win_flag": 0,
          "year_team": "2015 Oklahoma"
         },
         {
          "championship_appearance": 0,
          "color": "#DE3121",
          "logos": "http://a.espncdn.com/i/teamlogos/ncaa/500/194.png",
          "main_team": "Ohio State",
          "season": 2021,
          "team_conference": "Big Ten",
          "team_postgame_elo": 2153,
          "win_flag": 0,
          "year_team": "2021 Ohio State"
         },
         {
          "championship_appearance": 0,
          "color": "#690014",
          "logos": "http://a.espncdn.com/i/teamlogos/ncaa/500/333.png",
          "main_team": "Alabama",
          "season": 2022,
          "team_conference": "SEC",
          "team_postgame_elo": 2151,
          "win_flag": 0,
          "year_team": "2022 Alabama"
         },
         {
          "championship_appearance": 0,
          "color": "#00274c",
          "logos": "http://a.espncdn.com/i/teamlogos/ncaa/500/130.png",
          "main_team": "Michigan",
          "season": 2022,
          "team_conference": "Big Ten",
          "team_postgame_elo": 2144,
          "win_flag": 0,
          "year_team": "2022 Michigan"
         },
         {
          "championship_appearance": 0,
          "color": "#00274c",
          "logos": "http://a.espncdn.com/i/teamlogos/ncaa/500/130.png",
          "main_team": "Michigan",
          "season": 2016,
          "team_conference": "Big Ten",
          "team_postgame_elo": 2142,
          "win_flag": 0,
          "year_team": "2016 Michigan"
         }
        ]
       },
       "encoding": {
        "color": {
         "field": "championship_appearance",
         "type": "nominal"
        },
        "x": {
         "field": "team_postgame_elo",
         "title": "ELO at Regular Season End",
         "type": "quantitative"
        },
        "y": {
         "field": "year_team",
         "sort": "-x",
         "title": "Team",
         "type": "nominal"
        }
       },
       "mark": {
        "opacity": 0.9,
        "type": "bar"
       },
       "title": {
        "subtitle": "10 of the 13 Top ELO teams appeared in the Championship",
        "text": "Top 20 Teams According to End of Season ELO Rating"
       },
       "width": 600
      },
      "text/plain": [
       "<VegaLite 5 object>\n",
       "\n",
       "If you see this message, it means the renderer has not been properly enabled\n",
       "for the frontend that you are using. For more information, see\n",
       "https://altair-viz.github.io/user_guide/troubleshooting.html\n"
      ]
     },
     "execution_count": 12,
     "metadata": {},
     "output_type": "execute_result"
    }
   ],
   "source": [
    "alt.Chart(new_df.head(20)).mark_bar(opacity = .9).encode(\n",
    "    alt.X('team_postgame_elo', title = 'ELO at Regular Season End'),\n",
    "    alt.Y('year_team', sort = '-x', title = 'Team'), \n",
    "    color = 'championship_appearance:N')\\\n",
    ".properties(title={\n",
    "      \"text\": \"Top 20 Teams According to End of Season ELO Rating\", \n",
    "      \"subtitle\": \"10 of the 13 Top ELO teams appeared in the Championship\",\n",
    "    }, \n",
    "    width = 600)"
   ]
  }
 ],
 "metadata": {
  "kernelspec": {
   "display_name": "Python 3",
   "language": "python",
   "name": "python3"
  },
  "language_info": {
   "codemirror_mode": {
    "name": "ipython",
    "version": 3
   },
   "file_extension": ".py",
   "mimetype": "text/x-python",
   "name": "python",
   "nbconvert_exporter": "python",
   "pygments_lexer": "ipython3",
   "version": "3.8.8"
  }
 },
 "nbformat": 4,
 "nbformat_minor": 5
}
