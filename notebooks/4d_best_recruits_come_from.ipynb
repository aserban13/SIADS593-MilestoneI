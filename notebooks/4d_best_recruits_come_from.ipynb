{
 "cells": [
  {
   "cell_type": "markdown",
   "metadata": {},
   "source": [
    "## Where do the best recruits come from and where do they go to school? "
   ]
  },
  {
   "cell_type": "code",
   "execution_count": 36,
   "metadata": {},
   "outputs": [],
   "source": [
    "# Uncomment and run line below if libraries aren't already installed\n",
    "#! pip install cfbd\n",
    "# !pip install geopy\n"
   ]
  },
  {
   "cell_type": "code",
   "execution_count": 37,
   "metadata": {},
   "outputs": [],
   "source": [
    "import numpy as np\n",
    "import pandas as pd\n",
    "import altair as alt\n",
    "import cfbd\n",
    "import pandas as pd \n",
    "\n",
    "pd.set_option('display.max_columns', None)"
   ]
  },
  {
   "cell_type": "code",
   "execution_count": 38,
   "metadata": {},
   "outputs": [],
   "source": [
    "df_teams = pd.read_csv('../data/teams.csv')\n",
    "df_recruits = pd.read_csv('../data/recruits.csv')"
   ]
  },
  {
   "cell_type": "markdown",
   "metadata": {},
   "source": [
    "#### Merge two datasets together based on the school the recruit went to"
   ]
  },
  {
   "cell_type": "code",
   "execution_count": 39,
   "metadata": {},
   "outputs": [
    {
     "data": {
      "text/html": [
       "<div>\n",
       "<style scoped>\n",
       "    .dataframe tbody tr th:only-of-type {\n",
       "        vertical-align: middle;\n",
       "    }\n",
       "\n",
       "    .dataframe tbody tr th {\n",
       "        vertical-align: top;\n",
       "    }\n",
       "\n",
       "    .dataframe thead th {\n",
       "        text-align: right;\n",
       "    }\n",
       "</style>\n",
       "<table border=\"1\" class=\"dataframe\">\n",
       "  <thead>\n",
       "    <tr style=\"text-align: right;\">\n",
       "      <th></th>\n",
       "      <th>year</th>\n",
       "      <th>ranking</th>\n",
       "      <th>name</th>\n",
       "      <th>committed_to</th>\n",
       "      <th>position</th>\n",
       "      <th>height</th>\n",
       "      <th>weight</th>\n",
       "      <th>stars</th>\n",
       "      <th>rating</th>\n",
       "      <th>latitude</th>\n",
       "      <th>longitude</th>\n",
       "      <th>state_province</th>\n",
       "      <th>school_y</th>\n",
       "      <th>conference</th>\n",
       "      <th>color</th>\n",
       "      <th>logos</th>\n",
       "      <th>latitude_school</th>\n",
       "      <th>longitude_school</th>\n",
       "      <th>four_star_or_better</th>\n",
       "    </tr>\n",
       "  </thead>\n",
       "  <tbody>\n",
       "    <tr>\n",
       "      <th>0</th>\n",
       "      <td>2015</td>\n",
       "      <td>1.0</td>\n",
       "      <td>Trenton Thompson</td>\n",
       "      <td>Georgia</td>\n",
       "      <td>DT</td>\n",
       "      <td>74.0</td>\n",
       "      <td>313.0</td>\n",
       "      <td>5</td>\n",
       "      <td>0.9992</td>\n",
       "      <td>31.578206</td>\n",
       "      <td>-84.155681</td>\n",
       "      <td>GA</td>\n",
       "      <td>Georgia</td>\n",
       "      <td>SEC</td>\n",
       "      <td>#CC0000</td>\n",
       "      <td>http://a.espncdn.com/i/teamlogos/ncaa/500/61.png</td>\n",
       "      <td>33.94982</td>\n",
       "      <td>-83.373381</td>\n",
       "      <td>1</td>\n",
       "    </tr>\n",
       "    <tr>\n",
       "      <th>1</th>\n",
       "      <td>2015</td>\n",
       "      <td>1.0</td>\n",
       "      <td>Trent Thompson</td>\n",
       "      <td>Georgia</td>\n",
       "      <td>DT</td>\n",
       "      <td>74.5</td>\n",
       "      <td>313.0</td>\n",
       "      <td>5</td>\n",
       "      <td>0.9991</td>\n",
       "      <td>31.578206</td>\n",
       "      <td>-84.155681</td>\n",
       "      <td>GA</td>\n",
       "      <td>Georgia</td>\n",
       "      <td>SEC</td>\n",
       "      <td>#CC0000</td>\n",
       "      <td>http://a.espncdn.com/i/teamlogos/ncaa/500/61.png</td>\n",
       "      <td>33.94982</td>\n",
       "      <td>-83.373381</td>\n",
       "      <td>1</td>\n",
       "    </tr>\n",
       "    <tr>\n",
       "      <th>2</th>\n",
       "      <td>2015</td>\n",
       "      <td>27.0</td>\n",
       "      <td>Terry Godwin</td>\n",
       "      <td>Georgia</td>\n",
       "      <td>ATH</td>\n",
       "      <td>72.0</td>\n",
       "      <td>168.0</td>\n",
       "      <td>5</td>\n",
       "      <td>0.9879</td>\n",
       "      <td>33.173177</td>\n",
       "      <td>-84.914936</td>\n",
       "      <td>GA</td>\n",
       "      <td>Georgia</td>\n",
       "      <td>SEC</td>\n",
       "      <td>#CC0000</td>\n",
       "      <td>http://a.espncdn.com/i/teamlogos/ncaa/500/61.png</td>\n",
       "      <td>33.94982</td>\n",
       "      <td>-83.373381</td>\n",
       "      <td>1</td>\n",
       "    </tr>\n",
       "    <tr>\n",
       "      <th>3</th>\n",
       "      <td>2015</td>\n",
       "      <td>48.0</td>\n",
       "      <td>Roquan Smith</td>\n",
       "      <td>Georgia</td>\n",
       "      <td>OLB</td>\n",
       "      <td>74.0</td>\n",
       "      <td>207.0</td>\n",
       "      <td>4</td>\n",
       "      <td>0.9769</td>\n",
       "      <td>32.305158</td>\n",
       "      <td>-84.027407</td>\n",
       "      <td>GA</td>\n",
       "      <td>Georgia</td>\n",
       "      <td>SEC</td>\n",
       "      <td>#CC0000</td>\n",
       "      <td>http://a.espncdn.com/i/teamlogos/ncaa/500/61.png</td>\n",
       "      <td>33.94982</td>\n",
       "      <td>-83.373381</td>\n",
       "      <td>1</td>\n",
       "    </tr>\n",
       "    <tr>\n",
       "      <th>4</th>\n",
       "      <td>2015</td>\n",
       "      <td>65.0</td>\n",
       "      <td>Jonathan Ledbetter</td>\n",
       "      <td>Georgia</td>\n",
       "      <td>SDE</td>\n",
       "      <td>76.0</td>\n",
       "      <td>265.0</td>\n",
       "      <td>4</td>\n",
       "      <td>0.9680</td>\n",
       "      <td>33.853270</td>\n",
       "      <td>-84.220073</td>\n",
       "      <td>GA</td>\n",
       "      <td>Georgia</td>\n",
       "      <td>SEC</td>\n",
       "      <td>#CC0000</td>\n",
       "      <td>http://a.espncdn.com/i/teamlogos/ncaa/500/61.png</td>\n",
       "      <td>33.94982</td>\n",
       "      <td>-83.373381</td>\n",
       "      <td>1</td>\n",
       "    </tr>\n",
       "  </tbody>\n",
       "</table>\n",
       "</div>"
      ],
      "text/plain": [
       "   year  ranking                name committed_to position  height  weight  \\\n",
       "0  2015      1.0    Trenton Thompson      Georgia       DT    74.0   313.0   \n",
       "1  2015      1.0      Trent Thompson      Georgia       DT    74.5   313.0   \n",
       "2  2015     27.0        Terry Godwin      Georgia      ATH    72.0   168.0   \n",
       "3  2015     48.0        Roquan Smith      Georgia      OLB    74.0   207.0   \n",
       "4  2015     65.0  Jonathan Ledbetter      Georgia      SDE    76.0   265.0   \n",
       "\n",
       "   stars  rating   latitude  longitude state_province school_y conference  \\\n",
       "0      5  0.9992  31.578206 -84.155681             GA  Georgia        SEC   \n",
       "1      5  0.9991  31.578206 -84.155681             GA  Georgia        SEC   \n",
       "2      5  0.9879  33.173177 -84.914936             GA  Georgia        SEC   \n",
       "3      4  0.9769  32.305158 -84.027407             GA  Georgia        SEC   \n",
       "4      4  0.9680  33.853270 -84.220073             GA  Georgia        SEC   \n",
       "\n",
       "     color                                             logos  latitude_school  \\\n",
       "0  #CC0000  http://a.espncdn.com/i/teamlogos/ncaa/500/61.png         33.94982   \n",
       "1  #CC0000  http://a.espncdn.com/i/teamlogos/ncaa/500/61.png         33.94982   \n",
       "2  #CC0000  http://a.espncdn.com/i/teamlogos/ncaa/500/61.png         33.94982   \n",
       "3  #CC0000  http://a.espncdn.com/i/teamlogos/ncaa/500/61.png         33.94982   \n",
       "4  #CC0000  http://a.espncdn.com/i/teamlogos/ncaa/500/61.png         33.94982   \n",
       "\n",
       "   longitude_school  four_star_or_better  \n",
       "0        -83.373381                    1  \n",
       "1        -83.373381                    1  \n",
       "2        -83.373381                    1  \n",
       "3        -83.373381                    1  \n",
       "4        -83.373381                    1  "
      ]
     },
     "execution_count": 39,
     "metadata": {},
     "output_type": "execute_result"
    }
   ],
   "source": [
    "df_merged = pd.merge(left = df_recruits, right = df_teams, left_on = 'committed_to', right_on = 'school', how = 'inner')\n",
    "\n",
    "col = ['year', 'ranking', 'name', 'committed_to', 'position', 'height', \\\n",
    "       'weight', 'stars', 'rating', 'latitude', 'longitude', 'state_province',\\\n",
    "       'school_y', 'conference', 'color', 'logos', 'latitude_school', 'longitude_school']\n",
    "\n",
    "df_merged = df_merged[col]\n",
    "df_merged['four_star_or_better'] = np.where(df_merged['stars'] >= 4, 1, 0) # Flag saying whether recruit is a 4 star\n",
    "\n",
    "df_merged.head()"
   ]
  },
  {
   "cell_type": "markdown",
   "metadata": {},
   "source": [
    "##### Create the two datasets showing recruits by where the went to school vs where they came from"
   ]
  },
  {
   "cell_type": "code",
   "execution_count": 40,
   "metadata": {},
   "outputs": [],
   "source": [
    "# Aggregate by recruit home town coordinates\n",
    "geo_df = df_merged.groupby(by = ['longitude', 'latitude']).agg({'name': 'count', 'four_star_or_better': 'sum', 'stars': 'sum'})\\\n",
    "                  .reset_index()\\\n",
    "                  .rename({'name': 'recruits',  'four_star_or_better': '4+ Star Recruits'}, axis = 1)"
   ]
  },
  {
   "cell_type": "code",
   "execution_count": 41,
   "metadata": {},
   "outputs": [],
   "source": [
    "# Aggregate by the location of where the recruit went to school\n",
    "\n",
    "geo_df_school = df_merged.groupby(by = ['longitude_school', 'latitude_school']).agg({'name': 'count', 'four_star_or_better': 'sum', 'stars':'sum'})\\\n",
    "    .reset_index()\\\n",
    "    .rename({'name': 'recruits', 'four_star_or_better': '4+ Star Recruits'}, axis = 1)\n"
   ]
  },
  {
   "cell_type": "markdown",
   "metadata": {},
   "source": [
    "### Create Heatmaps from the two datasets above "
   ]
  },
  {
   "cell_type": "code",
   "execution_count": 42,
   "metadata": {},
   "outputs": [],
   "source": [
    "# ! pip install plotly\n",
    "import pandas as pd\n",
    "import plotly.express as px\n",
    "\n",
    "# Heatmatp of recruits by home town\n",
    "fig = px.density_mapbox(geo_df, lat = 'latitude', lon = 'longitude', z = '4+ Star Recruits',\n",
    "                        radius = 40,\n",
    "                        center = dict(lat = 39, lon = -98),\n",
    "                        zoom = 3.5,\n",
    "                        mapbox_style = 'open-street-map',\n",
    "                        color_continuous_scale = 'rainbow',\n",
    "                        title = 'Heatmap of where 4 Star Recruits are From',\n",
    "                        range_color = [0, 100])\n",
    "#fig.write_image('recruit_home.png', auto_open=True)\n",
    "\n",
    "fig.update_layout(\n",
    "        title_text = 'Distribution of Football Recruiting Talent by Hometown Location',\n",
    "        showlegend = True,\n",
    "        # autosize = True,\n",
    "        width = 1200,\n",
    "        height = 700,\n",
    "        margin_autoexpand = True,\n",
    "        margin=dict(l=20, r=20, t=70, b=20),\n",
    "        geo = dict(\n",
    "            scope = 'north america',\n",
    "            projection_type = 'azimuthal equal area',\n",
    "            showland = True,\n",
    "            landcolor = 'rgb(243, 243, 243)',\n",
    "            countrycolor = 'rgb(204, 204, 204)',\n",
    "        ),\n",
    "        \n",
    "    )\n",
    "fig.write_image('recruits_school.png')\n",
    "\n",
    "fig.show()"
   ]
  },
  {
   "cell_type": "code",
   "execution_count": null,
   "metadata": {},
   "outputs": [
    {
     "data": {
      "application/vnd.plotly.v1+json": {
       "config": {
        "plotlyServerURL": "https://plot.ly"
       },
       "data": [
        {
         "coloraxis": "coloraxis",
         "hovertemplate": "4+ Star Recruits=%{z}<br>latitude_school=%{lat}<br>longitude_school=%{lon}<extra></extra>",
         "lat": [
          21.294294,
          44.5594559,
          44.0582712,
          47.6503235,
          37.8710434,
          37.4345556,
          37.3196675,
          39.5469459,
          36.8143527,
          34.014167,
          34.1613284,
          46.731831,
          32.784444,
          43.6028839,
          36.1672559,
          33.4264471,
          40.7599724,
          41.7517394,
          40.2575347,
          32.2288054,
          32.2796202,
          35.0669479,
          31.7733353,
          41.31161,
          40.0094746,
          40.570015,
          38.9969701,
          33.5910518,
          29.4169834,
          29.8910008,
          30.2836813,
          35.2058537,
          32.7096604,
          33.203899,
          31.5582015,
          36.125673,
          32.8377223,
          40.820682,
          39.2020096,
          30.6098891,
          36.1489175,
          30.713926,
          29.7163297,
          29.7219885,
          38.9629418,
          36.0680662,
          42.0139977,
          44.976525,
          32.5321487,
          38.9358491,
          32.5308089,
          30.2158434,
          41.6586045,
          30.412035,
          35.8488977,
          29.944616,
          35.1209429,
          34.3619837,
          43.06994,
          31.3289321,
          33.4563403,
          41.9339586,
          40.0993268,
          30.6943566,
          42.0653994,
          33.2082752,
          40.4352253,
          36.1440455,
          33.5206824,
          39.1808959,
          36.9847901,
          35.8511463,
          41.698378,
          31.7995565,
          33.8201052,
          38.2057621,
          42.2860064,
          32.6025532,
          40.2159422,
          43.5777313,
          39.5197009,
          39.1312495,
          38.0220905,
          42.7281474,
          33.7724449,
          33.735267,
          30.4381692,
          35.9550131,
          42.2658365,
          42.256126,
          41.3780114,
          41.6574777,
          33.9498197,
          40.0016447,
          34.6787737,
          27.9758691,
          38.4247042,
          29.6499357,
          39.3212794,
          32.4122471,
          36.2114267,
          41.0725534,
          41.1390935,
          28.6079765,
          33.9730239,
          35.3105033,
          37.2199873,
          25.7525014,
          36.1305507,
          25.9579665,
          26.3763763,
          40.4467648,
          39.6502744,
          37.3544305,
          35.9069294,
          33.7928506,
          35.9953688,
          38.4352919,
          42.9991334,
          35.8008001,
          38.0311801,
          40.8121958,
          35.5968486,
          38.9903332,
          38.9846985,
          36.8889533,
          43.0362269,
          39.9007995,
          40.5462553,
          41.3874924,
          41.7595675,
          42.3773244,
          42.335104
         ],
         "lon": [
          -157.819338,
          -123.2814341,
          -123.0684883,
          -122.3015746,
          -122.2507729,
          -122.1611271,
          -121.8682962,
          -119.8175435,
          -119.7580092,
          -118.287778,
          -118.1676462,
          -117.1604991,
          -117.122833,
          -116.1958882,
          -115.1485163,
          -111.9325005,
          -111.8488255,
          -111.8116007,
          -111.6545247,
          -110.9488677,
          -106.7411148,
          -106.6283225,
          -106.507957,
          -105.5681384,
          -105.266905,
          -105.088435,
          -104.8436165,
          -101.8728824,
          -98.4788143,
          -97.9255735,
          -97.7325345,
          -97.4423145,
          -97.3680835,
          -97.159245,
          -97.1156702,
          -97.066513,
          -96.7827859,
          -96.705594,
          -96.5938395,
          -96.3403828,
          -95.9437853,
          -95.5419802,
          -95.4093261,
          -95.3491623,
          -95.2463686,
          -94.1789534,
          -93.6357716,
          -93.2245462,
          -92.6560019,
          -92.3332009,
          -92.0660602,
          -92.0417371,
          -91.5510829,
          -91.1838163,
          -90.6677436,
          -90.116692,
          -89.977147,
          -89.5342076,
          -89.4126943,
          -89.3318118,
          -88.7933652,
          -88.7778357,
          -88.2359569,
          -88.0430541,
          -87.6924751,
          -87.5503836,
          -86.9186843,
          -86.8088942,
          -86.8024326,
          -86.5256217,
          -86.4594041,
          -86.3681649,
          -86.2339425,
          -85.9518328,
          -85.76647,
          -85.7588141,
          -85.6007573,
          -85.4897479,
          -85.4161148,
          -84.7709904,
          -84.7330255,
          -84.5161913,
          -84.5053408,
          -84.4848526,
          -84.3928054,
          -84.389949,
          -84.3044032,
          -83.9250128,
          -83.7486956,
          -83.647285,
          -83.6225,
          -83.6135652,
          -83.3733813,
          -83.0197266,
          -82.8432428,
          -82.5033344,
          -82.4214412,
          -82.3485788,
          -82.1034315,
          -81.7849296,
          -81.6854278,
          -81.5083408,
          -81.31346,
          -81.1927233,
          -81.0191726,
          -80.7401194,
          -80.4180643,
          -80.3778912,
          -80.2545851,
          -80.2388604,
          -80.1015759,
          -80.0157603,
          -79.9551873,
          -79.1750239,
          -79.0478889,
          -79.0166946,
          -78.9417564,
          -78.8729349,
          -78.7775113,
          -78.7195655,
          -78.5137897,
          -77.8561023,
          -77.364564,
          -76.9473792,
          -76.5076335,
          -76.3049175,
          -76.1363161,
          -75.1675414,
          -74.4660408,
          -73.9640891,
          -72.6187728,
          -72.5360595,
          -71.1664413
         ],
         "name": "",
         "radius": 40,
         "subplot": "mapbox",
         "type": "densitymapbox",
         "z": [
          0,
          4,
          101,
          74,
          16,
          54,
          1,
          0,
          2,
          108,
          57,
          4,
          3,
          6,
          0,
          35,
          26,
          0,
          8,
          13,
          0,
          0,
          0,
          1,
          14,
          0,
          0,
          16,
          0,
          0,
          144,
          125,
          37,
          0,
          23,
          20,
          2,
          48,
          4,
          135,
          1,
          0,
          0,
          7,
          4,
          52,
          8,
          14,
          0,
          25,
          0,
          0,
          19,
          140,
          0,
          0,
          5,
          59,
          28,
          0,
          40,
          0,
          10,
          0,
          9,
          196,
          16,
          14,
          0,
          12,
          0,
          0,
          126,
          0,
          0,
          23,
          0,
          113,
          1,
          0,
          1,
          8,
          49,
          37,
          13,
          0,
          98,
          92,
          114,
          0,
          0,
          0,
          168,
          161,
          129,
          1,
          2,
          114,
          0,
          1,
          0,
          0,
          0,
          7,
          59,
          0,
          27,
          0,
          5,
          101,
          0,
          18,
          15,
          0,
          58,
          0,
          9,
          0,
          0,
          27,
          7,
          119,
          1,
          37,
          0,
          0,
          3,
          1,
          12,
          0,
          0,
          0,
          8
         ]
        }
       ],
       "layout": {
        "coloraxis": {
         "cmax": 100,
         "cmin": 0,
         "colorbar": {
          "title": {
           "text": "4+ Star Recruits"
          }
         },
         "colorscale": [
          [
           0,
           "rgb(150,0,90)"
          ],
          [
           0.125,
           "rgb(0,0,200)"
          ],
          [
           0.25,
           "rgb(0,25,255)"
          ],
          [
           0.375,
           "rgb(0,152,255)"
          ],
          [
           0.5,
           "rgb(44,255,150)"
          ],
          [
           0.625,
           "rgb(151,255,0)"
          ],
          [
           0.75,
           "rgb(255,234,0)"
          ],
          [
           0.875,
           "rgb(255,111,0)"
          ],
          [
           1,
           "rgb(255,0,0)"
          ]
         ]
        },
        "geo": {
         "countrycolor": "rgb(204, 204, 204)",
         "landcolor": "rgb(243, 243, 243)",
         "projection": {
          "type": "azimuthal equal area"
         },
         "scope": "north america",
         "showland": true
        },
        "height": 700,
        "legend": {
         "tracegroupgap": 0
        },
        "mapbox": {
         "center": {
          "lat": 39,
          "lon": -98
         },
         "domain": {
          "x": [
           0,
           1
          ],
          "y": [
           0,
           1
          ]
         },
         "style": "open-street-map",
         "zoom": 3.5
        },
        "margin": {
         "autoexpand": true,
         "b": 20,
         "l": 20,
         "r": 20,
         "t": 70
        },
        "showlegend": true,
        "template": {
         "data": {
          "bar": [
           {
            "error_x": {
             "color": "#2a3f5f"
            },
            "error_y": {
             "color": "#2a3f5f"
            },
            "marker": {
             "line": {
              "color": "#E5ECF6",
              "width": 0.5
             },
             "pattern": {
              "fillmode": "overlay",
              "size": 10,
              "solidity": 0.2
             }
            },
            "type": "bar"
           }
          ],
          "barpolar": [
           {
            "marker": {
             "line": {
              "color": "#E5ECF6",
              "width": 0.5
             },
             "pattern": {
              "fillmode": "overlay",
              "size": 10,
              "solidity": 0.2
             }
            },
            "type": "barpolar"
           }
          ],
          "carpet": [
           {
            "aaxis": {
             "endlinecolor": "#2a3f5f",
             "gridcolor": "white",
             "linecolor": "white",
             "minorgridcolor": "white",
             "startlinecolor": "#2a3f5f"
            },
            "baxis": {
             "endlinecolor": "#2a3f5f",
             "gridcolor": "white",
             "linecolor": "white",
             "minorgridcolor": "white",
             "startlinecolor": "#2a3f5f"
            },
            "type": "carpet"
           }
          ],
          "choropleth": [
           {
            "colorbar": {
             "outlinewidth": 0,
             "ticks": ""
            },
            "type": "choropleth"
           }
          ],
          "contour": [
           {
            "colorbar": {
             "outlinewidth": 0,
             "ticks": ""
            },
            "colorscale": [
             [
              0,
              "#0d0887"
             ],
             [
              0.1111111111111111,
              "#46039f"
             ],
             [
              0.2222222222222222,
              "#7201a8"
             ],
             [
              0.3333333333333333,
              "#9c179e"
             ],
             [
              0.4444444444444444,
              "#bd3786"
             ],
             [
              0.5555555555555556,
              "#d8576b"
             ],
             [
              0.6666666666666666,
              "#ed7953"
             ],
             [
              0.7777777777777778,
              "#fb9f3a"
             ],
             [
              0.8888888888888888,
              "#fdca26"
             ],
             [
              1,
              "#f0f921"
             ]
            ],
            "type": "contour"
           }
          ],
          "contourcarpet": [
           {
            "colorbar": {
             "outlinewidth": 0,
             "ticks": ""
            },
            "type": "contourcarpet"
           }
          ],
          "heatmap": [
           {
            "colorbar": {
             "outlinewidth": 0,
             "ticks": ""
            },
            "colorscale": [
             [
              0,
              "#0d0887"
             ],
             [
              0.1111111111111111,
              "#46039f"
             ],
             [
              0.2222222222222222,
              "#7201a8"
             ],
             [
              0.3333333333333333,
              "#9c179e"
             ],
             [
              0.4444444444444444,
              "#bd3786"
             ],
             [
              0.5555555555555556,
              "#d8576b"
             ],
             [
              0.6666666666666666,
              "#ed7953"
             ],
             [
              0.7777777777777778,
              "#fb9f3a"
             ],
             [
              0.8888888888888888,
              "#fdca26"
             ],
             [
              1,
              "#f0f921"
             ]
            ],
            "type": "heatmap"
           }
          ],
          "heatmapgl": [
           {
            "colorbar": {
             "outlinewidth": 0,
             "ticks": ""
            },
            "colorscale": [
             [
              0,
              "#0d0887"
             ],
             [
              0.1111111111111111,
              "#46039f"
             ],
             [
              0.2222222222222222,
              "#7201a8"
             ],
             [
              0.3333333333333333,
              "#9c179e"
             ],
             [
              0.4444444444444444,
              "#bd3786"
             ],
             [
              0.5555555555555556,
              "#d8576b"
             ],
             [
              0.6666666666666666,
              "#ed7953"
             ],
             [
              0.7777777777777778,
              "#fb9f3a"
             ],
             [
              0.8888888888888888,
              "#fdca26"
             ],
             [
              1,
              "#f0f921"
             ]
            ],
            "type": "heatmapgl"
           }
          ],
          "histogram": [
           {
            "marker": {
             "pattern": {
              "fillmode": "overlay",
              "size": 10,
              "solidity": 0.2
             }
            },
            "type": "histogram"
           }
          ],
          "histogram2d": [
           {
            "colorbar": {
             "outlinewidth": 0,
             "ticks": ""
            },
            "colorscale": [
             [
              0,
              "#0d0887"
             ],
             [
              0.1111111111111111,
              "#46039f"
             ],
             [
              0.2222222222222222,
              "#7201a8"
             ],
             [
              0.3333333333333333,
              "#9c179e"
             ],
             [
              0.4444444444444444,
              "#bd3786"
             ],
             [
              0.5555555555555556,
              "#d8576b"
             ],
             [
              0.6666666666666666,
              "#ed7953"
             ],
             [
              0.7777777777777778,
              "#fb9f3a"
             ],
             [
              0.8888888888888888,
              "#fdca26"
             ],
             [
              1,
              "#f0f921"
             ]
            ],
            "type": "histogram2d"
           }
          ],
          "histogram2dcontour": [
           {
            "colorbar": {
             "outlinewidth": 0,
             "ticks": ""
            },
            "colorscale": [
             [
              0,
              "#0d0887"
             ],
             [
              0.1111111111111111,
              "#46039f"
             ],
             [
              0.2222222222222222,
              "#7201a8"
             ],
             [
              0.3333333333333333,
              "#9c179e"
             ],
             [
              0.4444444444444444,
              "#bd3786"
             ],
             [
              0.5555555555555556,
              "#d8576b"
             ],
             [
              0.6666666666666666,
              "#ed7953"
             ],
             [
              0.7777777777777778,
              "#fb9f3a"
             ],
             [
              0.8888888888888888,
              "#fdca26"
             ],
             [
              1,
              "#f0f921"
             ]
            ],
            "type": "histogram2dcontour"
           }
          ],
          "mesh3d": [
           {
            "colorbar": {
             "outlinewidth": 0,
             "ticks": ""
            },
            "type": "mesh3d"
           }
          ],
          "parcoords": [
           {
            "line": {
             "colorbar": {
              "outlinewidth": 0,
              "ticks": ""
             }
            },
            "type": "parcoords"
           }
          ],
          "pie": [
           {
            "automargin": true,
            "type": "pie"
           }
          ],
          "scatter": [
           {
            "fillpattern": {
             "fillmode": "overlay",
             "size": 10,
             "solidity": 0.2
            },
            "type": "scatter"
           }
          ],
          "scatter3d": [
           {
            "line": {
             "colorbar": {
              "outlinewidth": 0,
              "ticks": ""
             }
            },
            "marker": {
             "colorbar": {
              "outlinewidth": 0,
              "ticks": ""
             }
            },
            "type": "scatter3d"
           }
          ],
          "scattercarpet": [
           {
            "marker": {
             "colorbar": {
              "outlinewidth": 0,
              "ticks": ""
             }
            },
            "type": "scattercarpet"
           }
          ],
          "scattergeo": [
           {
            "marker": {
             "colorbar": {
              "outlinewidth": 0,
              "ticks": ""
             }
            },
            "type": "scattergeo"
           }
          ],
          "scattergl": [
           {
            "marker": {
             "colorbar": {
              "outlinewidth": 0,
              "ticks": ""
             }
            },
            "type": "scattergl"
           }
          ],
          "scattermapbox": [
           {
            "marker": {
             "colorbar": {
              "outlinewidth": 0,
              "ticks": ""
             }
            },
            "type": "scattermapbox"
           }
          ],
          "scatterpolar": [
           {
            "marker": {
             "colorbar": {
              "outlinewidth": 0,
              "ticks": ""
             }
            },
            "type": "scatterpolar"
           }
          ],
          "scatterpolargl": [
           {
            "marker": {
             "colorbar": {
              "outlinewidth": 0,
              "ticks": ""
             }
            },
            "type": "scatterpolargl"
           }
          ],
          "scatterternary": [
           {
            "marker": {
             "colorbar": {
              "outlinewidth": 0,
              "ticks": ""
             }
            },
            "type": "scatterternary"
           }
          ],
          "surface": [
           {
            "colorbar": {
             "outlinewidth": 0,
             "ticks": ""
            },
            "colorscale": [
             [
              0,
              "#0d0887"
             ],
             [
              0.1111111111111111,
              "#46039f"
             ],
             [
              0.2222222222222222,
              "#7201a8"
             ],
             [
              0.3333333333333333,
              "#9c179e"
             ],
             [
              0.4444444444444444,
              "#bd3786"
             ],
             [
              0.5555555555555556,
              "#d8576b"
             ],
             [
              0.6666666666666666,
              "#ed7953"
             ],
             [
              0.7777777777777778,
              "#fb9f3a"
             ],
             [
              0.8888888888888888,
              "#fdca26"
             ],
             [
              1,
              "#f0f921"
             ]
            ],
            "type": "surface"
           }
          ],
          "table": [
           {
            "cells": {
             "fill": {
              "color": "#EBF0F8"
             },
             "line": {
              "color": "white"
             }
            },
            "header": {
             "fill": {
              "color": "#C8D4E3"
             },
             "line": {
              "color": "white"
             }
            },
            "type": "table"
           }
          ]
         },
         "layout": {
          "annotationdefaults": {
           "arrowcolor": "#2a3f5f",
           "arrowhead": 0,
           "arrowwidth": 1
          },
          "autotypenumbers": "strict",
          "coloraxis": {
           "colorbar": {
            "outlinewidth": 0,
            "ticks": ""
           }
          },
          "colorscale": {
           "diverging": [
            [
             0,
             "#8e0152"
            ],
            [
             0.1,
             "#c51b7d"
            ],
            [
             0.2,
             "#de77ae"
            ],
            [
             0.3,
             "#f1b6da"
            ],
            [
             0.4,
             "#fde0ef"
            ],
            [
             0.5,
             "#f7f7f7"
            ],
            [
             0.6,
             "#e6f5d0"
            ],
            [
             0.7,
             "#b8e186"
            ],
            [
             0.8,
             "#7fbc41"
            ],
            [
             0.9,
             "#4d9221"
            ],
            [
             1,
             "#276419"
            ]
           ],
           "sequential": [
            [
             0,
             "#0d0887"
            ],
            [
             0.1111111111111111,
             "#46039f"
            ],
            [
             0.2222222222222222,
             "#7201a8"
            ],
            [
             0.3333333333333333,
             "#9c179e"
            ],
            [
             0.4444444444444444,
             "#bd3786"
            ],
            [
             0.5555555555555556,
             "#d8576b"
            ],
            [
             0.6666666666666666,
             "#ed7953"
            ],
            [
             0.7777777777777778,
             "#fb9f3a"
            ],
            [
             0.8888888888888888,
             "#fdca26"
            ],
            [
             1,
             "#f0f921"
            ]
           ],
           "sequentialminus": [
            [
             0,
             "#0d0887"
            ],
            [
             0.1111111111111111,
             "#46039f"
            ],
            [
             0.2222222222222222,
             "#7201a8"
            ],
            [
             0.3333333333333333,
             "#9c179e"
            ],
            [
             0.4444444444444444,
             "#bd3786"
            ],
            [
             0.5555555555555556,
             "#d8576b"
            ],
            [
             0.6666666666666666,
             "#ed7953"
            ],
            [
             0.7777777777777778,
             "#fb9f3a"
            ],
            [
             0.8888888888888888,
             "#fdca26"
            ],
            [
             1,
             "#f0f921"
            ]
           ]
          },
          "colorway": [
           "#636efa",
           "#EF553B",
           "#00cc96",
           "#ab63fa",
           "#FFA15A",
           "#19d3f3",
           "#FF6692",
           "#B6E880",
           "#FF97FF",
           "#FECB52"
          ],
          "font": {
           "color": "#2a3f5f"
          },
          "geo": {
           "bgcolor": "white",
           "lakecolor": "white",
           "landcolor": "#E5ECF6",
           "showlakes": true,
           "showland": true,
           "subunitcolor": "white"
          },
          "hoverlabel": {
           "align": "left"
          },
          "hovermode": "closest",
          "mapbox": {
           "style": "light"
          },
          "paper_bgcolor": "white",
          "plot_bgcolor": "#E5ECF6",
          "polar": {
           "angularaxis": {
            "gridcolor": "white",
            "linecolor": "white",
            "ticks": ""
           },
           "bgcolor": "#E5ECF6",
           "radialaxis": {
            "gridcolor": "white",
            "linecolor": "white",
            "ticks": ""
           }
          },
          "scene": {
           "xaxis": {
            "backgroundcolor": "#E5ECF6",
            "gridcolor": "white",
            "gridwidth": 2,
            "linecolor": "white",
            "showbackground": true,
            "ticks": "",
            "zerolinecolor": "white"
           },
           "yaxis": {
            "backgroundcolor": "#E5ECF6",
            "gridcolor": "white",
            "gridwidth": 2,
            "linecolor": "white",
            "showbackground": true,
            "ticks": "",
            "zerolinecolor": "white"
           },
           "zaxis": {
            "backgroundcolor": "#E5ECF6",
            "gridcolor": "white",
            "gridwidth": 2,
            "linecolor": "white",
            "showbackground": true,
            "ticks": "",
            "zerolinecolor": "white"
           }
          },
          "shapedefaults": {
           "line": {
            "color": "#2a3f5f"
           }
          },
          "ternary": {
           "aaxis": {
            "gridcolor": "white",
            "linecolor": "white",
            "ticks": ""
           },
           "baxis": {
            "gridcolor": "white",
            "linecolor": "white",
            "ticks": ""
           },
           "bgcolor": "#E5ECF6",
           "caxis": {
            "gridcolor": "white",
            "linecolor": "white",
            "ticks": ""
           }
          },
          "title": {
           "x": 0.05
          },
          "xaxis": {
           "automargin": true,
           "gridcolor": "white",
           "linecolor": "white",
           "ticks": "",
           "title": {
            "standoff": 15
           },
           "zerolinecolor": "white",
           "zerolinewidth": 2
          },
          "yaxis": {
           "automargin": true,
           "gridcolor": "white",
           "linecolor": "white",
           "ticks": "",
           "title": {
            "standoff": 15
           },
           "zerolinecolor": "white",
           "zerolinewidth": 2
          }
         }
        },
        "title": {
         "text": "Distribution of Football Recruiting Talent by School of Choice"
        },
        "width": 1200
       }
      }
     },
     "metadata": {},
     "output_type": "display_data"
    }
   ],
   "source": [
    "# Heatmap of recruits by school of choice\n",
    "fig = px.density_mapbox(geo_df_school, lat = 'latitude_school', lon = 'longitude_school', z = '4+ Star Recruits',\n",
    "                        radius = 40,\n",
    "                        center = dict(lat = 39, lon = -98),\n",
    "                        zoom = 3.5,\n",
    "                        mapbox_style = 'open-street-map',\n",
    "                        color_continuous_scale = 'rainbow',\n",
    "                        range_color = [0, 100])\n",
    "\n",
    "fig.update_layout(\n",
    "        title_text = 'Distribution of Football Recruiting Talent by School of Choice',\n",
    "        showlegend = True,\n",
    "        # autosize = True,\n",
    "        width = 1200,\n",
    "        height = 700,\n",
    "        margin_autoexpand = True,\n",
    "        margin=dict(l=20, r=20, t=70, b=20),\n",
    "        geo = dict(\n",
    "            scope = 'north america',\n",
    "            projection_type = 'azimuthal equal area',\n",
    "            showland = True,\n",
    "            landcolor = 'rgb(243, 243, 243)',\n",
    "            countrycolor = 'rgb(204, 204, 204)',\n",
    "        ),\n",
    "        \n",
    "    )\n",
    "\n",
    "fig.write_image('recruits_home.png')\n",
    "fig.show()"
   ]
  },
  {
   "cell_type": "markdown",
   "metadata": {},
   "source": [
    "### Sankey Diagram "
   ]
  },
  {
   "cell_type": "code",
   "execution_count": null,
   "metadata": {},
   "outputs": [],
   "source": [
    "df_merged_copy = df_merged.copy()\n",
    "\n",
    "df_merged_copy.dropna(subset=['longitude'], inplace=True)\n",
    "df_merged_copy.dropna(subset=['latitude'], inplace=True)\n",
    "\n",
    "df_merged_copy = df_merged_copy[df_merged_copy['year'] == 2019]"
   ]
  },
  {
   "cell_type": "code",
   "execution_count": null,
   "metadata": {},
   "outputs": [],
   "source": [
    "import geopy.distance\n",
    "\n",
    "df_teams_dist = df_teams[df_teams['conference'].isin(['SEC', 'Big Ten', 'ACC', 'Pac-12', 'Big 12'])]\n",
    "\n",
    "closest_school = []\n",
    "\n",
    "# For every athlete, identify their home town coordinates\n",
    "for i in df_merged_copy.iterrows():\n",
    "    \n",
    "    latitude_i = i[1]['latitude']\n",
    "    longitude_i = i[1]['longitude']\n",
    "\n",
    "    coords_1 = (latitude_i, longitude_i)\n",
    "\n",
    "    # Check to see how far that is from every power 5 school\n",
    "    # Save the school and distances for each school as list of tuples\n",
    "    # select the school with the smallest distance associated with it\n",
    "    # Append that school as an extra column (called closest_school) to original df\n",
    "\n",
    "    school_dist = []\n",
    "    for j in df_teams_dist.iterrows():\n",
    "\n",
    "        school_j = j[1]['school']\n",
    "        latitude_j = j[1]['latitude_school']\n",
    "        longitude_j = j[1]['longitude_school']\n",
    "\n",
    "        # Create sets of coordinates for school\n",
    "        coords_2 = (latitude_j, longitude_j)\n",
    "\n",
    "        # Calc didstance\n",
    "        distance = geopy.distance.geodesic(coords_1, coords_2).mi\n",
    "\n",
    "        # Create list of tuples for school name and distance from recruit (coords_1)\n",
    "        combined_j = (school_j, distance)\n",
    "        school_dist.append(combined_j)\n",
    "\n",
    "        # ID the school with the min distance\n",
    "        closest_school_i = min(school_dist, key=lambda item: item[1])[0]\n",
    "    \n",
    "    # Append that school's name for that recruit\n",
    "    closest_school.append(closest_school_i)\n",
    "\n",
    "# Add as column to df\n",
    "df_merged_copy['closest_school'] = closest_school\n",
    "\n"
   ]
  },
  {
   "cell_type": "code",
   "execution_count": null,
   "metadata": {},
   "outputs": [],
   "source": [
    "# Joining, reducing columns, and aggregation for visual\n",
    "df_merged_final = pd.merge(left = df_merged_copy, right = df_teams, left_on = 'closest_school', right_on = 'school')\n",
    "df_merged_final = df_merged_final.rename({'conference_x': 'comm_conf', 'conference_y': 'orig_conf'}, axis = 1)\n",
    "\n",
    "col = ['year', 'name', 'committed_to', 'comm_conf', 'state_province', 'latitude', 'longitude', 'closest_school', 'orig_conf']\n",
    "df_merged_final = df_merged_final[col]\n",
    "\n",
    "df_merged_final = df_merged_final[df_merged_final['comm_conf'].isin(['SEC', 'Big Ten', 'ACC', 'Pac-12', 'Big 12'])]\n",
    "\n",
    "# Aggregate and Simplify for Sankey diagram\n",
    "df_sanky = df_merged_final.groupby(by = ['comm_conf', 'orig_conf']).agg({'name':'count'}).reset_index().rename({'name': 'count'}, axis = 1)\n",
    "\n",
    "df_sanky = df_sanky[['orig_conf', 'comm_conf', 'count']]\n",
    "df_sanky['comm_conf'] = df_sanky['comm_conf'].astype(str) + ' Desitination'\n",
    "df_sanky['orig_conf'] = df_sanky['orig_conf'].astype(str) + ' Origin'"
   ]
  },
  {
   "cell_type": "code",
   "execution_count": null,
   "metadata": {},
   "outputs": [
    {
     "data": {
      "application/javascript": "(function(root) {\n  function now() {\n    return new Date();\n  }\n\n  var force = true;\n  var py_version = '3.2.1'.replace('rc', '-rc.').replace('.dev', '-dev.');\n  var is_dev = py_version.indexOf(\"+\") !== -1 || py_version.indexOf(\"-\") !== -1;\n  var reloading = false;\n  var Bokeh = root.Bokeh;\n  var bokeh_loaded = Bokeh != null && (Bokeh.version === py_version || (Bokeh.versions !== undefined && Bokeh.versions.has(py_version)));\n\n  if (typeof (root._bokeh_timeout) === \"undefined\" || force) {\n    root._bokeh_timeout = Date.now() + 5000;\n    root._bokeh_failed_load = false;\n  }\n\n  function run_callbacks() {\n    try {\n      root._bokeh_onload_callbacks.forEach(function(callback) {\n        if (callback != null)\n          callback();\n      });\n    } finally {\n      delete root._bokeh_onload_callbacks;\n    }\n    console.debug(\"Bokeh: all callbacks have finished\");\n  }\n\n  function load_libs(css_urls, js_urls, js_modules, js_exports, callback) {\n    if (css_urls == null) css_urls = [];\n    if (js_urls == null) js_urls = [];\n    if (js_modules == null) js_modules = [];\n    if (js_exports == null) js_exports = {};\n\n    root._bokeh_onload_callbacks.push(callback);\n\n    if (root._bokeh_is_loading > 0) {\n      console.debug(\"Bokeh: BokehJS is being loaded, scheduling callback at\", now());\n      return null;\n    }\n    if (js_urls.length === 0 && js_modules.length === 0 && Object.keys(js_exports).length === 0) {\n      run_callbacks();\n      return null;\n    }\n    if (!reloading) {\n      console.debug(\"Bokeh: BokehJS not loaded, scheduling load and callback at\", now());\n    }\n\n    function on_load() {\n      root._bokeh_is_loading--;\n      if (root._bokeh_is_loading === 0) {\n        console.debug(\"Bokeh: all BokehJS libraries/stylesheets loaded\");\n        run_callbacks()\n      }\n    }\n    window._bokeh_on_load = on_load\n\n    function on_error() {\n      console.error(\"failed to load \" + url);\n    }\n\n    var skip = [];\n    if (window.requirejs) {\n      window.requirejs.config({'packages': {}, 'paths': {'jspanel': 'https://cdn.jsdelivr.net/npm/jspanel4@4.12.0/dist/jspanel', 'jspanel-modal': 'https://cdn.jsdelivr.net/npm/jspanel4@4.12.0/dist/extensions/modal/jspanel.modal', 'jspanel-tooltip': 'https://cdn.jsdelivr.net/npm/jspanel4@4.12.0/dist/extensions/tooltip/jspanel.tooltip', 'jspanel-hint': 'https://cdn.jsdelivr.net/npm/jspanel4@4.12.0/dist/extensions/hint/jspanel.hint', 'jspanel-layout': 'https://cdn.jsdelivr.net/npm/jspanel4@4.12.0/dist/extensions/layout/jspanel.layout', 'jspanel-contextmenu': 'https://cdn.jsdelivr.net/npm/jspanel4@4.12.0/dist/extensions/contextmenu/jspanel.contextmenu', 'jspanel-dock': 'https://cdn.jsdelivr.net/npm/jspanel4@4.12.0/dist/extensions/dock/jspanel.dock', 'gridstack': 'https://cdn.jsdelivr.net/npm/gridstack@7.2.3/dist/gridstack-all', 'notyf': 'https://cdn.jsdelivr.net/npm/notyf@3/notyf.min'}, 'shim': {'jspanel': {'exports': 'jsPanel'}, 'gridstack': {'exports': 'GridStack'}}});\n      require([\"jspanel\"], function(jsPanel) {\n\twindow.jsPanel = jsPanel\n\ton_load()\n      })\n      require([\"jspanel-modal\"], function() {\n\ton_load()\n      })\n      require([\"jspanel-tooltip\"], function() {\n\ton_load()\n      })\n      require([\"jspanel-hint\"], function() {\n\ton_load()\n      })\n      require([\"jspanel-layout\"], function() {\n\ton_load()\n      })\n      require([\"jspanel-contextmenu\"], function() {\n\ton_load()\n      })\n      require([\"jspanel-dock\"], function() {\n\ton_load()\n      })\n      require([\"gridstack\"], function(GridStack) {\n\twindow.GridStack = GridStack\n\ton_load()\n      })\n      require([\"notyf\"], function() {\n\ton_load()\n      })\n      root._bokeh_is_loading = css_urls.length + 9;\n    } else {\n      root._bokeh_is_loading = css_urls.length + js_urls.length + js_modules.length + Object.keys(js_exports).length;\n    }\n\n    var existing_stylesheets = []\n    var links = document.getElementsByTagName('link')\n    for (var i = 0; i < links.length; i++) {\n      var link = links[i]\n      if (link.href != null) {\n\texisting_stylesheets.push(link.href)\n      }\n    }\n    for (var i = 0; i < css_urls.length; i++) {\n      var url = css_urls[i];\n      if (existing_stylesheets.indexOf(url) !== -1) {\n\ton_load()\n\tcontinue;\n      }\n      const element = document.createElement(\"link\");\n      element.onload = on_load;\n      element.onerror = on_error;\n      element.rel = \"stylesheet\";\n      element.type = \"text/css\";\n      element.href = url;\n      console.debug(\"Bokeh: injecting link tag for BokehJS stylesheet: \", url);\n      document.body.appendChild(element);\n    }    if (((window['jsPanel'] !== undefined) && (!(window['jsPanel'] instanceof HTMLElement))) || window.requirejs) {\n      var urls = ['https://cdn.holoviz.org/panel/1.2.3/dist/bundled/floatpanel/jspanel4@4.12.0/dist/jspanel.js', 'https://cdn.holoviz.org/panel/1.2.3/dist/bundled/floatpanel/jspanel4@4.12.0/dist/extensions/modal/jspanel.modal.js', 'https://cdn.holoviz.org/panel/1.2.3/dist/bundled/floatpanel/jspanel4@4.12.0/dist/extensions/tooltip/jspanel.tooltip.js', 'https://cdn.holoviz.org/panel/1.2.3/dist/bundled/floatpanel/jspanel4@4.12.0/dist/extensions/hint/jspanel.hint.js', 'https://cdn.holoviz.org/panel/1.2.3/dist/bundled/floatpanel/jspanel4@4.12.0/dist/extensions/layout/jspanel.layout.js', 'https://cdn.holoviz.org/panel/1.2.3/dist/bundled/floatpanel/jspanel4@4.12.0/dist/extensions/contextmenu/jspanel.contextmenu.js', 'https://cdn.holoviz.org/panel/1.2.3/dist/bundled/floatpanel/jspanel4@4.12.0/dist/extensions/dock/jspanel.dock.js'];\n      for (var i = 0; i < urls.length; i++) {\n        skip.push(urls[i])\n      }\n    }    if (((window['GridStack'] !== undefined) && (!(window['GridStack'] instanceof HTMLElement))) || window.requirejs) {\n      var urls = ['https://cdn.holoviz.org/panel/1.2.3/dist/bundled/gridstack/gridstack@7.2.3/dist/gridstack-all.js'];\n      for (var i = 0; i < urls.length; i++) {\n        skip.push(urls[i])\n      }\n    }    if (((window['Notyf'] !== undefined) && (!(window['Notyf'] instanceof HTMLElement))) || window.requirejs) {\n      var urls = ['https://cdn.holoviz.org/panel/1.2.3/dist/bundled/notificationarea/notyf@3/notyf.min.js'];\n      for (var i = 0; i < urls.length; i++) {\n        skip.push(urls[i])\n      }\n    }    var existing_scripts = []\n    var scripts = document.getElementsByTagName('script')\n    for (var i = 0; i < scripts.length; i++) {\n      var script = scripts[i]\n      if (script.src != null) {\n\texisting_scripts.push(script.src)\n      }\n    }\n    for (var i = 0; i < js_urls.length; i++) {\n      var url = js_urls[i];\n      if (skip.indexOf(url) !== -1 || existing_scripts.indexOf(url) !== -1) {\n\tif (!window.requirejs) {\n\t  on_load();\n\t}\n\tcontinue;\n      }\n      var element = document.createElement('script');\n      element.onload = on_load;\n      element.onerror = on_error;\n      element.async = false;\n      element.src = url;\n      console.debug(\"Bokeh: injecting script tag for BokehJS library: \", url);\n      document.head.appendChild(element);\n    }\n    for (var i = 0; i < js_modules.length; i++) {\n      var url = js_modules[i];\n      if (skip.indexOf(url) !== -1 || existing_scripts.indexOf(url) !== -1) {\n\tif (!window.requirejs) {\n\t  on_load();\n\t}\n\tcontinue;\n      }\n      var element = document.createElement('script');\n      element.onload = on_load;\n      element.onerror = on_error;\n      element.async = false;\n      element.src = url;\n      element.type = \"module\";\n      console.debug(\"Bokeh: injecting script tag for BokehJS library: \", url);\n      document.head.appendChild(element);\n    }\n    for (const name in js_exports) {\n      var url = js_exports[name];\n      if (skip.indexOf(url) >= 0 || root[name] != null) {\n\tif (!window.requirejs) {\n\t  on_load();\n\t}\n\tcontinue;\n      }\n      var element = document.createElement('script');\n      element.onerror = on_error;\n      element.async = false;\n      element.type = \"module\";\n      console.debug(\"Bokeh: injecting script tag for BokehJS library: \", url);\n      element.textContent = `\n      import ${name} from \"${url}\"\n      window.${name} = ${name}\n      window._bokeh_on_load()\n      `\n      document.head.appendChild(element);\n    }\n    if (!js_urls.length && !js_modules.length) {\n      on_load()\n    }\n  };\n\n  function inject_raw_css(css) {\n    const element = document.createElement(\"style\");\n    element.appendChild(document.createTextNode(css));\n    document.body.appendChild(element);\n  }\n\n  var js_urls = [\"https://cdn.bokeh.org/bokeh/release/bokeh-3.2.1.min.js\", \"https://cdn.bokeh.org/bokeh/release/bokeh-gl-3.2.1.min.js\", \"https://cdn.bokeh.org/bokeh/release/bokeh-widgets-3.2.1.min.js\", \"https://cdn.bokeh.org/bokeh/release/bokeh-tables-3.2.1.min.js\", \"https://cdn.holoviz.org/panel/1.2.3/dist/panel.min.js\"];\n  var js_modules = [];\n  var js_exports = {};\n  var css_urls = [];\n  var inline_js = [    function(Bokeh) {\n      Bokeh.set_log_level(\"info\");\n    },\nfunction(Bokeh) {} // ensure no trailing comma for IE\n  ];\n\n  function run_inline_js() {\n    if ((root.Bokeh !== undefined) || (force === true)) {\n      for (var i = 0; i < inline_js.length; i++) {\n        inline_js[i].call(root, root.Bokeh);\n      }\n      // Cache old bokeh versions\n      if (Bokeh != undefined && !reloading) {\n\tvar NewBokeh = root.Bokeh;\n\tif (Bokeh.versions === undefined) {\n\t  Bokeh.versions = new Map();\n\t}\n\tif (NewBokeh.version !== Bokeh.version) {\n\t  Bokeh.versions.set(NewBokeh.version, NewBokeh)\n\t}\n\troot.Bokeh = Bokeh;\n      }} else if (Date.now() < root._bokeh_timeout) {\n      setTimeout(run_inline_js, 100);\n    } else if (!root._bokeh_failed_load) {\n      console.log(\"Bokeh: BokehJS failed to load within specified timeout.\");\n      root._bokeh_failed_load = true;\n    }\n    root._bokeh_is_initializing = false\n  }\n\n  function load_or_wait() {\n    // Implement a backoff loop that tries to ensure we do not load multiple\n    // versions of Bokeh and its dependencies at the same time.\n    // In recent versions we use the root._bokeh_is_initializing flag\n    // to determine whether there is an ongoing attempt to initialize\n    // bokeh, however for backward compatibility we also try to ensure\n    // that we do not start loading a newer (Panel>=1.0 and Bokeh>3) version\n    // before older versions are fully initialized.\n    if (root._bokeh_is_initializing && Date.now() > root._bokeh_timeout) {\n      root._bokeh_is_initializing = false;\n      root._bokeh_onload_callbacks = undefined;\n      console.log(\"Bokeh: BokehJS was loaded multiple times but one version failed to initialize.\");\n      load_or_wait();\n    } else if (root._bokeh_is_initializing || (typeof root._bokeh_is_initializing === \"undefined\" && root._bokeh_onload_callbacks !== undefined)) {\n      setTimeout(load_or_wait, 100);\n    } else {\n      Bokeh = root.Bokeh;\n      bokeh_loaded = Bokeh != null && (Bokeh.version === py_version || (Bokeh.versions !== undefined && Bokeh.versions.has(py_version)));\n      root._bokeh_is_initializing = true\n      root._bokeh_onload_callbacks = []\n      if (!reloading && (!bokeh_loaded || is_dev)) {\n\troot.Bokeh = undefined;\n      }\n      load_libs(css_urls, js_urls, js_modules, js_exports, function() {\n\tconsole.debug(\"Bokeh: BokehJS plotting callback run at\", now());\n\trun_inline_js();\n      });\n    }\n  }\n  // Give older versions of the autoload script a head-start to ensure\n  // they initialize before we start loading newer version.\n  setTimeout(load_or_wait, 100)\n}(window));",
      "application/vnd.holoviews_load.v0+json": ""
     },
     "metadata": {},
     "output_type": "display_data"
    },
    {
     "data": {
      "application/javascript": "\nif ((window.PyViz === undefined) || (window.PyViz instanceof HTMLElement)) {\n  window.PyViz = {comms: {}, comm_status:{}, kernels:{}, receivers: {}, plot_index: []}\n}\n\n\n    function JupyterCommManager() {\n    }\n\n    JupyterCommManager.prototype.register_target = function(plot_id, comm_id, msg_handler) {\n      if (window.comm_manager || ((window.Jupyter !== undefined) && (Jupyter.notebook.kernel != null))) {\n        var comm_manager = window.comm_manager || Jupyter.notebook.kernel.comm_manager;\n        comm_manager.register_target(comm_id, function(comm) {\n          comm.on_msg(msg_handler);\n        });\n      } else if ((plot_id in window.PyViz.kernels) && (window.PyViz.kernels[plot_id])) {\n        window.PyViz.kernels[plot_id].registerCommTarget(comm_id, function(comm) {\n          comm.onMsg = msg_handler;\n        });\n      } else if (typeof google != 'undefined' && google.colab.kernel != null) {\n        google.colab.kernel.comms.registerTarget(comm_id, (comm) => {\n          var messages = comm.messages[Symbol.asyncIterator]();\n          function processIteratorResult(result) {\n            var message = result.value;\n            console.log(message)\n            var content = {data: message.data, comm_id};\n            var buffers = []\n            for (var buffer of message.buffers || []) {\n              buffers.push(new DataView(buffer))\n            }\n            var metadata = message.metadata || {};\n            var msg = {content, buffers, metadata}\n            msg_handler(msg);\n            return messages.next().then(processIteratorResult);\n          }\n          return messages.next().then(processIteratorResult);\n        })\n      }\n    }\n\n    JupyterCommManager.prototype.get_client_comm = function(plot_id, comm_id, msg_handler) {\n      if (comm_id in window.PyViz.comms) {\n        return window.PyViz.comms[comm_id];\n      } else if (window.comm_manager || ((window.Jupyter !== undefined) && (Jupyter.notebook.kernel != null))) {\n        var comm_manager = window.comm_manager || Jupyter.notebook.kernel.comm_manager;\n        var comm = comm_manager.new_comm(comm_id, {}, {}, {}, comm_id);\n        if (msg_handler) {\n          comm.on_msg(msg_handler);\n        }\n      } else if ((plot_id in window.PyViz.kernels) && (window.PyViz.kernels[plot_id])) {\n        var comm = window.PyViz.kernels[plot_id].connectToComm(comm_id);\n        comm.open();\n        if (msg_handler) {\n          comm.onMsg = msg_handler;\n        }\n      } else if (typeof google != 'undefined' && google.colab.kernel != null) {\n        var comm_promise = google.colab.kernel.comms.open(comm_id)\n        comm_promise.then((comm) => {\n          window.PyViz.comms[comm_id] = comm;\n          if (msg_handler) {\n            var messages = comm.messages[Symbol.asyncIterator]();\n            function processIteratorResult(result) {\n              var message = result.value;\n              var content = {data: message.data};\n              var metadata = message.metadata || {comm_id};\n              var msg = {content, metadata}\n              msg_handler(msg);\n              return messages.next().then(processIteratorResult);\n            }\n            return messages.next().then(processIteratorResult);\n          }\n        }) \n        var sendClosure = (data, metadata, buffers, disposeOnDone) => {\n          return comm_promise.then((comm) => {\n            comm.send(data, metadata, buffers, disposeOnDone);\n          });\n        };\n        var comm = {\n          send: sendClosure\n        };\n      }\n      window.PyViz.comms[comm_id] = comm;\n      return comm;\n    }\n    window.PyViz.comm_manager = new JupyterCommManager();\n    \n\n\nvar JS_MIME_TYPE = 'application/javascript';\nvar HTML_MIME_TYPE = 'text/html';\nvar EXEC_MIME_TYPE = 'application/vnd.holoviews_exec.v0+json';\nvar CLASS_NAME = 'output';\n\n/**\n * Render data to the DOM node\n */\nfunction render(props, node) {\n  var div = document.createElement(\"div\");\n  var script = document.createElement(\"script\");\n  node.appendChild(div);\n  node.appendChild(script);\n}\n\n/**\n * Handle when a new output is added\n */\nfunction handle_add_output(event, handle) {\n  var output_area = handle.output_area;\n  var output = handle.output;\n  if ((output.data == undefined) || (!output.data.hasOwnProperty(EXEC_MIME_TYPE))) {\n    return\n  }\n  var id = output.metadata[EXEC_MIME_TYPE][\"id\"];\n  var toinsert = output_area.element.find(\".\" + CLASS_NAME.split(' ')[0]);\n  if (id !== undefined) {\n    var nchildren = toinsert.length;\n    var html_node = toinsert[nchildren-1].children[0];\n    html_node.innerHTML = output.data[HTML_MIME_TYPE];\n    var scripts = [];\n    var nodelist = html_node.querySelectorAll(\"script\");\n    for (var i in nodelist) {\n      if (nodelist.hasOwnProperty(i)) {\n        scripts.push(nodelist[i])\n      }\n    }\n\n    scripts.forEach( function (oldScript) {\n      var newScript = document.createElement(\"script\");\n      var attrs = [];\n      var nodemap = oldScript.attributes;\n      for (var j in nodemap) {\n        if (nodemap.hasOwnProperty(j)) {\n          attrs.push(nodemap[j])\n        }\n      }\n      attrs.forEach(function(attr) { newScript.setAttribute(attr.name, attr.value) });\n      newScript.appendChild(document.createTextNode(oldScript.innerHTML));\n      oldScript.parentNode.replaceChild(newScript, oldScript);\n    });\n    if (JS_MIME_TYPE in output.data) {\n      toinsert[nchildren-1].children[1].textContent = output.data[JS_MIME_TYPE];\n    }\n    output_area._hv_plot_id = id;\n    if ((window.Bokeh !== undefined) && (id in Bokeh.index)) {\n      window.PyViz.plot_index[id] = Bokeh.index[id];\n    } else {\n      window.PyViz.plot_index[id] = null;\n    }\n  } else if (output.metadata[EXEC_MIME_TYPE][\"server_id\"] !== undefined) {\n    var bk_div = document.createElement(\"div\");\n    bk_div.innerHTML = output.data[HTML_MIME_TYPE];\n    var script_attrs = bk_div.children[0].attributes;\n    for (var i = 0; i < script_attrs.length; i++) {\n      toinsert[toinsert.length - 1].childNodes[1].setAttribute(script_attrs[i].name, script_attrs[i].value);\n    }\n    // store reference to server id on output_area\n    output_area._bokeh_server_id = output.metadata[EXEC_MIME_TYPE][\"server_id\"];\n  }\n}\n\n/**\n * Handle when an output is cleared or removed\n */\nfunction handle_clear_output(event, handle) {\n  var id = handle.cell.output_area._hv_plot_id;\n  var server_id = handle.cell.output_area._bokeh_server_id;\n  if (((id === undefined) || !(id in PyViz.plot_index)) && (server_id !== undefined)) { return; }\n  var comm = window.PyViz.comm_manager.get_client_comm(\"hv-extension-comm\", \"hv-extension-comm\", function () {});\n  if (server_id !== null) {\n    comm.send({event_type: 'server_delete', 'id': server_id});\n    return;\n  } else if (comm !== null) {\n    comm.send({event_type: 'delete', 'id': id});\n  }\n  delete PyViz.plot_index[id];\n  if ((window.Bokeh !== undefined) & (id in window.Bokeh.index)) {\n    var doc = window.Bokeh.index[id].model.document\n    doc.clear();\n    const i = window.Bokeh.documents.indexOf(doc);\n    if (i > -1) {\n      window.Bokeh.documents.splice(i, 1);\n    }\n  }\n}\n\n/**\n * Handle kernel restart event\n */\nfunction handle_kernel_cleanup(event, handle) {\n  delete PyViz.comms[\"hv-extension-comm\"];\n  window.PyViz.plot_index = {}\n}\n\n/**\n * Handle update_display_data messages\n */\nfunction handle_update_output(event, handle) {\n  handle_clear_output(event, {cell: {output_area: handle.output_area}})\n  handle_add_output(event, handle)\n}\n\nfunction register_renderer(events, OutputArea) {\n  function append_mime(data, metadata, element) {\n    // create a DOM node to render to\n    var toinsert = this.create_output_subarea(\n    metadata,\n    CLASS_NAME,\n    EXEC_MIME_TYPE\n    );\n    this.keyboard_manager.register_events(toinsert);\n    // Render to node\n    var props = {data: data, metadata: metadata[EXEC_MIME_TYPE]};\n    render(props, toinsert[0]);\n    element.append(toinsert);\n    return toinsert\n  }\n\n  events.on('output_added.OutputArea', handle_add_output);\n  events.on('output_updated.OutputArea', handle_update_output);\n  events.on('clear_output.CodeCell', handle_clear_output);\n  events.on('delete.Cell', handle_clear_output);\n  events.on('kernel_ready.Kernel', handle_kernel_cleanup);\n\n  OutputArea.prototype.register_mime_type(EXEC_MIME_TYPE, append_mime, {\n    safe: true,\n    index: 0\n  });\n}\n\nif (window.Jupyter !== undefined) {\n  try {\n    var events = require('base/js/events');\n    var OutputArea = require('notebook/js/outputarea').OutputArea;\n    if (OutputArea.prototype.mime_types().indexOf(EXEC_MIME_TYPE) == -1) {\n      register_renderer(events, OutputArea);\n    }\n  } catch(err) {\n  }\n}\n",
      "application/vnd.holoviews_load.v0+json": ""
     },
     "metadata": {},
     "output_type": "display_data"
    },
    {
     "data": {
      "text/html": [
       "<style>*[data-root-id],\n",
       "*[data-root-id] > * {\n",
       "  box-sizing: border-box;\n",
       "  font-family: var(--jp-ui-font-family);\n",
       "  font-size: var(--jp-ui-font-size1);\n",
       "  color: var(--vscode-editor-foreground, var(--jp-ui-font-color1));\n",
       "}\n",
       "\n",
       "/* Override VSCode background color */\n",
       ".cell-output-ipywidget-background:has(\n",
       "    > .cell-output-ipywidget-background > .lm-Widget > *[data-root-id]\n",
       "  ),\n",
       ".cell-output-ipywidget-background:has(> .lm-Widget > *[data-root-id]) {\n",
       "  background-color: transparent !important;\n",
       "}\n",
       "</style>"
      ]
     },
     "metadata": {},
     "output_type": "display_data"
    },
    {
     "data": {
      "text/html": [
       "\n",
       "<div class=\"logo-block\">\n",
       "<img src='data:image/png;base64,iVBORw0KGgoAAAANSUhEUgAAAEAAAABACAYAAACqaXHeAAAABHNCSVQICAgIfAhkiAAAAAlwSFlz\n",
       "AAAB+wAAAfsBxc2miwAAABl0RVh0U29mdHdhcmUAd3d3Lmlua3NjYXBlLm9yZ5vuPBoAAA6zSURB\n",
       "VHic7ZtpeFRVmsf/5966taWqUlUJ2UioBBJiIBAwCZtog9IOgjqACsogKtqirT2ttt069nQ/zDzt\n",
       "tI4+CrJIREFaFgWhBXpUNhHZQoKBkIUASchWla1S+3ar7r1nPkDaCAnZKoQP/D7mnPOe9/xy76n3\n",
       "nFSAW9ziFoPFNED2LLK5wcyBDObkb8ZkxuaoSYlI6ZcOKq1eWFdedqNzGHQBk9RMEwFAASkk0Xw3\n",
       "ETacDNi2vtvc7L0ROdw0AjoSotQVkKSvHQz/wRO1lScGModBFbDMaNRN1A4tUBCS3lk7BWhQkgpD\n",
       "lG4852/+7DWr1R3uHAZVQDsbh6ZPN7CyxUrCzJMRouusj0ipRwD2uKm0Zn5d2dFwzX1TCGhnmdGo\n",
       "G62Nna+isiUqhkzuKrkQaJlPEv5mFl2fvGg2t/VnzkEV8F5ioioOEWkLG86fvbpthynjdhXYZziQ\n",
       "x1hC9J2NFyi8vCTt91Fh04KGip0AaG9zuCk2wQCVyoNU3Hjezee9bq92duzzTmxsRJoy+jEZZZYo\n",
       "GTKJ6SJngdJqAfRzpze0+jHreUtPc7gpBLQnIYK6BYp/uGhw9YK688eu7v95ysgshcg9qSLMo3JC\n",
       "4jqLKQFBgdKDPoQ+Pltb8dUyQLpeDjeVgI6EgLIQFT5tEl3rn2losHVsexbZ3EyT9wE1uGdkIPcy\n",
       "BGxn8QUq1QrA5nqW5i2tLqvrrM9NK6AdkVIvL9E9bZL/oyfMVd/jqvc8LylzRBKDJSzIExwhQzuL\n",
       "QYGQj4rHfFTc8mUdu3E7yoLtbTe9gI4EqVgVkug2i5+uXGo919ixbRog+3fTbQ8qJe4ZOYNfMoTI\n",
       "OoshUNosgO60AisX15aeI2PSIp5KiFLI9ubb1vV3Qb2ltwLakUCDAkWX7/nHKRmmGIl9VgYsUhJm\n",
       "2NXjKYADtM1ygne9QQDIXlk49FBstMKx66D1v4+XuQr7vqTe0VcBHQlRWiOCbmmSYe2SqtL6q5rJ\n",
       "zsTb7lKx3FKOYC4DoqyS/B5bvLPxvD9Qtf6saxYLQGJErmDOdOMr/zo96km1nElr8bmPOBwI9COv\n",
       "HnFPRIwmkSOv9kcAS4heRsidOkpeWBgZM+UBrTFAXNYL5Vf2ii9c1trNzpYdaoVil3WIc+wdk+gQ\n",
       "noie3ecCcxt9ITcLAPWt/laGEO/9U6PmzZkenTtsSMQ8uYywJVW+grCstAvCIaAdArAsIWkRDDs/\n",
       "KzLm2YcjY1Lv0UdW73HabE9n6V66cxSzfEmuJssTpKGVp+0vHq73FwL46eOjpMpbRAnNmJFrGJNu\n",
       "Ukf9Yrz+3rghiumCKNXXWPhLYcjxGsIpoCMsIRoFITkW8AuyM8jC1+/QLx4bozCEJIq38+1rtpR6\n",
       "V/yzb8eBlRb3fo5l783N0CWolAzJHaVNzkrTzlEp2bQ2q3TC5gn6wpnoQAmwSiGh2GitnTmVMc5O\n",
       "UyfKWUKCIsU7+fZDKwqdT6DDpvkzAX4/+AMFjk0tDp5GRXLpQ2MUmhgDp5gxQT8+Y7hyPsMi8uxF\n",
       "71H0oebujHALECjFKaW9Lm68n18wXp2kVzIcABytD5iXFzg+WVXkegpAsOOYziqo0OkK76GyquC3\n",
       "ltZAzMhhqlSNmmWTE5T6e3IN05ITFLM4GdN0vtZ3ob8Jh1NAKXFbm5PtLU/eqTSlGjkNAJjdgn/N\n",
       "aedXa0tdi7+t9G0FIF49rtMSEgAs1kDLkTPO7ebm4IUWeyh1bKomXqlgMG6kJmHcSM0clYLJ8XtR\n",
       "1GTnbV3F6I5wCGikAb402npp1h1s7LQUZZSMIfALFOuL3UUrfnS8+rez7v9qcold5tilgHbO1fjK\n",
       "9ubb17u9oshxzMiUBKXWqJNxd+fqb0tLVs4lILFnK71H0Ind7uiPgACVcFJlrb0tV6DzxqqTIhUM\n",
       "CwDf1/rrVhTa33/3pGPxJYdQ2l2cbgVcQSosdx8uqnDtbGjh9SlDVSMNWhlnilfqZk42Th2ZpLpf\n",
       "xrHec5e815zrr0dfBZSwzkZfqsv+1FS1KUknUwPARVvItfKUY+cn57yP7qv07UE3p8B2uhUwLk09\n",
       "e0SCOrK+hbdYHYLjRIl71wWzv9jpEoeOHhGRrJAzyEyNiJuUqX0g2sBN5kGK6y2Blp5M3lsB9Qh4\n",
       "y2Ja6x6+i0ucmKgwMATwhSjdUu49tKrQ/pvN5d53ml2CGwCmJipmKjgmyuaXzNeL2a0AkQ01Th5j\n",
       "2DktO3Jyk8f9vcOBQHV94OK+fPumJmvQHxJoWkaKWq9Vs+yUsbq0zGT1I4RgeH2b5wef7+c7bl8F\n",
       "eKgoHVVZa8ZPEORzR6sT1BzDUAD/d9F78e2Tzv99v8D+fLVTqAKAsbGamKey1Mt9Ann4eH3gTXTz\n",
       "idWtAJ8PQWOk7NzSeQn/OTHDuEikVF1R4z8BQCy+6D1aWRfY0tTGG2OM8rRoPaeIj5ZHzJxszElN\n",
       "VM8K8JS5WOfv8mzRnQAKoEhmt8gyPM4lU9SmBK1MCQBnW4KONT86v1hZ1PbwSXPw4JWussVjtH9Y\n",
       "NCoiL9UoH/6PSu8jFrfY2t36erQHXLIEakMi1SydmzB31h3GGXFDFNPaK8Rme9B79Ixrd0WN+1ij\n",
       "NRQ/doRmuFLBkHSTOm5GruG+pFjFdAmorG4IXH1Qua6ASniclfFtDYt+oUjKipPrCQB7QBQ2lrgP\n",
       "fFzm+9XWUtcqJ3/5vDLDpJ79XHZk3u8nGZ42qlj1+ydtbxysCezrydp6ugmipNJ7WBPB5tydY0jP\n",
       "HaVNzs3QzeE4ZpTbI+ZbnSFPbVOw9vsfnVvqWnirPyCNGD08IlqtYkh2hjZ5dErEQzoNm+6ykyOt\n",
       "Lt5/PQEuSRRKo22VkydK+vvS1XEKlhCJAnsqvcVvH7f/ZU2R67eXbMEGAMiIV5oWZWiWvz5Fv2xG\n",
       "sjqNJQRvn3Rs2lji/lNP19VjAQDgD7FHhujZB9OGqYxRkZxixgRDVlqS6uEOFaJUVu0rPFzctrnF\n",
       "JqijImVp8dEKVWyUXDk92zAuMZ6bFwpBU1HrOw6AdhQgUooChb0+ItMbWJitSo5Ws3IAOGEOtL53\n",
       "0vHZih9sC4vtofZ7Qu6523V/fmGcds1TY3V36pUsBwAbSlxnVh2xLfAD/IAIMDf7XYIkNmXfpp2l\n",
       "18rkAJAy9HKFaIr/qULkeQQKy9zf1JgDB2uaeFNGijo5QsUyacNUUTOnGO42xSnv4oOwpDi1zYkc\n",
       "efUc3I5Gk6PhyTuVKaOGyLUAYPGIoY9Pu/atL/L92+4q9wbflRJ2Trpm/jPjdBtfnqB/dIThcl8A\n",
       "KG7hbRuKnb8qsQsVvVlTrwQAQMUlf3kwJI24Z4JhPMtcfng5GcH49GsrxJpGvvHIaeem2ma+KSjQ\n",
       "lIwUdYyCY8j4dE1KzijNnIP2llF2wcXNnsoapw9XxsgYAl6k+KzUXbi2yP3KR2ecf6z3BFsBICdW\n",
       "nvnIaG3eHybqX7vbpEqUMT+9OL4Qpe8VON7dXuFd39v19FoAABRVePbGGuXTszO0P7tu6lghUonE\n",
       "llRdrhArLvmKdh9u29jcFiRRkfLUxBiFNiqSU9icoZQHo5mYBI1MBgBH6wMNb+U7Pnw337H4gi1Y\n",
       "ciWs+uks3Z9fztUvfzxTm9Ne8XXkvQLHNytOOZeiD4e0PgkAIAYCYknKUNUDSXEKzdWNpnil7r4p\n",
       "xqkjTarZMtk/K8TQ6Qve78qqvXurGwIJqcOUKfUWHsm8KGvxSP68YudXq4pcj39X49uOK2X142O0\n",
       "Tz5/u/7TVybqH0rSya6ZBwD21/gubbrgWdDgEOx9WUhfBaC2ibcEBYm7a7x+ukrBMNcEZggyR0TE\n",
       "T8zUPjikQ4VosQZbTpS4vqizBKvqmvjsqnpfzaZyx9JPiz1/bfGKdgD45XB1zoIMzYbfTdS/NClB\n",
       "Gct0USiY3YL/g0LHy/uq/Ef6uo5+n0R/vyhp17Klpge763f8rMu6YU/zrn2nml+2WtH+Z+5IAAFc\n",
       "2bUTdTDOSNa9+cQY7YLsOIXhevEkCvzph7a8laecz/Un/z4/Ae04XeL3UQb57IwU9ZDr9UuKVajv\n",
       "nxp1+1UVIo/LjztZkKH59fO3G/JemqCfmaCRqbqbd90ZZ8FfjtkfAyD0J/9+C2h1hDwsSxvGjNDc\n",
       "b4zk5NfrSwiQblLHzZhg+Jf4aPlUwpDqkQqa9nimbt1/TDH8OitGMaQnj+RJS6B1fbF7SY1TqO5v\n",
       "/v0WAADl1f7zokgS7s7VT2DZ7pegUjBM7mjtiDZbcN4j0YrHH0rXpCtY0qPX0cVL0rv5jv/ZXend\n",
       "0u/EESYBAFBU4T4Qa5TflZOhTe7pmKpaP8kCVUVw1+yhXfJWvn1P3hnXi33JsTN6PnP3hHZ8Z3/h\n",
       "aLHzmkNPuPj7Bc/F/Q38CwjTpSwQXgE4Vmwry9tpfq/ZFgqFMy4AVDtCvi8rvMvOmv0N4YwbVgEA\n",
       "sPM72/KVnzfspmH7HQGCRLG2yL1+z8XwvPcdCbsAANh+xPzstgMtxeGKt+6MK3/tacfvwhWvIwMi\n",
       "oKEBtm0H7W+UVfkc/Y1V0BhoPlDr/w1w/eu1vjIgAgDg22OtX6/eYfnEz/focrZTHAFR+PSs56/7\n",
       "q32nwpjazxgwAQCwcU/T62t3WL7r6/jVRa6/byp1rei+Z98ZUAEAhEPHPc8fKnTU9nbgtnOe8h0l\n",
       "9hcGIqmODLQAHCy2Xti6v/XNRivf43f4fFvIteu854+VHnR7q9tfBlwAAGz+pnndB9vM26UebAe8\n",
       "SLHujPOTPVW+rwY+sxskAAC2HrA8t2Vvc7ffP1r9o+vwR2dcr92InIAbKKC1FZ5tB1tf+/G8p8sv\n",
       "N/9Q5zd/XR34LYCwV5JdccMEAMDBk45DH243r/X4xGvqxFa/GNpS7n6rwOwNWwHVE26oAADYurf1\n",
       "zx/utOzt+DMKYM0p17YtZZ5VNzqfsB2HewG1WXE8PoZ7gOclbTIvynZf9JV+fqZtfgs/8F/Nu5rB\n",
       "EIBmJ+8QRMmpU7EzGRsf2FzuePqYRbzh/zE26EwdrT10f6r6o8HOYzCJB9Dpff8tbnGLG8L/A/WE\n",
       "roTBs2RqAAAAAElFTkSuQmCC'\n",
       "     style='height:25px; border-radius:12px; display: inline-block; float: left; vertical-align: middle'></img>\n",
       "\n",
       "\n",
       "  <img src='data:image/png;base64,iVBORw0KGgoAAAANSUhEUgAAACMAAAAjCAYAAAAe2bNZAAAABHNCSVQICAgIfAhkiAAAAAlwSFlzAAAK6wAACusBgosNWgAAABx0RVh0U29mdHdhcmUAQWRvYmUgRmlyZXdvcmtzIENTNui8sowAAAf9SURBVFiFvZh7cFTVHcc/59y7793sJiFAwkvAYDRqFWwdraLVlj61diRYsDjqCFbFKrYo0CltlSq1tLaC2GprGIriGwqjFu10OlrGv8RiK/IICYECSWBDkt3s695zTv9IAtlHeOn0O7Mzu797z+/3Ob/z+p0VfBq9doNFljuABwAXw2PcvGHt6bgwxhz7Ls4YZNVXxxANLENwE2D1W9PAGmAhszZ0/X9gll5yCbHoOirLzmaQs0F6F8QMZq1v/8xgNm7DYwwjgXJLYL4witQ16+sv/U9HdDmV4WrKw6B06cZC/RMrM4MZ7xz61DAbtzEXmAvUAX4pMOVecg9/MFFu3j3Gz7gQBLygS2RGumBkL0cubiFRsR3LzVBV1UMk3IrW73PT9C2lYOwhQB4ClhX1AuKpjLcV27oEjyUpNUJCg1CvcejykWTCXyQgzic2HIIBjg3pS6+uRLKAhumZvD4U+tq0jTrgkVKQQtLekfTtxIPAkhTNF6G7kZm7aPp6M9myKVQEoaYaIhEQYvD781DML/RfBGNZXAl4irJiwBa07e/y7cQnBaJghIX6ENl2GR/fGCBoz6cm5qeyEqQA5ZYA5x5eeiV0Qph4gjFAUSwAr6QllQgcxS/Jm25Cr2Tmpsk03XI9NfI31FTZBEOgVOk51adqDBNPCNPSRlkiDXbBEwOU2WxH+I7itQZ62g56OjM33suq1YsZHVtGZSUI2QdyYgkgOthQNIF7BIGDnRAJgJSgj69cUx1gB8PkOGwL4E1gPrM27gIg7NlGKLQApc7BmEnAxP5g/rw4YqBrCDB5xHkw5rdR/1qTrN/hKNo6YUwVDNpFsnjYS8RbidBPcPXFP6R6yfExuOXmN4A3jv1+8ZUwgY9D2OWjUZE6lO88jDwHI8ZixGiMKSeYTBamCoDk6kDAb6y1OcH1a6KpD/fZesoFw5FlIXAVCIiH4PxrV+p2npVDToTBmtjY8t1swh2V61E9KqWiyuPEjM8dbfxuvfa49Zayf9R136Wr8mBSf/T7bNteA8zwaGEUbFpckWwq95n59dUIywKl2fbOIS5e8bWSu0tJ1a5redAYfqkdjesodFajcgaVNWhXo1C9SrkN3Usmv3UMJrc6/DDwkwEntkEJLe67tSLhvyzK8rHDQWleve5CGk4VZEB1r+5bg2E2si+Y0QatDK6jUVkX5eg2YYlp++ZM+rfMNYamAj8Y7MAVWFqaR1f/t2xzU4IHjybBtthzuiAASqv7jTF7jOqDMAakFHgDNsFyP+FhwZHBmH9F7cutIYkQCylYYv1AZSqsn1/+bX51OMMjPSl2nAnM7hnjOx2v53YgNWAzHM9Q/9l0lQWPSCBSyokAtOBC1Rj+w/1Xs+STDp4/E5g7Rs2zm2+oeVd7PUuHKDf6A4r5EsPT5K3gfCnBXNUYnvGzb+KcCczYYWOnLpy4eOXuG2oec0PBN8XQQAnpvS35AvAykr56rWhPBiV4MvtceGLxk5Mr6A1O8IfK7rl7xJ0r9kyumuP4fa0lMqTBLJIAJqEf1J3qE92lMBndlyfRD2YBghHC4hlny7ASqCeWo5zaoDdIWfnIefNGTb9fC73QDfhyBUCNOxrGPSUBfPem9us253YTV+3mcBbdkUYfzmHiLqZbYdIGHHON2ZlemXouaJUOO6TqtdHEQuXYY8Yt+EbDgmlS6RdzkaDTv2P9A3gICiq93sWhb5mc5wVhuU3Y7m5hOc3So7qFT3SLgOXHb/cyOfMn7xROegoC/PTcn3v8gbKPgDopJFk3R/uBPWQiwQ+2/GJevRMObLUzqe/saJjQUQTTftEVMW9tWxPgAocwcj9abNcZe7s+6t2R2xXZG7zyYLp8Q1PiRBBHym5bYuXi8Qt+/LvGu9f/5YDAxABsaRNPH6Xr4D4Sk87a897SOy9v/fKwjoF2eQel95yDESGEF6gEMwKhLwKus3wOVjTtes7qzgLdXTMnNCNoEpbcrtNuq6N7Xh/+eqcbj94xQkp7mdKpW5XbtbR8Z26kgMCAf2UU5YEovRUVRHbu2b3vK1UdDFkDCyMRQxbpdv8nhKAGIa7QaQedzT07fFPny53R738JoVYBdVrnsNx9XZ9v33UeGO+AA2MMUkgqQ5UcdDLZSFeVgONnXeHqSAC5Ew1BXwko0D1Zct3dT1duOjS3MzZnEUJtBuoQAq3SGOLR4ekjn9NC5nVOaYXf9lETrUkmOJy3pOz8OKIb2A1cWhJCCEzOxU2mUPror+2/L3yyM3pkM7jTjr1nBOgkGeyQ7erxpdJsMAS9wb2F9rzMxNY1K2PMU0WtZV82VU8Wp6vbKJVo9Lx/+4cydORdxCCQ/kDGTZCWsRpLu7VD7bfKqL8V2orKTp/PtzaXy42jr6TwAuisi+7JolUG4wY+8vyrISCMtRrLKWpvjAOqx/QGhp0rjRo5xD3x98CWQuOQN8qumRMmI7jKZPUEpzNVZsj4Zbaq1to5tZZsKIydLWojhIXrJnES79EaOzv3du2NytKuxzJKAA6wF8xqEE8s2jo/1wd/khslQGxd81Zg62Bbp31XBH+iETt7Y3ELA0iU6iGDlQ5mexe0VEx4a3x8V1AaYwFJgTiwaOsDmeK2J8nMUOqsnB1A+dcA04ucCYt0urkjmflk9iT2v30q/gZn5rQPvor4n9Ou634PeBzoznes/iot/7WnClKoM/+zCIjH5kwT8ChQjTHPIPTjFV3PpU/Hx+DM/A9U3IXI4SPCYAAAAABJRU5ErkJggg=='\n",
       "       style='height:15px; border-radius:12px; display: inline-block; float: left'></img>\n",
       "  \n",
       "\n",
       "\n",
       "\n",
       "\n",
       "</div>\n"
      ]
     },
     "metadata": {},
     "output_type": "display_data"
    },
    {
     "data": {},
     "metadata": {},
     "output_type": "display_data"
    },
    {
     "data": {
      "application/vnd.holoviews_exec.v0+json": "",
      "text/html": [
       "<div id='p1179'>\n",
       "  <div id=\"f7fafdd6-abe3-459d-8a50-676742cbd2d3\" data-root-id=\"p1179\" style=\"display: contents;\"></div>\n",
       "</div>\n",
       "<script type=\"application/javascript\">(function(root) {\n",
       "  var docs_json = {\"54d211b9-2739-4e43-85ca-392bef9a2573\":{\"version\":\"3.2.1\",\"title\":\"Bokeh Application\",\"roots\":[{\"type\":\"object\",\"name\":\"Row\",\"id\":\"p1179\",\"attributes\":{\"name\":\"Row01625\",\"tags\":[\"embedded\"],\"stylesheets\":[\"\\n:host(.pn-loading.pn-arc):before, .pn-loading.pn-arc:before {\\n  background-image: url(\\\"data:image/svg+xml;base64,PHN2ZyB4bWxucz0iaHR0cDovL3d3dy53My5vcmcvMjAwMC9zdmciIHN0eWxlPSJtYXJnaW46IGF1dG87IGJhY2tncm91bmQ6IG5vbmU7IGRpc3BsYXk6IGJsb2NrOyBzaGFwZS1yZW5kZXJpbmc6IGF1dG87IiB2aWV3Qm94PSIwIDAgMTAwIDEwMCIgcHJlc2VydmVBc3BlY3RSYXRpbz0ieE1pZFlNaWQiPiAgPGNpcmNsZSBjeD0iNTAiIGN5PSI1MCIgZmlsbD0ibm9uZSIgc3Ryb2tlPSIjYzNjM2MzIiBzdHJva2Utd2lkdGg9IjEwIiByPSIzNSIgc3Ryb2tlLWRhc2hhcnJheT0iMTY0LjkzMzYxNDMxMzQ2NDE1IDU2Ljk3Nzg3MTQzNzgyMTM4Ij4gICAgPGFuaW1hdGVUcmFuc2Zvcm0gYXR0cmlidXRlTmFtZT0idHJhbnNmb3JtIiB0eXBlPSJyb3RhdGUiIHJlcGVhdENvdW50PSJpbmRlZmluaXRlIiBkdXI9IjFzIiB2YWx1ZXM9IjAgNTAgNTA7MzYwIDUwIDUwIiBrZXlUaW1lcz0iMDsxIj48L2FuaW1hdGVUcmFuc2Zvcm0+ICA8L2NpcmNsZT48L3N2Zz4=\\\");\\n  background-size: auto calc(min(50%, 400px));\\n}\",{\"type\":\"object\",\"name\":\"ImportedStyleSheet\",\"id\":\"p1182\",\"attributes\":{\"url\":\"https://cdn.holoviz.org/panel/1.2.3/dist/css/loading.css\"}},{\"type\":\"object\",\"name\":\"ImportedStyleSheet\",\"id\":\"p1298\",\"attributes\":{\"url\":\"https://cdn.holoviz.org/panel/1.2.3/dist/css/listpanel.css\"}},{\"type\":\"object\",\"name\":\"ImportedStyleSheet\",\"id\":\"p1180\",\"attributes\":{\"url\":\"https://cdn.holoviz.org/panel/1.2.3/dist/bundled/theme/default.css\"}},{\"type\":\"object\",\"name\":\"ImportedStyleSheet\",\"id\":\"p1181\",\"attributes\":{\"url\":\"https://cdn.holoviz.org/panel/1.2.3/dist/bundled/theme/native.css\"}}],\"min_width\":800,\"margin\":0,\"sizing_mode\":\"stretch_width\",\"align\":\"start\",\"children\":[{\"type\":\"object\",\"name\":\"Spacer\",\"id\":\"p1183\",\"attributes\":{\"name\":\"HSpacer01636\",\"stylesheets\":[\"\\n:host(.pn-loading.pn-arc):before, .pn-loading.pn-arc:before {\\n  background-image: url(\\\"data:image/svg+xml;base64,PHN2ZyB4bWxucz0iaHR0cDovL3d3dy53My5vcmcvMjAwMC9zdmciIHN0eWxlPSJtYXJnaW46IGF1dG87IGJhY2tncm91bmQ6IG5vbmU7IGRpc3BsYXk6IGJsb2NrOyBzaGFwZS1yZW5kZXJpbmc6IGF1dG87IiB2aWV3Qm94PSIwIDAgMTAwIDEwMCIgcHJlc2VydmVBc3BlY3RSYXRpbz0ieE1pZFlNaWQiPiAgPGNpcmNsZSBjeD0iNTAiIGN5PSI1MCIgZmlsbD0ibm9uZSIgc3Ryb2tlPSIjYzNjM2MzIiBzdHJva2Utd2lkdGg9IjEwIiByPSIzNSIgc3Ryb2tlLWRhc2hhcnJheT0iMTY0LjkzMzYxNDMxMzQ2NDE1IDU2Ljk3Nzg3MTQzNzgyMTM4Ij4gICAgPGFuaW1hdGVUcmFuc2Zvcm0gYXR0cmlidXRlTmFtZT0idHJhbnNmb3JtIiB0eXBlPSJyb3RhdGUiIHJlcGVhdENvdW50PSJpbmRlZmluaXRlIiBkdXI9IjFzIiB2YWx1ZXM9IjAgNTAgNTA7MzYwIDUwIDUwIiBrZXlUaW1lcz0iMDsxIj48L2FuaW1hdGVUcmFuc2Zvcm0+ICA8L2NpcmNsZT48L3N2Zz4=\\\");\\n  background-size: auto calc(min(50%, 400px));\\n}\",{\"id\":\"p1182\"},{\"id\":\"p1180\"},{\"id\":\"p1181\"}],\"margin\":0,\"sizing_mode\":\"stretch_width\",\"align\":\"start\"}},{\"type\":\"object\",\"name\":\"Figure\",\"id\":\"p1191\",\"attributes\":{\"width\":800,\"margin\":[5,10],\"sizing_mode\":\"fixed\",\"align\":\"start\",\"x_range\":{\"type\":\"object\",\"name\":\"Range1d\",\"id\":\"p1184\",\"attributes\":{\"tags\":[[[\"x\",\"x\",null]],[]],\"start\":-238.75,\"end\":1041.75,\"reset_start\":-238.75,\"reset_end\":1041.75}},\"y_range\":{\"type\":\"object\",\"name\":\"Range1d\",\"id\":\"p1185\",\"attributes\":{\"tags\":[[[\"y\",\"y\",null]],{\"type\":\"map\",\"entries\":[[\"invert_yaxis\",false],[\"autorange\",false]]}],\"start\":-25.000000000000018,\"end\":525.0000000000003,\"reset_start\":-25.000000000000018,\"reset_end\":525.0000000000003}},\"x_scale\":{\"type\":\"object\",\"name\":\"LinearScale\",\"id\":\"p1201\"},\"y_scale\":{\"type\":\"object\",\"name\":\"LinearScale\",\"id\":\"p1202\"},\"title\":{\"type\":\"object\",\"name\":\"Title\",\"id\":\"p1194\",\"attributes\":{\"text\":\"A Breakout of Where Recruits Come From and Where They Commit\",\"text_color\":\"black\",\"text_font_size\":\"12pt\"}},\"outline_line_alpha\":0,\"renderers\":[{\"type\":\"object\",\"name\":\"GraphRenderer\",\"id\":\"p1244\",\"attributes\":{\"layout_provider\":{\"type\":\"object\",\"name\":\"StaticLayoutProvider\",\"id\":\"p1227\",\"attributes\":{\"graph_layout\":{\"type\":\"map\",\"entries\":[[0,[7.5,49.822946]],[1,[7.5,166.34560917563738]],[2,[7.5,270.0779038895183]],[3,[7.5,461.92634560906515]],[4,[7.5,365.48158629320113]],[5,[992.5,41.94051]],[6,[992.5,142.54957491501418]],[7,[992.5,244.4971671558074]],[8,[992.5,461.48016997167156]],[9,[992.5,355.36827198300284]]]}}},\"node_renderer\":{\"type\":\"object\",\"name\":\"GlyphRenderer\",\"id\":\"p1233\",\"attributes\":{\"data_source\":{\"type\":\"object\",\"name\":\"ColumnDataSource\",\"id\":\"p1220\",\"attributes\":{\"selected\":{\"type\":\"object\",\"name\":\"Selection\",\"id\":\"p1221\",\"attributes\":{\"indices\":[],\"line_indices\":[]}},\"selection_policy\":{\"type\":\"object\",\"name\":\"UnionRenderers\",\"id\":\"p1222\"},\"data\":{\"type\":\"map\",\"entries\":[[\"index\",{\"type\":\"ndarray\",\"array\":[\"ACC Origin\",\"Big 12 Origin\",\"Big Ten Origin\",\"Pac-12 Origin\",\"SEC Origin\",\"ACC Desitination\",\"Big 12 Desitination\",\"Big Ten Desitination\",\"Pac-12 Desitination\",\"SEC Desitination\"],\"shape\":[10],\"dtype\":\"object\",\"order\":\"little\"}],[\"x0\",[0.0,0.0,0.0,0.0,0.0,985.0,985.0,985.0,985.0,985.0]],[\"x1\",[15.0,15.0,15.0,15.0,15.0,1000.0,1000.0,1000.0,1000.0,1000.0]],[\"y0\",[0.0,119.64589235127474,233.04532577903663,423.85269121813025,327.1104815864023,0.0,103.88101983002834,201.2181303116148,422.96033994334306,307.7762039660057]],[\"y1\",[99.645892,213.045326,307.110482,500.0,403.852691,83.88102,181.21813,287.776204,500.0,402.96034]]]}}},\"view\":{\"type\":\"object\",\"name\":\"CDSView\",\"id\":\"p1234\",\"attributes\":{\"filter\":{\"type\":\"object\",\"name\":\"AllIndices\",\"id\":\"p1235\"}}},\"glyph\":{\"type\":\"object\",\"name\":\"Circle\",\"id\":\"p1228\",\"attributes\":{\"size\":{\"type\":\"value\",\"value\":10},\"fill_color\":{\"type\":\"field\",\"field\":\"index\",\"transform\":{\"type\":\"object\",\"name\":\"CategoricalColorMapper\",\"id\":\"p1219\",\"attributes\":{\"palette\":[\"#3182bd\",\"#6baed6\",\"#9ecae1\",\"#c6dbef\",\"#e6550d\",\"#fd8d3c\",\"#fdae6b\",\"#fdd0a2\",\"#31a354\",\"#74c476\"],\"factors\":[\"ACC Origin\",\"Big 12 Origin\",\"Big Ten Origin\",\"Pac-12 Origin\",\"SEC Origin\",\"ACC Desitination\",\"Big 12 Desitination\",\"Big Ten Desitination\",\"Pac-12 Desitination\",\"SEC Desitination\"]}}}}},\"selection_glyph\":{\"type\":\"object\",\"name\":\"Circle\",\"id\":\"p1230\",\"attributes\":{\"size\":{\"type\":\"value\",\"value\":10},\"fill_color\":{\"type\":\"field\",\"field\":\"index\",\"transform\":{\"id\":\"p1219\"}}}},\"nonselection_glyph\":{\"type\":\"object\",\"name\":\"Circle\",\"id\":\"p1229\",\"attributes\":{\"size\":{\"type\":\"value\",\"value\":10},\"line_alpha\":{\"type\":\"value\",\"value\":0.2},\"fill_color\":{\"type\":\"field\",\"field\":\"index\",\"transform\":{\"id\":\"p1219\"}},\"fill_alpha\":{\"type\":\"value\",\"value\":0.2},\"hatch_alpha\":{\"type\":\"value\",\"value\":0.2}}},\"hover_glyph\":{\"type\":\"object\",\"name\":\"Circle\",\"id\":\"p1231\",\"attributes\":{\"size\":{\"type\":\"value\",\"value\":10},\"fill_color\":{\"type\":\"field\",\"field\":\"index\",\"transform\":{\"id\":\"p1219\"}}}},\"muted_glyph\":{\"type\":\"object\",\"name\":\"Circle\",\"id\":\"p1232\",\"attributes\":{\"size\":{\"type\":\"value\",\"value\":10},\"line_alpha\":{\"type\":\"value\",\"value\":0.2},\"fill_color\":{\"type\":\"field\",\"field\":\"index\",\"transform\":{\"id\":\"p1219\"}},\"fill_alpha\":{\"type\":\"value\",\"value\":0.2},\"hatch_alpha\":{\"type\":\"value\",\"value\":0.2}}}}},\"edge_renderer\":{\"type\":\"object\",\"name\":\"GlyphRenderer\",\"id\":\"p1241\",\"attributes\":{\"data_source\":{\"type\":\"object\",\"name\":\"ColumnDataSource\",\"id\":\"p1224\",\"attributes\":{\"selected\":{\"type\":\"object\",\"name\":\"Selection\",\"id\":\"p1225\",\"attributes\":{\"indices\":[],\"line_indices\":[]}},\"selection_policy\":{\"type\":\"object\",\"name\":\"UnionRenderers\",\"id\":\"p1226\"},\"data\":{\"type\":\"map\",\"entries\":[[\"start\",{\"type\":\"ndarray\",\"array\":{\"type\":\"bytes\",\"data\":\"AAAAAAEAAAACAAAAAwAAAAQAAAAAAAAAAQAAAAIAAAADAAAABAAAAAAAAAABAAAAAgAAAAMAAAAEAAAAAAAAAAEAAAACAAAAAwAAAAQAAAAAAAAAAQAAAAIAAAADAAAABAAAAA==\"},\"shape\":[25],\"dtype\":\"int32\",\"order\":\"little\"}],[\"end\",{\"type\":\"ndarray\",\"array\":{\"type\":\"bytes\",\"data\":\"BQAAAAUAAAAFAAAABQAAAAUAAAAGAAAABgAAAAYAAAAGAAAABgAAAAcAAAAHAAAABwAAAAcAAAAHAAAACAAAAAgAAAAIAAAACAAAAAgAAAAJAAAACQAAAAkAAAAJAAAACQAAAA==\"},\"shape\":[25],\"dtype\":\"int32\",\"order\":\"little\"}],[\"xs\",[{\"type\":\"ndarray\",\"array\":{\"type\":\"bytes\",\"data\":\"AAAAAAAALkAAAAAAAAAuQAAAAAAAAC5AaNk40k0MRkAkPIj/5gFSQBQID8RqtlhAQ2p8t9wmX0A6/k2tM6tiQDOsHJcapGVA8QuQWbh/aEBQ6g01oj9rQDQU/Glt5W1APCtgnFc5cEAEP+BwfnRxQN0rsdL1pHJAOdgFYojLc0CLKhG/AOl0QEAJBoop/nVAyFoXY80Ld0CXBXjqthJ4QBnwWsCwE3lAwgDzhIUPekD/HXPY/wZ7QEYuDlvq+ntAARj3rA/sfEClwWBuOtt9QKARfj81yX5AYu6BwMq2f0Atn8/IYlKAQP9zhCn4yYBA3eh40opCgUAAccYTgLyBQJ5/hj09OIJA84fSnye2gkA0/cOKpDaDQJxSdE4ZuoNAYPv8OutAhEC6anegf8uEQOIT/c47WoVAEGqnFoXthUB+4I/HwIWGQGDqzzFUI4dA8vqApaTGh0BshbxyF3CIQAT9m+kRIIlA89Q4WvnWiUBwgKwUM5WKQLdyEGkkW4tA/R5+pzIpjEB7+A4gw/+MQGly3CI7341AAAAAAADIjkAAAAAAAMiOQAAAAAAAyI5AAAAAAADIjkBqctwiO9+NQHv4DiDD/4xA/h5+pzIpjEC4chBpJFuLQHKArBQzlYpA89Q4WvnWiUAF/ZvpESCJQG2FvHIXcIhA9PqApaTGh0Bh6s8xVCOHQH7gj8fAhYZAEGqnFoXthUDiE/3OO1qFQLtqd6B/y4RAYfv8OutAhECdUnROGbqDQDX9w4qkNoNA84fSnye2gkCff4Y9PTiCQP9wxhOAvIFA3eh40opCgUAAdIQp+MmAQC6fz8hiUoBAY+6BwMq2f0CfEX4/Ncl+QKXBYG46231AAxj3rA/sfEBGLg5b6vp7QAEec9j/BntAxADzhIUPekAb8FrAsBN5QJcFeOq2EnhAyVoXY80Ld0A/CQaKKf51QI0qEb8A6XRAPNgFYojLc0DfK7HS9aRyQAU/4HB+dHFAQCtgnFc5cEA3FPxpbeVtQFPqDTWiP2tA8guQWbh/aEA1rByXGqRlQD/+Ta0zq2JATGp8t9wmX0AaCA/EarZYQCk8iP/mAVJAbNk40k0MRkAAAAAAAAAuQA==\"},\"shape\":[104],\"dtype\":\"float64\",\"order\":\"little\"},{\"type\":\"ndarray\",\"array\":{\"type\":\"bytes\",\"data\":\"AAAAAAAALkAAAAAAAAAuQAAAAAAAAC5AaNk40k0MRkAkPIj/5gFSQBQID8RqtlhAQ2p8t9wmX0A6/k2tM6tiQDOsHJcapGVA8QuQWbh/aEBQ6g01oj9rQDQU/Glt5W1APCtgnFc5cEAEP+BwfnRxQN0rsdL1pHJAOdgFYojLc0CLKhG/AOl0QEAJBoop/nVAyFoXY80Ld0CXBXjqthJ4QBnwWsCwE3lAwgDzhIUPekD/HXPY/wZ7QEYuDlvq+ntAARj3rA/sfEClwWBuOtt9QKARfj81yX5AYu6BwMq2f0Atn8/IYlKAQP9zhCn4yYBA3eh40opCgUAAccYTgLyBQJ5/hj09OIJA84fSnye2gkA0/cOKpDaDQJxSdE4ZuoNAYPv8OutAhEC6anegf8uEQOIT/c47WoVAEGqnFoXthUB+4I/HwIWGQGDqzzFUI4dA8vqApaTGh0BshbxyF3CIQAT9m+kRIIlA89Q4WvnWiUBwgKwUM5WKQLdyEGkkW4tA/R5+pzIpjEB7+A4gw/+MQGly3CI7341AAAAAAADIjkAAAAAAAMiOQAAAAAAAyI5AAAAAAADIjkBqctwiO9+NQHv4DiDD/4xA/h5+pzIpjEC4chBpJFuLQHKArBQzlYpA89Q4WvnWiUAF/ZvpESCJQG2FvHIXcIhA9PqApaTGh0Bh6s8xVCOHQH7gj8fAhYZAEGqnFoXthUDiE/3OO1qFQLtqd6B/y4RAYfv8OutAhECdUnROGbqDQDX9w4qkNoNA84fSnye2gkCff4Y9PTiCQP9wxhOAvIFA3eh40opCgUAAdIQp+MmAQC6fz8hiUoBAY+6BwMq2f0CfEX4/Ncl+QKXBYG46231AAxj3rA/sfEBGLg5b6vp7QAEec9j/BntAxADzhIUPekAb8FrAsBN5QJcFeOq2EnhAyVoXY80Ld0A/CQaKKf51QI0qEb8A6XRAPNgFYojLc0DfK7HS9aRyQAU/4HB+dHFAQCtgnFc5cEA3FPxpbeVtQFPqDTWiP2tA8guQWbh/aEA1rByXGqRlQD/+Ta0zq2JATGp8t9wmX0AaCA/EarZYQCk8iP/mAVJAbNk40k0MRkAAAAAAAAAuQA==\"},\"shape\":[104],\"dtype\":\"float64\",\"order\":\"little\"},{\"type\":\"ndarray\",\"array\":{\"type\":\"bytes\",\"data\":\"AAAAAAAALkAAAAAAAAAuQAAAAAAAAC5AaNk40k0MRkAkPIj/5gFSQBQID8RqtlhAQ2p8t9wmX0A6/k2tM6tiQDOsHJcapGVA8QuQWbh/aEBQ6g01oj9rQDQU/Glt5W1APCtgnFc5cEAEP+BwfnRxQN0rsdL1pHJAOdgFYojLc0CLKhG/AOl0QEAJBoop/nVAyFoXY80Ld0CXBXjqthJ4QBnwWsCwE3lAwgDzhIUPekD/HXPY/wZ7QEYuDlvq+ntAARj3rA/sfEClwWBuOtt9QKARfj81yX5AYu6BwMq2f0Atn8/IYlKAQP9zhCn4yYBA3eh40opCgUAAccYTgLyBQJ5/hj09OIJA84fSnye2gkA0/cOKpDaDQJxSdE4ZuoNAYPv8OutAhEC6anegf8uEQOIT/c47WoVAEGqnFoXthUB+4I/HwIWGQGDqzzFUI4dA8vqApaTGh0BshbxyF3CIQAT9m+kRIIlA89Q4WvnWiUBwgKwUM5WKQLdyEGkkW4tA/R5+pzIpjEB7+A4gw/+MQGly3CI7341AAAAAAADIjkAAAAAAAMiOQAAAAAAAyI5AAAAAAADIjkBqctwiO9+NQHv4DiDD/4xA/h5+pzIpjEC4chBpJFuLQHKArBQzlYpA89Q4WvnWiUAF/ZvpESCJQG2FvHIXcIhA9PqApaTGh0Bh6s8xVCOHQH7gj8fAhYZAEGqnFoXthUDiE/3OO1qFQLtqd6B/y4RAYfv8OutAhECdUnROGbqDQDX9w4qkNoNA84fSnye2gkCff4Y9PTiCQP9wxhOAvIFA3eh40opCgUAAdIQp+MmAQC6fz8hiUoBAY+6BwMq2f0CfEX4/Ncl+QKXBYG46231AAxj3rA/sfEBGLg5b6vp7QAEec9j/BntAxADzhIUPekAb8FrAsBN5QJcFeOq2EnhAyVoXY80Ld0A/CQaKKf51QI0qEb8A6XRAPNgFYojLc0DfK7HS9aRyQAU/4HB+dHFAQCtgnFc5cEA3FPxpbeVtQFPqDTWiP2tA8guQWbh/aEA1rByXGqRlQD/+Ta0zq2JATGp8t9wmX0AaCA/EarZYQCk8iP/mAVJAbNk40k0MRkAAAAAAAAAuQA==\"},\"shape\":[104],\"dtype\":\"float64\",\"order\":\"little\"},{\"type\":\"ndarray\",\"array\":{\"type\":\"bytes\",\"data\":\"AAAAAAAALkAAAAAAAAAuQAAAAAAAAC5AaNk40k0MRkAkPIj/5gFSQBQID8RqtlhAQ2p8t9wmX0A6/k2tM6tiQDOsHJcapGVA8QuQWbh/aEBQ6g01oj9rQDQU/Glt5W1APCtgnFc5cEAEP+BwfnRxQN0rsdL1pHJAOdgFYojLc0CLKhG/AOl0QEAJBoop/nVAyFoXY80Ld0CXBXjqthJ4QBnwWsCwE3lAwgDzhIUPekD/HXPY/wZ7QEYuDlvq+ntAARj3rA/sfEClwWBuOtt9QKARfj81yX5AYu6BwMq2f0Atn8/IYlKAQP9zhCn4yYBA3eh40opCgUAAccYTgLyBQJ5/hj09OIJA84fSnye2gkA0/cOKpDaDQJxSdE4ZuoNAYPv8OutAhEC6anegf8uEQOIT/c47WoVAEGqnFoXthUB+4I/HwIWGQGDqzzFUI4dA8vqApaTGh0BshbxyF3CIQAT9m+kRIIlA89Q4WvnWiUBwgKwUM5WKQLdyEGkkW4tA/R5+pzIpjEB7+A4gw/+MQGly3CI7341AAAAAAADIjkAAAAAAAMiOQAAAAAAAyI5AAAAAAADIjkBqctwiO9+NQHv4DiDD/4xA/h5+pzIpjEC4chBpJFuLQHKArBQzlYpA89Q4WvnWiUAF/ZvpESCJQG2FvHIXcIhA9PqApaTGh0Bh6s8xVCOHQH7gj8fAhYZAEGqnFoXthUDiE/3OO1qFQLtqd6B/y4RAYfv8OutAhECdUnROGbqDQDX9w4qkNoNA84fSnye2gkCff4Y9PTiCQP9wxhOAvIFA3eh40opCgUAAdIQp+MmAQC6fz8hiUoBAY+6BwMq2f0CfEX4/Ncl+QKXBYG46231AAxj3rA/sfEBGLg5b6vp7QAEec9j/BntAxADzhIUPekAb8FrAsBN5QJcFeOq2EnhAyVoXY80Ld0A/CQaKKf51QI0qEb8A6XRAPNgFYojLc0DfK7HS9aRyQAU/4HB+dHFAQCtgnFc5cEA3FPxpbeVtQFPqDTWiP2tA8guQWbh/aEA1rByXGqRlQD/+Ta0zq2JATGp8t9wmX0AaCA/EarZYQCk8iP/mAVJAbNk40k0MRkAAAAAAAAAuQA==\"},\"shape\":[104],\"dtype\":\"float64\",\"order\":\"little\"},{\"type\":\"ndarray\",\"array\":{\"type\":\"bytes\",\"data\":\"AAAAAAAALkAAAAAAAAAuQAAAAAAAAC5AaNk40k0MRkAkPIj/5gFSQBQID8RqtlhAQ2p8t9wmX0A6/k2tM6tiQDOsHJcapGVA8QuQWbh/aEBQ6g01oj9rQDQU/Glt5W1APCtgnFc5cEAEP+BwfnRxQN0rsdL1pHJAOdgFYojLc0CLKhG/AOl0QEAJBoop/nVAyFoXY80Ld0CXBXjqthJ4QBnwWsCwE3lAwgDzhIUPekD/HXPY/wZ7QEYuDlvq+ntAARj3rA/sfEClwWBuOtt9QKARfj81yX5AYu6BwMq2f0Atn8/IYlKAQP9zhCn4yYBA3eh40opCgUAAccYTgLyBQJ5/hj09OIJA84fSnye2gkA0/cOKpDaDQJxSdE4ZuoNAYPv8OutAhEC6anegf8uEQOIT/c47WoVAEGqnFoXthUB+4I/HwIWGQGDqzzFUI4dA8vqApaTGh0BshbxyF3CIQAT9m+kRIIlA89Q4WvnWiUBwgKwUM5WKQLdyEGkkW4tA/R5+pzIpjEB7+A4gw/+MQGly3CI7341AAAAAAADIjkAAAAAAAMiOQAAAAAAAyI5AAAAAAADIjkBqctwiO9+NQHv4DiDD/4xA/h5+pzIpjEC4chBpJFuLQHKArBQzlYpA89Q4WvnWiUAF/ZvpESCJQG2FvHIXcIhA9PqApaTGh0Bh6s8xVCOHQH7gj8fAhYZAEGqnFoXthUDiE/3OO1qFQLtqd6B/y4RAYfv8OutAhECdUnROGbqDQDX9w4qkNoNA84fSnye2gkCff4Y9PTiCQP9wxhOAvIFA3eh40opCgUAAdIQp+MmAQC6fz8hiUoBAY+6BwMq2f0CfEX4/Ncl+QKXBYG46231AAxj3rA/sfEBGLg5b6vp7QAEec9j/BntAxADzhIUPekAb8FrAsBN5QJcFeOq2EnhAyVoXY80Ld0A/CQaKKf51QI0qEb8A6XRAPNgFYojLc0DfK7HS9aRyQAU/4HB+dHFAQCtgnFc5cEA3FPxpbeVtQFPqDTWiP2tA8guQWbh/aEA1rByXGqRlQD/+Ta0zq2JATGp8t9wmX0AaCA/EarZYQCk8iP/mAVJAbNk40k0MRkAAAAAAAAAuQA==\"},\"shape\":[104],\"dtype\":\"float64\",\"order\":\"little\"},{\"type\":\"ndarray\",\"array\":{\"type\":\"bytes\",\"data\":\"AAAAAAAALkAAAAAAAAAuQAAAAAAAAC5AaNk40k0MRkAkPIj/5gFSQBQID8RqtlhAQ2p8t9wmX0A6/k2tM6tiQDOsHJcapGVA8QuQWbh/aEBQ6g01oj9rQDQU/Glt5W1APCtgnFc5cEAEP+BwfnRxQN0rsdL1pHJAOdgFYojLc0CLKhG/AOl0QEAJBoop/nVAyFoXY80Ld0CXBXjqthJ4QBnwWsCwE3lAwgDzhIUPekD/HXPY/wZ7QEYuDlvq+ntAARj3rA/sfEClwWBuOtt9QKARfj81yX5AYu6BwMq2f0Atn8/IYlKAQP9zhCn4yYBA3eh40opCgUAAccYTgLyBQJ5/hj09OIJA84fSnye2gkA0/cOKpDaDQJxSdE4ZuoNAYPv8OutAhEC6anegf8uEQOIT/c47WoVAEGqnFoXthUB+4I/HwIWGQGDqzzFUI4dA8vqApaTGh0BshbxyF3CIQAT9m+kRIIlA89Q4WvnWiUBwgKwUM5WKQLdyEGkkW4tA/R5+pzIpjEB7+A4gw/+MQGly3CI7341AAAAAAADIjkAAAAAAAMiOQAAAAAAAyI5AAAAAAADIjkBqctwiO9+NQHv4DiDD/4xA/h5+pzIpjEC4chBpJFuLQHKArBQzlYpA89Q4WvnWiUAF/ZvpESCJQG2FvHIXcIhA9PqApaTGh0Bh6s8xVCOHQH7gj8fAhYZAEGqnFoXthUDiE/3OO1qFQLtqd6B/y4RAYfv8OutAhECdUnROGbqDQDX9w4qkNoNA84fSnye2gkCff4Y9PTiCQP9wxhOAvIFA3eh40opCgUAAdIQp+MmAQC6fz8hiUoBAY+6BwMq2f0CfEX4/Ncl+QKXBYG46231AAxj3rA/sfEBGLg5b6vp7QAEec9j/BntAxADzhIUPekAb8FrAsBN5QJcFeOq2EnhAyVoXY80Ld0A/CQaKKf51QI0qEb8A6XRAPNgFYojLc0DfK7HS9aRyQAU/4HB+dHFAQCtgnFc5cEA3FPxpbeVtQFPqDTWiP2tA8guQWbh/aEA1rByXGqRlQD/+Ta0zq2JATGp8t9wmX0AaCA/EarZYQCk8iP/mAVJAbNk40k0MRkAAAAAAAAAuQA==\"},\"shape\":[104],\"dtype\":\"float64\",\"order\":\"little\"},{\"type\":\"ndarray\",\"array\":{\"type\":\"bytes\",\"data\":\"AAAAAAAALkAAAAAAAAAuQAAAAAAAAC5AaNk40k0MRkAkPIj/5gFSQBQID8RqtlhAQ2p8t9wmX0A6/k2tM6tiQDOsHJcapGVA8QuQWbh/aEBQ6g01oj9rQDQU/Glt5W1APCtgnFc5cEAEP+BwfnRxQN0rsdL1pHJAOdgFYojLc0CLKhG/AOl0QEAJBoop/nVAyFoXY80Ld0CXBXjqthJ4QBnwWsCwE3lAwgDzhIUPekD/HXPY/wZ7QEYuDlvq+ntAARj3rA/sfEClwWBuOtt9QKARfj81yX5AYu6BwMq2f0Atn8/IYlKAQP9zhCn4yYBA3eh40opCgUAAccYTgLyBQJ5/hj09OIJA84fSnye2gkA0/cOKpDaDQJxSdE4ZuoNAYPv8OutAhEC6anegf8uEQOIT/c47WoVAEGqnFoXthUB+4I/HwIWGQGDqzzFUI4dA8vqApaTGh0BshbxyF3CIQAT9m+kRIIlA89Q4WvnWiUBwgKwUM5WKQLdyEGkkW4tA/R5+pzIpjEB7+A4gw/+MQGly3CI7341AAAAAAADIjkAAAAAAAMiOQAAAAAAAyI5AAAAAAADIjkBqctwiO9+NQHv4DiDD/4xA/h5+pzIpjEC4chBpJFuLQHKArBQzlYpA89Q4WvnWiUAF/ZvpESCJQG2FvHIXcIhA9PqApaTGh0Bh6s8xVCOHQH7gj8fAhYZAEGqnFoXthUDiE/3OO1qFQLtqd6B/y4RAYfv8OutAhECdUnROGbqDQDX9w4qkNoNA84fSnye2gkCff4Y9PTiCQP9wxhOAvIFA3eh40opCgUAAdIQp+MmAQC6fz8hiUoBAY+6BwMq2f0CfEX4/Ncl+QKXBYG46231AAxj3rA/sfEBGLg5b6vp7QAEec9j/BntAxADzhIUPekAb8FrAsBN5QJcFeOq2EnhAyVoXY80Ld0A/CQaKKf51QI0qEb8A6XRAPNgFYojLc0DfK7HS9aRyQAU/4HB+dHFAQCtgnFc5cEA3FPxpbeVtQFPqDTWiP2tA8guQWbh/aEA1rByXGqRlQD/+Ta0zq2JATGp8t9wmX0AaCA/EarZYQCk8iP/mAVJAbNk40k0MRkAAAAAAAAAuQA==\"},\"shape\":[104],\"dtype\":\"float64\",\"order\":\"little\"},{\"type\":\"ndarray\",\"array\":{\"type\":\"bytes\",\"data\":\"AAAAAAAALkAAAAAAAAAuQAAAAAAAAC5AaNk40k0MRkAkPIj/5gFSQBQID8RqtlhAQ2p8t9wmX0A6/k2tM6tiQDOsHJcapGVA8QuQWbh/aEBQ6g01oj9rQDQU/Glt5W1APCtgnFc5cEAEP+BwfnRxQN0rsdL1pHJAOdgFYojLc0CLKhG/AOl0QEAJBoop/nVAyFoXY80Ld0CXBXjqthJ4QBnwWsCwE3lAwgDzhIUPekD/HXPY/wZ7QEYuDlvq+ntAARj3rA/sfEClwWBuOtt9QKARfj81yX5AYu6BwMq2f0Atn8/IYlKAQP9zhCn4yYBA3eh40opCgUAAccYTgLyBQJ5/hj09OIJA84fSnye2gkA0/cOKpDaDQJxSdE4ZuoNAYPv8OutAhEC6anegf8uEQOIT/c47WoVAEGqnFoXthUB+4I/HwIWGQGDqzzFUI4dA8vqApaTGh0BshbxyF3CIQAT9m+kRIIlA89Q4WvnWiUBwgKwUM5WKQLdyEGkkW4tA/R5+pzIpjEB7+A4gw/+MQGly3CI7341AAAAAAADIjkAAAAAAAMiOQAAAAAAAyI5AAAAAAADIjkBqctwiO9+NQHv4DiDD/4xA/h5+pzIpjEC4chBpJFuLQHKArBQzlYpA89Q4WvnWiUAF/ZvpESCJQG2FvHIXcIhA9PqApaTGh0Bh6s8xVCOHQH7gj8fAhYZAEGqnFoXthUDiE/3OO1qFQLtqd6B/y4RAYfv8OutAhECdUnROGbqDQDX9w4qkNoNA84fSnye2gkCff4Y9PTiCQP9wxhOAvIFA3eh40opCgUAAdIQp+MmAQC6fz8hiUoBAY+6BwMq2f0CfEX4/Ncl+QKXBYG46231AAxj3rA/sfEBGLg5b6vp7QAEec9j/BntAxADzhIUPekAb8FrAsBN5QJcFeOq2EnhAyVoXY80Ld0A/CQaKKf51QI0qEb8A6XRAPNgFYojLc0DfK7HS9aRyQAU/4HB+dHFAQCtgnFc5cEA3FPxpbeVtQFPqDTWiP2tA8guQWbh/aEA1rByXGqRlQD/+Ta0zq2JATGp8t9wmX0AaCA/EarZYQCk8iP/mAVJAbNk40k0MRkAAAAAAAAAuQA==\"},\"shape\":[104],\"dtype\":\"float64\",\"order\":\"little\"},{\"type\":\"ndarray\",\"array\":{\"type\":\"bytes\",\"data\":\"AAAAAAAALkAAAAAAAAAuQAAAAAAAAC5AaNk40k0MRkAkPIj/5gFSQBQID8RqtlhAQ2p8t9wmX0A6/k2tM6tiQDOsHJcapGVA8QuQWbh/aEBQ6g01oj9rQDQU/Glt5W1APCtgnFc5cEAEP+BwfnRxQN0rsdL1pHJAOdgFYojLc0CLKhG/AOl0QEAJBoop/nVAyFoXY80Ld0CXBXjqthJ4QBnwWsCwE3lAwgDzhIUPekD/HXPY/wZ7QEYuDlvq+ntAARj3rA/sfEClwWBuOtt9QKARfj81yX5AYu6BwMq2f0Atn8/IYlKAQP9zhCn4yYBA3eh40opCgUAAccYTgLyBQJ5/hj09OIJA84fSnye2gkA0/cOKpDaDQJxSdE4ZuoNAYPv8OutAhEC6anegf8uEQOIT/c47WoVAEGqnFoXthUB+4I/HwIWGQGDqzzFUI4dA8vqApaTGh0BshbxyF3CIQAT9m+kRIIlA89Q4WvnWiUBwgKwUM5WKQLdyEGkkW4tA/R5+pzIpjEB7+A4gw/+MQGly3CI7341AAAAAAADIjkAAAAAAAMiOQAAAAAAAyI5AAAAAAADIjkBqctwiO9+NQHv4DiDD/4xA/h5+pzIpjEC4chBpJFuLQHKArBQzlYpA89Q4WvnWiUAF/ZvpESCJQG2FvHIXcIhA9PqApaTGh0Bh6s8xVCOHQH7gj8fAhYZAEGqnFoXthUDiE/3OO1qFQLtqd6B/y4RAYfv8OutAhECdUnROGbqDQDX9w4qkNoNA84fSnye2gkCff4Y9PTiCQP9wxhOAvIFA3eh40opCgUAAdIQp+MmAQC6fz8hiUoBAY+6BwMq2f0CfEX4/Ncl+QKXBYG46231AAxj3rA/sfEBGLg5b6vp7QAEec9j/BntAxADzhIUPekAb8FrAsBN5QJcFeOq2EnhAyVoXY80Ld0A/CQaKKf51QI0qEb8A6XRAPNgFYojLc0DfK7HS9aRyQAU/4HB+dHFAQCtgnFc5cEA3FPxpbeVtQFPqDTWiP2tA8guQWbh/aEA1rByXGqRlQD/+Ta0zq2JATGp8t9wmX0AaCA/EarZYQCk8iP/mAVJAbNk40k0MRkAAAAAAAAAuQA==\"},\"shape\":[104],\"dtype\":\"float64\",\"order\":\"little\"},{\"type\":\"ndarray\",\"array\":{\"type\":\"bytes\",\"data\":\"AAAAAAAALkAAAAAAAAAuQAAAAAAAAC5AaNk40k0MRkAkPIj/5gFSQBQID8RqtlhAQ2p8t9wmX0A6/k2tM6tiQDOsHJcapGVA8QuQWbh/aEBQ6g01oj9rQDQU/Glt5W1APCtgnFc5cEAEP+BwfnRxQN0rsdL1pHJAOdgFYojLc0CLKhG/AOl0QEAJBoop/nVAyFoXY80Ld0CXBXjqthJ4QBnwWsCwE3lAwgDzhIUPekD/HXPY/wZ7QEYuDlvq+ntAARj3rA/sfEClwWBuOtt9QKARfj81yX5AYu6BwMq2f0Atn8/IYlKAQP9zhCn4yYBA3eh40opCgUAAccYTgLyBQJ5/hj09OIJA84fSnye2gkA0/cOKpDaDQJxSdE4ZuoNAYPv8OutAhEC6anegf8uEQOIT/c47WoVAEGqnFoXthUB+4I/HwIWGQGDqzzFUI4dA8vqApaTGh0BshbxyF3CIQAT9m+kRIIlA89Q4WvnWiUBwgKwUM5WKQLdyEGkkW4tA/R5+pzIpjEB7+A4gw/+MQGly3CI7341AAAAAAADIjkAAAAAAAMiOQAAAAAAAyI5AAAAAAADIjkBqctwiO9+NQHv4DiDD/4xA/h5+pzIpjEC4chBpJFuLQHKArBQzlYpA89Q4WvnWiUAF/ZvpESCJQG2FvHIXcIhA9PqApaTGh0Bh6s8xVCOHQH7gj8fAhYZAEGqnFoXthUDiE/3OO1qFQLtqd6B/y4RAYfv8OutAhECdUnROGbqDQDX9w4qkNoNA84fSnye2gkCff4Y9PTiCQP9wxhOAvIFA3eh40opCgUAAdIQp+MmAQC6fz8hiUoBAY+6BwMq2f0CfEX4/Ncl+QKXBYG46231AAxj3rA/sfEBGLg5b6vp7QAEec9j/BntAxADzhIUPekAb8FrAsBN5QJcFeOq2EnhAyVoXY80Ld0A/CQaKKf51QI0qEb8A6XRAPNgFYojLc0DfK7HS9aRyQAU/4HB+dHFAQCtgnFc5cEA3FPxpbeVtQFPqDTWiP2tA8guQWbh/aEA1rByXGqRlQD/+Ta0zq2JATGp8t9wmX0AaCA/EarZYQCk8iP/mAVJAbNk40k0MRkAAAAAAAAAuQA==\"},\"shape\":[104],\"dtype\":\"float64\",\"order\":\"little\"},{\"type\":\"ndarray\",\"array\":{\"type\":\"bytes\",\"data\":\"AAAAAAAALkAAAAAAAAAuQAAAAAAAAC5AaNk40k0MRkAkPIj/5gFSQBQID8RqtlhAQ2p8t9wmX0A6/k2tM6tiQDOsHJcapGVA8QuQWbh/aEBQ6g01oj9rQDQU/Glt5W1APCtgnFc5cEAEP+BwfnRxQN0rsdL1pHJAOdgFYojLc0CLKhG/AOl0QEAJBoop/nVAyFoXY80Ld0CXBXjqthJ4QBnwWsCwE3lAwgDzhIUPekD/HXPY/wZ7QEYuDlvq+ntAARj3rA/sfEClwWBuOtt9QKARfj81yX5AYu6BwMq2f0Atn8/IYlKAQP9zhCn4yYBA3eh40opCgUAAccYTgLyBQJ5/hj09OIJA84fSnye2gkA0/cOKpDaDQJxSdE4ZuoNAYPv8OutAhEC6anegf8uEQOIT/c47WoVAEGqnFoXthUB+4I/HwIWGQGDqzzFUI4dA8vqApaTGh0BshbxyF3CIQAT9m+kRIIlA89Q4WvnWiUBwgKwUM5WKQLdyEGkkW4tA/R5+pzIpjEB7+A4gw/+MQGly3CI7341AAAAAAADIjkAAAAAAAMiOQAAAAAAAyI5AAAAAAADIjkBqctwiO9+NQHv4DiDD/4xA/h5+pzIpjEC4chBpJFuLQHKArBQzlYpA89Q4WvnWiUAF/ZvpESCJQG2FvHIXcIhA9PqApaTGh0Bh6s8xVCOHQH7gj8fAhYZAEGqnFoXthUDiE/3OO1qFQLtqd6B/y4RAYfv8OutAhECdUnROGbqDQDX9w4qkNoNA84fSnye2gkCff4Y9PTiCQP9wxhOAvIFA3eh40opCgUAAdIQp+MmAQC6fz8hiUoBAY+6BwMq2f0CfEX4/Ncl+QKXBYG46231AAxj3rA/sfEBGLg5b6vp7QAEec9j/BntAxADzhIUPekAb8FrAsBN5QJcFeOq2EnhAyVoXY80Ld0A/CQaKKf51QI0qEb8A6XRAPNgFYojLc0DfK7HS9aRyQAU/4HB+dHFAQCtgnFc5cEA3FPxpbeVtQFPqDTWiP2tA8guQWbh/aEA1rByXGqRlQD/+Ta0zq2JATGp8t9wmX0AaCA/EarZYQCk8iP/mAVJAbNk40k0MRkAAAAAAAAAuQA==\"},\"shape\":[104],\"dtype\":\"float64\",\"order\":\"little\"},{\"type\":\"ndarray\",\"array\":{\"type\":\"bytes\",\"data\":\"AAAAAAAALkAAAAAAAAAuQAAAAAAAAC5AaNk40k0MRkAkPIj/5gFSQBQID8RqtlhAQ2p8t9wmX0A6/k2tM6tiQDOsHJcapGVA8QuQWbh/aEBQ6g01oj9rQDQU/Glt5W1APCtgnFc5cEAEP+BwfnRxQN0rsdL1pHJAOdgFYojLc0CLKhG/AOl0QEAJBoop/nVAyFoXY80Ld0CXBXjqthJ4QBnwWsCwE3lAwgDzhIUPekD/HXPY/wZ7QEYuDlvq+ntAARj3rA/sfEClwWBuOtt9QKARfj81yX5AYu6BwMq2f0Atn8/IYlKAQP9zhCn4yYBA3eh40opCgUAAccYTgLyBQJ5/hj09OIJA84fSnye2gkA0/cOKpDaDQJxSdE4ZuoNAYPv8OutAhEC6anegf8uEQOIT/c47WoVAEGqnFoXthUB+4I/HwIWGQGDqzzFUI4dA8vqApaTGh0BshbxyF3CIQAT9m+kRIIlA89Q4WvnWiUBwgKwUM5WKQLdyEGkkW4tA/R5+pzIpjEB7+A4gw/+MQGly3CI7341AAAAAAADIjkAAAAAAAMiOQAAAAAAAyI5AAAAAAADIjkBqctwiO9+NQHv4DiDD/4xA/h5+pzIpjEC4chBpJFuLQHKArBQzlYpA89Q4WvnWiUAF/ZvpESCJQG2FvHIXcIhA9PqApaTGh0Bh6s8xVCOHQH7gj8fAhYZAEGqnFoXthUDiE/3OO1qFQLtqd6B/y4RAYfv8OutAhECdUnROGbqDQDX9w4qkNoNA84fSnye2gkCff4Y9PTiCQP9wxhOAvIFA3eh40opCgUAAdIQp+MmAQC6fz8hiUoBAY+6BwMq2f0CfEX4/Ncl+QKXBYG46231AAxj3rA/sfEBGLg5b6vp7QAEec9j/BntAxADzhIUPekAb8FrAsBN5QJcFeOq2EnhAyVoXY80Ld0A/CQaKKf51QI0qEb8A6XRAPNgFYojLc0DfK7HS9aRyQAU/4HB+dHFAQCtgnFc5cEA3FPxpbeVtQFPqDTWiP2tA8guQWbh/aEA1rByXGqRlQD/+Ta0zq2JATGp8t9wmX0AaCA/EarZYQCk8iP/mAVJAbNk40k0MRkAAAAAAAAAuQA==\"},\"shape\":[104],\"dtype\":\"float64\",\"order\":\"little\"},{\"type\":\"ndarray\",\"array\":{\"type\":\"bytes\",\"data\":\"AAAAAAAALkAAAAAAAAAuQAAAAAAAAC5AaNk40k0MRkAkPIj/5gFSQBQID8RqtlhAQ2p8t9wmX0A6/k2tM6tiQDOsHJcapGVA8QuQWbh/aEBQ6g01oj9rQDQU/Glt5W1APCtgnFc5cEAEP+BwfnRxQN0rsdL1pHJAOdgFYojLc0CLKhG/AOl0QEAJBoop/nVAyFoXY80Ld0CXBXjqthJ4QBnwWsCwE3lAwgDzhIUPekD/HXPY/wZ7QEYuDlvq+ntAARj3rA/sfEClwWBuOtt9QKARfj81yX5AYu6BwMq2f0Atn8/IYlKAQP9zhCn4yYBA3eh40opCgUAAccYTgLyBQJ5/hj09OIJA84fSnye2gkA0/cOKpDaDQJxSdE4ZuoNAYPv8OutAhEC6anegf8uEQOIT/c47WoVAEGqnFoXthUB+4I/HwIWGQGDqzzFUI4dA8vqApaTGh0BshbxyF3CIQAT9m+kRIIlA89Q4WvnWiUBwgKwUM5WKQLdyEGkkW4tA/R5+pzIpjEB7+A4gw/+MQGly3CI7341AAAAAAADIjkAAAAAAAMiOQAAAAAAAyI5AAAAAAADIjkBqctwiO9+NQHv4DiDD/4xA/h5+pzIpjEC4chBpJFuLQHKArBQzlYpA89Q4WvnWiUAF/ZvpESCJQG2FvHIXcIhA9PqApaTGh0Bh6s8xVCOHQH7gj8fAhYZAEGqnFoXthUDiE/3OO1qFQLtqd6B/y4RAYfv8OutAhECdUnROGbqDQDX9w4qkNoNA84fSnye2gkCff4Y9PTiCQP9wxhOAvIFA3eh40opCgUAAdIQp+MmAQC6fz8hiUoBAY+6BwMq2f0CfEX4/Ncl+QKXBYG46231AAxj3rA/sfEBGLg5b6vp7QAEec9j/BntAxADzhIUPekAb8FrAsBN5QJcFeOq2EnhAyVoXY80Ld0A/CQaKKf51QI0qEb8A6XRAPNgFYojLc0DfK7HS9aRyQAU/4HB+dHFAQCtgnFc5cEA3FPxpbeVtQFPqDTWiP2tA8guQWbh/aEA1rByXGqRlQD/+Ta0zq2JATGp8t9wmX0AaCA/EarZYQCk8iP/mAVJAbNk40k0MRkAAAAAAAAAuQA==\"},\"shape\":[104],\"dtype\":\"float64\",\"order\":\"little\"},{\"type\":\"ndarray\",\"array\":{\"type\":\"bytes\",\"data\":\"AAAAAAAALkAAAAAAAAAuQAAAAAAAAC5AaNk40k0MRkAkPIj/5gFSQBQID8RqtlhAQ2p8t9wmX0A6/k2tM6tiQDOsHJcapGVA8QuQWbh/aEBQ6g01oj9rQDQU/Glt5W1APCtgnFc5cEAEP+BwfnRxQN0rsdL1pHJAOdgFYojLc0CLKhG/AOl0QEAJBoop/nVAyFoXY80Ld0CXBXjqthJ4QBnwWsCwE3lAwgDzhIUPekD/HXPY/wZ7QEYuDlvq+ntAARj3rA/sfEClwWBuOtt9QKARfj81yX5AYu6BwMq2f0Atn8/IYlKAQP9zhCn4yYBA3eh40opCgUAAccYTgLyBQJ5/hj09OIJA84fSnye2gkA0/cOKpDaDQJxSdE4ZuoNAYPv8OutAhEC6anegf8uEQOIT/c47WoVAEGqnFoXthUB+4I/HwIWGQGDqzzFUI4dA8vqApaTGh0BshbxyF3CIQAT9m+kRIIlA89Q4WvnWiUBwgKwUM5WKQLdyEGkkW4tA/R5+pzIpjEB7+A4gw/+MQGly3CI7341AAAAAAADIjkAAAAAAAMiOQAAAAAAAyI5AAAAAAADIjkBqctwiO9+NQHv4DiDD/4xA/h5+pzIpjEC4chBpJFuLQHKArBQzlYpA89Q4WvnWiUAF/ZvpESCJQG2FvHIXcIhA9PqApaTGh0Bh6s8xVCOHQH7gj8fAhYZAEGqnFoXthUDiE/3OO1qFQLtqd6B/y4RAYfv8OutAhECdUnROGbqDQDX9w4qkNoNA84fSnye2gkCff4Y9PTiCQP9wxhOAvIFA3eh40opCgUAAdIQp+MmAQC6fz8hiUoBAY+6BwMq2f0CfEX4/Ncl+QKXBYG46231AAxj3rA/sfEBGLg5b6vp7QAEec9j/BntAxADzhIUPekAb8FrAsBN5QJcFeOq2EnhAyVoXY80Ld0A/CQaKKf51QI0qEb8A6XRAPNgFYojLc0DfK7HS9aRyQAU/4HB+dHFAQCtgnFc5cEA3FPxpbeVtQFPqDTWiP2tA8guQWbh/aEA1rByXGqRlQD/+Ta0zq2JATGp8t9wmX0AaCA/EarZYQCk8iP/mAVJAbNk40k0MRkAAAAAAAAAuQA==\"},\"shape\":[104],\"dtype\":\"float64\",\"order\":\"little\"},{\"type\":\"ndarray\",\"array\":{\"type\":\"bytes\",\"data\":\"AAAAAAAALkAAAAAAAAAuQAAAAAAAAC5AaNk40k0MRkAkPIj/5gFSQBQID8RqtlhAQ2p8t9wmX0A6/k2tM6tiQDOsHJcapGVA8QuQWbh/aEBQ6g01oj9rQDQU/Glt5W1APCtgnFc5cEAEP+BwfnRxQN0rsdL1pHJAOdgFYojLc0CLKhG/AOl0QEAJBoop/nVAyFoXY80Ld0CXBXjqthJ4QBnwWsCwE3lAwgDzhIUPekD/HXPY/wZ7QEYuDlvq+ntAARj3rA/sfEClwWBuOtt9QKARfj81yX5AYu6BwMq2f0Atn8/IYlKAQP9zhCn4yYBA3eh40opCgUAAccYTgLyBQJ5/hj09OIJA84fSnye2gkA0/cOKpDaDQJxSdE4ZuoNAYPv8OutAhEC6anegf8uEQOIT/c47WoVAEGqnFoXthUB+4I/HwIWGQGDqzzFUI4dA8vqApaTGh0BshbxyF3CIQAT9m+kRIIlA89Q4WvnWiUBwgKwUM5WKQLdyEGkkW4tA/R5+pzIpjEB7+A4gw/+MQGly3CI7341AAAAAAADIjkAAAAAAAMiOQAAAAAAAyI5AAAAAAADIjkBqctwiO9+NQHv4DiDD/4xA/h5+pzIpjEC4chBpJFuLQHKArBQzlYpA89Q4WvnWiUAF/ZvpESCJQG2FvHIXcIhA9PqApaTGh0Bh6s8xVCOHQH7gj8fAhYZAEGqnFoXthUDiE/3OO1qFQLtqd6B/y4RAYfv8OutAhECdUnROGbqDQDX9w4qkNoNA84fSnye2gkCff4Y9PTiCQP9wxhOAvIFA3eh40opCgUAAdIQp+MmAQC6fz8hiUoBAY+6BwMq2f0CfEX4/Ncl+QKXBYG46231AAxj3rA/sfEBGLg5b6vp7QAEec9j/BntAxADzhIUPekAb8FrAsBN5QJcFeOq2EnhAyVoXY80Ld0A/CQaKKf51QI0qEb8A6XRAPNgFYojLc0DfK7HS9aRyQAU/4HB+dHFAQCtgnFc5cEA3FPxpbeVtQFPqDTWiP2tA8guQWbh/aEA1rByXGqRlQD/+Ta0zq2JATGp8t9wmX0AaCA/EarZYQCk8iP/mAVJAbNk40k0MRkAAAAAAAAAuQA==\"},\"shape\":[104],\"dtype\":\"float64\",\"order\":\"little\"},{\"type\":\"ndarray\",\"array\":{\"type\":\"bytes\",\"data\":\"AAAAAAAALkAAAAAAAAAuQAAAAAAAAC5AaNk40k0MRkAkPIj/5gFSQBQID8RqtlhAQ2p8t9wmX0A6/k2tM6tiQDOsHJcapGVA8QuQWbh/aEBQ6g01oj9rQDQU/Glt5W1APCtgnFc5cEAEP+BwfnRxQN0rsdL1pHJAOdgFYojLc0CLKhG/AOl0QEAJBoop/nVAyFoXY80Ld0CXBXjqthJ4QBnwWsCwE3lAwgDzhIUPekD/HXPY/wZ7QEYuDlvq+ntAARj3rA/sfEClwWBuOtt9QKARfj81yX5AYu6BwMq2f0Atn8/IYlKAQP9zhCn4yYBA3eh40opCgUAAccYTgLyBQJ5/hj09OIJA84fSnye2gkA0/cOKpDaDQJxSdE4ZuoNAYPv8OutAhEC6anegf8uEQOIT/c47WoVAEGqnFoXthUB+4I/HwIWGQGDqzzFUI4dA8vqApaTGh0BshbxyF3CIQAT9m+kRIIlA89Q4WvnWiUBwgKwUM5WKQLdyEGkkW4tA/R5+pzIpjEB7+A4gw/+MQGly3CI7341AAAAAAADIjkAAAAAAAMiOQAAAAAAAyI5AAAAAAADIjkBqctwiO9+NQHv4DiDD/4xA/h5+pzIpjEC4chBpJFuLQHKArBQzlYpA89Q4WvnWiUAF/ZvpESCJQG2FvHIXcIhA9PqApaTGh0Bh6s8xVCOHQH7gj8fAhYZAEGqnFoXthUDiE/3OO1qFQLtqd6B/y4RAYfv8OutAhECdUnROGbqDQDX9w4qkNoNA84fSnye2gkCff4Y9PTiCQP9wxhOAvIFA3eh40opCgUAAdIQp+MmAQC6fz8hiUoBAY+6BwMq2f0CfEX4/Ncl+QKXBYG46231AAxj3rA/sfEBGLg5b6vp7QAEec9j/BntAxADzhIUPekAb8FrAsBN5QJcFeOq2EnhAyVoXY80Ld0A/CQaKKf51QI0qEb8A6XRAPNgFYojLc0DfK7HS9aRyQAU/4HB+dHFAQCtgnFc5cEA3FPxpbeVtQFPqDTWiP2tA8guQWbh/aEA1rByXGqRlQD/+Ta0zq2JATGp8t9wmX0AaCA/EarZYQCk8iP/mAVJAbNk40k0MRkAAAAAAAAAuQA==\"},\"shape\":[104],\"dtype\":\"float64\",\"order\":\"little\"},{\"type\":\"ndarray\",\"array\":{\"type\":\"bytes\",\"data\":\"AAAAAAAALkAAAAAAAAAuQAAAAAAAAC5AaNk40k0MRkAkPIj/5gFSQBQID8RqtlhAQ2p8t9wmX0A6/k2tM6tiQDOsHJcapGVA8QuQWbh/aEBQ6g01oj9rQDQU/Glt5W1APCtgnFc5cEAEP+BwfnRxQN0rsdL1pHJAOdgFYojLc0CLKhG/AOl0QEAJBoop/nVAyFoXY80Ld0CXBXjqthJ4QBnwWsCwE3lAwgDzhIUPekD/HXPY/wZ7QEYuDlvq+ntAARj3rA/sfEClwWBuOtt9QKARfj81yX5AYu6BwMq2f0Atn8/IYlKAQP9zhCn4yYBA3eh40opCgUAAccYTgLyBQJ5/hj09OIJA84fSnye2gkA0/cOKpDaDQJxSdE4ZuoNAYPv8OutAhEC6anegf8uEQOIT/c47WoVAEGqnFoXthUB+4I/HwIWGQGDqzzFUI4dA8vqApaTGh0BshbxyF3CIQAT9m+kRIIlA89Q4WvnWiUBwgKwUM5WKQLdyEGkkW4tA/R5+pzIpjEB7+A4gw/+MQGly3CI7341AAAAAAADIjkAAAAAAAMiOQAAAAAAAyI5AAAAAAADIjkBqctwiO9+NQHv4DiDD/4xA/h5+pzIpjEC4chBpJFuLQHKArBQzlYpA89Q4WvnWiUAF/ZvpESCJQG2FvHIXcIhA9PqApaTGh0Bh6s8xVCOHQH7gj8fAhYZAEGqnFoXthUDiE/3OO1qFQLtqd6B/y4RAYfv8OutAhECdUnROGbqDQDX9w4qkNoNA84fSnye2gkCff4Y9PTiCQP9wxhOAvIFA3eh40opCgUAAdIQp+MmAQC6fz8hiUoBAY+6BwMq2f0CfEX4/Ncl+QKXBYG46231AAxj3rA/sfEBGLg5b6vp7QAEec9j/BntAxADzhIUPekAb8FrAsBN5QJcFeOq2EnhAyVoXY80Ld0A/CQaKKf51QI0qEb8A6XRAPNgFYojLc0DfK7HS9aRyQAU/4HB+dHFAQCtgnFc5cEA3FPxpbeVtQFPqDTWiP2tA8guQWbh/aEA1rByXGqRlQD/+Ta0zq2JATGp8t9wmX0AaCA/EarZYQCk8iP/mAVJAbNk40k0MRkAAAAAAAAAuQA==\"},\"shape\":[104],\"dtype\":\"float64\",\"order\":\"little\"},{\"type\":\"ndarray\",\"array\":{\"type\":\"bytes\",\"data\":\"AAAAAAAALkAAAAAAAAAuQAAAAAAAAC5AaNk40k0MRkAkPIj/5gFSQBQID8RqtlhAQ2p8t9wmX0A6/k2tM6tiQDOsHJcapGVA8QuQWbh/aEBQ6g01oj9rQDQU/Glt5W1APCtgnFc5cEAEP+BwfnRxQN0rsdL1pHJAOdgFYojLc0CLKhG/AOl0QEAJBoop/nVAyFoXY80Ld0CXBXjqthJ4QBnwWsCwE3lAwgDzhIUPekD/HXPY/wZ7QEYuDlvq+ntAARj3rA/sfEClwWBuOtt9QKARfj81yX5AYu6BwMq2f0Atn8/IYlKAQP9zhCn4yYBA3eh40opCgUAAccYTgLyBQJ5/hj09OIJA84fSnye2gkA0/cOKpDaDQJxSdE4ZuoNAYPv8OutAhEC6anegf8uEQOIT/c47WoVAEGqnFoXthUB+4I/HwIWGQGDqzzFUI4dA8vqApaTGh0BshbxyF3CIQAT9m+kRIIlA89Q4WvnWiUBwgKwUM5WKQLdyEGkkW4tA/R5+pzIpjEB7+A4gw/+MQGly3CI7341AAAAAAADIjkAAAAAAAMiOQAAAAAAAyI5AAAAAAADIjkBqctwiO9+NQHv4DiDD/4xA/h5+pzIpjEC4chBpJFuLQHKArBQzlYpA89Q4WvnWiUAF/ZvpESCJQG2FvHIXcIhA9PqApaTGh0Bh6s8xVCOHQH7gj8fAhYZAEGqnFoXthUDiE/3OO1qFQLtqd6B/y4RAYfv8OutAhECdUnROGbqDQDX9w4qkNoNA84fSnye2gkCff4Y9PTiCQP9wxhOAvIFA3eh40opCgUAAdIQp+MmAQC6fz8hiUoBAY+6BwMq2f0CfEX4/Ncl+QKXBYG46231AAxj3rA/sfEBGLg5b6vp7QAEec9j/BntAxADzhIUPekAb8FrAsBN5QJcFeOq2EnhAyVoXY80Ld0A/CQaKKf51QI0qEb8A6XRAPNgFYojLc0DfK7HS9aRyQAU/4HB+dHFAQCtgnFc5cEA3FPxpbeVtQFPqDTWiP2tA8guQWbh/aEA1rByXGqRlQD/+Ta0zq2JATGp8t9wmX0AaCA/EarZYQCk8iP/mAVJAbNk40k0MRkAAAAAAAAAuQA==\"},\"shape\":[104],\"dtype\":\"float64\",\"order\":\"little\"},{\"type\":\"ndarray\",\"array\":{\"type\":\"bytes\",\"data\":\"AAAAAAAALkAAAAAAAAAuQAAAAAAAAC5AaNk40k0MRkAkPIj/5gFSQBQID8RqtlhAQ2p8t9wmX0A6/k2tM6tiQDOsHJcapGVA8QuQWbh/aEBQ6g01oj9rQDQU/Glt5W1APCtgnFc5cEAEP+BwfnRxQN0rsdL1pHJAOdgFYojLc0CLKhG/AOl0QEAJBoop/nVAyFoXY80Ld0CXBXjqthJ4QBnwWsCwE3lAwgDzhIUPekD/HXPY/wZ7QEYuDlvq+ntAARj3rA/sfEClwWBuOtt9QKARfj81yX5AYu6BwMq2f0Atn8/IYlKAQP9zhCn4yYBA3eh40opCgUAAccYTgLyBQJ5/hj09OIJA84fSnye2gkA0/cOKpDaDQJxSdE4ZuoNAYPv8OutAhEC6anegf8uEQOIT/c47WoVAEGqnFoXthUB+4I/HwIWGQGDqzzFUI4dA8vqApaTGh0BshbxyF3CIQAT9m+kRIIlA89Q4WvnWiUBwgKwUM5WKQLdyEGkkW4tA/R5+pzIpjEB7+A4gw/+MQGly3CI7341AAAAAAADIjkAAAAAAAMiOQAAAAAAAyI5AAAAAAADIjkBqctwiO9+NQHv4DiDD/4xA/h5+pzIpjEC4chBpJFuLQHKArBQzlYpA89Q4WvnWiUAF/ZvpESCJQG2FvHIXcIhA9PqApaTGh0Bh6s8xVCOHQH7gj8fAhYZAEGqnFoXthUDiE/3OO1qFQLtqd6B/y4RAYfv8OutAhECdUnROGbqDQDX9w4qkNoNA84fSnye2gkCff4Y9PTiCQP9wxhOAvIFA3eh40opCgUAAdIQp+MmAQC6fz8hiUoBAY+6BwMq2f0CfEX4/Ncl+QKXBYG46231AAxj3rA/sfEBGLg5b6vp7QAEec9j/BntAxADzhIUPekAb8FrAsBN5QJcFeOq2EnhAyVoXY80Ld0A/CQaKKf51QI0qEb8A6XRAPNgFYojLc0DfK7HS9aRyQAU/4HB+dHFAQCtgnFc5cEA3FPxpbeVtQFPqDTWiP2tA8guQWbh/aEA1rByXGqRlQD/+Ta0zq2JATGp8t9wmX0AaCA/EarZYQCk8iP/mAVJAbNk40k0MRkAAAAAAAAAuQA==\"},\"shape\":[104],\"dtype\":\"float64\",\"order\":\"little\"},{\"type\":\"ndarray\",\"array\":{\"type\":\"bytes\",\"data\":\"AAAAAAAALkAAAAAAAAAuQAAAAAAAAC5AaNk40k0MRkAkPIj/5gFSQBQID8RqtlhAQ2p8t9wmX0A6/k2tM6tiQDOsHJcapGVA8QuQWbh/aEBQ6g01oj9rQDQU/Glt5W1APCtgnFc5cEAEP+BwfnRxQN0rsdL1pHJAOdgFYojLc0CLKhG/AOl0QEAJBoop/nVAyFoXY80Ld0CXBXjqthJ4QBnwWsCwE3lAwgDzhIUPekD/HXPY/wZ7QEYuDlvq+ntAARj3rA/sfEClwWBuOtt9QKARfj81yX5AYu6BwMq2f0Atn8/IYlKAQP9zhCn4yYBA3eh40opCgUAAccYTgLyBQJ5/hj09OIJA84fSnye2gkA0/cOKpDaDQJxSdE4ZuoNAYPv8OutAhEC6anegf8uEQOIT/c47WoVAEGqnFoXthUB+4I/HwIWGQGDqzzFUI4dA8vqApaTGh0BshbxyF3CIQAT9m+kRIIlA89Q4WvnWiUBwgKwUM5WKQLdyEGkkW4tA/R5+pzIpjEB7+A4gw/+MQGly3CI7341AAAAAAADIjkAAAAAAAMiOQAAAAAAAyI5AAAAAAADIjkBqctwiO9+NQHv4DiDD/4xA/h5+pzIpjEC4chBpJFuLQHKArBQzlYpA89Q4WvnWiUAF/ZvpESCJQG2FvHIXcIhA9PqApaTGh0Bh6s8xVCOHQH7gj8fAhYZAEGqnFoXthUDiE/3OO1qFQLtqd6B/y4RAYfv8OutAhECdUnROGbqDQDX9w4qkNoNA84fSnye2gkCff4Y9PTiCQP9wxhOAvIFA3eh40opCgUAAdIQp+MmAQC6fz8hiUoBAY+6BwMq2f0CfEX4/Ncl+QKXBYG46231AAxj3rA/sfEBGLg5b6vp7QAEec9j/BntAxADzhIUPekAb8FrAsBN5QJcFeOq2EnhAyVoXY80Ld0A/CQaKKf51QI0qEb8A6XRAPNgFYojLc0DfK7HS9aRyQAU/4HB+dHFAQCtgnFc5cEA3FPxpbeVtQFPqDTWiP2tA8guQWbh/aEA1rByXGqRlQD/+Ta0zq2JATGp8t9wmX0AaCA/EarZYQCk8iP/mAVJAbNk40k0MRkAAAAAAAAAuQA==\"},\"shape\":[104],\"dtype\":\"float64\",\"order\":\"little\"},{\"type\":\"ndarray\",\"array\":{\"type\":\"bytes\",\"data\":\"AAAAAAAALkAAAAAAAAAuQAAAAAAAAC5AaNk40k0MRkAkPIj/5gFSQBQID8RqtlhAQ2p8t9wmX0A6/k2tM6tiQDOsHJcapGVA8QuQWbh/aEBQ6g01oj9rQDQU/Glt5W1APCtgnFc5cEAEP+BwfnRxQN0rsdL1pHJAOdgFYojLc0CLKhG/AOl0QEAJBoop/nVAyFoXY80Ld0CXBXjqthJ4QBnwWsCwE3lAwgDzhIUPekD/HXPY/wZ7QEYuDlvq+ntAARj3rA/sfEClwWBuOtt9QKARfj81yX5AYu6BwMq2f0Atn8/IYlKAQP9zhCn4yYBA3eh40opCgUAAccYTgLyBQJ5/hj09OIJA84fSnye2gkA0/cOKpDaDQJxSdE4ZuoNAYPv8OutAhEC6anegf8uEQOIT/c47WoVAEGqnFoXthUB+4I/HwIWGQGDqzzFUI4dA8vqApaTGh0BshbxyF3CIQAT9m+kRIIlA89Q4WvnWiUBwgKwUM5WKQLdyEGkkW4tA/R5+pzIpjEB7+A4gw/+MQGly3CI7341AAAAAAADIjkAAAAAAAMiOQAAAAAAAyI5AAAAAAADIjkBqctwiO9+NQHv4DiDD/4xA/h5+pzIpjEC4chBpJFuLQHKArBQzlYpA89Q4WvnWiUAF/ZvpESCJQG2FvHIXcIhA9PqApaTGh0Bh6s8xVCOHQH7gj8fAhYZAEGqnFoXthUDiE/3OO1qFQLtqd6B/y4RAYfv8OutAhECdUnROGbqDQDX9w4qkNoNA84fSnye2gkCff4Y9PTiCQP9wxhOAvIFA3eh40opCgUAAdIQp+MmAQC6fz8hiUoBAY+6BwMq2f0CfEX4/Ncl+QKXBYG46231AAxj3rA/sfEBGLg5b6vp7QAEec9j/BntAxADzhIUPekAb8FrAsBN5QJcFeOq2EnhAyVoXY80Ld0A/CQaKKf51QI0qEb8A6XRAPNgFYojLc0DfK7HS9aRyQAU/4HB+dHFAQCtgnFc5cEA3FPxpbeVtQFPqDTWiP2tA8guQWbh/aEA1rByXGqRlQD/+Ta0zq2JATGp8t9wmX0AaCA/EarZYQCk8iP/mAVJAbNk40k0MRkAAAAAAAAAuQA==\"},\"shape\":[104],\"dtype\":\"float64\",\"order\":\"little\"},{\"type\":\"ndarray\",\"array\":{\"type\":\"bytes\",\"data\":\"AAAAAAAALkAAAAAAAAAuQAAAAAAAAC5AaNk40k0MRkAkPIj/5gFSQBQID8RqtlhAQ2p8t9wmX0A6/k2tM6tiQDOsHJcapGVA8QuQWbh/aEBQ6g01oj9rQDQU/Glt5W1APCtgnFc5cEAEP+BwfnRxQN0rsdL1pHJAOdgFYojLc0CLKhG/AOl0QEAJBoop/nVAyFoXY80Ld0CXBXjqthJ4QBnwWsCwE3lAwgDzhIUPekD/HXPY/wZ7QEYuDlvq+ntAARj3rA/sfEClwWBuOtt9QKARfj81yX5AYu6BwMq2f0Atn8/IYlKAQP9zhCn4yYBA3eh40opCgUAAccYTgLyBQJ5/hj09OIJA84fSnye2gkA0/cOKpDaDQJxSdE4ZuoNAYPv8OutAhEC6anegf8uEQOIT/c47WoVAEGqnFoXthUB+4I/HwIWGQGDqzzFUI4dA8vqApaTGh0BshbxyF3CIQAT9m+kRIIlA89Q4WvnWiUBwgKwUM5WKQLdyEGkkW4tA/R5+pzIpjEB7+A4gw/+MQGly3CI7341AAAAAAADIjkAAAAAAAMiOQAAAAAAAyI5AAAAAAADIjkBqctwiO9+NQHv4DiDD/4xA/h5+pzIpjEC4chBpJFuLQHKArBQzlYpA89Q4WvnWiUAF/ZvpESCJQG2FvHIXcIhA9PqApaTGh0Bh6s8xVCOHQH7gj8fAhYZAEGqnFoXthUDiE/3OO1qFQLtqd6B/y4RAYfv8OutAhECdUnROGbqDQDX9w4qkNoNA84fSnye2gkCff4Y9PTiCQP9wxhOAvIFA3eh40opCgUAAdIQp+MmAQC6fz8hiUoBAY+6BwMq2f0CfEX4/Ncl+QKXBYG46231AAxj3rA/sfEBGLg5b6vp7QAEec9j/BntAxADzhIUPekAb8FrAsBN5QJcFeOq2EnhAyVoXY80Ld0A/CQaKKf51QI0qEb8A6XRAPNgFYojLc0DfK7HS9aRyQAU/4HB+dHFAQCtgnFc5cEA3FPxpbeVtQFPqDTWiP2tA8guQWbh/aEA1rByXGqRlQD/+Ta0zq2JATGp8t9wmX0AaCA/EarZYQCk8iP/mAVJAbNk40k0MRkAAAAAAAAAuQA==\"},\"shape\":[104],\"dtype\":\"float64\",\"order\":\"little\"},{\"type\":\"ndarray\",\"array\":{\"type\":\"bytes\",\"data\":\"AAAAAAAALkAAAAAAAAAuQAAAAAAAAC5AaNk40k0MRkAkPIj/5gFSQBQID8RqtlhAQ2p8t9wmX0A6/k2tM6tiQDOsHJcapGVA8QuQWbh/aEBQ6g01oj9rQDQU/Glt5W1APCtgnFc5cEAEP+BwfnRxQN0rsdL1pHJAOdgFYojLc0CLKhG/AOl0QEAJBoop/nVAyFoXY80Ld0CXBXjqthJ4QBnwWsCwE3lAwgDzhIUPekD/HXPY/wZ7QEYuDlvq+ntAARj3rA/sfEClwWBuOtt9QKARfj81yX5AYu6BwMq2f0Atn8/IYlKAQP9zhCn4yYBA3eh40opCgUAAccYTgLyBQJ5/hj09OIJA84fSnye2gkA0/cOKpDaDQJxSdE4ZuoNAYPv8OutAhEC6anegf8uEQOIT/c47WoVAEGqnFoXthUB+4I/HwIWGQGDqzzFUI4dA8vqApaTGh0BshbxyF3CIQAT9m+kRIIlA89Q4WvnWiUBwgKwUM5WKQLdyEGkkW4tA/R5+pzIpjEB7+A4gw/+MQGly3CI7341AAAAAAADIjkAAAAAAAMiOQAAAAAAAyI5AAAAAAADIjkBqctwiO9+NQHv4DiDD/4xA/h5+pzIpjEC4chBpJFuLQHKArBQzlYpA89Q4WvnWiUAF/ZvpESCJQG2FvHIXcIhA9PqApaTGh0Bh6s8xVCOHQH7gj8fAhYZAEGqnFoXthUDiE/3OO1qFQLtqd6B/y4RAYfv8OutAhECdUnROGbqDQDX9w4qkNoNA84fSnye2gkCff4Y9PTiCQP9wxhOAvIFA3eh40opCgUAAdIQp+MmAQC6fz8hiUoBAY+6BwMq2f0CfEX4/Ncl+QKXBYG46231AAxj3rA/sfEBGLg5b6vp7QAEec9j/BntAxADzhIUPekAb8FrAsBN5QJcFeOq2EnhAyVoXY80Ld0A/CQaKKf51QI0qEb8A6XRAPNgFYojLc0DfK7HS9aRyQAU/4HB+dHFAQCtgnFc5cEA3FPxpbeVtQFPqDTWiP2tA8guQWbh/aEA1rByXGqRlQD/+Ta0zq2JATGp8t9wmX0AaCA/EarZYQCk8iP/mAVJAbNk40k0MRkAAAAAAAAAuQA==\"},\"shape\":[104],\"dtype\":\"float64\",\"order\":\"little\"},{\"type\":\"ndarray\",\"array\":{\"type\":\"bytes\",\"data\":\"AAAAAAAALkAAAAAAAAAuQAAAAAAAAC5AaNk40k0MRkAkPIj/5gFSQBQID8RqtlhAQ2p8t9wmX0A6/k2tM6tiQDOsHJcapGVA8QuQWbh/aEBQ6g01oj9rQDQU/Glt5W1APCtgnFc5cEAEP+BwfnRxQN0rsdL1pHJAOdgFYojLc0CLKhG/AOl0QEAJBoop/nVAyFoXY80Ld0CXBXjqthJ4QBnwWsCwE3lAwgDzhIUPekD/HXPY/wZ7QEYuDlvq+ntAARj3rA/sfEClwWBuOtt9QKARfj81yX5AYu6BwMq2f0Atn8/IYlKAQP9zhCn4yYBA3eh40opCgUAAccYTgLyBQJ5/hj09OIJA84fSnye2gkA0/cOKpDaDQJxSdE4ZuoNAYPv8OutAhEC6anegf8uEQOIT/c47WoVAEGqnFoXthUB+4I/HwIWGQGDqzzFUI4dA8vqApaTGh0BshbxyF3CIQAT9m+kRIIlA89Q4WvnWiUBwgKwUM5WKQLdyEGkkW4tA/R5+pzIpjEB7+A4gw/+MQGly3CI7341AAAAAAADIjkAAAAAAAMiOQAAAAAAAyI5AAAAAAADIjkBqctwiO9+NQHv4DiDD/4xA/h5+pzIpjEC4chBpJFuLQHKArBQzlYpA89Q4WvnWiUAF/ZvpESCJQG2FvHIXcIhA9PqApaTGh0Bh6s8xVCOHQH7gj8fAhYZAEGqnFoXthUDiE/3OO1qFQLtqd6B/y4RAYfv8OutAhECdUnROGbqDQDX9w4qkNoNA84fSnye2gkCff4Y9PTiCQP9wxhOAvIFA3eh40opCgUAAdIQp+MmAQC6fz8hiUoBAY+6BwMq2f0CfEX4/Ncl+QKXBYG46231AAxj3rA/sfEBGLg5b6vp7QAEec9j/BntAxADzhIUPekAb8FrAsBN5QJcFeOq2EnhAyVoXY80Ld0A/CQaKKf51QI0qEb8A6XRAPNgFYojLc0DfK7HS9aRyQAU/4HB+dHFAQCtgnFc5cEA3FPxpbeVtQFPqDTWiP2tA8guQWbh/aEA1rByXGqRlQD/+Ta0zq2JATGp8t9wmX0AaCA/EarZYQCk8iP/mAVJAbNk40k0MRkAAAAAAAAAuQA==\"},\"shape\":[104],\"dtype\":\"float64\",\"order\":\"little\"},{\"type\":\"ndarray\",\"array\":{\"type\":\"bytes\",\"data\":\"AAAAAAAALkAAAAAAAAAuQAAAAAAAAC5AaNk40k0MRkAkPIj/5gFSQBQID8RqtlhAQ2p8t9wmX0A6/k2tM6tiQDOsHJcapGVA8QuQWbh/aEBQ6g01oj9rQDQU/Glt5W1APCtgnFc5cEAEP+BwfnRxQN0rsdL1pHJAOdgFYojLc0CLKhG/AOl0QEAJBoop/nVAyFoXY80Ld0CXBXjqthJ4QBnwWsCwE3lAwgDzhIUPekD/HXPY/wZ7QEYuDlvq+ntAARj3rA/sfEClwWBuOtt9QKARfj81yX5AYu6BwMq2f0Atn8/IYlKAQP9zhCn4yYBA3eh40opCgUAAccYTgLyBQJ5/hj09OIJA84fSnye2gkA0/cOKpDaDQJxSdE4ZuoNAYPv8OutAhEC6anegf8uEQOIT/c47WoVAEGqnFoXthUB+4I/HwIWGQGDqzzFUI4dA8vqApaTGh0BshbxyF3CIQAT9m+kRIIlA89Q4WvnWiUBwgKwUM5WKQLdyEGkkW4tA/R5+pzIpjEB7+A4gw/+MQGly3CI7341AAAAAAADIjkAAAAAAAMiOQAAAAAAAyI5AAAAAAADIjkBqctwiO9+NQHv4DiDD/4xA/h5+pzIpjEC4chBpJFuLQHKArBQzlYpA89Q4WvnWiUAF/ZvpESCJQG2FvHIXcIhA9PqApaTGh0Bh6s8xVCOHQH7gj8fAhYZAEGqnFoXthUDiE/3OO1qFQLtqd6B/y4RAYfv8OutAhECdUnROGbqDQDX9w4qkNoNA84fSnye2gkCff4Y9PTiCQP9wxhOAvIFA3eh40opCgUAAdIQp+MmAQC6fz8hiUoBAY+6BwMq2f0CfEX4/Ncl+QKXBYG46231AAxj3rA/sfEBGLg5b6vp7QAEec9j/BntAxADzhIUPekAb8FrAsBN5QJcFeOq2EnhAyVoXY80Ld0A/CQaKKf51QI0qEb8A6XRAPNgFYojLc0DfK7HS9aRyQAU/4HB+dHFAQCtgnFc5cEA3FPxpbeVtQFPqDTWiP2tA8guQWbh/aEA1rByXGqRlQD/+Ta0zq2JATGp8t9wmX0AaCA/EarZYQCk8iP/mAVJAbNk40k0MRkAAAAAAAAAuQA==\"},\"shape\":[104],\"dtype\":\"float64\",\"order\":\"little\"}]],[\"ys\",[{\"type\":\"ndarray\",\"array\":{\"type\":\"bytes\",\"data\":\"KScKMptqRUAAAAAAAAAAAAAAAAAAAAAAAAAAAAAAAAAAAAAAAAAAAAAAAAAAAAAAAAAAAAAAAAAAAAAAAAAAAAAAAAAAAAAAAAAAAAAAAAAAAAAAAAAAAAAAAAAAAAAAAAAAAAAAAAAAAAAAAAAAAAAAAAAAAAAAAAAAAAAAAAAAAAAAAAAAAAAAAAAAAAAAAAAAAAAAAAAAAAAAAAAAAAAAAAAAAAAAAAAAAAAAAAAAAAAAAAAAAAAAAAAAAAAAAAAAAAAAAAAAAAAAAAAAAAAAAAAAAAAAAAAAAAAAAAAAAAAAAAAAAAAAAAAAAAAAAAAAAAAAAAAAAAAAAAAAAAAAAAAAAAAAAAAAAAAAAAAAAAAAAAAAAAAAAAAAAAAAAAAAAAAAAAAAAAAAAAAAAAAAAAAAAAAAAAAAAAAAAAAAAAAAAAAAAAAAAAAAAAAAAAAAAAAAAAAAAAAAAAAAAAAAAAAAAAAAAAAAAAAAAAAAAAAAAAAAAAAAAAAAAAAAAAAAAAAAAAAAAAAAAAAAAAAAAAAAAAAAAAAAAAAAAAAAAAAAAAAAACknCjKbakVAKScKMptqRUAoJwoym2pFQCgnCjKbakVAKScKMptqRUApJwoym2pFQCknCjKbakVAKCcKMptqRUAqJwoym2pFQConCjKbakVAKicKMptqRUAoJwoym2pFQCcnCjKbakVAKCcKMptqRUApJwoym2pFQCknCjKbakVAKicKMptqRUAqJwoym2pFQConCjKbakVAKScKMptqRUApJwoym2pFQCknCjKbakVAKScKMptqRUApJwoym2pFQCknCjKbakVAKCcKMptqRUApJwoym2pFQCgnCjKbakVAKScKMptqRUApJwoym2pFQCgnCjKbakVAKScKMptqRUApJwoym2pFQCknCjKbakVAKScKMptqRUApJwoym2pFQConCjKbakVAKScKMptqRUAqJwoym2pFQCgnCjKbakVAKScKMptqRUApJwoym2pFQCknCjKbakVAKScKMptqRUAoJwoym2pFQCgnCjKbakVAKScKMptqRUApJwoym2pFQCknCjKbakVAKScKMptqRUApJwoym2pFQA==\"},\"shape\":[104],\"dtype\":\"float64\",\"order\":\"little\"},{\"type\":\"ndarray\",\"array\":{\"type\":\"bytes\",\"data\":\"WCESR17+X0CKXd9MVuldQIpd30xW6V1AJ0IFOEfjXUD/KSeNb9FdQBlszalPtF1AcV+A62eMXUAQW8ivOFpdQPW1LVRCHl1AKsc4NgXZXECn5XGzAYtcQHVoYSm4NFxAlqaP9ajWW0AN94R1VHFbQN+wyQY7BVtADCvmBt2SWkCXvGLTuhpaQIa8x8lUnVlA1oGdRysbWUCPY2yqvpRYQLK4vE+PClhAQ9gWlR19V0BDGQPY6exWQLfSCXZ0WlZAoluzzD3GVUAEC4g5xjBVQOE3EBqOmlRAPTnUyxUEVEAcZlys3W1TQH4VMRlm2FJAaJ7aby9EUkDbV+ENurFRQN2YzVCGIVFAbbgnlhSUUECQDXg75QlQQJHejTzxBk9ANGk5OJ4CTkAQaQMl0gdNQCaM/L2NF0xAgIA1vtEyS0Ag9L7gnlpKQBGVqeD1j0lAVBEGedfTSEDxFuVkRCdIQO5TV189i0dATnZtI8MAR0AcLDhs1ohGQFkjyPR3JEZADQoueKjURUA8jnqxaJpFQO9dvlu5dkVAKScKMptqRUApJwoym2pFQMeubyarlElAx65vJquUSUCN5SNQyaBJQNoV4KV4xElArJGTbLj+SUD3qi3ph05KQLiznWDmskpA6/3SF9MqS0CN27xTTbVLQI+eSllUUUxA8phrbef9TECsHA/VBbpNQLx7JNWuhE5AGgibsuFcT0DhCTHZziBQQFZ4tAzxmFBAaXhPFlcWUUAYs3mYgJhRQF7RqjXtHlJAO3xakBypUkCqXABLjjZTQKgbFAjCxlNANmINajdZVEBM2WMTbu1UQOkpj6blglVADP0Gxh0ZVkCw+0IUlq9WQNHOujPORVdAbx/mxkXbV0CGljxwfG9YQBLdNdLxAVlAEJxJjyWSWUCBfO9Jlx9aQFwnn6TGqVpApEXQQTMwW0BSgPrDXLJbQGSAlc3CL1xA2u4YAeWnXECtdPwAQxpdQNy6t29chl1AZGrC77DrXUBCLJQjwEleQHSppK0JoF5A9oprMA3uXkDFeWBOSjNfQN4e+6lAb19AQCOz5W+hX0DnLwCkV8lfQM7tWYd35l9A9AU4Mk/4X0BYIRJHXv5fQA==\"},\"shape\":[104],\"dtype\":\"float64\",\"order\":\"little\"},{\"type\":\"ndarray\",\"array\":{\"type\":\"bytes\",\"data\":\"P6AD2xJmb0AZVAxPcyFtQBlUDE9zIW1AC2Bd7EYabUCpJa0VJwVtQJuXBsWr4mxAhKh09GyzbEAOSwKeAnhsQN5xursEMWxAoA+oRwvfa0D1FtY7roJrQIV6T5KFHGtA9ywfRSmtakD1IFBOMTVqQCRJ7ac1tWlALZgBTM4taUC1AJg0k59oQGR1u1scC2hA3uh2uwFxZ0DMTdVN29FmQNeW4QxBLmZApLam8sqGZUDany/5ENxkQCBFhxqrLmRAIJm4UDF/Y0B8js6VO85iQN4X1ONhHGJA7CfUNDxqYUBPsdmCYrhgQKym78dsB2BAVPVB/OWvXkDiP/E+GlVdQFASA0ym/1tA6VGNF7qwWkD846WVhWlZQNutYro4K1hA0JTZeQP3VkAufiDIFc5VQDtPTZmfsVRASu114dCiU0CpPbCU2aJSQKYlEqfpslFAjoqxDDHUUECvUaS53wdQQLDAAERLnk5ArDe3c2VWTUDx0pfqbTpMQBhdzpDETEtAvqCGTsmPSkCAaOwL3AVKQPl+K7FcsUlAxq5vJquUSUDGrm8mq5RJQK5vJquUU1FArm8mq5RTUUDIV4Rw7WFRQIrM5B0tjFFAqugxvyPRUUDXxlVgoS9SQMOBOg12plJAIDTK0XE0U0Cj+O65ZNhTQPvpktEekVRA2SKgJHBdVUDvvQC/KDxWQPPVnqwYLFdAlIVk+Q8sWECE5zux3jpZQHcWD+BUV1pAGy3IkUKAW0AmRlHSd7RcQEh8lK3E8l1AMup7L/k5X0BN1fixckRgQBXsb6ss72BAz0YYipKcYUDQ8uZTDExiQHP90A4C/WJAE3TLwNuuY0AEZMtvAWFkQKHaxSHbEmVAROWv3NDDZUBHkX6mSnNmQADsJoWwIGdAyAKefmrLZ0D84tiY4HJoQPKZzNl6FmlAAjVuR6G1aUCIwbLnu09qQNpMj8Ay5GpAU+T4121ya0BLleQz1flrQBxtR9rQeWxAHnkW0cjxbECqxkYeJWFtQBljzcdNx21AxFuf06ojbkAFvrFHpHVuQDSX+SmivG5Aq/RrgAz4bkDB4/1QSydvQNFxpKHGSW9AMqxUeOZeb0A/oAPbEmZvQA==\"},\"shape\":[104],\"dtype\":\"float64\",\"order\":\"little\"},{\"type\":\"ndarray\",\"array\":{\"type\":\"bytes\",\"data\":\"bccNDa6QekBL94ufpH16QEv3i5+kfXpAgfP+W+p2ekAE+tWWGmN6QKAlTtjDQnpAHJGkqHQWekBHVxaQu955QOyS4BYnnHlA3V5AxUVPeUDa1XIjpvh4QLYStbnWmHhAOzBEEGYweEA2SV2v4r93QHN4PR/bR3dAvdgh6N3IdkDghEeSeUN2QKmX66U8uHVA3itLq7UndUBRXKMqc5J0QMxDMawD+XNAGv0xuPVbc0AIo+LW17tyQF5QgJA4GXJA8B9IbaZ0cUCCLHf1r85wQOKQSrHjJ3BAuc/+UaABb0B6mKXJB7RtQJ2xA9oaaGxAvVCTk/Yea0Buq84GuNlpQEr3L0R8mWhA5mkxXGBfZ0DbOE1fgSxmQMGZ/V38AWVALsK8aO7gY0C+5wSQdMpiQAJAUOSrv2FAlQAZdrHBYEAcvrKrRKNfQAwiFyg34V1AJJhTgnQ/XECWi1zbNsBaQJBnJlS4ZVlAQpelDTMyWEDchc4o4SdXQIqelcb8SFZAfkzvB8CXVUDk+s8NZRZVQO8ULPklx1RAzAX46jysVEDMBfjqPKxUQFhG/6Bi+FRAWEb/oGL4VEB6VTOvSxNVQHA718OKYlVACY32veXjVUAV35x8IpVWQGbG1d4GdFdAzNesw1h+WEAdqC0K3rFZQCHMY5FcDFtAr9haOJqLXECTYh7eXC1eQKX+uWFq719A2aAcUcTnYEBG4FO/vuVhQAGICGuH8GJAc2LAQwEHZEAGOgE5DyhlQCHZUDqUUmZAKgo1N3OFZ0COlzMfj79oQLFL0uHK/2lAAPGWbglFa0DhUQe1LY5sQL04qaQa2m1A/W8CLbMnb0AEYcwe7TpwQKP8+GK54XBAEvDJ2q+HcUCCIAL+QSxyQCpzZEThznJAO82zJf9uc0DuE7MZDQx0QHIsJZh8pXRAAPzMGL86dUDJZ20TRst1QAJVyf+CVnZA4KijVefbdkCWSL+M5Fp3QFkZ3xzs0ndAXQDGfW9DeEDX4jYn4Kt4QPql9JCvC3lA/C7CMk9ieUAQY2KEMK95QGknmP3E8XlAPmEmFn4pekDA9c9FzVV6QCfKVwQkdnpApMOAyfOJekBtxw0NrpB6QA==\"},\"shape\":[104],\"dtype\":\"float64\",\"order\":\"little\"},{\"type\":\"ndarray\",\"array\":{\"type\":\"bytes\",\"data\":\"D2xLmO5HdUCHBleIxHF0QIcGV4jEcXRA+p8DE69sdEB4bgOBtl10QDB1TYdGRXRAU7fY2sojdEAPOJwwr/lzQJn6jj1fx3NAHwKotkaNc0DPUd5Q0UtzQN/sKMFqA3NAfdZ+vH60ckDaEdf3eF9yQCaiKCjFBHJAkopqAs+kcUBRzpM7AkBxQJFwm4jK1nBAgHR4npNpcECmukNkkvFvQHRcHfGtCW9AyNRrTVEcbkAGKh3jUyptQI5iHxyNNGxAxIRgYtQ7a0AFl84fAUFqQLSfV77qRGlAMqXpp2hIaEDhrXJGUkxnQCPA4AN/UWZAWOIhSsZYZUDfGiSD/2JkQB5w1RgCcWNAc+gjdaWDYkA/iv0BwZthQOZbUCksumBAjscUqny/X0CMUDPenRpeQH9f2MJqh1xAMgHgK5IHW0BiQibtwpxZQNgvh9qrSFhAT9bex/sMV0COQgmJYetVQFaB4vGL5VRAaZ9G1in9U0CNqREK6jNTQIGsH2F7i1JACbVMr4wFUkDmz3TIzKNRQNwJdIDqZ1FArm8mq5RTUUCubyarlFNRQMwF+Oo8rFRAzAX46jysVED6n0XAksBUQANmRgh1/FRAJ0se7zReVUCeQvGgI+RVQKo/40mSjFZAhzUYFtJVV0B0F7QxND5YQKrY2sgJRFlAa2ywB6RlWkDxxVgaVKFbQH/Y9yxr9VxATpexazpgXkCb9akCE+BfQFRzAg+juWBA1i7zdBKMYUD2JjlJgGZiQE9V5iEVSGNAgbMMlfkvZEAsO744Vh1lQO3lDKNTD2ZAZa0KahoFZ0Axi8kj0/1nQO94W2am+GhAQXDSx7z0aUDEakDePvFqQBJitz9V7WtA009JgijobECfLQg84eBtQBb1BQOo1m5A1p9UbaXIb0DBE4MIAVtwQNpCFkLzznBAB9psrr0/cUAX1o+Y9KxxQNgziEssFnJAGvBeEvl6ckCuBx0479pyQGJ3ywejNXNABTxzzKiKc0BnUh3RlNlzQFe30mD7IXRApmecxnBjdEAgYINNiZ10QJedkEDZz3RA2hzN6vT5dEC42kGXcBt1QAHU95DgM3VAgwX4ItlCdUAPbEuY7kd1QA==\"},\"shape\":[104],\"dtype\":\"float64\",\"order\":\"little\"},{\"type\":\"ndarray\",\"array\":{\"type\":\"bytes\",\"data\":\"x65vJquUSUApJwoym2pFQCknCjKbakVA0X8Orjx0RUDH50MbmZBFQALsZm/kvkVAdRk0oFL+RUAd/WejF05GQO0jv25nrUZA4Br293UbR0Dqbsk0d5dHQASt9RqfIEhAI2I3oCG2SEBBG0u6MldJQFVl7V4GA0pAV83ag9C4SkA94M8exXdLQP0qiSUYP0xAjzrDjf0NTUDumzpNqeNNQArcq1lPv05A4YfTqCOgT0AzFjcYrUJQQEsrHHMTt1BAsUn3394sUUDit6ZZqaNRQFq8CNsMG1JAlJ37XqOSUkAKol3gBgpTQDwQDVrRgFNAoi7oxpz2U0C5Q80hA2tUQPyVmmWe3VRA6GsujQhOVUD3C2eT27tVQKa8InOxJlZAb8Q/JySOVkDQaZyqzfFWQELzFvhHUVdAQqeNCi2sV0BMzN7cFgJYQNyo6GmfUlhAbIOJrGCdWEB4op+f9OFYQH5MCT71H1lA98ekgvxWWUBeW1BopIZZQDJN6umGrllA7eNQAj7OWUAKZmKsY+VZQAUa/eKR81lAWUb/oGL4WUBZRv+gYvhZQCcKMptqDVxAJwoym2oNXEDS3S/dmQhcQNYplaZr+ltAvKeD/EXjW0ABER3kjsNbQC0fg2Ksm1tAxIvXfARsW0BOEDw4/TRbQElm0pn89lpAO0e8pmiyWkCpbBtkp2daQBqQEdceF1pAEGvABDXBWUAQt0nyT2ZZQJ8tz6TVBllAQIhyISyjWEB1gFVtuTtYQMfPmY3j0FdAti9hhxBjV0DLWc1fpvJWQIcHABwLgFZAb/IawaQLVkAK1D9U2ZVVQNplkNoOH1VAYmEuWaunVEAogDvVFDBUQLB72VOxuFNAgA0q2uZBU0Aa705tG8xSQAPaaRK1V1JAwIeczhnlUUDUsQinr3RRQMUR0KDcBlFAFmEUwQacUEBNWfcMlDRQQNpnNRPVoU9A9VRAeODiTkD27FJTFi1OQOCisK5CgU1AwumclDHgTECiNFsPr0pMQIj2LimHwUtAfqJb7IVFS0CLqyRjd9dKQLuEzZcneEpAFaGZlGIoSkCgc8xj9OhJQGZvqQ+puklAcAd0okyeSUDHrm8mq5RJQA==\"},\"shape\":[104],\"dtype\":\"float64\",\"order\":\"little\"},{\"type\":\"ndarray\",\"array\":{\"type\":\"bytes\",\"data\":\"DiqGp7kgZUBYIRJHXv5fQFghEkde/l9ASTI68B/9X0AczvZ7dvlfQFOSrkJ8819AZxzInEvrX0DZCari/uBfQCb4umyw1F9A1IRhk3rGX0BVTQSvd7ZfQDDvCRjCpF9A4QfZJnSRX0DnNNgzqHxfQMITbpd4Zl9A8UEBqv9OX0DvXPjDVzZfQD0Cuj2bHF9AWM+sb+QBX0C/YTeyTeZeQPFWwF3xyV5AbUyuyumsXkCw32dRUY9eQDuuU0pCcV5Ai1XYDddSXkAfc1z0KTReQHWkRlZVFV5ACof9i3P2XUBhuOftntddQPTVa9TxuF1ARX3wl4aaXUDOS9yQd3xdQBPflRffXl1Aj9SDhNdBXUDAyQwweyVdQChcl3LkCV1ARCmKpC3vXECSzksecdVcQI/pQjjJvFxAvBfWSlClXECW9muuII9cQJ4ja7tUelxAUDw6ygZnXEAr3j8zUVVcQLCm4k5ORVxAWDOJdRg3XECnIZr/ySpcQBoPfEV9IFxALZmVn0wYXEBiXU1mUhJcQDb5CfKoDlxAKAoym2oNXEAoCjKbag1cQHYeltE/KGNAdh6W0T8oY0D9FQL93ihjQBPII7ezKmNA+eXH07AtY0DvILsmyTFjQDYqyoPvNmNADbPBvhY9Y0C7bG6rMURjQHgInR0zTGNAizca6Q1VY0Axq7LhtF5jQK0UM9saaWNAPyVoqTJ0Y0Apjh4g739jQKoAIxNDjGNABC5CViGZY0B4x0i9fKZjQER+AxxItGNAqAM/RnbCY0DsCMgP+tBjQEg/a0zG32NAA1j1z83uY0BcBDNuA/5jQJL18PpZDWRA59z7ScQcZECcayAvNSxkQPFSK36fO2RAKETpCvZKZECB8CapK1pkQDoJsSwzaWRAmT9Uaf93ZEDbRN0yg4ZkQELKGF2xlGRADoHTu3yiZECAGtoi2K9kQNpH+WW2vGRAW7r9WArJZEBEI7TPxtRkQNcz6Z3e32RAU51pl0TqZED6EAKQ6/NkQAxAf1vG/GRAy9utzccEZUB2lVq64gtlQE4eUvUJEmVAlSdhUjAXZUCLYlSlSBtlQHGA+MFFHmVAhjIafBogZUAOKoanuSBlQA==\"},\"shape\":[104],\"dtype\":\"float64\",\"order\":\"little\"},{\"type\":\"ndarray\",\"array\":{\"type\":\"bytes\",\"data\":\"AplNtcYucEA/oAPbEmZvQD+gA9sSZm9AG19rFjZib0BPTCFW1lZvQMpwY25FRG9Ab9VvM9Uqb0Ayg4R51wpvQPuC3xSe5G5Au92+2Xq4bkBWnGCcv4ZuQL3HAjG+T25A2Gjja8gTbkCZiEAhMNNtQOgvWCVHjm1As2doTF9FbUDlOK9qyvhsQGqsalTaqGxALMvY3eBVbEAanjfbLwBsQBsuxSAZqGtAIIS/gu5Na0AUqWTVAfJqQOKl8uyklGpAeIOnnSk2akC+SsG74dZpQKMEfhsfd2lAErobkTMXaUD3c9jwcLdoQD078g4pWGhA0xinv635Z0ChFTXXUJxnQJU62ilkQGdAmpDUiznmZkCdIGLRIo5mQIvzwM5xOGZATBIvWHjlZUDQhepBiJVlQAJXMWDzSGVAzI5BhwsAZUAcNlmLIrtkQNxVtkCKemRA+vaWe5Q+ZEBgIjkQkwdkQP3g2tLX1WNAuTu6l7SpY0CCOxUze4NjQEbpKXl9Y2NA7U02Pg1KY0BkcnhWfDdjQJlfLpYcLGNAdh6W0T8oY0B2HpbRPyhjQDqwLWG6H2RAOrAtYbofZEBc8cUllyNkQCgEEOb2LmRAsN/NzYdBZEAJe8EI+FpkQEbNrML1emRAfM1RJy+hZEDCcnJiUs1kQCW00J8N/2RAvoguCw82ZUCf503QBHJlQN3H8BqdsmVAjyDZFob3ZUDE6MjvbUBmQJQXgtECjWZAEaTG5/LcZkBPhVhe7C9nQGKy+WCdhWdAXSJsG7TdZ0BYzHG53jdoQGKnzGbLk2hAlao+TyjxaEABzYmeo09pQLoFcIDrrmlA10uzIK4OakBolhWrmW5qQILcWEtczmpAPBU/LaQta0CoN4p8H4xrQNk6/GR86WtA5RVXEmlFbEDgv1ywk59sQNwvz2qq92xA8FxwbVtNbUAuPgLkVKBtQKrKRvpE8G1AePn/29k8bkCuwe+0wYVuQF4a2LCqym5Anvp6+0ILb0CAWZrAOEdvQBou+Cs6fm9Afm9WafWvb0DAFHekGNxvQHsKjgQpAXBAmrOD4ScRcEBHgf3+3x1wQAtv3HIoJ3BAcHgBU9gscEACmU21xi5wQA==\"},\"shape\":[104],\"dtype\":\"float64\",\"order\":\"little\"},{\"type\":\"ndarray\",\"array\":{\"type\":\"bytes\",\"data\":\"jrx81Lste0Buxw0NrpB6QG7HDQ2ukHpAZ4Z2na2LekCVZ77z8nx6QFrheQfoZHpAD2o90PZDekAZeJ1FiRp6QNeBLl8J6XlAqf2EFOGveUDsYTVdem95QAQl1DA/KHlATb31hpnaeEAooS5X84Z4QPdGE5m2LXhAGSU4RE3Pd0DrsTFQIWx3QNJjlLScBHdAKbH0aCmZdkBREOdkMSp2QKr3/58euHVAld3TEVtDdUBwOPexUMx0QJ5+/ndpU3RAfCZ+Ww/Zc0BppgpUrF1zQMZ0OFmq4XJA9AecYnNlckBT1slncelxQEFWVmAObnFAH/7VQ7TzcEBLRN0JzXpwQCefAKrCA3BAJAqpN/4db0DW2Nqt2DluQCeXv6XoW21A1DGADgKFbECglUXX+LVrQEavOO+g72pAiGuCRc4yakAkt0vJVIBpQN5+vWkI2WhAcq8AFr09aECgNT69Rq9nQCj+nk55LmdAyfVLuSi8ZkBECW7sKFlmQFklLtdNBmZAxTa1aGvEZUBKKiyQVZRlQKbsuzzgdmVAm2qNXd9sZUCbao1d32xlQNlUa+z6pmZA2VRr7PqmZkDk1pnL+7BmQIgUCh9xzmZABCGT94b+ZkCWDwxmaUBnQILzS3tEk2dAB+ApSET2Z0Bn6HzdlGhoQN4fHExi6WhAsJnepNh3aUAaaZv4IxNqQGKhKVhwumpAxFVg1Olsa0CCmRZ+vClsQN1/I2YU8GxAEhxenR2/bUBmgZ00BJZuQBbDuDz0c29AMHpD4wwscEBFlG9x0KBwQGk5TNHaF3FAPPNEC8KQcUBgS8UnHAtyQHLLOC9/hnJAFP0KKoECc0DmaacguH5zQIibeRu6+nNAmhvtIh12dEC+c20/d/B0QJEtZnleaXVAtNJC2WjgdUDK7G5nLFV2QHAFViw/x3ZASKZjMDc2d0DxWAN8qqF3QAynoBcvCXhAOBqnC1tseEAYPIJgxMp4QEmWnR4BJHlAbLJkTqd3eUAjGkP4TMV5QAxXpCSIDHpAyPLz2+5MekD3dp0mF4Z6QDltDA2Xt3pAMF+slwThekB51ujO9QF7QLZcLbsAGntAiHvlZLsoe0COvHzUuy17QA==\"},\"shape\":[104],\"dtype\":\"float64\",\"order\":\"little\"},{\"type\":\"ndarray\",\"array\":{\"type\":\"bytes\",\"data\":\"P0l7FoHudUAPbEuY7kd1QA9sS5juR3VA5+I6amREdUD29Avf9zl1QImmQvXzKHVA4/tiq6MRdUBU+fD/UfR0QCOjcPFJ0XRAnv1lftaodEAJDVWlQnt0QLHVwWTZSHRA3lswu+URdEDdoySnstZzQPaxIieLl3NAc4quObpUc0CfMUzdig5zQMKrfxBIxXJAKf3M0Tx5ckAZKrgftCpyQOA2xfj42XFAxyd4W1aHcUAVAVVGFzNxQBnH37eG3XBAG36cru+GcEBjKg8pnS9wQHmgd0u0r29A4OdMRuP/bkCTM6Y/XVBuQCOMizS4oW1AJfoEIor0bEAshhoFaUlsQMw41NrqoGtAmho6oKX7akAnNFRSL1pqQAmOKu4dvWlA0zDFcAclaUAbJSzXgZJoQHFzZx4jBmhAbCR/Q4GAZ0CeQHtDMgJnQJzQYxvMi2ZA+dxAyOQdZkBIbhpHErllQB+N+JTqXWVAD0LjrgMNZUCvleKR88ZkQJGQ/jpQjGRASDs/p69dZEBrnqzTpztkQInCTr3OJmRAOrAtYbofZEA6sC1huh9kQJxqjV3fbGVAnGqNXd9sZUDqfK6583NlQMpYDNDMiGVAq/Weo9SqZUDzSl43ddllQBBQQo4YFGZAcfxCqyhaZkCBR1iRD6tmQKooekM3BmdAW5egxAlrZ0D8isMX8dhnQP762j9XT2hAzd7eP6bNaEDRLccaSFNpQHzfi9Om32lANeskbSxyakBrSIrqQgprQInus05Up2tA+dSZnMpIbEAt8zPXD+5sQItAegGOlm1AhbRkHq9BbkCERusw3e5uQPTtBTyCnW9AIVFWIYQmcEBsreujbH5wQJIHP6cv1nBAS1vMLIItcUBKpA82GYRxQEbehMSp2XFA9gSo2egtckAQFPV2i4ByQEgH6J1G0XJAWNr8T88fc0DyiK+O2mtzQM8OfFsdtXNApGfet0z7c0Amj1KlHT50QA2BVCVFfXRADjlgOXi4dEDgsvHia+90QDjqhCPVIXVAzdqV/GhPdUBUgKBv3Hd1QITWIH7kmnVAE9mSKTa4dUC4g3Jzhs91QCfSO12K4HVAGMBq6PbqdUA/SXsWge51QA==\"},\"shape\":[104],\"dtype\":\"float64\",\"order\":\"little\"},{\"type\":\"ndarray\",\"array\":{\"type\":\"bytes\",\"data\":\"XICvzsOyUUDGrm8mq5RJQMaubyarlElA4dGEUlesSUB2+w58DfJJQPBL/hrYY0pAs+NCp8H/SkAp48yY1MNLQLhqjGcbrkxAyppxi6C8TUDFk2x8bu1OQAi7NtlHH1BACDGyUgfXUEAbvKDm+pxRQHJs+tAncFJAP1K3TZNPU0C6fc+YQjpUQBP/Ou46L1VAgObxiYEtVkA1ROynGzRXQGQoIoQOQlhAQqOLWl9WWUABxSBnE3BaQNud2eUvjltA/T2uErqvXECdtZYpt9NdQPEUi2Ys+V5AFLbBgo8PYEC+5TshSqJgQI4hsKxINGFAoHEaww3FYUAM3nYCHFRiQOxuwQj24GJAXCz2cx5rY0ByHhHiF/JjQE1NDvFkdWRABMHpPoj0ZECwgZ9pBG9lQG2XKw9c5GVAVAqKzRFUZkCA4rZCqL1mQAgorgyiIGdACuNryYF8Z0CcG+wWytBnQNzZKpP9HGhA3yUk3J5gaEDDB9SPMJtoQKCHNkw1zGhAkq1Hry/zaECwgQNXog9pQBUMZuEPIWlA3FRr7PomaUDcVGvs+iZpQFgpJwoym2tAWCknCjKba0CR4CH/RpVrQCtWv3TZg2tAD4IDzWZna0AeXPJpbEBrQD/cj61nD2tAWvrf+dXUakBYruawNJFqQBnwpzQBRWpAhbcn57jwaUCE/Gkq2ZRpQPu2cmDfMWlAz95F60jIaEDpa+csk1hoQC1WW4c742dAgJWlXL9oZ0DKIcoOnOlmQPHyzP9OZmZA2ACykVXfZUBpQ30mLVVlQIiyMiBTyGRAHEbW4EQ5ZEAM9mvKf6hjQDu69z6BFmNAkop9oMaDYkD1XgFRzfBhQEwvh7ISXmFAe/MSJxTMYEBro6gQTztgQP1tmKKBWF9APUwDls0+XkBe0Zm/fCpdQC7tY+OJHFxAeY9pxe8VW0AMqLIpqRdaQLQmR9SwIllAO/suiQE4WEBsFXIMllhXQBVlGCJphVZABNopjnW/VUACZK4UtgdVQNzyrXklX1RAXnYwgb7GU0BV3j3vez9TQI4a3odYylJA0xoZD09oUkDxzvZIWhpSQLUmf/l04VFA6RG65Jm+UUBcgK/Ow7JRQA==\"},\"shape\":[104],\"dtype\":\"float64\",\"order\":\"little\"},{\"type\":\"ndarray\",\"array\":{\"type\":\"bytes\",\"data\":\"hmX0DyoGZ0AOKoanuSBlQA4qhqe5IGVAeXUh7cQiZUBDoS/fyShlQLUbiy+dMmVAEVMOkBNAZUCntZOyAVFlQLqx9Ug8ZWVAl7UOBZh8ZUCBL7mY6ZZlQMONz7UFtGVAoj4sDsHTZUBssKlT8PVlQGdRIjhoGmZA2Y9wbf1AZkAN2m6lhGlmQEye95HSk2ZA2krl5Lu/ZkADThJQFe1mQAsWWYWzG2dAQRGUNmtLZ0DorZ0VEXxnQElaUNR5rWdAr4SGJHrfZ0Bgmxq45hFoQKQM50CURGhAxEbGcFd3aEAHuJL5BKpoQLfOJo1x3GhAHvlc3XEOaUB/pQ+c2j9pQCZCGXuAcGlAWz1ULDigaUBkBZth1s5pQI4IyMwv/GlAHLW1HxkoakBYeT4MZ1JqQIzDPETuempAAAKLeYOhakD6ogNe+8VqQMQUgaMq6GpApsXd++UHa0DoI/QYAiVrQNKdnqxTP2tArKG3aK9Wa0DAnRn/6WprQFUAnyHYe2tAszcigk6Ja0Aisn3SIZNrQOzdi8QmmWtAWSknCjKba0BZKScKMptrQNFklXKigG1A0WSVcqKAbUBkGfosl35tQJrt6zqSeG1AK3OQ6r5ubUDNOw2KSGFtQDbZh2daUG1AI90l0R88bUBM2QwVxCRtQGFfYoFyCm1AIAFMZFbtbEA7UO8Lm81sQHHeccZrq2xAdz354fOGbEAF/6qsXmBsQNK0rHTXN2xAlPAjiIkNbEAGRDY1oOFrQN5ACcpGtGtA0njClKiFa0CefYfj8FVrQPXgfQRLJWtAkzTLReLzakAwCpX14cFqQH/zAGJ1j2pAPII02cdcakAcSFWpBCpqQNfWiCBX92lAJsD0jOrEaUDClb486pJpQGDpC36BYWlAukwCn9swaUCGUcftIwFpQHqJgLiF0mhAUoZTTSylaEDD2WX6QnloQIYV3Q31TmhAUsve1W0maEDgjJCg2P9nQOXrF7xg22dAHHqadjG5Z0A6yT0edplnQPhqJwFafGdADvF8bQhiZ0Ay7WOxrEpnQB/xARtyNmdAio58+IMlZ0AsV/mXDRhnQLzcnUc6DmdA8rCPVTUIZ0CGZfQPKgZnQA==\"},\"shape\":[104],\"dtype\":\"float64\",\"order\":\"little\"},{\"type\":\"ndarray\",\"array\":{\"type\":\"bytes\",\"data\":\"XJ2HZfSPckACmU21xi5wQAKZTbXGLnBAocrCFVMucEDUYzaY/ixwQBprRs7SKnBA6eaQSdkncEDB3bObGyRwQB9WTVajH3BAgFb7CnoacEBe5VtLqRRwQDUJDak6DnBAhMistTcHcECMU7IFVP9vQPFmYEQ2729AMNifSineb0BBtKw7QMxvQBsIwzqOuW9AueAeayamb0ATS/zvG5JvQCFUl+yBfW9A3wgshGtob0BAdvbZ61JvQEWpMhEWPW9A5K4cTf0mb0ATlPCwtBBvQM5l6l9P+m5ACTFGfeDjbkDCAkAse81uQPHnE5Ayt25Aj+39yxmhbkCTIDoDRItuQPeNBFnEdW5AtUKZ8K1gbkDESzTtE0xuQB62EXIJOG5Au45toqEkbkCV4oOh7xFuQKS+kJIGAG5A4y/QmPnubUBIQ37X295tQM0F13HAz21AbIQWi7rBbUAczHhG3bRtQNfpOcc7qW1AleqVMOmebUBS28il+JVtQALJDkp9jm1AosCjQIqIbUAqz8OsMoRtQJABq7GJgW1A0WSVcqKAbUDRZJVyooBtQMK2hOl+IXFAwraE6X4hcUAihQ+J8iFxQO7rmwZHI3FAq+SL0HIlcUDaaEFVbChxQAJyHgMqLHFApPmESKIwcUBH+daTyzVxQGhqdlOcO3FAkEbF9QpCcUBAhyXpDUlxQP0l+ZubUHFAShyifKpYcUCsY4L5MGFxQKT1+4AlanFAuMtwgX5zcUBp30JpMn1xQDwq1KY3h3FAs6WGqISRcUBVS7zcD5xxQKIU17HPpnFAIfs4lrqxcUBT+EP4xrxxQLoFWkbrx3FA3xzd7h3TcUBANy9gVd5xQGNOsgiI6XFAzFvIVqz0cUD+WNO4uP9xQHs/NZ2jCnJAyQhQcmMVckBqroWm7h9yQOMpOKg7KnJAtnTJ5UA0ckBniJvN9D1yQHpeEM5NR3JAcvCJVUJQckDTN2rSyFhyQCEuE7PXYHJA3szmZWVockCPDUdZaG9yQLfplfvWdXJA2lo1u6d7ckB5WocG0YByQBzi7UtJhXJAQ+vK+QaJckB0b4B+AIxyQDBocEgsjnJA/c78xYCPckBcnYdl9I9yQA==\"},\"shape\":[104],\"dtype\":\"float64\",\"order\":\"little\"},{\"type\":\"ndarray\",\"array\":{\"type\":\"bytes\",\"data\":\"IXHk5aN+e0CNvHzUuy17QI28fNS7LXtAZQUczLsqe0DbtsYS5iF7QEgTMDh6E3tABV0LzLf/ekBv1gte3uZ6QOPB5H0tyXpAvWFJu+SmekBU+OylQ4B6QAfIgs2JVXpALxO+wfYmekArHFISyvR5QFQl8k5Dv3lAB3FRB6KGeUCdQSPLJUt5QHXZGioODXlA5nrrs5rMeEBPaEj4Cop4QAnk5IaeRXhAcTB075T/d0Dij6nBLbh3QLhEOI2ob3dAUJHT4UQmd0AAuC5PQtx2QCn7/GTgkXZAI53xsl5HdkBK4L/I/Px1QPwGGzb6snVAk1O2ipZpdUBoCEVWESF1QNpneiiq2XRAQrQJkaCTdED9L6YfNE90QGUdA2SkDHRA177T7TDMc0CuVstMGY5zQEQnnRCdUnNA93L8yPsZc0AgfJwFdeRyQByFMFZIsnJARtBrSrWDckD4nwFy+1hyQJA2pVxaMnJAaNYJmhEQckDcweK5YPJxQEc740uH2XFABIW+38TFcUBv4ScFWbdxQOWS0kuDrnFAvttxQ4OrcUC+23FDg6txQFKQ2VRr/HFAUpDZVGv8cUB4Rzpda/9xQAKWjxZBCHJAmDkm8awWckDb70pdbypyQHB2SstIQ3JA+4pxq/lgckAm6wxuQoNyQI1UaYPjqXJA2oTTW53UckCvOZhnMANzQLMwBBddNXNAiSdk2uNqc0DY2wQihaNzQEILM14B33NAbHM7/xgddED50Wp1jF10QJHkDTEcoHRA1WhxoojkdEBuHOI5kip1QPu8rGf5cXVAJQgenH66dUCQu4JH4gN2QN+UJ9rkTXZAuFFZxEaYdkC7r2R2yOJ2QJRslmAqLXdA4kU78yx3d0BO+Z+ekMB3QHZEEdMVCXhABeXbAH1QeECemEyYhpZ4QOIcsAnz2nhAei9TxYIdeUAIjoI79l15QDL2itwNnHlAmiW5GIrXeUDo2VlgKxB6QMDQuSOyRXpAxMcl0953ekCafOrecaZ6QOesVLcr0XpATxaxzMz3ekB3dkyPFRp7QAOLc2/GN3tAmBFz3Z9Qe0Dbx5dJYmR7QHBrLiTOcntA+rmD3aN7e0AhceTlo357QA==\"},\"shape\":[104],\"dtype\":\"float64\",\"order\":\"little\"},{\"type\":\"ndarray\",\"array\":{\"type\":\"bytes\",\"data\":\"PG5ocIV4dkBASXsWge51QEBJexaB7nVAaMJEUf3sdUBdPI1mh+h1QOPMtm0/4XVAuYkjfkXXdUChiDWvucp1QFvfThi8u3VAqKPR0GyqdUBI6x/w65Z1QPvLm41ZgXVAg1unwNVpdUCgr6SggFB1QBXe9UR6NXVAn/z8xOIYdUAEIRw42vp0QABhtbWA23RAU9IqVfa6dEDCit4tW5l0QAqgMlfPdnRA7yeJ6HJTdEAtOET5ZS90QIrmxaDICnRAxkhw9rrlc0CedKURXcBzQNV/xwnPmnNALYA49jB1c0Bki1ruok9zQD23jwlFKnNAeBk6XzcFc0DUx7sGmuByQBTYdheNvHJA+V/NqDCZckBAdSHSpHZyQK8t1aoJVXJAA59KSn80ckD/3uPHJRVyQGIDAzsd93FA7SEKu4XacUBhUFtff79xQH+kWD8qpnFACDRkcqaOcUC7FOAPFHlxQFtcLi+TZXFApiCx50NUcUBgd8pQRkVxQEh23IG6OHFAHjNJksAucUClw3KZeCdxQJs9u64CI3FAwraE6X4hcUDCtoTpfiFxQL7bcUODq3FAvttxQ4OrcUCWYqgIB61xQJ/oX/N8sXFAG1g27MS4cUBEm8nbvsJxQFyct6pKz3FAo0WeQUjecUBYgRuJl+9xQLg5zWkYA3JABFlRzKoYckB6yUWZLjByQFx1SLmDSXJA6Eb3FIpkckBdKPCUIYFyQPsD0SEqn3JAAMQ3pIO+ckCsUsIEDt9yQD6aDiypAHNA9IS6AjUjc0AP/WNxkUZzQNDsqGCeanNAcj4nuTuPc0A53HxjSbRzQGCwR0in2XNAKaUlUDX/c0DRpLRj0yR0QJqZkmthSnRAwG1dUL9vdECIC7P6zJR0QCpdMVNquXRA6kx2QnfddEAGxR+x0wB1QL2vy4dfI3VAT/cXr/pEdUD6haIPhWV1QP9FCZLehHVAnCHqHueidUARA+Oefr91QJ3UkfqE2nVAf4CUGtrzdUD38IjnXQt2QEQQDUrwIHZApMi+KnE0dkBXBDxywEV2QJ6tIgm+VHZAtq4Q2ElhdkDg8aPHQ2t2QFlhesCLcnZAY+cxqwF3dkA8bmhwhXh2QA==\"},\"shape\":[104],\"dtype\":\"float64\",\"order\":\"little\"},{\"type\":\"ndarray\",\"array\":{\"type\":\"bytes\",\"data\":\"jF3fTFbpWEDIy0e92/FXQMjLR73b8VdAeb54fqoLWEAEzlQ/qldYQJ3NyTu401hAcZDFr7F9WUC46TXXc1NaQKOsCO7bUltAaKwrMMd5XEA0vIzZEsZdQDuvGSacNV9AWCzgKCBjYEDlRTdM7jphQNsNCRsnIWJA1W1MM7kUY0BsT/gykxRkQDicA7ijH2VA1D1lYNk0ZkDaHRTKIlNnQN4lB5NueWhAgD81WaumaUBWVJW6x9lqQPtNHlWyEWxABxbHxllNbUATloatrItuQL23U6eZy29AS7ISqQeGcEAeQ/kl/iVxQCQDWZknxXFAK2ctUvtickD943Gf8P5yQGjuIdB+mHNAOfs4Mx0vdEA8f7IXQ8J0QD/vicxnUXVADcC6oALcdUByZkDjimF2QD5XFuN34XZAOwc470Bbd0A266BWXc53QPx3TGhEOnhAWiI2c22eeEAcX1nGT/p4QA+jsbBiTXlAAGM6gR2XeUC6E++G99Z5QAwqyxBoDHpAwhrKbeY2ekCoWufs6VV6QIteHt3paHpAN5tqjV1vekA3m2qNXW96QKl/UDE8rXpAqX9QMTytekD8QgSByKZ6QBc/zZDIk3pANf+vEcV0ekB/DrG0Rkp6QCz41CrWFHpAckcgJfzUeUCDh5dUQYt5QJBDP2ouOHlAzQYcF0zceEBtXDIMI3h4QKfPhvo7DHhArOsdkx+Zd0CxO/yGVh93QOVKJodpn3ZAgaSgROEZdkCx029wRo91QK9jmLshAHVAq98e1/tsdEDZ0gd0XdZzQG7IV0PPPHNAm0sT9tmgckCX5z49BgNyQJAn38ncY3FAvpb4TObDcEBQwI93qyNwQPleUvVpB29A7N6SDhfJbUDiFuqcb41sQDsdYQKFVWtAZggBoWgiakDE7tLaK/VoQLzm3xHgzmdAtwYxqJawZkAbZc//YJtlQFAYxHpQkGRAuTYYe3aQY0C/1tRi5JxiQMgOA5SrtmFAPPWrcN3eYECAoNhaixZgQPhNJGmNvV5ALD7Dv0FxXUBpPqB9VkpcQH57zWbuSltANiJdPyx1WkBfX2HLMstZQMhf7M4kT1lAPVAQDiUDWUCMXd9MVulYQA==\"},\"shape\":[104],\"dtype\":\"float64\",\"order\":\"little\"},{\"type\":\"ndarray\",\"array\":{\"type\":\"bytes\",\"data\":\"HVQMT3OhakDxUe923HBpQPFR73bccGlAzNWMAqt5aUCD3uJBmpNpQM6nrZ/vvWlAW22phvD3aUDmapJh4kBqQCDcJJsKmGpAxPwcnq78akB/CDfVE25rQAw7L6t/62tAHdDBijd0bEBsA6vegAdtQKoQpxGhpG1AjzNyjt1KbkDPp8i/e/luQCCpZhDBr29AmzmEdXk2cEDkIDVdK5hwQEQopPSY/HBAl20v8WRjcUC3DjUIMsxxQIApE++iNnJAzNsnW1qickB0Q9EB+w5zQFZ+bZgnfHNASqpa1ILpc0Aq5fZqr1Z0QNRMoBFQw3RAH/+0fQcvdUDpGZNkeJl1QAm7mHtFAnZAXQAkeBFpdkC8B5MPf812QAbvQ/cwL3dAENSU5MmNd0C41OOM7Oh3QNgOj6U7QHhAS6D041mTeEDqpnL96eF4QJFAZ6eOK3lAG4swl+pveUBhpCyCoK55QECquR1T53lAkLo1H6UZekAt8/47OUV6QPJxcymyaXpAulTxnLKGekBfudZL3Zt6QLm9gevUqHpAqH9QMTytekCof1AxPK16QL4AX52HRXtAvgBfnYdFe0DPPpBXIEF7QHM65bcoNHtA0dX/CP4ee0AI84GV/QF7QEN0DaiE3XpApTtEi/CxekBXK8iJnn96QHklO+7rRnpAMAw/AzYIekCmwXUT2sN5QAAogWk1enlAYCEDUKUreUDuj50Rh9h4QM9V8vg3gXhAKFWjUBUmeEAdcFJjfMd3QNSIoXvKZXdAc4Ey5FwBd0AgPKfnkJp2QP6aodDDMXZANoDD6VLHdUDqza59m1t1QEFmBdf67nRAYCtpQM6BdEBs/3sEcxR0QIvE321Gp3NA41w2x6U6c0CXqiFb7s5yQM6PQ3R9ZHJAru49XbD7cUBaqbJg5JRxQPmhQ8l2MHFAsbqS4cTOcECm1UH0K3BwQP7U8ksJFXBAvTWPZnR7b0DYEsTpN9VuQJkFyLYXOG5AS9LeYs6kbUA4PUyDFhxtQKsKVK2qnmxA7/45dkUtbEBM3kFzochrQBJtrzl5cWtAiG/GXocoa0D5qcp3hu5qQLHg/xkxxGpA+Nep2kGqakAdVAxPc6FqQA==\"},\"shape\":[104],\"dtype\":\"float64\",\"order\":\"little\"},{\"type\":\"ndarray\",\"array\":{\"type\":\"bytes\",\"data\":\"hAZXiMQxc0A28vJR7wZzQDby8lHvBnNA96l4PokJc0De5m9GMhFzQGPJcU2zHXNA+XEXN9Uuc0AXAfrmYERzQDWXskAfXnNAy1TaJ9l7c0BKWgqAV51zQCrI2yxjwnNA4b7nEcXqc0DnXscSRhZ0QLTIExOvRHRAuRxm9sh1dEBwe1egXKl0QE0FgfQy33RAx9p71hQXdUBVHOEpy1B1QGrqSdIejHVAgmVPs9jIdUANroqwwQZ2QIbklK2iRXZAYikHjkSFdkAUnXo1cMV2QBZgiIfuBXdA3pLJZ4hGd0DeVde5Bod3QJLJSmEyx3dAbw69QdQGeEDnRMc+tUV4QHKNAjyeg3hAiQgIHVjAeECg1nDFq/t4QC0Y1hhiNXlAp+3Q+kNteUCFd/pOGqN5QDrW6/it1nlAQCo+3McHekAKlIrcMDZ6QBI0at2xYXpAyip2whOKekCrmEdvH696QCqed8ed0HpAvlufrlfuekDc8VcIFgh7QPyAOrihHXtAkingocMue0AWDOKoRDt7QP1I2bDtQntAvgBfnYdFe0C+AF+dh0V7QAwVw9NccHtADBXD01xwe0BKXT3nwm17QGMgRt8ZZntA4D1E2JhZe0BJlZ7udkh7QCoGvD7rMntAC3AD5SwZe0B7stv9cvt6QPqsq6X02XpAGT/a+Oi0ekBfSM4Th4x6QFmo7hIGYXpAjT6iEp0yekCI6k8vgwF6QNOLXoXvzXlA9wE1MRmYeUB8LDpPN2B5QO/q1PuAJnlA1xxsUy3reEDBoWZyc654QDJZK3WKcHhAuyIheKkxeEDh3a6XB/J3QC5qO/DbsXdALKctnl1xd0BkdOy9wzB3QGOx3mtF8HZAsD1rxBmwdkDW+Pjjd3B2QFzC7uaWMXZAz3mz6a3zdUC6/q0I9LZ1QKIwRWCge3VAFe/fDOpBdUCaGeUqCAp1QL6Pu9Yx1HRACDHKLJ6gdEAC3XdJhG90QDdzK0kbQXRAMNNLSJoVdEB43D9jOO1zQJhubrYsyHNAGGk+Xq6mc0CEqxZ39IhzQGYVXh02b3NAR4Z7bapZc0Cw3dWDiEhzQCz703wHPHNARb7cdF40c0CEBleIxDFzQA==\"},\"shape\":[104],\"dtype\":\"float64\",\"order\":\"little\"},{\"type\":\"ndarray\",\"array\":{\"type\":\"bytes\",\"data\":\"//////8/f0BNtcaub5Z7QE21xq5vlntATbXGrm+We0BMtcaub5Z7QE61xq5vlntATbXGrm+We0BMtcaub5Z7QEy1xq5vlntAULXGrm+We0BNtcaub5Z7QE+1xq5vlntATLXGrm+We0BMtcaub5Z7QEy1xq5vlntATrXGrm+We0BNtcaub5Z7QE+1xq5vlntAT7XGrm+We0BQtcaub5Z7QE61xq5vlntAT7XGrm+We0BNtcaub5Z7QE61xq5vlntAULXGrm+We0BQtcaub5Z7QE+1xq5vlntAULXGrm+We0BPtcaub5Z7QFC1xq5vlntAULXGrm+We0BQtcaub5Z7QFG1xq5vlntAULXGrm+We0BQtcaub5Z7QFC1xq5vlntAUbXGrm+We0BQtcaub5Z7QFG1xq5vlntAUrXGrm+We0BStcaub5Z7QFG1xq5vlntAUrXGrm+We0BStcaub5Z7QFK1xq5vlntAUrXGrm+We0BRtcaub5Z7QFK1xq5vlntAUrXGrm+We0BStcaub5Z7QFK1xq5vlntAUrXGrm+We0BStcaub5Z7QAQAAAAAQH9ABAAAAABAf0ADAAAAAEB/QAMAAAAAQH9ABQAAAABAf0AEAAAAAEB/QAUAAAAAQH9AAwAAAABAf0AGAAAAAEB/QAUAAAAAQH9ABQAAAABAf0ACAAAAAEB/QAMAAAAAQH9AAgAAAABAf0ACAAAAAEB/QAMAAAAAQH9AAwAAAABAf0AEAAAAAEB/QAQAAAAAQH9AAgAAAABAf0ACAAAAAEB/QAAAAAAAQH9AAgAAAABAf0ADAAAAAEB/QAEAAAAAQH9AAgAAAABAf0ABAAAAAEB/QAEAAAAAQH9AAQAAAABAf0ACAAAAAEB/QAIAAAAAQH9AAAAAAABAf0ABAAAAAEB/QAAAAAAAQH9AAAAAAABAf0AAAAAAAEB/QAAAAAAAQH9AAAAAAABAf0AAAAAAAEB/QAAAAAAAQH9AAAAAAABAf0AAAAAAAEB/QAAAAAAAQH9AAAAAAABAf0AAAAAAAEB/QP//////P39AAAAAAABAf0AAAAAAAEB/QAAAAAAAQH9A//////8/f0D//////z9/QA==\"},\"shape\":[104],\"dtype\":\"float64\",\"order\":\"little\"},{\"type\":\"ndarray\",\"array\":{\"type\":\"bytes\",\"data\":\"TfeLn6Q9eUAHV4jEkRd5QAdXiMSRF3lAhFesU08YeUDmUbyLfRp5QIs7rrwMHnlA0Al4Nu0ieUASsg9JDyl5QK8pa0RjMHlACWaAeNk4eUB3XEU1YkJ5QFsCsMrtTHlAD022iGxYeUD2MU6/zmR5QGumbb4EcnlAzJ8K1v5/eUB3ExtWrY55QMr2lI4AnnlAHz9uz+iteUDb4ZxoVr55QFXUFqo5z3lA7QvS44LgeUACfsRlIvJ5QPMf5H8IBHpAHOcmgiUWekDXyIK8aSh6QIm67X7FOnpAirFdGSlNekA7o8jbhF96QPiEJBbJcXpAIExnGOaDekAQ7oYyzJV6QCVgebRrp3pAwJc07rS4ekA5iq4vmMl6QPQs3cgF2npAS3W2Ce7pekCcWDBCQfl6QEbMQMLvB3tAqMXd2ekVe0AcOv3YHyN7QAMflQ+CL3tAuWmbzQA7e0CdDwZjjEV7QAwGyx8VT3tAYkLgU4tXe0AAujtP3157QENi02EBZXtAhzCd2+Fpe0AtGo8McW17QI4Un0Sfb3tADBXD01xwe0AMFcPTXHB7QFK1xq5vlntAUrXGrm+We0DUtKIfspV7QHG6kueDk3tAz9CgtvSPe0CJAtc8FIt7QEdaPyryhHtAqOLjLp59e0BTps76J3V7QOOvCT6fa3tAAAqfqBNhe0BIv5jqlFV7QGLaALQySXtA7GXhtPw7e0CNbESdAi57QOL4Mx1UH3tAkhW65AAQe0A6zeCjGAB7QIAqsgqr73pABDg4ycfeekBrAH2Pfs16QFWOig3fu3pAZexq8/ipekA/JSjx25d6QIFDzLaXhXpA0FFh9DtzekDOWvFZ2GB6QB5phpd8TnpAYIcqXTg8ekA6wOdaGyp6QEoeyEA1GHpANKzVvpUGekCadBqFTPV5QCCCoENp5HlAZd9xqvvTeUAOl5hpE8R5QL6zHjHAtHlAEkAOsRGmeUCyRnGZF5h5QD3SUZrhinlAVu25Y39+eUCgorOlAHN5QL38SBB1aHlATgaEU+xeeUD2yW4fdlZ5QFhSEyQiT3lAFqp7EQBJeUDR27GXH0R5QC3yv2aQQHlAy/evLmI+eUBN94ufpD15QA==\"},\"shape\":[104],\"dtype\":\"float64\",\"order\":\"little\"},{\"type\":\"ndarray\",\"array\":{\"type\":\"bytes\",\"data\":\"yMtHvdvxV0BcgK/Ow7JRQFyAr87DslFAFSxKMXXFUUBQfKlTgfxRQJdkpC1cVlJAd9gRt3nRUkB/y8jnTWxTQDsxoLdMJVRAPv1uHur6VEAPIwwUmutVQD+WTpDQ9VZAWkoNiwEYWEDvMh/8oFBZQI5DW9sinlpAv2+YIPv+W0AWq63DnXFdQBrpcbx+9F5AsA5eAQlDYEC4nTHHZRJhQGwbn6uP52FAlAGSqsDBYkD2yfW/MqBjQFrutecfgmRAh+i9HcJmZUBAMvldU01mQFNFU6QNNWdAf5u37CodaECOrhEz5QRpQEv4THN262lAd/JUqRjQakDbFhXRBbJrQDzfeOZ3kGxAZsVr5ahqbUAYQ9nJ0j9uQCLSrI8vD29AROzRMvnXb0CjBZrXtExwQHhUX4BdqXBAhp+ukZMBcUCto30J9FRxQNIdwuUbo3FA2cpxJKjrcUClZ4LDNS5yQBqx6cBhanJAGmSdGsmfckCJPZPOCM5yQEv6wNq99HJAQ1ccPYUTc0BVEZvz+ylzQGPlMvy+N3NAUpDZVGs8c0BSkNlUazxzQC6jf1AxzHRALqN/UDHMdEA/+Nj3hMd0QDAkQe/BuXRAH2rCOEujdEAnDWfWg4R0QGVQOcrOXXRA9XZDFo8vdED3w4+8J/pzQIJ6KL/7vXNAtt0XIG57c0CuMGjh4TJzQIi2IwW65HJAYLJUjVmRckBVZwV8IzlyQH8YQNN63HFA/wgPlcJ7cUDte3zDXRdxQGm0kmCvr3BAj/VbbhpFcED1BMXdA7BvQJE8YciR0W5ALRihoKTvbUADHplqAgttQEfUXSpxJGxAN8ED5LY8a0AJa5+bmVRqQPlXRVXfbGlAPg4KFU6GaEATFALfq6FnQK7vQbe+v2ZATSfeoUzhZUAkQeuiGwdlQG/Dfb7xMWRAZjSq+JRiY0BEGoVVy5liQEL7Itla2GFAl12YhwkfYUB+x/lknW5gQF5+t+q4j19AyJWleRlXXkCs4eZ+6DRdQHxupAKyKlxAqkgHDQI6W0CofDimZGRaQOwWYdZlq1lA5COqpZEQWUADsDwcdJVYQL3HQUKZO1hAg3fiH40EWEDIy0e92/FXQA==\"},\"shape\":[104],\"dtype\":\"float64\",\"order\":\"little\"},{\"type\":\"ndarray\",\"array\":{\"type\":\"bytes\",\"data\":\"8lHvdtxwaUCGZfQPKgZnQIZl9A8qBmdANgHhFgYMZ0CJEBBpRx1nQOttn+JxOWdAuvOsXwlgZ0BifFa8kZBnQEPiudSOymdAy//0hIQNaEBXryWp9lhoQFLLaR1prGhAIS7fvV8HaUAqsqNmXmlpQNMx1fPo0WlAgoeRQYNAakCdjfYrsbRqQIseIo/2LWtArxQyR9era0BySkQw1y1sQDeadiZ6s2xAZd7mBUQ8bUBi8bKquMdtQJet+PBbVW5AZu3VtLHkbkA2i2jSPXVvQLcw5xJCA3BAOaWSRQRMcEBUkEVvp5RwQDzfDn7t3HBAJH/9X5gkcUA+XSADamtxQLxmhlUksXFA1Ig+RYn1cUC3sFfAWjhyQJjL4LRaeXJAqsboEEu4ckAgj37C7fRyQC4SsbcEL3NABj2P3lFmc0Da/Ccll5pzQN8+inmWy3NASPDEyRH5c0BF/uYDyyJ0QAxW/xWESHRAzuQc7v5pdEC/l056/YZ0QBNco6hBn3RA+x4qZ42ydECrzfGjosB0QFRVCU1DyXRALaN/UDHMdEAto39QMcx0QGMZ/YOKAXZAYxn9g4oBdkCKy4aAnP51QOBDb9f79XVAMJWnmubndUBJ0iDcmtR1QPUNzK1WvHVABFuaIVifdUBDzHxJ3X11QHx0ZDckWHVAfWZC/WoudUAVtQet7wB1QBBzpVjwz3RAO7MMEqubdEBkiC7rXWR0QFgF/PVGKnRA4jxmRKTtc0DOQV7os65zQO4m1fOzbXNAC/+7eOIqc0Dz3AOJfeZyQHPTnTbDoHJAWfV6k/FZckBzVYyxRhJyQIoGw6IAynFAcBsQeV2BcUDtpmRGmzhxQNK7sRz473BA6mzoDbKncEACzfkrB2BwQOju1og1GXBA0srhbPamb0CkhnGNLB5vQN42P5eJmG5AGwEtrokWbkD2Ch32qJhtQAp68ZJjH21A8HOMqDWrbEBAHtBamzxsQJaens0Q1GtAjhraJBJya0C+t2SEGxdrQMKbIBCpw2pANezv6zZ4akCwzrQ7QTVqQM1oUSNE+2lAJ+CnxrvKaUBXWppJJKRpQPj8CtD5h2lAou3bfbh2aUDyUe923HBpQA==\"},\"shape\":[104],\"dtype\":\"float64\",\"order\":\"little\"},{\"type\":\"ndarray\",\"array\":{\"type\":\"bytes\",\"data\":\"NvLyUe8Gc0BcnYdl9I9yQFydh2X0j3JARM7WjAqRckAghRaqPZRyQCz4Qbh2mXJAmV1Usp6gckCf60iTnqlyQHbYGlZftHJAWVrF9cnAckB1p0Ntx85yQAv2kLdA3nJAS3yozx7vckBvcIWwSgFzQK4II1WtFHNAP3t8uC8pc0BY/ozVuj5zQDHIT6c3VXNA/w7AKI9sc0D7CNlUqoRzQFrslSZynXNAVO/xmM+2c0AgSOimq9BzQPYsdEvv6nNAC9SQgYMFdECXczlEUSB0QNBBaY5BO3RA73QbWz1WdEAoQ0ulLXF0QLTi82f7i3RAyIkQno+mdECebpxC08B0QGrHklCv2nRAZsruwgz0dEDFrauU1Ax1QMCnxMDvJHVAju40Qkc8dUBnuPcTxFJ1QIA7CDFPaHVAEK5hlNF8dUBPRv84NJB1QHQ63BlgonVAtcDzMT6zdUBJD0F8t8J1QGhcv/O00HVAR95pkx/ddUAfyztW4Od1QCZZMDfg8HVAlL5CMQj4dUCdMW4/Qf11QHvorVx0AHZAYxn9g4oBdkBjGf2DigF2QD1uaHCFeHZAPW5ocIV4dkBUPRlJb3d2QHaG2Ss8dHZAbxOuHQNvdkAArpsj22d2QPkfp0LbXnZAITPVfxpUdkBEsSrgr0d2QCRkrGiyOXZAkBVfHjkqdkBNj0cGWxl2QCmbaiUvB3ZA6gLNgMzzdUBZkHMdSt91QEANYwC/yXVAakOgLkKzdUCb/C+t6pt1QKACF4HPg3VAPx9arwdrdUBFHP48qlF1QHfDBy/ON3VAot57iooddUCON19U9gJ1QAGYtpEo6HRAycmGRzjNdECqltR6PLJ0QHHIpDBMl3RA5Sj8bX58dEDRgd836mF0QPycU5OmR3RALkRdhcotdEA0QQETbRR0QNRdREGl+3NA2WMrFYrjc0AKHbuTMsxzQDNT+MG1tXNAGdDnpCqgc0CJXY5BqItzQErF8JxFeHNAJtETvBlmc0DkSvyjO1VzQFD8rlnCRXNAMq8w4sQ3c0BRLYZCWitzQHlAtH+ZIHNAcrK/npkXc0AGTa2kcRBzQPzZgZY4C3NAHiNCeQUIc0A28vJR7wZzQA==\"},\"shape\":[104],\"dtype\":\"float64\",\"order\":\"little\"},{\"type\":\"ndarray\",\"array\":{\"type\":\"bytes\",\"data\":\"TbXGrm+We0AhceTlo357QCFx5OWjfntAT9aF1eF9e0A0amZZpnt7QFnDAIEBeHtAPXjPWwNze0BpH035u2x7QGRP9Gg7ZXtAtp4/upFce0Ddo6n8zlJ7QGf1rD8DSHtA0ynEkj48e0Cu12kFkS97QHiVGKcKIntAu/lKh7sTe0D6mnu1swR7QL0PJUED9XpAhe7BObrkekDfzcyu6NN6QEpEwK+ewnpAUegWTOywekB2UEuT4Z56QEMT2JSOjHpAO8c3YAN6ekDlAuUEUGd6QMVcWpKEVHpAZGsSGLFBekBDxYel5S56QO4ANUoyHHpA5rSUFacJekCxdyEXVPd5QNjfVV5J5XlA34Os+pbTeUBK+p/7TMJ5QKTZqnB7sXlAbrhHaTKheUAwLfH0gZF5QG7OISN6gnlAsDJUAyt0eUB78AKlpGZ5QFSeqBf3WXlAxNK/ajJOeUBMJMOtZkN5QHYpLfCjOXlAxHh4QfoweUDAqB+xeSl5QOxPnU4yI3lA0QRsKTQeeUD0XQZRjxp5QNnx5tRTGHlACFeIxJEXeUAIV4jEkRd5QDSbao1dL3lANJtqjV0veUAGNsmdHzB5QB+i6BlbMnlA/khO8v81eUAZlH8X/jp5QOvsAXpFQXlA77xaCsZIeUCjbQ+5b1F5QHlopXYyW3lA8BaiM/5leUCA4orgwnF5QKY05W1wfnlA3HY2zPaLeUCaEgTsRZp5QFxx071NqXlAmvwpMv64eUDQHY05R8l5QHg+gsQY2nlAC8iOw2LreUAEJDgnFf15QNy7A+AfD3pAEPl23nIhekAZRRcT/jN6QG8Jam6xRnpAkK/04HxZekDxoDxbUGx6QBBHx80bf3pAaAsaKc+RekByV7pdWqR6QKOULVyttnpAfiz5FLjIekB3iKJ4atp6QAkSr3e063pAsjKkAob8ekDoUwcKzwx7QCbfXX5/HHtA5z0tUIcre0Cm2fpv1jl7QNobTM5cR3tAAG6mWwpUe0CSOY8Iz197QAroi8WaantA4OIhg110e0CQk9YxB317QJZjL8KHhHtAabyxJM+Ke0CEB+NJzY97QGKuSCJyk3tAfBponq2Ve0BNtcaub5Z7QA==\"},\"shape\":[104],\"dtype\":\"float64\",\"order\":\"little\"},{\"type\":\"ndarray\",\"array\":{\"type\":\"bytes\",\"data\":\"CFeIxJEXeUA8bmhwhXh2QDxuaHCFeHZAO25ocIV4dkA7bmhwhXh2QDxuaHCFeHZAPG5ocIV4dkA8bmhwhXh2QDxuaHCFeHZAPm5ocIV4dkA8bmhwhXh2QDxuaHCFeHZAO25ocIV4dkA7bmhwhXh2QDtuaHCFeHZAPG5ocIV4dkA8bmhwhXh2QD1uaHCFeHZAPW5ocIV4dkA9bmhwhXh2QDxuaHCFeHZAO25ocIV4dkA8bmhwhXh2QDtuaHCFeHZAPG5ocIV4dkA8bmhwhXh2QDxuaHCFeHZAPG5ocIV4dkA8bmhwhXh2QDxuaHCFeHZAPG5ocIV4dkA8bmhwhXh2QDxuaHCFeHZAPW5ocIV4dkA7bmhwhXh2QDxuaHCFeHZAPG5ocIV4dkA8bmhwhXh2QDxuaHCFeHZAPG5ocIV4dkA8bmhwhXh2QDxuaHCFeHZAPG5ocIV4dkA8bmhwhXh2QDxuaHCFeHZAPG5ocIV4dkA8bmhwhXh2QDxuaHCFeHZAPW5ocIV4dkA8bmhwhXh2QDxuaHCFeHZAPG5ocIV4dkA8bmhwhXh2QAhXiMSRF3lACFeIxJEXeUAIV4jEkRd5QAdXiMSRF3lACVeIxJEXeUAIV4jEkRd5QAhXiMSRF3lAB1eIxJEXeUAKV4jEkRd5QAhXiMSRF3lACFeIxJEXeUAHV4jEkRd5QAZXiMSRF3lAB1eIxJEXeUAIV4jEkRd5QAhXiMSRF3lACVeIxJEXeUAIV4jEkRd5QAlXiMSRF3lACFeIxJEXeUAHV4jEkRd5QAdXiMSRF3lACFeIxJEXeUAIV4jEkRd5QAdXiMSRF3lACVeIxJEXeUAIV4jEkRd5QAdXiMSRF3lACFeIxJEXeUAKV4jEkRd5QAhXiMSRF3lACFeIxJEXeUAIV4jEkRd5QAhXiMSRF3lACFeIxJEXeUAIV4jEkRd5QAhXiMSRF3lACFeIxJEXeUAIV4jEkRd5QAhXiMSRF3lACFeIxJEXeUAIV4jEkRd5QAhXiMSRF3lACFeIxJEXeUAIV4jEkRd5QAhXiMSRF3lACFeIxJEXeUAIV4jEkRd5QAhXiMSRF3lACFeIxJEXeUAIV4jEkRd5QA==\"},\"shape\":[104],\"dtype\":\"float64\",\"order\":\"little\"}]],[\"orig_conf\",[\"ACC Origin\",\"Big 12 Origin\",\"Big Ten Origin\",\"Pac-12 Origin\",\"SEC Origin\",\"ACC Origin\",\"Big 12 Origin\",\"Big Ten Origin\",\"Pac-12 Origin\",\"SEC Origin\",\"ACC Origin\",\"Big 12 Origin\",\"Big Ten Origin\",\"Pac-12 Origin\",\"SEC Origin\",\"ACC Origin\",\"Big 12 Origin\",\"Big Ten Origin\",\"Pac-12 Origin\",\"SEC Origin\",\"ACC Origin\",\"Big 12 Origin\",\"Big Ten Origin\",\"Pac-12 Origin\",\"SEC Origin\"]],[\"comm_conf\",[\"ACC Desitination\",\"ACC Desitination\",\"ACC Desitination\",\"ACC Desitination\",\"ACC Desitination\",\"Big 12 Desitination\",\"Big 12 Desitination\",\"Big 12 Desitination\",\"Big 12 Desitination\",\"Big 12 Desitination\",\"Big Ten Desitination\",\"Big Ten Desitination\",\"Big Ten Desitination\",\"Big Ten Desitination\",\"Big Ten Desitination\",\"Pac-12 Desitination\",\"Pac-12 Desitination\",\"Pac-12 Desitination\",\"Pac-12 Desitination\",\"Pac-12 Desitination\",\"SEC Desitination\",\"SEC Desitination\",\"SEC Desitination\",\"SEC Desitination\",\"SEC Desitination\"]],[\"count\",{\"type\":\"ndarray\",\"array\":{\"type\":\"bytes\",\"data\":\"kAAAABwAAAA9AAAABAAAAC0AAAAcAAAAigAAABoAAAAhAAAAIwAAAEIAAAAzAAAAgAAAABEAAAAdAAAADQAAACAAAAAJAAAAxQAAAAgAAABUAAAAQQAAABkAAAAFAAAAjQAAAA==\"},\"shape\":[25],\"dtype\":\"int32\",\"order\":\"little\"}],[\"edge_color\",{\"type\":\"ndarray\",\"array\":{\"type\":\"bytes\",\"data\":\"kAAAABwAAAA9AAAABAAAAC0AAAAcAAAAigAAABoAAAAhAAAAIwAAAEIAAAAzAAAAgAAAABEAAAAdAAAADQAAACAAAAAJAAAAxQAAAAgAAABUAAAAQQAAABkAAAAFAAAAjQAAAA==\"},\"shape\":[25],\"dtype\":\"int32\",\"order\":\"little\"}]]}}},\"view\":{\"type\":\"object\",\"name\":\"CDSView\",\"id\":\"p1242\",\"attributes\":{\"filter\":{\"type\":\"object\",\"name\":\"AllIndices\",\"id\":\"p1243\"}}},\"glyph\":{\"type\":\"object\",\"name\":\"Patches\",\"id\":\"p1261\",\"attributes\":{\"xs\":{\"type\":\"field\",\"field\":\"xs\"},\"ys\":{\"type\":\"field\",\"field\":\"ys\"},\"line_color\":{\"type\":\"field\",\"field\":\"edge_color\",\"transform\":{\"type\":\"object\",\"name\":\"LinearColorMapper\",\"id\":\"p1223\",\"attributes\":{\"palette\":[\"#3182bd\",\"#3182bd\",\"#3182bd\",\"#3182bd\",\"#3182bd\",\"#3182bd\",\"#3182bd\",\"#3182bd\",\"#3182bd\",\"#3182bd\",\"#3182bd\",\"#3182bd\",\"#3182bd\",\"#6baed6\",\"#6baed6\",\"#6baed6\",\"#6baed6\",\"#6baed6\",\"#6baed6\",\"#6baed6\",\"#6baed6\",\"#6baed6\",\"#6baed6\",\"#6baed6\",\"#6baed6\",\"#6baed6\",\"#9ecae1\",\"#9ecae1\",\"#9ecae1\",\"#9ecae1\",\"#9ecae1\",\"#9ecae1\",\"#9ecae1\",\"#9ecae1\",\"#9ecae1\",\"#9ecae1\",\"#9ecae1\",\"#9ecae1\",\"#9ecae1\",\"#c6dbef\",\"#c6dbef\",\"#c6dbef\",\"#c6dbef\",\"#c6dbef\",\"#c6dbef\",\"#c6dbef\",\"#c6dbef\",\"#c6dbef\",\"#c6dbef\",\"#c6dbef\",\"#c6dbef\",\"#c6dbef\",\"#e6550d\",\"#e6550d\",\"#e6550d\",\"#e6550d\",\"#e6550d\",\"#e6550d\",\"#e6550d\",\"#e6550d\",\"#e6550d\",\"#e6550d\",\"#e6550d\",\"#e6550d\",\"#fd8d3c\",\"#fd8d3c\",\"#fd8d3c\",\"#fd8d3c\",\"#fd8d3c\",\"#fd8d3c\",\"#fd8d3c\",\"#fd8d3c\",\"#fd8d3c\",\"#fd8d3c\",\"#fd8d3c\",\"#fd8d3c\",\"#fd8d3c\",\"#fdae6b\",\"#fdae6b\",\"#fdae6b\",\"#fdae6b\",\"#fdae6b\",\"#fdae6b\",\"#fdae6b\",\"#fdae6b\",\"#fdae6b\",\"#fdae6b\",\"#fdae6b\",\"#fdae6b\",\"#fdae6b\",\"#fdd0a2\",\"#fdd0a2\",\"#fdd0a2\",\"#fdd0a2\",\"#fdd0a2\",\"#fdd0a2\",\"#fdd0a2\",\"#fdd0a2\",\"#fdd0a2\",\"#fdd0a2\",\"#fdd0a2\",\"#fdd0a2\",\"#fdd0a2\",\"#31a354\",\"#31a354\",\"#31a354\",\"#31a354\",\"#31a354\",\"#31a354\",\"#31a354\",\"#31a354\",\"#31a354\",\"#31a354\",\"#31a354\",\"#31a354\",\"#74c476\",\"#74c476\",\"#74c476\",\"#74c476\",\"#74c476\",\"#74c476\",\"#74c476\",\"#74c476\",\"#74c476\",\"#74c476\",\"#74c476\",\"#74c476\",\"#74c476\",\"#a1d99b\",\"#a1d99b\",\"#a1d99b\",\"#a1d99b\",\"#a1d99b\",\"#a1d99b\",\"#a1d99b\",\"#a1d99b\",\"#a1d99b\",\"#a1d99b\",\"#a1d99b\",\"#a1d99b\",\"#a1d99b\",\"#c7e9c0\",\"#c7e9c0\",\"#c7e9c0\",\"#c7e9c0\",\"#c7e9c0\",\"#c7e9c0\",\"#c7e9c0\",\"#c7e9c0\",\"#c7e9c0\",\"#c7e9c0\",\"#c7e9c0\",\"#c7e9c0\",\"#c7e9c0\",\"#756bb1\",\"#756bb1\",\"#756bb1\",\"#756bb1\",\"#756bb1\",\"#756bb1\",\"#756bb1\",\"#756bb1\",\"#756bb1\",\"#756bb1\",\"#756bb1\",\"#756bb1\",\"#9e9ac8\",\"#9e9ac8\",\"#9e9ac8\",\"#9e9ac8\",\"#9e9ac8\",\"#9e9ac8\",\"#9e9ac8\",\"#9e9ac8\",\"#9e9ac8\",\"#9e9ac8\",\"#9e9ac8\",\"#9e9ac8\",\"#9e9ac8\",\"#bcbddc\",\"#bcbddc\",\"#bcbddc\",\"#bcbddc\",\"#bcbddc\",\"#bcbddc\",\"#bcbddc\",\"#bcbddc\",\"#bcbddc\",\"#bcbddc\",\"#bcbddc\",\"#bcbddc\",\"#bcbddc\",\"#dadaeb\",\"#dadaeb\",\"#dadaeb\",\"#dadaeb\",\"#dadaeb\",\"#dadaeb\",\"#dadaeb\",\"#dadaeb\",\"#dadaeb\",\"#dadaeb\",\"#dadaeb\",\"#dadaeb\",\"#dadaeb\",\"#636363\",\"#636363\",\"#636363\",\"#636363\",\"#636363\",\"#636363\",\"#636363\",\"#636363\",\"#636363\",\"#636363\",\"#636363\",\"#636363\",\"#969696\",\"#969696\",\"#969696\",\"#969696\",\"#969696\",\"#969696\",\"#969696\",\"#969696\",\"#969696\",\"#969696\",\"#969696\",\"#969696\",\"#969696\",\"#bdbdbd\",\"#bdbdbd\",\"#bdbdbd\",\"#bdbdbd\",\"#bdbdbd\",\"#bdbdbd\",\"#bdbdbd\",\"#bdbdbd\",\"#bdbdbd\",\"#bdbdbd\",\"#bdbdbd\",\"#bdbdbd\",\"#bdbdbd\",\"#d9d9d9\",\"#d9d9d9\",\"#d9d9d9\",\"#d9d9d9\",\"#d9d9d9\",\"#d9d9d9\",\"#d9d9d9\",\"#d9d9d9\",\"#d9d9d9\",\"#d9d9d9\",\"#d9d9d9\",\"#d9d9d9\",\"#d9d9d9\"],\"low\":4,\"high\":197}}},\"fill_color\":{\"type\":\"field\",\"field\":\"edge_color\",\"transform\":{\"id\":\"p1223\"}},\"fill_alpha\":{\"type\":\"value\",\"value\":0.6}}},\"selection_glyph\":{\"type\":\"object\",\"name\":\"Patches\",\"id\":\"p1262\",\"attributes\":{\"xs\":{\"type\":\"field\",\"field\":\"xs\"},\"ys\":{\"type\":\"field\",\"field\":\"ys\"},\"line_color\":{\"type\":\"field\",\"field\":\"edge_color\",\"transform\":{\"id\":\"p1223\"}},\"fill_color\":{\"type\":\"field\",\"field\":\"edge_color\",\"transform\":{\"id\":\"p1223\"}},\"fill_alpha\":{\"type\":\"value\",\"value\":0.6}}},\"nonselection_glyph\":{\"type\":\"object\",\"name\":\"Patches\",\"id\":\"p1263\",\"attributes\":{\"xs\":{\"type\":\"field\",\"field\":\"xs\"},\"ys\":{\"type\":\"field\",\"field\":\"ys\"},\"line_color\":{\"type\":\"field\",\"field\":\"edge_color\",\"transform\":{\"id\":\"p1223\"}},\"line_alpha\":{\"type\":\"value\",\"value\":0.2},\"fill_color\":{\"type\":\"field\",\"field\":\"edge_color\",\"transform\":{\"id\":\"p1223\"}},\"fill_alpha\":{\"type\":\"value\",\"value\":0.2}}},\"hover_glyph\":{\"type\":\"object\",\"name\":\"Patches\",\"id\":\"p1264\",\"attributes\":{\"xs\":{\"type\":\"field\",\"field\":\"xs\"},\"ys\":{\"type\":\"field\",\"field\":\"ys\"},\"line_color\":{\"type\":\"field\",\"field\":\"edge_color\",\"transform\":{\"id\":\"p1223\"}},\"line_alpha\":{\"type\":\"value\",\"value\":0.9},\"fill_color\":{\"type\":\"field\",\"field\":\"edge_color\",\"transform\":{\"id\":\"p1223\"}},\"fill_alpha\":{\"type\":\"value\",\"value\":0.9}}},\"muted_glyph\":{\"type\":\"object\",\"name\":\"Patches\",\"id\":\"p1265\",\"attributes\":{\"xs\":{\"type\":\"field\",\"field\":\"xs\"},\"ys\":{\"type\":\"field\",\"field\":\"ys\"},\"line_color\":{\"type\":\"field\",\"field\":\"edge_color\",\"transform\":{\"id\":\"p1223\"}},\"fill_color\":{\"type\":\"field\",\"field\":\"edge_color\",\"transform\":{\"id\":\"p1223\"}},\"fill_alpha\":{\"type\":\"value\",\"value\":0.6}}}}},\"selection_policy\":{\"type\":\"object\",\"name\":\"NodesAndLinkedEdges\",\"id\":\"p1266\"},\"inspection_policy\":{\"type\":\"object\",\"name\":\"EdgesAndLinkedNodes\",\"id\":\"p1267\"}}},{\"type\":\"object\",\"name\":\"GlyphRenderer\",\"id\":\"p1279\",\"attributes\":{\"data_source\":{\"id\":\"p1220\"},\"view\":{\"id\":\"p1234\"},\"glyph\":{\"type\":\"object\",\"name\":\"Quad\",\"id\":\"p1274\",\"attributes\":{\"left\":{\"type\":\"field\",\"field\":\"x0\"},\"right\":{\"type\":\"field\",\"field\":\"x1\"},\"bottom\":{\"type\":\"field\",\"field\":\"y0\"},\"top\":{\"type\":\"field\",\"field\":\"y1\"},\"fill_color\":{\"type\":\"field\",\"field\":\"index\",\"transform\":{\"id\":\"p1219\"}}}},\"selection_glyph\":{\"type\":\"object\",\"name\":\"Quad\",\"id\":\"p1276\",\"attributes\":{\"left\":{\"type\":\"field\",\"field\":\"x0\"},\"right\":{\"type\":\"field\",\"field\":\"x1\"},\"bottom\":{\"type\":\"field\",\"field\":\"y0\"},\"top\":{\"type\":\"field\",\"field\":\"y1\"},\"fill_color\":{\"type\":\"field\",\"field\":\"index\",\"transform\":{\"id\":\"p1219\"}}}},\"nonselection_glyph\":{\"type\":\"object\",\"name\":\"Quad\",\"id\":\"p1275\",\"attributes\":{\"left\":{\"type\":\"field\",\"field\":\"x0\"},\"right\":{\"type\":\"field\",\"field\":\"x1\"},\"bottom\":{\"type\":\"field\",\"field\":\"y0\"},\"top\":{\"type\":\"field\",\"field\":\"y1\"},\"line_alpha\":{\"type\":\"value\",\"value\":0.2},\"fill_color\":{\"type\":\"field\",\"field\":\"index\",\"transform\":{\"id\":\"p1219\"}},\"fill_alpha\":{\"type\":\"value\",\"value\":0.2},\"hatch_alpha\":{\"type\":\"value\",\"value\":0.2}}},\"hover_glyph\":{\"type\":\"object\",\"name\":\"Quad\",\"id\":\"p1277\",\"attributes\":{\"left\":{\"type\":\"field\",\"field\":\"x0\"},\"right\":{\"type\":\"field\",\"field\":\"x1\"},\"bottom\":{\"type\":\"field\",\"field\":\"y0\"},\"top\":{\"type\":\"field\",\"field\":\"y1\"},\"fill_color\":{\"type\":\"field\",\"field\":\"index\",\"transform\":{\"id\":\"p1219\"}}}},\"muted_glyph\":{\"type\":\"object\",\"name\":\"Quad\",\"id\":\"p1278\",\"attributes\":{\"left\":{\"type\":\"field\",\"field\":\"x0\"},\"right\":{\"type\":\"field\",\"field\":\"x1\"},\"bottom\":{\"type\":\"field\",\"field\":\"y0\"},\"top\":{\"type\":\"field\",\"field\":\"y1\"},\"line_alpha\":{\"type\":\"value\",\"value\":0.2},\"fill_color\":{\"type\":\"field\",\"field\":\"index\",\"transform\":{\"id\":\"p1219\"}},\"fill_alpha\":{\"type\":\"value\",\"value\":0.2},\"hatch_alpha\":{\"type\":\"value\",\"value\":0.2}}}}},{\"type\":\"object\",\"name\":\"GlyphRenderer\",\"id\":\"p1291\",\"attributes\":{\"data_source\":{\"type\":\"object\",\"name\":\"ColumnDataSource\",\"id\":\"p1282\",\"attributes\":{\"selected\":{\"type\":\"object\",\"name\":\"Selection\",\"id\":\"p1283\",\"attributes\":{\"indices\":[],\"line_indices\":[]}},\"selection_policy\":{\"type\":\"object\",\"name\":\"UnionRenderers\",\"id\":\"p1284\"},\"data\":{\"type\":\"map\",\"entries\":[[\"x\",{\"type\":\"ndarray\",\"array\":{\"type\":\"bytes\",\"data\":\"AAAAAAAADsAAAAAAAAAOwAAAAAAAAA7AAAAAAAAADsAAAAAAAAAOwAAAAAAAqo5AAAAAAACqjkAAAAAAAKqOQAAAAAAAqo5AAAAAAACqjkA=\"},\"shape\":[10],\"dtype\":\"float64\",\"order\":\"little\"}],[\"y\",{\"type\":\"ndarray\",\"array\":{\"type\":\"bytes\",\"data\":\"4C9mS1bpSEDsUfk6D8tkQGYbJhg/4XBApvvFT9LefEADONSTtNd2QM7HtaFi+ERAA9YhHpbRYUDSWhjL6I9uQJxNtcau13xAfLApceQ1dkA=\"},\"shape\":[10],\"dtype\":\"float64\",\"order\":\"little\"}],[\"text\",[\"ACC Origin - 335\",\"Big 12 Origin - 314\",\"Big Ten Origin - 249\",\"Pac-12 Origin - 256\",\"SEC Origin - 258\",\"ACC Desitination - 282\",\"Big 12 Desitination - 260\",\"Big Ten Desitination - 291\",\"Pac-12 Desitination - 259\",\"SEC Desitination - 320\"]]]}}},\"view\":{\"type\":\"object\",\"name\":\"CDSView\",\"id\":\"p1292\",\"attributes\":{\"filter\":{\"type\":\"object\",\"name\":\"AllIndices\",\"id\":\"p1293\"}}},\"glyph\":{\"type\":\"object\",\"name\":\"Text\",\"id\":\"p1288\",\"attributes\":{\"x\":{\"type\":\"field\",\"field\":\"x\"},\"y\":{\"type\":\"field\",\"field\":\"y\"},\"text\":{\"type\":\"field\",\"field\":\"text\"},\"text_color\":{\"type\":\"value\",\"value\":\"black\"},\"text_font_size\":{\"type\":\"value\",\"value\":\"8pt\"},\"text_align\":{\"type\":\"value\",\"value\":\"right\"},\"text_baseline\":{\"type\":\"value\",\"value\":\"middle\"}}},\"selection_glyph\":{\"type\":\"object\",\"name\":\"Text\",\"id\":\"p1294\",\"attributes\":{\"x\":{\"type\":\"field\",\"field\":\"x\"},\"y\":{\"type\":\"field\",\"field\":\"y\"},\"text\":{\"type\":\"field\",\"field\":\"text\"},\"angle\":{\"type\":\"value\",\"value\":0},\"x_offset\":{\"type\":\"value\",\"value\":0},\"y_offset\":{\"type\":\"value\",\"value\":0},\"text_color\":{\"type\":\"value\",\"value\":\"black\"},\"text_outline_color\":{\"type\":\"value\",\"value\":null},\"text_alpha\":{\"type\":\"value\",\"value\":1.0},\"text_font_size\":{\"type\":\"value\",\"value\":\"8pt\"},\"text_font_style\":{\"type\":\"value\",\"value\":\"normal\"},\"text_align\":{\"type\":\"value\",\"value\":\"right\"},\"text_baseline\":{\"type\":\"value\",\"value\":\"middle\"},\"text_line_height\":{\"type\":\"value\",\"value\":1.2},\"background_fill_color\":{\"type\":\"value\",\"value\":null},\"background_fill_alpha\":{\"type\":\"value\",\"value\":1.0},\"background_hatch_color\":{\"type\":\"value\",\"value\":null},\"background_hatch_alpha\":{\"type\":\"value\",\"value\":1.0},\"background_hatch_scale\":{\"type\":\"value\",\"value\":12.0},\"background_hatch_pattern\":{\"type\":\"value\",\"value\":null},\"background_hatch_weight\":{\"type\":\"value\",\"value\":1.0},\"border_line_color\":{\"type\":\"value\",\"value\":null},\"border_line_alpha\":{\"type\":\"value\",\"value\":1.0},\"border_line_width\":{\"type\":\"value\",\"value\":1},\"border_line_join\":{\"type\":\"value\",\"value\":\"bevel\"},\"border_line_cap\":{\"type\":\"value\",\"value\":\"butt\"},\"border_line_dash\":{\"type\":\"value\",\"value\":[]},\"border_line_dash_offset\":{\"type\":\"value\",\"value\":0}}},\"nonselection_glyph\":{\"type\":\"object\",\"name\":\"Text\",\"id\":\"p1289\",\"attributes\":{\"x\":{\"type\":\"field\",\"field\":\"x\"},\"y\":{\"type\":\"field\",\"field\":\"y\"},\"text\":{\"type\":\"field\",\"field\":\"text\"},\"text_color\":{\"type\":\"value\",\"value\":\"black\"},\"text_alpha\":{\"type\":\"value\",\"value\":0.1},\"text_font_size\":{\"type\":\"value\",\"value\":\"8pt\"},\"text_align\":{\"type\":\"value\",\"value\":\"right\"},\"text_baseline\":{\"type\":\"value\",\"value\":\"middle\"}}},\"muted_glyph\":{\"type\":\"object\",\"name\":\"Text\",\"id\":\"p1290\",\"attributes\":{\"x\":{\"type\":\"field\",\"field\":\"x\"},\"y\":{\"type\":\"field\",\"field\":\"y\"},\"text\":{\"type\":\"field\",\"field\":\"text\"},\"text_color\":{\"type\":\"value\",\"value\":\"black\"},\"text_alpha\":{\"type\":\"value\",\"value\":0.2},\"text_font_size\":{\"type\":\"value\",\"value\":\"8pt\"},\"text_align\":{\"type\":\"value\",\"value\":\"right\"},\"text_baseline\":{\"type\":\"value\",\"value\":\"middle\"}}}}}],\"toolbar\":{\"type\":\"object\",\"name\":\"Toolbar\",\"id\":\"p1200\",\"attributes\":{\"tools\":[{\"type\":\"object\",\"name\":\"WheelZoomTool\",\"id\":\"p1189\",\"attributes\":{\"tags\":[\"hv_created\"],\"zoom_together\":\"none\"}},{\"type\":\"object\",\"name\":\"HoverTool\",\"id\":\"p1190\",\"attributes\":{\"tags\":[\"hv_created\"],\"renderers\":[{\"id\":\"p1244\"}],\"tooltips\":[[\"orig_conf\",\"@{orig_conf}\"],[\"comm_conf\",\"@{comm_conf}\"],[\"count\",\"@{count}\"]]}},{\"type\":\"object\",\"name\":\"SaveTool\",\"id\":\"p1213\"},{\"type\":\"object\",\"name\":\"PanTool\",\"id\":\"p1214\"},{\"type\":\"object\",\"name\":\"BoxZoomTool\",\"id\":\"p1215\",\"attributes\":{\"overlay\":{\"type\":\"object\",\"name\":\"BoxAnnotation\",\"id\":\"p1216\",\"attributes\":{\"syncable\":false,\"level\":\"overlay\",\"visible\":false,\"left_units\":\"canvas\",\"right_units\":\"canvas\",\"bottom_units\":\"canvas\",\"top_units\":\"canvas\",\"line_color\":\"black\",\"line_alpha\":1.0,\"line_width\":2,\"line_dash\":[4,4],\"fill_color\":\"lightgrey\",\"fill_alpha\":0.5}}}},{\"type\":\"object\",\"name\":\"ResetTool\",\"id\":\"p1217\"},{\"type\":\"object\",\"name\":\"TapTool\",\"id\":\"p1218\",\"attributes\":{\"renderers\":\"auto\"}}],\"active_drag\":{\"id\":\"p1214\"},\"active_scroll\":{\"id\":\"p1189\"}}},\"left\":[{\"type\":\"object\",\"name\":\"LinearAxis\",\"id\":\"p1208\",\"attributes\":{\"visible\":false,\"ticker\":{\"type\":\"object\",\"name\":\"BasicTicker\",\"id\":\"p1209\",\"attributes\":{\"mantissas\":[1,2,5]}},\"formatter\":{\"type\":\"object\",\"name\":\"BasicTickFormatter\",\"id\":\"p1210\"},\"axis_label\":\"y\",\"major_label_policy\":{\"type\":\"object\",\"name\":\"AllLabels\",\"id\":\"p1211\"}}}],\"below\":[{\"type\":\"object\",\"name\":\"LinearAxis\",\"id\":\"p1203\",\"attributes\":{\"visible\":false,\"ticker\":{\"type\":\"object\",\"name\":\"BasicTicker\",\"id\":\"p1204\",\"attributes\":{\"mantissas\":[1,2,5]}},\"formatter\":{\"type\":\"object\",\"name\":\"BasicTickFormatter\",\"id\":\"p1205\"},\"axis_label\":\"x\",\"major_label_policy\":{\"type\":\"object\",\"name\":\"AllLabels\",\"id\":\"p1206\"}}}],\"center\":[{\"type\":\"object\",\"name\":\"Grid\",\"id\":\"p1207\",\"attributes\":{\"axis\":{\"id\":\"p1203\"},\"grid_line_color\":null}},{\"type\":\"object\",\"name\":\"Grid\",\"id\":\"p1212\",\"attributes\":{\"dimension\":1,\"axis\":{\"id\":\"p1208\"},\"grid_line_color\":null}}],\"min_border_top\":10,\"min_border_bottom\":10,\"min_border_left\":10,\"min_border_right\":10,\"output_backend\":\"webgl\"}},{\"type\":\"object\",\"name\":\"Spacer\",\"id\":\"p1296\",\"attributes\":{\"name\":\"HSpacer01639\",\"stylesheets\":[\"\\n:host(.pn-loading.pn-arc):before, .pn-loading.pn-arc:before {\\n  background-image: url(\\\"data:image/svg+xml;base64,PHN2ZyB4bWxucz0iaHR0cDovL3d3dy53My5vcmcvMjAwMC9zdmciIHN0eWxlPSJtYXJnaW46IGF1dG87IGJhY2tncm91bmQ6IG5vbmU7IGRpc3BsYXk6IGJsb2NrOyBzaGFwZS1yZW5kZXJpbmc6IGF1dG87IiB2aWV3Qm94PSIwIDAgMTAwIDEwMCIgcHJlc2VydmVBc3BlY3RSYXRpbz0ieE1pZFlNaWQiPiAgPGNpcmNsZSBjeD0iNTAiIGN5PSI1MCIgZmlsbD0ibm9uZSIgc3Ryb2tlPSIjYzNjM2MzIiBzdHJva2Utd2lkdGg9IjEwIiByPSIzNSIgc3Ryb2tlLWRhc2hhcnJheT0iMTY0LjkzMzYxNDMxMzQ2NDE1IDU2Ljk3Nzg3MTQzNzgyMTM4Ij4gICAgPGFuaW1hdGVUcmFuc2Zvcm0gYXR0cmlidXRlTmFtZT0idHJhbnNmb3JtIiB0eXBlPSJyb3RhdGUiIHJlcGVhdENvdW50PSJpbmRlZmluaXRlIiBkdXI9IjFzIiB2YWx1ZXM9IjAgNTAgNTA7MzYwIDUwIDUwIiBrZXlUaW1lcz0iMDsxIj48L2FuaW1hdGVUcmFuc2Zvcm0+ICA8L2NpcmNsZT48L3N2Zz4=\\\");\\n  background-size: auto calc(min(50%, 400px));\\n}\",{\"id\":\"p1182\"},{\"id\":\"p1180\"},{\"id\":\"p1181\"}],\"margin\":0,\"sizing_mode\":\"stretch_width\",\"align\":\"start\"}}]}}],\"defs\":[{\"type\":\"model\",\"name\":\"ReactiveHTML1\"},{\"type\":\"model\",\"name\":\"FlexBox1\",\"properties\":[{\"name\":\"align_content\",\"kind\":\"Any\",\"default\":\"flex-start\"},{\"name\":\"align_items\",\"kind\":\"Any\",\"default\":\"flex-start\"},{\"name\":\"flex_direction\",\"kind\":\"Any\",\"default\":\"row\"},{\"name\":\"flex_wrap\",\"kind\":\"Any\",\"default\":\"wrap\"},{\"name\":\"justify_content\",\"kind\":\"Any\",\"default\":\"flex-start\"}]},{\"type\":\"model\",\"name\":\"FloatPanel1\",\"properties\":[{\"name\":\"config\",\"kind\":\"Any\",\"default\":{\"type\":\"map\"}},{\"name\":\"contained\",\"kind\":\"Any\",\"default\":true},{\"name\":\"position\",\"kind\":\"Any\",\"default\":\"right-top\"},{\"name\":\"offsetx\",\"kind\":\"Any\",\"default\":null},{\"name\":\"offsety\",\"kind\":\"Any\",\"default\":null},{\"name\":\"theme\",\"kind\":\"Any\",\"default\":\"primary\"},{\"name\":\"status\",\"kind\":\"Any\",\"default\":\"normalized\"}]},{\"type\":\"model\",\"name\":\"GridStack1\",\"properties\":[{\"name\":\"mode\",\"kind\":\"Any\",\"default\":\"warn\"},{\"name\":\"ncols\",\"kind\":\"Any\",\"default\":null},{\"name\":\"nrows\",\"kind\":\"Any\",\"default\":null},{\"name\":\"allow_resize\",\"kind\":\"Any\",\"default\":true},{\"name\":\"allow_drag\",\"kind\":\"Any\",\"default\":true},{\"name\":\"state\",\"kind\":\"Any\",\"default\":[]}]},{\"type\":\"model\",\"name\":\"drag1\",\"properties\":[{\"name\":\"slider_width\",\"kind\":\"Any\",\"default\":5},{\"name\":\"slider_color\",\"kind\":\"Any\",\"default\":\"black\"},{\"name\":\"value\",\"kind\":\"Any\",\"default\":50}]},{\"type\":\"model\",\"name\":\"click1\",\"properties\":[{\"name\":\"terminal_output\",\"kind\":\"Any\",\"default\":\"\"},{\"name\":\"debug_name\",\"kind\":\"Any\",\"default\":\"\"},{\"name\":\"clears\",\"kind\":\"Any\",\"default\":0}]},{\"type\":\"model\",\"name\":\"FastWrapper1\",\"properties\":[{\"name\":\"object\",\"kind\":\"Any\",\"default\":null},{\"name\":\"style\",\"kind\":\"Any\",\"default\":null}]},{\"type\":\"model\",\"name\":\"NotificationAreaBase1\",\"properties\":[{\"name\":\"js_events\",\"kind\":\"Any\",\"default\":{\"type\":\"map\"}},{\"name\":\"position\",\"kind\":\"Any\",\"default\":\"bottom-right\"},{\"name\":\"_clear\",\"kind\":\"Any\",\"default\":0}]},{\"type\":\"model\",\"name\":\"NotificationArea1\",\"properties\":[{\"name\":\"js_events\",\"kind\":\"Any\",\"default\":{\"type\":\"map\"}},{\"name\":\"notifications\",\"kind\":\"Any\",\"default\":[]},{\"name\":\"position\",\"kind\":\"Any\",\"default\":\"bottom-right\"},{\"name\":\"_clear\",\"kind\":\"Any\",\"default\":0},{\"name\":\"types\",\"kind\":\"Any\",\"default\":[{\"type\":\"map\",\"entries\":[[\"type\",\"warning\"],[\"background\",\"#ffc107\"],[\"icon\",{\"type\":\"map\",\"entries\":[[\"className\",\"fas fa-exclamation-triangle\"],[\"tagName\",\"i\"],[\"color\",\"white\"]]}]]},{\"type\":\"map\",\"entries\":[[\"type\",\"info\"],[\"background\",\"#007bff\"],[\"icon\",{\"type\":\"map\",\"entries\":[[\"className\",\"fas fa-info-circle\"],[\"tagName\",\"i\"],[\"color\",\"white\"]]}]]}]}]},{\"type\":\"model\",\"name\":\"Notification\",\"properties\":[{\"name\":\"background\",\"kind\":\"Any\",\"default\":null},{\"name\":\"duration\",\"kind\":\"Any\",\"default\":3000},{\"name\":\"icon\",\"kind\":\"Any\",\"default\":null},{\"name\":\"message\",\"kind\":\"Any\",\"default\":\"\"},{\"name\":\"notification_type\",\"kind\":\"Any\",\"default\":null},{\"name\":\"_destroyed\",\"kind\":\"Any\",\"default\":false}]},{\"type\":\"model\",\"name\":\"TemplateActions1\",\"properties\":[{\"name\":\"open_modal\",\"kind\":\"Any\",\"default\":0},{\"name\":\"close_modal\",\"kind\":\"Any\",\"default\":0}]},{\"type\":\"model\",\"name\":\"BootstrapTemplateActions1\",\"properties\":[{\"name\":\"open_modal\",\"kind\":\"Any\",\"default\":0},{\"name\":\"close_modal\",\"kind\":\"Any\",\"default\":0}]},{\"type\":\"model\",\"name\":\"MaterialTemplateActions1\",\"properties\":[{\"name\":\"open_modal\",\"kind\":\"Any\",\"default\":0},{\"name\":\"close_modal\",\"kind\":\"Any\",\"default\":0}]}]}};\n",
       "  var render_items = [{\"docid\":\"54d211b9-2739-4e43-85ca-392bef9a2573\",\"roots\":{\"p1179\":\"f7fafdd6-abe3-459d-8a50-676742cbd2d3\"},\"root_ids\":[\"p1179\"]}];\n",
       "  var docs = Object.values(docs_json)\n",
       "  if (!docs) {\n",
       "    return\n",
       "  }\n",
       "  const py_version = docs[0].version.replace('rc', '-rc.').replace('.dev', '-dev.')\n",
       "  const is_dev = py_version.indexOf(\"+\") !== -1 || py_version.indexOf(\"-\") !== -1\n",
       "  function embed_document(root) {\n",
       "    var Bokeh = get_bokeh(root)\n",
       "    Bokeh.embed.embed_items_notebook(docs_json, render_items);\n",
       "    for (const render_item of render_items) {\n",
       "      for (const root_id of render_item.root_ids) {\n",
       "\tconst id_el = document.getElementById(root_id)\n",
       "\tif (id_el.children.length && (id_el.children[0].className === 'bk-root')) {\n",
       "\t  const root_el = id_el.children[0]\n",
       "\t  root_el.id = root_el.id + '-rendered'\n",
       "\t}\n",
       "      }\n",
       "    }\n",
       "  }\n",
       "  function get_bokeh(root) {\n",
       "    if (root.Bokeh === undefined) {\n",
       "      return null\n",
       "    } else if (root.Bokeh.version !== py_version && !is_dev) {\n",
       "      if (root.Bokeh.versions === undefined || !root.Bokeh.versions.has(py_version)) {\n",
       "\treturn null\n",
       "      }\n",
       "      return root.Bokeh.versions.get(py_version);\n",
       "    } else if (root.Bokeh.version === py_version) {\n",
       "      return root.Bokeh\n",
       "    }\n",
       "    return null\n",
       "  }\n",
       "  function is_loaded(root) {\n",
       "    var Bokeh = get_bokeh(root)\n",
       "    return (Bokeh != null && Bokeh.Panel !== undefined)\n",
       "  }\n",
       "  if (is_loaded(root)) {\n",
       "    embed_document(root);\n",
       "  } else {\n",
       "    var attempts = 0;\n",
       "    var timer = setInterval(function(root) {\n",
       "      if (is_loaded(root)) {\n",
       "        clearInterval(timer);\n",
       "        embed_document(root);\n",
       "      } else if (document.readyState == \"complete\") {\n",
       "        attempts++;\n",
       "        if (attempts > 200) {\n",
       "          clearInterval(timer);\n",
       "\t  var Bokeh = get_bokeh(root)\n",
       "\t  if (Bokeh == null || Bokeh.Panel == null) {\n",
       "            console.warn(\"Panel: ERROR: Unable to run Panel code because Bokeh or Panel library is missing\");\n",
       "\t  } else {\n",
       "\t    console.warn(\"Panel: WARNING: Attempting to render but not all required libraries could be resolved.\")\n",
       "\t    embed_document(root)\n",
       "\t  }\n",
       "        }\n",
       "      }\n",
       "    }, 25, root)\n",
       "  }\n",
       "})(window);</script>"
      ],
      "text/plain": [
       ":Sankey   [orig_conf,comm_conf]   (count)"
      ]
     },
     "execution_count": 35,
     "metadata": {
      "application/vnd.holoviews_exec.v0+json": {
       "id": "p1179"
      }
     },
     "output_type": "execute_result"
    }
   ],
   "source": [
    "# Sankey Tutorial :\n",
    "# https://medium.com/@cbkwgl/sankey-diagrams-in-python-fc9673465ccb\n",
    "\n",
    "import pandas as pd\n",
    "import holoviews as hv\n",
    "\n",
    "hv.extension('bokeh')\n",
    "# edges = pd.read_csv('data/health-breakup2.csv')\n",
    "sankey = hv.Sankey(df_sanky, label='A Breakout of Where Recruits Come From and Where They Commit')\n",
    "sankey.opts(label_position='left', edge_color='count', node_color='orig_conf', cmap='Category20c', width =800, height = 600)"
   ]
  },
  {
   "cell_type": "code",
   "execution_count": null,
   "metadata": {},
   "outputs": [],
   "source": []
  }
 ],
 "metadata": {
  "kernelspec": {
   "display_name": "base",
   "language": "python",
   "name": "python3"
  },
  "language_info": {
   "codemirror_mode": {
    "name": "ipython",
    "version": 3
   },
   "file_extension": ".py",
   "mimetype": "text/x-python",
   "name": "python",
   "nbconvert_exporter": "python",
   "pygments_lexer": "ipython3",
   "version": "3.11.5"
  }
 },
 "nbformat": 4,
 "nbformat_minor": 2
}
